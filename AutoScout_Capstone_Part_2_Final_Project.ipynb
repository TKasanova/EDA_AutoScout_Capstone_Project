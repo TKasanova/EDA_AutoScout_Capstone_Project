{
 "cells": [
  {
   "cell_type": "markdown",
   "metadata": {},
   "source": [
    "\n",
    "# <p style=\"background-color:  #00008B; font-family:newtimeroman;font-size:180%;color:#FFF9ED;text-align:center;border-radius:80px 20px;\"><b> The Exploratory Data Analysis (EDA) Project<img  style=\"width: 70x;\"  style=\"position: absolute; right: 5px; top: 60%; transform: translateY(-70%);\"> </div> \n",
    "\n",
    "<p style=\"text-align: center;\"><img src=\"01.jpg\" style=\"width: 200%; height: 300px; object-fit: cover;\">\n",
    "</p>\n",
    "\n",
    "## <p style=\"background-color:#FDFEFE; font-family:newtimeroman; color:darkblue; font-size:200%; text-align:center; border-radius:10px 10px;\">AutoScout Car Price Prediction EDA</p>\n"
   ]
  },
  {
   "cell_type": "markdown",
   "metadata": {},
   "source": [
    "## Introduction\n",
    "Welcome to \"***AutoScout Exploratory Data Analysis (EDA) Project***\".  **Auto Scout** data used in this project scraped from the Website of an online car trading company in 2022, and contains many features of 13 different car makes including 594 models. In this project, you will have the opportunity to apply many commonly used algorithms for Data Cleaning and Exploratory Data Analysis by using a variety of Python libraries, such as Numpy, Pandas, Matplotlib, Seaborn, Plotly  Scipy, and then you will get a clean dataset for your analysis and pretictive modelling in Machine Learning Path.\n",
    "\n",
    "**``In this context, the project consists of 3 parts in general:``**\n",
    "* **The first part** is related to ``'Data Cleaning'``. It deals with Incorrect Headers, Incorrect Format, Anomalies, and Dropping useless columns.\n",
    "* **The second part** is related to ``'Filling Data'``, in other words 'Imputation'. It deals with Missing Values. Categorical to numeric transformation, Encoding, is done as well.\n",
    "* **The third part** is related to ``'Handling Outliers of Data'`` via Visualization libraries. So, some insights will be extracted.\n",
    "\n",
    "###  Exploratory data analysis (EDA)\n",
    "\n",
    "Exploratory data analysis (EDA) is an especially important activity in the routine of a data analyst or scientist. It enables an in depth understanding of the dataset, define or discard hypotheses and create predictive models on a solid basis. It uses data manipulation techniques and several statistical tools to describe and understand the relationship between variables and how these can impact business. By means of EDA, we can obtain meaningful insights that can impact analysis under the following questions (If a checklist is good enough for pilots to use every flight, it’s good enough for data scientists to use with every dataset).\n",
    "1. What question are you trying to solve (or prove wrong)?\n",
    "2. What kind of data do you have?\n",
    "3. What’s missing from the data?\n",
    "4. Where are the outliers?\n",
    "5. How can you add, change or remove features to get more out of your data?\n",
    "\n"
   ]
  },
  {
   "cell_type": "markdown",
   "metadata": {},
   "source": [
    "<p style=\"background-color: darkblue; font-family: newtimeroman; font-size: 250%; color: #FFF9ED; border-radius: 80px 20px; padding: 25px; text-align: center;\"> <b> AutoScout Exploratory Data Analysis (EDA) \n",
    "    Project</b>\n",
    "<img src=\"11.jpg\" style=\"width: 150px; vertical-align: left; margin-left: 20px; float:right;\" >\n",
    "<span style=\"display: inline-block; width: calc(80% - 20px); text-align: center;\"></span> \n",
    "\n",
    "</p>\n"
   ]
  },
  {
   "cell_type": "markdown",
   "metadata": {},
   "source": [
    "<ul class=\"nav flex-column\">\n",
    "  <h3 class=\"list-group-item list-group-item-action active\" data-toggle=\"list\" role=\"tab\" aria-controls=\"home\" style=\"background-color:darkgreen; color:white\"><b>AutoScout Exploratory Data Analysis (EDA) Project</b></h3>\n",
    "  <li class=\"nav-item\">\n",
    "    <a class=\"nav-link active\" style=\"background-color:; color:Blue\" href=\"https://github.com/TKasanova/AutoScout_Capstone_Project/blob/main/AutoScout_Capstone_Part_1_Final_Project.ipynb\" role=\"tab\"><b>Part - 1 - Data Cleaning</b></a>\n",
    "  </li>\n",
    "  <li class=\"nav-item\">\n",
    "    <a class=\"nav-link\" style=\"background-color:; color:black\" href=\"https://github.com/TKasanova/AutoScout_Capstone_Project/blob/main/AutoScout_Capstone_Part_2_Final_Project.ipynb\"><b>Part - 2 - Handling With Missing Values</b></a>\n",
    "  </li>\n",
    "  <li class=\"nav-item\">\n",
    "    <a class=\"nav-link\" style=\"background-color:; color:red\" href=\"https://github.com/TKasanova/AutoScout_Capstone_Project/blob/main/AutoScout_Capstone_Part_3_Final_Project.ipynb\"><b>Part - 3 - Handling With Outliers</b></a>\n",
    "  </li>\n",
    "    <li class=\"nav-item\">\n",
    "    <a class=\"nav-link\" style=\"background-color:; color:blue\" href=\"https://github.com/TKasanova/EDA_Car_projects\"><b>Analysis of the Dataset</b></a>\n",
    "  </li>  \n",
    "  <li class=\"nav-item\">\n",
    "    <a class=\"nav-link\" style=\"background-color:; color:green\" href=\"https://www.linkedin.com/in/tahirakasanova/\"><b>Linkedin Account</b></a>\n",
    "  </li>\n",
    "</ul>\n"
   ]
  },
  {
   "cell_type": "markdown",
   "metadata": {},
   "source": [
    "# <p style=\"background-color:darkgreen; font-family:newtimeroman;color:#FFF9ED; font-size:150%; text-align:center; border-radius: 15px 50px;\">  PART - 2 ( Handling With Missing Values ) </p>\n"
   ]
  },
  {
   "cell_type": "markdown",
   "metadata": {},
   "source": [
    "<a id=\"toc\"></a>\n",
    "\n",
    "<div style=\"border-radius: 10px;\n",
    "            border: black solid;\n",
    "            background-color: lightgrey;\n",
    "            font-size: 100%;\n",
    "            text-align: left;\n",
    "            box-shadow: 2px 2px 4px rgba(0, 0, 0, 0.5);\">\n",
    "\n",
    "<h2 style=\"border: 0; border-radius: 15px; font-weight: bold; font-size: 220%; color: blue\"><center> Content </center></h2>  \n",
    "\n",
    "<div>\n",
    "  <ul>\n",
    "    <li><a href=\"#0\">DATASET EXPLANATION</a></li>\n",
    "    <li><a href=\"#1\">EXPLANATION OF THE VARIABLES</a></li>\n",
    "    <li><a href=\"#2\">IMPORTING LIBRARIES NEEDED IN THIS NOTEBOOK</a></li>\n",
    "    <li><a href=\"#3\">READING & UNDERSTANDING THE DATA</a></li>\n",
    "    <li><a href=\"#50\">NAN : MISSING VALUES OR UNKNOWN DATA</a></li>\n",
    "    <li><a href=\"#49\">FEATURE ENGINEERING</a></li>\n",
    "  </ul>\n",
    "</div>\n",
    "\n",
    "    \n",
    "<div style=\"display: flex;\">\n",
    "    <hr style=\"border: none;\n",
    "               height: 2px;\n",
    "               width: 100%;\n",
    "               background-color: linear-gradient(to right, black, blue);\n",
    "               box-shadow: 0px 2px 4px rgba(0, 0, 0, 0.5);\n",
    "               margin-left: 0;\">\n",
    "</div>\n",
    "\n",
    "<div style=\"display: flex; justify-content: center;\">\n",
    "  <ul>\n",
    "    <li><a href=\"#4\">OPERATIONS ON SOME COLUMNS</a></li>\n",
    "  </ul>\n",
    "</div>\n",
    "    \n",
    "<div style=\"display: flex; flex-wrap: wrap; justify-content: center;\">\n",
    "   <div style=\"flex: 0 0 25%; text-align: center; margin-right: 5%;\">\n",
    "        <ul style=\"list-style-type: none; padding-left: 100;\">\n",
    "            <li><a href=\"#5\">POWER</a></li>\n",
    "            <li><a href=\"#6\">ENGINE_SIZE</a></li>\n",
    "            <li><a href=\"#7\">COMFORT_&_CONVENIENCE</a></li>\n",
    "            <li><a href=\"#8\">ENTERTAINMENT_&_MEDIA</a></li>\n",
    "            <li><a href=\"#9\">SAFETY_&_SECURITY</a></li>\n",
    "            <li><a href=\"#10\">EXTRAS</a></li>\n",
    "            <li><a href=\"#11\">SELLER</a></li>\n",
    "            <li><a href=\"#12\">SEATS</a></li>\n",
    "            <li><a href=\"#13\">EMPTY_WEIGHT</a></li>\n",
    "            <li><a href=\"#38\">GEARBOX</a></li> \n",
    "            <li><a href=\"#14\">FUEL_TYPE</a></li>\n",
    "            <li><a href=\"#15\">GEARS</a></li>\n",
    "            <li><a href=\"#16\">FIRST_REGISTRATION</a></li>\n",
    "\n",
    "</ul>\n",
    "</div>\n",
    "    <div style=\"flex: 0 0 25%; text-align: center; margin-right: 5%;\">\n",
    "        <ul style=\"list-style-type: none; padding-left: 5;\">\n",
    "            <li><a href=\"#17\">DOORS</a></li>\n",
    "            <li><a href=\"#18\">DRIVETRAIN</a></li>\n",
    "            <li><a href=\"#19\">COLOUR</a></li>\n",
    "            <li><a href=\"#20\">MANUFACTURER_COLOUR</a></li>\n",
    "            <li><a href=\"#21\">PAINT</a></li>\n",
    "            <li><a href=\"#22\">COUNTRY_VERSION</a></li>\n",
    "            <li><a href=\"#23\">FULL_SERVICE_HISTORY</a></li>\n",
    "            <li><a href=\"#24\">MILEAGE</a></li>\n",
    "            <li><a href=\"#25\">PREVIOUS_OWNER</a></li>\n",
    "            <li><a href=\"#26\">WARRANTY</a></li>\n",
    "            <li><a href=\"#27\">GENERAL_INSEPTION</a></li>\n",
    "            <li><a href=\"#28\">UPHOLSTERY</a></li>\n",
    "            <li><a href=\"#29\">UPHOLSTERY_COLOUR</a></li>\n",
    "\n",
    "</ul>\n",
    "    </div>\n",
    "    <div style=\"flex: 0 0 25%; text-align: center; margin-right: 1%;\">\n",
    "        <ul style=\"list-style-type: none; padding-left: 100;\">\n",
    "            <li><a href=\"#30\">FUEL_CONSUMPTION</a></li>\n",
    "            <li><a href=\"#31\">MAKE_MODEL AND MODEL</a></li>\n",
    "            <li><a href=\"#32\">EMISSION_CLASS</a></li>\n",
    "            <li><a href=\"#33\">EMISSIONS_STICKER</a></li>\n",
    "            <li><a href=\"#34\">CYLINDERS</a></li>\n",
    "        </ul>\n",
    "    </div>\n",
    "</div>\n",
    "    \n",
    "<div style=\"display: flex;\">\n",
    "    <hr style=\"border: none;\n",
    "               height: 2px;\n",
    "               width: 100%;\n",
    "               background-color: linear-gradient(to right, black, blue);\n",
    "               box-shadow: 0px 2px 4px rgba(0, 0, 0, 0.5);\n",
    "               margin-left: 0;\">\n",
    "</div>   \n",
    "    \n",
    "<div>\n",
    "  <ul>\n",
    "    <li><a href=\"#52\">DROP</a></li>\n",
    "    <li><a href=\"#51\">SAVE THE FINAL STATE OF THE DATAFRAME AS A CSV</a></li>\n",
    "    <li><a href=\"#48\">THE END OF THE PART - 2</a></li>\n",
    "  </ul>\n",
    "</div>\n",
    "</div>"
   ]
  },
  {
   "cell_type": "markdown",
   "metadata": {},
   "source": [
    "<a id=\"0\"></a>\n",
    "# <p style=\"background-color:darkblue; font-family:newtimeroman;color:#FFF9ED; font-size:150%; text-align:center; border-radius: 15px 50px;\">  Dataset Explanation </p>\n",
    "<a href=\"#toc\" class=\"btn btn-warning btn-lg active\" role=\"button\" aria-pressed=\"true\" style=\"color:black;\">Content</a>"
   ]
  },
  {
   "cell_type": "markdown",
   "metadata": {},
   "source": [
    "<a id=\"1\"></a>\n",
    "<div style=\"border-radius: 10px;\n",
    "            border: black solid;\n",
    "            background-color: lightgrey;\n",
    "            font-size: 100%;\n",
    "            text-align: left;\n",
    "            box-shadow: 2px 2px 4px rgba(0, 0, 0, 0.5);\">\n",
    "\n",
    "<h2 style=\"border: 0; border-radius: 15px; font-weight: bold; font-size: 220%; color: #FFF9ED\"><center>  Explanation of the Variables </center></h2>\n",
    "    \n",
    "- **make_model**: Vehicle brand and model.\n",
    "- **short_description**: Brief description.\n",
    "- **make**: Vehicle brand.\n",
    "- **model**: Vehicle model.\n",
    "- **location**: Location of the vehicle.\n",
    "- **price**: Price.\n",
    "- **body_type**: Vehicle body type.\n",
    "- **type**: Vehicle type.\n",
    "- **doors**: Number of doors in the vehicle.\n",
    "- **country_version**: Country version of the vehicle.\n",
    "- **offer_number**: Offer number.\n",
    "- **warranty**: Warranty.\n",
    "- **mileage**: Vehicle mileage information.\n",
    "- **first_registration**: First registration date.\n",
    "- **gearbox**: Gearbox type.\n",
    "- **fuel_type**: Fuel type.\n",
    "- **colour**: Vehicle color.\n",
    "- **paint**: Paint type.\n",
    "- **desc**: Description.\n",
    "- **seller**: Seller.\n",
    "- **seats**: Number of seats in the vehicle.\n",
    "- **power**: Engine power.\n",
    "- **engine_size**: Engine size.\n",
    "- **gears**: Number of gears.\n",
    "- **co_emissions**:  CO₂ emissions.\n",
    "- **manufacturer_colour**: Manufacturer color.\n",
    "- **drivetrain**: Drivetrain type.\n",
    "- **cylinders**: Number of cylinders.\n",
    "- **fuel_consumption**: Fuel consumption.\n",
    "- **comfort_&_convenience**: Comfort and convenience features.\n",
    "- **entertainment_&_media**: Entertainment and media features.\n",
    "- **safety_&_security**: Safety and security features.\n",
    "- **extras**: Extra features.\n",
    "- **empty_weight**: Empty weight.\n",
    "- **model_code**: Model code.\n",
    "- **general_inspection**: General inspection.\n",
    "- **last_service**: Last service.\n",
    "- **full_service_history**: Full service history.\n",
    "- **non_smoker_vehicle**: Non-smoker vehicle.\n",
    "- **emission_class**: Emission class.\n",
    "- **emissions_sticker**: Emissions sticker.\n",
    "- **upholstery_colour**: Upholstery color.\n",
    "- **upholstery**: Upholstery.\n",
    "- **production_date**: Production date.\n",
    "- **previous_owner**: Previous owner.\n",
    "- **other_fuel_types**: Other fuel types.\n",
    "- **power_consumption**: Power consumption.\n",
    "- **energy_efficiency_class**: Energy efficiency class.\n",
    "- **co_efficiency**:  CO₂ efficiency.\n",
    "- **fuel_consumption_wltp**: WLTP fuel consumption.\n",
    "- **co_emissions_wltp**: WLTP  CO₂ emissions.\n",
    "- **available_from**: Available from.\n",
    "- **taxi_or_rental_car**: Taxi or rental car.\n",
    "- **availability**: Availability status.\n",
    "- **last_timing_belt_change**: Last timing belt change.\n",
    "- **electric_range_wltp**: WLTP electric range.\n",
    "- **power_consumption_wltp**: WLTP power consumption.\n",
    "- **battery_ownership**: Battery ownership.\n"
   ]
  },
  {
   "cell_type": "markdown",
   "metadata": {},
   "source": [
    "<a id=\"2\"></a>\n",
    "# <p style=\"background-color:darkblue; font-family:newtimeroman;color:#FFF9ED; font-size:150%; text-align:center; border-radius: 15px 50px;\"> Importing Libraries Needed in This Notebook </p>\n",
    "<a href=\"#toc\" class=\"btn btn-warning btn-lg active\" role=\"button\" aria-pressed=\"true\" style=\"color:black;\">Content</a>"
   ]
  },
  {
   "cell_type": "code",
   "execution_count": 1006,
   "metadata": {
    "ExecuteTime": {
     "end_time": "2024-02-28T21:27:03.445354Z",
     "start_time": "2024-02-28T21:27:03.431524Z"
    }
   },
   "outputs": [],
   "source": [
    "from skimpy import clean_columns\n",
    "import pandas as pd\n",
    "import numpy as np\n",
    "import re\n",
    "import matplotlib.pyplot as plt\n",
    "import seaborn as sns\n",
    "\n",
    "import missingno as msno\n",
    "# from zipfile import ZipFile\n",
    "\n",
    "# with ZipFile(\"as24_cars.zip\", \"r\") as file:\n",
    "#     file.extractall()\n",
    "\n",
    "# pip install skimpy\n",
    "# !pip install termcolor\n",
    "\n",
    "# import colorama\n",
    "# from colorama import Fore, Style  # makes strings colored\n",
    "# from termcolor import colored\n",
    "# from termcolor import cprint\n",
    "\n",
    "\n",
    "# import warnings\n",
    "# warnings.filterwarnings(\"ignore\")\n",
    "# warnings.warn(\"this will not show\")\n",
    "\n",
    "# plt.rcParams[\"figure.figsize\"] = (8, 5)\n",
    "\n",
    "# sns.set_style(\"whitegrid\")\n",
    "# pd.set_option('display.float_format', lambda x: '%.3f' % x)\n",
    "\n",
    "# # Set it None to display all rows in the dataframe\n",
    "# # pd.set_option('display.max_rows', None)\n",
    "\n",
    "# # Set it to None to display all columns in the dataframe\n",
    "# pd.set_option('display.max_columns', None)"
   ]
  },
  {
   "cell_type": "code",
   "execution_count": 1007,
   "metadata": {
    "ExecuteTime": {
     "end_time": "2024-02-28T21:27:03.470946Z",
     "start_time": "2024-02-28T21:27:03.451001Z"
    }
   },
   "outputs": [
    {
     "name": "stdout",
     "output_type": "stream",
     "text": [
      "skimpy version: unknown\n",
      "pandas version: 2.1.4\n",
      "numpy version: 1.26.4\n",
      "matplotlib version: 3.8.0\n",
      "seaborn version: 0.13.2\n"
     ]
    }
   ],
   "source": [
    "libraries = ['skimpy', 'pandas', 'numpy', 'matplotlib', 'seaborn']\n",
    "\n",
    "for lib in libraries:\n",
    "    module = __import__(lib)\n",
    "    version = getattr(module, '__version__', 'unknown')\n",
    "    print(f\"{lib} version: {version}\")"
   ]
  },
  {
   "cell_type": "markdown",
   "metadata": {},
   "source": [
    "<a id=\"3\"></a>\n",
    "# <p style=\"background-color:darkblue; font-family:newtimeroman;color:#FFF9ED; font-size:150%; text-align:center; border-radius: 15px 50px;\"> Reading & Understanding Data </p>\n",
    "\n",
    "<a href=\"#toc\" class=\"btn btn-warning btn-lg active\" role=\"button\" aria-pressed=\"true\" style=\"color:black;\">Content</a>"
   ]
  },
  {
   "cell_type": "code",
   "execution_count": 1008,
   "metadata": {
    "ExecuteTime": {
     "end_time": "2024-02-28T21:27:06.308824Z",
     "start_time": "2024-02-28T21:27:03.476544Z"
    }
   },
   "outputs": [
    {
     "data": {
      "text/html": [
       "<div>\n",
       "<style scoped>\n",
       "    .dataframe tbody tr th:only-of-type {\n",
       "        vertical-align: middle;\n",
       "    }\n",
       "\n",
       "    .dataframe tbody tr th {\n",
       "        vertical-align: top;\n",
       "    }\n",
       "\n",
       "    .dataframe thead th {\n",
       "        text-align: right;\n",
       "    }\n",
       "</style>\n",
       "<table border=\"1\" class=\"dataframe\">\n",
       "  <thead>\n",
       "    <tr style=\"text-align: right;\">\n",
       "      <th></th>\n",
       "      <th>18302</th>\n",
       "    </tr>\n",
       "  </thead>\n",
       "  <tbody>\n",
       "    <tr>\n",
       "      <th>make_model</th>\n",
       "      <td>NaN</td>\n",
       "    </tr>\n",
       "    <tr>\n",
       "      <th>short_description</th>\n",
       "      <td>NaN</td>\n",
       "    </tr>\n",
       "    <tr>\n",
       "      <th>make</th>\n",
       "      <td>NaN</td>\n",
       "    </tr>\n",
       "    <tr>\n",
       "      <th>model</th>\n",
       "      <td>NaN</td>\n",
       "    </tr>\n",
       "    <tr>\n",
       "      <th>location</th>\n",
       "      <td>NaN</td>\n",
       "    </tr>\n",
       "    <tr>\n",
       "      <th>price</th>\n",
       "      <td>NaN</td>\n",
       "    </tr>\n",
       "    <tr>\n",
       "      <th>body_type</th>\n",
       "      <td>NaN</td>\n",
       "    </tr>\n",
       "    <tr>\n",
       "      <th>type</th>\n",
       "      <td>NaN</td>\n",
       "    </tr>\n",
       "    <tr>\n",
       "      <th>doors</th>\n",
       "      <td>NaN</td>\n",
       "    </tr>\n",
       "    <tr>\n",
       "      <th>country_version</th>\n",
       "      <td>NaN</td>\n",
       "    </tr>\n",
       "    <tr>\n",
       "      <th>offer_number</th>\n",
       "      <td>NaN</td>\n",
       "    </tr>\n",
       "    <tr>\n",
       "      <th>warranty</th>\n",
       "      <td>NaN</td>\n",
       "    </tr>\n",
       "    <tr>\n",
       "      <th>mileage</th>\n",
       "      <td>NaN</td>\n",
       "    </tr>\n",
       "    <tr>\n",
       "      <th>first_registration</th>\n",
       "      <td>NaN</td>\n",
       "    </tr>\n",
       "    <tr>\n",
       "      <th>gearbox</th>\n",
       "      <td>NaN</td>\n",
       "    </tr>\n",
       "    <tr>\n",
       "      <th>fuel_type</th>\n",
       "      <td>NaN</td>\n",
       "    </tr>\n",
       "    <tr>\n",
       "      <th>colour</th>\n",
       "      <td>NaN</td>\n",
       "    </tr>\n",
       "    <tr>\n",
       "      <th>paint</th>\n",
       "      <td>NaN</td>\n",
       "    </tr>\n",
       "    <tr>\n",
       "      <th>desc</th>\n",
       "      <td>NaN</td>\n",
       "    </tr>\n",
       "    <tr>\n",
       "      <th>seller</th>\n",
       "      <td>NaN</td>\n",
       "    </tr>\n",
       "    <tr>\n",
       "      <th>seats</th>\n",
       "      <td>NaN</td>\n",
       "    </tr>\n",
       "    <tr>\n",
       "      <th>power</th>\n",
       "      <td>NaN</td>\n",
       "    </tr>\n",
       "    <tr>\n",
       "      <th>engine_size</th>\n",
       "      <td>NaN</td>\n",
       "    </tr>\n",
       "    <tr>\n",
       "      <th>gears</th>\n",
       "      <td>NaN</td>\n",
       "    </tr>\n",
       "    <tr>\n",
       "      <th>co_emissions</th>\n",
       "      <td>NaN</td>\n",
       "    </tr>\n",
       "    <tr>\n",
       "      <th>manufacturer_colour</th>\n",
       "      <td>NaN</td>\n",
       "    </tr>\n",
       "    <tr>\n",
       "      <th>drivetrain</th>\n",
       "      <td>NaN</td>\n",
       "    </tr>\n",
       "    <tr>\n",
       "      <th>cylinders</th>\n",
       "      <td>NaN</td>\n",
       "    </tr>\n",
       "    <tr>\n",
       "      <th>fuel_consumption</th>\n",
       "      <td>NaN</td>\n",
       "    </tr>\n",
       "    <tr>\n",
       "      <th>comfort_&amp;_convenience</th>\n",
       "      <td>NaN</td>\n",
       "    </tr>\n",
       "    <tr>\n",
       "      <th>entertainment_&amp;_media</th>\n",
       "      <td>NaN</td>\n",
       "    </tr>\n",
       "    <tr>\n",
       "      <th>safety_&amp;_security</th>\n",
       "      <td>NaN</td>\n",
       "    </tr>\n",
       "    <tr>\n",
       "      <th>extras</th>\n",
       "      <td>NaN</td>\n",
       "    </tr>\n",
       "    <tr>\n",
       "      <th>empty_weight</th>\n",
       "      <td>NaN</td>\n",
       "    </tr>\n",
       "    <tr>\n",
       "      <th>model_code</th>\n",
       "      <td>NaN</td>\n",
       "    </tr>\n",
       "    <tr>\n",
       "      <th>general_inspection</th>\n",
       "      <td>NaN</td>\n",
       "    </tr>\n",
       "    <tr>\n",
       "      <th>full_service_history</th>\n",
       "      <td>NaN</td>\n",
       "    </tr>\n",
       "    <tr>\n",
       "      <th>non_smoker_vehicle</th>\n",
       "      <td>NaN</td>\n",
       "    </tr>\n",
       "    <tr>\n",
       "      <th>emission_class</th>\n",
       "      <td>NaN</td>\n",
       "    </tr>\n",
       "    <tr>\n",
       "      <th>emissions_sticker</th>\n",
       "      <td>NaN</td>\n",
       "    </tr>\n",
       "    <tr>\n",
       "      <th>upholstery_colour</th>\n",
       "      <td>NaN</td>\n",
       "    </tr>\n",
       "    <tr>\n",
       "      <th>upholstery</th>\n",
       "      <td>NaN</td>\n",
       "    </tr>\n",
       "    <tr>\n",
       "      <th>previous_owner</th>\n",
       "      <td>NaN</td>\n",
       "    </tr>\n",
       "    <tr>\n",
       "      <th>energy_efficiency_class</th>\n",
       "      <td>NaN</td>\n",
       "    </tr>\n",
       "    <tr>\n",
       "      <th>co_efficiency</th>\n",
       "      <td>NaN</td>\n",
       "    </tr>\n",
       "  </tbody>\n",
       "</table>\n",
       "</div>"
      ],
      "text/plain": [
       "                        18302\n",
       "make_model                NaN\n",
       "short_description         NaN\n",
       "make                      NaN\n",
       "model                     NaN\n",
       "location                  NaN\n",
       "price                     NaN\n",
       "body_type                 NaN\n",
       "type                      NaN\n",
       "doors                     NaN\n",
       "country_version           NaN\n",
       "offer_number              NaN\n",
       "warranty                  NaN\n",
       "mileage                   NaN\n",
       "first_registration        NaN\n",
       "gearbox                   NaN\n",
       "fuel_type                 NaN\n",
       "colour                    NaN\n",
       "paint                     NaN\n",
       "desc                      NaN\n",
       "seller                    NaN\n",
       "seats                     NaN\n",
       "power                     NaN\n",
       "engine_size               NaN\n",
       "gears                     NaN\n",
       "co_emissions              NaN\n",
       "manufacturer_colour       NaN\n",
       "drivetrain                NaN\n",
       "cylinders                 NaN\n",
       "fuel_consumption          NaN\n",
       "comfort_&_convenience     NaN\n",
       "entertainment_&_media     NaN\n",
       "safety_&_security         NaN\n",
       "extras                    NaN\n",
       "empty_weight              NaN\n",
       "model_code                NaN\n",
       "general_inspection        NaN\n",
       "full_service_history      NaN\n",
       "non_smoker_vehicle        NaN\n",
       "emission_class            NaN\n",
       "emissions_sticker         NaN\n",
       "upholstery_colour         NaN\n",
       "upholstery                NaN\n",
       "previous_owner            NaN\n",
       "energy_efficiency_class   NaN\n",
       "co_efficiency             NaN"
      ]
     },
     "execution_count": 1008,
     "metadata": {},
     "output_type": "execute_result"
    }
   ],
   "source": [
    "df0 = pd.read_csv(\"capstone_part_1_final.csv\")\n",
    "df = df0.copy()\n",
    "df.sample(1).T"
   ]
  },
  {
   "cell_type": "code",
   "execution_count": 1009,
   "metadata": {
    "ExecuteTime": {
     "end_time": "2024-02-28T21:27:06.331601Z",
     "start_time": "2024-02-28T21:27:06.317385Z"
    },
    "scrolled": true
   },
   "outputs": [
    {
     "data": {
      "text/plain": [
       "(29480, 45)"
      ]
     },
     "execution_count": 1009,
     "metadata": {},
     "output_type": "execute_result"
    }
   ],
   "source": [
    "df.shape"
   ]
  },
  {
   "cell_type": "code",
   "execution_count": 1010,
   "metadata": {
    "ExecuteTime": {
     "end_time": "2024-02-28T21:27:06.459479Z",
     "start_time": "2024-02-28T21:27:06.337312Z"
    },
    "scrolled": true
   },
   "outputs": [
    {
     "name": "stdout",
     "output_type": "stream",
     "text": [
      "<class 'pandas.core.frame.DataFrame'>\n",
      "RangeIndex: 29480 entries, 0 to 29479\n",
      "Data columns (total 45 columns):\n",
      " #   Column                   Non-Null Count  Dtype  \n",
      "---  ------                   --------------  -----  \n",
      " 0   make_model               28630 non-null  object \n",
      " 1   short_description        28417 non-null  object \n",
      " 2   make                     28630 non-null  object \n",
      " 3   model                    28354 non-null  object \n",
      " 4   location                 28630 non-null  object \n",
      " 5   price                    28630 non-null  float64\n",
      " 6   body_type                28630 non-null  object \n",
      " 7   type                     28630 non-null  object \n",
      " 8   doors                    28271 non-null  float64\n",
      " 9   country_version          16889 non-null  object \n",
      " 10  offer_number             23100 non-null  object \n",
      " 11  warranty                 15784 non-null  object \n",
      " 12  mileage                  28629 non-null  float64\n",
      " 13  first_registration       28628 non-null  float64\n",
      " 14  gearbox                  28382 non-null  object \n",
      " 15  fuel_type                26843 non-null  object \n",
      " 16  colour                   26906 non-null  object \n",
      " 17  paint                    14495 non-null  object \n",
      " 18  desc                     27957 non-null  object \n",
      " 19  seller                   28630 non-null  object \n",
      " 20  seats                    25505 non-null  float64\n",
      " 21  power                    28058 non-null  float64\n",
      " 22  engine_size              27227 non-null  float64\n",
      " 23  gears                    18954 non-null  float64\n",
      " 24  co_emissions             18594 non-null  float64\n",
      " 25  manufacturer_colour      21667 non-null  object \n",
      " 26  drivetrain               16893 non-null  object \n",
      " 27  cylinders                18852 non-null  float64\n",
      " 28  fuel_consumption         23385 non-null  float64\n",
      " 29  comfort_&_convenience    25433 non-null  object \n",
      " 30  entertainment_&_media    23644 non-null  object \n",
      " 31  safety_&_security        25415 non-null  object \n",
      " 32  extras                   23480 non-null  object \n",
      " 33  empty_weight             17758 non-null  float64\n",
      " 34  model_code               8367 non-null   object \n",
      " 35  general_inspection       12254 non-null  object \n",
      " 36  full_service_history     12565 non-null  object \n",
      " 37  non_smoker_vehicle       11594 non-null  object \n",
      " 38  emission_class           17859 non-null  object \n",
      " 39  emissions_sticker        9414 non-null   object \n",
      " 40  upholstery_colour        14569 non-null  object \n",
      " 41  upholstery               18610 non-null  object \n",
      " 42  previous_owner           14015 non-null  object \n",
      " 43  energy_efficiency_class  7804 non-null   object \n",
      " 44  co_efficiency            7804 non-null   object \n",
      "dtypes: float64(12), object(33)\n",
      "memory usage: 10.1+ MB\n"
     ]
    }
   ],
   "source": [
    "df.info()"
   ]
  },
  {
   "cell_type": "code",
   "execution_count": 1011,
   "metadata": {
    "ExecuteTime": {
     "end_time": "2024-02-28T21:27:13.530153Z",
     "start_time": "2024-02-28T21:27:06.468142Z"
    },
    "run_control": {
     "marked": true
    }
   },
   "outputs": [
    {
     "data": {
      "image/png": "[encoded data removed]",
      "text/plain": [
       "<Figure size 2500x1000 with 3 Axes>"
      ]
     },
     "metadata": {},
     "output_type": "display_data"
    }
   ],
   "source": [
    "msno.bar(df, color= \"darkred\");"
   ]
  },
  {
   "cell_type": "code",
   "execution_count": 1012,
   "metadata": {
    "ExecuteTime": {
     "end_time": "2024-02-28T21:27:13.727446Z",
     "start_time": "2024-02-28T21:27:13.535972Z"
    }
   },
   "outputs": [
    {
     "data": {
      "text/html": [
       "<div>\n",
       "<style scoped>\n",
       "    .dataframe tbody tr th:only-of-type {\n",
       "        vertical-align: middle;\n",
       "    }\n",
       "\n",
       "    .dataframe tbody tr th {\n",
       "        vertical-align: top;\n",
       "    }\n",
       "\n",
       "    .dataframe thead th {\n",
       "        text-align: right;\n",
       "    }\n",
       "</style>\n",
       "<table border=\"1\" class=\"dataframe\">\n",
       "  <thead>\n",
       "    <tr style=\"text-align: right;\">\n",
       "      <th></th>\n",
       "      <th>count</th>\n",
       "      <th>percentage</th>\n",
       "    </tr>\n",
       "  </thead>\n",
       "  <tbody>\n",
       "    <tr>\n",
       "      <th>make_model</th>\n",
       "      <td>850</td>\n",
       "      <td>2.88</td>\n",
       "    </tr>\n",
       "    <tr>\n",
       "      <th>short_description</th>\n",
       "      <td>1063</td>\n",
       "      <td>3.61</td>\n",
       "    </tr>\n",
       "    <tr>\n",
       "      <th>make</th>\n",
       "      <td>850</td>\n",
       "      <td>2.88</td>\n",
       "    </tr>\n",
       "    <tr>\n",
       "      <th>model</th>\n",
       "      <td>1126</td>\n",
       "      <td>3.82</td>\n",
       "    </tr>\n",
       "    <tr>\n",
       "      <th>location</th>\n",
       "      <td>850</td>\n",
       "      <td>2.88</td>\n",
       "    </tr>\n",
       "    <tr>\n",
       "      <th>price</th>\n",
       "      <td>850</td>\n",
       "      <td>2.88</td>\n",
       "    </tr>\n",
       "    <tr>\n",
       "      <th>body_type</th>\n",
       "      <td>850</td>\n",
       "      <td>2.88</td>\n",
       "    </tr>\n",
       "    <tr>\n",
       "      <th>type</th>\n",
       "      <td>850</td>\n",
       "      <td>2.88</td>\n",
       "    </tr>\n",
       "    <tr>\n",
       "      <th>doors</th>\n",
       "      <td>1209</td>\n",
       "      <td>4.10</td>\n",
       "    </tr>\n",
       "    <tr>\n",
       "      <th>country_version</th>\n",
       "      <td>12591</td>\n",
       "      <td>42.71</td>\n",
       "    </tr>\n",
       "    <tr>\n",
       "      <th>offer_number</th>\n",
       "      <td>6380</td>\n",
       "      <td>21.64</td>\n",
       "    </tr>\n",
       "    <tr>\n",
       "      <th>warranty</th>\n",
       "      <td>13696</td>\n",
       "      <td>46.46</td>\n",
       "    </tr>\n",
       "    <tr>\n",
       "      <th>mileage</th>\n",
       "      <td>851</td>\n",
       "      <td>2.89</td>\n",
       "    </tr>\n",
       "    <tr>\n",
       "      <th>first_registration</th>\n",
       "      <td>852</td>\n",
       "      <td>2.89</td>\n",
       "    </tr>\n",
       "    <tr>\n",
       "      <th>gearbox</th>\n",
       "      <td>1098</td>\n",
       "      <td>3.72</td>\n",
       "    </tr>\n",
       "    <tr>\n",
       "      <th>fuel_type</th>\n",
       "      <td>2637</td>\n",
       "      <td>8.95</td>\n",
       "    </tr>\n",
       "    <tr>\n",
       "      <th>colour</th>\n",
       "      <td>2574</td>\n",
       "      <td>8.73</td>\n",
       "    </tr>\n",
       "    <tr>\n",
       "      <th>paint</th>\n",
       "      <td>14985</td>\n",
       "      <td>50.83</td>\n",
       "    </tr>\n",
       "    <tr>\n",
       "      <th>desc</th>\n",
       "      <td>1523</td>\n",
       "      <td>5.17</td>\n",
       "    </tr>\n",
       "    <tr>\n",
       "      <th>seller</th>\n",
       "      <td>850</td>\n",
       "      <td>2.88</td>\n",
       "    </tr>\n",
       "    <tr>\n",
       "      <th>seats</th>\n",
       "      <td>3975</td>\n",
       "      <td>13.48</td>\n",
       "    </tr>\n",
       "    <tr>\n",
       "      <th>power</th>\n",
       "      <td>1422</td>\n",
       "      <td>4.82</td>\n",
       "    </tr>\n",
       "    <tr>\n",
       "      <th>engine_size</th>\n",
       "      <td>2253</td>\n",
       "      <td>7.64</td>\n",
       "    </tr>\n",
       "    <tr>\n",
       "      <th>gears</th>\n",
       "      <td>10526</td>\n",
       "      <td>35.71</td>\n",
       "    </tr>\n",
       "    <tr>\n",
       "      <th>co_emissions</th>\n",
       "      <td>10886</td>\n",
       "      <td>36.93</td>\n",
       "    </tr>\n",
       "    <tr>\n",
       "      <th>manufacturer_colour</th>\n",
       "      <td>7813</td>\n",
       "      <td>26.50</td>\n",
       "    </tr>\n",
       "    <tr>\n",
       "      <th>drivetrain</th>\n",
       "      <td>12587</td>\n",
       "      <td>42.70</td>\n",
       "    </tr>\n",
       "    <tr>\n",
       "      <th>cylinders</th>\n",
       "      <td>10628</td>\n",
       "      <td>36.05</td>\n",
       "    </tr>\n",
       "    <tr>\n",
       "      <th>fuel_consumption</th>\n",
       "      <td>6095</td>\n",
       "      <td>20.68</td>\n",
       "    </tr>\n",
       "    <tr>\n",
       "      <th>comfort_&amp;_convenience</th>\n",
       "      <td>4047</td>\n",
       "      <td>13.73</td>\n",
       "    </tr>\n",
       "    <tr>\n",
       "      <th>entertainment_&amp;_media</th>\n",
       "      <td>5836</td>\n",
       "      <td>19.80</td>\n",
       "    </tr>\n",
       "    <tr>\n",
       "      <th>safety_&amp;_security</th>\n",
       "      <td>4065</td>\n",
       "      <td>13.79</td>\n",
       "    </tr>\n",
       "    <tr>\n",
       "      <th>extras</th>\n",
       "      <td>6000</td>\n",
       "      <td>20.35</td>\n",
       "    </tr>\n",
       "    <tr>\n",
       "      <th>empty_weight</th>\n",
       "      <td>11722</td>\n",
       "      <td>39.76</td>\n",
       "    </tr>\n",
       "    <tr>\n",
       "      <th>model_code</th>\n",
       "      <td>21113</td>\n",
       "      <td>71.62</td>\n",
       "    </tr>\n",
       "    <tr>\n",
       "      <th>general_inspection</th>\n",
       "      <td>17226</td>\n",
       "      <td>58.43</td>\n",
       "    </tr>\n",
       "    <tr>\n",
       "      <th>full_service_history</th>\n",
       "      <td>16915</td>\n",
       "      <td>57.38</td>\n",
       "    </tr>\n",
       "    <tr>\n",
       "      <th>non_smoker_vehicle</th>\n",
       "      <td>17886</td>\n",
       "      <td>60.67</td>\n",
       "    </tr>\n",
       "    <tr>\n",
       "      <th>emission_class</th>\n",
       "      <td>11621</td>\n",
       "      <td>39.42</td>\n",
       "    </tr>\n",
       "    <tr>\n",
       "      <th>emissions_sticker</th>\n",
       "      <td>20066</td>\n",
       "      <td>68.07</td>\n",
       "    </tr>\n",
       "    <tr>\n",
       "      <th>upholstery_colour</th>\n",
       "      <td>14911</td>\n",
       "      <td>50.58</td>\n",
       "    </tr>\n",
       "    <tr>\n",
       "      <th>upholstery</th>\n",
       "      <td>10870</td>\n",
       "      <td>36.87</td>\n",
       "    </tr>\n",
       "    <tr>\n",
       "      <th>previous_owner</th>\n",
       "      <td>15465</td>\n",
       "      <td>52.46</td>\n",
       "    </tr>\n",
       "    <tr>\n",
       "      <th>energy_efficiency_class</th>\n",
       "      <td>21676</td>\n",
       "      <td>73.53</td>\n",
       "    </tr>\n",
       "    <tr>\n",
       "      <th>co_efficiency</th>\n",
       "      <td>21676</td>\n",
       "      <td>73.53</td>\n",
       "    </tr>\n",
       "  </tbody>\n",
       "</table>\n",
       "</div>"
      ],
      "text/plain": [
       "                         count  percentage\n",
       "make_model                 850        2.88\n",
       "short_description         1063        3.61\n",
       "make                       850        2.88\n",
       "model                     1126        3.82\n",
       "location                   850        2.88\n",
       "price                      850        2.88\n",
       "body_type                  850        2.88\n",
       "type                       850        2.88\n",
       "doors                     1209        4.10\n",
       "country_version          12591       42.71\n",
       "offer_number              6380       21.64\n",
       "warranty                 13696       46.46\n",
       "mileage                    851        2.89\n",
       "first_registration         852        2.89\n",
       "gearbox                   1098        3.72\n",
       "fuel_type                 2637        8.95\n",
       "colour                    2574        8.73\n",
       "paint                    14985       50.83\n",
       "desc                      1523        5.17\n",
       "seller                     850        2.88\n",
       "seats                     3975       13.48\n",
       "power                     1422        4.82\n",
       "engine_size               2253        7.64\n",
       "gears                    10526       35.71\n",
       "co_emissions             10886       36.93\n",
       "manufacturer_colour       7813       26.50\n",
       "drivetrain               12587       42.70\n",
       "cylinders                10628       36.05\n",
       "fuel_consumption          6095       20.68\n",
       "comfort_&_convenience     4047       13.73\n",
       "entertainment_&_media     5836       19.80\n",
       "safety_&_security         4065       13.79\n",
       "extras                    6000       20.35\n",
       "empty_weight             11722       39.76\n",
       "model_code               21113       71.62\n",
       "general_inspection       17226       58.43\n",
       "full_service_history     16915       57.38\n",
       "non_smoker_vehicle       17886       60.67\n",
       "emission_class           11621       39.42\n",
       "emissions_sticker        20066       68.07\n",
       "upholstery_colour        14911       50.58\n",
       "upholstery               10870       36.87\n",
       "previous_owner           15465       52.46\n",
       "energy_efficiency_class  21676       73.53\n",
       "co_efficiency            21676       73.53"
      ]
     },
     "execution_count": 1012,
     "metadata": {},
     "output_type": "execute_result"
    }
   ],
   "source": [
    "def missing_values(df):\n",
    "    \n",
    "    missing_count = df.isnull().sum()\n",
    "    value_count = df.isnull().count()\n",
    "    missing_percentage = round(missing_count / value_count * 100, 2)\n",
    "    missing_df = pd.DataFrame({\"count\": missing_count, \"percentage\": missing_percentage})\n",
    "    return missing_df\n",
    "\n",
    "missing_values(df)"
   ]
  },
  {
   "cell_type": "code",
   "execution_count": 1013,
   "metadata": {
    "ExecuteTime": {
     "end_time": "2024-02-28T21:27:13.738062Z",
     "start_time": "2024-02-28T21:27:13.730484Z"
    }
   },
   "outputs": [],
   "source": [
    "def group_create(column_name ,my_list, func1, extra_feature, func2):\n",
    "    a = df[column_name].fillna(df.groupby(my_list))[column_name].transform(func1)\n",
    "    print(a.isnull().sum())\n",
    "    b = pd.concat([a, df[extra_feature]], axis = 1)\n",
    "    c = b[column_name].fillna(df.groupby([extra_feature]))[column_name].transform(func2).isnull().sum()\n",
    "    print(c)\n",
    "    \n"
   ]
  },
  {
   "cell_type": "code",
   "execution_count": 1014,
   "metadata": {
    "ExecuteTime": {
     "end_time": "2024-02-28T21:27:13.751710Z",
     "start_time": "2024-02-28T21:27:13.740600Z"
    },
    "run_control": {
     "marked": false
    }
   },
   "outputs": [],
   "source": [
    "\n",
    "def handle_missing_values(df, column):\n",
    "    # Count the number of missing values in the column\n",
    "    missing_count = df[column].isnull().sum()\n",
    "    \n",
    "    # Calculate the percentage of missing values\n",
    "    missing_percentage = (missing_count / len(df)) * 100\n",
    "    \n",
    "    # Print the results\n",
    "    print(\"Missing Values in '{}':\".format(column))\n",
    "    print(\"Count: {}\".format(missing_count))\n",
    "    print(\"Percentage: {:.2f}%\".format(missing_percentage))\n",
    "\n",
    "# function for first looking to the columns\n",
    "\n",
    "def first_looking(col):\n",
    "    print(\"column name    : \", col)\n",
    "    print(\"--------------------------------\")\n",
    "    print(\"per_of_nulls   : \", \"%\", round(df[col].isnull().sum()/df.shape[0]*100, 2))\n",
    "    print(\"num_of_nulls   : \", df[col].isnull().sum())\n",
    "    print(\"num_of_uniques : \", df[col].nunique())\n",
    "    print(df[col].value_counts(dropna = False))\n",
    "\n",
    "## Some Useful User-Defined-Functions\n",
    "\n",
    "###############################################################################\n",
    "\n",
    "def missing_values(df):\n",
    "    missing_number = df.isnull().sum().sort_values(ascending=False)\n",
    "    missing_percent = (df.isnull().sum()/df.isnull().count()*100).sort_values(ascending=False)\n",
    "    missing_values = pd.concat([missing_number, missing_percent], axis=1, keys=['Missing_Number', 'Missing_Percent'])\n",
    "    return missing_values[missing_values['Missing_Number']>0]\n",
    "                    \n",
    "############################################################################### \n",
    "    "
   ]
  },
  {
   "cell_type": "code",
   "execution_count": 1015,
   "metadata": {
    "ExecuteTime": {
     "end_time": "2024-02-28T21:27:13.767383Z",
     "start_time": "2024-02-28T21:27:13.754233Z"
    }
   },
   "outputs": [],
   "source": [
    "import pandas as pd\n",
    "import ipywidgets as widgets\n",
    "from IPython.display import display\n",
    "\n",
    "\n",
    "# Seçim işlemini gerçekleştiren fonksiyon\n",
    "def select_rows(df, selected_columns=None, filters=None):\n",
    "    if selected_columns is None:\n",
    "        selected_columns = df.columns  # Tüm sutunlar varsayılan olarak seçilir\n",
    "    if filters is None:\n",
    "        filters = {}  # Hiçbir filtreleme yapılmaz\n",
    "\n",
    "    column_values = {column: df[column].unique() for column in filters}\n",
    "\n",
    "    def select_button_clicked(button):\n",
    "        selected_rows = df.copy()\n",
    "        for column, dropdown in dropdowns.items():\n",
    "            value = dropdown.value\n",
    "            selected_rows = selected_rows[selected_rows[column] == value]\n",
    "        selected_rows = selected_rows[selected_columns]\n",
    "        display(selected_rows)\n",
    "\n",
    "    dropdowns = {}\n",
    "    for column in filters:\n",
    "        if column in df.columns:\n",
    "            column_options = column_values[column]\n",
    "            dropdown = widgets.Dropdown(options=column_options, description=f'{column}:')\n",
    "            dropdowns[column] = dropdown\n",
    "\n",
    "    select_button = widgets.Button(description='Selection')\n",
    "    select_button.on_click(select_button_clicked)\n",
    "\n",
    "    display(*dropdowns.values(), select_button)"
   ]
  },
  {
   "cell_type": "markdown",
   "metadata": {},
   "source": [
    "<a id=\"50\"></a>\n",
    "# <p style=\"background-color:darkblue; font-family:newtimeroman;color:#FFF9ED; font-size:150%; text-align:center; border-radius: 15px 50px;\">  NaN: Missing Values or Unknown Data</p>\n",
    "\n",
    "<a href=\"#toc\" class=\"btn btn-warning btn-lg active\" role=\"button\" aria-pressed=\"true\" style=\"color:black;\">Content</a>"
   ]
  },
  {
   "cell_type": "markdown",
   "metadata": {},
   "source": [
    "<a id=\"36\"></a>\n",
    "<div class=\"alert alert-info\" role=\"alert\">\n",
    "<h1><span style=\"color:red\"> First of all </span></h1>\n",
    "</div>\n",
    "\n",
    "<div class=\"alert alert-block alert-warning\">\n",
    "<b>Operation : </b> <span style=\"color:red\"><b> We need to drop 850 rows that are completely NaN </b></span> .\n",
    "</div>"
   ]
  },
  {
   "cell_type": "code",
   "execution_count": 1016,
   "metadata": {
    "ExecuteTime": {
     "end_time": "2024-02-28T21:27:13.847181Z",
     "start_time": "2024-02-28T21:27:13.769915Z"
    }
   },
   "outputs": [
    {
     "data": {
      "text/plain": [
       "850"
      ]
     },
     "execution_count": 1016,
     "metadata": {},
     "output_type": "execute_result"
    }
   ],
   "source": [
    "df.isnull().all(axis=1).sum()"
   ]
  },
  {
   "cell_type": "code",
   "execution_count": 1017,
   "metadata": {
    "ExecuteTime": {
     "end_time": "2024-02-28T21:27:13.956222Z",
     "start_time": "2024-02-28T21:27:13.854263Z"
    }
   },
   "outputs": [],
   "source": [
    "df.dropna(how = \"all\", inplace = True)"
   ]
  },
  {
   "cell_type": "code",
   "execution_count": 1018,
   "metadata": {
    "ExecuteTime": {
     "end_time": "2024-02-28T21:27:13.977707Z",
     "start_time": "2024-02-28T21:27:13.962808Z"
    }
   },
   "outputs": [
    {
     "data": {
      "text/plain": [
       "(28630, 45)"
      ]
     },
     "execution_count": 1018,
     "metadata": {},
     "output_type": "execute_result"
    }
   ],
   "source": [
    "df.shape"
   ]
  },
  {
   "cell_type": "code",
   "execution_count": 1019,
   "metadata": {
    "ExecuteTime": {
     "end_time": "2024-02-28T21:27:14.046261Z",
     "start_time": "2024-02-28T21:27:13.982352Z"
    },
    "scrolled": true
   },
   "outputs": [
    {
     "name": "stdout",
     "output_type": "stream",
     "text": [
      "<class 'pandas.core.frame.DataFrame'>\n",
      "Index: 28630 entries, 0 to 29478\n",
      "Data columns (total 45 columns):\n",
      " #   Column                   Non-Null Count  Dtype  \n",
      "---  ------                   --------------  -----  \n",
      " 0   make_model               28630 non-null  object \n",
      " 1   short_description        28417 non-null  object \n",
      " 2   make                     28630 non-null  object \n",
      " 3   model                    28354 non-null  object \n",
      " 4   location                 28630 non-null  object \n",
      " 5   price                    28630 non-null  float64\n",
      " 6   body_type                28630 non-null  object \n",
      " 7   type                     28630 non-null  object \n",
      " 8   doors                    28271 non-null  float64\n",
      " 9   country_version          16889 non-null  object \n",
      " 10  offer_number             23100 non-null  object \n",
      " 11  warranty                 15784 non-null  object \n",
      " 12  mileage                  28629 non-null  float64\n",
      " 13  first_registration       28628 non-null  float64\n",
      " 14  gearbox                  28382 non-null  object \n",
      " 15  fuel_type                26843 non-null  object \n",
      " 16  colour                   26906 non-null  object \n",
      " 17  paint                    14495 non-null  object \n",
      " 18  desc                     27957 non-null  object \n",
      " 19  seller                   28630 non-null  object \n",
      " 20  seats                    25505 non-null  float64\n",
      " 21  power                    28058 non-null  float64\n",
      " 22  engine_size              27227 non-null  float64\n",
      " 23  gears                    18954 non-null  float64\n",
      " 24  co_emissions             18594 non-null  float64\n",
      " 25  manufacturer_colour      21667 non-null  object \n",
      " 26  drivetrain               16893 non-null  object \n",
      " 27  cylinders                18852 non-null  float64\n",
      " 28  fuel_consumption         23385 non-null  float64\n",
      " 29  comfort_&_convenience    25433 non-null  object \n",
      " 30  entertainment_&_media    23644 non-null  object \n",
      " 31  safety_&_security        25415 non-null  object \n",
      " 32  extras                   23480 non-null  object \n",
      " 33  empty_weight             17758 non-null  float64\n",
      " 34  model_code               8367 non-null   object \n",
      " 35  general_inspection       12254 non-null  object \n",
      " 36  full_service_history     12565 non-null  object \n",
      " 37  non_smoker_vehicle       11594 non-null  object \n",
      " 38  emission_class           17859 non-null  object \n",
      " 39  emissions_sticker        9414 non-null   object \n",
      " 40  upholstery_colour        14569 non-null  object \n",
      " 41  upholstery               18610 non-null  object \n",
      " 42  previous_owner           14015 non-null  object \n",
      " 43  energy_efficiency_class  7804 non-null   object \n",
      " 44  co_efficiency            7804 non-null   object \n",
      "dtypes: float64(12), object(33)\n",
      "memory usage: 10.0+ MB\n"
     ]
    }
   ],
   "source": [
    "df.info()"
   ]
  },
  {
   "cell_type": "code",
   "execution_count": 1020,
   "metadata": {
    "ExecuteTime": {
     "end_time": "2024-02-28T21:27:14.112617Z",
     "start_time": "2024-02-28T21:27:14.048303Z"
    }
   },
   "outputs": [
    {
     "data": {
      "text/plain": [
       "0"
      ]
     },
     "execution_count": 1020,
     "metadata": {},
     "output_type": "execute_result"
    }
   ],
   "source": [
    "df.isnull().all(axis=1).sum()"
   ]
  },
  {
   "cell_type": "code",
   "execution_count": 1021,
   "metadata": {
    "ExecuteTime": {
     "end_time": "2024-02-28T21:27:17.440238Z",
     "start_time": "2024-02-28T21:27:14.114629Z"
    }
   },
   "outputs": [
    {
     "data": {
      "image/png": "[encoded data removed]",
      "text/plain": [
       "<Figure size 640x480 with 1 Axes>"
      ]
     },
     "metadata": {},
     "output_type": "display_data"
    }
   ],
   "source": [
    "sns.heatmap(df.isnull(), yticklabels=False, cbar=False, cmap='viridis');"
   ]
  },
  {
   "cell_type": "markdown",
   "metadata": {},
   "source": [
    "<a id=\"4\"></a>\n",
    "# <p style=\"background-color:darkblue; font-family:newtimeroman;color:#FFF9ED; font-size:150%; text-align:center; border-radius: 15px 50px;\">  Analyzing the target column ( Price )</p>\n",
    "\n",
    "<a href=\"#toc\" class=\"btn btn-warning btn-lg active\" role=\"button\" aria-pressed=\"true\" style=\"color:black;\">Content</a>"
   ]
  },
  {
   "cell_type": "code",
   "execution_count": 1022,
   "metadata": {
    "ExecuteTime": {
     "end_time": "2024-02-28T21:27:17.462223Z",
     "start_time": "2024-02-28T21:27:17.443282Z"
    }
   },
   "outputs": [
    {
     "data": {
      "text/plain": [
       "0        16950.0\n",
       "1        80900.0\n",
       "2        69900.0\n",
       "3        46990.0\n",
       "4        16800.0\n",
       "          ...   \n",
       "29474    37600.0\n",
       "29475     5499.0\n",
       "29476     7300.0\n",
       "29477    29900.0\n",
       "29478     4440.0\n",
       "Name: price, Length: 28630, dtype: float64"
      ]
     },
     "execution_count": 1022,
     "metadata": {},
     "output_type": "execute_result"
    }
   ],
   "source": [
    "df.price"
   ]
  },
  {
   "cell_type": "code",
   "execution_count": 1023,
   "metadata": {
    "ExecuteTime": {
     "end_time": "2024-02-28T21:27:17.476145Z",
     "start_time": "2024-02-28T21:27:17.468887Z"
    }
   },
   "outputs": [
    {
     "name": "stdout",
     "output_type": "stream",
     "text": [
      "Missing Values in 'price':\n",
      "Count: 0\n",
      "Percentage: 0.00%\n"
     ]
    }
   ],
   "source": [
    "handle_missing_values(df, 'price')"
   ]
  },
  {
   "cell_type": "markdown",
   "metadata": {},
   "source": [
    "<a id=\"49\"></a>\n",
    "# <p style=\"background-color:darkblue; font-family:newtimeroman;color:#FFF9ED; font-size:150%; text-align:center; border-radius: 15px 50px;\">  Feature Engineering  </p>\n",
    "\n"
   ]
  },
  {
   "cell_type": "markdown",
   "metadata": {},
   "source": [
    "\n",
    "<div class=\"alert alert-warning\" role=\"alert\">\n",
    " <b>Feature Engineering:</b> Let's create a new column by extracting<span style=\"color:red\"><b> the countries and the cities</b></span>  from the location information.\n",
    "</div>\n",
    "<a href=\"#toc\" class=\"btn btn-warning btn-lg active\" role=\"button\" aria-pressed=\"true\" style=\"color:black;\">Content</a>"
   ]
  },
  {
   "cell_type": "code",
   "execution_count": 1024,
   "metadata": {
    "ExecuteTime": {
     "end_time": "2024-02-28T21:27:17.910008Z",
     "start_time": "2024-02-28T21:27:17.479981Z"
    }
   },
   "outputs": [
    {
     "data": {
      "text/plain": [
       "28813    DE\n",
       "22336    FR\n",
       "10018    DE\n",
       "17428    NL\n",
       "21258    ES\n",
       "Name: location_country, dtype: object"
      ]
     },
     "execution_count": 1024,
     "metadata": {},
     "output_type": "execute_result"
    }
   ],
   "source": [
    "# Let's extract the country information from the location data.\n",
    "df[\"location_country\"] = df.location.str.extract(\"(\\w+)$\")\n",
    "df.location_country.sample(5)"
   ]
  },
  {
   "cell_type": "code",
   "execution_count": 1025,
   "metadata": {
    "ExecuteTime": {
     "end_time": "2024-02-28T21:27:17.922753Z",
     "start_time": "2024-02-28T21:27:17.913605Z"
    }
   },
   "outputs": [
    {
     "name": "stdout",
     "output_type": "stream",
     "text": [
      "Missing Values in 'location_country':\n",
      "Count: 0\n",
      "Percentage: 0.00%\n"
     ]
    }
   ],
   "source": [
    "handle_missing_values(df , \"location_country\")"
   ]
  },
  {
   "cell_type": "code",
   "execution_count": 1026,
   "metadata": {
    "ExecuteTime": {
     "end_time": "2024-02-28T21:27:20.175993Z",
     "start_time": "2024-02-28T21:27:17.931417Z"
    }
   },
   "outputs": [
    {
     "data": {
      "text/plain": [
       "28734        Tenneville\n",
       "17176           Cordoba\n",
       "18008           Córdoba\n",
       "1554     Recklinghausen\n",
       "18092            Neckar\n",
       "Name: location_city, dtype: object"
      ]
     },
     "execution_count": 1026,
     "metadata": {},
     "output_type": "execute_result"
    }
   ],
   "source": [
    "# Let's extract the city information from the location data.\n",
    "df[\"location_city\"] = df.location.str.extract(\"(\\w+), \\w+$\")\n",
    "df[\"location_city\"] = df.location_city.str.title()\n",
    "df.location_city.sample(5)"
   ]
  },
  {
   "cell_type": "code",
   "execution_count": 1027,
   "metadata": {
    "ExecuteTime": {
     "end_time": "2024-02-28T21:27:20.203263Z",
     "start_time": "2024-02-28T21:27:20.184168Z"
    }
   },
   "outputs": [
    {
     "name": "stdout",
     "output_type": "stream",
     "text": [
      "Missing Values in 'location_city':\n",
      "Count: 221\n",
      "Percentage: 0.77%\n"
     ]
    }
   ],
   "source": [
    "handle_missing_values(df , \"location_city\")"
   ]
  },
  {
   "cell_type": "code",
   "execution_count": 1028,
   "metadata": {
    "ExecuteTime": {
     "end_time": "2024-02-28T21:27:20.294254Z",
     "start_time": "2024-02-28T21:27:20.207320Z"
    }
   },
   "outputs": [
    {
     "data": {
      "text/plain": [
       "0"
      ]
     },
     "execution_count": 1028,
     "metadata": {},
     "output_type": "execute_result"
    }
   ],
   "source": [
    "# After the groupby operation, how many NaN values do I have remaining?\n",
    "df.groupby(['location_country'], group_keys = False)['location_city'].transform(lambda x: x.fillna(x.mode()[0]) if len(x.mode()) > 0 else x).isnull().sum()"
   ]
  },
  {
   "cell_type": "code",
   "execution_count": 1029,
   "metadata": {
    "ExecuteTime": {
     "end_time": "2024-02-28T21:27:20.373087Z",
     "start_time": "2024-02-28T21:27:20.298296Z"
    }
   },
   "outputs": [],
   "source": [
    "df.location_city = df.groupby(['location_country'], group_keys = False)['location_city'].transform(lambda x: x.fillna(x.mode()[0]) if len(x.mode()) > 0 else x)"
   ]
  },
  {
   "cell_type": "code",
   "execution_count": 1030,
   "metadata": {
    "ExecuteTime": {
     "end_time": "2024-02-28T21:27:20.399687Z",
     "start_time": "2024-02-28T21:27:20.380160Z"
    }
   },
   "outputs": [
    {
     "name": "stdout",
     "output_type": "stream",
     "text": [
      "Missing Values in 'location_city':\n",
      "Count: 0\n",
      "Percentage: 0.00%\n"
     ]
    }
   ],
   "source": [
    "handle_missing_values(df , \"location_city\")"
   ]
  },
  {
   "cell_type": "code",
   "execution_count": 1031,
   "metadata": {
    "ExecuteTime": {
     "end_time": "2024-02-28T21:27:20.413181Z",
     "start_time": "2024-02-28T21:27:20.401922Z"
    }
   },
   "outputs": [
    {
     "data": {
      "text/plain": [
       "15219       Hanau\n",
       "9647     Weinheim\n",
       "22525         Rax\n",
       "1261       Lübeck\n",
       "17196        León\n",
       "Name: location_city, dtype: object"
      ]
     },
     "execution_count": 1031,
     "metadata": {},
     "output_type": "execute_result"
    }
   ],
   "source": [
    "df.location_city.sample(5)"
   ]
  },
  {
   "cell_type": "markdown",
   "metadata": {},
   "source": [
    "<a id=\"4\"></a>\n",
    "<button type=\"button\" class=\"btn btn-lg btn-danger\" data-toggle=\"popover\" title=\"Popover title\" >Operations on some columns</button>\n",
    "\n",
    "<a href=\"#toc\" class=\"btn btn-warning btn-lg active\" role=\"button\" aria-pressed=\"true\" style=\"color:black;\">Content</a>"
   ]
  },
  {
   "cell_type": "markdown",
   "metadata": {},
   "source": [
    "<a id=\"5\"></a>\n",
    "<div class=\"alert alert-info\" role=\"alert\">\n",
    "<h1>Column name :<span style=\"color:red\"> power </span></h1>\n",
    "</div>\n",
    "\n",
    "\n",
    "<div class=\"alert alert-block\" style=\"background-color: darkblue;\">\n",
    "<div class=\"alert alert-block alert-warning\">\n",
    "<b>Operation : </b>The numbers preceding the <span style=\"color:red\"><b>\"ch\" and \"cv\" words</b></span> in the short description indicate the unit of horsepower. Therefore, I will use the <span style=\"color:red\"><b>short description column</b></span> to fill in the power values. Since the \"power\" column is associated with <span style=\"color:red\"><b> \" make \" \" model \" \" body_type \" \" type \" and \" engine_size \"</b></span> . let's fill in the <span style=\"color:red\"><b> NaN values</b></span> in this column by grouping the data based on these columns and performing the necessary operations. \n",
    "</div>"
   ]
  },
  {
   "cell_type": "markdown",
   "metadata": {},
   "source": [
    "\n",
    "<a href=\"#toc\" class=\"btn btn-warning btn-lg active\" role=\"button\" aria-pressed=\"true\" style=\"color:black;\">Content</a>"
   ]
  },
  {
   "cell_type": "code",
   "execution_count": 1032,
   "metadata": {
    "ExecuteTime": {
     "end_time": "2024-02-28T21:27:20.440128Z",
     "start_time": "2024-02-28T21:27:20.416434Z"
    },
    "scrolled": true
   },
   "outputs": [
    {
     "name": "stdout",
     "output_type": "stream",
     "text": [
      "column name    :  power\n",
      "--------------------------------\n",
      "per_of_nulls   :  % 2.0\n",
      "num_of_nulls   :  572\n",
      "num_of_uniques :  351\n",
      "power\n",
      "150.0     1992\n",
      "131.0     1356\n",
      "120.0     1182\n",
      "110.0     1166\n",
      "90.0      1110\n",
      "          ... \n",
      "1014.0       1\n",
      "775.0        1\n",
      "640.0        1\n",
      "243.0        1\n",
      "35.0         1\n",
      "Name: count, Length: 352, dtype: int64\n"
     ]
    }
   ],
   "source": [
    "first_looking(\"power\")"
   ]
  },
  {
   "cell_type": "code",
   "execution_count": 1033,
   "metadata": {
    "ExecuteTime": {
     "end_time": "2024-02-28T21:27:20.452221Z",
     "start_time": "2024-02-28T21:27:20.447477Z"
    },
    "run_control": {
     "marked": true
    }
   },
   "outputs": [],
   "source": [
    "#list(df.loc[df[df[\"power\"].isnull()][[\"short_description\", \"power\"]].index, \"short_description\"])"
   ]
  },
  {
   "cell_type": "code",
   "execution_count": 1034,
   "metadata": {
    "ExecuteTime": {
     "end_time": "2024-02-28T21:27:20.485709Z",
     "start_time": "2024-02-28T21:27:20.454802Z"
    }
   },
   "outputs": [
    {
     "data": {
      "text/plain": [
       "['CDi',\n",
       " '180D',\n",
       " '450+ AMG Line 108kWh',\n",
       " 'Business Solution AMG',\n",
       " 'Business Solution AMG',\n",
       " 'Business Solution AMG',\n",
       " 'e AMG Line Panodak',\n",
       " 'Business Solution AMG',\n",
       " 'CDi',\n",
       " '200 d Fascination 7G-DCT',\n",
       " '200 163ch AMG Line 7G-DCT 9cv',\n",
       " '200 163ch AMG Line 7G-DCT 9cv',\n",
       " '200 163ch AMG Line 7G-DCT 9cv',\n",
       " '200 163ch AMG Line 7G-DCT 9cv',\n",
       " '200 d 150ch Progressive Line 8G-DCT 8cv',\n",
       " '200 163ch AMG Line 7G-DCT 9cv',\n",
       " '200 163ch AMG Line 7G-DCT 9cv',\n",
       " '35 AMG 306ch 4Matic 7G-DCT Speedshift AMG 19cv',\n",
       " '200 d Inspiration 7G-DCT Euro6c',\n",
       " '200 163ch AMG Line 7G-DCT 9cv',\n",
       " '200 163ch AMG Line 7G-DCT 9cv',\n",
       " '180 d 116ch Business Line 7G-DCT',\n",
       " '180 d 116ch AMG Line 7G-DCT',\n",
       " '200 d 150ch AMG Line 8G-DCT 8cv',\n",
       " '200 163ch AMG Line 7G-DCT 9cv',\n",
       " '180 136ch Progressive Line 7G-DCT 7cv',\n",
       " '180 d Sensation 7G-DCT',\n",
       " '180 136ch Business Line 7G-DCT',\n",
       " '200 163ch AMG Line 7G-DCT 9cv',\n",
       " '160 109ch Style Line',\n",
       " '200 163ch AMG Line 7G-DCT',\n",
       " '160 Inspiration 7G-DCT',\n",
       " '200 163ch AMG Line 7G-DCT 9cv',\n",
       " '180 d 116ch Progressive Line 7G-DCT',\n",
       " '180d',\n",
       " 'SL Pagode',\n",
       " 'SL',\n",
       " '190SL',\n",
       " 'D',\n",
       " 'CDI Inspiration 7G-DCT',\n",
       " 'd',\n",
       " '1.6',\n",
       " 'd',\n",
       " 'D',\n",
       " '1.4 Twinport 87ch Unlimited Start/Stop',\n",
       " '1.4 OPC LINE / COLOR EDITION / AIRCO / NAVI / CRUI',\n",
       " '1.4 Twinport 87ch Unlimited Start/Stop',\n",
       " '1.4 Twinport 87ch Start/Stop',\n",
       " '-e LAUNCH EXECUTIVE 60 KWH *INCL. BTW* + ADAPTIVE',\n",
       " '2.0 CDTI 165ch Cosmo Start\\\\u0026Stop',\n",
       " '2.0i-16V DTM',\n",
       " 'GTC 1.8 16V SPORT ECC 68173 km !!! ZEER MOOI',\n",
       " 'B LS Fastback',\n",
       " 'Sports Tourer 1.6 CDTi s&s 136cv Business',\n",
       " 'Q210 Life Quickcharge 22 kWh (AccuHuur) incl. BTW',\n",
       " 'R240 Zen 22 kWh Huur Accu Navi ParkeerCam PDC Clim',\n",
       " 'Q210 Zen Quickcharge 22 kWh (ex Accu) | CAMERA | K',\n",
       " 'Q210 Zen Quickcharge 22 kWh (ex Accu) Full map nav',\n",
       " 'Hybrid 140 Intens - Automaat - Luxe uitgerust',\n",
       " 'R90 Life 41 kWh|Clima|Bluetooth|Cruise',\n",
       " 'Q210 Life Quickcharge 22 kWh (AccuHuur) incl. BTW',\n",
       " 'Q210 Zen Quickcharge 22 kWh (ex Accu) Navigatie/ P',\n",
       " '0.9 TCe 95ch Signature',\n",
       " '0.9 TCe 90ch energy Zen',\n",
       " '0.9 TCe 95ch Zen',\n",
       " '0.9 TCe 90ch energy Limited Euro6C',\n",
       " '1.0 SCe 70ch Life 2 Boîte Courte Euro6',\n",
       " '1.0 SCe 70ch Stop\\\\u0026Start Zen eco²',\n",
       " 'Electric Life R80 Achat Intégral 3CV',\n",
       " 'R4 Cabriolet / Sammlerfahrzeug / 1. Hand',\n",
       " '3 coupe cabriolet III COUPE CABRIOLET 1.9 DCI 130',\n",
       " '1.5 dCi 110ch energy FAP eco²',\n",
       " 'tce 140 edc fap',\n",
       " 'tce 140 edc fap',\n",
       " 'tce 140 edc fap - 21b',\n",
       " 'A PREPARER',\n",
       " 'tce 140 edc fap r.s. line',\n",
       " '3 coupe III COUPE 2.0 DCI 160 FAP GT EURO5',\n",
       " '3 coupe III COUPE 2.0 DCI 180 FAP GT',\n",
       " 'Cargo incl. accu incl. BTW',\n",
       " 'tce 160 edc fap - 21b r.s. line',\n",
       " 'III Coupé dCi 165 GT',\n",
       " 'ARKANA E-Tech 145 - 21B R.S. Line',\n",
       " 'tce 160 edc fap - 21b',\n",
       " 'ARKANA TCe 140 EDC FAP R.S. Line',\n",
       " 'DCI 180 4 CONTROL',\n",
       " 'tce 160 edc fap - 21b',\n",
       " 'tce 140 edc fap - 21b r.s. line',\n",
       " 'Technic 45 (ex Accu) (80 KMH, BROMMER KENTEKEN, CA',\n",
       " 'dci 90',\n",
       " 'e-tech 145 - 21',\n",
       " '1.5 dCi 110ch energy Business',\n",
       " '1.5 Blue dCi 115ch Intens',\n",
       " '(ex Accu)',\n",
       " '2.3 dCi 190ch Double Cabine Zen',\n",
       " '1.3 TCe 140ch FAP RS Line EDC -21B',\n",
       " '1.5 Blue dCi 115ch Intens',\n",
       " '1.6 E-Tech 145ch RS Line',\n",
       " 'e-tech 145 - 21',\n",
       " '2.0 dCi 175ch energy Initiale Paris X-Tronic',\n",
       " '1.5 dCi 110ch energy Intens EDC eco²',\n",
       " '1.5 Blue dCi 115ch Business',\n",
       " 'blue dci 115',\n",
       " 'tce 160 edc',\n",
       " '1.2 TCe 130ch energy Intens EDC',\n",
       " '1.5 dCi 90ch energy Business eco²',\n",
       " '1.5 dCi 110ch energy Business eco²',\n",
       " '1.3 TCe 140ch FAP RS Line EDC -21B',\n",
       " '1.5 dCi 90ch energy Business Euro6c',\n",
       " '1.6 E-Tech 145ch Intens -21B',\n",
       " 'tce 160 edc',\n",
       " '2.0 dCi 175ch Intens X-Tronic - 18',\n",
       " '1.0 TCe 100ch Intens GPL -21',\n",
       " '1.6 E-Tech Plug-in Hybrid Intens, navi, cruise en',\n",
       " '1.5 dCi Bose - Leer Xenon Navi',\n",
       " 'tce 160 edc',\n",
       " '1.2 TCe 120ch energy Intens EDC Euro6 2015',\n",
       " '1.5 dCi 110ch energy Business',\n",
       " '1.5 dCi 90ch energy Business EDC Euro6c',\n",
       " 'grand scénic dci 130 energy fap eco2',\n",
       " '1.5 Blue dCi 115ch RS Line EDC',\n",
       " '1.5 dCi 110ch energy Zen EDC',\n",
       " '1.5 dCi 110ch energy Limited',\n",
       " '1.6 dCi 160ch energy Intens EDC',\n",
       " '1.5 dCi 110ch energy Limited',\n",
       " '1.5 dCi 90ch energy Business Euro6c',\n",
       " 'blue dci 150',\n",
       " 'estate dci 130 energy',\n",
       " '1.6 dCi 160ch energy Intens EDC',\n",
       " '2.0 Blue dCi 200ch Business Intens EDC - 19',\n",
       " '1.5 Blue dCi 95ch Life',\n",
       " '1.5 dCi 110ch energy Business EDC',\n",
       " '1.3 TCe 115ch energy Business',\n",
       " '1.3 TCe 140ch FAP Intens 120g',\n",
       " '1.7 Blue dCi 150ch Business',\n",
       " '1.5 dCi 90ch energy Business',\n",
       " '1.6 E-Tech Plug-in 160ch RS Line -21N',\n",
       " '1.7 Blue dCi 150ch Business Intens',\n",
       " '2.0 Blue dCi 190ch Initiale Paris EDC',\n",
       " '1.5 Blue dCi 95ch Business',\n",
       " '1.5 Blue dCi 115ch Business - 20',\n",
       " '1.5 dCi 75ch energy Business Euro6c',\n",
       " 'mégane iv estate blue dci 115 - 21b',\n",
       " '1.5 Blue dCi 115ch Business - 20',\n",
       " 'INTENS R135 B-Rent',\n",
       " 'TCe Cool & Sound Benzine',\n",
       " 'Intens charge normale R90',\n",
       " 'Zen charge normale R90 MY19',\n",
       " '2.0 Blue dCi 160ch Intens EDC - 19',\n",
       " '1.6 dCi 130ch energy Intens',\n",
       " '1.6 dCi 160ch energy Intens EDC',\n",
       " 'ii 1.2 lev 16v 75 eco2',\n",
       " '1.0 TCe 100ch Evolution GPL',\n",
       " '1.6 dCi 130ch energy Zen EDC',\n",
       " '2.0 Blue dCi 200ch Initiale Paris EDC - 19',\n",
       " '4 IV (BFB) 1.8T 280CH RS EDC',\n",
       " '4 IV (BFB) 1.8T 280CH RS EDC',\n",
       " 'Intens R110 MY19',\n",
       " '1.5 dCi 110ch energy Zen',\n",
       " '1.6 dCi 160ch energy Initiale Paris EDC',\n",
       " '1.5 dCi 110ch energy Business',\n",
       " '2.0 Blue dCi 160ch Intens EDC',\n",
       " '2.0 Blue dCi 190ch Initiale Paris EDC',\n",
       " '1.6 dCi 130ch energy Limited EDC',\n",
       " '1.6 dCi 130ch energy Business EDC',\n",
       " '2.0 Blue dCi 160ch Intens EDC',\n",
       " '2.0 Blue dCi 190ch Initiale Paris EDC',\n",
       " 'Life charge normale Type 2',\n",
       " 'Zen charge normale R110',\n",
       " '1.6 dCi 130ch energy Intens',\n",
       " 'Zen charge normale R90',\n",
       " 'Zen charge normale R90',\n",
       " 'City charge normale R90',\n",
       " '2.0 Blue dCi 190ch Initiale Paris EDC',\n",
       " 'Intens charge normale Type 2',\n",
       " 'Zen charge normale R90',\n",
       " '2.0 Blue dCi 160ch Intens EDC',\n",
       " 'Life charge normale Type 2',\n",
       " '5 Porte 0.9 TCe Moschino Life',\n",
       " 'e-208 136ch Active',\n",
       " 'VTi 72 Allure 5p',\n",
       " 'VTi 72 Like S\\\\u0026S 85g 3p',\n",
       " '1.4 Essence 75 CV BVA',\n",
       " 'VTi 72 Like S\\\\u0026S 4cv 5p',\n",
       " 'VTi 72 Allure S\\\\u0026S 4cv 5p',\n",
       " '1.2 PureTech Style Top 5p',\n",
       " 'VTi 72 Active S\\\\u0026S 85g 5p',\n",
       " '1.0 12v Urban Move 5p',\n",
       " '1.2 PureTech Style 5p',\n",
       " 'Cabriolet 2 l',\n",
       " '2.0 HDI 120CV DISTRIB OK',\n",
       " 'CABRIOLET 1.8 CABRIOLET, NW. CABRIO KAP, NETTE AUT',\n",
       " '1.6 VTI 16V FELINE',\n",
       " 'cc roland garros 1.6hdi 112 fap',\n",
       " 'coupe COUPE 2.7 V6 HDI SPORT PACK BVA',\n",
       " 'coupe COUPE 2.0 HDI 136 FAP SPORT',\n",
       " 'II 2016 3008 1.5 bluehdi GT Line s&s 130cv eat8',\n",
       " '2.0 BlueHDi 180ch GT S\\\\u0026S EAT6',\n",
       " '2.0 BlueHDi 180ch S\\\\u0026S GT Line EAT8',\n",
       " '1.2 PureTech 130ch S\\\\u0026S Style EAT8',\n",
       " '1.2 PureTech 130ch S\\\\u0026S Style EAT8',\n",
       " 'e-2008 136ch GT Line',\n",
       " 'SW GT HYBRID 180 e-EAT8',\n",
       " '1.2 PureTech 130ch E6.c S\\\\u0026S Allure EAT8',\n",
       " 'PureTech 225ch S\\\\u0026S First Edition EAT8 119g',\n",
       " 'BlueHDi 130ch S\\\\u0026S GT EAT8',\n",
       " '2.0 BlueHDi 180ch FAP EAT6',\n",
       " 'BlueHDi 180ch S\\\\u0026S GT Line EAT8',\n",
       " 'PHEV 225ch GT Pack e-EAT8',\n",
       " '1.5 BlueHDi 130ch S\\\\u0026S Active Business',\n",
       " 'BlueHDi 130ch S\\\\u0026S Allure Pack EAT8',\n",
       " '1.5 BlueHDi 130ch S\\\\u0026S GT EAT8',\n",
       " '2.0 BlueHDi 180ch FAP EAT6',\n",
       " 'HYBRID 225ch GT e-EAT8',\n",
       " '1.5 BlueHDi 130ch S\\\\u0026S Active Business',\n",
       " 'HYBRID 225ch GT e-EAT8',\n",
       " '1.6 BlueHDi 120ch GT Line S\\\\u0026S',\n",
       " 'HYBRID4 360ch e-EAT8 PEUGEOT SPORT ENGINEERED',\n",
       " 'PureTech 180ch S\\\\u0026S Allure Business EAT8',\n",
       " 'PHEV 180ch Allure Pack e-EAT8',\n",
       " '1.2 PureTech 130ch S\\\\u0026S Allure Pack EAT8',\n",
       " 'PHEV 225ch GT Pack e-EAT8',\n",
       " 'PHEV 180ch Allure Pack e-EAT8',\n",
       " '1.2 PureTech 110ch Allure S\\\\u0026S',\n",
       " 'II Ph2 1.5 BlueHDi 130 S\\\\u0026S GT Line BA8',\n",
       " 'HYBRID 225ch GT e-EAT8',\n",
       " '1.5 BlueHDi 130ch S\\\\u0026S Active Business',\n",
       " '1.5 BlueHDi 130ch S\\\\u0026S Allure Business',\n",
       " 'PHEV 180ch Allure Pack e-EAT8',\n",
       " '1.5 BlueHDi 100ch E6.c S\\\\u0026S Style',\n",
       " '1.2 PureTech 130ch S\\\\u0026S Allure Pack',\n",
       " 'PHEV 180ch Allure Pack e-EAT8',\n",
       " '1.5 BlueHDi 130ch S\\\\u0026S Active Business',\n",
       " 'II Ph1 NG 1.2 PTech 100 S\\\\u0026S Allure',\n",
       " '1.2 PureTech 110ch E6.3 S\\\\u0026S Style',\n",
       " '1.2 PureTech 110ch E6.3 S\\\\u0026S Active Business',\n",
       " 'HYBRID4 360ch e-EAT8 PEUGEOT SPORT ENGINEERED',\n",
       " '1.2 PureTech 130ch S\\\\u0026S GT EAT8',\n",
       " 'BlueHDi 160ch S\\\\u0026S Allure EAT8',\n",
       " '1.2 PureTech 82ch Active 5p',\n",
       " '2.0 BlueHDi 180ch FAP Féline EAT6',\n",
       " 'PHEV 225ch GT Pack e-EAT8',\n",
       " '1.0 PureTech Like 3p',\n",
       " 'HYBRID 225ch GT e-EAT8 10cv',\n",
       " 'BlueHDi 130ch S\\\\u0026S Allure EAT8 7cv',\n",
       " 'ACTIVE 1.2 ESS POUR ALGERIE UNIQUEMENT',\n",
       " 'e-208 136ch Allure',\n",
       " 'BlueHDi 180ch S\\\\u0026S GT EAT8',\n",
       " 'HYBRID4 360ch e-EAT8 PEUGEOT SPORT ENGINEERED',\n",
       " 'HYBRID4 360ch e-EAT8 PEUGEOT SPORT ENGINEERED',\n",
       " '1.2 PureTech 130ch S\\\\u0026S Allure Pack EAT8',\n",
       " '2.0 BlueHDi 180ch S\\\\u0026S GT EAT8',\n",
       " 'BlueHDi 160ch S\\\\u0026S GT Line EAT8',\n",
       " '1.2 PureTech 130ch S\\\\u0026S Allure Pack',\n",
       " '1.2 PureTech 130ch S\\\\u0026S GT Line EAT8 7cv',\n",
       " 'e-208 136ch GT Pack',\n",
       " 'e-208 136ch Active',\n",
       " '1.5 BlueHDi 130ch S\\\\u0026S GT Line EAT8 7cv',\n",
       " 'BlueHDi 130ch S\\\\u0026S Active Pack EAT8',\n",
       " 'e-208 136ch GT',\n",
       " 'PureTech 180ch S\\\\u0026S GT Line EAT8',\n",
       " '1.6 THP 16v 165ch Allure S\\\\u0026S',\n",
       " 'e-208 136ch GT',\n",
       " 'PHEV 225ch GT Pack e-EAT8',\n",
       " '1.6 BlueHDi 120ch Active Business S\\\\u0026S EAT6 5p',\n",
       " 'e-208 136ch GT Line',\n",
       " 'puretech 68ch bvm5',\n",
       " 'e-208 136ch Style',\n",
       " 'BlueHDi 130ch S\\\\u0026S Active Business EAT8 7cv',\n",
       " 'e-208 136ch Allure',\n",
       " '1.2 PureTech 110ch GT Line S\\\\u0026S 3p',\n",
       " '1.6 BlueHDi 120ch S\\\\u0026S GT Line EAT6',\n",
       " '1.2 8v 69ch Popstar',\n",
       " 'Icon 118cv',\n",
       " '1.2 8v 69ch S',\n",
       " '1.2 8v 69ch S\\\\u0026S Lounge  Euro6D',\n",
       " '1.3 Multijet 16v 95ch DPF S\\\\u0026S Lounge 97g',\n",
       " 'PININFARINA Spider 2000',\n",
       " '1973 FIAT COUPE',\n",
       " 'S 0.9 TWIN AIR',\n",
       " 'S COUPE',\n",
       " '1.6 Multijet 120cv Lounge 4x2',\n",
       " '1.0 FireFly Turbo T3 120ch Urban',\n",
       " '1.3 FireFly Turbo T4 150ch Sport DCT',\n",
       " '1.3 FireFly Turbo T4 150ch Cross DCT',\n",
       " '1.0 T3 120cv Business',\n",
       " '1.6 MultiJet 120ch Lounge S/S DCT MY20',\n",
       " '1.0 100 ch S/S sw cross Red MY22',\n",
       " 'Stationwagon Cross 1.5 Hybrid Garmin',\n",
       " '4X4 Cross 0.9 Twinair Turbo 85cv S&S 5 posti',\n",
       " '1.0 FireFly Hybrid City Life',\n",
       " '1.4 95ch Pop 5p',\n",
       " '1.4 95ch Easy 4p',\n",
       " '1.4 95ch Pop 4p',\n",
       " '1.4 95ch Tipo MY19 5p',\n",
       " '1.6 MultiJet 120ch Mirror S/S MY19 5p',\n",
       " '1.4 95ch S/S Elysia MY20 5p',\n",
       " '1.6 MultiJet 120ch Pop S/S 5p',\n",
       " 'Ibiza SC 1.2 70 ch',\n",
       " '2.0 TSI 290ch Cupra DSG7',\n",
       " '2.0 TSI 300ch Cupra 4Drive DSG7 Euro6d-T',\n",
       " '1.8 TSI 180ch Start\\\\u0026Stop 4DRIVE DSG',\n",
       " '1.4 e-Hybrid 204cv FR DSG',\n",
       " '1.5 eTSI 150ch FR DSG7',\n",
       " '1.0 EcoTSI 110ch FR DSG7',\n",
       " '1.0 EcoTSI 115ch Start/Stop FR Euro6d-T',\n",
       " '1.5 eTSI 150ch FR DSG7',\n",
       " 'e iV EV Style 1240KM! PDC CLIMA € 2.000,- SUBSIDIE',\n",
       " 'Pequeño Manual de 2 Puertas',\n",
       " 'CABRIOLET 1.6 TDI  COCCINELLE CABRIOLET 1.6 TDI 10',\n",
       " '1.5 TSI 150ch Monte-Carlo DSG7 Euro6d-T EVAP',\n",
       " '1.4 TSI ACT 150ch Style',\n",
       " '1.4 TSI PHEV iV 245ch RS DSG6e Euro6d-AP',\n",
       " '1.6 TDI 116ch SCR Active Euro6d-T',\n",
       " '1.5 dCi 110ch Black Touch 4X2',\n",
       " '1.6 SCe Techroad',\n",
       " '1.5 Blue dCi 115ch Prestige 108g 4x2 - 19',\n",
       " '1.2 TCe 125ch Prestige 4X2',\n",
       " '1.5 dCi 110ch Prestige 4X2 EDC',\n",
       " '1.5 dCi 90ch Silver Line 2017 4X2',\n",
       " 'blue dci 115 4x2',\n",
       " '1.5 Blue dCi 115ch Prestige 4x2',\n",
       " 'blue dci 115 4x2',\n",
       " '1.0 ECO-G 100ch 15 ans 4x2 - E6U',\n",
       " '1.5 dCi 110ch Black Touch 2017 4X2',\n",
       " '1.5 dCi 110ch Black Touch 2017 4X2',\n",
       " '1.5 Blue dCi 115ch Prestige 4x2 - 20',\n",
       " '1.5 Blue dCi 115ch Prestige 4x2',\n",
       " '1.5 dCi 110ch Prestige 4X2',\n",
       " '1.5 dCi 110ch Prestige 4X2 EDC',\n",
       " 'blue dci 115 4x2',\n",
       " '1.5 dCi 110ch SL 10 ans 4X2',\n",
       " '1.0 ECO-G 100ch Prestige + 4x2',\n",
       " 'blue dci 115 4x2',\n",
       " '1.5 Blue dCi 115ch Essentiel 4x2',\n",
       " '1.5 Blue dCi Prestige',\n",
       " '1.5 Blue dCi 95ch 4x2',\n",
       " '1.5 dCi 110ch Prestige 4X2',\n",
       " '1.5 dCi 110ch Confort 4X2 EDC',\n",
       " '1.5 Blue dCi 115ch Prestige 4x2 - 20',\n",
       " 'blue dci 115 4x2',\n",
       " '1.5 Blue dCi 115ch Techroad 4x2',\n",
       " '1.5 Blue dCi 115ch Prestige 4x2 E6U',\n",
       " '1.3 TCe 150ch FAP Prestige 4x2 EDC',\n",
       " '1.5 Blue dCi 115ch Prestige 4x2',\n",
       " '1.5 Blue dCi 115ch Techroad 4x2',\n",
       " '1.5 Blue dCi 115ch Prestige 4x2 - 20',\n",
       " '1.3 TCe 150ch FAP Prestige  4x2 - 20',\n",
       " '1.5 dCi 110ch Black Touch 2017 4X2 EDC',\n",
       " '1.5 Blue dCi 115ch Prestige 4x4',\n",
       " '1.3 TCe 150ch FAP Prestige 4x2',\n",
       " '1.3 TCe 150ch FAP Prestige 4x2 EDC',\n",
       " '1.3 TCe 150ch FAP Prestige 4x2',\n",
       " '1.5 dCi 90ch Blackline',\n",
       " 'MCV 0.9 TCe Comfort',\n",
       " 'Jogger Extreme TCE 110',\n",
       " '1.5 Blue dCi 75ch Confort',\n",
       " '1.5 dCi 75ch Ambiance',\n",
       " 'Stepway 1.6 8V 85CV',\n",
       " '0.9 TCe 90ch Stepway Easy-R',\n",
       " '1.0 SCe 75ch 4cv',\n",
       " '0.9 TCe 90ch Stepway',\n",
       " '0.9 TCe 90ch Ambiance Euro6c',\n",
       " '1.5 dCi 90ch Stepway',\n",
       " 'tce 90',\n",
       " '0.9 TCe 90ch Stepway',\n",
       " '0.9 TCe 90ch Stepway Easy-R -18',\n",
       " '1.5 dCi 75ch Ambiance',\n",
       " '1.0 SCe 75ch Ambiance 4cv',\n",
       " 'tce 90',\n",
       " '0.9 TCe 90ch Confort',\n",
       " '0.9 TCe 90ch Techroad',\n",
       " '0.9 TCe 90ch Techroad',\n",
       " '0.9 TCe 90ch Advance Euro6c',\n",
       " '1.0 SCe 75ch Evasion',\n",
       " '1.0 TCe 90ch Stepway Confort -22',\n",
       " '1.0 TCe 90ch Stepway Confort -22',\n",
       " '1.0 ECO-G 100ch Stepway Confort -22',\n",
       " '1.5 Hybrid 116PK XT07546',\n",
       " '1.8 Plug-In Hybrid Comfort 100PK ZC33920',\n",
       " '1.0 VVT-i Terra MMT',\n",
       " '1.8 Aspiration Sport Automaat (FACELIFT, NAVIGATIE',\n",
       " '2.0 Hybrid GR-Sport Automaat I APPLE CAR PLAY & AN',\n",
       " '1.5 Hybrid Aspiration CAMERA I AUTOMAAT',\n",
       " '1.5 Hybrid Dynamic l Navigatie l Airco',\n",
       " '1.5 Hybrid Dynamic Automaat I LICHTMETALEN VELGEN',\n",
       " '1.8 Hybrid Aspiration / Cruise / Climate / Navigat',\n",
       " '1.5 Hybrid Y20 Bi-tone | PARKEERCAMERA | CLIMA |',\n",
       " '2.0 Hybrid Dynamic l Automatische Airco | Navigati',\n",
       " '1.8 Hybrid Aspiration l Automatische Airco l Navig',\n",
       " '1.8 Hybrid Active l Automaat l Apple Car Play l Pa',\n",
       " '1.5 Hybrid GR Sport l Premium Pack  ( o.a. JBL Spe',\n",
       " '1.8 Hybrid Full-Led Cam Orig NL.+NAP Dynamic Go',\n",
       " '1.5 Hybrid Aspiration Ned. Auto, Automaat, Hoge Zi',\n",
       " '1.5 Hybrid Aspiration | Navigatie | Lichtmetaal',\n",
       " '1.5 Hybrid Executive l met Premium pack: JBL Speak',\n",
       " '1.0 VVT-i 69ch x-play 5p',\n",
       " 'COUPE 2.0 D-4S 200 BVA PACK TRD',\n",
       " '122h EDITION 2WD MY22',\n",
       " '1.8 Hybrid Active 122PK BX72052',\n",
       " '4.0 V6 4WD',\n",
       " '2.5 Hybrid 4X2 178PK TP83484',\n",
       " '4.0 V6 4WD',\n",
       " '1982 Rouge Diesel 5 portes Manuelle 4.3 Turbo SUV/',\n",
       " '2.5 Hybrid Navi/Cam Stoel/stuurverw Adapt-cruise C',\n",
       " '4.0 Fj70',\n",
       " '4.0 V6 4WD',\n",
       " '1.5 Hybrid Adventure l Side Steps l Dash Cam',\n",
       " '1.5 Hybrid AWD Adventure Automaat | NAVIGATIE | PA',\n",
       " '4.0 Fj73',\n",
       " '2.5 Hybrid Dynamic Automaat | SENSOREN V+A | PARKE',\n",
       " '1988 Gris Essence 3 portes Manuelle 4.0 SUV/4&#215',\n",
       " 'Fj55 1978',\n",
       " '1.8 Hybrid Active / Adaptive Cruise / Camera / Led',\n",
       " '2.5 AWD Hybrid Premium Automaat I PANORAMISCH SCHU',\n",
       " '1.5 Hybrid First Edition Automaat | PARKEERCAMERA',\n",
       " '4.5 Fzj73',\n",
       " '2.5 Hybrid Automaat Adapt-Cruise Elek-Klep Camera',\n",
       " '1.5 Hybrid Luxury l Stoel verwarming l Stuur verwa',\n",
       " '2.5 Hybrid AWD Bi-Tone Automaat I 1650KG TREKGEWIC',\n",
       " 'Touring Sports 1.8 Hybrid Business Plus Automaat I',\n",
       " 'Touring Sports 1.8 Hybrid Dynamic Go | Trekhaak',\n",
       " 'Touring Sports 1.8 Hybrid Lease+ Top 5 NL auto! 17',\n",
       " 'Touring Sports 1.8 Hybrid Business Automaat I STOE',\n",
       " 'Touring Sports 1.8 Hybrid Business Plus Automaat I',\n",
       " 'Touring Sports 1.8 Hybrid Dynamic Go Automaat I CR',\n",
       " 'Touring Sports 1.8 Hybrid Dynamic Automaat I LUXE',\n",
       " 'Touring Sports 1.8 Hybrid Business Automaat | NAVI',\n",
       " 'Touring Sports 1.8 Hybrid Business Automaat I ADAP',\n",
       " 'Touring Sports 1.8 Hybrid Business Plus | Navigati',\n",
       " 'Touring Sports 1.8 Hybrid Dynamic Automaat | NAVI',\n",
       " 'Touring Sports 2.0 Hybrid GR-Sport Plus l Stuurver',\n",
       " 'Touring Sports 1.8 Hybrid Active l Navigatie l ACC',\n",
       " '1.8 Hybrid Executive | Automaat | Navi',\n",
       " 'Touring Sports 1.8 Hybrid Dynamic Automaat I PANOR',\n",
       " 'HSD 136h Design Business',\n",
       " 'Touring Sports 1.8 Hybrid Business Automaat I STOE',\n",
       " 'Touring Sports 1.8 Hybrid Active Automaat I ACHTER',\n",
       " '125H ACTIVE TECH',\n",
       " '180h Design',\n",
       " '122h Design MY21',\n",
       " '143 D-4D Dynamic',\n",
       " '184h Collection MY22',\n",
       " '180h Collection',\n",
       " '100h Chic 5p',\n",
       " '90 D-4D Dynamic 5p',\n",
       " 'HSD 136h Dynamic',\n",
       " 'HSD 100h Dynamic 5p',\n",
       " '136h Dynamic 15',\n",
       " '100h Dynamic 5p MY19',\n",
       " 'Hybride 218ch Design',\n",
       " 'HSD 136h Collection RC18',\n",
       " 'Base 24 kWh Automaat | Climate Control | Navi | Cr',\n",
       " 'Base 24 kWh Org. NL/82DKM',\n",
       " 'Electric 40kWh Tekna',\n",
       " '2.ZERO EDITION 40 kWh 150pk / Adaptive Cruise/ 360',\n",
       " 'NISSAN ZXT Targa (origineel Duits)',\n",
       " nan,\n",
       " '1.5 dci 110',\n",
       " '1.5 dCi 110ch Connect Edition Euro6',\n",
       " '1.5 dCi 110ch N-Connecta Euro6 7 places',\n",
       " '1.5 DCI 110 CONNECT EDITION 360',\n",
       " nan,\n",
       " 'N-Connecta + Design pack',\n",
       " 'Tekna',\n",
       " 'Acenta met navi VOOR HANDELAAR',\n",
       " '1.0 IG-T 92ch Acenta Xtronic 2021.5',\n",
       " '1.0 IG-T 92ch Made in France 2021',\n",
       " '1.5 dCi 90ch Acenta 2018 Euro6c',\n",
       " '109ch 24kWh Visia',\n",
       " '150ch 40kWh 10ème Anniversaire 21',\n",
       " '150ch 40kWh Acenta',\n",
       " '1.0 IG-T 100ch N-Sport 2020',\n",
       " '1.0 IG-T 92ch Acenta Xtronic 2021',\n",
       " '150ch 40kWh N-Connecta 2018',\n",
       " '1966 FORD CABRIOLET',\n",
       " '1966 FORD CABRIOLET V8',\n",
       " '1965 Ford 64 1/2 Convertible V8',\n",
       " '1965 FORD CABRIOLET PONY',\n",
       " '1967 FORD CABRIOLET CODE A V8',\n",
       " '1965 FORD V8',\n",
       " 'CABRIOLET',\n",
       " 'CABRIOLET',\n",
       " 'CABRIOLET',\n",
       " 'CABRIOLET',\n",
       " 'CABRIOLET',\n",
       " 'CABRIOLET',\n",
       " 'CABRIOLET',\n",
       " 'CABRIOLET',\n",
       " 'CABRIOLET',\n",
       " 'Cabrio Aut.',\n",
       " 'GT V8',\n",
       " 'Cabriolet Speciale Sport Sprint Edition',\n",
       " 'COBRA 427 PIGEON PERFORMANCE',\n",
       " 'cabriolet',\n",
       " '-',\n",
       " 'CABRIOLET V8 BVM 289 ESSENCE',\n",
       " 'V8 312, PACK ELEC, HARD TOP',\n",
       " '289 CI COUPE 4,7 200ch',\n",
       " '1969 FORD FASTBACK MACH1',\n",
       " '1967 FORD COUPE V8',\n",
       " '2021 Ford Shelby GT500',\n",
       " '1970 FORD FASTBACK MACH1',\n",
       " '1966 FORD COUPE GREEN APPLE',\n",
       " 'COUPE',\n",
       " 'FASTBACK',\n",
       " '1966 FORD COUPE V8',\n",
       " '1967 FORD COUPE V8',\n",
       " 'COUPE V8 289CI',\n",
       " '1969 FORD COUPE V8',\n",
       " 'COUPE V8',\n",
       " 'COUPE',\n",
       " 'COUPE',\n",
       " 'ELEANOR GT500',\n",
       " '1965 FORD COUPE',\n",
       " '1968 FORD FASTBACK V8',\n",
       " 'COUPE',\n",
       " 'COUPE',\n",
       " 'COUPE',\n",
       " 'COUPE',\n",
       " 'COUPE',\n",
       " 'COUPE',\n",
       " 'COUPE',\n",
       " 'COUPE V8',\n",
       " '1976 FORD BLACK EDITION',\n",
       " 'COUPE',\n",
       " '2.3 EcoBoost 317ch',\n",
       " 'EcoBoost V6',\n",
       " 'Shelby GT350',\n",
       " 'V6 Coupé 202cv Aut.',\n",
       " 'Shelby GT350R',\n",
       " 'Shelby GT350',\n",
       " 'Shelby GT350R',\n",
       " 'EcoBoost V6',\n",
       " '2.0 Hybrid 177PK KJ47436',\n",
       " 'Fastback 1.0 T-GDI MILD-HYBRID KLASS 120PK MP22635',\n",
       " '1.6 GDi Hybride Creative',\n",
       " '1.6 GDi Comfort - Plus',\n",
       " '1.6 GDi Comfort',\n",
       " '1.6 GDi Intuitive',\n",
       " '1.6 GDi Hybride Premium | Leder | Adapt. cruise |',\n",
       " '1.6 GDi Hybride Automaat Comfort I Adapt. Cruise I',\n",
       " '1.0 T-GDi 120 Creative',\n",
       " '20 coupe1.0 t gdi 120 creative',\n",
       " '1.6 T-GDI MILD-HYBRID TREND 2WD 110PK LR11554',\n",
       " 'electrique 39 kwh - 136 ch',\n",
       " '1.6 CRDi 136ch Creative',\n",
       " 'CW 1.4i i-Motion Business AIRCO TREKHAAL LPG-G3 De',\n",
       " 'Wagon 1.5 T-GDi MHEV N Line | N-line | Sport uitvo',\n",
       " 'Wagon 1.0 T-GDi MHEV Comfort VAN € 30.100,- VOOR €',\n",
       " 'Hybrid 141ch Creative',\n",
       " '1.4 T-GDi 140ch N Line DCT-7 Euro6d-T',\n",
       " '1.1 CRDi 75 Blue Drive Business',\n",
       " '1.4 T-GDi 140ch Creative',\n",
       " '1.2 75ch Initia',\n",
       " 'D2 115ch Start\\\\u0026Stop Xenium',\n",
       " 'T2 122ch Momentum Business',\n",
       " 'T3 152ch Geartronic',\n",
       " 'D2 115ch Start\\\\u0026Stop Xenium',\n",
       " 'T2 122ch Momentum Business',\n",
       " 'T3 152ch Geartronic',\n",
       " '2.0  - ONLINE AUCTION',\n",
       " '2.0  - ONLINE AUCTION',\n",
       " 'Coupé Bertone',\n",
       " '444 kattenrug',\n",
       " 'Coupé Bertone',\n",
       " '444 kattenrug',\n",
       " '2.0 T8 PLUG-IN HYBRID INSCRIPTION 304PK WC44666',\n",
       " '2.0 T8 PLUG-IN HYBRID INSCRIPTION 304PK WC44666',\n",
       " '2.3 GL !!UNIEK !!',\n",
       " '2.3 GL !!UNIEK !!',\n",
       " '2.0 T5 Summum Automaat']"
      ]
     },
     "execution_count": 1034,
     "metadata": {},
     "output_type": "execute_result"
    }
   ],
   "source": [
    "list(df.loc[df[df[\"power\"].isnull()].index, \"short_description\"])"
   ]
  },
  {
   "cell_type": "code",
   "execution_count": 1035,
   "metadata": {
    "ExecuteTime": {
     "end_time": "2024-02-28T21:27:20.546601Z",
     "start_time": "2024-02-28T21:27:20.514567Z"
    }
   },
   "outputs": [
    {
     "data": {
      "text/plain": [
       "0    268\n",
       "1     13\n",
       "dtype: int64"
      ]
     },
     "execution_count": 1035,
     "metadata": {},
     "output_type": "execute_result"
    }
   ],
   "source": [
    "df.loc[df[df[\"power\"].isnull()].index, \"short_description\"].str.extract(\"(\\d+)ch|(\\d+\\.*\\d*)cv\", flags=re.IGNORECASE).notnull().sum()"
   ]
  },
  {
   "cell_type": "code",
   "execution_count": 1036,
   "metadata": {
    "ExecuteTime": {
     "end_time": "2024-02-28T21:27:20.574563Z",
     "start_time": "2024-02-28T21:27:20.553301Z"
    }
   },
   "outputs": [
    {
     "data": {
      "text/plain": [
       "0    268\n",
       "dtype: int64"
      ]
     },
     "execution_count": 1036,
     "metadata": {},
     "output_type": "execute_result"
    }
   ],
   "source": [
    "# How many values can I fill using the short_description that contains the \"ch\" value?\n",
    "df.loc[df[df[\"power\"].isnull()].index, \"short_description\"].str.extract(\"(\\d+\\.*\\d*)ch\", flags=re.IGNORECASE).notnull().sum()"
   ]
  },
  {
   "cell_type": "code",
   "execution_count": 1037,
   "metadata": {
    "ExecuteTime": {
     "end_time": "2024-02-28T21:27:20.615156Z",
     "start_time": "2024-02-28T21:27:20.579572Z"
    },
    "run_control": {
     "marked": true
    }
   },
   "outputs": [],
   "source": [
    "df.loc[df[df[\"power\"].isnull()].index, \"power\"] = df.loc[df[df[\"power\"].isnull()].index, \"short_description\"].str.extract(\"(\\d+\\.*\\d*)ch\", flags=re.IGNORECASE).values.astype(float)"
   ]
  },
  {
   "cell_type": "code",
   "execution_count": 1038,
   "metadata": {
    "ExecuteTime": {
     "end_time": "2024-02-28T21:27:20.635613Z",
     "start_time": "2024-02-28T21:27:20.619343Z"
    }
   },
   "outputs": [
    {
     "name": "stdout",
     "output_type": "stream",
     "text": [
      "Missing Values in 'power':\n",
      "Count: 304\n",
      "Percentage: 1.06%\n"
     ]
    }
   ],
   "source": [
    "handle_missing_values(df , \"power\")"
   ]
  },
  {
   "cell_type": "code",
   "execution_count": 1039,
   "metadata": {
    "ExecuteTime": {
     "end_time": "2024-02-28T21:27:20.667403Z",
     "start_time": "2024-02-28T21:27:20.644483Z"
    }
   },
   "outputs": [
    {
     "data": {
      "text/plain": [
       "0    13\n",
       "dtype: int64"
      ]
     },
     "execution_count": 1039,
     "metadata": {},
     "output_type": "execute_result"
    }
   ],
   "source": [
    "# How many values can I fill using the short_description that contains the \"cv\" value?\n",
    "df.loc[df[df[\"power\"].isnull()].index, \"short_description\"].str.extract(\"(\\d+\\.*\\d*)cv\", flags=re.IGNORECASE).notnull().sum()"
   ]
  },
  {
   "cell_type": "code",
   "execution_count": 1040,
   "metadata": {
    "ExecuteTime": {
     "end_time": "2024-02-28T21:27:20.695240Z",
     "start_time": "2024-02-28T21:27:20.676118Z"
    }
   },
   "outputs": [],
   "source": [
    "df.loc[df[df[\"power\"].isnull()].index, \"power\"] = df.loc[df[df[\"power\"].isnull()].index, \"short_description\"].str.extract(\"(\\d+\\.*\\d*)cv\", flags=re.IGNORECASE).values.astype(float)"
   ]
  },
  {
   "cell_type": "code",
   "execution_count": 1041,
   "metadata": {
    "ExecuteTime": {
     "end_time": "2024-02-28T21:27:20.707932Z",
     "start_time": "2024-02-28T21:27:20.698689Z"
    }
   },
   "outputs": [
    {
     "name": "stdout",
     "output_type": "stream",
     "text": [
      "Missing Values in 'power':\n",
      "Count: 291\n",
      "Percentage: 1.02%\n"
     ]
    }
   ],
   "source": [
    "handle_missing_values(df , \"power\")"
   ]
  },
  {
   "cell_type": "code",
   "execution_count": 1042,
   "metadata": {
    "ExecuteTime": {
     "end_time": "2024-02-28T21:27:20.724153Z",
     "start_time": "2024-02-28T21:27:20.716649Z"
    }
   },
   "outputs": [],
   "source": [
    "# df.groupby(['make', 'model', 'body_type', 'type']).agg({'power': 'mean'})"
   ]
  },
  {
   "cell_type": "code",
   "execution_count": 1043,
   "metadata": {
    "ExecuteTime": {
     "end_time": "2024-02-28T21:27:20.769594Z",
     "start_time": "2024-02-28T21:27:20.729483Z"
    }
   },
   "outputs": [],
   "source": [
    "# Since the \"power\" column is associated with \" make \" \" model \" \" body_type \" \" type \" and \" engine_size \". \n",
    "# let's fill in the NaN values in this column by grouping the data based on these columns \n",
    "# and performing the necessary operations. \n",
    "\n",
    "df['power'].fillna(df.groupby(['make', 'model', 'body_type', \"type\"])['power'].transform('mean'), inplace = True)  # veya 'median' yerine 'mean'"
   ]
  },
  {
   "cell_type": "code",
   "execution_count": 1044,
   "metadata": {
    "ExecuteTime": {
     "end_time": "2024-02-28T21:27:20.785289Z",
     "start_time": "2024-02-28T21:27:20.776166Z"
    }
   },
   "outputs": [
    {
     "name": "stdout",
     "output_type": "stream",
     "text": [
      "Missing Values in 'power':\n",
      "Count: 25\n",
      "Percentage: 0.09%\n"
     ]
    }
   ],
   "source": [
    "handle_missing_values(df , \"power\")"
   ]
  },
  {
   "cell_type": "markdown",
   "metadata": {},
   "source": [
    "<h6><span class=\"label label-danger\">Attention</span>Since there is no other column available to fill the remaining values, let's proceed with dropping them. </h6>"
   ]
  },
  {
   "cell_type": "code",
   "execution_count": 1045,
   "metadata": {
    "ExecuteTime": {
     "end_time": "2024-02-28T21:27:20.856233Z",
     "start_time": "2024-02-28T21:27:20.792400Z"
    }
   },
   "outputs": [],
   "source": [
    "df.dropna(subset=['power'], inplace = True)"
   ]
  },
  {
   "cell_type": "code",
   "execution_count": 1046,
   "metadata": {
    "ExecuteTime": {
     "end_time": "2024-02-28T21:27:20.869913Z",
     "start_time": "2024-02-28T21:27:20.860796Z"
    },
    "scrolled": false
   },
   "outputs": [
    {
     "name": "stdout",
     "output_type": "stream",
     "text": [
      "Missing Values in 'power':\n",
      "Count: 0\n",
      "Percentage: 0.00%\n"
     ]
    }
   ],
   "source": [
    "handle_missing_values(df , \"power\")"
   ]
  },
  {
   "cell_type": "code",
   "execution_count": 1047,
   "metadata": {
    "ExecuteTime": {
     "end_time": "2024-02-28T21:27:20.891185Z",
     "start_time": "2024-02-28T21:27:20.873968Z"
    }
   },
   "outputs": [
    {
     "data": {
      "text/plain": [
       "11624     69.0\n",
       "27256    163.0\n",
       "20523    110.0\n",
       "7877     156.0\n",
       "6699      90.0\n",
       "Name: power, dtype: float64"
      ]
     },
     "execution_count": 1047,
     "metadata": {},
     "output_type": "execute_result"
    }
   ],
   "source": [
    "df.power.sample(5)"
   ]
  },
  {
   "cell_type": "code",
   "execution_count": 1048,
   "metadata": {
    "ExecuteTime": {
     "end_time": "2024-02-28T21:27:20.919569Z",
     "start_time": "2024-02-28T21:27:20.899316Z"
    }
   },
   "outputs": [
    {
     "data": {
      "text/plain": [
       "25732    122.0\n",
       "22840    179.0\n",
       "5612     300.0\n",
       "8941     133.0\n",
       "12058     90.0\n",
       "Name: power, dtype: float64"
      ]
     },
     "execution_count": 1048,
     "metadata": {},
     "output_type": "execute_result"
    }
   ],
   "source": [
    "# Let's not take the decimal digits of power . so let's convert it to int first and then to float\n",
    "df.power = df.power.astype(int).astype(float)\n",
    "df.power.sample(5)"
   ]
  },
  {
   "cell_type": "markdown",
   "metadata": {},
   "source": [
    "<a id=\"6\"></a>\n",
    "<div class=\"alert alert-info\" role=\"alert\">\n",
    "<h1>Column name :<span style=\"color:red\"> engine_size </span></h1>\n",
    "</div>\n",
    "\n",
    "<div class=\"alert alert-block alert-warning\">\n",
    "<b>Operation : </b> To fill in the missing values in the \"engine_size\" column, we can use the \"short_description\" column . Since the \"engine_size\" column is associated with <span style=\"color:red\"><b> \" make \" \" model \" \" body_type \" \" type \" and \" power \"</b></span> . let's fill in the <span style=\"color:red\"><b> NaN values</b></span> in this column by grouping the data based on these columns and performing the necessary operations. \n",
    "</div>\n",
    "<a href=\"#toc\" class=\"btn btn-warning btn-lg active\" role=\"button\" aria-pressed=\"true\" style=\"color:black;\">Content</a>"
   ]
  },
  {
   "cell_type": "code",
   "execution_count": 1049,
   "metadata": {
    "ExecuteTime": {
     "end_time": "2024-02-28T21:27:20.948448Z",
     "start_time": "2024-02-28T21:27:20.927678Z"
    },
    "scrolled": false
   },
   "outputs": [
    {
     "name": "stdout",
     "output_type": "stream",
     "text": [
      "column name    :  engine_size\n",
      "--------------------------------\n",
      "per_of_nulls   :  % 4.85\n",
      "num_of_nulls   :  1388\n",
      "num_of_uniques :  69\n",
      "engine_size\n",
      "1.9     6346\n",
      "1.5     3620\n",
      "1.4     3124\n",
      "0.9     3058\n",
      "1.3     2121\n",
      "        ... \n",
      "54.0       1\n",
      "19.1       1\n",
      "99.9       1\n",
      "16.5       1\n",
      "3.3        1\n",
      "Name: count, Length: 70, dtype: int64\n"
     ]
    }
   ],
   "source": [
    "first_looking(\"engine_size\")"
   ]
  },
  {
   "cell_type": "code",
   "execution_count": 1050,
   "metadata": {
    "ExecuteTime": {
     "end_time": "2024-02-28T21:27:21.000575Z",
     "start_time": "2024-02-28T21:27:20.950979Z"
    }
   },
   "outputs": [
    {
     "data": {
      "text/plain": [
       "['CDi',\n",
       " 'A-CLASS A180 1.3 136 CV 7G-DCT 5P',\n",
       " 'd Avantgarde Largo',\n",
       " '580 4MATIC AMG Line Premium plus | Rij-assist + |',\n",
       " '450+ AMG Line 108kWh',\n",
       " '350 AMG Line 90kWh Premium Pack',\n",
       " 'Business Solution AMG',\n",
       " 'Business Solution AMG',\n",
       " 'CDi',\n",
       " '200 CDi 1.8 CDI Boîte auto',\n",
       " 'Coupé 3.0 CDI V6 DPF 7G-TRONIC BlueEFFICIENCY 265',\n",
       " 'MERCEDES-BENZ Clase GLK Pequeño  Automático de 5',\n",
       " 'Pequeño Automático de 5 Puertas',\n",
       " nan,\n",
       " 'BlueEFFICIENCY Urban',\n",
       " 'CDI',\n",
       " 'MERCEDES-BENZ Clase SL Descapotable  Automático d',\n",
       " 'MercedesAMG',\n",
       " 'AMG Airscarf Kamera ToT Winkel SHZ PDC Spurhalte',\n",
       " 'SL Vollrestauration',\n",
       " '-CLASS 6.2 COUPE SPORT AUTO 457 2P',\n",
       " 'SL',\n",
       " 'Extrem gepflegtes Ex-Pressefahrzeug W 231',\n",
       " 'V8 Cabrio Aut.',\n",
       " 'SL',\n",
       " 'Cabrio',\n",
       " 'CABRIOLET 2.1 CDI 204CV AUTO GARANTIE 6 MOIS',\n",
       " '200 AMG Sport 7G-Tronic BVA',\n",
       " '190SL',\n",
       " nan,\n",
       " 'D',\n",
       " '-CLASS 4MATIC',\n",
       " '-CLASS 3.0 4MATIC AUTO 333 2P',\n",
       " 'Coupe Aerodynamik-P. Performance Sitze Pano Faceli',\n",
       " 'Coupé 220d',\n",
       " 'CDI Inspiration 7G-DCT',\n",
       " 'AMGpack + NIGHTPACK - CAMERA 48700€ + btw',\n",
       " '4MATIC',\n",
       " '4MATIC',\n",
       " '4MATIC AMG Line',\n",
       " '4M Progressive+Pano+DISTRON+HUP+KEYLESS',\n",
       " '4MATIC',\n",
       " 'Progressive 7-Sitzer 20\" Pano 360° Ke',\n",
       " '4M AMG/KEYLESS/PTS/360/MEMORY/DISTRO/SHD',\n",
       " '4MATIC',\n",
       " '4M AMG Line',\n",
       " '4M AMG Line Night Pano Advanced+',\n",
       " '4M AMG/ MBUX/Schiebedach/Multibeam/Distr Navi/SHD',\n",
       " '250 Progressive/LED/Memory-P./Kamera/Navi/',\n",
       " '4M AMG-Line+AHK+DISTRONIC+MULTIBEAM+MBUX',\n",
       " '4M AMG/DISTRO/KEYLESS/PTS/NIGHT/PANO/SHZ',\n",
       " 'AMG **Designo Magno** AHK Multibeam',\n",
       " nan,\n",
       " '4M AMG Line Night Navi Kamera LED SHZ',\n",
       " '4M AMG Multibeam MBUX-AR',\n",
       " '300 4MATIC',\n",
       " '4MATIC',\n",
       " '258PS 4Matic LED HIGH Luxury NAV CAM',\n",
       " 'D ADVANTAGE + PAQ NIGHT',\n",
       " nan,\n",
       " 'Coupé 350D 258 CV',\n",
       " '+ Electric Art MBUX+LED+RüKam+El.Heck+18',\n",
       " \"4Matic+360° Park+19''Alu+Schiebedach\",\n",
       " 'D 2.2 170CV AUT 5P',\n",
       " 'd',\n",
       " '53 AMG 4M+ Sitzklima*Drivers P.*Burmester',\n",
       " '350 Fahrassist.*Pano.-Dach*360°*Night*Memory',\n",
       " 'AMG 4M Sitzklima*Burmester*Fahrassist.',\n",
       " '+ AMG*Sitzklima*Burmester*Distronic*Night',\n",
       " '450+ 360°Kam*Pano.-D.*20\"LMR*AIRMATIC*Memory',\n",
       " 'lang Avantgarde Sitzklima vo+hi, Pano, Navi/SHD',\n",
       " 'EQV 250 Avantgarde Airmatic El Sitze vorne 7-Sitze',\n",
       " 'CLA-CLASS 2.1 D DCT SHOOTING BRAKE 136 5P',\n",
       " '580 4Matic',\n",
       " '580 4MATIC AMG HYPERSCREEN+DIGITAL LIGHT+HUD',\n",
       " '580 4M AMG+21\"+AHK+AR-HUD+SITZKLIMA+PANO+360',\n",
       " '580 4Matic',\n",
       " '450+ NIGHT+20\"+PANO+FAHRASS+DIG.LIGHT+360°',\n",
       " '2.3 16',\n",
       " 'd',\n",
       " 'Mercedes-AM53 4MATIC+',\n",
       " '-CLASS 4.7 455 4P',\n",
       " '-CLASS 4.7 455 4P',\n",
       " '580 4M AMG+21\"+HA-LENKUNG+AR-HUD+SITZKLIMA',\n",
       " 'Electric/Distr/KeyG/360/Memory/Burmeste Navi/LED',\n",
       " 'AMG 4M 21\"+HYPERSCREEN+SITZKLIMA+CARBON',\n",
       " 'Mercedes-AMG S 4MATIC+',\n",
       " 'Mercedes-AMG S 4MATIC+',\n",
       " '450+ Electric Art DIGITAL LIGHT+DISTRO+Pano',\n",
       " '-CLASS 2.1 D 4MATIC AUTO 170CV 4P',\n",
       " '450+ ELECTRIC ART/DISTRO/MBUX/PANO/360/PTS',\n",
       " '450+ PANO+DIG.LIGHT+KEYLESS+FAHRASS+360°',\n",
       " '-CLASS D G TRONIC PLUS AVANTGARDE',\n",
       " 'Pano/Distr/KeyG/360/Memory/Burmester Navi/Klima',\n",
       " 'AMG/Pano/Distr/KeyG/360/AHK/Mem/Burmest Navi/LED',\n",
       " '350 amg distronic, memory, keyless go, led',\n",
       " 'd',\n",
       " 'd',\n",
       " 'd',\n",
       " '450  AMG+NIGHT+21\"+FONDSITZ-PAKET+PANO+HUD',\n",
       " 'd',\n",
       " '350 NIGHT+PREMIUM+21\"+PANO+AHK+SITZKLIMA',\n",
       " '+ EDITION 1-HEADUP-PANO-AIRMATIC-360°',\n",
       " '4MATIC DIGITAL LIGHT+HUD+BURMESTER+PANO',\n",
       " '350+',\n",
       " 'CLA-CLASS 2.1 CDI DCT 170CV 4P',\n",
       " 'CLA-CLASS 2.1 CDI DCT 170CV 4P',\n",
       " '350 4M grau magno PROGRESSIVE+AHK+PANO+TOTW',\n",
       " 'AMG  4M /21\"/Digital Light/Pano-D',\n",
       " '+ AMG MBUX+Dig-LED+HUD+Pano+Distronic+21',\n",
       " '+ AMG MBUX+360°+Pano+DIG-LED+HUD+Distro',\n",
       " '+ AMG/AIRMATIC/NAVI/DISTRO/PANO/360/SOUND',\n",
       " '4M AMG MBUX+360°+HUD+DIG-LED+Burmeste',\n",
       " '350+',\n",
       " '350+ AMG Line',\n",
       " 'CLS-CLASS 272 4P',\n",
       " 'AMG*NightP*Digital-Light*AHK*',\n",
       " '350+ AMG*Urban Guard*Digital-Light*Pano*',\n",
       " 'Electric Art*Digital-Light*Pano-SD*',\n",
       " '+ EDITION1+AMG+AIRMATIC+PANO+HUD+MEMORY',\n",
       " 'Electric Art*Digital-Light*Pano-SD*',\n",
       " 'ElectricArt/PanoDa/Distr/KeyG/360/Memor Navi/LED',\n",
       " '43 AMG 4M*Pano-SD*Urban Guard*HUD*360°',\n",
       " '450+  AMG+NIGHT+20\"+PANO+AHK+HUD+KEYLESS+360',\n",
       " '4M EDITION ONE AMG-DISTR-PREMIUM-PANO-360°',\n",
       " '+   ELECTRIC ART+20\"+SITZKLIMA+AHK+KEYL.',\n",
       " 'Jam 1.4 Benzine 100PK + Navigatie',\n",
       " 'Enjoy 1.4 Benzine 100PK',\n",
       " 'Ultimate KAMERA NAVI LED STANDHZ ACC',\n",
       " 'F e Elegance',\n",
       " 'D Black Edition 5D 1.4B 100PK + Navigatie',\n",
       " '-e ELEGANCE NAVI|LED||STANDHEIZUNG|1-PHASEN',\n",
       " '1.0 120 Jahre KLIMA PDC SITZHEIZUNG',\n",
       " 'S 1.4 Turbo KLIMA KURVENLICHT PDC SHZ',\n",
       " '-e GS-LINE NAVI|SHZ|LED|PDC|ALU|1-PHASEN',\n",
       " 'e Ultimate +11kW+Active+Keyless+R-Kamera+',\n",
       " '-e ELEGANCE NAVI|SHZ|LED|ALU|1-PHASEN',\n",
       " '-e ELEGANCE NAVI|SHZ|LED|PDC|ALU|1-PHASEN',\n",
       " '-e ELEGANCE NAVI|LED||STANDHEIZUNG|1-PHASEN',\n",
       " 'F e Edition LM Klima Bluetooth Navi PDC',\n",
       " '-e ELEGANCE NAVI|KAMERA|SHZ|LED|ALU|1-PHASE',\n",
       " '-e ELEGANCE NAVI|KAMERA|SHZ|LED|ALU|1-PHASE',\n",
       " '-e ELEGANCE NAVI|SHZ|LED|KAMERA|ALU|1-PHASE',\n",
       " '-e ELEGANCE NAVI|SHZ|KAMERA|1-PHASEN',\n",
       " '-e Edition Elektromotor Allwetter PDC',\n",
       " '-e EDITION NAVI|SHZ|1-PHASEN|KAMERA|PDC',\n",
       " 'Corsa-e Elegance-e',\n",
       " 'OPC 1.6 Turbo KLIMA SHZ LEDER BI-XENON',\n",
       " '1.6 Turbo Innovation NAVI W-LAN EU6',\n",
       " '1.6SIDI Turbo Innovation XENON NAVI',\n",
       " nan,\n",
       " 'Descapotable Manual de 3 Puertas',\n",
       " '2.0 turbo',\n",
       " '2.0 Turbo Einzelstück/Rennwagen/Track.',\n",
       " nan,\n",
       " 'Deportivo Manual de 3 Puertas',\n",
       " 'C 2.2 de Luxe',\n",
       " nan,\n",
       " 'Deportivo Manual de 3 Puertas',\n",
       " nan,\n",
       " 'Coupe GS',\n",
       " 'GTC OPC J 280 cv',\n",
       " 'GTC 1.4 Twinport ecoFLEX',\n",
       " '19 SR',\n",
       " '2.0i-16V DTM',\n",
       " nan,\n",
       " 'V6 190ps',\n",
       " 'Olympia',\n",
       " 'GT1900 AL',\n",
       " 'GSE (état concours)',\n",
       " 'Turbo 4x4  H-Kennzeichen Großer Service',\n",
       " nan,\n",
       " nan,\n",
       " nan,\n",
       " nan,\n",
       " 'GTE - CONRERO',\n",
       " 'Manta-B',\n",
       " 'Twip top 140 ,18',\n",
       " 'Astra H GTC Opc Line',\n",
       " '1,8 E Coupe Berlina Automatik  1 Hand Schiebedach',\n",
       " 'B LS Fastback',\n",
       " 'oldtimer 3.0 6cil GSE 180pk manual gears box',\n",
       " nan,\n",
       " nan,\n",
       " 'AT',\n",
       " '1.3 CDTI . GTC',\n",
       " 'B 2.0 GT/E,IRMSCHER,SERVO,H-ZULASSUNG,SPANIEN',\n",
       " 'Astra G OPC 1, 2.0 16V',\n",
       " 'A GTE Gelb Leder',\n",
       " 'e    1.4i  32jahre alt  h kennzeichen-möglich',\n",
       " '1.3 CDTI Advance 95cv S/S 5 PORTE',\n",
       " '1.3 CDTI b-Color 75cv 5 PORTE',\n",
       " 'GTC 1.7 CDTI 125 Sport 3p',\n",
       " 'Mokka-e GS Line-e',\n",
       " 'GS LINE',\n",
       " 'GS LINE',\n",
       " 'GS LINE',\n",
       " 'GS LINE',\n",
       " '1.5 Diesel 96kW Innov Automatik',\n",
       " 'X EXCELLENCE',\n",
       " 'TODOTERRENO 1.6 CDTI EXCELLENCE 120 5P',\n",
       " '1.6 CDTI EXCELLENCE AUTO 2WD 136 5P',\n",
       " '1.2 Direct Elegance INTELLILINK LED',\n",
       " 'e Ultimate FLA+Massage+Leder+SpurW+DynLi',\n",
       " 'Ultimate PDC SHZ KAMERA NAVI LED ACC',\n",
       " 'INS-ST INNOV. 1.6D 136CV MT6',\n",
       " '1.6 CDTI TURBO D INNOVATION ST 136CV 5P',\n",
       " '-e Cargo Edition, Navi, PDC, Klima, uvm....',\n",
       " 'ST 1.2T NAVI/LED/WINTER/PDC/SHZ/TEMP./USB',\n",
       " 'K ST 1.4T NAVI/LED/TEMP./WINTER/PDC/SHZ',\n",
       " '1.6 CDTI 100KW EXCELLENCE S',\n",
       " 'Sports Tourer 2.0 Turbo Innovation 4x4',\n",
       " 'Astra ST 1,6 CDTI Innovation|1 BESITZER|TOP AUSSTA',\n",
       " 'Meriva 1,4 Ecotec Turbo Edition|1 BESITZER|VOLLSTÄ',\n",
       " 'Berlina Manual de 5 Puertas',\n",
       " '1.2 Twinport ecoFLEX Edition Tüv + Insp.',\n",
       " 'E 1.4 Edition Winterpaket',\n",
       " 'E 1.4 Edition Winterpaket',\n",
       " 'SEDAN 1.6 CDTI 110 HP EXCELLENCE S',\n",
       " '5-Türer 1.2 Edition *LED*Klima*PDC*DAB*',\n",
       " '1.6 CDTI 81KW SELECTIVE 110 5P',\n",
       " '1.5D DVC 77KW 105 5P',\n",
       " 'LIFE ZE.40 Batteriemiete R110 Z.E. 40 CARPLAY SHZ ',\n",
       " 'EXPERIENCE (Selection) R135 ZE 50 PDC KLIMA',\n",
       " 'Life 40 R90 68kW',\n",
       " 'EXPERIENCE (Selection) R135 ZE 50 CCS TechnoP',\n",
       " 'Color/Miet Batterie/Türen mit Scheiben',\n",
       " 'Life 40 R90 68kW',\n",
       " 'ELECTRIC INTENS elektr. Faltdach EasyLink',\n",
       " 'ELECTRIC URBAN NIGHT NAVI SHZ PDC',\n",
       " 'LIFE 40 kW/h zzgl. Batteriemiete',\n",
       " 'Life 80',\n",
       " 'Electric Equilibre *PDC*DAB*Klima*MFA*ZV*',\n",
       " 'ELECTRIC ZEN',\n",
       " 'Electric Zen R80 60kW Batería 20kW/h',\n",
       " '5-Deurs 1.5 Diesel 68PK met garantie',\n",
       " 'Q210 Life Quickcharge 22 kWh (AccuHuur) incl. BTW',\n",
       " 'Ver.+TÜF alles mitversichert bis 50 T  KM.',\n",
       " 'R240 Zen 22 kWh Huur Accu Navi ParkeerCam PDC Clim',\n",
       " '80 INTENS WHITE',\n",
       " '1.3 TCE 165 ENERGY INTENS EDC BVA',\n",
       " 'Q210 Zen Quickcharge 22 kWh (ex Accu) | CAMERA | K',\n",
       " 'Q210 Zen Quickcharge 22 Kwh [ Nav Clima ]',\n",
       " 'Q210 Zen Quickcharge 22 kWh (ex Accu) Full map nav',\n",
       " 'R90 Life 41 kWh|Clima|Bluetooth|Cruise',\n",
       " 'Intens Q210',\n",
       " 'Combi Energy dCi 90 Intense 5 places',\n",
       " 'Q210 Life Quickcharge 22 kWh (AccuHuur) incl. BTW',\n",
       " 'R240 Life 22 kWh (Accuhuur) / incl. BTW / excl. Ov',\n",
       " 'R90 Life 41 kWh (AccuHuur) incl. BTW excl. Overhei',\n",
       " 'R135 Intens 50 *CCS-SNELLADER* (Koopbatterij) incl',\n",
       " 'Q210 Zen Quickcharge 22 kWh (ex Accu) Aut. Navi|Cl',\n",
       " 'Q210 Zen Quickcharge 22 kWh (ex Accu) Navigatie/ P',\n",
       " 'R135 Z.E. 50 Riviera KAMERA+NAVI+SHZ+LEDER',\n",
       " 'Intens 40 R90 68kW',\n",
       " 'R135 Intens 50 | Huuraccu | Camera | Navi | Parkee',\n",
       " 'R90 Intens 41 kWh (KoopBatterij) incl. BTW excl. O',\n",
       " 'R110 Life 50 (AccuHuur) incl. BTW excl. Overheidss',\n",
       " 'EXPERIENCE (Selection) R110 ZE50 SHZ TechnoP',\n",
       " 'EXPERIENCE Batteriekauf R110 ZE 50 NAVI SHZ',\n",
       " 'Alpine A110 1.8 Pure auto',\n",
       " 'R135 Experience 50 *CCS-SNELLADER* (AccuHuur) incl',\n",
       " 'R240 Intens 22 kWh (Accuhuur) / incl. BTW / excl.',\n",
       " 'INTENS R135 ZE50 Batteriekauf WinterP Allwetter',\n",
       " 'TCe 90 ZEN',\n",
       " 'R110 Life ZE50 (incl Accupakket) | LED | APPLE CAR',\n",
       " 'Q210 Intens Quickcharge 22 kWh (AccuHuur)',\n",
       " '1.3 Tce 130ch  Intens',\n",
       " 'R110 Life 50 (Accuhuur) / incl. BTW / excl. Overhe',\n",
       " 'R240 Zen 22 kWh (AccuHuur) incl. BTW excl. Overhei',\n",
       " 'TCe 90 ZEN Sitzheizung',\n",
       " 'Q210 Zen Quickcharge 22 kWh (ex Accu) (89PK), Auto',\n",
       " 'R110 Life 50 (AccuHuur) incl. BTW excl. Overheidss',\n",
       " '1.0 SCe 75ch Zen - 20',\n",
       " 'R135 Zen 50 (AccuHuur) incl. BTW excl. Overheidssu',\n",
       " 'R135 Intens 50 *CCS-SNELLADER* (Koopbatterij) incl',\n",
       " 'LIMITED LIFE 41KW/H',\n",
       " 'Zoe R110 ZE40 Life  LIMITED Nav 17Z PDC',\n",
       " 'R90 Life 41 kWh (AccuHuur) incl. BTW excl. Overhei',\n",
       " 'Life R240 65kW',\n",
       " 'Life (Kauf-Batterie)',\n",
       " 'E-TECH 100% el. ZEN SHZ PDC KLIMA BT USB',\n",
       " 'R110 Life 50 (AccuHuur) incl. BTW excl. Overheidss',\n",
       " 'COMPLETE INTENS R135',\n",
       " 'Electric Life R80 Achat Intégral 3CV',\n",
       " 'R110 Life 50 (AccuHuur) incl. BTW excl. Overheidss',\n",
       " 'R110 Life 50 (AccuHuur) incl. BTW excl. Overheidss',\n",
       " 'R110 Life 50 (AccuHuur) incl. BTW excl. Overheidss',\n",
       " 'Twizy 45 Intens Black Flex',\n",
       " 'R4 Cabriolet / Sammlerfahrzeug / 1. Hand',\n",
       " 'Descapotable Manual de 3 Puertas',\n",
       " 'III Phase 3 1.5 dCi eco2 110 cv DYNAMIQUE - GARANT',\n",
       " 'D53 Cabriolet',\n",
       " '3 coupe cabriolet III COUPE CABRIOLET 1.9 DCI 130',\n",
       " '8.5',\n",
       " 'Edition',\n",
       " 'Edition',\n",
       " 'Pare-Brise 2.0 150 ch Avec Hard Top',\n",
       " 'GTA V 2.5 V6 Turbo consignatie verkoop/Valckenier',\n",
       " 'A110 S 1.8T 292ch Bleu Alpine',\n",
       " 'Williams Phase 2',\n",
       " 'tce 140 edc fap',\n",
       " 'tce 140 edc fap',\n",
       " 'tce 140 edc fap - 21b',\n",
       " 'A PREPARER',\n",
       " 'Deportivo Automático de 3 Puertas',\n",
       " 'Zen',\n",
       " 'tce 140 edc fap r.s. line',\n",
       " 'Renault Megane 1,5 dCI Energy Limited S&S 95',\n",
       " 'RS Trophy Automatik',\n",
       " 'A310 S “Pack“ 3,0 Turbo',\n",
       " nan,\n",
       " '3 coupe III COUPE 2.0 DCI 160 FAP GT EURO5',\n",
       " 'A 310',\n",
       " nan,\n",
       " 'Coupe 2.0 turbo RS 275cv E6',\n",
       " '3 coupe III COUPE 2.0 DCI 180 FAP GT',\n",
       " '45 ELECTRIQUE',\n",
       " 'Renault Laguna Coupe 2.0 dCi 150',\n",
       " 'Le Mans, LETZE MÖGLICHKEIT',\n",
       " 'Cargo incl. accu incl. BTW',\n",
       " 'tce 160 edc fap - 21b r.s. line',\n",
       " 'RS',\n",
       " '(ohne Batterie) Cargo',\n",
       " '3 COUPE RENAULT SPORT 265 S&S',\n",
       " 'ARKANA E-Tech 145 - 21B R.S. Line',\n",
       " 'A310,Devil Auspuff,HKennz.,15\" Gotti,TÜV neu!!',\n",
       " '1.4 16V Sport Coupe `Wertanlage aus 1.Hand`',\n",
       " 'V6 TURBO',\n",
       " 'tce 160 edc fap - 21b',\n",
       " 'RS',\n",
       " 'ARKANA TCe 140 EDC FAP R.S. Line',\n",
       " nan,\n",
       " '1.0 TCE 74KW BUSINESS 5 PORTE',\n",
       " 'DCI 180 4 CONTROL',\n",
       " 'tce 160 edc fap - 21b',\n",
       " 'Technik 80 Z.E14.04.2014',\n",
       " 'coach 2000 16 v montecarlo',\n",
       " '(Mietbatterie) Life',\n",
       " 'II 2.0 DCI 150 GT COUPE',\n",
       " 'tce 140 edc fap - 21b r.s. line',\n",
       " 'Zen E-TECH Híbrido 105kW(145CV)',\n",
       " 'Intens TCe 140 EDC',\n",
       " '1.3 TCE 103KW ZEN EDC 140 5P',\n",
       " 'Black Edition 1.6 dCi 130 Energy',\n",
       " 'dci 90',\n",
       " 'e-tech 145 - 21',\n",
       " 'Business 1.5 dCi 90 Energy eco2',\n",
       " '1.2 TCE 120CV EDC ENERGY IRIDIUM LED NAVI CAMERA S',\n",
       " 'e-tech 145 - 21',\n",
       " 'blue dci 115',\n",
       " 'tce 160 edc',\n",
       " 'tce 160 edc',\n",
       " '1.5 BLUE DCI 115CV BUSINESS',\n",
       " '2.0 BLUE dCi Kombi+ACC+AHK+HuD+LED+Navi',\n",
       " 'Ini. P. Blue dCi 139 kW (190CV) EDC',\n",
       " 'Energy TCe 225 EDC Initiale Paris - 7p.',\n",
       " 'tce 160 edc',\n",
       " 'IV Estate 1.5 dCi 110ch',\n",
       " 'ZEN ENERGY dCI 81 KW 110 CV EDC 5',\n",
       " 'Grand Scénic III TomTom Edition 1,6 16V |7 SITZER|',\n",
       " 'grand scénic dci 130 energy fap eco2',\n",
       " 'SPORT TOURER 1.3 TCE ZEN 103KW 140 5P',\n",
       " 'blue dci 150',\n",
       " 'estate dci 130 energy',\n",
       " 'Zen Blue dCi 88 kW (120CV) - SS',\n",
       " 'ZEN ENERGY dCI 81 KW 110 CV EDC 5',\n",
       " 'mégane iv estate blue dci 115 - 21b',\n",
       " 'E-TECH ZEN 117KW 160 5P',\n",
       " 'GT Sport TCE 205 EDC BOSE HUD NAVI LED',\n",
       " 'Electric Iconic 100% Elektrisch Klima Navi Leder',\n",
       " '1.8 TCE RS TROPHY EDC 221KW 300 5P',\n",
       " 'Init. P. Blue dCi 118 kW(160CV) EDC SS',\n",
       " '1.3 TCE INTENS 103KW 140 5P',\n",
       " nan,\n",
       " '1.3 TCE INTENS 103KW 140 5P',\n",
       " 'INTENS R135 B-Rent',\n",
       " 'Life 41kwh Batteriemiete, Kaufopt. möglich Klima',\n",
       " 'E-TECH 100% Electric TECHNO EV60',\n",
       " 'LIMITED Batteriemiete Z.E. 40 SHZ K&GO ALU',\n",
       " 'EXPERIENCE-Selection R110 Z.E.50 mit CCS',\n",
       " 'LIFE 22 kwH zzgl. Batteriemiete NAVI KLIMA',\n",
       " 'ETech 100% electric TECHNO EV60 opt charge',\n",
       " 'LIFE Batteriemiete Z.E.22 (23,3kWh)',\n",
       " 'Life 41kwh Batteriemiete Klima Navi Einparkhilfe',\n",
       " 'LIFE 22kw Mietbatterie NAVI KLIMA BT eFH ABS',\n",
       " 'Life 41kwh Batteriemiete Klima Navi Fenster el.',\n",
       " 'Life 41 kwh Battermiete, Kaufoption möglich Klima',\n",
       " 'Z.E. 40 Life Batteriemiete NAVI PDC BT',\n",
       " 'LIFE zzgl. Batteriemiete',\n",
       " 'LIMITED Batteriemiete Z.E.40 (41kWh) SITZH',\n",
       " 'LIFE Batteriemiete R110 Z.E.50 (52kWh)',\n",
       " 'E-Tech 100% Electric TECHNO EV60 NAVI PDC',\n",
       " 'E-Tech 100% electric TECHNO EV60 NAVI PDC',\n",
       " 'E-Tech 100% electric TECHNO EV60 NAVI PDC',\n",
       " 'LIFE Limited zzgl. Batteriemiete  Navi',\n",
       " 'EXPERIENCE Batteriekauf R110 Z.E.50 (52kWh)',\n",
       " 'E-Tech 100% ele. TECHNO EV60 220hp',\n",
       " 'Life Z.E. 40 Mietbatterie Klima Navi Fenster el.',\n",
       " 'INTENS 22 kWh Batteriemiete SHZ KAMERA PDC',\n",
       " '1.8 TCE RS TROPHY EDC 221KW 300 5P',\n",
       " '1.8i 16v  140 cv avec CT et CarPass Reprise/éch',\n",
       " 'iv rs trophy 300hp - sans malus',\n",
       " '(mit Batterie) Z.E. 50 LIFE',\n",
       " 'INTENS (Mietbatterie) VB',\n",
       " 'II Phase 2 (VP) 1.5 dCi S&S 90 cv',\n",
       " '1.2 TCE ENERGY GT LINE 97KW 130 5P',\n",
       " 'Initiale Paris 1.6 dCi 160 Energy EDC6',\n",
       " 'Electric Evolution EV60 220hp optimum charge',\n",
       " 'ii 1.2 lev 16v 75 eco2',\n",
       " 'Berlina Manual de 5 Puertas',\n",
       " '4 IV (BFB) 1.8T 280CH RS EDC',\n",
       " '4 IV (BFB) 1.8T 280CH RS EDC',\n",
       " 'Intens R110 MY19',\n",
       " 'Initiale 1.6 16V 110',\n",
       " 'Intens R110 Flex',\n",
       " 'Berlina Manual de 5 Puertas',\n",
       " 'E-TECH EVOLUTION ER EV60 130hp NAVI+LED',\n",
       " '0.9 TCE 90CV ENERGY TREND',\n",
       " 'Clio Exception 1,6 16V |AUTOMATIK|TOP AUSSTATTUNG|',\n",
       " '1.5 BLUE DCI ZEN 85KW 115 5P',\n",
       " '4 Energy dCi 75 eco2 Euro 6 Business',\n",
       " 'Life charge normale Type 2',\n",
       " 'E-TECH ICONIC EV60 220hp WÄRMEPUMPE+ACC',\n",
       " 'Zen charge normale R90',\n",
       " 'Zen charge normale R90',\n",
       " 'City charge normale R90',\n",
       " 'Intens charge normale Type 2',\n",
       " 'Life charge normale Type 2',\n",
       " 'Allure Eléctrico 100kW',\n",
       " 'Pequeño Manual de 5 Puertas',\n",
       " 'e- GT 3 Phasen Lader SHZ',\n",
       " 'e- GT 3 Phasen Lader SHZ',\n",
       " 'e- GT Sitzheizung',\n",
       " 'e-208 136ch Active',\n",
       " '1.6 HDi 100 Ch GPS / TEL CLIM',\n",
       " 'EV Allure 50 kWh LED 16\" KEYLESS CCS',\n",
       " 'e-208 136ch GT Line Siege Chauf LED GPS Camera Rad',\n",
       " '1.4 Essence 75 CV BVA',\n",
       " 'EV Active 50 kWh Cruise Control, Apple CarPlay',\n",
       " '50kWh Allure | Geïntegreerde Lader 7 KW 1-FASE | P',\n",
       " 'Allure Pack Eléctrico 100kW',\n",
       " 'Allure Pack Eléctrico 100kW',\n",
       " 'WAGON Business 1.6 8v e-HDi 115cv S/S',\n",
       " nan,\n",
       " 'Cabriolet ROLAND GARROS Paris Capote électric',\n",
       " '206 CC Roland Garros',\n",
       " 'Cabriolet 2 l',\n",
       " 'Descapotable Manual de 3 Puertas',\n",
       " 'CC 2.0 Platinum Leder ACC SHZ',\n",
       " 'cabriolet $$je recherche en état ou a refaire$$',\n",
       " 'coupé cabriolet',\n",
       " '2.0 HDI 120CV DISTRIB OK',\n",
       " 'cabrio',\n",
       " nan,\n",
       " 'CABRIOLET 1.8 CABRIOLET, NW. CABRIO KAP, NETTE AUT',\n",
       " 'CC',\n",
       " 'CC',\n",
       " 'pack allure 1.5 bluehdi',\n",
       " '1.6 VTI 16V FELINE',\n",
       " 'Automatik Leder',\n",
       " 'coupe 2.7 hdi 204ch griffe ba',\n",
       " 'Deportivo Manual de 3 Puertas',\n",
       " '2.0 HDi/Leder/Navi/Memory/PDC/Xenon/19.Z/JBL',\n",
       " nan,\n",
       " '16 GTI',\n",
       " '1.Hand unfallfrei alle Inspektionen Top Extras!',\n",
       " 'cc roland garros 1.6hdi 112 fap',\n",
       " '2.0 HDi 163',\n",
       " 's16',\n",
       " 'COUPE GRIFFE 2.7 V6 HDI 204ch BVA6 1ere MAIN',\n",
       " 'coupe COUPE 2.7 V6 HDI SPORT PACK BVA',\n",
       " 'Active BlueHDi 120cv S&S 5 PORTE BERLINA',\n",
       " '2.7 V6 HDI 204 CH FELINE BA *CUIR*GPS*',\n",
       " 'coupe COUPE 2.0 HDI 136 FAP SPORT',\n",
       " nan,\n",
       " '1.6EHDI 115CV ALLURE 5P',\n",
       " 'ALLURE HDI 130 CV',\n",
       " '1.2 PURETECH S&S ACTIVE 130 5P',\n",
       " 'Elektromotor GT *LED*PDC*Stizheizung*',\n",
       " 'ALLURE HDI 130 CV',\n",
       " '1.6BLUEHDI ALLURE S&S 120CV 5P',\n",
       " 'e- GT Panorama, Kessy, ACC',\n",
       " '1.6BLUEHDI ALLURE S&S 120CV 5P',\n",
       " '1.5 BLUEHDI S&S AUTO GT LINE 130CV 5P 7 PLAZAS',\n",
       " '1.5 BLUEHDI 96KW ACTIVE S&S 130 5P',\n",
       " '2.0BLUEHDI 133KW GT AUTO S&S 180 5P',\n",
       " 'ALLURE HDI 130 CV',\n",
       " 'e-2008 136ch GT Line',\n",
       " '1.6 BLUEHDI 88KW BUSINESS LINE SW 120 5P',\n",
       " 'GT Long BlueHDi  96kW',\n",
       " 'Active Standard BlueHDi 73kW',\n",
       " 'SW GT HYBRID 180 e-EAT8',\n",
       " 'SW 1.5 BLUEHDI 130 EAT8 ALLURE',\n",
       " 'e-2008 136ch GT',\n",
       " 'e-2008 136ch GT',\n",
       " 'e-2008 136ch GT Pack +T.O',\n",
       " 'II SW Hybrid 225 e-EAT8 Allure Pack',\n",
       " 'e-2008 136ch Active',\n",
       " nan,\n",
       " 'e-2008 136ch GT',\n",
       " 'e-2008 136ch GT',\n",
       " 'e-2008 136ch GT',\n",
       " 'e-2008 136ch GT',\n",
       " '5P PSE HYBRID 360 e-EAT8',\n",
       " '5P PSE HYBRID 360 e-EAT8  Sport Engineered',\n",
       " '2.0 BLUEHDI AUTO GT 180 CV 4P',\n",
       " 'Berlina Manual de 5 Puertas',\n",
       " '1.5 BLUEHDI ACTIVE 100CV 5P 2 PLAZAS',\n",
       " 'e- GT Pack - VFW - Prämie verrechnet!',\n",
       " 'e- Allure Pack 5T',\n",
       " nan,\n",
       " 'GTI BY SPORT 1.6 PURETECH 263 CV 5P',\n",
       " '2.2-16V Pack rijdt super en zeer luxe',\n",
       " 'GTI 1.6 THP 270 CV S&S 5P',\n",
       " '2.0 BLUEHDI 180CV EAT8 F1 AUTOMATIC S/S GT FULL LE',\n",
       " '3ª serie Hybrid 180 e-EAT8 GT',\n",
       " '1.6 BLUEHDI 88KW BUSINESS LINE 120 5P',\n",
       " 'e-208 136ch Allure',\n",
       " '1.5 BLUEHDI 73KW BUSINESS LINE 100 5P',\n",
       " 'e-208 136ch GT Pack',\n",
       " 'Elektromotor 136 Allure Pack NAVI,SHZ,Sofort',\n",
       " 'e-208 136ch Active',\n",
       " 'e-208 136ch GT',\n",
       " 'e-208 136ch GT',\n",
       " 'e-208 136ch GT Line',\n",
       " 'puretech 68ch bvm5',\n",
       " 'e-208 136ch Style',\n",
       " 'e-208 136ch Allure',\n",
       " '595',\n",
       " '1.5 HYBRID MHEV DCT GARMIN 130 5P',\n",
       " '500e 3+1 87Kw La Prima',\n",
       " 'Pop Elektro Standheizung Kundendienst neu',\n",
       " 'Elektro ICON 42 kWh * PARK PAKET * NAVI * RÜKFAHRK',\n",
       " 'BEV HB E ICON 87KW 118CV',\n",
       " 'Elektro ICON 42 kWh * MAGIC EYE PAKET * NAVI * PAR',\n",
       " 'Pequeño Manual de 3 Puertas',\n",
       " 'Elektro ICON 42 kWh * PARK PAKET * NAVI * RÜCKFAHR',\n",
       " 'Elektro ICON 42 kWh * KOMFORT PAKET * NAVI * PARKT',\n",
       " 'Elektro ICON 42 kWh * PARK PAKET * NAVI * RÜCKFAHR',\n",
       " 'Elektro RED 23.8 kWh * NAVI * PARKTRONIC * KLIMAAU',\n",
       " 'Elektro ICON 42 kWh * PARK PAKET * NAVI * RÜCKFAHR',\n",
       " '500e 87Kw Icon',\n",
       " 'Icon Elektro 42 kWh * PARK PAKET NAVI RÜCKFAHRK...',\n",
       " 'e 95ch Action Plus',\n",
       " 'Icon 3+1',\n",
       " 'Abarth 595 Tourismo 1.4 Turbo-Jet 165 BVA',\n",
       " nan,\n",
       " 'La Nuova 500e RED BERLINA',\n",
       " 'LOUNGE   OK NEO PATENTATI     .PRONTA CONSEGNA.',\n",
       " 'Neuer  ICON 3+1 42kWh MÄRZ 23 - KOMFORT PARK WI',\n",
       " nan,\n",
       " 'Neuer 500 ICON 42kWh MJ22 ICON NAVI SITZHZG. MAGIC',\n",
       " 'Dynamic 1.4 16v Starjet 95',\n",
       " 'e 118ch Passion',\n",
       " 'Icon 118cv',\n",
       " 'e Icon*17Zoll*Winter*MagicEye*Komfort*',\n",
       " 'Pequeño Manual de 3 Puertas',\n",
       " 'LA PRIMA ELEKTRO 3+1 118',\n",
       " 'RED 24 kWh Airco',\n",
       " 'e 118 Icon SHZ PDC Nav KeyLess adapt.Tempomat',\n",
       " nan,\n",
       " '1.2 LOUNGE OK NEO PATENTATI AUTOMATICA',\n",
       " '1.0 hybrid dolcevita',\n",
       " 'Fiat Panda 0,9 Twinair Turbo 85 Trekking',\n",
       " '1.0 70CV HYBRID ROCKSTAR S8 TETTO CARPLAY SENSOR C',\n",
       " 'LOUNGE FULL OPZIONAL CON TETTO APR ELET PRONTI VIA',\n",
       " 'LOUNGE 1.2 69CV 3P',\n",
       " '1.2 70CV LOUNGE 3P',\n",
       " 'e',\n",
       " '1.0 70CV HYBRID SPORT CONNECT CLIMA CARPLAY SENSOR',\n",
       " 'lounge ok neo pat.   solo 23000km!',\n",
       " '500Ce 87Kw Icon',\n",
       " '42 kWh La Prima****6824Km***Gsm 0475323828***',\n",
       " 'Descapotable Manual de 2 Puertas',\n",
       " 'CABRIO La Prima ELEKTRO (42 kWh) WINTER',\n",
       " 'Neuer 500 Cabrio La Prima 42kWh FEBRUAR 23 - WINTE',\n",
       " 'CABRIO La Prima ELEKTRO (42 kWh) WINTER',\n",
       " 'Neuer 500 Cabrio ICON 42kWh JANUAR 23 - KOMFORT PA',\n",
       " 'Neuer 500 Cabrio By Bocelli 42kWh JANUAR 23 - WINT',\n",
       " 'Neuer 500 Cabrio La Prima 42kWh JANUAR 23 - WINTER',\n",
       " 'Neuer 500 Cabrio La Prima 42kWh FEBRUAR 23 - WINTE',\n",
       " '500Ce 87Kw Icon',\n",
       " nan,\n",
       " '500e Cabrio 42 kWh Icon',\n",
       " '500E La Nuova 500c Serie1 La Nuova - Icon+ Cabrio',\n",
       " 'ICON | CABRIO | DIREKT RIJDEN | 42KWH | VOORRAAD',\n",
       " 'Neuer 500 Cabrio By Bocelli 42kWh JANUAR 23 - WINT',\n",
       " '500E La Nuova 500c Serie1 La Nuova - Red Cabrio',\n",
       " 'Icon Cabrio 42 kW 118hp/87 kW New Garantuee',\n",
       " 'Neuer 500 Cabrio ICON 42kWh JANUAR 23 - PARK WINTE',\n",
       " 'LOUNGE OK NEO PATENTATI 2 ANNI GAR. pronta cons.',\n",
       " 'RIVA',\n",
       " '1.0 70CV HYBRID CABRIO LOUNGE CARPLAY CLIMA BICOLO',\n",
       " '1.8 16v GPL',\n",
       " 'Lusso',\n",
       " 'E 3+1 ICON 320KM 87KW',\n",
       " 'Lusso',\n",
       " 'Lusso',\n",
       " 'Lusso',\n",
       " 'C 320km 118cv Auto. Icon',\n",
       " '500Ce 87Kw Icon',\n",
       " 'BEV 24KWH RED 95 2P',\n",
       " 'Lusso',\n",
       " '2,0 16V* 2 Hand*Klima*Leder*El.Fester*gepf',\n",
       " '1973 FIAT COUPE',\n",
       " 'e Icon',\n",
       " 'Fiat Coupè 1987 - 16 valvole - 180cv',\n",
       " 'Evo  1.3 MJT 16V 75 cv 1.3 D Multijet',\n",
       " 'Fiat - 1500 cabriolet',\n",
       " 'Eveline',\n",
       " '2400 coupe',\n",
       " 'SPORT !!!! IN PERFETTE CONDIZIONI',\n",
       " 'Lightweight Hans Brösch',\n",
       " nan,\n",
       " nan,\n",
       " 'S COUPE',\n",
       " '2000 turbo 16 plus',\n",
       " nan,\n",
       " 'coupe',\n",
       " 'Coupé 20V Turbo Plus',\n",
       " 'Sport 70HP *26TKM*',\n",
       " \"COUPE' 2000\",\n",
       " 'Turbo 20 valvole',\n",
       " \"1100/103 TV COUPE' PININFARINA\",\n",
       " '4x4 Sisley',\n",
       " 'Sport',\n",
       " 'Original Zustand',\n",
       " '2.0 20v turbo Limited edition ( LTD )',\n",
       " 'Icon',\n",
       " '2000 Coupè Bellissimo',\n",
       " 'COUPE 1a SERIE',\n",
       " 'COUPE SL 1100 iscritta ALBO STORICO FIAT 2022',\n",
       " '1000 OT  4 FARI',\n",
       " '2400 Coupé Ferrari ASI',\n",
       " \"VIOTTI SPECIAL COUPE' restauro completo con doc\",\n",
       " 'R',\n",
       " 'F',\n",
       " 'Coupe',\n",
       " 'Action-Topolino Lotus Edition, Modellreihe 2022',\n",
       " 'E Elektro Red Edition',\n",
       " '42 kWh La Prima*Tetto Panoramic*Navi*Retrocam*Led',\n",
       " 'ufficiale 1971',\n",
       " nan,\n",
       " nan,\n",
       " '1.3 MultiJet Lounge 95cv S&S EU6 5 PORTE BERLINA',\n",
       " 'City Cross 10GSE T3 88kW 120CV SS',\n",
       " 'cross 4x4 ok neo patentatiGARANZIA TOTALE 24 M.',\n",
       " '1.5 DCi 115 Cv 4x4 Comfort PickUp',\n",
       " '1.6 MJT 130CV SPORT FULL LED NAVI CAMERA CERCHI 19',\n",
       " '1.3 MULTIJET 95 CV URBAN LOOK  - 4° SERIE',\n",
       " 'DoubleCabLaunchEdition Aut*SPUR*RFK*Navi*MWST*AHK*',\n",
       " '1.3 MJT 95CV CROSS CONNECT CARPLAY',\n",
       " 'Lounge 1.6 Multijet 120',\n",
       " 'off road look 2.0 mjet 140cv 4x4 cross plus',\n",
       " '1.6 MJET 96KW SPORT 130 5P',\n",
       " 'City Cross 10GSE T3 88kW 120CV SS',\n",
       " 'City Cross 10GSE T3 88kW 120CV SS',\n",
       " '1.0 FIREFLY T3 88KW LOUNGE 5P',\n",
       " '1.6 MJET MIRROR FWD 120CV 5P',\n",
       " '1.6 MJET MIRROR FWD 120CV 5P',\n",
       " 'City Cross 10GSE T3 88kW 120CV SS',\n",
       " 'City Cross 10GSE T3 88kW 120CV SS',\n",
       " 'station wagon 1,6 mjt 120cv dct lounge sw',\n",
       " 'SW 1.3 MJT 95CV S/S LOUNGE',\n",
       " 'station wagon 1,4 t-jet 120cv gpl easy 2017 sw',\n",
       " '5P CITY LIFE 1.0 73KW (100CV)',\n",
       " '5P HATCHBACK MY21 LIFE 1.0 73KW (100CV)',\n",
       " 'SW MIRROR 1.3 MULTIJET 95 CV 5P',\n",
       " 'CROSS 1.5 HYBRID 130CV',\n",
       " \"Icon 85KW-Lader 10,25'' Navigation Keyless Alu\",\n",
       " 'e Passion ***sofort verfügbar***',\n",
       " '1.0 HYBRID DOLCEVITA 70 3P',\n",
       " 'e 118ch La Prima',\n",
       " 'e 118ch La Prima by Bocelli 3+1',\n",
       " 'E E RED 118CV',\n",
       " 'e 118ch La Prima by Bocelli',\n",
       " 'e 118ch La Prima',\n",
       " '5p Street 1.3 multijet 95cv s&s 5 porte - e',\n",
       " '1.6 MULTIJET LIFE 130 4P',\n",
       " '1.3 mjt 16v 95cv e6 s&s easy',\n",
       " 'ICON 58CV BERLINA TETTO PANORAMICO',\n",
       " 'ICON 58CV BERLINA',\n",
       " '1.3 MJT 95CV EASY LOUNGE UCONNECT SENSOR FENDINEBB',\n",
       " 'Icon, Voll LED, DAB+ Navi Sitzheiz.',\n",
       " '3+1 Passion',\n",
       " 'Icon Berlina',\n",
       " 'city look 1.6 mjet 120cv 4x2 lounge',\n",
       " 's0 1.3 mjt 16v 95cv e6 s&s easy',\n",
       " 'Icon, Voll LED, DAB+ Navi Sitzheiz',\n",
       " 'Icon, Voll LED, DAB+ Navi Sitzheiz.',\n",
       " 'Icon*Navi*PDC*DAB*LaneAssist* Klima Navi',\n",
       " 'urban look 1.6 mjet 120cv dct 4x2 popstar',\n",
       " 'city look 1.6 mjet 120cv 4x2 lounge',\n",
       " 's0 1.3 mjt 16v 95cv e6 s&s easy',\n",
       " 'Urban Look 1.6 mjet 120cv 4x2 lounge',\n",
       " '1.4 95CV HB 5P LOUNGE',\n",
       " 'Icon 3+1 320km 85kW (118CV)',\n",
       " '500E La Nuova Serie1 La Nuova - Red Berlina',\n",
       " '5p Street 1.3 multijet 95cv s&s 5 porte - e',\n",
       " 'Dolcevita 1.0 Mild-Hybrid km 0',\n",
       " '0.9 TURBO 85CV TWINAIR 4X4 CROSS',\n",
       " 'Dolcevita Hybrid 1.0 km0',\n",
       " '1.0 95CV STYLE 5P',\n",
       " 'Pequeño Manual de 5 Puertas',\n",
       " 'Signo',\n",
       " 'Style',\n",
       " '128 sport',\n",
       " 'Cupra',\n",
       " 'Cupra (290 ch ) Full Stock , black Edition Beats ,',\n",
       " 'sport coupe',\n",
       " '1.2 TDI',\n",
       " 'Ibiza SC 1.2 70 ch',\n",
       " 'FR Anniversary TFSI 1.5 DSG',\n",
       " 'SC Ibiza SC 2.0 TDI 143 FAP FR',\n",
       " '1.0 TSI STYLE EDITION ECO 115 CV',\n",
       " 'Xperience 1.0 TSI DSG 81\\u202fkW (110\\u202fPS), Autom. 7-...',\n",
       " '2.0 TDI DSG Style',\n",
       " '1.5 TSI FR 150CV',\n",
       " '1.2 12V 70 REFERENCE 70 5P',\n",
       " '1.0 TGI 66KW STYLE PLUS 90 5P',\n",
       " 'LEON 2.0 TSI 300ch DSG FULL',\n",
       " '3ª serie Leon 1.5 tgi 5p. business',\n",
       " '1.4 e-Hybrid 204cv FR DSG',\n",
       " '1.6 TDI 105cv I-Tech',\n",
       " '1.2 benzina',\n",
       " '1.4 TDI 105ch FR Start/Stop',\n",
       " 'Monte Carlo 5d 1.2B 90pk',\n",
       " 'e iV Style CCS AC Automatik SHZ  1.Hand',\n",
       " 'iV Style 61 kW, 1-Gang-Automatik',\n",
       " 'e iV Style 1-Gang *CCS PDC SHZ SUNSET LED*',\n",
       " 'e iV EV Style 1240KM! PDC CLIMA € 2.000,- SUBSIDIE',\n",
       " 'e iV Ambition CCS SHZ PDC KLIMAAUT.',\n",
       " 'Pequeño Manual de 2 Puertas',\n",
       " '1.4 TDI 90HP LIKE 5P',\n",
       " 'AMBITION 1.2 TSI 90CV 5P',\n",
       " 'III 1.0 Drive Tempomat Sitzhzg Climatronic',\n",
       " '1.0 MPI 55KW AMBITION 75 5P',\n",
       " '1.0 MPI 55KW AMBITION 75 5P',\n",
       " '1.0 MPI 55KW AMBITION 75 5P',\n",
       " '1.0 MPI 55KW AMBITION 75 5P',\n",
       " 'Sportline 80x|POMPE|ATR|COMF SEAT|CONV|L/V+|PARK+|',\n",
       " 'iV 80 Loft *LED*Navi*Kamera*Pano*20 Zoll* Klima',\n",
       " 'iV 80 Loft NAVI AHK WP PACC ALU LED',\n",
       " 'iV 60 Lodge -SOFORT- ACC DAB LED NAVI KAMERA KE...',\n",
       " 'RS 2.0 TSI DSG 4x4 ** AUF LAGER** 180\\u202fkW (245\\u202fP...',\n",
       " '80 Suite  **SOFORT VERFÜGBAR** LEDER *21\"',\n",
       " 'iV 60 Loft Matrix-LED Navi Kamera',\n",
       " 'iV 60 Loft Navi Kamera ACC Voll-LED',\n",
       " 'iV 60 Loft Navi Kamera ACC Voll-LED',\n",
       " 'iV 80 eco Suite ab 12/2022',\n",
       " 'iV 60 Lounge Matrix-LED Navi ACC Kamera',\n",
       " 'iV 80 Sportline AHK Matrix-LED Navi Kamera',\n",
       " 'DIESEL',\n",
       " 'iV 60 Navi Kamera SHZ Matrix-LED',\n",
       " 'iV 50 Loft Voll-LED Navi Kamera SHZ',\n",
       " 'iV 80 Sportline ab 02.01.2023 verfügbar AHK-Vorb.*',\n",
       " '1.9 TDI 74 KW Elegance Combi Klima',\n",
       " 'Combi 2.0 TDI Style*LED*Navi*HUD*Sunset*Climatroni',\n",
       " 'CITIGOe iV Style Sunset Komfort Alu Licht+Sicht',\n",
       " 'iV 80 AHK Multifunktionslenkrad beheizbar',\n",
       " '150cv elegence BA',\n",
       " 'Business NAVI PDC jetzt Probe fahren',\n",
       " 'Business NAVI PDC jetzt Probe fahren',\n",
       " 'Business NAVI PDC jetzt Probe fahren',\n",
       " 'Business NAVI PDC jetzt Probe fahren',\n",
       " 'Business NAVI PDC jetzt Probe fahren',\n",
       " 'Business NAVI PDC jetzt Probe fahren',\n",
       " 'Business NAVI PDC jetzt Probe fahren',\n",
       " 'Business NAVI PDC jetzt Probe fahren',\n",
       " 'Business NAVI PDC jetzt Probe fahren',\n",
       " 'Business NAVI PDC jetzt Probe fahren',\n",
       " 'Business NAVI PDC jetzt Probe fahren',\n",
       " 'Business NAVI PDC jetzt Probe fahren',\n",
       " 'Business NAVI PDC jetzt Probe fahren',\n",
       " 'Business NAVI PDC jetzt Probe fahren',\n",
       " 'Business NAVI PDC jetzt Probe fahren',\n",
       " 'Business NAVI KLIMA PDC',\n",
       " 'Business NAVI PDC jetzt Probe fahren',\n",
       " 'Business NAVI PDC jetzt Probe fahren',\n",
       " 'BUSINESS-EDITION/EPH/KLIMA/NAVI/USB/ELEKTRO!!',\n",
       " 'Business NAVI PDC jetzt Probe fahren',\n",
       " 'Business  NAVI PDC KLIMA',\n",
       " 'Business NAVI PDC KLIMA',\n",
       " 'Business NAVI PDC jetzt Probe fahren',\n",
       " 'Business NAVI KLIMA jetzt Probe fahren',\n",
       " 'Business NAVI PDC jetzt Probe fahren',\n",
       " 'Business NAVI PDC jetzt Probe fahren',\n",
       " 'Essential NAVI+KAMERA+CARPLAY+KLIMA+LED',\n",
       " 'Essential NAVI+KAMERA+CARPLAY+KLIMA+LED',\n",
       " 'Comfort Plus - Business - WLTP Combi 230km - - Dem',\n",
       " '1.0 SCe 75 Essentiel',\n",
       " 'Stepway 3 Comfort TCe 90 CVT Navi  PDC v+h+Kamera',\n",
       " 'Confort Plus - Achat Intégral Camera GPS',\n",
       " 'TCe 150 4WD',\n",
       " 'Electric Comfort Plus Aut.',\n",
       " '1.6 SCe 115 4x2 Ambiance Klima, AHK,Sitzh',\n",
       " 'blue dci 115 4x2',\n",
       " 'blue dci 115 4x2',\n",
       " 'blue dci 115 4x2',\n",
       " 'blue dci 115 4x2',\n",
       " 'blue dci 115 4x2',\n",
       " '0.9 TCE 90CV WOW',\n",
       " 'Todoterreno Manual de 5 Puertas',\n",
       " 'nur auf Bestellung (Probefahrt möglich)',\n",
       " '0.9 TCE LAUREATE 66KW MCV 90 5P',\n",
       " 'Stepway Essential Blue dCi 70kW (95CV)',\n",
       " 'SL Nomada BluedCi 70kW 95CV 18',\n",
       " 'SL Nomada BluedCi 70kW 95CV 18',\n",
       " 'SL Nomada BluedCi 70kW 95CV 18',\n",
       " 'SL Nomada BluedCi 70kW 95CV 18',\n",
       " 'SL Xplore TCE 96kW 130CV 7Pl',\n",
       " 'SL Nomada BluedCi 70kW 95CV 18',\n",
       " '0.9 TCE LAUREATE 66KW MCV 90 5P',\n",
       " '0.9 TCE LAUREATE 66KW MCV 90 5P',\n",
       " 'MCV dCi 90 S/S Easy-R Lauréate*NAVI*Automa',\n",
       " 'MCV II Kombi Stepway Celebration  Navi',\n",
       " 'MCV II Kombi Stepway Celebration  Navi',\n",
       " 'Comfort :SOFORT *Elektro* Kima',\n",
       " 'Comfort :SOFORT *Elektro* Kima',\n",
       " 'Comfort :SOFORT *Elektro* Kima',\n",
       " 'Electric45 Comfort Plus inkl. Batterie NAVI KAM...',\n",
       " 'Comfort :SOFORT *Elektro* Kima',\n",
       " '1.0 TCE 100 S&S STEPWAY ESSENTIAL 100 5P',\n",
       " 'Comfort :SOFORT *Elektro* Kima',\n",
       " 'Berlina Automático de 5 Puertas',\n",
       " '1.0 SCE AMBIANCE 54KW 73 5P',\n",
       " 'Berlina Manual de 4 Puertas',\n",
       " 'Comfort Electric 45',\n",
       " 'Comfort Electric 45',\n",
       " '0.9 TCE XPLORE 66KW 90 5P',\n",
       " 'tce 90',\n",
       " 'tce 90',\n",
       " 'Berlina Manual de 4 Puertas',\n",
       " '0.9 TCE XPLORE 66KW 90 5P',\n",
       " '0.9 TCE 90 STEPWAY E6 90 5P',\n",
       " '0.9 TCE XPLORE 66KW 90 5P',\n",
       " '1.0 TCE 100 S&S STEPWAY ESSENTIAL 100 5P',\n",
       " '0.9 TCE 90 STEPWAY E6 90 5P',\n",
       " '1.0 TCE 100 S&S STEPWAY ESSENTIAL 100 5P',\n",
       " 'EFICACIA 1.5 DCI 75 CV 5P',\n",
       " '0.9 TCE XPLORE 66KW 90 5P',\n",
       " '0.9 TCE XPLORE 66KW 90 5P',\n",
       " '0.9 TCE 90 STEPWAY E6 90 5P',\n",
       " '0.9 TCE XPLORE 66KW 90 5P',\n",
       " '1.6D-4D 82KW ADVANCE 112 5P',\n",
       " '1.6D-4D 82KW ADVANCE 112 5P',\n",
       " 'Yaris - 1,5 l Hybrid, 5-türig, Active Dr',\n",
       " 'Pequeño Manual de 5 Puertas',\n",
       " 'Toyota Supra 3.0 V6 Turbo',\n",
       " 'Tornado',\n",
       " 'cabriolet GT',\n",
       " nan,\n",
       " '1.0 Cabrio 5p',\n",
       " 'Turbo Targa',\n",
       " 'ii hsd 136h dynamic',\n",
       " 'COUPE 2.0 D-4S 200 BVA PACK TRD',\n",
       " 'WAGON Hybrid Business',\n",
       " 'Tbar',\n",
       " '1.6 TC 16',\n",
       " '*francois duval rally sport vintage*pret a rouler*',\n",
       " 'MK4 RHD Twin Turbo',\n",
       " 'TA 22  GT 1600 2-TG',\n",
       " '1.6 STI',\n",
       " '1.8i',\n",
       " 'ST185 Carlos Sainz',\n",
       " '1.6 Automatique',\n",
       " 'GTi',\n",
       " 'Coupé 2 posti 1.6 16 V',\n",
       " nan,\n",
       " '122h EDITION 2WD MY22',\n",
       " '4.0 V6 4WD',\n",
       " 'RAV4 2.0I VVT-I LUNA 4WD 3P',\n",
       " '125H AUTOMaTICO (E-CVT) 5P ADVANCE',\n",
       " '125H AUTOMaTICO (E-CVT) 5P ADVANCE',\n",
       " 'X-MODE Comfort- und Technik-Paket',\n",
       " '4.0 V6 4WD',\n",
       " 'Todoterreno Automático de 5 Puertas',\n",
       " 'IV 4WD 2.4 D-4D 150 DOUBLE CABINE',\n",
       " 'Todoterreno Manual de 3 Puertas',\n",
       " 'IV 4WD 2.4 D-4D 150 DOUBLE CABINE',\n",
       " '1982 Rouge Diesel 5 portes Manuelle 4.3 Turbo SUV/',\n",
       " '4.0 Fj70',\n",
       " 'bj 42 4 marce asi',\n",
       " 'IV 4WD 2.4 D-4D 150 DOUBLE CABINE',\n",
       " '4.0 V6 4WD',\n",
       " 'IV 4WD 2.4 D-4D 150 DOUBLE CABINE',\n",
       " '4.0 Fj73',\n",
       " 'SUV 1.5 VVT-I HYBRID PREMIERE EDITION 116 5P',\n",
       " '1988 Gris Essence 3 portes Manuelle 4.0 SUV/4&#215',\n",
       " nan,\n",
       " 'Fj55 1978',\n",
       " '4.0 4x4',\n",
       " '4.5 Fzj73',\n",
       " '2.5 DOUBLE CABINE 144 4X4',\n",
       " 'Rav4 PLUG IN ADVANCE',\n",
       " '2.0D 105KW ADVANCE 143 5P',\n",
       " 'Verso L1 Electric 75 kWh Team D HUD',\n",
       " 'TS 125H BUSINESS',\n",
       " 'TS 180H STYLE PLUS',\n",
       " '125H ACTIVE TECH',\n",
       " 'Medium Electric 50kWh Design',\n",
       " '1.8 VVT-I 100KW HYBRID ACTIVE 136 5P',\n",
       " '1.8 VVT-I 100KW HYBRID BUSINESS 136 5P',\n",
       " '*WASSERSTOFF* *LEDER*NAVI*JBL*ACC*LED*SHZ*',\n",
       " 'Fuel Cell Wasserstoff+Leder+Navigation+Key-Less go',\n",
       " '1.8 VVT-I HYBRID ADVANCE AUTO 122 5P',\n",
       " 'II Advanced HEAD-UP LED NAVI SHZ LEDER',\n",
       " 'Hybrid 2,0l Club Kamera,BT, DAB,',\n",
       " 'BERLINA CON PORTON 1.0 VVT-I ACTIVE 69 5P',\n",
       " 'Hybrid Feel! Edition',\n",
       " 'TOYOTA Corolla Verso facelift 2.2 D4-D 136cv',\n",
       " '2.ZERO',\n",
       " '62 kWh e+ N-Connecta',\n",
       " '2.ZERO',\n",
       " '217PS E+ N-CONNECTA 62KWH 217 5P',\n",
       " '217PS E+ N-CONNECTA 62KWH 217 5P',\n",
       " '40 kWh Tekna',\n",
       " 'Base 24 kWh Automaat | Climate Control | Navi | Cr',\n",
       " '1.6 DIG-T 163ch Tekna II',\n",
       " 'Base 24 kWh Org. NL/82DKM',\n",
       " 'Pequeño Manual de 3 Puertas',\n",
       " 'N-Connecta 40 kWh, (150PK) (INCL BTW) Automaat, 1-',\n",
       " 'Acenta 40 kWh | APPLE CARPLAY | ANDROID AUTO | ADA',\n",
       " 'N-Connecta 40 kWh, (150PK) (INCL BTW) Automaat, 1-',\n",
       " 'N-Connecta 40 kWh (150PK), INCL BTW) Automaat, Dea',\n",
       " 'Acenta 24 kWh ✅ Navi ✅ Camera ✅ Clima',\n",
       " 'Tekna 30 kWh (109PK) (INCL BTW) Automaat, 1-Ste-Ei',\n",
       " '217PS E+ N-CONNECTA 62KWH 217 5P',\n",
       " 'Base 24 kWh Automaat Bovag-garantie',\n",
       " '2.ZERO EDITION 40 kWh, Automaat, Navigatie',\n",
       " '40 kWh Tekna',\n",
       " 'Tekna 40 kWh, navi, cruise, climate, camera, 1/2le',\n",
       " 'N-Connecta 40 kWh [ Black Optik 360cam Nav ]',\n",
       " 'N-Connecta 40 kWh (incl. BTW), Automaat, Navigatie',\n",
       " 'Tekna 24 kWh 2015 | BTW | Airco | LED | Cruise Con',\n",
       " '40 kWh Acenta',\n",
       " '150ch 40kWh Acenta Gps Camera',\n",
       " '150ch 40kWh Acenta 19 Siege Chauff GPS Camera',\n",
       " '109ch 24kWh Visia',\n",
       " '2.ZERO EDITION 40 kWh',\n",
       " '40 kWh Acenta',\n",
       " 'Acenta 30KWh',\n",
       " 'ACENTA 0.9 IG-T 90CV 5P',\n",
       " 'N-CONNECTA 1.5 DCI 90CV 5P',\n",
       " 'N-CONNECTA 0.9 IG-T 90CV 5P',\n",
       " 'N-CONNECTA 0.9 IG-T 90CV 5P',\n",
       " 'N-CONNECTA 1.5 DCI 110CV 5P',\n",
       " '62 kWh e+ N-Connecta',\n",
       " '2.ZERO EDITION 40 kWh 150pk / Adaptive Cruise/ 360',\n",
       " 'N-CONNECTA 0.9 IG-T 90CV 5P',\n",
       " 'N-CONNECTA 0.9 IG-T 90CV 5P',\n",
       " '40 kWh Acenta',\n",
       " 'ACENTA 0.9 IG-T 90CV 5P',\n",
       " 'N-CONNECTA 0.9 IG-T 90CV 5P',\n",
       " 'Acenta 30KWh',\n",
       " 'N-CONNECTA 0.9 IG-T 90CV 5P',\n",
       " 'ROADSTER Premium Pack',\n",
       " 'ROADSTER Pack  TOP GEPFLEGT !!!',\n",
       " '3.7 i V6 24V 328 cv ROADSTER PACK',\n",
       " nan,\n",
       " '*Targa*Sehr guter zustand* bald H-Zulassung',\n",
       " nan,\n",
       " nan,\n",
       " 'COUPE 3.7 V6 328 3P',\n",
       " 'Track Edition',\n",
       " '2000 GT-R / INTROUVABLE .... 1ère GTR historique',\n",
       " 'VUL 2.3 dCi 160ch King-Cab N-Connecta+options',\n",
       " 'VUL 2.3 dCi 160ch King-Cab N-Pro+Hard Top+Attelage',\n",
       " 'GT-R R34 Coupé',\n",
       " 'S15 Spec R AERO / Perlmutt white / NETTO 29.000€',\n",
       " 'R34 GTR Vspec / Limited #51/80 / Nismo',\n",
       " 'R33 Gtst',\n",
       " '3.0 v6 targa wit metaal',\n",
       " nan,\n",
       " '(2) COUPE 3.7 V6 344 NISMO',\n",
       " 'GT-R 32 TT turbo',\n",
       " 'Turbo 16V Silvia S14',\n",
       " 'Skyline gtst',\n",
       " 'GTS-T',\n",
       " '160J    SSS Coupe',\n",
       " '300 ZX  TARGA  1 Hand  Automatik  Leder   BOSE',\n",
       " '63kWh Advance | Nu te zien in onze showrooms! | Be',\n",
       " 'H-Kennzeichen',\n",
       " 'TEKNA DC 2.3dCi 190PK 7AT',\n",
       " '1.3 DIG-T MHEV 103KW ACENTA 140 5P',\n",
       " '1.3 DIG-T 103KW MHEV PREM.EDITION TWO 140 4X2',\n",
       " 'Acenta 1.6 dCi 130',\n",
       " 'V8 5,6L King Cab SE BVA 4X4',\n",
       " '1.5 dci 110',\n",
       " '7 posti N-Connecta DIG-T 1.6 163cv benz',\n",
       " 'Familiar Manual de 5 Puertas',\n",
       " nan,\n",
       " 'Evalia',\n",
       " 'e-NV 200 Zero Edition Navigation',\n",
       " 'Kombi Evalia (mit 40kwh Batterie)',\n",
       " 'DCI 110 CV BV6 TEKNA PERLE',\n",
       " 'e-Evalia Zero Edition Navigation',\n",
       " 'DCI 130 CV BV6 TEKNA',\n",
       " 'Tekna Navigation, Sitzheizung, Klimaautom, DAB+',\n",
       " ...]"
      ]
     },
     "execution_count": 1050,
     "metadata": {},
     "output_type": "execute_result"
    }
   ],
   "source": [
    "list(df.loc[df[df[\"engine_size\"].isnull()][[\"short_description\", \"engine_size\"]].index, \"short_description\"])"
   ]
  },
  {
   "cell_type": "code",
   "execution_count": 1051,
   "metadata": {
    "ExecuteTime": {
     "end_time": "2024-02-28T21:27:21.038624Z",
     "start_time": "2024-02-28T21:27:21.006645Z"
    }
   },
   "outputs": [
    {
     "data": {
      "text/plain": [
       "0    374\n",
       "dtype: int64"
      ]
     },
     "execution_count": 1051,
     "metadata": {},
     "output_type": "execute_result"
    }
   ],
   "source": [
    "# How many values can I fill using the short_description?\n",
    "# The floating-point numbers (e.g., 1.0, 2.0) in the short_description correspond to the engine_size.\n",
    "df.loc[df[df[\"engine_size\"].isnull()].index, \"short_description\"].str.extract(\"(\\d+\\.\\d+)\").notnull().sum()"
   ]
  },
  {
   "cell_type": "code",
   "execution_count": 1052,
   "metadata": {
    "ExecuteTime": {
     "end_time": "2024-02-28T21:27:21.086779Z",
     "start_time": "2024-02-28T21:27:21.048433Z"
    }
   },
   "outputs": [],
   "source": [
    "# The floating-point numbers (e.g., 1.0, 2.0) in the short_description correspond to the engine_size.\n",
    "# Let's fill the NaN values by extracting these floating-point numbers.\n",
    "df.loc[df[df[\"engine_size\"].isnull()].index, \"engine_size\"] = df.loc[df[df[\"engine_size\"].isnull()].index, \"short_description\"].str.extract(\"(\\d+\\.\\d+)\").values.astype(float)"
   ]
  },
  {
   "cell_type": "code",
   "execution_count": 1053,
   "metadata": {
    "ExecuteTime": {
     "end_time": "2024-02-28T21:27:21.105730Z",
     "start_time": "2024-02-28T21:27:21.094992Z"
    },
    "run_control": {
     "marked": true
    }
   },
   "outputs": [
    {
     "name": "stdout",
     "output_type": "stream",
     "text": [
      "Missing Values in 'engine_size':\n",
      "Count: 1014\n",
      "Percentage: 3.54%\n"
     ]
    }
   ],
   "source": [
    "handle_missing_values(df , \"engine_size\")"
   ]
  },
  {
   "cell_type": "code",
   "execution_count": 1054,
   "metadata": {
    "ExecuteTime": {
     "end_time": "2024-02-28T21:27:21.157965Z",
     "start_time": "2024-02-28T21:27:21.114374Z"
    }
   },
   "outputs": [
    {
     "data": {
      "text/plain": [
       "245"
      ]
     },
     "execution_count": 1054,
     "metadata": {},
     "output_type": "execute_result"
    }
   ],
   "source": [
    "# After the groupby operation, how many NaN values do I have remaining?\n",
    "df['engine_size'].fillna(df.groupby(['make', 'model', 'body_type', \"type\"])['engine_size'].transform('mean')).isnull().sum()"
   ]
  },
  {
   "cell_type": "code",
   "execution_count": 1055,
   "metadata": {
    "ExecuteTime": {
     "end_time": "2024-02-28T21:27:21.202153Z",
     "start_time": "2024-02-28T21:27:21.165571Z"
    }
   },
   "outputs": [],
   "source": [
    "df['engine_size'].fillna(df.groupby(['make', 'model', 'body_type', \"type\"])['engine_size'].transform('mean'), inplace = True)"
   ]
  },
  {
   "cell_type": "code",
   "execution_count": 1056,
   "metadata": {
    "ExecuteTime": {
     "end_time": "2024-02-28T21:27:21.217377Z",
     "start_time": "2024-02-28T21:27:21.208715Z"
    }
   },
   "outputs": [
    {
     "name": "stdout",
     "output_type": "stream",
     "text": [
      "Missing Values in 'engine_size':\n",
      "Count: 245\n",
      "Percentage: 0.86%\n"
     ]
    }
   ],
   "source": [
    "handle_missing_values(df , \"engine_size\")"
   ]
  },
  {
   "cell_type": "code",
   "execution_count": 1057,
   "metadata": {
    "ExecuteTime": {
     "end_time": "2024-02-28T21:27:21.236148Z",
     "start_time": "2024-02-28T21:27:21.219904Z"
    }
   },
   "outputs": [
    {
     "data": {
      "text/plain": [
       "2"
      ]
     },
     "execution_count": 1057,
     "metadata": {},
     "output_type": "execute_result"
    }
   ],
   "source": [
    "# After the groupby operation, how many NaN values do I have remaining?\n",
    "df[\"engine_size\"].fillna(df.groupby([\"power\"])[\"engine_size\"].transform(\"mean\")).isnull().sum()"
   ]
  },
  {
   "cell_type": "code",
   "execution_count": 1058,
   "metadata": {
    "ExecuteTime": {
     "end_time": "2024-02-28T21:27:21.263470Z",
     "start_time": "2024-02-28T21:27:21.245259Z"
    }
   },
   "outputs": [],
   "source": [
    "df[\"engine_size\"].fillna(df.groupby([\"power\"])[\"engine_size\"].transform(\"mean\"), inplace = True)"
   ]
  },
  {
   "cell_type": "code",
   "execution_count": 1059,
   "metadata": {
    "ExecuteTime": {
     "end_time": "2024-02-28T21:27:21.274111Z",
     "start_time": "2024-02-28T21:27:21.266002Z"
    }
   },
   "outputs": [
    {
     "name": "stdout",
     "output_type": "stream",
     "text": [
      "Missing Values in 'engine_size':\n",
      "Count: 2\n",
      "Percentage: 0.01%\n"
     ]
    }
   ],
   "source": [
    "handle_missing_values(df , \"engine_size\")"
   ]
  },
  {
   "cell_type": "markdown",
   "metadata": {},
   "source": [
    "<h6><span class=\"label label-danger\">Attention</span>Since there is no other column available to fill the remaining values, let's proceed with dropping them. </h6>"
   ]
  },
  {
   "cell_type": "code",
   "execution_count": 1060,
   "metadata": {
    "ExecuteTime": {
     "end_time": "2024-02-28T21:27:21.330238Z",
     "start_time": "2024-02-28T21:27:21.279154Z"
    }
   },
   "outputs": [],
   "source": [
    "df.dropna(subset=['engine_size'], inplace = True)"
   ]
  },
  {
   "cell_type": "code",
   "execution_count": 1061,
   "metadata": {
    "ExecuteTime": {
     "end_time": "2024-02-28T21:27:21.349506Z",
     "start_time": "2024-02-28T21:27:21.336313Z"
    }
   },
   "outputs": [
    {
     "name": "stdout",
     "output_type": "stream",
     "text": [
      "Missing Values in 'engine_size':\n",
      "Count: 0\n",
      "Percentage: 0.00%\n"
     ]
    }
   ],
   "source": [
    "handle_missing_values(df , \"engine_size\")"
   ]
  },
  {
   "cell_type": "code",
   "execution_count": 1062,
   "metadata": {
    "ExecuteTime": {
     "end_time": "2024-02-28T21:27:21.376003Z",
     "start_time": "2024-02-28T21:27:21.358221Z"
    }
   },
   "outputs": [
    {
     "data": {
      "text/plain": [
       "1626     2.9\n",
       "26497    2.5\n",
       "24882    1.5\n",
       "3392     1.7\n",
       "27247    1.5\n",
       "Name: engine_size, dtype: float64"
      ]
     },
     "execution_count": 1062,
     "metadata": {},
     "output_type": "execute_result"
    }
   ],
   "source": [
    "df.engine_size.sample(5)"
   ]
  },
  {
   "cell_type": "code",
   "execution_count": 1063,
   "metadata": {
    "ExecuteTime": {
     "end_time": "2024-02-28T21:27:21.448684Z",
     "start_time": "2024-02-28T21:27:21.380045Z"
    }
   },
   "outputs": [
    {
     "data": {
      "text/plain": [
       "2360     2.9\n",
       "25346    1.4\n",
       "14413    1.3\n",
       "5855     1.9\n",
       "20848    1.3\n",
       "Name: engine_size, dtype: float64"
      ]
     },
     "execution_count": 1063,
     "metadata": {},
     "output_type": "execute_result"
    }
   ],
   "source": [
    "# let's take 1 decimal place of engine_size\n",
    "df.engine_size = df['engine_size'].map('{:.1f}'.format).astype(float)\n",
    "df.engine_size.sample(5)"
   ]
  },
  {
   "cell_type": "markdown",
   "metadata": {},
   "source": [
    "<a id=\"7\"></a>\n",
    "<div class=\"alert alert-info\" role=\"alert\">\n",
    "<h1>Column name :<span style=\"color:red\"> comfort_&_convenience </span></h1>\n",
    "</div>\n",
    "\n",
    "<div class=\"alert alert-block alert-warning\">\n",
    "<b>Operation : </b>First, let's leverage <span style=\"color:red\"><b>the dictionary we created in Part 1  </b></span>to examine the short_description. If we find any matching values, let's <span style=\"color:red\"><b>replace </b></span> them with their corresponding keys . Also,  let's assign <span style=\"color:red\"><b>\"functional&mechanical\" </b></span>  to the values in the \"comfort_&_convenience\" column that contain \"Start & Stop\" based on the <span style=\"color:red\"><b> \"short_description\"</b></span>  column. Then, let's perform the fillna operation using the <span style=\"color:red\"><b>\"seats\", \"make\", and \"type\" </b></span>  columns.\n",
    "</div>\n",
    "<a href=\"#toc\" class=\"btn btn-warning btn-lg active\" role=\"button\" aria-pressed=\"true\" style=\"color:black;\">Content</a>"
   ]
  },
  {
   "cell_type": "code",
   "execution_count": 1064,
   "metadata": {
    "ExecuteTime": {
     "end_time": "2024-02-28T21:27:21.476641Z",
     "start_time": "2024-02-28T21:27:21.453254Z"
    }
   },
   "outputs": [
    {
     "name": "stdout",
     "output_type": "stream",
     "text": [
      "column name    :  comfort_&_convenience\n",
      "--------------------------------\n",
      "per_of_nulls   :  % 11.14\n",
      "num_of_nulls   :  3185\n",
      "num_of_uniques :  61\n",
      "comfort_&_convenience\n",
      "bodywork,seats,functional&mechanical,steering&trim,climate             10647\n",
      "security,bodywork,seats,functional&mechanical,steering&trim,climate     5922\n",
      "NaN                                                                     3185\n",
      "functional&mechanical,bodywork,climate,steering&trim                    2753\n",
      "functional&mechanical,bodywork,climate                                   715\n",
      "                                                                       ...  \n",
      "seats,steering&trim,climate,security                                       1\n",
      "seats,climate,security                                                     1\n",
      "functional&mechanical,bodywork,steering&trim,security                      1\n",
      "seats,security                                                             1\n",
      "climate,security                                                           1\n",
      "Name: count, Length: 62, dtype: int64\n"
     ]
    }
   ],
   "source": [
    "first_looking(\"comfort_&_convenience\")"
   ]
  },
  {
   "cell_type": "code",
   "execution_count": 1065,
   "metadata": {
    "ExecuteTime": {
     "end_time": "2024-02-28T21:27:21.497258Z",
     "start_time": "2024-02-28T21:27:21.483594Z"
    }
   },
   "outputs": [],
   "source": [
    "con_conve = {\n",
    "    \n",
    "\"climate\" :[  \"Air Conditioning\",\n",
    "              \"Automatic Climate Control\",\n",
    "              \"2 Zones\",\n",
    "              \"3 Zones\",\n",
    "              \"4 Zones\",\n",
    "              \"Auxiliary Heating\"\n",
    "                ],\n",
    "    \n",
    "\"seats\":  [     \"Split Rear Seats\",\n",
    "                \"Leather Seats\",\n",
    "                \"Armrest\",\n",
    "                \"Lumbar Support\",\n",
    "                \"Seat Heating\",\n",
    "                \"Seat Ventilation\",\n",
    "                \"Massage Seats\",\n",
    "                \"Fold Flat Passenger Seat\",\n",
    "                \"Electric Backseat Adjustment\",\n",
    "                \"Electrically Adjustable Seats\",\n",
    "                \"Electrically Heated Windshield\"\n",
    "            ],\n",
    "    \n",
    "\"functional&mechanical\": [\"Parking Assist System Sensors Front\",\n",
    "                          \"Parking Assist System Sensors Rear\",\n",
    "                          \"Parking Assist System Self-Steering\",\n",
    "                          \"Parking Assist System Camera\",\n",
    "                          \"Park Distance Control\",\n",
    "                          \"360° Camera\",\n",
    "                          \"Heads-Up Display\",\n",
    "                          \"Rain Sensor\",\n",
    "                          \"Light Sensor\",\n",
    "                          \"Hill Holder\",\n",
    "                          \"Navigation System\",\n",
    "                          \"Air Suspension\",\n",
    "                          \"Electrical Side Mirrors\",\n",
    "                          \"Electric Tailgate\",\n",
    "                          \"Start-Stop System\"\n",
    "                        ],\n",
    "    \n",
    "\"steering&trim\" :[     \"Cruise Control\",\n",
    "                       \"Heated Steering Wheel\",\n",
    "                       \"Leather Steering Wheel\",\n",
    "                       \"Multi-Function Steering Wheel\"\n",
    "                   ],\n",
    "    \n",
    "\"bodywork\" : [ \"Wind Deflector\",\n",
    "               \"Sliding Door Right\",\n",
    "               \"Sliding Door Left\",\n",
    "               \"Tinted Windows\",\n",
    "               \"Panorama Roof\",\n",
    "               \"Sunroof\",\n",
    "               \"Power Windows\"\n",
    "             ],\n",
    "    \n",
    "\"security\" : [\n",
    "               \"Keyless Central Door Lock\"\n",
    "                   ]\n",
    "}"
   ]
  },
  {
   "cell_type": "code",
   "execution_count": 1066,
   "metadata": {
    "ExecuteTime": {
     "end_time": "2024-02-28T21:27:22.526470Z",
     "start_time": "2024-02-28T21:27:21.503852Z"
    }
   },
   "outputs": [
    {
     "name": "stdout",
     "output_type": "stream",
     "text": [
      "climate Air Conditioning: short_description\n",
      "False    3117\n",
      "Name: count, dtype: int64\n",
      "climate Automatic Climate Control: short_description\n",
      "False    3117\n",
      "Name: count, dtype: int64\n",
      "climate 2 Zones: short_description\n",
      "False    3117\n",
      "Name: count, dtype: int64\n",
      "climate 3 Zones: short_description\n",
      "False    3117\n",
      "Name: count, dtype: int64\n",
      "climate 4 Zones: short_description\n",
      "False    3117\n",
      "Name: count, dtype: int64\n",
      "climate Auxiliary Heating: short_description\n",
      "False    3117\n",
      "Name: count, dtype: int64\n",
      "seats Split Rear Seats: short_description\n",
      "False    3117\n",
      "Name: count, dtype: int64\n",
      "seats Leather Seats: short_description\n",
      "False    3117\n",
      "Name: count, dtype: int64\n",
      "seats Armrest: short_description\n",
      "False    3117\n",
      "Name: count, dtype: int64\n",
      "seats Lumbar Support: short_description\n",
      "False    3117\n",
      "Name: count, dtype: int64\n",
      "seats Seat Heating: short_description\n",
      "False    3117\n",
      "Name: count, dtype: int64\n",
      "seats Seat Ventilation: short_description\n",
      "False    3117\n",
      "Name: count, dtype: int64\n",
      "seats Massage Seats: short_description\n",
      "False    3117\n",
      "Name: count, dtype: int64\n",
      "seats Fold Flat Passenger Seat: short_description\n",
      "False    3117\n",
      "Name: count, dtype: int64\n",
      "seats Electric Backseat Adjustment: short_description\n",
      "False    3117\n",
      "Name: count, dtype: int64\n",
      "seats Electrically Adjustable Seats: short_description\n",
      "False    3117\n",
      "Name: count, dtype: int64\n",
      "seats Electrically Heated Windshield: short_description\n",
      "False    3117\n",
      "Name: count, dtype: int64\n",
      "functional&mechanical Parking Assist System Sensors Front: short_description\n",
      "False    3117\n",
      "Name: count, dtype: int64\n",
      "functional&mechanical Parking Assist System Sensors Rear: short_description\n",
      "False    3117\n",
      "Name: count, dtype: int64\n",
      "functional&mechanical Parking Assist System Self-Steering: short_description\n",
      "False    3117\n",
      "Name: count, dtype: int64\n",
      "functional&mechanical Parking Assist System Camera: short_description\n",
      "False    3117\n",
      "Name: count, dtype: int64\n",
      "functional&mechanical Park Distance Control: short_description\n",
      "False    3117\n",
      "Name: count, dtype: int64\n",
      "functional&mechanical 360° Camera: short_description\n",
      "False    3117\n",
      "Name: count, dtype: int64\n",
      "functional&mechanical Heads-Up Display: short_description\n",
      "False    3117\n",
      "Name: count, dtype: int64\n",
      "functional&mechanical Rain Sensor: short_description\n",
      "False    3117\n",
      "Name: count, dtype: int64\n",
      "functional&mechanical Light Sensor: short_description\n",
      "False    3117\n",
      "Name: count, dtype: int64\n",
      "functional&mechanical Hill Holder: short_description\n",
      "False    3117\n",
      "Name: count, dtype: int64\n",
      "functional&mechanical Navigation System: short_description\n",
      "False    3117\n",
      "Name: count, dtype: int64\n",
      "functional&mechanical Air Suspension: short_description\n",
      "False    3117\n",
      "Name: count, dtype: int64\n",
      "functional&mechanical Electrical Side Mirrors: short_description\n",
      "False    3117\n",
      "Name: count, dtype: int64\n",
      "functional&mechanical Electric Tailgate: short_description\n",
      "False    3117\n",
      "Name: count, dtype: int64\n",
      "functional&mechanical Start-Stop System: short_description\n",
      "False    3117\n",
      "Name: count, dtype: int64\n",
      "steering&trim Cruise Control: short_description\n",
      "False    3117\n",
      "Name: count, dtype: int64\n",
      "steering&trim Heated Steering Wheel: short_description\n",
      "False    3117\n",
      "Name: count, dtype: int64\n",
      "steering&trim Leather Steering Wheel: short_description\n",
      "False    3117\n",
      "Name: count, dtype: int64\n",
      "steering&trim Multi-Function Steering Wheel: short_description\n",
      "False    3117\n",
      "Name: count, dtype: int64\n",
      "bodywork Wind Deflector: short_description\n",
      "False    3117\n",
      "Name: count, dtype: int64\n",
      "bodywork Sliding Door Right: short_description\n",
      "False    3117\n",
      "Name: count, dtype: int64\n",
      "bodywork Sliding Door Left: short_description\n",
      "False    3117\n",
      "Name: count, dtype: int64\n",
      "bodywork Tinted Windows: short_description\n",
      "False    3117\n",
      "Name: count, dtype: int64\n",
      "bodywork Panorama Roof: short_description\n",
      "False    3117\n",
      "Name: count, dtype: int64\n",
      "bodywork Sunroof: short_description\n",
      "False    3117\n",
      "Name: count, dtype: int64\n",
      "bodywork Power Windows: short_description\n",
      "False    3117\n",
      "Name: count, dtype: int64\n",
      "security Keyless Central Door Lock: short_description\n",
      "False    3117\n",
      "Name: count, dtype: int64\n"
     ]
    }
   ],
   "source": [
    "# Sure, let's query the key-value pairs of the dictionary in the short description.\n",
    "for category, keywords in con_conve.items():\n",
    "    for keyword in keywords:\n",
    "        result = df.loc[df[df[\"comfort_&_convenience\"].isnull()].index, \"short_description\"].str.contains(f\"(?i){keyword}\")\n",
    "        print(f\"{category} {keyword}: {result.value_counts()}\")"
   ]
  },
  {
   "cell_type": "code",
   "execution_count": 1067,
   "metadata": {
    "ExecuteTime": {
     "end_time": "2024-02-28T21:27:22.538364Z",
     "start_time": "2024-02-28T21:27:22.534138Z"
    }
   },
   "outputs": [],
   "source": [
    "# Because the \"Short_Description\" column does not contain any values that are present in the \"safety_security\" dictionary, \n",
    "# then we won't be able to utilize the dictionary in this case."
   ]
  },
  {
   "cell_type": "code",
   "execution_count": 1068,
   "metadata": {
    "ExecuteTime": {
     "end_time": "2024-02-28T21:27:22.605181Z",
     "start_time": "2024-02-28T21:27:22.541604Z"
    }
   },
   "outputs": [
    {
     "data": {
      "text/plain": [
       "['CDi',\n",
       " '350+',\n",
       " 'S 4Matic+ 8G-DCT',\n",
       " 'd 4Matic (EURO 6d)',\n",
       " '250e 8G-DCT',\n",
       " 'CDI Elegance',\n",
       " 'd (177.003)',\n",
       " '200d 4Matic 8G-DCT',\n",
       " '200d Sedán 8G-DCT',\n",
       " '4-Door 63 S 4MATIC+',\n",
       " '250e Sedán 8G-DCT',\n",
       " '200d 7G-DCT',\n",
       " 'CDI 100kW ( 136CV ) Urban',\n",
       " 'e A 250e Progressive Sfeerverlichting / NIEUW GERE',\n",
       " 'd Premium',\n",
       " 'MERCEDES-BENZ Clase GLK Pequeño  Automático de 5',\n",
       " 'Pequeño Automático de 5 Puertas',\n",
       " '180d 8G-DCT',\n",
       " 'CDI Premium',\n",
       " 'CDI Style',\n",
       " 'Biturbo V-Max',\n",
       " 'abrio Mercedes-AMG 4MATIC',\n",
       " 'MERCEDES-BENZ Clase SL Descapotable  Automático d',\n",
       " 'SL *Pagode*3.Besitz/Dt.Fahrzeug/H-Zul.',\n",
       " 'MercedesAMG',\n",
       " 'SL Pagode',\n",
       " '200K',\n",
       " 'Cabrio d',\n",
       " 'Deutsches Fahrzeug  Sammlerzustand',\n",
       " 'SL Vollrestauration',\n",
       " 'V12 - Origineel Nederlands -',\n",
       " '200 K.',\n",
       " 'GE',\n",
       " 'SL',\n",
       " 'Cabriolet AMG Line',\n",
       " '(R129)',\n",
       " '(R129) 2nd Owner/Collectable',\n",
       " 'Cabrio',\n",
       " 'cabrio d  Premium Plus 4matic auto',\n",
       " '220 d executive a',\n",
       " '220 A Cabriolet',\n",
       " '190SL',\n",
       " 'S Cabriolet Ponton Typ A (W 180)',\n",
       " 'D',\n",
       " nan,\n",
       " 'SEb (111)*DEUTSCHES-FAHRZEUG*H-KENNZEICHEN*TOP-ZUS',\n",
       " 'S Coupe',\n",
       " '4Matic (EURO 6d-TEMP)',\n",
       " 'C Coupe*DEUTSCHES-FAHRZEUG*AUTOMATIK*H-KENNZEICHEN',\n",
       " 'Compressor',\n",
       " '220d Aut.',\n",
       " 'Coupé d (238.314)',\n",
       " 'd 4MATIC -',\n",
       " 'Coupé 400d 4Matic Aut.',\n",
       " 'CDI Chrome',\n",
       " 'Coupé d AMG LINE',\n",
       " 'd (205.314)',\n",
       " 'EQ Boost Aut. (9.75)',\n",
       " 'CDI (LA) Sport Edition (203.708)',\n",
       " 'Coupé 220d',\n",
       " 'COUPE AMG -Line',\n",
       " 'CDI Inspiration 7G-DCT',\n",
       " '220d 4Matic 8G-DCT',\n",
       " '300e 4Matic 9G-Tronic',\n",
       " '4MATIC',\n",
       " 'd 4MATIC',\n",
       " 'd 4 MATIC 245cv 9 vel. *IVA deducible* *2020* *Nac',\n",
       " 'CDI',\n",
       " '4Matic 8G-DCT',\n",
       " 'd 4Matic (253.915)',\n",
       " 'Puch  JAGD-FZG./WINDE/KOFFER/BRAUSE/AHK',\n",
       " 'e 4Matic',\n",
       " '300 4MATIC',\n",
       " 'D ADVANTAGE + PAQ NIGHT',\n",
       " 'GE lang Cabrio Steyr-D-Puch AHK Automatik Rücksitz',\n",
       " 'Coupé 350D 258 CV',\n",
       " 'Mercedes-AMG 4MATIC',\n",
       " 'Mercedes-AMG 4MATIC+',\n",
       " 'D 2.2 170CV AUT 5P',\n",
       " '300d 4Matic Aut.',\n",
       " 'd',\n",
       " '(+)2.0 AVANTGARDE AUTO 211 5P STATE',\n",
       " 'd Estate Avantgarde',\n",
       " 'de Estate AMG LINE',\n",
       " 'CDI Blue Efficiency Estate',\n",
       " 'Estate Estate',\n",
       " 'd Estate',\n",
       " '(+)2.1 D AMG LINE 5P',\n",
       " 'B200 CDI AMG AUT 136CV',\n",
       " '580 4Matic',\n",
       " 'CDI BlueEfficiency (204.001)',\n",
       " '1.6',\n",
       " '2.3 16',\n",
       " 'Mercedes-AM53 4MATIC+',\n",
       " 'Mercedes-AMG S 4MATIC+',\n",
       " 'CDI Business',\n",
       " 'BlueTEC Sport',\n",
       " '220d 9G-Tronic 194',\n",
       " 'BlueTEC 4Matic (212.011)',\n",
       " '*1.HAND*ORIGINAL ZUSTAND*KEIN ROST',\n",
       " '1.6T PHEV S/S GS-Line Aut. 180',\n",
       " '1.5D DT S/S GS-Line + 100',\n",
       " '1.2T S/S Design & Tech 130',\n",
       " 'Corsa-e Elegance-e',\n",
       " '1.5D DTH S/S Elegance 130',\n",
       " '1.4 Twinport 87ch Start/Stop',\n",
       " 'TwinTop 1.4 16V Sport',\n",
       " '2.0 CDTi S/S 165 CV Excellence',\n",
       " '1.4 Turbo Excellence',\n",
       " '1.4 T S/S Excellence',\n",
       " '1.4T 140cv Excellence S/S #NAVY, BLUETOOTH',\n",
       " 'Descapotable Manual de 3 Puertas',\n",
       " '2.0 264 turbo cab / suivi complet opel / 1e main',\n",
       " '2.0 Turbo Einzelstück/Rennwagen/Track.',\n",
       " 'Roadster',\n",
       " '2.0 Turbo ECOTEC',\n",
       " '2.0 T',\n",
       " '2.0 Turbo Pack',\n",
       " '2.2 16v VX 220 VX220',\n",
       " 'opel astra h cabrio opc',\n",
       " 'Twin Top 1.8 (Enjoy)',\n",
       " '1.4-16V cabrio',\n",
       " 'Deportivo Manual de 3 Puertas',\n",
       " 'B 2.0 GSI 1985 ATS RECARO APK 2023',\n",
       " 'GT/J Sport',\n",
       " 'C 2.2 de Luxe',\n",
       " '3 Puertas 1.4T GSI',\n",
       " 'GTC 2.0 CDTi 195cv Biturbo 3p S/S #NAVY, BLUETOOTH',\n",
       " 'Coupe GS',\n",
       " 'MANTA STINGRAY-RESTAURATIONSOBJEKT-AUTOMATIK',\n",
       " '2.5i V6',\n",
       " 'olimpia record coupe',\n",
       " '19 SR',\n",
       " 'Commodore 2.5 GS Coupe Automat',\n",
       " 'Olimpia 1.5 Coupe  //Top Zustand//',\n",
       " '*H-Kennzeichen*Oldtimer*TÜV Neu*',\n",
       " '3.0 E',\n",
       " '1.4',\n",
       " 'A Berlinetta 1,9 S',\n",
       " 'GT/E gruppo 2',\n",
       " '1900 S Berlina',\n",
       " 'V6 190ps',\n",
       " 'opel Astra g coupe project',\n",
       " 'Olympia',\n",
       " '1900',\n",
       " 'GT1900 AL',\n",
       " 'Opel GT 1900',\n",
       " 'GSE (état concours)',\n",
       " '1200 S',\n",
       " 'GTC 1.6 t ecotec Cosmo S s&s 180cv',\n",
       " 'GT-A-L',\n",
       " 'B Coupe aus 1969',\n",
       " '1.7 CDTi 111 y. Ed.',\n",
       " '1.7 CDTi Enjoy',\n",
       " '1.9 N',\n",
       " 'B Coupe',\n",
       " 'GTE - CONRERO',\n",
       " 'Irmscher GSE Oltimer FIA Liebhaber ',\n",
       " '2.2 16V Coupe',\n",
       " 'Manta-B',\n",
       " 'C1 Coupe 1200H',\n",
       " 'B LS Fastback',\n",
       " 'coupé',\n",
       " '2.0 GSi / Look Manta 400 /  Rally / Oldtimer /',\n",
       " 'GSI !! 1.8i !! ZERO CORROSION !!',\n",
       " 'oldtimer 3.0 6cil GSE 180pk manual gears box',\n",
       " '1200 S  Allestimento Irmscher',\n",
       " 'AT',\n",
       " 'Berlinetta',\n",
       " 'Coupe 2.0 turbo 16v 200cv',\n",
       " 'B GSI - Hatchback - Same Owner since 1990',\n",
       " 'B 2.0 GT/E,IRMSCHER,SERVO,H-ZULASSUNG,SPANIEN',\n",
       " 'A 1,6S Original 28300 KM Neuwertig',\n",
       " 'B CC Berlinetta H-KENNZEICHEN und Tüv Neu*',\n",
       " '5p 1.6i twinport 16v',\n",
       " '1.8 16V Coupe',\n",
       " '200',\n",
       " 'B 1,9 S 1 Hand',\n",
       " 'ASTRA GTC 1.4',\n",
       " 'Astra Coupe 1.8 16v',\n",
       " '3p 1.4i 16v Club',\n",
       " 'e    1.4i  32jahre alt  h kennzeichen-möglich',\n",
       " '1.3 CDTI Advance 95cv S/S 5 PORTE',\n",
       " '1.4i 16V',\n",
       " 'B CC - 2.0E - 22tkm ! -perfekt original',\n",
       " '1.3 CDTI b-Color 75cv 5 PORTE',\n",
       " 'PHEV 1.6 Turbo GS Line Aut. 4x2 225',\n",
       " '3.0TD LS',\n",
       " '1.5CDTi S&S GS Line Aut. 130',\n",
       " '1.6 Turbo  Auto 4x4 Ultimate',\n",
       " '1.2T S&S GS Line 130',\n",
       " '1.2 96kW (130CV)  S/S Innovation',\n",
       " 'Mokka-e GS Line-e',\n",
       " 'GS LINE',\n",
       " '1.2 Turbo Selective',\n",
       " 'X 1.6 CDTI Excellence',\n",
       " 'X EXCELLENCE',\n",
       " 'INS-ST INNOV. 1.6D 136CV MT6',\n",
       " 'SPORT TOURER 1.2 TURBO 145 CV ELEGANCE',\n",
       " 'Life 1.2 T S/S   XL Selective',\n",
       " 'Sports Tourer 2.0 CDTI 130CV Edition Aut',\n",
       " 'Life 1.5 CDTI INNOVATION',\n",
       " 'Life 1.5 TD 75kW (100CV) S/S   L Selective',\n",
       " 'ST 1.5D DVH S&S Business Edition 122',\n",
       " 'Life 1.5 TD 96kW 130cv SS Edition L',\n",
       " 'ST  2.0D DVH 130kW AT8 Business Elegance',\n",
       " 'Berlina Manual de 5 Puertas',\n",
       " '1.2T SHR 107kW (145CV) Business Elegance',\n",
       " 'GS  1.5D DVH 90kW MT6 Business Edition',\n",
       " 'GS  2.0T SHT 169kW AT9 4x4 GSi',\n",
       " '2.0 T SHT S&S Business Elegance AT9 170',\n",
       " '1.4T Elegance AUT 5p',\n",
       " '1.5D DVH S&S GS-Line AT8 122',\n",
       " '1.6 Turbo S/S GSi Line',\n",
       " 'GS 1.6 CDTi 100kW Turbo D Business',\n",
       " '1.2T XHL 74kW (100CV) GS-Line',\n",
       " '1.4 Turbo S/S Sportive',\n",
       " '1.6T Hybrid 132kW (180CV)  Auto GS-Line',\n",
       " '1.2T XHL 74kW (100CV)  Auto Elegance',\n",
       " '1.8 TCe GPF RS Trophy EDC 221kW',\n",
       " '1.5 dCi 110CV Nav',\n",
       " '1.5 ENERGY dCI 110 CV AUT',\n",
       " 'Color/Miet Batterie/Türen mit Scheiben',\n",
       " 'E-TECH RS Line 117kW',\n",
       " 'TCe Zen 67kW',\n",
       " '1.3 TCe 140cv Zen Energy',\n",
       " 'Life 80',\n",
       " 'Electric Zen R80 60kW Batería 20kW/h',\n",
       " '80 INTENS WHITE',\n",
       " '1.5dCi Blue R.S. Line EDC 85kW',\n",
       " 'E-TECH Híbrido Intens 103kW',\n",
       " 'E-TECH Híbrido Zen 103kW',\n",
       " 'tce 120 intens pack trophy + equipe pmr handicap',\n",
       " '0.9 Dynamique Navi*MMI*Clima*Parksensor*Keyless*Ca',\n",
       " '1.3 TCe GPF Intens 103kW',\n",
       " 'LIMITED LIFE 41KW/H',\n",
       " '1.4 RN Orig.NL 54dkm+nap Topstaat!',\n",
       " 'Twizy 45 Intens Black Flex',\n",
       " 'Sport 1. Vorbes. Scheckheft gepflegt',\n",
       " '1.5 DCI LMV NAVIGATIE CRUISE CD CV+AB',\n",
       " 'life 80 kw r110 batería 40kwh',\n",
       " 'Plein Air*Komplettneuaufbau*H-Kennz.',\n",
       " 'R4 Cabriolet / Sammlerfahrzeug / 1. Hand',\n",
       " 'CC 1.5 dCi Dynamique 110 CV',\n",
       " 'CC TCe 130 Dynamique 130 CV',\n",
       " 'Sporter Blue dCi 160 CV EDC Exe',\n",
       " '1.8-16V | Cabrio | 69.000 KM | 1994 | 1 Swiss Owne',\n",
       " '1.8 Fairway',\n",
       " '1.6-16V Priv.Luxe',\n",
       " 'renault megane 5 porte dci  110cv',\n",
       " 'Cabriolet 1.6',\n",
       " '4cv * DECOUVRABLE',\n",
       " 'Mégane',\n",
       " '2.0 Coupe-Cabriolet Confort Dynamique',\n",
       " 'Cabriolet 16V',\n",
       " 'Coupe 2.0 16v T RS 250cv LEGGERE BENE !!!',\n",
       " 'CC 1.5 dCi 110 FAP GT Line EDC 2015',\n",
       " 'Mégane C.C. 1.5dCi Dynamique',\n",
       " 'SporTour 1.9 dci Dynamique 130cv fap',\n",
       " '1.6-16V Privilège',\n",
       " '1.6 Dynamique',\n",
       " 'II CC 1.9 dCi 130 FAP Privilège',\n",
       " '2.0 Coupe-Cabriolet Privilege',\n",
       " '8.5',\n",
       " '1.5 dCi 110CV S-S 4p. Express Ice',\n",
       " 'ACL  Cabrio   Rodeo',\n",
       " 'Pare-Brise 2.0 150 ch Avec Hard Top',\n",
       " '1.9 dCi FAP Coupe-Cabriolet Dynamique',\n",
       " 'R19 Cabriolet 1.8',\n",
       " '2.0i',\n",
       " '1.2 75CV GPL 5 porte Wave 201407',\n",
       " 'FLORIDE ( con hard top)',\n",
       " 'Megane SporTour 1.5 dci Gt Line 110cv',\n",
       " 'mit Frontscheibe',\n",
       " 'Coupé RS 2.0 16v 265 S&S',\n",
       " 'Williams Phase 2',\n",
       " 'tce 140 edc fap',\n",
       " 'COUPE EXPRESSION 1.9DCI',\n",
       " 'Mégane Coupé 1.6ie',\n",
       " 'tce 140 edc fap - 21b',\n",
       " 'A PREPARER',\n",
       " 'Deportivo Automático de 3 Puertas',\n",
       " 'CoupÃ© 2.0 dCi 150cv 2p #LIBRO, NAVY, BLUETOOTH',\n",
       " 'anterior TCe GPF Energy Limited 66kW',\n",
       " 'Zen',\n",
       " 'TCe 115 Expression Energy SANDS 85 kW (115 CV)',\n",
       " 'anterior TCe Limited 55kW',\n",
       " '1600 S',\n",
       " 'Europa Cup',\n",
       " 'Renault Megane 1,5 dCI Energy Limited S&S 95',\n",
       " 'Group 4 * Roadlegal *',\n",
       " 'GTS',\n",
       " '3 coupe III COUPE 2.0 DCI 160 FAP GT EURO5',\n",
       " 'A 310',\n",
       " 'TURBO 1',\n",
       " 'Megane coupe manual 2.0 dCi',\n",
       " 'SporTour 2.0 dci 4Control esm 150cv',\n",
       " '45 ELECTRIQUE',\n",
       " 'Coupe Energy dCi 110 FAP Start & Stop GT Line',\n",
       " 'TR',\n",
       " 'v6 fase2    -   65000km',\n",
       " 'Mégane Sport R.S. 265 Stop&Start Start&Stop',\n",
       " 'Tbo',\n",
       " '2.0 T RS',\n",
       " 'GT 18Fuchs/Ablage-/Sichtpaket',\n",
       " 'Rs',\n",
       " 'Turbo Maxi 2 Gruppo B Omologata Stradale',\n",
       " 'Coupe 2.0 16V Turbo GT',\n",
       " 'II 3.0 V6 Sport',\n",
       " 'Coupe Energy dCi 130 FAP Start & Stop GT Line',\n",
       " 'ARKANA E-Tech 145 - 21B R.S. Line',\n",
       " 'V6 TURBO',\n",
       " 'tce 160 edc fap - 21b',\n",
       " '1.9 dCi Expression',\n",
       " 'Coupe dCi 175 FAP',\n",
       " 'RENAULT CLIO V6 SPORT \"PHASE 2\"',\n",
       " '1.0 TCE 74KW BUSINESS 5 PORTE',\n",
       " 'DCI 180 4 CONTROL',\n",
       " 'Coupe 2.0 dCi 150ch Monaco GP',\n",
       " 'Technik 80 Z.E14.04.2014',\n",
       " 'TCe 160 EDC GPF BOSE EDITION',\n",
       " 'Coupe 2.0 dci Wave Edition 150cv',\n",
       " 'COUPE 1.6 dCi 130 FAP Energy Bose eco²',\n",
       " 'Fleischmann',\n",
       " 'dCi 110 FAP Coupe Dynamique',\n",
       " '1.6 E-Tech R.S.Line 105kW',\n",
       " 'Limited',\n",
       " '1.3 TCe R.S. Line EDC 103kW',\n",
       " 'Zen E-TECH Híbrido 105kW(145CV)',\n",
       " '2.0 Blue dCi 184cv X-Tronic Initiale Paris',\n",
       " '1.6 E-Tech 145cv RS Line',\n",
       " 'dci 90',\n",
       " 'e-tech 145 - 21',\n",
       " 'Bose Edition 2.0 dCi 150cv 4x4',\n",
       " 'blue dci 115',\n",
       " 'tce 160 edc',\n",
       " '1.5 BLUE DCI 115CV BUSINESS',\n",
       " '1.2 VOOR EXPORT',\n",
       " 'V INITIALE PARIS 1.6 DCI 160CV AT6',\n",
       " 'S.T E-TECH Intens 117kW',\n",
       " '1.8 TCe SL Icon EDC',\n",
       " '1.6  dCi 130',\n",
       " 'S.T. 1.5dCi Blue Intens 85kW',\n",
       " 'S.T. E-TECH Zen 117kW',\n",
       " 'S.T. 2.0dCi Blue Zen EDC 147kW',\n",
       " 'Ini. P. Blue dCi 139 kW (190CV) EDC',\n",
       " '4P 1.6 DCI 130CV',\n",
       " 'Life',\n",
       " 'ZEN ENERGY dCI 81 KW 110 CV EDC 5',\n",
       " 'grand scénic dci 130 energy fap eco2',\n",
       " 'Zen Energy dCi 81kW (110CV)',\n",
       " 'S.T. 1.5dCi Energy Tech',\n",
       " 'blue dci 150',\n",
       " 'estate dci 130 energy',\n",
       " 'Luxe Privilege 2.0 16V EU4',\n",
       " 'Zen Blue dCi 88 kW (120CV) - SS',\n",
       " 'S.T. 1.8dCi Blue GT Line EDC 110kW',\n",
       " 'mégane iv estate blue dci 115 - 21b',\n",
       " 'BUSINESS BLUE DCI 70 KW 95CV',\n",
       " '1.5 DCI TECH ROAD ENERGY 110CV',\n",
       " '1.8 RS Energy Tce 205kW 280cv',\n",
       " 'RS Trophy Energy 162kW (220CV) EDC',\n",
       " 'LIMITED BLUE DCI 88 KW 120CV',\n",
       " '4 Energy dCi 55kW (75CV) Business',\n",
       " 'Zen TCe GPF 74 kW (100CV)',\n",
       " 'Init. P. Blue dCi 118 kW(160CV) EDC SS',\n",
       " 'INTENS R135 B-Rent',\n",
       " 'Energy TCe 120 EDC Euro 6 Intens',\n",
       " 'Limited Energy TCe 66kw (90CV) eco2',\n",
       " '1.9 dCi/130CV 4p. Dynamique',\n",
       " 'Renault 18 Turbo',\n",
       " 'BOSE Edition',\n",
       " 'ii 1.2 lev 16v 75 eco2',\n",
       " 'dci 130 energy intens / origine france',\n",
       " '1.5 dci - 90ch   iv berline business',\n",
       " '4 IV (BFB) 1.8T 280CH RS EDC',\n",
       " 'RS',\n",
       " '4 Energy dCi 75 eco2 Euro 6 Business',\n",
       " '1.2 TCe 115 SS Energy Expression',\n",
       " '1.5BlueHDi S&S GT EAT8 130',\n",
       " '1.6 Hybrid Allure Pack EAT8 180',\n",
       " '1.2 Puretech S&S Allure Pack 100',\n",
       " '1.5 BlueHDi S&S Active Pack 100',\n",
       " 'Pequeño Manual de 5 Puertas',\n",
       " '1.5 BlueHDi S&S GT Pack EAT8 130',\n",
       " '1.2 PureTech S&S Allure Pack 130',\n",
       " '1.5 BlueHDi S&S GT EAT8 130',\n",
       " '1.2 PureTech S&S Active Pack 110',\n",
       " '12V VTi 82CV 5p. Active',\n",
       " 'VTi 52kW (72CV) Allure',\n",
       " 'Allure Long PureTech 110',\n",
       " '1.2 PureTech S&S GT EAT8 130',\n",
       " '1ste Eigenaar 134.000km Garantie+Keuring',\n",
       " '1.6 Hybrid GT EAT8 225',\n",
       " '1.2 Puretech S&S Allure Pack EAT8 100',\n",
       " '1.0-12V XR',\n",
       " '1.5 BlueHDi S&S Allure Pack EAT8 130',\n",
       " '1.4Diesel !!!75.000km!!! GARANTIE + KEURING',\n",
       " '1.2 Puretech S&S Allure Pack EAT8 130',\n",
       " 'Allure Pack Eléctrico 100kW',\n",
       " '1.0-12V XR| SPORT| ELEK. RAMEN| LM-VELGEN',\n",
       " 'WAGON Business 1.6 8v e-HDi 115cv S/S',\n",
       " 'CC 1.6 HDI 112 FAP',\n",
       " '206 CC Roland Garros',\n",
       " '1.1i cat Cabriolet CJ',\n",
       " '207 CC 1.6 16v 120ch',\n",
       " 'Cabriolet 2 l',\n",
       " 'CC Sport 1.6 VTI 120',\n",
       " 'CC 1.6 VTI 16V 120',\n",
       " 'Cabrio 1.6 THP Sport Pack 115 kW (156 CV)',\n",
       " 'CC 1.6',\n",
       " 'CC 1.6 THP Edition Limitada 150CV',\n",
       " 'CC Cabrio 2.0 HDI Sport 140CV',\n",
       " 'CC Cabrio 1.6 VTi Sport 122CV',\n",
       " 'CC 1.6 VTi Active 120 CV',\n",
       " 'CC 1.6 VTi 120cv SPORT 2p #BLUETOOTH',\n",
       " 'CC HDI 136 FAP',\n",
       " 'cabriolet $$je recherche en état ou a refaire$$',\n",
       " 'Cabriolet Injection',\n",
       " 'GTI',\n",
       " 'CC 2.0 Sport 180',\n",
       " '206CC',\n",
       " '2.0 HDI 120CV DISTRIB OK',\n",
       " '1.6-16V',\n",
       " 'cabrio',\n",
       " 'CC 2.0 HDi 16V 140 ch FAP Féline 7',\n",
       " '2.0-16V',\n",
       " '1.6-16V Roland G.',\n",
       " 'CC 2.0 16V',\n",
       " 'CC',\n",
       " '1.6 Vti Cabrio 2008 Zwart',\n",
       " '<NULL',\n",
       " 'CC 135',\n",
       " 'CC e-HDi FAP 110 Start&Stop Active',\n",
       " 'CC 110 Roland Garros',\n",
       " 'CABRIOLET (KF2)',\n",
       " 'CC HDi FAP 110 Premium',\n",
       " '1.6-16V T Roland G.',\n",
       " 'Cabriolet 1.8',\n",
       " '206CC Hardtop Cabriolet',\n",
       " 'Automatik Leder',\n",
       " '1.3i Rallye',\n",
       " 'Coupé 2.0l - Garantie 12 mois',\n",
       " '1.6 THP 155cv',\n",
       " '1.6 THP',\n",
       " '2.0 HDi  163 CV',\n",
       " '2.0 HDi 163 CV',\n",
       " 'Coupé Ultima Edizione HDi Pack 136',\n",
       " 'CoupÃ© 2.2 163cv 2p #LIBRO',\n",
       " '2.7 V6 hdi 24v Feline auto fap',\n",
       " '1,6 THP 160',\n",
       " '3.0-24V V6 Pack',\n",
       " \"201 '30\",\n",
       " '5p 1.4 vti 16v XS',\n",
       " '16 GTI',\n",
       " 'Coupe \"S\" ( 1974 )',\n",
       " 'cc roland garros 1.6hdi 112 fap',\n",
       " '2.0i 16V cat Coupé',\n",
       " 'Coupe 165 Sport',\n",
       " 'SW 2.0 hdi 16v Tecno Ciel fap',\n",
       " 'GTI 1.9 130 CV--ASI ORO--ORIGINALE--PARI AL NUOVO',\n",
       " '3.0i V6 24V cat Coupé Plus',\n",
       " \"3.0i V6 24V cat Coupé Plus Settant'anni\",\n",
       " 's16',\n",
       " '1.6 thp 16v 156cv auto',\n",
       " '2.0 HDi FAP 160',\n",
       " 'GTI 1.6 THP S&S 3 porte',\n",
       " 'Active BlueHDi 120cv S&S 5 PORTE BERLINA',\n",
       " '1.6 thp 16v 200cv',\n",
       " '007 2.2-16V Pack ( heerlijke wagen! )',\n",
       " '1.6 155 THP',\n",
       " '3p 1.6 16v XS',\n",
       " 'Coupé 2.7 V6 HDi Tecno',\n",
       " 'Plus 3p 1.1 X-Line eco-Gpl',\n",
       " '1.5BlueHDi Active Pack S&S 130',\n",
       " '1.6 BlueHDi 88KW (120CV) S&S Allure',\n",
       " 'BlueHDI 81kW (110CV) Active',\n",
       " 'HYB PHEV 225 Allure Pack e-EAT8',\n",
       " '1.2 PureTech S&S Allure Pack EAT8 130',\n",
       " '1.5 BLUE HDI 130 CV EAT8 ALLURE',\n",
       " '1.5 BLUE HDI 130 CV ACTIVE PACK',\n",
       " '300 e-EAT8 Allure Pack',\n",
       " 'ALLURE HDI 130 CV',\n",
       " '1.6 THP 156cv -',\n",
       " '1.2 PureTech 96KW S&S Active Pack',\n",
       " 'BlueHDI 130 S&S EAT8 Allure',\n",
       " '1.5BlueHDi S&S Roadtrip S&S EAT8 130',\n",
       " 'BlueHDI 130 S&S EAT8 Allure Pack',\n",
       " 'BlueHDI 81kW (110CV) Allure Pack',\n",
       " '1.2 PureTech SS Allure',\n",
       " '1.5 Blue-HDi GT Line',\n",
       " 'GT LINE 1.2 PURE TECH 130 CV',\n",
       " '300 e-EAT8 GT Pack',\n",
       " 'ALLURE',\n",
       " 'Puretech 100 S&S 6 Vel. MAN Active Pack',\n",
       " 'GT-Line BlueHDi 96kW (130CV) S&S EAT8 GT Line',\n",
       " '1.6 BlueHDi 88KW 120CV Allure SS',\n",
       " '1.2 PURETECH 100 S&S ACTIVE PACK 5P',\n",
       " '1.5BlueHDi S&S Allure 100',\n",
       " 'BlueHDI 100 S&S BVM6 Allure',\n",
       " '1.5BlueHDi S&S GT Line 100',\n",
       " '1.5 BlueHDi 96kW S&S  EAT8 Allure Pack',\n",
       " 'Confort 1.6 HDI 110 FAP',\n",
       " 'Active 1.6 BlueHDi 100',\n",
       " '1.5 BLUEHDI 96KW ALLURE S&S 5P',\n",
       " '1.2 PureTech S&S Active Pack 100',\n",
       " '1.2 PureTech S&S Active 100',\n",
       " '1.5BlueHDi S&S Allure Pack EAT8 130',\n",
       " '1.2 PureTech Style 82',\n",
       " '1.5 BLUEHDI 96KW S&S ALLURE 5P 7 Plazas',\n",
       " '1.5 BlueHDi 96kW (130CV) S&S Active Pack',\n",
       " 'HYB PHEV 300 GT AWD e-EAT8',\n",
       " '225 e-EAT8 Allure Pack',\n",
       " '1.6 e-HDi 92 Allure',\n",
       " '1.2 S&S PureTech Allure Pack EAT8 130',\n",
       " '2.0 bluehdi 150ch s\\\\u0026amp;s bvm6 allure / suivi',\n",
       " '1.2 PureTech 96KW (130CV) S&S Allure',\n",
       " '1.2 PURETECH 96KW S&S ALLURE 5P',\n",
       " 'Puretech 100 S&S BVM6 Active Pack',\n",
       " '1.5bluehdi active s&s 130',\n",
       " 'BlueHDi 96kW (130CV) S&S EAT8 Allure',\n",
       " 'SW 1.6 Hybrid GT Pack EAT8 225',\n",
       " 'SW  HYBRID 225 e-EAT8 GT',\n",
       " '5p Active 1.4 HDi 70 FAP',\n",
       " 'SW 1.2 PureTech S&S Active Pack 110',\n",
       " 'SW 1.6 Hybrid Allure Pack EAT8 180',\n",
       " 'GT Long BlueHDi  96kW',\n",
       " '1.5 Blue-HDi Access Standard',\n",
       " '1.5 Blue-HDi Access L1',\n",
       " 'SW Allure Pack PureTech 130 EAT8 Klima AB',\n",
       " 'Active Standard BlueHDi 73kW',\n",
       " 'SW GT Line 1.2 PureTech 96KW (130CV)',\n",
       " '1.2 PureTech EAT8 GT Long 7 plazas',\n",
       " 'SW ACTIVE 1.6 BLUEHDI 88KW 120CV',\n",
       " 'SW PSE Hybrid 360 Automatik 8-Gang',\n",
       " 'SW  BlueHDi 130 S&S GT',\n",
       " 'SW  PureTech 130 S&S 6 Vel. MAN Style',\n",
       " '2.0 bluehdi 180ch eat6 / suivi entretien complet à',\n",
       " 'SW 1.2 PureTech S&S Allure Pack EAT8 130',\n",
       " 'standard 1.5 BLUEHDI gt line 130 eat8',\n",
       " '5p XT 2.0 HDI 136 FAP',\n",
       " '1.6 hdi 16v Lee',\n",
       " 'SW  BlueHDi 130 S&S EAT8 Style',\n",
       " 'SW Hybrid 225 GT e-EAT8',\n",
       " '308 BlueHDi 180 EAT6 S&S SW GT',\n",
       " '1.5 BLUEHDI 96KW ALLURE AUTO SW 5P',\n",
       " '5p GT Line 1.2 PureTech 130 S&S',\n",
       " 'SW  Puretech 130 S&S EAT8 GT',\n",
       " '1.5 BLUEHDI 96KW STYLE AUTO SW 5P',\n",
       " 'SW Active Pack Puretech 130 S&S MAN',\n",
       " 'RXH 2.0 BlueHDi 180CV Autom.',\n",
       " '2ª serie PureTech Turbo 130 S&S SW Allure',\n",
       " 'SW  1.6 BlueHDi 88KW (120CV) Active',\n",
       " 'Style 1.6 BlueHDi 120 FAP',\n",
       " 'SW  PureTech 130 S&S EAT8 Active Pack',\n",
       " 'SW GT Pack BlueHDi 130 Automatik 8-Gang',\n",
       " 'II Ph2 1.5 BlueHDi 130 S\\\\u0026S GT Line BA8',\n",
       " 'ACTPK PT100',\n",
       " '1.5 Blue-HDi GT Line Standard',\n",
       " 'SW  Hybrid 225 eEAT8 GT',\n",
       " '1.5 BLUEHDI ALLURE 130 standard',\n",
       " '5P PSE HYBRID 360 e-EAT8',\n",
       " '5P PSE HYBRID 360 e-EAT8  Sport Engineered',\n",
       " 'Hybrid 225 GT e-EAT8',\n",
       " '403 Oldtimer/ Sammler /Rarität/Black Panther/',\n",
       " 'Berline Bj.1956',\n",
       " 'Hybrid 225 Allure Pack e-EAT8',\n",
       " '1.5 BLUEHDI 96KW TECH EDITION 5P',\n",
       " 'Active BlueHDi 96kW (130) S&S 6vel MAN',\n",
       " '1.6 HYBRID 225 ALLURE PACK E-AUTO 225 5P',\n",
       " '1.6 PHEV 225 E-EAT8 GT 225 5P',\n",
       " '1.2 PureTech S&S Active Pack EAT8 130',\n",
       " 'PureTech 96kW (130CV) EAT8 GT Line',\n",
       " '5p  BlueHDi 130 S&S Active',\n",
       " '5P  BlueHDi 130 S&S EAT8 Allure Pack',\n",
       " '5P  PureTech 130kW (180) S&S EAT8 Active',\n",
       " '1.6 Hybrid 225cv eEAT8  GT Pack',\n",
       " 'Active BlueHDi 96kW (130CV) S&S EAT8',\n",
       " '1.5 BLUEHDI 130 ALLURE AUTO 5P',\n",
       " '16V SR',\n",
       " '5P  BlueHDi 120kW (160) S&S EAT8 GT Line',\n",
       " '1.5 BLUEHDI 73KW GT LINE 5P',\n",
       " '1.2 PureTech 60KW (82CV)',\n",
       " 'PureTech 73kW (100CV) Active Pack',\n",
       " '2.2 Sport',\n",
       " 'Tbo Inj Ti',\n",
       " 'BlueHDi FAP 100 Stop & Start Active',\n",
       " '1.6 e-HDi 112 CV ca. rob. S&S Active',\n",
       " '5P ACCESS 1.6 BLUEHDI 75',\n",
       " '5p 1.5 bluehdi allure s&s 130cv eat6',\n",
       " '403 Berlina',\n",
       " 'GLS 1,5',\n",
       " '2.3d GL Neuer Motor Neue Innenausstattung',\n",
       " '1.5BlueHDi S&S Business Line EAT8 130',\n",
       " '1.5 BlueHDi Allure S&S 130',\n",
       " 'business line bluehdi 130 eat8',\n",
       " '1.6 PureTech GT Line 5p',\n",
       " '2.0 HDi 16V FAP - 136  BERLINE Confort Pack GARANT',\n",
       " '1.5 BLUEHDI 96KW ALLURE 5P',\n",
       " 'GT LINE PURETECH 130 EAT8',\n",
       " '5P  PureTech 130 S&S EAT8 Active Pack',\n",
       " '5P  Hybrid 225 eEAT8 GT',\n",
       " '1.5 BlueHDi 130 ALLURE S&S EAT8',\n",
       " '5p  PureTech 110 S&S Allure Pack',\n",
       " '1.4 3 porte Roland Garros',\n",
       " '1.6 Automatik *Oldtimer*Schiebedach*Servo*..',\n",
       " 'Active',\n",
       " '1.5 BlueHDi 130 allure S&S EAT8',\n",
       " '5P  Hybrid 180 eEAT8 GT',\n",
       " '5P  BlueHDi 130 S&S EAT8 GT',\n",
       " 'GT BlueHDi 130 EAT8 S&S aut.',\n",
       " 'puretech 68ch bvm5',\n",
       " '500e 3+1 87Kw La Prima',\n",
       " '1.0 GSE Lounge',\n",
       " 'Pequeño Manual de 3 Puertas',\n",
       " '1.3 MJet 95cv Cargo Base N1',\n",
       " '500e 87Kw Icon',\n",
       " 'Wenig Km 8-fach TÜV 10.2023',\n",
       " '1.0 Hybrid Dolcevita 52kW',\n",
       " '1.0 Gse City Cross Hybrid',\n",
       " \"Coupe' Prototipo Motore Ferrari 8.32\",\n",
       " 'FSM',\n",
       " 'P Polski Komplett Restaurierter Fiat',\n",
       " '1.3 MJT 95 CV S&S Lounge',\n",
       " '4x4 Trekking Country Club',\n",
       " '1.0 hybrid Lounge 70cv',\n",
       " '1ª serie 1100 i.e. cat 4x4 Country Club',\n",
       " '110F',\n",
       " '1.2 GASOLINA 60 CV 5P',\n",
       " 'LOUNGE FULL OPZIONAL CON TETTO APR ELET PRONTI VIA',\n",
       " 'GIANNINI',\n",
       " 'e',\n",
       " '500Ce 87Kw Icon',\n",
       " '1.0 Hybrid 51KW (70 CV) Sport',\n",
       " '1.2 8v 51kW (69CV) Lounge',\n",
       " '2.0 Automatik 76\\u202fkW (103\\u202fPS), Automatik, Fronta...',\n",
       " 'Descapotable Manual de 2 Puertas',\n",
       " '2+2',\n",
       " '522L Cabriolet',\n",
       " 'Fiat 850 Spider',\n",
       " 'Savio Jungla Junglaboo H-Kennzeichen TÜV neu',\n",
       " '1.2 Lounge 69cv',\n",
       " '1.0 70CV HYBRID CABRIO LOUNGE CARPLAY CLIMA BICOLO',\n",
       " 'D  RESTAURO TOTALE',\n",
       " '1.8 16v GPL',\n",
       " '595c 1.4 16v t. t-jet turismo 160cv mta e6',\n",
       " 'Lusso',\n",
       " 'E 3+1 ICON 320KM 87KW',\n",
       " 'Lounge 1.2 8v 51KW (69 CV)',\n",
       " 'C 1.2 8v 51kW (69CV) Lounge',\n",
       " 'C 1.2 8v 69 CV Pop',\n",
       " 'C Lounge 1.2 8v 51KW (69 CV)',\n",
       " 'C 1.2 8v 69 CV Lounge',\n",
       " 'C 1.2 8v 51kW (69CV) S',\n",
       " 'BEV 24KWH RED 95 2P',\n",
       " '1973 FIAT COUPE',\n",
       " 'Rally',\n",
       " '850c coupe',\n",
       " '128 A1 Coupe Moretti 1300',\n",
       " 'Abarth Rally Gruppe 4 Stradale',\n",
       " 'Fiat 124 BC1 , BJ. 1971',\n",
       " '2300 S Coupe',\n",
       " '1300 coupe Raritat',\n",
       " '1800',\n",
       " '2300 S COUPÈ',\n",
       " 'Fiat - 1500 cabriolet',\n",
       " 'Eveline',\n",
       " 'coupè',\n",
       " 'Sport 1800 \"76.000 chilometri\"',\n",
       " '1.8-16V Kanarie Pininfarina !',\n",
       " '1800 sport',\n",
       " '\"74 IN ECCELLENTI CONDIZIONI !',\n",
       " 'Other Coupè 2.0 i.e. turbo 16V Plus',\n",
       " 'Coupe 2.0 16v turbo Plus ASI permute storiche',\n",
       " 'Coupe 2.0 20v turbo iscritta ASI',\n",
       " '1300 mirafiori cl 2 porte',\n",
       " '2.0 Turbo 16v',\n",
       " '2,0 20V Turbo Limited Edition',\n",
       " '2400 coupe',\n",
       " 'Spider 124 Sport 1.6',\n",
       " 'Coupè',\n",
       " 'SPORT !!!! IN PERFETTE CONDIZIONI',\n",
       " 'Lightweight Hans Brösch',\n",
       " '850 Coupè',\n",
       " '2.0 Coupé ',\n",
       " 'Coupé 2.0 20S Tbo',\n",
       " 'Coupe ( SL )',\n",
       " 'S COUPE',\n",
       " 'Fiat 124 ac COUPE’ 124 sport',\n",
       " 'sport',\n",
       " 'Sport',\n",
       " 'Fiat Dino Coupe 2.0',\n",
       " '2.0 20v turbo Limited Edition n.1540',\n",
       " '2.0 16v turbo Plus',\n",
       " '2.0 20v turbo',\n",
       " '2300 Coupé Ghia',\n",
       " 'Icon 42kWh, Navi, Camera',\n",
       " 'Other Coupè 1.8 i.e. 16V',\n",
       " '2.0 16v turbo Plus c/airbag/rate/permute/garanzia/',\n",
       " '2.0 20v',\n",
       " 'ABARTH  1000 ot  valuto  permuta',\n",
       " '850 Coupe 1.Serie ,TÜV+H-Zulassung neu',\n",
       " 'SISLEY 4X4',\n",
       " '2.0 i.e. 16V Confort',\n",
       " 'Mirafiori s',\n",
       " '*Fiat 850 Coupe´Serie 1*TÜV+H*',\n",
       " 'Coupe 2.0 16v turbo Plus',\n",
       " '20 valvole plus',\n",
       " '1.8-16V',\n",
       " '2,0 16V',\n",
       " \"COUPE' 2000\",\n",
       " '1500 VIGNALE 1Â° SERIE',\n",
       " 'COUPE',\n",
       " 'Barchetta 1.8 16v',\n",
       " 'Special',\n",
       " '2.0 i.e. 20V * 63.000KM * TAGLIANDATA FCA *',\n",
       " \"1100/103 TV COUPE' PININFARINA\",\n",
       " 'Coupe 1.8 16v',\n",
       " 'Barchetta LIMITED EDITION',\n",
       " '4x4 Sisley',\n",
       " '130 TC ABARTH',\n",
       " 'Original Zustand',\n",
       " 'Lombardy my car sporting very rare',\n",
       " '2000 Coupè Bellissimo',\n",
       " 'coupé condizioni uniche libretto tagliandi!',\n",
       " 'COUPE 1a SERIE',\n",
       " 'COUPE SL 1100 iscritta ALBO STORICO FIAT 2022',\n",
       " '1000 OT  4 FARI',\n",
       " '2400 Coupé Ferrari ASI',\n",
       " 'R',\n",
       " 'F',\n",
       " 'RIVIERA CLIMATIZZATA ORIGINALE ASI CRS',\n",
       " 'Vignale',\n",
       " '2000 Motore Ferrari Prima Serie PERMUTE RATE',\n",
       " 'Coupe 2.0 20v',\n",
       " 'Five Speed In Versione America N. 192/300',\n",
       " '900 DA COLLEZIONE',\n",
       " 'BEV La Prima **PROMPT LIEFERBAR**',\n",
       " 'ufficiale 1971',\n",
       " '1.2 69cv 500s',\n",
       " '2.0 i.e. 20V',\n",
       " 'Fiat 126P',\n",
       " 'Firefly 70 LOUNGE *AKTION*',\n",
       " '1.8 i.e. 16V',\n",
       " '1.3 MultiJet Lounge 95cv S&S EU6 5 PORTE BERLINA',\n",
       " 'Cross 1.6 MultiJet 88kW (120CV) 4x2',\n",
       " 'Sport 1.3 Firefly T4 110KW S&S DCT',\n",
       " 'Dolcevita Sport 1.5 Hyb. 97kW(130cv)DCT',\n",
       " 'City Cross 10GSE T3 88kW 120CV SS',\n",
       " '1.3 MJet 70kW (95CV) 4x2 Pop Star',\n",
       " '1.0 City Cross',\n",
       " '1.6 Mjet 88KW (120hp) S&S Cross',\n",
       " '1.MULTIJET URBAN FWD',\n",
       " 'Urban 1.3 MultiJet 70KW (95 CV) 4x2 S&S',\n",
       " '1,0 Firefly T3 88KW (120 CV) S&S Connect',\n",
       " 'Cross My21 0.9 Twinair Turbo 85cv S&S 4x4 Cross',\n",
       " '1.5 Hybrid Red DDCT',\n",
       " 'Urban AWD 2.0 16v 170cv Diésel auto.',\n",
       " '1.0 FIREFLY T3 88KW SPORT 120 5P',\n",
       " 'Red 1.5 Hybrid 97kW (130cv) DCT',\n",
       " 'S5 SPORT 1.0 T3 120CV',\n",
       " '1.6 E-Torq 110 CV City Cross',\n",
       " 'Pop Star 1.6 MultiJet 120cv 4x2',\n",
       " 'Cross 1.6 MultiJet 120cv 4x2',\n",
       " '1.0 120CV 120 ANIVERSARIO',\n",
       " 'NUEV  URB 1.0 GSE 88KW 120',\n",
       " 'Dolcevita SS Edition 1.0 Firefly T3 88KW',\n",
       " 'HEY GOOGLE 1.0 88KW 120CV',\n",
       " '1.0 Sport 120cv',\n",
       " 'City Cross 1.6 MJet 88kW (120CV) DCT 4x2',\n",
       " '1.0 Firefly S&S Dolcevita Red',\n",
       " 'Lounge 1.4 MAir 103kW (140CV) 4x2',\n",
       " '1.6 POPSTAR',\n",
       " 'S5 CROSS 1.0 T3 120 CV',\n",
       " 'Cross 1.6 Mjet 88KW (120hp) S&S',\n",
       " 'Sport 1,0 Firefly T3 88KW (120 CV) S&S',\n",
       " '1.6 E-torQ Urban',\n",
       " 'Cross 1.6 Mjet 96KW (130 CV) S&S',\n",
       " 'Lounge 1.0 Firefly T3 88 kW (120CV) S&S',\n",
       " '1.6 ETorq Mirror',\n",
       " 'Lounge 1,0 Firefly T3 88KW (120 CV) S&S',\n",
       " 'Cross Plus 1.6 MJet 88kW (120CV) DCT 4x2',\n",
       " '1.0 Firefly SS 120th',\n",
       " '1.0 Turbo Urban',\n",
       " '1.6 MultiJet 88 kW (120 CV) Cross',\n",
       " 'SW STATIONWAGON E6D 1.3 MIRROR',\n",
       " 'SW 1.3 Multijet 70kW (95CV) Mirror',\n",
       " 'SW 1.3 MJT 95CV S/S LOUNGE',\n",
       " '1.0 100 ch S/S sw cross Red MY22',\n",
       " 'Pop Star 1.4 16v 70kW (95CV)',\n",
       " '1.1 Active',\n",
       " '1.1 Active TÜV 07/2024 Zahnriemen/Service 07/22',\n",
       " 'STATION WAGON 1.0 100cv CityLife',\n",
       " 'Sedici 1.6 16v Dynamic 4x4 107cv',\n",
       " 'SW LIFE 1.0 73KW (100CV) BZ',\n",
       " '1.4 120CV GLP',\n",
       " 'Urban 1.6 16v Multijet II 120CV S&S',\n",
       " 'Fiat 1500 Familiare OSI',\n",
       " '3p 1.4 95cv Feel',\n",
       " '1.6 Active 105 CV Multijet ECO',\n",
       " '1.6 16v Multijet 88kW (120CV) S&S Lounge',\n",
       " 'Pop Star 1.3 16v Multijet II 95CV auto.',\n",
       " 'S1 SW 1.6 120 CV LOUNGE AT',\n",
       " '1.6 16v Lounge 120 CV diesel Mjet II SW',\n",
       " '1.6 16v MJet 88kw 120cv  SS Trekking',\n",
       " '1.9 Multijet Dynamic',\n",
       " '2 1.6 16v Pop 88kW (120CV) Mjet. Business',\n",
       " 'SW 1.6 Multijet 88kW (120CV) Mirror',\n",
       " 'Autobianchi Bianchina Panoramica 2. Hand',\n",
       " 'Cross 1.4 16v 70 kW (95 CV) S&S',\n",
       " 'RED 1.4 MPI 95HP',\n",
       " '1.6 Lounge 88kW (120CV)diesel Mjet II SW',\n",
       " 'Easy 1.3 Mjet 59kW (80CV)',\n",
       " '1.3 16v Multijet 70kW (95CV) S&S Lounge',\n",
       " 'Pop Star 1.6 16v Mjet 88kW (120CV) S&S',\n",
       " '5P 1.3 Multijet 70kW (95CV) Mirror',\n",
       " 'Pop Star 1.3 16v Multijet II 85CV S&S',\n",
       " '5p 1.4 16v 70 kW (95 CV) Lounge Plus',\n",
       " '1.4 16v Lounge 70kW (95CV) gasolina SW',\n",
       " '1.4 95cv Easy #LIBRO, BLUETOOTH',\n",
       " 'City Cross 1.6 E-Torq 81kW (110CV) 4x2',\n",
       " 'SW 1.4 Fire 70kW (95CV) Pop',\n",
       " '1.3 16v Multijet II 85CV Start&Stop',\n",
       " 'Connect 1.4 16v 70 kW (95 CV) S&S',\n",
       " '1.3 16v Mjet 70kW (95CV) S&S City Cross',\n",
       " '1.4 16v 95CV',\n",
       " '1.4 8v 57kW (77CV) Lounge',\n",
       " 'Pop Star 1.4 16v 95CV',\n",
       " 'My Life 1.6 Multijet 105 CV',\n",
       " 'Combi SX 1.3 Mjt 75cv 5plazas E5+',\n",
       " '1.4 Lounge',\n",
       " 'Easy 1.4 Natural Power 52kW (70CV)',\n",
       " '1.6 Multijet 105cv 5p S/S #LIBRO, BLUETOOTH',\n",
       " 'SW 1.6 Multijet Life 95KW',\n",
       " 'SW 1.0 Life',\n",
       " '1.2 51 kW (69 CV) Lounge',\n",
       " '1.4 16v 70kW (95CV) Cross',\n",
       " '1.3  70kW (95CV) diesel Mjet. SW Easy',\n",
       " '1.0 Hybrid 51 KW (70 CV) Lounge',\n",
       " '1.2 51 kW (69 CV) Mirror',\n",
       " 'CROSS 1.5 HYBRID 130CV',\n",
       " '1.2 69CV',\n",
       " '1.2 Lounge 51kW 69CV',\n",
       " '1.2 lounge',\n",
       " 'Lounge 1.0 6v GSE 52KW (70 CV)',\n",
       " '1.0 hybrid',\n",
       " 'A',\n",
       " 'E E RED 118CV',\n",
       " 'Ritmo 130 TC 3 porte Abarth',\n",
       " '13 sport 95 cv multijet e5 ss',\n",
       " '1.3 MJT II S&S 95 CV Euro 6',\n",
       " 'BERLINA',\n",
       " 'HB City Life 1.6 96kW (130CV)',\n",
       " '1100 i.e. cat 4x4 Country Club eccellenti condizio',\n",
       " '1.4 95CV HB 5P LOUNGE',\n",
       " 'Icon 3+1 320km 85kW (118CV)',\n",
       " '1.0 100CV  - PROMO WOW',\n",
       " '3p 1.0 ie 45cv cat.',\n",
       " '(2007-2016) 1.4 16V Lounge',\n",
       " '650',\n",
       " 'Style',\n",
       " '1.0 TSI S&S Xcellence 110',\n",
       " '2.0TDI S&S Style 115',\n",
       " '2.0TDI CR S&S FR DSG-7 150',\n",
       " 'Sport Limited',\n",
       " '1.5 TGI S&S XcellenCe DSG-7 130',\n",
       " '1.5 TSI S&S FR 150',\n",
       " 'Seat 600',\n",
       " '1.5 TSI S&S Style 130',\n",
       " '2.0TDI CR S&S Style DSG-7 150',\n",
       " '2.0TDI S&S Xcellence 150',\n",
       " '1.0i Select',\n",
       " '1.5 TGI S&S Style DSG-7 130',\n",
       " '2.0 TSI S&S Cupra Carbon DSG7 290',\n",
       " '2.0 TSI S&S Cupra R DSG 300',\n",
       " '1.5 TGI GNC S&S Style 130',\n",
       " 'ST Style Connect',\n",
       " 'Seat 600 D Cabriolet',\n",
       " 'Signo',\n",
       " '850',\n",
       " '1.6 TDI 105CV CR DPF 3p. Sport',\n",
       " '128 sport',\n",
       " 'SportCoupé Cupra 1,8 TSI Start-Stopp',\n",
       " '1.2 TDI',\n",
       " 'Ibiza SC 1.2 70 ch',\n",
       " '1.2 tdi 75 ch',\n",
       " 'SportCoupé Reference 1,9 TDI',\n",
       " 'SC 1.2i 12V 70 Réference',\n",
       " 'SportCoupé Chili 1,2',\n",
       " 'SC 1.4i 16V 85 I Tech',\n",
       " 'ST 1.4 TSI ACT Start&Stop FR',\n",
       " 'SportCoupé 1,2',\n",
       " '1.6 TDI ECOMOTIVE REFERENCE EDITION',\n",
       " '1.6 TDI CR STYLE 115 CV',\n",
       " '2.0 TDI SS Style',\n",
       " '1.5 EcoTSI S&S Style Go DSG',\n",
       " 'Style Plus',\n",
       " '1.0 95CV',\n",
       " '1.0 TSI 70kW (95CV) Reference Plus Eco',\n",
       " '1.0 TGI 66kW (90CV) FR',\n",
       " '1.0 TSI 85kW (115CV) DSG FR Ecomotive',\n",
       " '1.5 EcoTSI S&S Style DSG',\n",
       " '1.5 TSI 110kW DSG S&S Style Go L',\n",
       " '2.0 TDI 150cv StSp Xcellence',\n",
       " '2.0TDI CR S&S Style 150',\n",
       " '1.0 TSI 70kW (95CV)  Ecomotive Style',\n",
       " '2.0TDI CR S&S X-Perience XM DSG 150',\n",
       " '2.0TDI S&S FR DSG 4Drive 200',\n",
       " '2.0 TDI DSG Style',\n",
       " '2.0 TDI 150CV ST FR DSG',\n",
       " 'ST 1.5 eTSI S&S FR DSG-7 150',\n",
       " 'ST 1.6TDI 110CV XPERIENCE',\n",
       " 'ST 2.0 TSI 221kW 4Drive DSG S&S Cupra R',\n",
       " '2.0 tdi 150 cv 4drive st x-perience',\n",
       " '1.9 TDI 105cv DPF DSG Style',\n",
       " 'ST 2.0TDI CR S&S FR DSG-7 150',\n",
       " 'ST 1.5 TSI S&S FR 150',\n",
       " 'ST 2.0 TDI 184cv 4Drive DSG6 St&Sp X-per',\n",
       " 'ST 1.5 EcoTSI S&S FR Fast Edition 150',\n",
       " '1.4 TSI 125cv  Style',\n",
       " '4p 1.9 SDi Stella',\n",
       " '2.0 TDI 140cv Style 5p',\n",
       " '1.6 105 CV Sport',\n",
       " '1.4 TDI 80 CV Reference',\n",
       " '2.0 TDI 140 CV Stylance',\n",
       " 'ST 2.0 TSI 221kW (300CV) DSG-6 S&S CUPRA',\n",
       " 'ST 2.0 TSI 221kW (300CV) St&Sp CUPRA',\n",
       " 'ST 2.0 TSI 221kW 4Drive DSG S&S Cupra',\n",
       " 'ST 2.0 TDI 184cv DSG-6 St&Sp FR',\n",
       " 'ST 1.6 TDI 110cv St&Sp Style Ecomotive',\n",
       " 'ST 2.0 TSI 213kW (290CV) DSG-7 S&S Cupra',\n",
       " 'ST 2.0 TSi 290cv Cupra \"Orange Edition\"',\n",
       " 'ST 2.0 TDI 110kW (150CV) DSG-6 St&Sp FR',\n",
       " '2.0 TDI 115 CV S&S Reference 4Kids',\n",
       " '1.0 TSI XCellence',\n",
       " '1.5 TGI 96kW DSG-7 S&S FR Fast Edition',\n",
       " '1.2 12V 70 REFERENCE 70 5P',\n",
       " '1.6 SIGNO 100CV',\n",
       " '1.0 MPI 59kW S&amp,S Style PDC SHZ FullLink+',\n",
       " '2.0 TSI Cupra 300',\n",
       " '2.0 TSI 280cv StSp Cupra',\n",
       " '2.0 tsi 290 dsg7 cupra',\n",
       " '3ª serie 1.5 TGI DSG 5p. Black Edition',\n",
       " '2.0 TDI 150 DSG fr go l',\n",
       " '1.5 TGI 96kW DSG-7 S&S Xcellence',\n",
       " 'IV 2.0 TDI 150 FR DSG7',\n",
       " '1.4 Benzina 5 Porte',\n",
       " '1.2 benzina',\n",
       " '1.6 TDI 70kW (95CV) Reference Plus',\n",
       " '2.0 TSI RS DSG',\n",
       " '1.0 TSI Ambition 81kW',\n",
       " '1.6 TDI 85KW AMBITION DSG 5P',\n",
       " '1.5 TSI STYLE 5P',\n",
       " '2.0TDI Ambition 85kW',\n",
       " 'Style 1,0 TSI 81 kW 6-Gang mech.',\n",
       " 'GreenTec Cool-Edition DAB+ Klima ZV ...',\n",
       " '1.0+MPI+AMBITION+KLIMA+PDC+SHZ+NSW+MAL+',\n",
       " '1.9 TDI/110 CV Ambiente',\n",
       " '2.0 TDI CR 110KW (150CV) Ambition',\n",
       " '2.0TDI Sport DSG 110kW',\n",
       " 'SPACEBACK 1.2 TSI 105 TOUR DE FRANCE',\n",
       " '1.5 TSI Ambition 4x2 110kW',\n",
       " '1.0 TSI Sport 81kW',\n",
       " '1.0 60 CV 3 porte Active',\n",
       " '1.5 TSI Ambition DSG 110kW',\n",
       " '1.5 TSI Style 110kW',\n",
       " 'Pequeño Manual de 2 Puertas',\n",
       " '1.5 TSI Ambition',\n",
       " 'Felicia',\n",
       " '1.2 HTP Ambiente',\n",
       " '1.5 TSI Emotion',\n",
       " '2.0 TSI RS 4x4 DSG 180kW',\n",
       " '1.0 TSI Ambition 81kW DSG',\n",
       " '1.5 TSI Emotion DSG',\n",
       " '1.5 TSI 110kW 150CV ACT Ambition',\n",
       " '2.0TDI AB tech Sportline 4x4 DSG 147kW',\n",
       " '1.5 TSI DSG Tour',\n",
       " 'DIESEL',\n",
       " '2.0 TDI 190 CV SCR DSG7 SPORTLINE 4X4',\n",
       " '2.0 TDI 150 CV STYLE DSG COMBI',\n",
       " 'Combi 2.0 TDI 110KW (150cv) Ambition',\n",
       " 'Combi 2.0TDI AdBlue tech SportLine DSG 147kW',\n",
       " 'COMBI  STYLE 1.4TSI PHEV',\n",
       " '1.5 TSI 110kW (150CV) DSG STYLE',\n",
       " '2.0 TDI AdBlue tech Style DSG',\n",
       " '1.4 TSI P-HEV Style DSG',\n",
       " '1.9 TDI TREND',\n",
       " '1.5 TSI 110KW (150CV) Like',\n",
       " '1.6 TDI 85 KW (115 CV) DSG Ambitio',\n",
       " '1.0 TSI 110cv DSG Ambition',\n",
       " '1.0 TSI 81KW (110cv) DSG Monte Carlo',\n",
       " 'Stepway TCe Comfort 67kW',\n",
       " 'TCe Expresion 67kW',\n",
       " '1.4 5-Deurs Goedkoop rijden',\n",
       " 'SCe Essential 49kW',\n",
       " '1.2 Base 75',\n",
       " '1.5 Blue dCi 115cv 7Pl - 18 Comfort',\n",
       " '1.0 TCE Comfort 74kW',\n",
       " 'ECO-G Comfort 74kW',\n",
       " 'Stepway ECO-G Comfort 74kW',\n",
       " ...]"
      ]
     },
     "execution_count": 1068,
     "metadata": {},
     "output_type": "execute_result"
    }
   ],
   "source": [
    "# To be more thorough, let's check if there are any words in the short description \n",
    "# that match the key-value pairs of the dictionary, as a precautionary measure.\n",
    "list(df.loc[df[df[\"comfort_&_convenience\"].isnull()].index, \"short_description\"].unique())"
   ]
  },
  {
   "cell_type": "code",
   "execution_count": 1069,
   "metadata": {
    "ExecuteTime": {
     "end_time": "2024-02-28T21:27:22.647972Z",
     "start_time": "2024-02-28T21:27:22.612873Z"
    }
   },
   "outputs": [
    {
     "data": {
      "text/plain": [
       "0        False\n",
       "1        False\n",
       "2        False\n",
       "24       False\n",
       "26       False\n",
       "         ...  \n",
       "29369     True\n",
       "29384     True\n",
       "29395     True\n",
       "29401    False\n",
       "29426    False\n",
       "Name: short_description, Length: 3185, dtype: object"
      ]
     },
     "execution_count": 1069,
     "metadata": {},
     "output_type": "execute_result"
    }
   ],
   "source": [
    "# Let's retrieve the entries that contain \"Start Stop System\" and assign them the label \"functional&mechanical\".\n",
    "\n",
    "# The expression \"(?i)\" in the code disables case sensitivity.\n",
    "start_stop  = df.loc[df[df[\"comfort_&_convenience\"].isnull()].index, \"short_description\"].str.contains(\"(?i)S&S|Start&Stop|SS|S/S|Start/Stop|Start-Stopp|Stop & Start\")\n",
    "start_stop"
   ]
  },
  {
   "cell_type": "code",
   "execution_count": 1070,
   "metadata": {
    "ExecuteTime": {
     "end_time": "2024-02-28T21:27:22.662220Z",
     "start_time": "2024-02-28T21:27:22.652523Z"
    }
   },
   "outputs": [],
   "source": [
    "# Let's retrieve the indices of the ones that return True.\n",
    "start_stop_index = start_stop[start_stop == True].index"
   ]
  },
  {
   "cell_type": "code",
   "execution_count": 1071,
   "metadata": {
    "ExecuteTime": {
     "end_time": "2024-02-28T21:27:22.682799Z",
     "start_time": "2024-02-28T21:27:22.668038Z"
    }
   },
   "outputs": [
    {
     "data": {
      "text/plain": [
       "477"
      ]
     },
     "execution_count": 1071,
     "metadata": {},
     "output_type": "execute_result"
    }
   ],
   "source": [
    "# After the this operation, how many NaN values do I have filling?\n",
    "start_stop[start_stop == True].count()"
   ]
  },
  {
   "cell_type": "code",
   "execution_count": 1072,
   "metadata": {
    "ExecuteTime": {
     "end_time": "2024-02-28T21:27:22.699397Z",
     "start_time": "2024-02-28T21:27:22.692613Z"
    }
   },
   "outputs": [],
   "source": [
    "# Now let's assign \"functional&mechanical\" to the indices we obtained.\n",
    "df.loc[start_stop_index, \"comfort_&_convenience\"] = \"functional&mechanical\""
   ]
  },
  {
   "cell_type": "code",
   "execution_count": 1073,
   "metadata": {
    "ExecuteTime": {
     "end_time": "2024-02-28T21:27:22.711627Z",
     "start_time": "2024-02-28T21:27:22.701684Z"
    },
    "scrolled": true
   },
   "outputs": [
    {
     "name": "stdout",
     "output_type": "stream",
     "text": [
      "Missing Values in 'comfort_&_convenience':\n",
      "Count: 2708\n",
      "Percentage: 9.47%\n"
     ]
    }
   ],
   "source": [
    "handle_missing_values(df , \"comfort_&_convenience\")"
   ]
  },
  {
   "cell_type": "code",
   "execution_count": 1074,
   "metadata": {
    "ExecuteTime": {
     "end_time": "2024-02-28T21:27:22.779831Z",
     "start_time": "2024-02-28T21:27:22.719651Z"
    }
   },
   "outputs": [
    {
     "data": {
      "text/plain": [
       "1419"
      ]
     },
     "execution_count": 1074,
     "metadata": {},
     "output_type": "execute_result"
    }
   ],
   "source": [
    "# After the groupby operation, how many NaN values do I have remaining?\n",
    "df['comfort_&_convenience'].fillna(df.groupby([\"seats\"])['comfort_&_convenience'].transform(lambda x: x.mode()[0])).isnull().sum()"
   ]
  },
  {
   "cell_type": "code",
   "execution_count": 1075,
   "metadata": {
    "ExecuteTime": {
     "end_time": "2024-02-28T21:27:22.825153Z",
     "start_time": "2024-02-28T21:27:22.783529Z"
    }
   },
   "outputs": [],
   "source": [
    "df['comfort_&_convenience'].fillna(df.groupby([\"seats\"])['comfort_&_convenience'].transform(lambda x: x.mode()[0]), inplace = True)"
   ]
  },
  {
   "cell_type": "code",
   "execution_count": 1076,
   "metadata": {
    "ExecuteTime": {
     "end_time": "2024-02-28T21:27:22.842684Z",
     "start_time": "2024-02-28T21:27:22.832014Z"
    }
   },
   "outputs": [
    {
     "name": "stdout",
     "output_type": "stream",
     "text": [
      "Missing Values in 'comfort_&_convenience':\n",
      "Count: 1419\n",
      "Percentage: 4.96%\n"
     ]
    }
   ],
   "source": [
    "handle_missing_values(df , \"comfort_&_convenience\")"
   ]
  },
  {
   "cell_type": "code",
   "execution_count": 1077,
   "metadata": {
    "ExecuteTime": {
     "end_time": "2024-02-28T21:27:22.925354Z",
     "start_time": "2024-02-28T21:27:22.848308Z"
    }
   },
   "outputs": [
    {
     "data": {
      "text/plain": [
       "0"
      ]
     },
     "execution_count": 1077,
     "metadata": {},
     "output_type": "execute_result"
    }
   ],
   "source": [
    "# After the groupby operation, how many NaN values do I have remaining?\n",
    "df['comfort_&_convenience'].fillna(df.groupby(['make', 'type'])['comfort_&_convenience'].transform(lambda x: x.mode()[0])).isnull().sum()"
   ]
  },
  {
   "attachments": {
    "image-2.png": {
     "image/png": "[encoded data removed]"
    }
   },
   "cell_type": "markdown",
   "metadata": {},
   "source": [
    "![image-2.png](attachment:image-2.png)"
   ]
  },
  {
   "cell_type": "code",
   "execution_count": 1078,
   "metadata": {
    "ExecuteTime": {
     "end_time": "2024-02-28T21:27:22.991683Z",
     "start_time": "2024-02-28T21:27:22.932961Z"
    }
   },
   "outputs": [],
   "source": [
    "df['comfort_&_convenience'].fillna(df.groupby(['make', 'type'])['comfort_&_convenience'].transform(lambda x: x.mode()[0]), inplace = True)"
   ]
  },
  {
   "cell_type": "code",
   "execution_count": 1079,
   "metadata": {
    "ExecuteTime": {
     "end_time": "2024-02-28T21:27:23.009862Z",
     "start_time": "2024-02-28T21:27:22.997259Z"
    }
   },
   "outputs": [
    {
     "name": "stdout",
     "output_type": "stream",
     "text": [
      "Missing Values in 'comfort_&_convenience':\n",
      "Count: 0\n",
      "Percentage: 0.00%\n"
     ]
    }
   ],
   "source": [
    "handle_missing_values(df , \"comfort_&_convenience\")"
   ]
  },
  {
   "cell_type": "markdown",
   "metadata": {},
   "source": [
    "<a id=\"8\"></a>\n",
    "<div class=\"alert alert-info\" role=\"alert\">\n",
    "    \n",
    "<h1>Column name :<span style=\"color:red\"> entertainment_&_media </span></h1>\n",
    "</div>\n",
    "\n",
    "<div class=\"alert alert-block alert-warning\">\n",
    "    \n",
    "    \n",
    "<b>Operation : </b> First, let's leverage <span style=\"color:red\"><b>the dictionary we created in Part 1  </b></span>to examine the short_description. If we find any matching values, let's <span style=\"color:red\"><b>replace </b></span> them with their corresponding keys. Then, <span style=\"color:red\"><b>to prevent duplicates </b></span>, let's convert the expressions within each row into sets and then retrieve them back. Also since the \"comfort_&_convenience\" column is associated with <span style=\"color:red\"><b> \" make \", \" type \"</b></span> . let's fill in the <span style=\"color:red\"><b> NaN values</b></span> in this column by grouping the data based on these columns and performing the necessary operations. \n",
    "</div>\n",
    "\n",
    "<a href=\"#toc\" class=\"btn btn-warning btn-lg active\" role=\"button\" aria-pressed=\"true\" style=\"color:black;\">Content</a>"
   ]
  },
  {
   "cell_type": "code",
   "execution_count": 1080,
   "metadata": {
    "ExecuteTime": {
     "end_time": "2024-02-28T21:27:23.039370Z",
     "start_time": "2024-02-28T21:27:23.016540Z"
    }
   },
   "outputs": [
    {
     "name": "stdout",
     "output_type": "stream",
     "text": [
      "column name    :  entertainment_&_media\n",
      "--------------------------------\n",
      "per_of_nulls   :  % 17.39\n",
      "num_of_nulls   :  4973\n",
      "num_of_uniques :  12\n",
      "entertainment_&_media\n",
      "con_nect                                            12588\n",
      "NaN                                                  4973\n",
      "con_nect,sphone_integ                                4265\n",
      "sound_system,con_nect                                3381\n",
      "sound_system,con_nect,sphone_integ                   3188\n",
      "sound_system                                           60\n",
      "sound_system,con_nect,sphone_integ,entertainment       56\n",
      "sound_system,con_nect,entertainment                    53\n",
      "con_nect,entertainment                                 17\n",
      "sphone_integ                                           13\n",
      "con_nect,sphone_integ,entertainment                     7\n",
      "sphone_integ,entertainment                              1\n",
      "sound_system,sphone_integ                               1\n",
      "Name: count, dtype: int64\n"
     ]
    }
   ],
   "source": [
    "first_looking(\"entertainment_&_media\")"
   ]
  },
  {
   "cell_type": "code",
   "execution_count": 1081,
   "metadata": {
    "ExecuteTime": {
     "end_time": "2024-02-28T21:27:23.106111Z",
     "start_time": "2024-02-28T21:27:23.046512Z"
    },
    "scrolled": true
   },
   "outputs": [
    {
     "data": {
      "text/plain": [
       "['CDi',\n",
       " '350+',\n",
       " 'S 4Matic+ 8G-DCT',\n",
       " '4MATIC',\n",
       " '200CDI Autotronic',\n",
       " '4Matic 7G-DCT',\n",
       " 'e Limousine',\n",
       " '180d 7G-DCT',\n",
       " nan,\n",
       " 'd 4Matic (EURO 6d)',\n",
       " 'Limousine',\n",
       " '250e 8G-DCT',\n",
       " 'CDI Elegance',\n",
       " '7G-DCT (4.75)',\n",
       " 'd AMG Line (EURO 6d)',\n",
       " 'd (177.003)',\n",
       " '200d 7G-DCT',\n",
       " 'A-CLASS A180 1.3 136 CV 7G-DCT 5P',\n",
       " 'S 4MATIC+',\n",
       " 'Sport 4Matic 7G-DCT',\n",
       " 'C Coupe (BM 190)',\n",
       " 'S AMG 4MATIC+',\n",
       " 'AMG A 35 4MATIC',\n",
       " '4-Door 63 S 4MATIC+',\n",
       " '180CDI',\n",
       " '250e Sedán 8G-DCT',\n",
       " '220d 7G-DCT',\n",
       " '35 AMG 306ch 4Matic 7G-DCT Speedshift AMG',\n",
       " 'd Business Solution, Automaat, Navigatie',\n",
       " '220 d Fascination 7G-DCT',\n",
       " 'Classe  d (cdi) Premium auto FL E6',\n",
       " '220 190ch Progressive Line 7G-DCT Siege chauf gran',\n",
       " 'd 4Matic AMG Line (EURO 6d)',\n",
       " '220 d 190ch AMG Line 8G-DCT 10cv GPS Camera Radar ',\n",
       " '200 d 150ch Business Line 8G-DCT GPS Camera',\n",
       " '200 163ch Style Line 7G-DCT',\n",
       " '35 AMG 306ch 4Matic 7G-DCT Speedshift AMG TOuvrant',\n",
       " '200 d Fascination Tpano GPS Camera',\n",
       " 'CDI 100kW ( 136CV ) Urban',\n",
       " '180 d 116ch AMG Line LED GPS Camera Radar AV/AR',\n",
       " 'd',\n",
       " '180 d Sensation 7G-DCT',\n",
       " 'e A 250e Progressive Sfeerverlichting / NIEUW GERE',\n",
       " '200 d 150ch AMG Line 8G-DCT',\n",
       " '220 190ch Progressive Line 7G-DCT',\n",
       " 'd Premium',\n",
       " 'MERCEDES-BENZ Clase GLK Pequeño  Automático de 5',\n",
       " '180d',\n",
       " '180CDI Polar Star',\n",
       " 'Pequeño Automático de 5 Puertas',\n",
       " '4Matic Coupe 4Matic+ (EURO 6d-TEMP)',\n",
       " 'S 4Matic+ 4Matic (EURO 6d)',\n",
       " '200d',\n",
       " '180CDI Autotronic',\n",
       " '180d 8G-DCT',\n",
       " 'de 4Matic AMG Line (EURO 6d)',\n",
       " 'CDI Premium',\n",
       " 'CDI Style',\n",
       " 'C Roadster',\n",
       " 'Biturbo V-Max',\n",
       " 'abrio Mercedes-AMG 4MATIC',\n",
       " 'MERCEDES-BENZ Clase SL Descapotable  Automático d',\n",
       " 'SL *Pagode*3.Besitz/Dt.Fahrzeug/H-Zul.',\n",
       " 'MercedesAMG',\n",
       " 'd Cabriolet',\n",
       " 'Cabriolet AMG Line',\n",
       " 'r107 original belgian delivery! first owner car.',\n",
       " 'R107 Cabrio Hardtop + Softtop H-Kennzeichen',\n",
       " '200K',\n",
       " 'R107 Cabrio Hardtop + Softtop US Modell H-Kennzeic',\n",
       " 'Cabrio d',\n",
       " 'SL Vollrestauration',\n",
       " 'Roadster Kompressor SCHWARZ AUTOMATIK KLIMA LEDER',\n",
       " 'Autom. Top-Zustand aus 2. Hd. Deutsches M.',\n",
       " 'Cabrio 9G-Tronic',\n",
       " '-CLASS 6.2 COUPE SPORT AUTO 457 2P',\n",
       " 'V12 - Origineel Nederlands -',\n",
       " '200 K.',\n",
       " 'GE',\n",
       " '(R129)',\n",
       " '(R129) 2nd Owner/Collectable',\n",
       " 'Extrem gepflegtes Ex-Pressefahrzeug W 231',\n",
       " 'Cabrio',\n",
       " 'SL',\n",
       " 'cabrio d  Premium Plus 4matic auto',\n",
       " '220 d executive a',\n",
       " '| 48.000KM | Orig. NL | BOSE',\n",
       " 'Cabrio 9G-Tronic (9.75)',\n",
       " '220 A Cabriolet',\n",
       " 'ROADSTER',\n",
       " '190SL',\n",
       " 'S Cabriolet Ponton Typ A (W 180)',\n",
       " 'CDI BlueEfficiency E -Klasse Cabrio (BM 207)',\n",
       " 'E Cabrio 220 d Premium auto',\n",
       " 'D',\n",
       " 'Coupé R',\n",
       " 'AMG GLC 43 4MATIC Coupé',\n",
       " 'Aut.',\n",
       " '-CLASS 4MATIC',\n",
       " 'Coupé 462',\n",
       " '4MATIC+ Coupé',\n",
       " 'oupé Mercedes-AMG 4MATIC',\n",
       " 'SEb (111)*DEUTSCHES-FAHRZEUG*H-KENNZEICHEN*TOP-ZUS',\n",
       " 'd 4MATIC',\n",
       " 'd 4MATIC Coupé AMG Line',\n",
       " 'CLK Coupe 320/Automatik/Leder/Navi/Alus',\n",
       " '220CE',\n",
       " 'S Coupe',\n",
       " 'Mercedes-AMG S 4MATIC+',\n",
       " '4Matic (EURO 6d-TEMP)',\n",
       " '-CLASS 3.0 4MATIC AUTO 333 2P',\n",
       " 'Coupé 4M Aut.',\n",
       " 'C Coupe*DEUTSCHES-FAHRZEUG*AUTOMATIK*H-KENNZEICHEN',\n",
       " 'Coupé S 4Matic Aut.',\n",
       " 'Coupé',\n",
       " 'Coupe AMG + NIGHTPACK - LEDER - PANO DAK - 360° -',\n",
       " 'AMG Line',\n",
       " 'SEC',\n",
       " 'Compressor',\n",
       " '220d Aut.',\n",
       " 'Coupé d (238.314)',\n",
       " 'Matte wrapping',\n",
       " '270CDI',\n",
       " 'd 4MATIC -',\n",
       " 'coupé 4.0 4MATIC 469 2P',\n",
       " 'Coupé 7G-DCT AMG LINE - BURMESTER - SFEERVERLICHTI',\n",
       " 'd 4MATIC Coupé',\n",
       " '350d 4Matic Aut.',\n",
       " 'Coupé 400d 4Matic Aut.',\n",
       " 'CDI Chrome',\n",
       " 'e Coupé',\n",
       " 'Coupé d AMG LINE',\n",
       " 'd (205.314)',\n",
       " 'EQ Boost Aut. (9.75)',\n",
       " 'Coupé 350d 4Matic Aut.',\n",
       " 'CDI (LA) Sport Edition (203.708)',\n",
       " 'Coupé 220d',\n",
       " 'COUPE AMG -Line',\n",
       " 'CDI Inspiration 7G-DCT',\n",
       " '320CDI Aut.',\n",
       " '4Matic 9G-Tronic',\n",
       " '4M Aut.',\n",
       " '300d 4Matic Aut.',\n",
       " '220d 4Matic 9G-Tronic',\n",
       " '220d 4Matic 8G-DCT',\n",
       " '300e 4Matic 9G-Tronic',\n",
       " 'e 4Matic',\n",
       " '320CDI 4M Aut.',\n",
       " 'd 4Matic All-Terrain Estate Avantdarde',\n",
       " 'G Klasse 350d Mercedes-Benz G Klasse 350d - Direct',\n",
       " 'd 4Matic 9G-Tronic',\n",
       " '4M AMG Line',\n",
       " \"7G-DCT AMG + NIGHTPACK - ALU 19' - SFEERVERLICHTIN\",\n",
       " 'd 4 MATIC 245cv 9 vel. *IVA deducible* *2020* *Nac',\n",
       " 'CDI',\n",
       " '4Matic 8G-DCT',\n",
       " 'd 4Matic (253.915)',\n",
       " 'Puch  JAGD-FZG./WINDE/KOFFER/BRAUSE/AHK',\n",
       " '300 4MATIC',\n",
       " 'GE lang Cabrio Steyr-D-Puch AHK Automatik Rücksitz',\n",
       " '250d 4Matic Aut.',\n",
       " 'Coupé 350D 258 CV',\n",
       " 'Puch PLANE/AHK/ALLRAD/SCHLIEßANLAGE NEU',\n",
       " '320CDI Edition 10 Aut.',\n",
       " 'Mercedes-AMG 4MATIC',\n",
       " 'Mercedes-AMG 4MATIC+',\n",
       " '280CDI Aut.',\n",
       " 'D 2.2 170CV AUT 5P',\n",
       " 'Urban',\n",
       " 'd 4Matic',\n",
       " 'AMG CLA 35 4MATIC Shooting Brake',\n",
       " 'Estate S 4Matic+ 9G-Tronic',\n",
       " 'Estate 4Matic 7G Plus',\n",
       " 'Estate 200d 9G-Tronic',\n",
       " '(+)2.0 AVANTGARDE AUTO 211 5P STATE',\n",
       " 'd Estate Avantgarde',\n",
       " 'd Estate',\n",
       " 'de Estate AMG LINE',\n",
       " 'CDI Blue Efficiency Estate',\n",
       " 'AMG E 53 4MATIC+ Estate',\n",
       " 'Mercedes-AMG 4MATIC Estate',\n",
       " 'Estate 220d',\n",
       " 'd Estate Business Line',\n",
       " 'Estate 220d 9G-Tronic',\n",
       " 'Estate Business Line',\n",
       " 'd AMG/rijassist',\n",
       " 'Estate Estate',\n",
       " 'CDI Urban Style Edition',\n",
       " 'de Estate',\n",
       " 'd 4M All-Terrain',\n",
       " '(+)2.1 D AMG LINE 5P',\n",
       " 'CLA-CLASS 2.1 D DCT SHOOTING BRAKE 136 5P',\n",
       " 'B200 CDI AMG AUT 136CV',\n",
       " '9G-Tronic',\n",
       " '580 4Matic',\n",
       " 'S 4Matic+ 9G-Tronic',\n",
       " 'PLUG-IN HYBRID Lang',\n",
       " 'CDI BlueEfficiency (204.001)',\n",
       " '1.6',\n",
       " '4Matic 7G Plus',\n",
       " '7G Plus',\n",
       " '220d 4Matic 9G-Tronic 194',\n",
       " 'S 7G Plus',\n",
       " '-CLASS 4.7 455 4P',\n",
       " '-CLASS 2.1 D 4MATIC AUTO 170CV 4P',\n",
       " '220d 9G-Tronic 194',\n",
       " 'CDI Business',\n",
       " '-CLASS D G TRONIC PLUS AVANTGARDE',\n",
       " '220BlueTec 7G Plus (4.75)',\n",
       " '350d 4Matic 9G-Tronic',\n",
       " 'e Largo',\n",
       " 'de',\n",
       " 'CLA-CLASS 2.1 CDI DCT 170CV 4P',\n",
       " 'd AMG',\n",
       " 'Sedan 9G-Tronic AMG LINE - FULL LED - ALU - BLIS -',\n",
       " 'BlueTEC Sport',\n",
       " '220d 9G-Tronic (4.75)',\n",
       " 'CLS-CLASS 272 4P',\n",
       " 'CDI Avantgarde',\n",
       " 'BT Edition 1 Aut.',\n",
       " '350d 4M Largo 9G-Tronic (9.75)',\n",
       " 'BlueTEC 4Matic (212.011)',\n",
       " 'Business-Solution',\n",
       " 'd AMG Line (EURO 6d-TEMP)',\n",
       " '*1.HAND*ORIGINAL ZUSTAND*KEIN ROST',\n",
       " '400d 4Matic Largo 9G-Tronic',\n",
       " '1.6T PHEV S/S GS-Line Aut. 180',\n",
       " '1.4 66KW (90 CV) EXPRESSION PRO',\n",
       " '1.5D DT S/S GS-Line + 100',\n",
       " '1.2T S/S Design & Tech 130',\n",
       " '2.0DTi 16v Sport',\n",
       " 'Corsa-e Elegance-e',\n",
       " '1.5D DTH S/S Elegance 130',\n",
       " '2.5 V6 Pearl',\n",
       " '2,2 Excellence 4x4 2011',\n",
       " '1.2-16V Njoy 3DRS MOOI NAP',\n",
       " '1.2-16V RHYTHM',\n",
       " '1.4 Twinport 87ch Start/Stop',\n",
       " '1.4 Selection Airco',\n",
       " 'TwinTop 1.4 16V Sport',\n",
       " \"TwinTop 1.4 16V First Edition 'CABRIO'\",\n",
       " '2.0 CDTi S/S 165 CV Excellence',\n",
       " '1.4 Turbo Excellence',\n",
       " '1.4 T S/S Excellence',\n",
       " '1.4T 140cv Excellence S/S #NAVY, BLUETOOTH',\n",
       " 'Descapotable Manual de 3 Puertas',\n",
       " '1.3CDTi Enjoy',\n",
       " 'Twin Top Edition',\n",
       " 'Rocks Open Air',\n",
       " '2.0 264 turbo cab / suivi complet opel / 1e main',\n",
       " 'Roadster',\n",
       " '2.0 Turbo ECOTEC',\n",
       " '2.0 T',\n",
       " '2.0 Turbo',\n",
       " '2.0 Turbo Pack',\n",
       " '2.0 16v Turbo VX 220 VX220',\n",
       " '1.8-16V Enjoy',\n",
       " '225 PS , original LHD, 2 owner car, hardtop',\n",
       " '2.2 16v VX 220 VX220',\n",
       " 'SE 16v Limited Edition',\n",
       " 'opel astra h cabrio opc',\n",
       " 'Twin Top 1.8 (Enjoy)',\n",
       " '1.4-16V cabrio',\n",
       " 'E Cabrio GSi 2,0 i',\n",
       " '2.2 16v VX 220',\n",
       " 'Deportivo Manual de 3 Puertas',\n",
       " 'B 2.0 GSI 1985 ATS RECARO APK 2023',\n",
       " 'C 2.2 de Luxe',\n",
       " '3 Puertas 1.4T GSI',\n",
       " 'GTC 2.0 CDTi 195cv Biturbo 3p S/S #NAVY, BLUETOOTH',\n",
       " 'Coupé 1.8 16v Bertone Edition',\n",
       " 'H GTC Sport',\n",
       " 'Coupe GS',\n",
       " '2.5i V6',\n",
       " 'olimpia record coupe',\n",
       " '19 SR',\n",
       " 'Commodore 2.5 GS Coupe Automat',\n",
       " '2.0i 16v',\n",
       " '2.0S',\n",
       " 'Olimpia 1.5 Coupe  //Top Zustand//',\n",
       " '*H-Kennzeichen*Oldtimer*TÜV Neu*',\n",
       " '3.0 E',\n",
       " '2.0i-16V DTM',\n",
       " '1.4',\n",
       " 'A Berlinetta 1,9 S',\n",
       " 'GT/E gruppo 2',\n",
       " '1900 S Berlina',\n",
       " 'V6 190ps',\n",
       " 'opel Astra g coupe project',\n",
       " 'Olympia',\n",
       " 'J GTC Basis, MOTOR STARTET NICHT',\n",
       " '1900',\n",
       " '2.0i cat',\n",
       " 'GSE (état concours)',\n",
       " 'Rallye 16S',\n",
       " '1200 S',\n",
       " 'GTC 1.6 t ecotec Cosmo S s&s 180cv',\n",
       " 'GT-A-L',\n",
       " 'B Coupe aus 1969',\n",
       " '2.0i',\n",
       " '1.7 CDTi Enjoy',\n",
       " '1.9 N',\n",
       " 'B Coupe',\n",
       " 'GTE - CONRERO',\n",
       " 'Irmscher GSE Oltimer FIA Liebhaber ',\n",
       " '2.0i 16V cat',\n",
       " '2.2 16V Coupe',\n",
       " 'Manta-B',\n",
       " 'Twip top 140 ,18',\n",
       " 'C1 Coupe 1200H',\n",
       " 'B LS Fastback',\n",
       " 'coupé',\n",
       " '2.0 GSi / Look Manta 400 /  Rally / Oldtimer /',\n",
       " 'oldtimer 3.0 6cil GSE 180pk manual gears box',\n",
       " '1200 S  Allestimento Irmscher',\n",
       " 'AT',\n",
       " 'Coupe 2.0 turbo 16v 200cv',\n",
       " 'B 2.0 GT/E,IRMSCHER,SERVO,H-ZULASSUNG,SPANIEN',\n",
       " '1.8 16V Coupe Edition 90 Jahre Bertone',\n",
       " '1.6i 16V Sports',\n",
       " 'G Coupé Bertone !',\n",
       " 'A 1,6S Original 28300 KM Neuwertig',\n",
       " '5p 1.6i twinport 16v',\n",
       " 'Astra G OPC 1, 2.0 16V',\n",
       " '1.8 16V Coupe',\n",
       " 'A GTE Gelb Leder',\n",
       " '200',\n",
       " 'B 1,9 S 1 Hand',\n",
       " '1.4i-16V',\n",
       " '(AUS ERSTER HAND,SEHR GUTER ZUSTAND)',\n",
       " 'Color Selection VI',\n",
       " 'GTC 1.8',\n",
       " 'ASTRA GTC 1.4',\n",
       " 'Astra Coupe 1.8 16v',\n",
       " '3p 1.4i 16v Club',\n",
       " 'E Gsi',\n",
       " '2.0i H-ZULASSUNG',\n",
       " 'GTC Edition Navi Tempo Park Pilot Klimaaut',\n",
       " '1.3 CDTI Advance 95cv S/S 5 PORTE',\n",
       " '1.6i 16V',\n",
       " '1.3 CDTI b-Color 75cv 5 PORTE',\n",
       " '1,4i-16V',\n",
       " 'PHEV 1.6 Turbo GS Line Aut. 4x2 225',\n",
       " '3.0TD LS',\n",
       " '1.5CDTi S&S GS Line Aut. 130',\n",
       " '1.6 Turbo  Auto 4x4 Ultimate',\n",
       " '1.2T S&S GS Line 130',\n",
       " '1.2 96kW (130CV)  S/S Innovation',\n",
       " '2.2DTI Sport RS',\n",
       " '2.2DTI Sport',\n",
       " 'Mokka-e GS Line-e',\n",
       " 'X 1.6 CDTI 110 CV ECOFLEX BUSINESS EDITION',\n",
       " '1.5D S&S Business Elegance',\n",
       " '1.2 Turbo Selective',\n",
       " 'X 1.6 CDTI Excellence',\n",
       " 'X EXCELLENCE',\n",
       " 'TODOTERRENO 1.6 CDTI EXCELLENCE 120 5P',\n",
       " '1.6 CDTI EXCELLENCE AUTO 2WD 136 5P',\n",
       " '1.2T S&S Ultimate 130',\n",
       " 'INS-ST INNOV. 1.6D 136CV MT6',\n",
       " '1.6 CDTI TURBO D INNOVATION ST 136CV 5P',\n",
       " 'SPORT TOURER 1.2 TURBO 145 CV ELEGANCE',\n",
       " 'Life 1.2 T S/S   XL Selective',\n",
       " 'Life 1.5 CDTI INNOVATION',\n",
       " 'Life 1.5 TD 75kW (100CV) S/S   L Selective',\n",
       " 'ST 1.5D DVH S&S Business Edition 122',\n",
       " '1.6 CDTI 100KW EXCELLENCE S',\n",
       " '1.4 Turbo S/S 110kW Innovation Auto ST',\n",
       " 'Life 1.5 TD 96kW 130cv SS Edition L',\n",
       " 'ST  2.0D DVH 130kW AT8 Business Elegance',\n",
       " 'Berlina Manual de 5 Puertas',\n",
       " '1.2T SHR 107kW (145CV) Business Elegance',\n",
       " 'GS  1.5D DVH 90kW MT6 Business Edition',\n",
       " 'GS  2.0T SHT 169kW AT9 4x4 GSi',\n",
       " '2.0 T SHT S&S Business Elegance AT9 170',\n",
       " '1.4T Elegance AUT 5p',\n",
       " '1.5D DVH S&S GS-Line AT8 122',\n",
       " 'SEDAN 1.6 CDTI 110 HP EXCELLENCE S',\n",
       " '1.6 CDTI 81KW SELECTIVE 110 5P',\n",
       " '1.2T XHL 74kW (100CV) GS-Line',\n",
       " '1.6T Hybrid 132kW (180CV)  Auto GS-Line',\n",
       " '1.6 16v Comfort',\n",
       " '1.5D DVC 77KW 105 5P',\n",
       " '1.2T XHL 74kW (100CV)  Auto Elegance',\n",
       " '1.5dCi Energy Zen EDC 66kW',\n",
       " '1.5dCi eco2 Energy Business 75',\n",
       " '1.8 TCe GPF RS Trophy EDC 221kW',\n",
       " '1.5 dCi 110CV Nav',\n",
       " '1.5dCi Energy Business 66kW',\n",
       " '1.5 ENERGY dCI 110 CV AUT',\n",
       " '1.5dCi SS Energy Business 55kW',\n",
       " 'TCe GPF Energy Zen 66kW',\n",
       " 'TCe Energy Limited 66kW',\n",
       " '1.2 TCe Energy Zen EDC 87kW',\n",
       " 'Color/Miet Batterie/Türen mit Scheiben',\n",
       " '1.5dCi Blue Business 85kW',\n",
       " 'E-TECH RS Line 117kW',\n",
       " 'TCe Zen 67kW',\n",
       " '1.5dCi Blue Business 70kW',\n",
       " '1.3 TCe 140cv Zen Energy',\n",
       " '1.2 16v Dynamique eco2',\n",
       " 'TCe Energy GLP Limited 66kW',\n",
       " 'TCe GPF Energy Limited 66kW',\n",
       " 'Life 80',\n",
       " '1.2 16v Authentique',\n",
       " 'SCe Energy S&S Intens 52kW',\n",
       " '1.2 Authentique',\n",
       " 'SCe Energy S&S Limited 52kW',\n",
       " 'Electric Zen R80 60kW Batería 20kW/h',\n",
       " '1.9D RN',\n",
       " 'V6 3.0i 24v PHASE I UNIQUE Condition',\n",
       " '1.8-16V Coupé | Black | 1993 | 56.000 KM',\n",
       " '1.8 16v',\n",
       " '80 INTENS WHITE',\n",
       " '1.5dCi Energy Business 81kW',\n",
       " '1.5dCi Energy Business 55kW',\n",
       " '1.6 TCe 205ch energy GT EDC',\n",
       " '1.5 dCi 110ch energy Business eco² GPS Radar Av/Ar',\n",
       " '1.5dCi Blue R.S. Line EDC 85kW',\n",
       " 'E-TECH Híbrido Intens 103kW',\n",
       " 'E-TECH Híbrido Zen 103kW',\n",
       " 'TCe Energy GLP Business 66kW',\n",
       " '1.6 Emotion 110',\n",
       " '1.6 dCi 130ch energy Intens',\n",
       " '1.5 Blue dCi 115ch Intens GPS Camera Radar AV/AR',\n",
       " 'tce 120 intens pack trophy + equipe pmr handicap',\n",
       " '0.9 Dynamique Navi*MMI*Clima*Parksensor*Keyless*Ca',\n",
       " '1.3 TCe GPF Intens 103kW',\n",
       " '1.3 TCe 140ch FAP Business EDC -21B GPS Radar AV/A',\n",
       " '1.3 TCe 160ch FAP GT-Line EDC GPS Camera Park Assi',\n",
       " 'LIMITED LIFE 41KW/H',\n",
       " '1.3 TCe 140ch energy Limited EDC GPS Radar AR',\n",
       " '1.2 Emotion',\n",
       " '1.5 Blue dCi 95ch Business GPS Radar Av/Ar',\n",
       " '1.6 E-Tech Plug-in 160ch RS Line -21N',\n",
       " '1.2 Expression - NAP KM STAND - ELEKTR RAMEN / SPI',\n",
       " '1.5 Blue dCi 115ch Business -21B',\n",
       " '1.0 SCe Expression 70PK | JU84387 | 5-Deurs | Airc',\n",
       " '1.4 RN Orig.NL 54dkm+nap Topstaat!',\n",
       " '1.5 Blue dCi 115ch Intens EDC',\n",
       " '1.2 Expression AIRCO. Stuurbekr. 113.000 km',\n",
       " '1.2 16v Expression 75',\n",
       " 'Twizy 45 Intens Black Flex',\n",
       " 'Sport 1. Vorbes. Scheckheft gepflegt',\n",
       " '1.5 DCI 110CH FAP DYNAMIQUE ECO²',\n",
       " 'Coupé Cabriolet 2.0 Dynamique Aut. Navi|Pano|Xenon',\n",
       " '1.5 DCI LMV NAVIGATIE CRUISE CD CV+AB',\n",
       " 'life 80 kw r110 batería 40kwh',\n",
       " 'Plein Air*Komplettneuaufbau*H-Kennz.',\n",
       " 'R4 Cabriolet / Sammlerfahrzeug / 1. Hand',\n",
       " 'CC 1.5 dCi Dynamique 110 CV',\n",
       " 'CC TCe 130 Dynamique 130 CV',\n",
       " '1.8-16V Fairway',\n",
       " 'Sporter Blue dCi 160 CV EDC Exe',\n",
       " '1.8-16V | Cabrio | 69.000 KM | 1994 | 1 Swiss Owne',\n",
       " '1.8 Fairway',\n",
       " '1.6-16V Priv.Luxe',\n",
       " 'coupé cabriolet 2.0 Dynamique / LEER / AUTOMAAT /',\n",
       " 'renault megane 5 porte dci  110cv',\n",
       " '2.0 Coupe-Cabriolet Aut. Avantage',\n",
       " 'Megane CC 1.9 dci Luxe 130cv',\n",
       " 'Cabriolet 1.6',\n",
       " 'coupé cabriolet 2.0 TCE 180 PK GT | NAVI | LEDER |',\n",
       " '4cv * DECOUVRABLE',\n",
       " 'Spider Sport',\n",
       " 'Mégane',\n",
       " '5p 1.5 dci Dynamique 105cv',\n",
       " '2.0 Coupe-Cabriolet Confort Dynamique',\n",
       " 'Cabriolet 16V',\n",
       " 'Coupe 2.0 16v T RS 250cv LEGGERE BENE !!!',\n",
       " 'AMC Alliance DL Convertible',\n",
       " 'Cabriolet 1.4 TCE Dynamique',\n",
       " 'mit Frontscheibe 1-Hand',\n",
       " '2.0 16V Sport (147cv)',\n",
       " 'Sport Spider 2.0 Windschutz-Scheibe 1. Hand',\n",
       " '3 coupe cabriolet III COUPE CABRIOLET 1.9 DCI 130',\n",
       " 'Renault Megane II Cabriolet 1,6 16V 112 PS',\n",
       " 'CC 1.5 dCi 110 FAP GT Line EDC 2015',\n",
       " 'Mégane C.C. 1.5dCi Dynamique',\n",
       " 'SporTour 1.9 dci Dynamique 130cv fap',\n",
       " '1.6-16V Privilège',\n",
       " '1.6 Dynamique',\n",
       " 'II CC 1.9 dCi 130 FAP Privilège',\n",
       " 'Cabrio 1.4-16V Sport Stuurbekrachtiging',\n",
       " '2.0 Coupe-Cabriolet Privilege',\n",
       " '8.5',\n",
       " '1.5 dCi 110CV S-S 4p. Express Ice',\n",
       " 'ACL  Cabrio   Rodeo',\n",
       " 'Pare-Brise 2.0 150 ch Avec Hard Top',\n",
       " '1.9 dCi FAP Coupe-Cabriolet Dynamique',\n",
       " 'Sport 2.0 16V mit Frontscheibe | 2.Hand',\n",
       " 'R19 Cabriolet 1.8',\n",
       " 'coupé cabriolet 1.4 TCE Dynamique Half leder, 18\"',\n",
       " 'coupé cabriolet 1.4 TCE Dynamique org. NL-auto h.l',\n",
       " '1.6-16V Tech Line',\n",
       " '1.2 75CV GPL 5 porte Wave 201407',\n",
       " 'FLORIDE ( con hard top)',\n",
       " '1.6-16V Aria',\n",
       " 'coupé cabriolet 1.4 TCE Privilège / LEER / NAVI /',\n",
       " 'Cabriolet 2.0',\n",
       " 'coupé cabriolet 1.4 131PK TCE Privilège / Panorama',\n",
       " 'Megane SporTour 1.5 dci Gt Line 110cv',\n",
       " 'coupé cabriolet 1.4 TCE Dynamique',\n",
       " 'GTA V 2.5 V6 Turbo consignatie verkoop/Valckenier',\n",
       " 'Coupé RS 2.0 16v 265 S&S',\n",
       " 'Tbo GT  S',\n",
       " 'Societé Diesel 4 Societé 1.5dCi Energy',\n",
       " 'Williams Phase 2',\n",
       " 'tce 140 edc fap',\n",
       " 'COUPE EXPRESSION 1.9DCI',\n",
       " 'Mégane Coupé 1.6ie',\n",
       " 'tce 140 edc fap - 21b',\n",
       " 'A PREPARER',\n",
       " 'II 1.5 dCi 80',\n",
       " 'Deportivo Automático de 3 Puertas',\n",
       " 'Turbo 1.Hand Scheckheft Sammlerzustand',\n",
       " '1.5dCi eco2 Energy Limited 75',\n",
       " 'CoupÃ© 2.0 dCi 150cv 2p #LIBRO, NAVY, BLUETOOTH',\n",
       " 'anterior 1.5dCi Energy Zen 66kW',\n",
       " 'anterior TCe Energy Limited 66kW',\n",
       " 'anterior TCe GPF Energy Limited 66kW',\n",
       " 'Zen',\n",
       " 'TCe 115 Expression Energy SANDS 85 kW (115 CV)',\n",
       " 'anterior TCe Limited 55kW',\n",
       " 'Expression dCi 110',\n",
       " '1600 S',\n",
       " 'Europa Cup',\n",
       " 'tce 140 edc fap r.s. line',\n",
       " 'Renault Megane 1,5 dCI Energy Limited S&S 95',\n",
       " 'Group 4 * Roadlegal *',\n",
       " 'GTS',\n",
       " 'RENAULT ALPINE GTA 19900 EURO PRIVE',\n",
       " '3 coupe III COUPE 2.0 DCI 160 FAP GT EURO5',\n",
       " 'A 310',\n",
       " 'TURBO 1',\n",
       " 'Megane coupe manual 2.0 dCi',\n",
       " 'SporTour 2.0 dci 4Control esm 150cv',\n",
       " '3 coupe III COUPE 2.0 DCI 180 FAP GT',\n",
       " '45 ELECTRIQUE',\n",
       " 'Coupe Energy dCi 110 FAP Start & Stop GT Line',\n",
       " 'TR',\n",
       " 'Mégane Sport R.S. 265 Stop&Start Start&Stop',\n",
       " 'Tbo',\n",
       " '2.0 T RS',\n",
       " 'tce 160 edc fap - 21b r.s. line',\n",
       " 'GT 18Fuchs/Ablage-/Sichtpaket',\n",
       " 'Rs',\n",
       " 'Turbo Maxi 2 Gruppo B Omologata Stradale',\n",
       " 'Coupe 2.0 16V Turbo GT',\n",
       " 'II 3.0 V6 Sport',\n",
       " 'Coupe Energy dCi 130 FAP Start & Stop GT Line',\n",
       " '3 COUPE RENAULT SPORT 265 S&S',\n",
       " 'ARKANA E-Tech 145 - 21B R.S. Line',\n",
       " '1.8 16 V',\n",
       " 'V6 TURBO',\n",
       " 'tce 160 edc fap - 21b',\n",
       " '1.9 dCi Expression',\n",
       " 'Coupe dCi 175 FAP',\n",
       " 'ARKANA TCe 140 EDC FAP R.S. Line',\n",
       " 'RENAULT CLIO V6 SPORT \"PHASE 2\"',\n",
       " '1.0 TCE 74KW BUSINESS 5 PORTE',\n",
       " 'DCI 180 4 CONTROL',\n",
       " 'Coupe 2.0 dCi 150ch Monaco GP',\n",
       " 'Technik 80 Z.E14.04.2014',\n",
       " 'III (3) COUPE 1.6 DCI 130 ENERGY',\n",
       " 'V6',\n",
       " 'TCe 160 EDC GPF BOSE EDITION',\n",
       " 'Coupe 2.0 dci Wave Edition 150cv',\n",
       " 'COUPE 1.6 dCi 130 FAP Energy Bose eco²',\n",
       " 'Fleischmann',\n",
       " 'tce 140 edc fap - 21b r.s. line',\n",
       " 'dCi 110 FAP Coupe Dynamique',\n",
       " '1.6 E-Tech R.S.Line 105kW',\n",
       " '1.5 Blue dCi 115cv EDC Zen',\n",
       " 'Limited',\n",
       " '1.3 TCe R.S. Line EDC 103kW',\n",
       " 'ZEN TCe 140 EDC',\n",
       " '1.3 TCE 103KW ZEN EDC 140 5P',\n",
       " '2.0 Blue dCi 184cv X-Tronic Initiale Paris',\n",
       " 'INTENS TCe 90',\n",
       " 'ZEN TCe 90',\n",
       " '1.7dCi Blue Zen 4x2 110kW',\n",
       " '1.6 E-Tech 145cv RS Line',\n",
       " 'dci 90',\n",
       " 'e-tech 145 - 21',\n",
       " '1.5 dCi 110ch energy Intens EDC eco²',\n",
       " '1.5 dCi 110ch energy Business EDC eco²',\n",
       " '2.0 dCi 175 FAP Energy Intens',\n",
       " '1.3 TCe 140ch FAP Intens EDC -21 LED GPS Radar Ar',\n",
       " 'dCi 110 EDC Intens Energy',\n",
       " 'GPS/Camera/Alu!!slechts 8000km',\n",
       " '1.3 TCe 140 EDC Business Edition',\n",
       " '1.3 TCe 160ch FAP Black Edition SL EDC',\n",
       " 'Bose Edition 2.0 dCi 150cv 4x4',\n",
       " '1.3 TCe 155ch FAP Intens EDC - 20 GPS Radar Ar',\n",
       " '1.5 Blue dCi 115ch Business 131g',\n",
       " '2.0 dci Initiale Paris 175cv 4x4 x-tronic',\n",
       " '1.5 dCi Dynamique Automaat Navi|Clima|Cruise|LMV 1',\n",
       " 'blue dci 115',\n",
       " '2.0 dCi 175ch energy Initiale Paris X-Tronic Cuir',\n",
       " 'tce 160 edc',\n",
       " 'TCe 140 - 21 Intens',\n",
       " 'TCe 130 FAP Intens',\n",
       " '1.2 TCe Dynamique Aut',\n",
       " '1.5 BLUE DCI 115CV BUSINESS',\n",
       " '2.0 dCi 175 EDC 4x4 Initiale',\n",
       " '1.2 VOOR EXPORT',\n",
       " 'V INITIALE PARIS 1.6 DCI 160CV AT6',\n",
       " 'S.T E-TECH Intens 117kW',\n",
       " '1.8 TCe SL Icon EDC',\n",
       " '1.6  dCi 130',\n",
       " 'S.T. 1.5dCi Blue Intens 85kW',\n",
       " 'S.T. E-TECH Zen 117kW',\n",
       " 'S.T. 2.0dCi Blue Zen EDC 147kW',\n",
       " '4P 1.6 DCI 130CV',\n",
       " 'S.T. Initiale Par. En. dCi 118kW TT EDC',\n",
       " 'Life',\n",
       " 'ZEN ENERGY dCI 81 KW 110 CV EDC 5',\n",
       " '1.2 TCe 130ch energy Intens EDC',\n",
       " 'Grandt. 1.6 dCi 160 Intens LED',\n",
       " 'grand scénic dci 130 energy fap eco2',\n",
       " 'SPORT TOURER 1.3 TCE ZEN 103KW 140 5P',\n",
       " 'Zen Energy dCi 81kW (110CV)',\n",
       " 'S.T. 1.5dCi Energy Tech',\n",
       " 'blue dci 150',\n",
       " 'estate dci 130 energy',\n",
       " 'IV Grandtour 1.2 TCe 130 Intens',\n",
       " 'S.T. 1.8dCi Blue GT Line EDC 110kW',\n",
       " 'IV ESTATE dCi 110 Energy EDC Intens',\n",
       " 'IV ESTATE BUSINESS Blue dCi 115',\n",
       " 'mégane iv estate blue dci 115 - 21b',\n",
       " '1.2 TCe 130ch energy Intens',\n",
       " 'E-TECH ZEN 117KW 160 5P',\n",
       " 'BUSINESS BLUE DCI 70 KW 95CV',\n",
       " '1.5 DCI TECH ROAD ENERGY 110CV',\n",
       " '1.8 RS Energy Tce 205kW 280cv',\n",
       " 'Expression dCi 150',\n",
       " 'RS Trophy Energy 162kW (220CV) EDC',\n",
       " 'LIMITED BLUE DCI 88 KW 120CV',\n",
       " '4 Energy dCi 55kW (75CV) Business',\n",
       " '1.8 TCE RS TROPHY EDC 221KW 300 5P',\n",
       " 'Zen TCe GPF 74 kW (100CV)',\n",
       " '2.0 Si',\n",
       " '1.8 TCe GPF 300cv - 18 RS Trophy-R',\n",
       " '1.3 TCE INTENS 103KW 140 5P',\n",
       " 'INTENS R135 B-Rent',\n",
       " '1.5 Blue dCi 115cv Zen',\n",
       " 'Energy TCe 120 EDC Euro 6 Intens',\n",
       " 'Limited Energy TCe 66kw (90CV) eco2',\n",
       " '1.8i 16v  140 cv avec CT et CarPass Reprise/éch',\n",
       " '1.9 dCi/130CV 4p. Dynamique',\n",
       " 'Renault 18 Turbo',\n",
       " 'BOSE Edition',\n",
       " 'II Phase 2 (VP) 1.5 dCi S&S 90 cv',\n",
       " '1.5 dCi 110 EDC BOSE LED GPS ACC',\n",
       " '1.2 TCE ENERGY GT LINE 97KW 130 5P',\n",
       " '22 kwh Zen batterie ok',\n",
       " '2.0 12V GTI',\n",
       " 'IV BERLINE TCe 300 RS Trophy-R',\n",
       " '1.8 TCe 225 EDC Initiale Paris',\n",
       " 'ii 1.2 lev 16v 75 eco2',\n",
       " 'IV BERLINE TCe 300 RS Trophy',\n",
       " '1.6 Plug-in Hybrid E-TECH 160 R.S. Line EDC',\n",
       " 'IV BERLINE TCe 280 Energy EDC RS',\n",
       " 'Megane Berlina DUEL 2 Blue dCi 115 EDC',\n",
       " 'dci 130 energy intens / origine france',\n",
       " '1.5 dci - 90ch   iv berline business',\n",
       " '1.6 E-Tech Híbrido 140cv Intens',\n",
       " '4 IV (BFB) 1.8T 280CH RS EDC',\n",
       " 'dCi 110 Limited',\n",
       " 'RS',\n",
       " 'Initiale 1.6 16V 110',\n",
       " 'iv rs 300 trophy - malus inclus',\n",
       " '1.6 dCi 130 EDC FullLED GPS',\n",
       " '1.5 BLUE DCI ZEN 85KW 115 5P',\n",
       " '4 Energy dCi 75 eco2 Euro 6 Business',\n",
       " 'Mégane IV 1.5 Blue dCi - 115 - BV EDC -  GT Line P',\n",
       " 'IV BERLINE BUSINESS Blue dCi 115',\n",
       " '1.2 TCe 115 SS Energy Expression',\n",
       " '1.5BlueHDi S&S GT EAT8 130',\n",
       " '1.4HDI XS',\n",
       " '1.6 Hybrid Allure Pack EAT8 180',\n",
       " '1.2 Puretech S&S Allure Pack 100',\n",
       " '1.5 BlueHDi S&S Active Pack 100',\n",
       " '1.6HDI XS',\n",
       " 'Pequeño Manual de 5 Puertas',\n",
       " '1.5 BlueHDi S&S GT Pack EAT8 130',\n",
       " '1.2 PureTech S&S Allure Pack 130',\n",
       " '1.5 BlueHDi S&S GT EAT8 130',\n",
       " '1.2 PureTech S&S Active Pack 110',\n",
       " '12V VTi 82CV 5p. Active',\n",
       " 'VTi 52kW (72CV) Allure',\n",
       " '1.2 PURE TECH ACTIVE 75 CV',\n",
       " 'Allure Long PureTech 110',\n",
       " '1.2 PureTech S&S GT EAT8 130',\n",
       " '1.6HDI FAP Confort',\n",
       " '1.2 Puretech S&S Active 100',\n",
       " '1.6 THP 270ch GTi S7S 5p Tpano GPS Camera',\n",
       " '1ste Eigenaar 134.000km Garantie+Keuring',\n",
       " '1.6 THP 270ch GTi S/S 5p GPS Camera Radar AV/AR',\n",
       " '1.6 Hybrid GT EAT8 225',\n",
       " '1.2 Puretech S&S Allure Pack EAT8 100',\n",
       " '1.0-12V XS Apple Carplay / Elek. ramen / Toerentel',\n",
       " '1.0-12V XR',\n",
       " '206+ 1.1i',\n",
       " '1.5 BlueHDi S&S Allure Pack EAT8 130',\n",
       " '1.2 Puretech S&S Like 75',\n",
       " '2.0HDI XS 136',\n",
       " '1.1 XR 48.656 KM NAP 1e eigenaar',\n",
       " '1.4 Gentry INRUILKOOPJE !!',\n",
       " '1.4 Freddy Neopatentati',\n",
       " '1.4Diesel !!!75.000km!!! GARANTIE + KEURING',\n",
       " 'e-208 136ch GT Line Siege Chauf LED GPS Camera Rad',\n",
       " '1.4 XS',\n",
       " '1.6-16V XS / Airco / 5 Deurs / Trekhaak',\n",
       " '1.6 BlueHDi 120ch GT Line S/S EAT6 5p',\n",
       " '1.4 S 5 drs. AIRCO NAP',\n",
       " '1.2 Puretech Blue Lease Executive, Navigatie, Pano',\n",
       " '1.2 PureTech 100ch S\\\\u0026S Allure Pack Siege Chau',\n",
       " '1.6HDI XS 110',\n",
       " '1.4i Urban 75',\n",
       " '1.6HDI X-Line',\n",
       " '1.2 Puretech S&S Allure Pack EAT8 130',\n",
       " '1.5 BlueHDi 130ch S/S Allure EAT6',\n",
       " 'Allure Pack Eléctrico 100kW',\n",
       " '1.0-12V XR| SPORT| ELEK. RAMEN| LM-VELGEN',\n",
       " '1.5 BlueHDi 100ch E6.c S/S Style GPS Camera JA17',\n",
       " '1.5 BlueHDi 130ch S/S Allure GPS Camera Car Play K',\n",
       " '1.2 PureTech 130ch S/S Allure EAT6 Siege chauf',\n",
       " '1.2 PureTech 130ch ¤6.c S/S Active Business Siege',\n",
       " 'WAGON Business 1.6 8v e-HDi 115cv S/S',\n",
       " '1.2 PureTech 130ch S\\\\u0026S GT Line EAT8 7cv',\n",
       " '1.2 PureTech 130ch Active Business Siege chauf Cam',\n",
       " '1.5 BlueHDi 130ch S/S Active Business GPS Camera R',\n",
       " '1.2 PureTech 100ch S/S Allure Business',\n",
       " 'CC 2.0',\n",
       " 'CC Sport Pack 1.6 THP 140 Automático',\n",
       " 'Cabriolet ROLAND GARROS Paris Capote électric',\n",
       " '2.0-16V CC CABRIO LEER AIRCO CLIMA NAP 2DE EIGENAA',\n",
       " '206 CC Roland Garros',\n",
       " '1.1i cat Cabriolet CJ',\n",
       " '207 CC 1.6 16v 120ch',\n",
       " 'CC 110 Filou',\n",
       " 'Cabriolet 2 l',\n",
       " 'CC Sport 1.6 VTI 120',\n",
       " 'CC 1.6 VTI 16V 120',\n",
       " 'Sport 1.6 HDI 110 FAP',\n",
       " 'Cabrio 1.6 THP Sport Pack 115 kW (156 CV)',\n",
       " 'CC 1.6',\n",
       " 'CC 1.6HDI FAP 110',\n",
       " 'CC 1.6 THP Edition Limitada 150CV',\n",
       " 'CC Cabrio 2.0 HDI Sport 140CV',\n",
       " 'CC Cabrio 1.6 VTi Sport 122CV',\n",
       " 'CC 1.6 VTi Active 120 CV',\n",
       " 'CC 1.6 VTi 120cv SPORT 2p #BLUETOOTH',\n",
       " 'CC HDI 136 FAP',\n",
       " 'cabriolet $$je recherche en état ou a refaire$$',\n",
       " 'Cabriolet Injection',\n",
       " 'GTI',\n",
       " '1.6-16V',\n",
       " 'CC 2.0 Sport 180',\n",
       " 'coupé cabriolet',\n",
       " 'CC HDi FAP 140 Premium',\n",
       " '206CC',\n",
       " 'CC FAP 110 (Blue Lion) Filou',\n",
       " 'Cabriolet 1.6i CTi',\n",
       " 'cabrio',\n",
       " 'CC 2.0 HDi 16V 140 ch FAP Féline 7',\n",
       " '2.0-16V',\n",
       " 'CC 2.0-16V Airco,',\n",
       " '1.6-16V Roland G.',\n",
       " 'CC 2.0 16V',\n",
       " 'CC',\n",
       " '1.6 Vti Cabrio 2008 Zwart',\n",
       " '<NULL',\n",
       " 'CC 135',\n",
       " 'CABRIOLET 1.8 CABRIOLET, NW. CABRIO KAP, NETTE AUT',\n",
       " 'CC e-HDi FAP 110 Start&Stop Active',\n",
       " 'CC 110 Roland Garros',\n",
       " 'Cabriolet 2.0-16V',\n",
       " '1.4i Cabrio oldtimerkeuring + 1JAAR garantie!',\n",
       " '1.6 VTi',\n",
       " '1.6 VTI 16V FELINE',\n",
       " 'CABRIOLET (KF2)',\n",
       " 'CC HDi FAP 110 Premium',\n",
       " '1.6-16V T Roland G.',\n",
       " 'PEUGEOT 308 CC, 2.0 DIESEL CABRIOLET',\n",
       " 'Cabriolet 1.8',\n",
       " '206CC Hardtop Cabriolet',\n",
       " 'Automatik Leder',\n",
       " 'Coupé 2.2',\n",
       " '1.3i Rallye',\n",
       " 'Coupé 2.0l - Garantie 12 mois',\n",
       " 'R 270ch',\n",
       " '1.6 THP 155cv',\n",
       " '1.6 THP',\n",
       " 'Coupé 2.0HDI Pack',\n",
       " '2.0 HDi  163 CV',\n",
       " '2.0 HDi 163 CV',\n",
       " 'Coupé Ultima Edizione HDi Pack 136',\n",
       " 'Coupé 2.2 Pack',\n",
       " 'CoupÃ© 2.2 163cv 2p #LIBRO',\n",
       " 'Coupé 3.0 V6 Pack',\n",
       " 'Coupé 2.0 16v',\n",
       " '2.7 V6 hdi 24v Feline auto fap',\n",
       " 'coupè',\n",
       " '1,6 THP 160',\n",
       " '2.0 COUPE brandstofpomp defect',\n",
       " '16v gti',\n",
       " '3.0-24V V6 Pack',\n",
       " \"201 '30\",\n",
       " '5p 1.4 vti 16v XS',\n",
       " '16 GTI',\n",
       " 'Coupe \"S\" ( 1974 )',\n",
       " 'cc roland garros 1.6hdi 112 fap',\n",
       " '2.0i 16V cat Coupé',\n",
       " 'Coupé 2.0 16v GTI',\n",
       " 'Coupe 165 Sport',\n",
       " 'SW 2.0 hdi 16v Tecno Ciel fap',\n",
       " '1.6 THP 200ch BVM6 GT Line',\n",
       " 'GTI 1.9 130 CV--ASI ORO--ORIGINALE--PARI AL NUOVO',\n",
       " '3.0i V6 24V cat Coupé Plus',\n",
       " \"3.0i V6 24V cat Coupé Plus Settant'anni\",\n",
       " 's16',\n",
       " '1.6 thp 16v 156cv auto',\n",
       " 'Plus 3p 1.1 Urban',\n",
       " '2.0 HDi FAP 160',\n",
       " 'GTI 1.6 THP S&S 3 porte',\n",
       " '206 3p 2.0 hdi XS c/2airbag',\n",
       " '1.6 thp 16v 200cv',\n",
       " '007 2.2-16V Pack ( heerlijke wagen! )',\n",
       " '1.6 155 THP',\n",
       " '3p 1.6 16v XS',\n",
       " '+ Basis 1TÜV NEU 2.HAND',\n",
       " 'cabrio xen cc 3p 1.6 hdi 16v Feline 110cv fap',\n",
       " 'Plus 3p 1.1 X-Line eco-Gpl',\n",
       " '1.5BlueHDi Active Pack S&S 130',\n",
       " '1.6 BlueHDi 88KW (120CV) S&S Allure',\n",
       " 'BlueHDI 81kW (110CV) Active',\n",
       " 'HYB PHEV 225 Allure Pack e-EAT8',\n",
       " '1.2 PureTech S&S Allure Pack EAT8 130',\n",
       " '1.5 BLUE HDI 130 CV EAT8 ALLURE',\n",
       " '1.5 BLUE HDI 130 CV ACTIVE PACK',\n",
       " '1.6EHDI 115CV ALLURE 5P',\n",
       " '300 e-EAT8 Allure Pack',\n",
       " 'ALLURE HDI 130 CV',\n",
       " '1.6 THP 156cv -',\n",
       " '1.2 PureTech 96KW S&S Active Pack',\n",
       " '1.2 PURETECH S&S ACTIVE 130 5P',\n",
       " 'BlueHDI 130 S&S EAT8 Allure',\n",
       " '1.5BlueHDi S&S Roadtrip S&S EAT8 130',\n",
       " 'BlueHDI 130 S&S EAT8 Allure Pack',\n",
       " 'BlueHDI 81kW (110CV) Allure Pack',\n",
       " '1.6BLUEHDI ALLURE S&S 120CV 5P',\n",
       " '1.2 PureTech SS Allure',\n",
       " '1.5 Blue-HDi GT Line',\n",
       " 'GT LINE 1.2 PURE TECH 130 CV',\n",
       " 'Puretech 130 S&S EAT8 Allure Pack',\n",
       " '300 e-EAT8 GT Pack',\n",
       " 'ALLURE',\n",
       " '1.6BlueHDi S&S GT-Line EAT6 120',\n",
       " '1.6BlueHDi S&S GT-Line 120',\n",
       " '1.5BlueHDi S&S Allure 130',\n",
       " '1.2 PureTech S&S GT Line 130',\n",
       " '1.6BlueHDi S&S Allure EAT6 120',\n",
       " 'Puretech 100 S&S 6 Vel. MAN Active Pack',\n",
       " '1.5 BLUEHDI S&S AUTO GT LINE 130CV 5P 7 PLAZAS',\n",
       " 'GT-Line BlueHDi 96kW (130CV) S&S EAT8 GT Line',\n",
       " '1.6 BlueHDi 88KW 120CV Allure SS',\n",
       " '1.2 PURETECH 100 S&S ACTIVE PACK 5P',\n",
       " '1.5BlueHDi S&S Allure 100',\n",
       " '1.5BlueHDi S&S Allure EAT8 130',\n",
       " 'BlueHDI 100 S&S BVM6 Allure',\n",
       " '1.5 BLUEHDI 96KW ACTIVE S&S 130 5P',\n",
       " '1.5BlueHDi S&S GT Line 100',\n",
       " '1.5 BlueHDi 96kW S&S  EAT8 Allure Pack',\n",
       " 'Confort 1.6 HDI 110 FAP',\n",
       " 'Active 1.6 BlueHDi 100',\n",
       " '2.0BLUEHDI 133KW GT AUTO S&S 180 5P',\n",
       " '1.5 BLUEHDI 96KW ALLURE S&S 5P',\n",
       " '1.2 PureTech S&S Active Pack 100',\n",
       " '1.2 PureTech S&S Active 100',\n",
       " '1.5BlueHDi S&S Allure Pack EAT8 130',\n",
       " 'HYB PHEV 300 Allure Pack AWD e-EAT8',\n",
       " 'II 2016 3008 1.5 bluehdi GT Line s&s 130cv eat8',\n",
       " '1.5 BLUEHDI 96KW S&S ALLURE 5P 7 Plazas',\n",
       " '1.6 BlueHDi S\\\\u0026S - 120 - BV EAT6  Active Busin',\n",
       " '1.5 BlueHDi 96kW (130CV) S&S Active Pack',\n",
       " 'HYB PHEV 300 GT AWD e-EAT8',\n",
       " '225 e-EAT8 Allure Pack',\n",
       " '1.6 e-HDi 92 Allure',\n",
       " '1.2 S&S PureTech Allure Pack EAT8 130',\n",
       " '2.0 bluehdi 150ch s\\\\u0026amp;s bvm6 allure / suivi',\n",
       " '1.2 PureTech 96KW (130CV) S&S Allure',\n",
       " '1.6 BlueHDi 120ch S&S EAT6 Active Business',\n",
       " '1.2 PURETECH 96KW S&S ALLURE 5P',\n",
       " 'HYB PHEV 225 Allure e-EAT8',\n",
       " '2.0 BlueHDi 150ch GT Line S/S TOuvrant/Pano GPS Ra',\n",
       " 'Puretech 100 S&S BVM6 Active Pack',\n",
       " '1.6 HDi 120 EAT6  Allure',\n",
       " '1.6 THP 16v 165ch Allure S/S EAT6 Tpano HUD Camera',\n",
       " '1.5bluehdi active s&s 130',\n",
       " 'BlueHDi 96kW (130CV) S&S EAT8 Allure',\n",
       " 'SW 1.6 Hybrid GT Pack EAT8 225',\n",
       " 'SW  HYBRID 225 e-EAT8 GT',\n",
       " '5p Active 1.4 HDi 70 FAP',\n",
       " 'SW 1.2 PureTech S&S Active Pack 110',\n",
       " '1.6 BLUEHDI 88KW BUSINESS LINE SW 120 5P',\n",
       " 'SW 1.6 Hybrid Allure Pack EAT8 180',\n",
       " 'GT Long BlueHDi  96kW',\n",
       " 'SW 2.0HDI 110',\n",
       " '1.5 Blue-HDi Access Standard',\n",
       " '1.5 Blue-HDi Access L1',\n",
       " 'SW 2.0HDI Pack 136',\n",
       " '1.2 PureTech EAT8 GT Long 7 plazas',\n",
       " 'SW GT HYBRID 180 e-EAT8',\n",
       " 'SW ACTIVE 1.6 BLUEHDI 88KW 120CV',\n",
       " 'SW 1.6 BlueHDI 120pk Blue Lease Navi|Clima|LMV|PDC',\n",
       " 'SW PSE Hybrid 360 Automatik 8-Gang',\n",
       " 'SW  BlueHDi 130 S&S GT',\n",
       " 'SW  PureTech 130 S&S 6 Vel. MAN Style',\n",
       " '2.0 bluehdi 180ch eat6 / suivi entretien complet à',\n",
       " 'SW 1.2 PureTech S&S Allure Pack EAT8 130',\n",
       " 'standard 1.5 BLUEHDI gt line 130 eat8',\n",
       " 'HYBRID4 300ch GT Pack e-EAT8',\n",
       " '5p XT 2.0 HDI 136 FAP',\n",
       " 'SW 1.6 BlueHDI Blue Lease Pack NAVI LMC PDC CLIMA',\n",
       " '1.6 hdi 16v Lee',\n",
       " 'SW 1.2 PureTech Allure 130PK | FS18900 | Dealer On',\n",
       " '1.5 BlueHDi 130ch S\\\\u0026S GT EAT8',\n",
       " 'SW  BlueHDi 130 S&S EAT8 Style',\n",
       " 'e-2008 136ch GT',\n",
       " 'SW Hybrid 225 GT e-EAT8',\n",
       " '308 BlueHDi 180 EAT6 S&S SW GT',\n",
       " 'II 2018 SW 308 SW 1.5 bluehdi Allure s&s 130cv my2',\n",
       " '2.0 BlueHDi 180ch S\\\\u0026S Roadtrip EAT8',\n",
       " '1.5 BLUEHDI 96KW ALLURE AUTO SW 5P',\n",
       " 'SW Allure 1.2 PureTech 96KW (130CV) S&S',\n",
       " '2.0 BlueHDi - 180 - BV EAT8   SW (BREAK) GT LINE',\n",
       " '5p GT Line 1.2 PureTech 130 S&S',\n",
       " '1.2 PureTech 130ch S\\\\u0026S Allure Business EAT8 C',\n",
       " 'SW  Puretech 130 S&S EAT8 GT',\n",
       " '1.5 BLUEHDI 96KW STYLE AUTO SW 5P',\n",
       " 'SW Active Pack Puretech 130 S&S MAN',\n",
       " 'RXH 2.0 BlueHDi 180CV Autom.',\n",
       " '1.5 BlueHDi 130ch S\\\\u0026S GT Pack EAT8',\n",
       " '1.5 BlueHDi 130ch S/S Active Business 7cv Siege Ch',\n",
       " '2ª serie PureTech Turbo 130 S&S SW Allure',\n",
       " 'SW  1.6 BlueHDi 88KW (120CV) Active',\n",
       " 'SW 1.4 VTi Confort',\n",
       " 'SW  PureTech 130 S&S EAT8 Active Pack',\n",
       " '1.5 BlueHDi 130ch S\\\\u0026S Style',\n",
       " '1.5 BLUEHDI 130CH S\\\\u0026S ALLURE EAT8',\n",
       " '1.2 PureTech 130ch S\\\\u0026S GT EAT8',\n",
       " 'II Ph2 1.5 BlueHDi 130 S\\\\u0026S GT Line BA8',\n",
       " 'HYBRID4 360ch e-EAT8 PSE 2500km',\n",
       " 'ACTPK PT100',\n",
       " 'BlueHDi 130ch Active EAT8 T.O+ADML',\n",
       " '1.5 Blue-HDi GT Line Standard',\n",
       " 'SW  Hybrid 225 eEAT8 GT',\n",
       " '1.5 BLUEHDI ALLURE 130 standard',\n",
       " '1.2 PureTech 130ch S/S Active Business EAT8',\n",
       " 'HYBRID 225ch Allure Pack e-EAT8',\n",
       " 'HYBRID 225ch GT e-EAT8',\n",
       " '1.6 8V HDi 93 CV SW X Line',\n",
       " '5P PSE HYBRID 360 e-EAT8  Sport Engineered',\n",
       " '3.0 V6 ST Sport Pack Aut.',\n",
       " '2.7HDi Titanio Aut.',\n",
       " 'Hybrid 225 GT e-EAT8',\n",
       " '403 Oldtimer/ Sammler /Rarität/Black Panther/',\n",
       " 'Berline Bj.1956',\n",
       " '2.0HDI ST Confort Pack',\n",
       " 'Hybrid 225 Allure Pack e-EAT8',\n",
       " '1.5 BLUEHDI 96KW TECH EDITION 5P',\n",
       " '2.0 BLUEHDI AUTO GT 180 CV 4P',\n",
       " '2.0HDI Sport',\n",
       " 'Active BlueHDi 96kW (130) S&S 6vel MAN',\n",
       " '5P ACCESS 1.2L PureTech 82',\n",
       " '1.6 HYBRID 225 ALLURE PACK E-AUTO 225 5P',\n",
       " '1.6 PHEV 225 E-EAT8 GT 225 5P',\n",
       " '1.2 PureTech S&S Active Pack EAT8 130',\n",
       " 'PureTech 96kW (130CV) EAT8 GT Line',\n",
       " '5p  BlueHDi 130 S&S Active',\n",
       " '5P  BlueHDi 130 S&S EAT8 Allure Pack',\n",
       " '5P  PureTech 130kW (180) S&S EAT8 Active',\n",
       " '2.0HDI SRDT 110',\n",
       " '1.6 Hybrid 225cv eEAT8  GT Pack',\n",
       " 'Active BlueHDi 96kW (130CV) S&S EAT8',\n",
       " '1.5 BLUEHDI ACTIVE 100CV 5P 2 PLAZAS',\n",
       " '1.5 BLUEHDI 130 ALLURE AUTO 5P',\n",
       " '16V SR',\n",
       " '5P  BlueHDi 120kW (160) S&S EAT8 GT Line',\n",
       " '5p Style 1.6 BlueHDi 88KW (120CV)',\n",
       " '1.5 BLUEHDI 73KW GT LINE 5P',\n",
       " '1.5 HDI 100cv',\n",
       " 'PureTech 73kW (100CV) Active Pack',\n",
       " 'Tbo Inj Ti',\n",
       " '2.2 ST Sport Aut.',\n",
       " 'BlueHDi FAP 100 Stop & Start Active',\n",
       " '1.6 e-HDi 112 CV ca. rob. S&S Active',\n",
       " ...]"
      ]
     },
     "execution_count": 1081,
     "metadata": {},
     "output_type": "execute_result"
    }
   ],
   "source": [
    "# To be more thorough, let's check if there are any words in the short description \n",
    "# that match the key-value pairs of the dictionary, as a precautionary measure.\n",
    "list(df.loc[df[df[\"entertainment_&_media\"].isnull()].index, \"short_description\"].unique())"
   ]
  },
  {
   "cell_type": "code",
   "execution_count": 1082,
   "metadata": {
    "ExecuteTime": {
     "end_time": "2024-02-28T21:27:23.124405Z",
     "start_time": "2024-02-28T21:27:23.111926Z"
    }
   },
   "outputs": [],
   "source": [
    "categorized_dict = {\n",
    "    'con_nect': [ # 'Digitalconnectivity',\n",
    "                      'Usb',\n",
    "                      'Bluetooth',\n",
    "                      'Cd Player', \n",
    "                      'Mp3',\n",
    "                      'On-Board Computer',                      \n",
    "                      'Digital Cockpit',\n",
    "                      'Hands-Free Equipment',\n",
    "                      'Digital Radio',                      \n",
    "                      'Induction Charging For Smartphones',\n",
    "                      'Integrated Music Streaming',\n",
    "                      'Wlan / Wifi Hotspot',\n",
    "                      'Radio'\n",
    "                     # 'Digital'\n",
    "    ],\n",
    "    \n",
    "    'entertainment': [\n",
    "                      'Television'\n",
    "    ],\n",
    "    \n",
    "    'sphone_integ': [\n",
    "                      'Android Auto',\n",
    "                      'Apple Carplay'\n",
    "    ],\n",
    "    \n",
    "    'sound_system': [\n",
    "                      'Sound System'\n",
    "    ]\n",
    "}"
   ]
  },
  {
   "cell_type": "code",
   "execution_count": 1083,
   "metadata": {
    "ExecuteTime": {
     "end_time": "2024-02-28T21:27:23.771867Z",
     "start_time": "2024-02-28T21:27:23.129471Z"
    }
   },
   "outputs": [
    {
     "name": "stdout",
     "output_type": "stream",
     "text": [
      "con_nect Usb: short_description\n",
      "False    4881\n",
      "Name: count, dtype: int64\n",
      "con_nect Bluetooth: short_description\n",
      "False    4863\n",
      "True       18\n",
      "Name: count, dtype: int64\n",
      "con_nect Cd Player: short_description\n",
      "False    4881\n",
      "Name: count, dtype: int64\n",
      "con_nect Mp3: short_description\n",
      "False    4881\n",
      "Name: count, dtype: int64\n",
      "con_nect On-Board Computer: short_description\n",
      "False    4881\n",
      "Name: count, dtype: int64\n",
      "con_nect Digital Cockpit: short_description\n",
      "False    4881\n",
      "Name: count, dtype: int64\n",
      "con_nect Hands-Free Equipment: short_description\n",
      "False    4881\n",
      "Name: count, dtype: int64\n",
      "con_nect Digital Radio: short_description\n",
      "False    4881\n",
      "Name: count, dtype: int64\n",
      "con_nect Induction Charging For Smartphones: short_description\n",
      "False    4881\n",
      "Name: count, dtype: int64\n",
      "con_nect Integrated Music Streaming: short_description\n",
      "False    4881\n",
      "Name: count, dtype: int64\n",
      "con_nect Wlan / Wifi Hotspot: short_description\n",
      "False    4881\n",
      "Name: count, dtype: int64\n",
      "con_nect Radio: short_description\n",
      "False    4879\n",
      "True        2\n",
      "Name: count, dtype: int64\n",
      "entertainment Television: short_description\n",
      "False    4881\n",
      "Name: count, dtype: int64\n",
      "sphone_integ Android Auto: short_description\n",
      "False    4881\n",
      "Name: count, dtype: int64\n",
      "sphone_integ Apple Carplay: short_description\n",
      "False    4880\n",
      "True        1\n",
      "Name: count, dtype: int64\n",
      "sound_system Sound System: short_description\n",
      "False    4881\n",
      "Name: count, dtype: int64\n"
     ]
    }
   ],
   "source": [
    "# Sure, let's query the key-value pairs of the dictionary in the short description.\n",
    "for category, keywords in categorized_dict.items():\n",
    "    for keyword in keywords:\n",
    "        result = df.loc[df[df[\"entertainment_&_media\"].isnull()].index, \"short_description\"].str.contains(f\"(?i){keyword}\")\n",
    "        print(f\"{category} {keyword}: {result.value_counts()}\")\n"
   ]
  },
  {
   "cell_type": "code",
   "execution_count": 1084,
   "metadata": {
    "ExecuteTime": {
     "end_time": "2024-02-28T21:27:23.796008Z",
     "start_time": "2024-02-28T21:27:23.779182Z"
    }
   },
   "outputs": [
    {
     "name": "stdout",
     "output_type": "stream",
     "text": [
      "Missing Values in 'entertainment_&_media':\n",
      "Count: 4973\n",
      "Percentage: 17.39%\n"
     ]
    }
   ],
   "source": [
    "handle_missing_values(df , \"entertainment_&_media\")"
   ]
  },
  {
   "cell_type": "code",
   "execution_count": null,
   "metadata": {
    "ExecuteTime": {
     "start_time": "2024-02-28T21:27:04.700Z"
    }
   },
   "outputs": [],
   "source": [
    "# FINAL CODE\n",
    "# For all rows where 'extras' is NaN and 'short_description' is not empty,\n",
    "# we are searching for ALL keywords.\n",
    "index_no = df.loc[df[\"entertainment_&_media\"].isnull() & df[\"short_description\"].notnull()].index\n",
    "\n",
    "for category, keywords in categorized_dict.items():\n",
    "    for keyword in keywords:\n",
    "        result_indices = index_no.intersection(df[df[\"short_description\"].str.lower().str.contains(keyword.lower(), na=False)].index)\n",
    "        df.loc[result_indices, \"entertainment_&_media\"] = df.loc[result_indices, \"entertainment_&_media\"].apply(lambda x: x + \", \" + category if pd.notnull(x) else category)\n"
   ]
  },
  {
   "cell_type": "code",
   "execution_count": null,
   "metadata": {
    "ExecuteTime": {
     "start_time": "2024-02-28T21:27:04.713Z"
    }
   },
   "outputs": [],
   "source": [
    "handle_missing_values(df , \"entertainment_&_media\")"
   ]
  },
  {
   "cell_type": "code",
   "execution_count": null,
   "metadata": {
    "ExecuteTime": {
     "start_time": "2024-02-28T21:27:04.730Z"
    },
    "run_control": {
     "marked": true
    }
   },
   "outputs": [],
   "source": [
    "# To prevent duplicates within a row, let's use a set.\n",
    "df[\"entertainment_&_media\"] = df[\"entertainment_&_media\"].apply(lambda x : \",\".join(set(x.replace(\" \",\"\").split(\",\"))) if type(x) == str else x)"
   ]
  },
  {
   "cell_type": "code",
   "execution_count": null,
   "metadata": {
    "ExecuteTime": {
     "start_time": "2024-02-28T21:27:04.762Z"
    }
   },
   "outputs": [],
   "source": [
    "handle_missing_values(df , \"entertainment_&_media\")"
   ]
  },
  {
   "cell_type": "code",
   "execution_count": null,
   "metadata": {
    "ExecuteTime": {
     "start_time": "2024-02-28T21:27:04.776Z"
    },
    "scrolled": true
   },
   "outputs": [],
   "source": [
    "df[\"entertainment_&_media\"].value_counts()"
   ]
  },
  {
   "cell_type": "code",
   "execution_count": null,
   "metadata": {
    "ExecuteTime": {
     "start_time": "2024-02-28T21:27:04.782Z"
    }
   },
   "outputs": [],
   "source": [
    "# After the groupby operation, how many NaN values do I have remaining?\n",
    "df['entertainment_&_media'].fillna(df.groupby(['make', 'type'])['entertainment_&_media'].transform(lambda x: x.mode()[0])).isnull().sum()"
   ]
  },
  {
   "cell_type": "code",
   "execution_count": null,
   "metadata": {
    "ExecuteTime": {
     "start_time": "2024-02-28T21:27:04.790Z"
    }
   },
   "outputs": [],
   "source": [
    "df[\"entertainment_&_media\"] = df['entertainment_&_media'].fillna(df.groupby(['make', 'type'])['entertainment_&_media'].transform(lambda x: x.mode()[0]))"
   ]
  },
  {
   "cell_type": "code",
   "execution_count": null,
   "metadata": {
    "ExecuteTime": {
     "start_time": "2024-02-28T21:27:04.815Z"
    }
   },
   "outputs": [],
   "source": [
    "handle_missing_values(df , \"entertainment_&_media\")"
   ]
  },
  {
   "cell_type": "code",
   "execution_count": null,
   "metadata": {
    "ExecuteTime": {
     "start_time": "2024-02-28T21:27:04.844Z"
    }
   },
   "outputs": [],
   "source": [
    "# IMPORTANT CODES BELOW"
   ]
  },
  {
   "cell_type": "code",
   "execution_count": null,
   "metadata": {
    "ExecuteTime": {
     "start_time": "2024-02-28T21:27:04.864Z"
    }
   },
   "outputs": [],
   "source": [
    "# FINAL CODE, THE ONE BEFORE THE LAST CODE\n",
    "\n",
    "# index_no = df.loc[df[\"entertainment_&_media\"].isnull() & df[\"short_description\"].notnull()].index\n",
    "\n",
    "# for category, keywords in categorized_dict.items():\n",
    "#     for keyword in keywords:\n",
    "#         result_indices = df.loc[index_no & df[\"short_description\"].str.lower().str.contains(keyword.lower())].index\n",
    "#         df.loc[result_indices, \"entertainment_&_media\"] = df.loc[result_indices, \"entertainment_&_media\"].apply(lambda x: x + \", \" + category if pd.notnull(x) else category)\n"
   ]
  },
  {
   "cell_type": "code",
   "execution_count": null,
   "metadata": {
    "ExecuteTime": {
     "start_time": "2024-02-28T21:27:04.870Z"
    }
   },
   "outputs": [],
   "source": [
    "# index_no = df.loc[df[\"entertainment_&_media\"].isnull() & df[\"short_description\"]].index\n",
    "\n",
    "# for category, keywords in categorized_dict.items():\n",
    "#     for keyword in keywords:\n",
    "#         result_indices = df.loc[index_no , \"short_description\"].apply(lambda x: keyword.lower() in x.lower()).index\n",
    "#         df.loc[result_indices, \"entertainment_&_media\"] = df.loc[result_indices, \"entertainment_&_media\"].apply(lambda x: x + \", \" + category if pd.notnull(x) else category)\n"
   ]
  },
  {
   "cell_type": "markdown",
   "metadata": {},
   "source": [
    "<a id=\"9\"></a>\n",
    "<div class=\"alert alert-info\" role=\"alert\">\n",
    "<h1>Column name :<span style=\"color:red\"> safety_&_security </span></h1>\n",
    "</div>\n",
    "\n",
    "<div class=\"alert alert-block alert-warning\">\n",
    "<b>Operation : </b> First, let's leverage <span style=\"color:red\"><b>the dictionary we created in Part 1  </b></span>to examine the short_description. If we find any matching values, let's <span style=\"color:red\"><b>replace </b></span> them with their corresponding keys. Then, <span style=\"color:red\"><b>to prevent duplicates </b></span>, let's convert the expressions within each row into sets and then retrieve them back. Since the <span style=\"color:red\"><b> \" Safety_&Security \"</b></span> column is related to <span style=\"color:red\"><b>\"body_type\" and \"gearbox\" </b></span>, we can fill the missing values using them. Additionally, we can fill the <span style=\"color:red\"><b>remaining values using the \"comfort&convenience\" column </b></span> and it would result in a more homogeneous distribution.\n",
    "</div>\n",
    "<a href=\"#toc\" class=\"btn btn-warning btn-lg active\" role=\"button\" aria-pressed=\"true\" style=\"color:black;\">Content</a>"
   ]
  },
  {
   "cell_type": "code",
   "execution_count": null,
   "metadata": {
    "ExecuteTime": {
     "start_time": "2024-02-28T21:27:04.876Z"
    },
    "run_control": {
     "marked": true
    }
   },
   "outputs": [],
   "source": [
    "first_looking(\"safety_&_security\")"
   ]
  },
  {
   "cell_type": "code",
   "execution_count": null,
   "metadata": {
    "ExecuteTime": {
     "start_time": "2024-02-28T21:27:04.881Z"
    }
   },
   "outputs": [],
   "source": [
    "# To be more thorough, let's check if there are any words in the short description \n",
    "# that match the key-value pairs of the dictionary, as a precautionary measure.\n",
    "list(df.loc[df[df[\"safety_&_security\"].isnull()].index, \"short_description\"].unique())"
   ]
  },
  {
   "cell_type": "code",
   "execution_count": null,
   "metadata": {
    "ExecuteTime": {
     "start_time": "2024-02-28T21:27:04.885Z"
    },
    "run_control": {
     "marked": true
    }
   },
   "outputs": [],
   "source": [
    "categories_safe = {\n",
    "    'safety_feature': [     'Abs', \n",
    "                        'Driver-Side Airbag',\n",
    "                        'Electronic Stability Control',\n",
    "                        'Traction Control', \n",
    "                        'Isofix', \n",
    "                        'Head Airbag', \n",
    "                        'Immobilizer', \n",
    "                        'Passenger-Side Airbag', \n",
    "                        'Side Airbag', \n",
    "                        'Emergency Brake Assistant', \n",
    "                        'Lane Departure Warning System', \n",
    "                        'Distance Warning System', \n",
    "                        'Driver Drowsiness Detection', \n",
    "                        'Rear Airbag'], # Safety Features\n",
    "    \n",
    "    'lighting_feature': [   'Bi-Xenon Headlights',                                                 \n",
    "                        'Fog Lights', \n",
    "                        'Led Daytime Running Lights', \n",
    "                        'Full-Led Headlights',                                               \n",
    "                        'Adaptive Headlights', \n",
    "                        'Led Headlights',  \n",
    "                        'Daytime Running Lights',\n",
    "                        'Xenon Headlights',\n",
    "                        'Laser Headlights'], # Lighting Features\n",
    "    \n",
    "    'conv_feature': [       'Central Door Lock With Remote Control',\n",
    "                        'Central Door Lock', \n",
    "                        'Power Steering',  \n",
    "                        'Alarm System', \n",
    "                        'Tire Pressure Monitoring System'], # Convenience Features\n",
    "    \n",
    "    'driver_feature': [     'Speed Limit Control System', \n",
    "                        'Traffic Sign Recognition', \n",
    "                        'Adaptive Cruise Control', \n",
    "                        'Blind Spot Monitor'], # Driver Assistance Features\n",
    "    \n",
    "    'other_feature': [      'Emergency System', \n",
    "                        'High Beam Assist', \n",
    "                        'Glare-Free High Beam Headlights', \n",
    "                        'Night View Assist'] # Other Features\n",
    "}\n",
    "# The overlapping expressions should be written in order of their length."
   ]
  },
  {
   "cell_type": "code",
   "execution_count": null,
   "metadata": {
    "ExecuteTime": {
     "start_time": "2024-02-28T21:27:04.920Z"
    }
   },
   "outputs": [],
   "source": [
    "# Sure, let's query the key-value pairs of the dictionary in the short description.\n",
    "for category, keywords in categories_safe.items():\n",
    "    for keyword in keywords:\n",
    "        result = df.loc[df[df[\"safety_&_security\"].isnull()].index, \"short_description\"].str.contains(f\"(?i){keyword}\")\n",
    "        print(f\"{category} {keyword}: {result.value_counts()}\")\n"
   ]
  },
  {
   "cell_type": "code",
   "execution_count": null,
   "metadata": {
    "ExecuteTime": {
     "start_time": "2024-02-28T21:27:04.948Z"
    }
   },
   "outputs": [],
   "source": [
    "# Because the \"Short_Description\" column does not contain any values that are present in the \"safety_security\" dictionary, \n",
    "# then we won't be able to utilize the dictionary in this case."
   ]
  },
  {
   "cell_type": "code",
   "execution_count": null,
   "metadata": {
    "ExecuteTime": {
     "start_time": "2024-02-28T21:27:04.961Z"
    }
   },
   "outputs": [],
   "source": [
    "# After the groupby operation, how many NaN values do I have remaining?\n",
    "df['safety_&_security'].fillna(df.groupby(['body_type', 'gearbox'])['safety_&_security'].transform(lambda x: x.mode()[0])).isnull().sum()"
   ]
  },
  {
   "cell_type": "code",
   "execution_count": null,
   "metadata": {
    "ExecuteTime": {
     "start_time": "2024-02-28T21:27:04.969Z"
    }
   },
   "outputs": [],
   "source": [
    "df[\"safety_&_security\"] = df['safety_&_security'].fillna(df.groupby(['body_type', 'gearbox'])['safety_&_security'].transform(lambda x: x.mode()[0]))"
   ]
  },
  {
   "cell_type": "code",
   "execution_count": null,
   "metadata": {
    "ExecuteTime": {
     "start_time": "2024-02-28T21:27:04.989Z"
    }
   },
   "outputs": [],
   "source": [
    "handle_missing_values(df , \"safety_&_security\")"
   ]
  },
  {
   "cell_type": "code",
   "execution_count": null,
   "metadata": {
    "ExecuteTime": {
     "start_time": "2024-02-28T21:27:05.024Z"
    }
   },
   "outputs": [],
   "source": [
    "# After the groupby operation, how many NaN values do I have remaining?\n",
    "df['safety_&_security'].fillna(df.groupby(['comfort_&_convenience'])['safety_&_security'].transform(lambda x: x.mode()[0])).isnull().sum()"
   ]
  },
  {
   "cell_type": "code",
   "execution_count": null,
   "metadata": {
    "ExecuteTime": {
     "start_time": "2024-02-28T21:27:05.032Z"
    }
   },
   "outputs": [],
   "source": [
    "df[\"safety_&_security\"] = df['safety_&_security'].fillna(df.groupby(['comfort_&_convenience'])['safety_&_security'].transform(lambda x: x.mode()[0]))"
   ]
  },
  {
   "cell_type": "code",
   "execution_count": null,
   "metadata": {
    "ExecuteTime": {
     "start_time": "2024-02-28T21:27:05.055Z"
    }
   },
   "outputs": [],
   "source": [
    "handle_missing_values(df , \"safety_&_security\")"
   ]
  },
  {
   "cell_type": "markdown",
   "metadata": {},
   "source": [
    "<a id=\"10\"></a>\n",
    "<div class=\"alert alert-info\" role=\"alert\">\n",
    "<h1>Column name :<span style=\"color:red\"> extras </span></h1>\n",
    "</div>\n",
    "\n",
    "<div class=\"alert alert-block alert-warning\">\n",
    "<b>Operation : </b> First, let's leverage <span style=\"color:red\"><b>the dictionary we created in Part 1  </b></span>to examine the short_description. If we find any matching values, let's <span style=\"color:red\"><b>replace </b></span> them with their corresponding keys. Then, <span style=\"color:red\"><b>to prevent duplicates </b></span>, let's convert the expressions within each row into sets and then retrieve them back. Also since the \"extras\" column is associated with <span style=\"color:red\"><b> \" body_type \", \" type \"</b></span> . let's fill in the <span style=\"color:red\"><b> NaN values</b></span> in this column by grouping the data based on these columns and performing the necessary operations. \n",
    "</div>\n",
    "<a href=\"#toc\" class=\"btn btn-warning btn-lg active\" role=\"button\" aria-pressed=\"true\" style=\"color:black;\">Content</a>"
   ]
  },
  {
   "cell_type": "code",
   "execution_count": null,
   "metadata": {
    "ExecuteTime": {
     "start_time": "2024-02-28T21:27:05.083Z"
    }
   },
   "outputs": [],
   "source": [
    "first_looking(\"extras\")"
   ]
  },
  {
   "cell_type": "code",
   "execution_count": null,
   "metadata": {
    "ExecuteTime": {
     "start_time": "2024-02-28T21:27:05.112Z"
    }
   },
   "outputs": [],
   "source": [
    "# To be more thorough, let's check if there are any words in the short description \n",
    "# that match the key-value pairs of the dictionary, as a precautionary measure.\n",
    "list(df.loc[df[df[\"extras\"].isnull()].index, \"short_description\"].unique())"
   ]
  },
  {
   "cell_type": "code",
   "execution_count": null,
   "metadata": {
    "ExecuteTime": {
     "start_time": "2024-02-28T21:27:05.123Z"
    }
   },
   "outputs": [],
   "source": [
    "categories_2 = {\n",
    "    'sport_trim': ['Sport Seats', \n",
    "                 'Sport Package', \n",
    "                 'Sport Suspension',\n",
    "                 'Shift Paddles', \n",
    "                 'Tuned Car'], # sport features\n",
    "    \n",
    "    'wheel': [    'Alloy Wheels \\(17\"\\)',\n",
    "                  'Alloy Wheels \\(19\"\\)', \n",
    "                  'Alloy Wheels \\(18\"\\)', \n",
    "                  'Alloy Wheels \\(16\"\\)', \n",
    "                  'Alloy Wheels \\(21\"\\)', \n",
    "                  'Alloy Wheels \\(20\"\\)', \n",
    "                  'Alloy Wheels \\(22\"\\)', \n",
    "                  'Alloy Wheels \\(23\"\\)',\n",
    "                  'Alloy Wheels \\(13\"\\)',\n",
    "                  'Alloy Wheels \\(26\"\\)', \n",
    "                  'Alloy Wheels \\(10\"\\)', \n",
    "                  'Alloy Wheels \\(14\"\\)',\n",
    "                  'Alloy Wheels \\(15\"\\)',                  \n",
    "                  'Steel Wheels',\n",
    "                  'Alloy Wheels',\n",
    "                  \n",
    "                  ], # wheels #'Alloy Wheels' \n",
    "                \n",
    "    \n",
    "    'accessory': ['Headlight Washer System', \n",
    "                   \"Smoker'S Package\", \n",
    "                   'Automatically Dimming Interior Mirror',\n",
    "                   'Voice Control', \n",
    "                   'Cargo Barrier', \n",
    "                   'Ski Bag', \n",
    "                   'Electronic Parking Brake', \n",
    "                   'Touch Screen',\n",
    "                   'Ambient Lighting', \n",
    "                   'Roof Rack', \n",
    "                   'Trailer Hitch',\n",
    "                   'Spoiler',\n",
    "                   'Handicapped Enabled',\n",
    "                   'Awning'], # extra accessories\n",
    "    \n",
    "    'tires': [    'Emergency Tyre Repair Kit', \n",
    "                  'Summer Tyres', \n",
    "                  'Winter Package', \n",
    "                  'Winter Tyres', \n",
    "                  'Emergency Tyre',\n",
    "                  'All Season Tyres',\n",
    "                  'Spare Tyre'\n",
    "                 ], # tires\n",
    "    \n",
    "    'other': [    'Catalytic Converter',\n",
    "                  'Sliding Door',\n",
    "                  'E10-Enabled',\n",
    "                  'Biodiesel Conversion',\n",
    "                  'Range Extender',\n",
    "                  'Right Hand Drive'\n",
    "                 ] # other features\n",
    "}\n",
    "# spor_ext 0, wheel_ext 1 , access_ext 1 \n"
   ]
  },
  {
   "cell_type": "code",
   "execution_count": null,
   "metadata": {
    "ExecuteTime": {
     "start_time": "2024-02-28T21:27:05.149Z"
    }
   },
   "outputs": [],
   "source": [
    "# Sure, let's query the key-value pairs of the dictionary in the short description.\n",
    "for category, keywords in categories_2.items():\n",
    "    for keyword in keywords:\n",
    "        result = df.loc[df[df[\"extras\"].isnull()].index, \"short_description\"].str.contains(f\"(?i){keyword}\")\n",
    "        print(f\"{category} {keyword}: {result.value_counts()}\")"
   ]
  },
  {
   "cell_type": "code",
   "execution_count": null,
   "metadata": {
    "ExecuteTime": {
     "start_time": "2024-02-28T21:27:05.188Z"
    }
   },
   "outputs": [],
   "source": [
    "# FINAL CODE\n",
    "# For all rows where 'extras' is NaN and 'short_description' is not empty,\n",
    "# we are searching for ALL keywords.\n",
    "\n",
    "index_no = df.loc[df[\"extras\"].isnull() & df[\"short_description\"].notnull()].index\n",
    "\n",
    "for category, keywords in categories_2.items():\n",
    "    for keyword in keywords:\n",
    "        result_indices = index_no.intersection(df[df[\"short_description\"].str.lower().str.contains(keyword.lower(), na=False)].index)\n",
    "        df.loc[result_indices, \"extras\"] = df.loc[result_indices, \"extras\"].apply(lambda x: x + \", \" + category if pd.notnull(x) else category)\n",
    "\n",
    "# Because the \"Short_Description\" column does not contain any values that are present in the \"safety_security\" dictionary, \n",
    "# then we won't be able to utilize the dictionary in this case."
   ]
  },
  {
   "cell_type": "code",
   "execution_count": null,
   "metadata": {
    "ExecuteTime": {
     "start_time": "2024-02-28T21:27:05.198Z"
    }
   },
   "outputs": [],
   "source": [
    "handle_missing_values(df , \"extras\")"
   ]
  },
  {
   "cell_type": "code",
   "execution_count": null,
   "metadata": {
    "ExecuteTime": {
     "start_time": "2024-02-28T21:27:05.205Z"
    },
    "run_control": {
     "marked": true
    }
   },
   "outputs": [],
   "source": [
    "df.columns"
   ]
  },
  {
   "cell_type": "code",
   "execution_count": null,
   "metadata": {
    "ExecuteTime": {
     "start_time": "2024-02-28T21:27:05.211Z"
    }
   },
   "outputs": [],
   "source": [
    "# After the groupby operation, how many NaN values do I have remaining?\n",
    "df['extras'].fillna(df.groupby(['body_type', 'type'])['extras'].transform(lambda x: x.mode()[0])).isnull().sum()"
   ]
  },
  {
   "cell_type": "code",
   "execution_count": null,
   "metadata": {
    "ExecuteTime": {
     "start_time": "2024-02-28T21:27:05.216Z"
    }
   },
   "outputs": [],
   "source": [
    "df[\"extras\"] = df['extras'].fillna(df.groupby(['body_type', 'type'])['extras'].transform(lambda x: x.mode()[0]))"
   ]
  },
  {
   "cell_type": "code",
   "execution_count": null,
   "metadata": {
    "ExecuteTime": {
     "start_time": "2024-02-28T21:27:05.226Z"
    }
   },
   "outputs": [],
   "source": [
    "handle_missing_values(df , \"extras\")"
   ]
  },
  {
   "cell_type": "markdown",
   "metadata": {},
   "source": [
    "<a id=\"11\"></a>\n",
    "<div class=\"alert alert-info\" role=\"alert\">\n",
    "<h1>Column name :<span style=\"color:red\"> seller </span></h1>\n",
    "</div>\n",
    "\n",
    "<div class=\"alert alert-block alert-warning\">\n",
    "<b>Operation : </b> Since the 'seller' column is fully populated, there is <span style=\"color:red\"><b>no need for any operation.</b>\n",
    "</div>\n",
    "<a href=\"#toc\" class=\"btn btn-warning btn-lg active\" role=\"button\" aria-pressed=\"true\" style=\"color:black;\">Content</a>"
   ]
  },
  {
   "cell_type": "code",
   "execution_count": null,
   "metadata": {
    "ExecuteTime": {
     "start_time": "2024-02-28T21:27:05.265Z"
    }
   },
   "outputs": [],
   "source": [
    "first_looking(\"seller\")"
   ]
  },
  {
   "cell_type": "markdown",
   "metadata": {},
   "source": [
    "<a id=\"12\"></a>\n",
    "<div class=\"alert alert-info\" role=\"alert\">\n",
    "<h1>Column name :<span style=\"color:red\"> seats </span></h1>\n",
    "</div>\n",
    "\n",
    "<div class=\"alert alert-block alert-warning\">\n",
    "<b>Operation : </b> To fill in the missing values in the \"seats\" column, we can use the \"short_description\" column . Since the \"seats\" column is associated with <span style=\"color:red\"><b> \" make \" \" model \" \" body_type \" and \" doors \"</b></span> . let's fill in the <span style=\"color:red\"><b> NaN values</b></span> in this column by grouping the data based on these columns and performing the necessary operations. \n",
    "</div>\n",
    "<a href=\"#toc\" class=\"btn btn-warning btn-lg active\" role=\"button\" aria-pressed=\"true\" style=\"color:black;\">Content</a>"
   ]
  },
  {
   "cell_type": "code",
   "execution_count": null,
   "metadata": {
    "ExecuteTime": {
     "start_time": "2024-02-28T21:27:05.292Z"
    }
   },
   "outputs": [],
   "source": [
    "first_looking(\"seats\")"
   ]
  },
  {
   "cell_type": "code",
   "execution_count": null,
   "metadata": {
    "ExecuteTime": {
     "start_time": "2024-02-28T21:27:05.302Z"
    },
    "scrolled": true
   },
   "outputs": [],
   "source": [
    "# Let's examine the short description of the seats\n",
    "list(df.loc[df[df[\"seats\"].isnull()].index, \"short_description\"])"
   ]
  },
  {
   "cell_type": "code",
   "execution_count": null,
   "metadata": {
    "ExecuteTime": {
     "start_time": "2024-02-28T21:27:05.347Z"
    }
   },
   "outputs": [],
   "source": [
    "# After the groupby operation, how many NaN values do I have remaining?\n",
    "\n",
    "df.groupby(['make_model', 'body_type'], group_keys = False)['seats'].transform(lambda x: x.fillna(x.mode()[0]) if len(x.mode()) > 0 else x).isnull().sum()"
   ]
  },
  {
   "cell_type": "code",
   "execution_count": null,
   "metadata": {
    "ExecuteTime": {
     "start_time": "2024-02-28T21:27:05.375Z"
    }
   },
   "outputs": [],
   "source": [
    "df[\"seats\"] = df.groupby(['make_model', 'body_type'], group_keys = False)['seats'].transform(lambda x: x.fillna(x.mode()[0]) if len(x.mode()) > 0 else x)"
   ]
  },
  {
   "cell_type": "code",
   "execution_count": null,
   "metadata": {
    "ExecuteTime": {
     "start_time": "2024-02-28T21:27:05.383Z"
    }
   },
   "outputs": [],
   "source": [
    "handle_missing_values(df , \"seats\")"
   ]
  },
  {
   "cell_type": "code",
   "execution_count": null,
   "metadata": {
    "ExecuteTime": {
     "start_time": "2024-02-28T21:27:05.420Z"
    }
   },
   "outputs": [],
   "source": [
    "# After the groupby operation, how many NaN values do I have remaining?\n",
    "\n",
    "df.groupby(['make_model'], group_keys = False)['seats'].transform(lambda x: x.fillna(x.mode()[0]) if len(x.mode()) > 0 else x).isnull().sum()"
   ]
  },
  {
   "cell_type": "code",
   "execution_count": null,
   "metadata": {
    "ExecuteTime": {
     "start_time": "2024-02-28T21:27:05.432Z"
    }
   },
   "outputs": [],
   "source": [
    "df[\"seats\"] = df.groupby(['make_model'], group_keys = False)['seats'].transform(lambda x: x.fillna(x.mode()[0]) if len(x.mode()) > 0 else x)"
   ]
  },
  {
   "cell_type": "code",
   "execution_count": null,
   "metadata": {
    "ExecuteTime": {
     "start_time": "2024-02-28T21:27:05.439Z"
    }
   },
   "outputs": [],
   "source": [
    "handle_missing_values(df , \"seats\")"
   ]
  },
  {
   "cell_type": "code",
   "execution_count": null,
   "metadata": {
    "ExecuteTime": {
     "start_time": "2024-02-28T21:27:05.445Z"
    },
    "run_control": {
     "marked": true
    }
   },
   "outputs": [],
   "source": [
    "df.groupby(['body_type'], group_keys = False)['seats'].transform(lambda x: x.fillna(x.mode()[0]) if len(x.mode()) > 0 else x).isnull().sum()"
   ]
  },
  {
   "cell_type": "code",
   "execution_count": null,
   "metadata": {
    "ExecuteTime": {
     "start_time": "2024-02-28T21:27:05.451Z"
    }
   },
   "outputs": [],
   "source": [
    "df.seats = df.groupby(['body_type'], group_keys = False)['seats'].transform(lambda x: x.fillna(x.mode()[0]) if len(x.mode()) > 0 else x)"
   ]
  },
  {
   "cell_type": "code",
   "execution_count": null,
   "metadata": {
    "ExecuteTime": {
     "start_time": "2024-02-28T21:27:05.485Z"
    }
   },
   "outputs": [],
   "source": [
    "handle_missing_values(df , \"seats\")"
   ]
  },
  {
   "cell_type": "code",
   "execution_count": null,
   "metadata": {
    "ExecuteTime": {
     "start_time": "2024-02-28T21:27:05.514Z"
    }
   },
   "outputs": [],
   "source": [
    "df.seats = df.seats.astype(int).astype(float)"
   ]
  },
  {
   "cell_type": "markdown",
   "metadata": {},
   "source": [
    "<a id=\"13\"></a>\n",
    "<div class=\"alert alert-info\" role=\"alert\">\n",
    "<h1>Column name :<span style=\"color:red\"> empty_weight </span></h1>\n",
    "</div>\n",
    "\n",
    "<div class=\"alert alert-block alert-warning\">\n",
    "<b>Operation : </b> To fill in the missing values in the \"empty_weight\" column, we can use the \"short_description\" column . Since the \"empty_weight\" column is associated with <span style=\"color:red\"><b> \" make \" \" model \" \" body_type \" and \" engine_size \"</b></span> . let's fill in the <span style=\"color:red\"><b> NaN values</b></span> in this column by grouping the data based on these columns and performing the necessary operations. \n",
    "</div>\n",
    "<a href=\"#toc\" class=\"btn btn-warning btn-lg active\" role=\"button\" aria-pressed=\"true\" style=\"color:black;\">Content</a>"
   ]
  },
  {
   "cell_type": "code",
   "execution_count": null,
   "metadata": {
    "ExecuteTime": {
     "start_time": "2024-02-28T21:27:05.528Z"
    }
   },
   "outputs": [],
   "source": [
    "first_looking(\"empty_weight\")"
   ]
  },
  {
   "cell_type": "code",
   "execution_count": null,
   "metadata": {
    "ExecuteTime": {
     "start_time": "2024-02-28T21:27:05.537Z"
    }
   },
   "outputs": [],
   "source": [
    "# Let's examine the short description of the seats\n",
    "list(df.loc[df[df[\"empty_weight\"].isnull()].index, \"short_description\"])"
   ]
  },
  {
   "cell_type": "code",
   "execution_count": null,
   "metadata": {
    "ExecuteTime": {
     "start_time": "2024-02-28T21:27:05.561Z"
    }
   },
   "outputs": [],
   "source": [
    "# After the groupby operation, how many NaN values do I have remaining?\n",
    "df['empty_weight'].fillna(df.groupby(['make', 'model', \"body_type\"])['empty_weight'].transform('mean')).isnull().sum()"
   ]
  },
  {
   "cell_type": "code",
   "execution_count": null,
   "metadata": {
    "ExecuteTime": {
     "start_time": "2024-02-28T21:27:05.587Z"
    }
   },
   "outputs": [],
   "source": [
    "df[\"empty_weight\"] = df['empty_weight'].fillna(df.groupby(['make', 'model', \"body_type\"])['empty_weight'].transform('mean'))"
   ]
  },
  {
   "cell_type": "code",
   "execution_count": null,
   "metadata": {
    "ExecuteTime": {
     "start_time": "2024-02-28T21:27:05.608Z"
    }
   },
   "outputs": [],
   "source": [
    "handle_missing_values(df , \"empty_weight\")"
   ]
  },
  {
   "cell_type": "code",
   "execution_count": null,
   "metadata": {
    "ExecuteTime": {
     "start_time": "2024-02-28T21:27:05.615Z"
    }
   },
   "outputs": [],
   "source": [
    "# After the groupby operation, how many NaN values do I have remaining?\n",
    "df['empty_weight'].fillna(df.groupby([\"engine_size\"])['empty_weight'].transform('mean')).isnull().sum()"
   ]
  },
  {
   "attachments": {
    "image.png": {
     "image/png": "[encoded data removed]"
    }
   },
   "cell_type": "markdown",
   "metadata": {},
   "source": [
    "![image.png](attachment:image.png)"
   ]
  },
  {
   "cell_type": "code",
   "execution_count": null,
   "metadata": {
    "ExecuteTime": {
     "start_time": "2024-02-28T21:27:05.641Z"
    }
   },
   "outputs": [],
   "source": [
    "df['empty_weight'] = df['empty_weight'].fillna(df.groupby([\"engine_size\"])['empty_weight'].transform('mean'))"
   ]
  },
  {
   "cell_type": "code",
   "execution_count": null,
   "metadata": {
    "ExecuteTime": {
     "start_time": "2024-02-28T21:27:05.659Z"
    }
   },
   "outputs": [],
   "source": [
    "handle_missing_values(df , \"empty_weight\")"
   ]
  },
  {
   "cell_type": "code",
   "execution_count": null,
   "metadata": {
    "ExecuteTime": {
     "start_time": "2024-02-28T21:27:05.689Z"
    }
   },
   "outputs": [],
   "source": [
    "# Let's fill the remaining NaN values using interpolate because they are spaced apart from each other.\n",
    "df[df['empty_weight'].fillna(df.groupby([\"engine_size\"])['empty_weight'].transform('mean')).isnull() == True].index"
   ]
  },
  {
   "attachments": {
    "image-2.png": {
     "image/png": "[encoded data removed]"
    }
   },
   "cell_type": "markdown",
   "metadata": {},
   "source": [
    "![image-2.png](attachment:image-2.png)"
   ]
  },
  {
   "cell_type": "code",
   "execution_count": null,
   "metadata": {
    "ExecuteTime": {
     "start_time": "2024-02-28T21:27:05.697Z"
    }
   },
   "outputs": [],
   "source": [
    "df['empty_weight'] = df['empty_weight'].interpolate()"
   ]
  },
  {
   "cell_type": "code",
   "execution_count": null,
   "metadata": {
    "ExecuteTime": {
     "start_time": "2024-02-28T21:27:05.711Z"
    }
   },
   "outputs": [],
   "source": [
    "handle_missing_values(df , \"empty_weight\")"
   ]
  },
  {
   "cell_type": "code",
   "execution_count": null,
   "metadata": {
    "ExecuteTime": {
     "start_time": "2024-02-28T21:27:05.737Z"
    },
    "scrolled": true
   },
   "outputs": [],
   "source": [
    "# a = df['empty_weight'].fillna(df.groupby(['make', 'model', \"body_type\"])['empty_weight'].transform(\"mean\"))\n",
    "# a"
   ]
  },
  {
   "cell_type": "code",
   "execution_count": null,
   "metadata": {
    "ExecuteTime": {
     "start_time": "2024-02-28T21:27:05.767Z"
    },
    "scrolled": false
   },
   "outputs": [],
   "source": [
    "# df[\"empty_weight\"].value_counts()\n",
    "# a.value_counts()\n",
    "# a.isnull().sum()\n",
    "# b = pd.concat([a, df[[\"model_code\", \"engine_size\", \"drivetrain\", \"body_type\"]]], axis = 1)\n",
    "# b\n",
    "# b['empty_weight'].fillna(b.groupby([\"engine_size\"])['empty_weight'].transform(\"mean\")).isnull().sum()\n"
   ]
  },
  {
   "cell_type": "markdown",
   "metadata": {},
   "source": [
    "<a id=\"38\"></a>\n",
    "<div class=\"alert alert-info\" role=\"alert\">\n",
    "<h1>Column name :<span style=\"color:red\"> gearbox </span></h1>\n",
    "</div>\n",
    "\n",
    "<div class=\"alert alert-block alert-warning\">\n",
    "<b>Operation : </b> Let's start by assigning the values we found in the <span style=\"color:red\"><b> short_description for the expressions </b></span> in the Gearbox, in order to eliminate the<span style=\"color:red\"><b> NaN values </b></span> . To fill in the missing values in the \"gear_box\" column, we can use the \"short_description\" column . Since the \"gear_box\" column is associated with <span style=\"color:red\"><b> \" make_model \" </b></span> . let's fill in the <span style=\"color:red\"><b> NaN values</b></span> in this column by grouping the data based on these columns and performing the necessary operations. \n",
    "</div>\n",
    "<a href=\"#toc\" class=\"btn btn-warning btn-lg active\" role=\"button\" aria-pressed=\"true\" style=\"color:black;\">Content</a>"
   ]
  },
  {
   "cell_type": "code",
   "execution_count": null,
   "metadata": {
    "ExecuteTime": {
     "start_time": "2024-02-28T21:27:05.776Z"
    }
   },
   "outputs": [],
   "source": [
    "first_looking(\"gearbox\")"
   ]
  },
  {
   "cell_type": "code",
   "execution_count": null,
   "metadata": {
    "ExecuteTime": {
     "start_time": "2024-02-28T21:27:05.782Z"
    },
    "scrolled": true
   },
   "outputs": [],
   "source": [
    "# Let's examine the short description of the seats\n",
    "list(df.loc[df[df[\"gearbox\"].isnull()].index, \"short_description\"])"
   ]
  },
  {
   "cell_type": "code",
   "execution_count": null,
   "metadata": {
    "ExecuteTime": {
     "start_time": "2024-02-28T21:27:05.810Z"
    }
   },
   "outputs": [],
   "source": [
    "df.loc[df[\"gearbox\"].isnull(), \"short_description\"].str.contains(\"(?i)Automatik|Automatica|Automati\").sum()\n"
   ]
  },
  {
   "cell_type": "code",
   "execution_count": null,
   "metadata": {
    "ExecuteTime": {
     "start_time": "2024-02-28T21:27:05.836Z"
    }
   },
   "outputs": [],
   "source": [
    "df.loc[df[df[\"gearbox\"].isnull()].index, \"short_description\"].str.contains(\"(?i)Manual\").sum()"
   ]
  },
  {
   "cell_type": "code",
   "execution_count": null,
   "metadata": {
    "ExecuteTime": {
     "start_time": "2024-02-28T21:27:05.858Z"
    }
   },
   "outputs": [],
   "source": [
    "# Let's retrieve the entries that contain \"Automatic\" and assign them the label \"Automatic\".\n",
    "\n",
    "# The expression \"(?i)\" in the code disables case sensitivity.\n",
    "automatic_gear = df.loc[df[\"gearbox\"].isnull(), \"short_description\"].str.contains(\"(?i)automatik|automatica|automati\")\n",
    "automatic_gear"
   ]
  },
  {
   "cell_type": "code",
   "execution_count": null,
   "metadata": {
    "ExecuteTime": {
     "start_time": "2024-02-28T21:27:05.865Z"
    }
   },
   "outputs": [],
   "source": [
    "# Let's retrieve the indices of the ones that return True.\n",
    "automatic_index = automatic_gear[automatic_gear == True].index"
   ]
  },
  {
   "cell_type": "code",
   "execution_count": null,
   "metadata": {
    "ExecuteTime": {
     "start_time": "2024-02-28T21:27:05.899Z"
    }
   },
   "outputs": [],
   "source": [
    "# After the this operation, how many NaN values do I have filling?\n",
    "automatic_gear[automatic_gear == True].count()"
   ]
  },
  {
   "cell_type": "code",
   "execution_count": null,
   "metadata": {
    "ExecuteTime": {
     "start_time": "2024-02-28T21:27:05.928Z"
    }
   },
   "outputs": [],
   "source": [
    "# Now let's assign \"Automatic\" to the indices we obtained.\n",
    "df.loc[automatic_index, \"gearbox\"] = \"Automatic\""
   ]
  },
  {
   "cell_type": "code",
   "execution_count": null,
   "metadata": {
    "ExecuteTime": {
     "start_time": "2024-02-28T21:27:05.941Z"
    },
    "scrolled": false
   },
   "outputs": [],
   "source": [
    "handle_missing_values(df , \"gearbox\")"
   ]
  },
  {
   "cell_type": "code",
   "execution_count": null,
   "metadata": {
    "ExecuteTime": {
     "start_time": "2024-02-28T21:27:05.948Z"
    }
   },
   "outputs": [],
   "source": [
    "# Let's retrieve the entries that contain \"Automatic\" and assign them the label \"Automatic\".\n",
    "\n",
    "# The expression \"(?i)\" in the code disables case sensitivity.\n",
    "\n",
    "manual_gear  = df.loc[df[df[\"gearbox\"].isnull()].index, \"short_description\"].str.contains(\"(?i)Manual\")\n",
    "manual_gear"
   ]
  },
  {
   "cell_type": "code",
   "execution_count": null,
   "metadata": {
    "ExecuteTime": {
     "start_time": "2024-02-28T21:27:05.973Z"
    }
   },
   "outputs": [],
   "source": [
    "# Let's retrieve the indices of the ones that return True.\n",
    "manual_index = manual_gear[manual_gear == True].index"
   ]
  },
  {
   "cell_type": "code",
   "execution_count": null,
   "metadata": {
    "ExecuteTime": {
     "start_time": "2024-02-28T21:27:05.992Z"
    }
   },
   "outputs": [],
   "source": [
    "# After the this operation, how many NaN values do I have filling?\n",
    "manual_gear[manual_gear == True].count()"
   ]
  },
  {
   "cell_type": "code",
   "execution_count": null,
   "metadata": {
    "ExecuteTime": {
     "start_time": "2024-02-28T21:27:06.024Z"
    }
   },
   "outputs": [],
   "source": [
    "# Now let's assign \"Manual\" to the indices we obtained.\n",
    "df.loc[manual_index, \"gearbox\"] = \"Manual\""
   ]
  },
  {
   "cell_type": "code",
   "execution_count": null,
   "metadata": {
    "ExecuteTime": {
     "start_time": "2024-02-28T21:27:06.031Z"
    }
   },
   "outputs": [],
   "source": [
    "handle_missing_values(df , \"gearbox\")"
   ]
  },
  {
   "cell_type": "code",
   "execution_count": null,
   "metadata": {
    "ExecuteTime": {
     "start_time": "2024-02-28T21:27:06.061Z"
    }
   },
   "outputs": [],
   "source": [
    "# After the groupby operation, how many NaN values do I have remaining?\n",
    "df.groupby([\"make_model\"])[\"gearbox\"].transform(lambda x: x.mode()[0]).isnull().sum()"
   ]
  },
  {
   "cell_type": "code",
   "execution_count": null,
   "metadata": {
    "ExecuteTime": {
     "start_time": "2024-02-28T21:27:06.096Z"
    }
   },
   "outputs": [],
   "source": [
    "# after of implementation model and first_Registration. The non-null data is cosidered as sufficient to fill na full types.\n",
    "df.gearbox = df.gearbox.fillna(df.groupby(\"make_model\")[\"gearbox\"].transform(lambda x: x.mode()[0]))\n",
    "df.gearbox.value_counts()"
   ]
  },
  {
   "cell_type": "code",
   "execution_count": null,
   "metadata": {
    "ExecuteTime": {
     "start_time": "2024-02-28T21:27:06.111Z"
    }
   },
   "outputs": [],
   "source": [
    "handle_missing_values(df , \"gearbox\")"
   ]
  },
  {
   "cell_type": "markdown",
   "metadata": {},
   "source": [
    "<a id=\"14\"></a>\n",
    "<div class=\"alert alert-info\" role=\"alert\">\n",
    "<h1>Column name :<span style=\"color:red\"> fuel_type </span></h1>\n",
    "</div>\n",
    "\n",
    "<div class=\"alert alert-block alert-warning\">\n",
    "<b>Operation : </b> To fill in the missing values in the \"fuel_type\" column, we can use the \"short_description\" column . Since the \"fuel_type\" column is associated with <span style=\"color:red\"><b> \" make \" and \" body_type </b></span> . let's fill in the <span style=\"color:red\"><b> NaN values</b></span> in this column by grouping the data based on these columns and performing the necessary operations. \n",
    "</div>\n",
    "<a href=\"#toc\" class=\"btn btn-warning btn-lg active\" role=\"button\" aria-pressed=\"true\" style=\"color:black;\">Content</a>"
   ]
  },
  {
   "cell_type": "code",
   "execution_count": null,
   "metadata": {
    "ExecuteTime": {
     "start_time": "2024-02-28T21:27:06.124Z"
    },
    "scrolled": true
   },
   "outputs": [],
   "source": [
    "first_looking(\"fuel_type\")"
   ]
  },
  {
   "cell_type": "code",
   "execution_count": null,
   "metadata": {
    "ExecuteTime": {
     "start_time": "2024-02-28T21:27:06.166Z"
    }
   },
   "outputs": [],
   "source": [
    "df.loc[df[\"fuel_type\"].isnull(), \"short_description\"].str.contains(\"(?i)[h]+.br|twin|plug\").sum()\n"
   ]
  },
  {
   "cell_type": "code",
   "execution_count": null,
   "metadata": {
    "ExecuteTime": {
     "start_time": "2024-02-28T21:27:06.195Z"
    }
   },
   "outputs": [],
   "source": [
    "# Let's retrieve the entries that contain \"Hyrib, hbr \" and assign them the label \"Hybrid\".\n",
    "\n",
    "# The expression \"(?i)\" in the code disables case sensitivity.\n",
    "hybrid_type = df.loc[df[\"fuel_type\"].isnull(), \"short_description\"].str.contains(\"(?i)h.*br|twin|plug\")\n",
    "hybrid_type"
   ]
  },
  {
   "cell_type": "code",
   "execution_count": null,
   "metadata": {
    "ExecuteTime": {
     "start_time": "2024-02-28T21:27:06.202Z"
    }
   },
   "outputs": [],
   "source": [
    "# Let's retrieve the indices of the ones that return True.\n",
    "hybrid_index = hybrid_type[hybrid_type == True].index"
   ]
  },
  {
   "cell_type": "code",
   "execution_count": null,
   "metadata": {
    "ExecuteTime": {
     "start_time": "2024-02-28T21:27:06.208Z"
    }
   },
   "outputs": [],
   "source": [
    "# After the this operation, how many NaN values do I have filling?\n",
    "hybrid_type[hybrid_type == True].count()"
   ]
  },
  {
   "cell_type": "code",
   "execution_count": null,
   "metadata": {
    "ExecuteTime": {
     "start_time": "2024-02-28T21:27:06.213Z"
    }
   },
   "outputs": [],
   "source": [
    "# Now let's assign \"Hybrid\" to the indices we obtained.\n",
    "df.loc[hybrid_index, \"fuel_type\"] = \"Hybrid\""
   ]
  },
  {
   "cell_type": "code",
   "execution_count": null,
   "metadata": {
    "ExecuteTime": {
     "start_time": "2024-02-28T21:27:06.227Z"
    },
    "scrolled": false
   },
   "outputs": [],
   "source": [
    "handle_missing_values(df , \"fuel_type\")"
   ]
  },
  {
   "cell_type": "code",
   "execution_count": null,
   "metadata": {
    "ExecuteTime": {
     "start_time": "2024-02-28T21:27:06.257Z"
    }
   },
   "outputs": [],
   "source": [
    "# df.loc[df[df[\"fuel_type\"].isnull()].index, \"short_description\"].str.contains(\"kwh|kw|elect+\").notnull().sum()"
   ]
  },
  {
   "cell_type": "code",
   "execution_count": null,
   "metadata": {
    "ExecuteTime": {
     "start_time": "2024-02-28T21:27:06.290Z"
    }
   },
   "outputs": [],
   "source": [
    "# Let's retrieve the entries that contain \"Automatic\" and assign them the label \"Automatic\".\n",
    "\n",
    "# The expression \"(?i)\" in the code disables case sensitivity.\n",
    "electric_type = df.loc[df[\"fuel_type\"].isnull(), \"short_description\"].str.contains(\"(?i)kwh|kw|elect+\")\n",
    "electric_type"
   ]
  },
  {
   "cell_type": "code",
   "execution_count": null,
   "metadata": {
    "ExecuteTime": {
     "start_time": "2024-02-28T21:27:06.300Z"
    }
   },
   "outputs": [],
   "source": [
    "# Let's retrieve the indices of the ones that return True.\n",
    "electric_index = electric_type[electric_type == True].index"
   ]
  },
  {
   "cell_type": "code",
   "execution_count": null,
   "metadata": {
    "ExecuteTime": {
     "start_time": "2024-02-28T21:27:06.344Z"
    }
   },
   "outputs": [],
   "source": [
    "# After the this operation, how many NaN values do I have filling?\n",
    "electric_type[electric_type == True].count()"
   ]
  },
  {
   "cell_type": "code",
   "execution_count": null,
   "metadata": {
    "ExecuteTime": {
     "start_time": "2024-02-28T21:27:06.353Z"
    }
   },
   "outputs": [],
   "source": [
    "# Now let's assign \"Automatic\" to the indices we obtained.\n",
    "df.loc[electric_index, \"fuel_type\"] = \"Electric\""
   ]
  },
  {
   "cell_type": "code",
   "execution_count": null,
   "metadata": {
    "ExecuteTime": {
     "start_time": "2024-02-28T21:27:06.359Z"
    }
   },
   "outputs": [],
   "source": [
    "handle_missing_values(df , \"fuel_type\")"
   ]
  },
  {
   "cell_type": "code",
   "execution_count": null,
   "metadata": {
    "ExecuteTime": {
     "start_time": "2024-02-28T21:27:06.365Z"
    }
   },
   "outputs": [],
   "source": [
    "# After the groupby operation, how many NaN values do I have remaining?\n",
    "df.groupby([\"body_type\", \"make\"])[\"fuel_type\"].transform(lambda x: x.mode()[0]).isnull().sum()"
   ]
  },
  {
   "cell_type": "code",
   "execution_count": null,
   "metadata": {
    "ExecuteTime": {
     "start_time": "2024-02-28T21:27:06.392Z"
    }
   },
   "outputs": [],
   "source": [
    "# after of implementation model and first_Registration. The non-null data is cosidered as sufficient to fill na full types.\n",
    "df.fuel_type = df.fuel_type.fillna(df.groupby([\"body_type\", \"make\"])[\"fuel_type\"].transform(lambda x: x.mode()[0]))"
   ]
  },
  {
   "cell_type": "code",
   "execution_count": null,
   "metadata": {
    "ExecuteTime": {
     "start_time": "2024-02-28T21:27:06.406Z"
    }
   },
   "outputs": [],
   "source": [
    "handle_missing_values(df , \"fuel_type\")"
   ]
  },
  {
   "cell_type": "markdown",
   "metadata": {},
   "source": [
    "<a id=\"15\"></a>\n",
    "<div class=\"alert alert-info\" role=\"alert\">\n",
    "<h1>Column name :<span style=\"color:red\"> Gears </span></h1>\n",
    "</div>\n",
    "\n",
    "<div class=\"alert alert-block alert-warning\">\n",
    "<b>Operation : </b> To fill in the missing values in the \"gears\" column, we can use the \"short_description\" column . Let's retrieve the entries that contain <span style=\"color:red\"><b>\" 7-G, 7G, 7G , 7G- ... \" </b></span> and assign them the label . Since the \"gears\" column is associated with <span style=\"color:red\"><b>  \" body_type \" and \" gearbox \"</b></span> . let's fill in the <span style=\"color:red\"><b> NaN values</b></span> in this column by grouping the data based on these columns and performing the necessary operations. \n",
    "</div>\n",
    "<a href=\"#toc\" class=\"btn btn-warning btn-lg active\" role=\"button\" aria-pressed=\"true\" style=\"color:black;\">Content</a>"
   ]
  },
  {
   "cell_type": "code",
   "execution_count": null,
   "metadata": {
    "ExecuteTime": {
     "start_time": "2024-02-28T21:27:06.439Z"
    }
   },
   "outputs": [],
   "source": [
    "first_looking(\"gears\")"
   ]
  },
  {
   "cell_type": "code",
   "execution_count": null,
   "metadata": {
    "ExecuteTime": {
     "start_time": "2024-02-28T21:27:06.447Z"
    }
   },
   "outputs": [],
   "source": [
    "#7G, 7-G"
   ]
  },
  {
   "cell_type": "code",
   "execution_count": null,
   "metadata": {
    "ExecuteTime": {
     "start_time": "2024-02-28T21:27:06.472Z"
    }
   },
   "outputs": [],
   "source": [
    "# Let's examine the short description of the seats\n",
    "list(df.loc[df[df[\"gears\"].isnull()].index, \"short_description\"])"
   ]
  },
  {
   "cell_type": "code",
   "execution_count": null,
   "metadata": {
    "ExecuteTime": {
     "start_time": "2024-02-28T21:27:06.492Z"
    }
   },
   "outputs": [],
   "source": [
    "handle_missing_values(df , \"gears\")"
   ]
  },
  {
   "cell_type": "code",
   "execution_count": null,
   "metadata": {
    "ExecuteTime": {
     "start_time": "2024-02-28T21:27:06.519Z"
    }
   },
   "outputs": [],
   "source": [
    "# Let's retrieve the entries that contain \"7-G, 7G, 7G , 7G-\" and assign them the label .\n",
    "\n",
    "# The expression \"(?i)\" in the code disables case sensitivity.\n",
    "\n",
    "found_gears  = df.loc[df[df[\"gears\"].isnull()].index, \"short_description\"].str.extract(\"(\\d{1,2})[-]*G[ +-]\").astype(float)\n",
    "found_gears.value_counts()"
   ]
  },
  {
   "cell_type": "code",
   "execution_count": null,
   "metadata": {
    "ExecuteTime": {
     "start_time": "2024-02-28T21:27:06.525Z"
    }
   },
   "outputs": [],
   "source": [
    "found_gears = found_gears.dropna()"
   ]
  },
  {
   "cell_type": "code",
   "execution_count": null,
   "metadata": {
    "ExecuteTime": {
     "start_time": "2024-02-28T21:27:06.531Z"
    }
   },
   "outputs": [],
   "source": [
    "# found_gears.values.tolist()"
   ]
  },
  {
   "cell_type": "code",
   "execution_count": null,
   "metadata": {
    "ExecuteTime": {
     "start_time": "2024-02-28T21:27:06.559Z"
    }
   },
   "outputs": [],
   "source": [
    "handle_missing_values(df , \"gears\")"
   ]
  },
  {
   "cell_type": "code",
   "execution_count": null,
   "metadata": {
    "ExecuteTime": {
     "start_time": "2024-02-28T21:27:06.589Z"
    }
   },
   "outputs": [],
   "source": [
    "# After the this operation, how many NaN values do I have filling?\n",
    "found_gears[found_gears.notnull()].count()"
   ]
  },
  {
   "cell_type": "code",
   "execution_count": null,
   "metadata": {
    "ExecuteTime": {
     "start_time": "2024-02-28T21:27:06.604Z"
    }
   },
   "outputs": [],
   "source": [
    "df.loc[found_gears.index , \"gears\"] = found_gears.values.tolist()"
   ]
  },
  {
   "cell_type": "code",
   "execution_count": null,
   "metadata": {
    "ExecuteTime": {
     "start_time": "2024-02-28T21:27:06.611Z"
    },
    "scrolled": false
   },
   "outputs": [],
   "source": [
    "handle_missing_values(df , \"gears\")"
   ]
  },
  {
   "cell_type": "code",
   "execution_count": null,
   "metadata": {
    "ExecuteTime": {
     "start_time": "2024-02-28T21:27:06.621Z"
    }
   },
   "outputs": [],
   "source": [
    "# After the groupby operation, how many NaN values do I have remaining?\n",
    "df.groupby([\"gearbox\", \"body_type\"])[\"gears\"].transform(lambda x: x.mode()[0]).isnull().sum()"
   ]
  },
  {
   "cell_type": "code",
   "execution_count": null,
   "metadata": {
    "ExecuteTime": {
     "start_time": "2024-02-28T21:27:06.644Z"
    }
   },
   "outputs": [],
   "source": [
    "df['gears'].fillna(df.groupby([\"gearbox\", \"body_type\"])[\"gears\"].transform(lambda x: x.mode()[0]), inplace = True)"
   ]
  },
  {
   "cell_type": "code",
   "execution_count": null,
   "metadata": {
    "ExecuteTime": {
     "start_time": "2024-02-28T21:27:06.674Z"
    }
   },
   "outputs": [],
   "source": [
    "handle_missing_values(df , \"gears\")"
   ]
  },
  {
   "cell_type": "markdown",
   "metadata": {},
   "source": [
    "<a id=\"16\"></a>\n",
    "<div class=\"alert alert-info\" role=\"alert\">\n",
    "<h1>Column name :<span style=\"color:red\"> first_registration </span></h1>\n",
    "</div>\n",
    "\n",
    "<div class=\"alert alert-block alert-warning\">\n",
    "<b>Operation : </b> To fill in the missing values in the \"first_registration\" column, we can use the \"short_description\" column . Since the \"first_registration\" column is associated with <span style=\"color:red\"><b> \" make \" and \" model \"</b></span> . let's fill in the <span style=\"color:red\"><b> NaN values</b></span> in this column by grouping the data based on these columns and performing the necessary operations. \n",
    "</div>\n",
    "<a href=\"#toc\" class=\"btn btn-warning btn-lg active\" role=\"button\" aria-pressed=\"true\" style=\"color:black;\">Content</a>"
   ]
  },
  {
   "cell_type": "code",
   "execution_count": null,
   "metadata": {
    "ExecuteTime": {
     "start_time": "2024-02-28T21:27:06.691Z"
    }
   },
   "outputs": [],
   "source": [
    "first_looking(\"first_registration\")"
   ]
  },
  {
   "cell_type": "code",
   "execution_count": null,
   "metadata": {
    "ExecuteTime": {
     "start_time": "2024-02-28T21:27:06.699Z"
    }
   },
   "outputs": [],
   "source": [
    "# After the groupby operation, how many NaN values do I have remaining?\n",
    "df['first_registration'].fillna(df.groupby(['make', 'model'])['first_registration'].transform(lambda x: x.mode()[0])).isnull().sum()"
   ]
  },
  {
   "cell_type": "code",
   "execution_count": null,
   "metadata": {
    "ExecuteTime": {
     "start_time": "2024-02-28T21:27:06.725Z"
    }
   },
   "outputs": [],
   "source": [
    "# groups of nan values have sufficient non-null data to create insight for null values.\n",
    "# Since number of Nan values in First_Registration  is two. Nan values are identified according to Make and Model columns and fillna implemented.\n",
    "df['first_registration'].fillna(df.groupby(['make', 'model'])['first_registration'].transform(lambda x: x.mode()[0]), inplace = True)"
   ]
  },
  {
   "cell_type": "code",
   "execution_count": null,
   "metadata": {
    "ExecuteTime": {
     "start_time": "2024-02-28T21:27:06.747Z"
    }
   },
   "outputs": [],
   "source": [
    "handle_missing_values(df , \"first_registration\")"
   ]
  },
  {
   "cell_type": "code",
   "execution_count": null,
   "metadata": {
    "ExecuteTime": {
     "start_time": "2024-02-28T21:27:06.770Z"
    }
   },
   "outputs": [],
   "source": [
    "df.first_registration.value_counts()"
   ]
  },
  {
   "cell_type": "code",
   "execution_count": null,
   "metadata": {
    "ExecuteTime": {
     "start_time": "2024-02-28T21:27:06.777Z"
    }
   },
   "outputs": [],
   "source": [
    "df[(df[\"make_model\"] == \"Renault Clio\") & (df[\"body_type\"] == \"Sedan\")& (df[\"gears\"] == 6.0) &(df[\"gearbox\"] == \"Manual\") ][\"first_registration\"].unique()"
   ]
  },
  {
   "cell_type": "code",
   "execution_count": null,
   "metadata": {
    "ExecuteTime": {
     "start_time": "2024-02-28T21:27:06.786Z"
    }
   },
   "outputs": [],
   "source": [
    "df[df.first_registration == 2202.0][[\"make_model\",\"body_type\", \"gears\", \"gearbox\"]]"
   ]
  },
  {
   "cell_type": "code",
   "execution_count": null,
   "metadata": {
    "ExecuteTime": {
     "start_time": "2024-02-28T21:27:06.820Z"
    }
   },
   "outputs": [],
   "source": [
    "# Although we attempt to reduce the data, we cannot make a precise comment about the value entered as 2202 in this context.\n",
    "# Let's drop this index"
   ]
  },
  {
   "cell_type": "code",
   "execution_count": null,
   "metadata": {
    "ExecuteTime": {
     "start_time": "2024-02-28T21:27:06.852Z"
    }
   },
   "outputs": [],
   "source": [
    "df = df.drop(index = 7508)"
   ]
  },
  {
   "cell_type": "code",
   "execution_count": null,
   "metadata": {
    "ExecuteTime": {
     "start_time": "2024-02-28T21:27:06.880Z"
    },
    "run_control": {
     "marked": true
    }
   },
   "outputs": [],
   "source": [
    "selected_columns = ['price', 'make_model', 'model', 'first_registration', 'engine_size', 'model_code']\n",
    "filters = {'make_model', 'body_type', 'gearbox', 'gears', 'engine_size' }\n",
    "select_rows(df, selected_columns, filters )"
   ]
  },
  {
   "cell_type": "markdown",
   "metadata": {},
   "source": [
    "<a id=\"17\"></a>\n",
    "<div class=\"alert alert-info\" role=\"alert\">\n",
    "<h1>Column name :<span style=\"color:red\"> doors </span></h1>\n",
    "</div>\n",
    "\n",
    "<div class=\"alert alert-block alert-warning\">\n",
    "<b>Operation : </b> To fill in the missing values in the \"doors\" column, we can use the \"short_description\" column . Since the \"doors\" column is associated with <span style=\"color:red\"><b> \" body_type \"</b></span> . let's fill in the <span style=\"color:red\"><b> NaN values</b></span> in this column by grouping the data based on these columns and performing the necessary operations. \n",
    "</div>\n",
    "<a href=\"#toc\" class=\"btn btn-warning btn-lg active\" role=\"button\" aria-pressed=\"true\" style=\"color:black;\">Content</a>"
   ]
  },
  {
   "cell_type": "code",
   "execution_count": null,
   "metadata": {
    "ExecuteTime": {
     "start_time": "2024-02-28T21:27:06.902Z"
    }
   },
   "outputs": [],
   "source": [
    "first_looking(\"doors\")"
   ]
  },
  {
   "cell_type": "code",
   "execution_count": null,
   "metadata": {
    "ExecuteTime": {
     "start_time": "2024-02-28T21:27:06.939Z"
    }
   },
   "outputs": [],
   "source": [
    "# Let's examine the short description of the seats\n",
    "list(df.loc[df[df[\"doors\"].isnull()].index, \"short_description\"])"
   ]
  },
  {
   "cell_type": "code",
   "execution_count": null,
   "metadata": {
    "ExecuteTime": {
     "start_time": "2024-02-28T21:27:06.949Z"
    }
   },
   "outputs": [],
   "source": [
    "df.doors.value_counts()"
   ]
  },
  {
   "cell_type": "code",
   "execution_count": null,
   "metadata": {
    "ExecuteTime": {
     "start_time": "2024-02-28T21:27:06.957Z"
    }
   },
   "outputs": [],
   "source": [
    " df.groupby([\"body_type\"])[\"doors\"].transform(lambda x: x.fillna(x.mode()[0])).value_counts()"
   ]
  },
  {
   "cell_type": "code",
   "execution_count": null,
   "metadata": {
    "ExecuteTime": {
     "start_time": "2024-02-28T21:27:06.966Z"
    }
   },
   "outputs": [],
   "source": [
    "# After the groupby operation, how many NaN values do I have remaining?\n",
    "df.groupby([\"body_type\"])[\"doors\"].transform(lambda x: x.fillna(x.mode()[0])).isnull().sum()"
   ]
  },
  {
   "cell_type": "code",
   "execution_count": null,
   "metadata": {
    "ExecuteTime": {
     "start_time": "2024-02-28T21:27:07.006Z"
    }
   },
   "outputs": [],
   "source": [
    "df['doors'].fillna(df.groupby([ \"body_type\"])[\"doors\"].transform(lambda x: x.mode()[0]), inplace = True)"
   ]
  },
  {
   "cell_type": "code",
   "execution_count": null,
   "metadata": {
    "ExecuteTime": {
     "start_time": "2024-02-28T21:27:07.016Z"
    }
   },
   "outputs": [],
   "source": [
    "handle_missing_values(df , \"doors\")"
   ]
  },
  {
   "cell_type": "markdown",
   "metadata": {},
   "source": [
    "<a id=\"18\"></a>\n",
    "<div class=\"alert alert-info\" role=\"alert\">\n",
    "<h1>Column name :<span style=\"color:red\"> drivetrain </span></h1>\n",
    "</div>\n",
    "\n",
    "<div class=\"alert alert-block alert-warning\">\n",
    "<b>Operation : </b> To fill in the missing values in the \"drivetrain\" column, we can use the \"short_description\" column . Since the \"drivetrain\" column is associated with <span style=\"color:red\"><b> \" body_type \" and \" gearbox \"</b></span> . let's fill in the <span style=\"color:red\"><b> NaN values</b></span> in this column by grouping the data based on these columns and performing the necessary operations. \n",
    "</div>\n",
    "<a href=\"#toc\" class=\"btn btn-warning btn-lg active\" role=\"button\" aria-pressed=\"true\" style=\"color:black;\">Content</a>"
   ]
  },
  {
   "cell_type": "code",
   "execution_count": null,
   "metadata": {
    "ExecuteTime": {
     "start_time": "2024-02-28T21:27:07.026Z"
    },
    "scrolled": true
   },
   "outputs": [],
   "source": [
    "first_looking(\"drivetrain\")"
   ]
  },
  {
   "cell_type": "code",
   "execution_count": null,
   "metadata": {
    "ExecuteTime": {
     "start_time": "2024-02-28T21:27:07.034Z"
    }
   },
   "outputs": [],
   "source": [
    "df.columns"
   ]
  },
  {
   "cell_type": "code",
   "execution_count": null,
   "metadata": {
    "ExecuteTime": {
     "start_time": "2024-02-28T21:27:07.065Z"
    },
    "scrolled": true
   },
   "outputs": [],
   "source": [
    "# Let's examine the short description of the seats\n",
    "list(df.loc[df[df[\"drivetrain\"].isnull()].index, \"short_description\"])"
   ]
  },
  {
   "cell_type": "code",
   "execution_count": null,
   "metadata": {
    "ExecuteTime": {
     "start_time": "2024-02-28T21:27:07.082Z"
    }
   },
   "outputs": [],
   "source": [
    "df.loc[df[df[\"drivetrain\"].isnull()].index, \"short_description\"].str.contains(\"4[ -]*Matic\", case = False).value_counts()"
   ]
  },
  {
   "cell_type": "code",
   "execution_count": null,
   "metadata": {
    "ExecuteTime": {
     "start_time": "2024-02-28T21:27:07.112Z"
    }
   },
   "outputs": [],
   "source": [
    "# Let's retrieve the entries that contain \"Hyrib, hbr \" and assign them the label \"Hybrid\".\n",
    "\n",
    "# The expression \"(?i)\" in the code disables case sensitivity.\n",
    "\n",
    "matic_train  = df.loc[df[df[\"drivetrain\"].isnull()].index, \"short_description\"].str.contains(\"4[ -]*Matic\", case = False)\n",
    "matic_train"
   ]
  },
  {
   "cell_type": "code",
   "execution_count": null,
   "metadata": {
    "ExecuteTime": {
     "start_time": "2024-02-28T21:27:07.122Z"
    }
   },
   "outputs": [],
   "source": [
    "# Let's retrieve the indices of the ones that return True.\n",
    "matic_index = matic_train[matic_train == True].index"
   ]
  },
  {
   "cell_type": "code",
   "execution_count": null,
   "metadata": {
    "ExecuteTime": {
     "start_time": "2024-02-28T21:27:07.131Z"
    }
   },
   "outputs": [],
   "source": [
    "# After the this operation, how many NaN values do I have filling?\n",
    "matic_train[matic_train == True].count()"
   ]
  },
  {
   "cell_type": "code",
   "execution_count": null,
   "metadata": {
    "ExecuteTime": {
     "start_time": "2024-02-28T21:27:07.143Z"
    }
   },
   "outputs": [],
   "source": [
    "# Now let's assign \"Hybrid\" to the indices we obtained.\n",
    "df.loc[matic_index, \"drivetrain\"] = \"4WD\""
   ]
  },
  {
   "cell_type": "code",
   "execution_count": null,
   "metadata": {
    "ExecuteTime": {
     "start_time": "2024-02-28T21:27:07.178Z"
    },
    "scrolled": true
   },
   "outputs": [],
   "source": [
    "handle_missing_values(df , \"drivetrain\")"
   ]
  },
  {
   "cell_type": "code",
   "execution_count": null,
   "metadata": {
    "ExecuteTime": {
     "start_time": "2024-02-28T21:27:07.188Z"
    }
   },
   "outputs": [],
   "source": [
    "# Let's retrieve the entries that contain \"Hyrib, hbr \" and assign them the label \"Hybrid\".\n",
    "\n",
    "# The expression \"(?i)\" in the code disables case sensitivity.\n",
    "\n",
    "front_train  = df.loc[df[df[\"drivetrain\"].isnull()].index, \"short_description\"].str.contains(\"Front\", case = False)\n",
    "front_train"
   ]
  },
  {
   "cell_type": "code",
   "execution_count": null,
   "metadata": {
    "ExecuteTime": {
     "start_time": "2024-02-28T21:27:07.196Z"
    }
   },
   "outputs": [],
   "source": [
    "# Let's retrieve the indices of the ones that return True.\n",
    "front_index = front_train[front_train == True].index"
   ]
  },
  {
   "cell_type": "code",
   "execution_count": null,
   "metadata": {
    "ExecuteTime": {
     "start_time": "2024-02-28T21:27:07.224Z"
    }
   },
   "outputs": [],
   "source": [
    "# After the this operation, how many NaN values do I have filling?\n",
    "front_train[front_train == True].count()"
   ]
  },
  {
   "cell_type": "code",
   "execution_count": null,
   "metadata": {
    "ExecuteTime": {
     "start_time": "2024-02-28T21:27:07.247Z"
    }
   },
   "outputs": [],
   "source": [
    "# Now let's assign \"Hybrid\" to the indices we obtained.\n",
    "df.loc[front_index, \"drivetrain\"] = \"Front\""
   ]
  },
  {
   "cell_type": "code",
   "execution_count": null,
   "metadata": {
    "ExecuteTime": {
     "start_time": "2024-02-28T21:27:07.274Z"
    },
    "scrolled": true
   },
   "outputs": [],
   "source": [
    "handle_missing_values(df , \"drivetrain\")"
   ]
  },
  {
   "cell_type": "code",
   "execution_count": null,
   "metadata": {
    "ExecuteTime": {
     "start_time": "2024-02-28T21:27:07.286Z"
    },
    "run_control": {
     "marked": true
    }
   },
   "outputs": [],
   "source": [
    "# After the groupby operation, how many NaN values do I have remaining?\n",
    "df.groupby([\"body_type\", \"gearbox\"])[\"drivetrain\"].transform(lambda x: x.fillna(x.mode()[0])).isnull().sum()"
   ]
  },
  {
   "cell_type": "code",
   "execution_count": null,
   "metadata": {
    "ExecuteTime": {
     "start_time": "2024-02-28T21:27:07.318Z"
    }
   },
   "outputs": [],
   "source": [
    "df['drivetrain'].fillna(df.groupby([ \"body_type\", \"gearbox\"])[\"drivetrain\"].transform(lambda x: x.mode()[0]), inplace = True)"
   ]
  },
  {
   "cell_type": "code",
   "execution_count": null,
   "metadata": {
    "ExecuteTime": {
     "start_time": "2024-02-28T21:27:07.331Z"
    },
    "scrolled": true
   },
   "outputs": [],
   "source": [
    "handle_missing_values(df , \"drivetrain\")"
   ]
  },
  {
   "cell_type": "markdown",
   "metadata": {},
   "source": [
    "<a id=\"19\"></a>\n",
    "<div class=\"alert alert-info\" role=\"alert\">\n",
    "<h1>Column name :<span style=\"color:red\"> colour </span></h1>\n",
    "</div>\n",
    "\n",
    "<div class=\"alert alert-block alert-warning\">\n",
    "<b>Operation : </b> To fill in the missing values in the \"colour\" column, we can use the \"short_description\" column . Since the \"colour\" column is associated with <span style=\"color:red\"><b> \" manufacturer_colour \" , \" body_type \" and \" location_country \"</b></span> . let's fill in the <span style=\"color:red\"><b> NaN values</b></span> in this column by grouping the data based on these columns and performing the necessary operations. \n",
    "</div>\n",
    "<a href=\"#toc\" class=\"btn btn-warning btn-lg active\" role=\"button\" aria-pressed=\"true\" style=\"color:black;\">Content</a>"
   ]
  },
  {
   "cell_type": "code",
   "execution_count": null,
   "metadata": {
    "ExecuteTime": {
     "start_time": "2024-02-28T21:27:07.364Z"
    }
   },
   "outputs": [],
   "source": [
    "first_looking(\"colour\")"
   ]
  },
  {
   "cell_type": "code",
   "execution_count": null,
   "metadata": {
    "ExecuteTime": {
     "start_time": "2024-02-28T21:27:07.396Z"
    }
   },
   "outputs": [],
   "source": [
    "# Let's examine the short description of the seats\n",
    "list(df.loc[df[df[\"colour\"].isnull()].index, \"short_description\"])"
   ]
  },
  {
   "cell_type": "code",
   "execution_count": null,
   "metadata": {
    "ExecuteTime": {
     "start_time": "2024-02-28T21:27:07.429Z"
    }
   },
   "outputs": [],
   "source": [
    "# it is concluded that manufacturer colour and colour of an automobile directly related.\n",
    "# since manufacturer colours has been entered in local languaages of manufacturer countries reclass has been performed.\n",
    "color_dict = {\n",
    "    \"Black\": [\"negro\", \"preto\", \"schwarz\", \"zwart\", \"nero\", \"onyx schwarz\", \"obsidianschwarz\", \"noir\", \"scharz\", \"zwarte\"],\n",
    "    \"Blue\": [\"azul\", \"blau\", \"blauw\", \"azul medianoche\", \"tiefsee blau\", \"blu\", \"denim blue\", \"blauw metallic\", \"race-blau metallic\", \"race-blau\", \"dark knight\", \"azul marino\"],\n",
    "    \"Yellow\": [\"amarillo\", \"geel\"],\n",
    "    \"Gray\": [\"gris\", \"grijs\", \"grau\", \"grijs metallic\", \"schwarz metallic\", \"gris plata\", \"quarz-grau metallic\", \"selenitgrau\", \"licht grau\", \"graphitgrau\", \"granate\", \"stahlgrau\", \"kosmosschwarz\", \"titan-grau\", \"grafitgrau\", \"graumet.\", \"gris oscuro\", \"gris clara\"],\n",
    "    \"Red\": [\"rojo\", \"rosso\", \"race-rot\", \"rot\", \"lava rot\", \"desire rot\", \"reinrot\", \"ruby rot\", \"corrida-rot\", \"power red\", \"roz\"],\n",
    "    \"White\": [\"blanco\", \"wit\", \"weiss\", \"perlmutt-weiss\", \"schneeweiß\", \"weiss metallic\", \"magnetic-tech\", \"polarweiß\", \"blanc nacre\", \"blanc\", \"ice white\", \"laser-weiss\", \"candy weiss\", \"business grau\", \"arctic white\", \"candy-weiss\", \"ice white\", \"niebieski\", \"biały\"],\n",
    "    \"Silver\": [\"plata\", \"silber\", \"argent\", \"platin-grau\", \"argent\", \"argentato\", \"platinsilber\", \"plata metalizado\", \"plateado\", \"argent silber\", \"zilver metallic\", \"zilver\"],\n",
    "    \"Green\": [\"verde\", \"grün\", \"groen\", \"green\", \"verde oscuro\"],\n",
    "    \"Brown\": [\"marrón\", \"bruin\", \"braun\"],\n",
    "    \"Orange\": [\"naranja\", \"oranje\"],\n",
    "    \"Purple\": [\"morado\", \"paars\"],\n",
    "    \"Pink\": [\"rosa\", \"roze\"],\n",
    "    \"Beige\": [\"beige\"],\n",
    "    \"Gold\": [\"oro\", \"goud\"],\n",
    "    \"Bronze\": [\"bronce\"],\n",
    "}\n",
    "\n"
   ]
  },
  {
   "cell_type": "code",
   "execution_count": null,
   "metadata": {
    "ExecuteTime": {
     "start_time": "2024-02-28T21:27:07.443Z"
    }
   },
   "outputs": [],
   "source": [
    "# manufacturer column has been cleaned and only name of the color has been extracted.\n",
    "pattern = \"(\" + \"|\".join([re.escape(color) for colors in color_dict.values() for color in colors]) + \")\""
   ]
  },
  {
   "cell_type": "code",
   "execution_count": null,
   "metadata": {
    "ExecuteTime": {
     "start_time": "2024-02-28T21:27:07.458Z"
    }
   },
   "outputs": [],
   "source": [
    "match = df.manufacturer_colour.str.extract(pattern, flags=re.IGNORECASE)[0]\n",
    "match"
   ]
  },
  {
   "cell_type": "code",
   "execution_count": null,
   "metadata": {
    "ExecuteTime": {
     "start_time": "2024-02-28T21:27:07.480Z"
    },
    "scrolled": true
   },
   "outputs": [],
   "source": [
    "# colours in multiple languages has been matched in one type.\n",
    "for category, keywords in color_dict.items():\n",
    "    for keyword in keywords:\n",
    "        result = df.loc[df[df[\"colour\"].isnull()].index, \"manufacturer_colour\"].str.contains(f\"(?i){keyword}\")\n",
    "        print(f\"{category} {keyword}: {result.value_counts()}\")"
   ]
  },
  {
   "cell_type": "code",
   "execution_count": null,
   "metadata": {
    "ExecuteTime": {
     "start_time": "2024-02-28T21:27:07.513Z"
    }
   },
   "outputs": [],
   "source": [
    "# colours in multiple languages has been reclasses in one language.\n",
    "# # aşağıdaki kod sadece bir key ekleyebiliyor . \n",
    "\n",
    "for category, keywords in color_dict.items():\n",
    "    for keyword in keywords:\n",
    "        result_indices =   df.loc[(df[\"colour\"].isnull()) & (df[\"manufacturer_colour\"].str.contains(f\"(?i){keyword}\"))].index\n",
    "        df.loc[result_indices, \"colour\"] = category"
   ]
  },
  {
   "cell_type": "code",
   "execution_count": null,
   "metadata": {
    "ExecuteTime": {
     "start_time": "2024-02-28T21:27:07.525Z"
    }
   },
   "outputs": [],
   "source": [
    "# # colours in multiple languages has been reclasses in one language.\n",
    "\n",
    "# index_no = df.loc[df[\"colour\"].isnull() & df[\"manufacturer_colour\"].notnull()].index\n",
    "\n",
    "# for category, keywords in color_dict.items():\n",
    "#     for keyword in keywords:\n",
    "#         result_indices = index_no.intersection(df[df[\"manufacturer_colour\"].str.lower().str.contains(keyword.lower(), na=False)].index)\n",
    "#         df.loc[result_indices, \"colour\"] = df.loc[result_indices, \"colour\"].apply(lambda x: x + \", \" + category if pd.notnull(x) else category)"
   ]
  },
  {
   "cell_type": "code",
   "execution_count": null,
   "metadata": {
    "ExecuteTime": {
     "start_time": "2024-02-28T21:27:07.538Z"
    }
   },
   "outputs": [],
   "source": [
    "handle_missing_values(df, \"colour\")"
   ]
  },
  {
   "cell_type": "code",
   "execution_count": null,
   "metadata": {
    "ExecuteTime": {
     "start_time": "2024-02-28T21:27:07.567Z"
    }
   },
   "outputs": [],
   "source": [
    "df.location_country"
   ]
  },
  {
   "cell_type": "code",
   "execution_count": null,
   "metadata": {
    "ExecuteTime": {
     "start_time": "2024-02-28T21:27:07.598Z"
    }
   },
   "outputs": [],
   "source": [
    "# Since remaning nan values is 2.4 %,\n",
    "# groupby has been perfomed according to model and location_country year and filled accordingly\n",
    "\n",
    "# It has been conluded that location country has affect on owners judgement because of wheather conditions.\n",
    "# After the groupby operation, how many NaN values do I have remaining?\n",
    "df.colour.fillna(df.groupby([\"location_country\", \"body_type\"])[\"colour\"].transform(lambda x: x.mode()[0])).isnull().sum()"
   ]
  },
  {
   "cell_type": "code",
   "execution_count": null,
   "metadata": {
    "ExecuteTime": {
     "start_time": "2024-02-28T21:27:07.610Z"
    }
   },
   "outputs": [],
   "source": [
    "# Since remaning nan values is 2.4 %, groupby has been perfomed according to model and production year and filled accordingly\n",
    "df.colour.fillna(df.groupby([\"location_country\", \"body_type\"])[\"colour\"].transform(lambda x: x.mode()[0]), inplace = True)"
   ]
  },
  {
   "cell_type": "code",
   "execution_count": null,
   "metadata": {
    "ExecuteTime": {
     "start_time": "2024-02-28T21:27:07.621Z"
    }
   },
   "outputs": [],
   "source": [
    "handle_missing_values(df, \"colour\")"
   ]
  },
  {
   "cell_type": "code",
   "execution_count": null,
   "metadata": {
    "ExecuteTime": {
     "start_time": "2024-02-28T21:27:07.661Z"
    }
   },
   "outputs": [],
   "source": [
    "df.colour.value_counts()"
   ]
  },
  {
   "cell_type": "code",
   "execution_count": null,
   "metadata": {},
   "outputs": [],
   "source": []
  },
  {
   "cell_type": "markdown",
   "metadata": {},
   "source": [
    "<a id=\"20\"></a>\n",
    "<div class=\"alert alert-info\" role=\"alert\">\n",
    "<h1>Column name :<span style=\"color:red\"> manufacturer_colour </span></h1>\n",
    "</div>\n",
    "\n",
    "<div class=\"alert alert-block alert-warning\">\n",
    "<b>Operation : </b> To fill in the missing values in the \"manufacturer_colour\" column, we can use the \"short_description\" column . Since the \"manufacturer_colour\" column is associated with <span style=\"color:red\"><b> \" colour \"</b></span> . let's fill in the <span style=\"color:red\"><b> NaN values</b></span> in this column by grouping the data based on these columns and performing the necessary operations. \n",
    "</div>\n",
    "<a href=\"#toc\" class=\"btn btn-warning btn-lg active\" role=\"button\" aria-pressed=\"true\" style=\"color:black;\">Content</a>"
   ]
  },
  {
   "cell_type": "code",
   "execution_count": null,
   "metadata": {
    "ExecuteTime": {
     "start_time": "2024-02-28T21:27:07.682Z"
    }
   },
   "outputs": [],
   "source": [
    "first_looking(\"manufacturer_colour\")"
   ]
  },
  {
   "cell_type": "code",
   "execution_count": null,
   "metadata": {
    "ExecuteTime": {
     "start_time": "2024-02-28T21:27:07.707Z"
    }
   },
   "outputs": [],
   "source": [
    "# paint, upholstey_colour"
   ]
  },
  {
   "cell_type": "code",
   "execution_count": null,
   "metadata": {
    "ExecuteTime": {
     "start_time": "2024-02-28T21:27:07.721Z"
    }
   },
   "outputs": [],
   "source": [
    "# Let's examine the short description of the seats\n",
    "list(df.loc[df[df[\"manufacturer_colour\"].isnull()].index, \"short_description\"])"
   ]
  },
  {
   "cell_type": "code",
   "execution_count": null,
   "metadata": {
    "ExecuteTime": {
     "start_time": "2024-02-28T21:27:07.748Z"
    }
   },
   "outputs": [],
   "source": [
    "list(df[\"manufacturer_colour\"].value_counts().index)"
   ]
  },
  {
   "cell_type": "code",
   "execution_count": null,
   "metadata": {
    "ExecuteTime": {
     "start_time": "2024-02-28T21:27:07.761Z"
    },
    "scrolled": true
   },
   "outputs": [],
   "source": [
    "df.manufacturer_colour.unique()"
   ]
  },
  {
   "cell_type": "code",
   "execution_count": null,
   "metadata": {
    "ExecuteTime": {
     "start_time": "2024-02-28T21:27:07.770Z"
    }
   },
   "outputs": [],
   "source": [
    "# After the groupby operation, how many NaN values do I have remaining?\n",
    "df['manufacturer_colour'].fillna(df.groupby([\"colour\"])['manufacturer_colour'].transform(lambda x: x.mode()[0])).isnull().sum()"
   ]
  },
  {
   "cell_type": "code",
   "execution_count": null,
   "metadata": {
    "ExecuteTime": {
     "start_time": "2024-02-28T21:27:07.779Z"
    }
   },
   "outputs": [],
   "source": [
    "df['manufacturer_colour'].fillna(df.groupby([\"colour\"])['manufacturer_colour'].transform(lambda x: x.mode()[0]), inplace = True)"
   ]
  },
  {
   "cell_type": "code",
   "execution_count": null,
   "metadata": {
    "ExecuteTime": {
     "start_time": "2024-02-28T21:27:07.804Z"
    },
    "scrolled": false
   },
   "outputs": [],
   "source": [
    "handle_missing_values(df, \"manufacturer_colour\")"
   ]
  },
  {
   "cell_type": "markdown",
   "metadata": {},
   "source": [
    "<a id=\"21\"></a>\n",
    "<div class=\"alert alert-info\" role=\"alert\">\n",
    "<h1>Column name :<span style=\"color:red\"> paint </span></h1>\n",
    "</div>\n",
    "\n",
    "<div class=\"alert alert-block alert-warning\">\n",
    "<b>Operation : </b> To fill in the missing values in the \"paint\" column, we can use the \"short_description\" column . Since the \"paint\" column is associated with <span style=\"color:red\"><b> \" manufacturer_colour \"</b></span> . let's fill in the <span style=\"color:red\"><b> NaN values</b></span> in this column by grouping the data based on these columns and performing the necessary operations. \n",
    "</div>\n",
    "<a href=\"#toc\" class=\"btn btn-warning btn-lg active\" role=\"button\" aria-pressed=\"true\" style=\"color:black;\">Content</a>"
   ]
  },
  {
   "cell_type": "code",
   "execution_count": null,
   "metadata": {
    "ExecuteTime": {
     "start_time": "2024-02-28T21:27:07.830Z"
    }
   },
   "outputs": [],
   "source": [
    "first_looking(\"paint\")"
   ]
  },
  {
   "cell_type": "code",
   "execution_count": null,
   "metadata": {
    "ExecuteTime": {
     "start_time": "2024-02-28T21:27:07.852Z"
    }
   },
   "outputs": [],
   "source": [
    "# Let's examine the short description of the seats\n",
    "list(df.loc[df[df[\"paint\"].isnull()].index, \"short_description\"])"
   ]
  },
  {
   "cell_type": "code",
   "execution_count": null,
   "metadata": {},
   "outputs": [],
   "source": []
  },
  {
   "cell_type": "code",
   "execution_count": null,
   "metadata": {
    "ExecuteTime": {
     "start_time": "2024-02-28T21:27:07.868Z"
    }
   },
   "outputs": [],
   "source": [
    "# in manufacturer color paint type is also mentioned along with color.\n",
    "# manufacturer color which is customized by producer is highly probable that owner would be using same paint type.   \n",
    "df[df.manufacturer_colour.str.extract(\"(\\s*pearl\\w*)\", flags= re.IGNORECASE).notnull().values.flatten()][\"manufacturer_colour\"]"
   ]
  },
  {
   "cell_type": "code",
   "execution_count": null,
   "metadata": {
    "ExecuteTime": {
     "start_time": "2024-02-28T21:27:07.898Z"
    }
   },
   "outputs": [],
   "source": [
    "df[df.manufacturer_colour.str.extract(\"(\\s*metal\\w*)\", flags= re.IGNORECASE).notnull().values.flatten()][\"manufacturer_colour\"]"
   ]
  },
  {
   "cell_type": "code",
   "execution_count": null,
   "metadata": {
    "ExecuteTime": {
     "start_time": "2024-02-28T21:27:07.932Z"
    }
   },
   "outputs": [],
   "source": [
    "df.loc[df.loc[df.manufacturer_colour.str.extract(\"(metal\\w+)\", flags= re.IGNORECASE ).notnull().values.flatten()].index, \"paint\"] = \"Metallic\""
   ]
  },
  {
   "cell_type": "code",
   "execution_count": null,
   "metadata": {
    "ExecuteTime": {
     "start_time": "2024-02-28T21:27:07.944Z"
    }
   },
   "outputs": [],
   "source": [
    "handle_missing_values(df, \"paint\")"
   ]
  },
  {
   "cell_type": "code",
   "execution_count": null,
   "metadata": {
    "ExecuteTime": {
     "start_time": "2024-02-28T21:27:07.982Z"
    }
   },
   "outputs": [],
   "source": [
    "df.loc[df.loc[df.manufacturer_colour.str.extract(\"(solid\\w*)\", flags= re.IGNORECASE).notnull().values.flatten()].index, \"paint\"] = \"Uni/basic\""
   ]
  },
  {
   "cell_type": "code",
   "execution_count": null,
   "metadata": {
    "ExecuteTime": {
     "start_time": "2024-02-28T21:27:08.014Z"
    }
   },
   "outputs": [],
   "source": [
    "handle_missing_values(df, \"paint\")"
   ]
  },
  {
   "cell_type": "code",
   "execution_count": null,
   "metadata": {
    "ExecuteTime": {
     "start_time": "2024-02-28T21:27:08.026Z"
    }
   },
   "outputs": [],
   "source": [
    "df.loc[df.loc[df.manufacturer_colour.str.extract(\"(\\s*pearl\\w*)\", flags= re.IGNORECASE).notnull().values.flatten()].index, \"paint\"] = \"Pearlescent\""
   ]
  },
  {
   "cell_type": "code",
   "execution_count": null,
   "metadata": {
    "ExecuteTime": {
     "start_time": "2024-02-28T21:27:08.046Z"
    }
   },
   "outputs": [],
   "source": [
    "handle_missing_values(df, \"paint\")"
   ]
  },
  {
   "cell_type": "code",
   "execution_count": null,
   "metadata": {
    "ExecuteTime": {
     "start_time": "2024-02-28T21:27:08.074Z"
    }
   },
   "outputs": [],
   "source": [
    "df.loc[df.desc.str.extract(\"(matte)\", flags= re.IGNORECASE).notnull().values.flatten()].index"
   ]
  },
  {
   "cell_type": "code",
   "execution_count": null,
   "metadata": {
    "ExecuteTime": {
     "start_time": "2024-02-28T21:27:08.100Z"
    }
   },
   "outputs": [],
   "source": [
    "# Some of nan values in paint column mentioned in description column \n",
    "# matte keyword is searched and filled according to desc \n",
    "df.loc[df.loc[df.desc.str.extract(\"(matte)\", flags= re.IGNORECASE).notnull().values.flatten()].index, \"paint\"] = \"Matte\""
   ]
  },
  {
   "cell_type": "code",
   "execution_count": null,
   "metadata": {
    "ExecuteTime": {
     "start_time": "2024-02-28T21:27:08.110Z"
    }
   },
   "outputs": [],
   "source": [
    "handle_missing_values(df, \"paint\")"
   ]
  },
  {
   "cell_type": "code",
   "execution_count": null,
   "metadata": {
    "ExecuteTime": {
     "start_time": "2024-02-28T21:27:08.131Z"
    }
   },
   "outputs": [],
   "source": [
    "# metal keyword is searched and filled according to desc \n",
    "df.loc[df.loc[df.desc.str.extract(\"(metal\\w+)\", flags= re.IGNORECASE).notnull().values.flatten()].index, \"paint\"] = \"Metallic\""
   ]
  },
  {
   "cell_type": "code",
   "execution_count": null,
   "metadata": {
    "ExecuteTime": {
     "start_time": "2024-02-28T21:27:08.151Z"
    }
   },
   "outputs": [],
   "source": [
    "handle_missing_values(df, \"paint\")"
   ]
  },
  {
   "cell_type": "code",
   "execution_count": null,
   "metadata": {
    "ExecuteTime": {
     "start_time": "2024-02-28T21:27:08.183Z"
    }
   },
   "outputs": [],
   "source": [
    "# remaining nan values are considered as solid = Uni/basic since this type is the most commonly used paint type other than metallic\n",
    "df.paint.fillna(\"Uni/basic\", inplace = True)"
   ]
  },
  {
   "cell_type": "code",
   "execution_count": null,
   "metadata": {
    "ExecuteTime": {
     "start_time": "2024-02-28T21:27:08.193Z"
    }
   },
   "outputs": [],
   "source": [
    "handle_missing_values(df, \"paint\")"
   ]
  },
  {
   "cell_type": "markdown",
   "metadata": {},
   "source": [
    "<a id=\"22\"></a>\n",
    "<div class=\"alert alert-info\" role=\"alert\">\n",
    "<h1>Column name :<span style=\"color:red\"> country_version </span></h1>\n",
    "</div>\n",
    "\n",
    "<div class=\"alert alert-block alert-warning\">\n",
    "<b>Operation : </b> To fill in the missing values in the \"country_version\" column, we can use the \"short_description\" column . Since the \"country_version\" column is associated with <span style=\"color:red\"><b>\" make_model \" , \" first_registration \" , \" body_type \"  and \" drivetrain \"</b></span> . let's fill in the <span style=\"color:red\"><b> NaN values</b></span> in this column by grouping the data based on these columns and performing the necessary operations. \n",
    "</div>\n",
    "<a href=\"#toc\" class=\"btn btn-warning btn-lg active\" role=\"button\" aria-pressed=\"true\" style=\"color:black;\">Content</a>"
   ]
  },
  {
   "cell_type": "code",
   "execution_count": null,
   "metadata": {
    "ExecuteTime": {
     "start_time": "2024-02-28T21:27:08.232Z"
    }
   },
   "outputs": [],
   "source": [
    "first_looking(\"country_version\")"
   ]
  },
  {
   "cell_type": "code",
   "execution_count": null,
   "metadata": {
    "ExecuteTime": {
     "start_time": "2024-02-28T21:27:08.264Z"
    }
   },
   "outputs": [],
   "source": [
    "# Let's examine the short description of the country_version \n",
    "list(df.loc[df[df[\"country_version\"].isnull()].index, \"short_description\"])"
   ]
  },
  {
   "cell_type": "code",
   "execution_count": null,
   "metadata": {
    "ExecuteTime": {
     "start_time": "2024-02-28T21:27:08.275Z"
    }
   },
   "outputs": [],
   "source": [
    "df.columns"
   ]
  },
  {
   "cell_type": "code",
   "execution_count": null,
   "metadata": {
    "ExecuteTime": {
     "start_time": "2024-02-28T21:27:08.292Z"
    }
   },
   "outputs": [],
   "source": [
    "# After the groupby operation, how many NaN values do I have remaining?\n",
    "df.groupby(['make_model', 'first_registration'], group_keys = False)['country_version'].transform(lambda x: x.fillna(x.mode()[0]) if len(x.mode()) > 0 else x).isnull().sum()"
   ]
  },
  {
   "cell_type": "code",
   "execution_count": null,
   "metadata": {
    "ExecuteTime": {
     "start_time": "2024-02-28T21:27:08.313Z"
    }
   },
   "outputs": [],
   "source": [
    "# The 'country_version' indicates the region where the car is manufactured.\n",
    "# Since cars are often produced according to the specific requirements of the region they are manufactured in,\n",
    "# let's consider the make_model and first_registration of the car in relation to the region it is produced in.\n",
    "df.country_version = df.groupby(['make_model', 'first_registration'], group_keys = False)['country_version'].transform(lambda x: x.fillna(x.mode()[0]) if len(x.mode()) > 0 else x)"
   ]
  },
  {
   "cell_type": "code",
   "execution_count": null,
   "metadata": {
    "ExecuteTime": {
     "start_time": "2024-02-28T21:27:08.347Z"
    }
   },
   "outputs": [],
   "source": [
    "handle_missing_values(df, \"country_version\")"
   ]
  },
  {
   "cell_type": "code",
   "execution_count": null,
   "metadata": {
    "ExecuteTime": {
     "start_time": "2024-02-28T21:27:08.358Z"
    }
   },
   "outputs": [],
   "source": [
    "# After the groupby operation, how many NaN values do I have remaining?\n",
    "df.groupby(['make_model', 'body_type'], group_keys = False)['country_version'].transform(lambda x: x.fillna(x.mode()[0]) if len(x.mode()) > 0 else x).isnull().sum()"
   ]
  },
  {
   "cell_type": "code",
   "execution_count": null,
   "metadata": {
    "ExecuteTime": {
     "start_time": "2024-02-28T21:27:08.376Z"
    }
   },
   "outputs": [],
   "source": [
    "# The 'country_version' indicates the region where the car is manufactured.\n",
    "# Since cars are often produced according to the specific requirements of the region they are manufactured in,\n",
    "# let's consider the make_model and body_type of the car in relation to the region it is produced in.\n",
    "\n",
    "df['country_version'] = df.groupby(['make_model', 'body_type'], group_keys = False)['country_version'].transform(lambda x: x.fillna(x.mode()[0]) if len(x.mode()) > 0 else x)"
   ]
  },
  {
   "cell_type": "code",
   "execution_count": null,
   "metadata": {
    "ExecuteTime": {
     "start_time": "2024-02-28T21:27:08.409Z"
    },
    "scrolled": true
   },
   "outputs": [],
   "source": [
    "handle_missing_values(df, \"country_version\")"
   ]
  },
  {
   "cell_type": "code",
   "execution_count": null,
   "metadata": {
    "ExecuteTime": {
     "start_time": "2024-02-28T21:27:08.433Z"
    }
   },
   "outputs": [],
   "source": [
    "\n",
    "# After the groupby operation, how many NaN values do I have remaining?\n",
    "df.groupby(['drivetrain', 'body_type'], group_keys = False)['country_version'].transform(lambda x: x.fillna(x.mode()[0]) if len(x.mode()) > 0 else x).isnull().sum()"
   ]
  },
  {
   "cell_type": "code",
   "execution_count": null,
   "metadata": {
    "ExecuteTime": {
     "start_time": "2024-02-28T21:27:08.443Z"
    }
   },
   "outputs": [],
   "source": [
    "# The 'country_version' indicates the region where the car is manufactured.\n",
    "# Since cars are often produced according to the specific requirements of the region they are manufactured in,\n",
    "# let's consider the drive_train and body_type of the car in relation to the region it is produced in.\n",
    "\n",
    "df['country_version'] = df.groupby(['drivetrain', 'body_type'], group_keys = False)['country_version'].transform(lambda x: x.fillna(x.mode()[0]) if len(x.mode()) > 0 else x)"
   ]
  },
  {
   "cell_type": "code",
   "execution_count": null,
   "metadata": {
    "ExecuteTime": {
     "start_time": "2024-02-28T21:27:08.467Z"
    }
   },
   "outputs": [],
   "source": [
    "handle_missing_values(df, \"country_version\")"
   ]
  },
  {
   "cell_type": "markdown",
   "metadata": {},
   "source": [
    "<a id=\"23\"></a>\n",
    "<div class=\"alert alert-info\" role=\"alert\">\n",
    "<h1>Column name :<span style=\"color:red\"> full_service_history </span></h1>\n",
    "</div>\n",
    "\n",
    "<div class=\"alert alert-block alert-warning\">\n",
    "<b>Operation : </b> To fill in the missing values in the \"full_service_history\" column, we can use the \"short_description\" column . it is concluded that in order to have a<span style=\"color:red\"><b> valid warranty</b></span> , Vehicle owners should have their vehicles serviced at an <span style=\"color:red\"><b> authorized service centre</b></span>. Therefore, having a valid warranty also means having full service history.\n",
    "</div>\n",
    "<a href=\"#toc\" class=\"btn btn-warning btn-lg active\" role=\"button\" aria-pressed=\"true\" style=\"color:black;\">Content</a>"
   ]
  },
  {
   "cell_type": "code",
   "execution_count": null,
   "metadata": {
    "ExecuteTime": {
     "start_time": "2024-02-28T21:27:08.494Z"
    }
   },
   "outputs": [],
   "source": [
    "first_looking(\"full_service_history\")"
   ]
  },
  {
   "cell_type": "code",
   "execution_count": null,
   "metadata": {
    "ExecuteTime": {
     "start_time": "2024-02-28T21:27:08.515Z"
    }
   },
   "outputs": [],
   "source": [
    "# it is concluded that in order to have a valid warranty, \n",
    "# Vehicle owners should have their vehicles serviced at an authorized service centre. \n",
    "# Therefore, having a valid warranty also means having full service history."
   ]
  },
  {
   "cell_type": "code",
   "execution_count": null,
   "metadata": {
    "ExecuteTime": {
     "start_time": "2024-02-28T21:27:08.525Z"
    }
   },
   "outputs": [],
   "source": [
    "# index number of notnull waranty index\n",
    "df[df[\"warranty\"].notnull()][\"warranty\"].index"
   ]
  },
  {
   "cell_type": "code",
   "execution_count": null,
   "metadata": {
    "ExecuteTime": {
     "start_time": "2024-02-28T21:27:08.542Z"
    }
   },
   "outputs": [],
   "source": [
    "# Nan values which have filled warranty column are cosidered as Yes\n",
    "df.loc[df[df[\"warranty\"].notnull()][\"warranty\"].index, \"full_service_history\"] = \"Yes\""
   ]
  },
  {
   "cell_type": "code",
   "execution_count": null,
   "metadata": {
    "ExecuteTime": {
     "start_time": "2024-02-28T21:27:08.565Z"
    }
   },
   "outputs": [],
   "source": [
    "# remaining nan values are considered as No\n",
    "df.full_service_history.fillna(\"No\", inplace = True)"
   ]
  },
  {
   "cell_type": "code",
   "execution_count": null,
   "metadata": {
    "ExecuteTime": {
     "start_time": "2024-02-28T21:27:08.595Z"
    }
   },
   "outputs": [],
   "source": [
    "handle_missing_values(df, \"full_service_history\" )"
   ]
  },
  {
   "cell_type": "markdown",
   "metadata": {},
   "source": [
    "<a id=\"24\"></a>\n",
    "<div class=\"alert alert-info\" role=\"alert\">\n",
    "<h1>Column name :<span style=\"color:red\"> mileage </span></h1>\n",
    "</div>\n",
    "\n",
    "<div class=\"alert alert-block alert-warning\">\n",
    "<b>Operation : </b> The \"mileage\" column contains only one missing value. Let's fill it using the <span style=\"color:red\"><b> \"make\", \"first_registration\", and \"location_country\"</b></span> columns.\n",
    "</div>\n",
    "<a href=\"#toc\" class=\"btn btn-warning btn-lg active\" role=\"button\" aria-pressed=\"true\" style=\"color:black;\">Content</a>"
   ]
  },
  {
   "cell_type": "code",
   "execution_count": null,
   "metadata": {
    "ExecuteTime": {
     "start_time": "2024-02-28T21:27:08.608Z"
    }
   },
   "outputs": [],
   "source": [
    "first_looking(\"mileage\")"
   ]
  },
  {
   "cell_type": "code",
   "execution_count": null,
   "metadata": {
    "ExecuteTime": {
     "start_time": "2024-02-28T21:27:08.629Z"
    }
   },
   "outputs": [],
   "source": [
    "# since there is only one null item in Mileage we can detect in dataframe easily\n",
    "df[df[\"mileage\"].isnull()]"
   ]
  },
  {
   "cell_type": "code",
   "execution_count": null,
   "metadata": {
    "ExecuteTime": {
     "start_time": "2024-02-28T21:27:08.653Z"
    }
   },
   "outputs": [],
   "source": [
    "#since all other rows is already filled and there is a direct affect on milage from age and location of the automobile. The value is filled according to that\n",
    "df[\"mileage\"].fillna(df.groupby([\"make\", \"first_registration\", \"location_country\"])[\"mileage\"].transform(lambda x: x.median()), inplace =True)"
   ]
  },
  {
   "cell_type": "code",
   "execution_count": null,
   "metadata": {
    "ExecuteTime": {
     "start_time": "2024-02-28T21:27:08.683Z"
    }
   },
   "outputs": [],
   "source": [
    "handle_missing_values(df, \"mileage\")"
   ]
  },
  {
   "cell_type": "markdown",
   "metadata": {},
   "source": [
    "<a id=\"25\"></a>\n",
    "<div class=\"alert alert-info\" role=\"alert\">\n",
    "<h1>Column name :<span style=\"color:red\"> previous_owner </span></h1>\n",
    "</div>\n",
    "\n",
    "<div class=\"alert alert-block alert-warning\">\n",
    "<b>Operation : </b> To fill in the missing values in the \"previous_owner\" column, we can use the \"short_description\" column .\n",
    "Let's extract the number of previous owners from the \"previous_owner\" column. Since the \"previous_owner\" column is associated with <span style=\"color:red\"><b> \" make \" and \"  first_registration \" </b></span> . let's fill in the <span style=\"color:red\"><b> NaN values</b></span> in this column by grouping the data based on these columns and performing the necessary operations. \n",
    "</div>\n",
    "<a href=\"#toc\" class=\"btn btn-warning btn-lg active\" role=\"button\" aria-pressed=\"true\" style=\"color:black;\">Content</a>"
   ]
  },
  {
   "cell_type": "code",
   "execution_count": null,
   "metadata": {
    "ExecuteTime": {
     "start_time": "2024-02-28T21:27:08.695Z"
    }
   },
   "outputs": [],
   "source": [
    "first_looking(\"previous_owner\")"
   ]
  },
  {
   "cell_type": "code",
   "execution_count": null,
   "metadata": {
    "ExecuteTime": {
     "start_time": "2024-02-28T21:27:08.720Z"
    }
   },
   "outputs": [],
   "source": [
    "# In the 'previous_owner' column, information about the mileage, first registration, and \n",
    "# details of the previous owner of the vehicle are provided. \n",
    "# Let's extract the details of the previous owner in this context.\n",
    "\n",
    "df.previous_owner = df.previous_owner.str.extract(\"(\\d+)$\").astype(float)"
   ]
  },
  {
   "cell_type": "code",
   "execution_count": null,
   "metadata": {
    "ExecuteTime": {
     "start_time": "2024-02-28T21:27:08.741Z"
    }
   },
   "outputs": [],
   "source": [
    "first_looking(\"previous_owner\")"
   ]
  },
  {
   "cell_type": "code",
   "execution_count": null,
   "metadata": {
    "ExecuteTime": {
     "start_time": "2024-02-28T21:27:08.765Z"
    }
   },
   "outputs": [],
   "source": [
    "# Let's assign NaN (Not a Number) to the 2 rows that appear as 0\n",
    "df.previous_owner.replace(0.0, np.nan, inplace = True)"
   ]
  },
  {
   "cell_type": "code",
   "execution_count": null,
   "metadata": {
    "ExecuteTime": {
     "start_time": "2024-02-28T21:27:08.776Z"
    }
   },
   "outputs": [],
   "source": [
    "first_looking(\"previous_owner\")"
   ]
  },
  {
   "cell_type": "code",
   "execution_count": null,
   "metadata": {
    "ExecuteTime": {
     "start_time": "2024-02-28T21:27:08.797Z"
    }
   },
   "outputs": [],
   "source": [
    "# it is concluded that make, first_registration and milage is the main factors in determining number of previous owner.\n",
    "# \"make\", \"first_registration\", \"mileage\", \"previous_owner\" columns are assigned to df_prw\n",
    "df_prw = df[[\"make\", \"first_registration\", \"mileage\", \"previous_owner\"]]"
   ]
  },
  {
   "cell_type": "code",
   "execution_count": null,
   "metadata": {
    "ExecuteTime": {
     "start_time": "2024-02-28T21:27:08.820Z"
    }
   },
   "outputs": [],
   "source": [
    "df_prw = df_prw.copy()\n",
    "\n",
    "df_prw.loc[df_prw[\"mileage\"] <= 50000, \"mile_class\"] = \"0-50k\"\n",
    "df_prw.loc[(50000 < df_prw[\"mileage\"]) & (df_prw[\"mileage\"] <= 100000), \"mile_class\"] = \"50k-100k\"\n",
    "df_prw.loc[(100000 < df_prw[\"mileage\"])& ( df_prw[\"mileage\"] <= 200000), \"mile_class\"] = \"100k-200k\"\n",
    "df_prw.loc[(200000 < df_prw[\"mileage\"]) & (df_prw[\"mileage\"] <= 300000), \"mile_class\"] = \"200k-300k\"\n",
    "df_prw.loc[(300000 < df_prw[\"mileage\"]) & (df_prw[\"mileage\"] <= 500000), \"mile_class\"] = \"300k-500k\"\n",
    "df_prw.loc[500000 < df_prw[\"mileage\"], \"mile_class\"] = \"above 500k\""
   ]
  },
  {
   "cell_type": "code",
   "execution_count": null,
   "metadata": {
    "ExecuteTime": {
     "start_time": "2024-02-28T21:27:08.849Z"
    }
   },
   "outputs": [],
   "source": [
    "# Let's use it to ignore the warning.\n",
    "# pd.options.mode.chained_assignment = None"
   ]
  },
  {
   "cell_type": "code",
   "execution_count": null,
   "metadata": {
    "ExecuteTime": {
     "start_time": "2024-02-28T21:27:08.860Z"
    }
   },
   "outputs": [],
   "source": [
    "# previous owner shows how many time owner the car changed. \n",
    "#It is concluded that mileage, model and age of the car have direct effect upon number of previous owner of the car\n",
    "df_prw.groupby([\"make\", \"first_registration\", \"mile_class\" ])[\"previous_owner\"].value_counts(dropna = False)"
   ]
  },
  {
   "cell_type": "code",
   "execution_count": null,
   "metadata": {
    "ExecuteTime": {
     "start_time": "2024-02-28T21:27:08.887Z"
    }
   },
   "outputs": [],
   "source": [
    "df.previous_owner.value_counts()"
   ]
  },
  {
   "cell_type": "code",
   "execution_count": null,
   "metadata": {
    "ExecuteTime": {
     "start_time": "2024-02-28T21:27:08.915Z"
    }
   },
   "outputs": [],
   "source": [
    "# After the groupby operation, how many NaN values do I have remaining?\n",
    "df_prw.groupby([\"make\", \"first_registration\", \"mile_class\" ])[\"previous_owner\"].transform(lambda x: round(x.median(), 0)).isnull().sum()"
   ]
  },
  {
   "cell_type": "code",
   "execution_count": null,
   "metadata": {
    "ExecuteTime": {
     "start_time": "2024-02-28T21:27:08.931Z"
    }
   },
   "outputs": [],
   "source": [
    "# df.previous_owner.describe()"
   ]
  },
  {
   "cell_type": "code",
   "execution_count": null,
   "metadata": {
    "ExecuteTime": {
     "start_time": "2024-02-28T21:27:08.941Z"
    }
   },
   "outputs": [],
   "source": [
    "# nan values are filled according to \"make\", \"first_registration\", \"mile_class\" \n",
    "df.previous_owner.fillna(df_prw.groupby([\"make\", \"first_registration\", \"mile_class\" ])[\"previous_owner\"].transform(lambda x: round(x.median(), 0)), inplace = True)"
   ]
  },
  {
   "cell_type": "code",
   "execution_count": null,
   "metadata": {
    "ExecuteTime": {
     "start_time": "2024-02-28T21:27:08.959Z"
    }
   },
   "outputs": [],
   "source": [
    "handle_missing_values(df, \"previous_owner\" )"
   ]
  },
  {
   "cell_type": "code",
   "execution_count": null,
   "metadata": {
    "ExecuteTime": {
     "start_time": "2024-02-28T21:27:08.988Z"
    }
   },
   "outputs": [],
   "source": [
    "# After the groupby operation, how many NaN values do I have remaining?\n",
    "df_prw.groupby([ \"first_registration\", \"make\" ])[\"previous_owner\"].transform(lambda x: round(x.median(), 0)).isnull().sum()"
   ]
  },
  {
   "cell_type": "code",
   "execution_count": null,
   "metadata": {
    "ExecuteTime": {
     "start_time": "2024-02-28T21:27:09.018Z"
    }
   },
   "outputs": [],
   "source": [
    "# nan values are filled according to \"make\", \"first_registration\",  \n",
    "df.previous_owner.fillna(df_prw.groupby([\"make\", \"first_registration\" ])[\"previous_owner\"].transform(lambda x: round(x.median(), 0)), inplace = True)"
   ]
  },
  {
   "cell_type": "code",
   "execution_count": null,
   "metadata": {
    "ExecuteTime": {
     "start_time": "2024-02-28T21:27:09.030Z"
    }
   },
   "outputs": [],
   "source": [
    "handle_missing_values(df, \"previous_owner\" )"
   ]
  },
  {
   "cell_type": "code",
   "execution_count": null,
   "metadata": {
    "ExecuteTime": {
     "start_time": "2024-02-28T21:27:09.064Z"
    }
   },
   "outputs": [],
   "source": [
    "# After the groupby operation, how many NaN values do I have remaining?\n",
    "df_prw.groupby([\"first_registration\" ])[\"previous_owner\"].transform(lambda x : round(x.median(), 0)).isnull().sum()"
   ]
  },
  {
   "cell_type": "code",
   "execution_count": null,
   "metadata": {
    "ExecuteTime": {
     "start_time": "2024-02-28T21:27:09.093Z"
    }
   },
   "outputs": [],
   "source": [
    "# nan values are filled according to \"first_registration\"\n",
    "df.previous_owner.fillna(df_prw.groupby([\"first_registration\" ])[\"previous_owner\"].transform(lambda x: round(x.median(),0)), inplace = True)"
   ]
  },
  {
   "cell_type": "code",
   "execution_count": null,
   "metadata": {
    "ExecuteTime": {
     "start_time": "2024-02-28T21:27:09.106Z"
    }
   },
   "outputs": [],
   "source": [
    "handle_missing_values(df, \"previous_owner\" )"
   ]
  },
  {
   "cell_type": "code",
   "execution_count": null,
   "metadata": {
    "ExecuteTime": {
     "start_time": "2024-02-28T21:27:09.135Z"
    }
   },
   "outputs": [],
   "source": [
    "# nan values are filled according to \"make\"\n",
    "df.previous_owner.fillna(df_prw.groupby([\"make\" ])[\"previous_owner\"].transform(lambda x: round(x.median(), 0)), inplace = True)"
   ]
  },
  {
   "cell_type": "code",
   "execution_count": null,
   "metadata": {
    "ExecuteTime": {
     "start_time": "2024-02-28T21:27:09.161Z"
    }
   },
   "outputs": [],
   "source": [
    "handle_missing_values(df, \"previous_owner\" )"
   ]
  },
  {
   "cell_type": "markdown",
   "metadata": {},
   "source": [
    "<a id=\"26\"></a>\n",
    "<div class=\"alert alert-info\" role=\"alert\">\n",
    "<h1>Column name :<span style=\"color:red\"> warranty </span></h1>\n",
    "</div>\n",
    "\n",
    "<div class=\"alert alert-block alert-warning\">\n",
    "<b>Operation : </b> To fill in the missing values in the \"warranty\" column, we can use the \"short_description\" column . Let's update the \"Warranty\" column as <span style=\"color:red\"><b> \" Yes \" or \" No \"</b></span> .  Since the \"warranty\" column is associated with <span style=\"color:red\"><b>  \" body_type \"  and \" drivetrain \"</b></span> . let's fill in the <span style=\"color:red\"><b> NaN values</b></span> in this column by grouping the data based on these columns and performing the necessary operations. \n",
    "</div>\n",
    "<a href=\"#toc\" class=\"btn btn-warning btn-lg active\" role=\"button\" aria-pressed=\"true\" style=\"color:black;\">Content</a>"
   ]
  },
  {
   "cell_type": "code",
   "execution_count": null,
   "metadata": {
    "ExecuteTime": {
     "start_time": "2024-02-28T21:27:09.184Z"
    }
   },
   "outputs": [],
   "source": [
    "first_looking(\"warranty\")"
   ]
  },
  {
   "cell_type": "code",
   "execution_count": null,
   "metadata": {
    "ExecuteTime": {
     "start_time": "2024-02-28T21:27:09.193Z"
    }
   },
   "outputs": [],
   "source": [
    "# Let's assign NaN values to those labeled as \"0 months\" and fill them in.\n",
    "\n",
    "df.warranty = df.warranty.replace('0 months', np.nan).apply(lambda x :'Yes'  if (isinstance(x, str) and ('months' in x)) else x)"
   ]
  },
  {
   "cell_type": "code",
   "execution_count": null,
   "metadata": {
    "ExecuteTime": {
     "start_time": "2024-02-28T21:27:09.216Z"
    }
   },
   "outputs": [],
   "source": [
    "handle_missing_values(df, \"warranty\" )"
   ]
  },
  {
   "cell_type": "code",
   "execution_count": null,
   "metadata": {
    "ExecuteTime": {
     "start_time": "2024-02-28T21:27:09.235Z"
    }
   },
   "outputs": [],
   "source": [
    "df.warranty.value_counts(dropna = False)"
   ]
  },
  {
   "cell_type": "code",
   "execution_count": null,
   "metadata": {
    "ExecuteTime": {
     "start_time": "2024-02-28T21:27:09.263Z"
    }
   },
   "outputs": [],
   "source": [
    "df.groupby(['make_model', 'location_country']).warranty.apply(lambda x: x.mode()[0] if len(x.mode()) > 0 else None)"
   ]
  },
  {
   "cell_type": "code",
   "execution_count": null,
   "metadata": {
    "ExecuteTime": {
     "start_time": "2024-02-28T21:27:09.273Z"
    }
   },
   "outputs": [],
   "source": [
    "# After the groupby operation, how many NaN values do I have remaining?\n",
    "df.groupby(['make_model', 'location_country'], group_keys = False)['warranty'].transform(lambda x: x.fillna(x.mode()[0]) if len(x.mode()) > 0 else x).isnull().sum()"
   ]
  },
  {
   "cell_type": "code",
   "execution_count": null,
   "metadata": {
    "ExecuteTime": {
     "start_time": "2024-02-28T21:27:09.284Z"
    }
   },
   "outputs": [],
   "source": [
    "df.warranty = df.groupby(['make_model', 'location_country'], group_keys = False)['warranty'].transform(lambda x: x.fillna(x.mode()[0]) if len(x.mode()) > 0 else x)"
   ]
  },
  {
   "cell_type": "code",
   "execution_count": null,
   "metadata": {
    "ExecuteTime": {
     "start_time": "2024-02-28T21:27:09.315Z"
    }
   },
   "outputs": [],
   "source": [
    "handle_missing_values(df, \"warranty\" )"
   ]
  },
  {
   "cell_type": "code",
   "execution_count": null,
   "metadata": {
    "ExecuteTime": {
     "start_time": "2024-02-28T21:27:09.327Z"
    }
   },
   "outputs": [],
   "source": [
    "# Let's fill the remaining values with \"No\".\n",
    "df.warranty.replace(np.NaN, 'No', inplace = True) "
   ]
  },
  {
   "cell_type": "code",
   "execution_count": null,
   "metadata": {
    "ExecuteTime": {
     "start_time": "2024-02-28T21:27:09.350Z"
    }
   },
   "outputs": [],
   "source": [
    "handle_missing_values(df, \"warranty\" )"
   ]
  },
  {
   "cell_type": "markdown",
   "metadata": {},
   "source": [
    "<a id=\"27\"></a>\n",
    "<div class=\"alert alert-info\" role=\"alert\">\n",
    "<h1><span style=\"color:red\"> General_inspection </span></h1>\n",
    "</div>\n",
    "\n",
    "<div class=\"alert alert-block alert-warning\">\n",
    "<b>Operation : </b> To fill in the missing values in the \"general_inspection\" column, we can use the \"short_description\" column . the \"general_inspection\" column  <span style=\"color:red\"><b>will be dropped </b></span>   as it will  not be used.. \n",
    "</div>\n",
    "<a href=\"#toc\" class=\"btn btn-warning btn-lg active\" role=\"button\" aria-pressed=\"true\" style=\"color:black;\">Content</a>"
   ]
  },
  {
   "cell_type": "code",
   "execution_count": null,
   "metadata": {
    "ExecuteTime": {
     "start_time": "2024-02-28T21:27:09.363Z"
    }
   },
   "outputs": [],
   "source": [
    "handle_missing_values(df, \"general_inspection\" )"
   ]
  },
  {
   "cell_type": "code",
   "execution_count": null,
   "metadata": {
    "ExecuteTime": {
     "start_time": "2024-02-28T21:27:09.398Z"
    }
   },
   "outputs": [],
   "source": [
    "df.general_inspection.value_counts()"
   ]
  },
  {
   "cell_type": "code",
   "execution_count": null,
   "metadata": {
    "ExecuteTime": {
     "start_time": "2024-02-28T21:27:09.428Z"
    }
   },
   "outputs": [],
   "source": [
    "# the \"general_inspection\" column will be dropped as it will not be used.\n",
    "handle_missing_values(df, \"general_inspection\")\n",
    "# Let's drop the \"general_inspection\" column since no operation will be performed on it."
   ]
  },
  {
   "cell_type": "markdown",
   "metadata": {},
   "source": [
    "<a id=\"28\"></a>\n",
    "<div class=\"alert alert-info\" role=\"alert\">\n",
    "<h1>Column name :<span style=\"color:red\"> upholstery </span></h1>\n",
    "</div>\n",
    "\n",
    "<div class=\"alert alert-block alert-warning\">\n",
    "<b>Operation : </b> To fill in the missing values in the \"upholstery\" column, we can use the \"short_description\" column . Since the \"upholstery\" column is associated with <span style=\"color:red\"><b>  \" body_type \" , \" make_model \", \" comfort_&_convenience \", \" first_registration \"  and \" drivetrain \"</b></span> . let's fill in the <span style=\"color:red\"><b> NaN values</b></span> in this column by grouping the data based on these columns and performing the necessary operations. \n",
    "</div>\n",
    "<a href=\"#toc\" class=\"btn btn-warning btn-lg active\" role=\"button\" aria-pressed=\"true\" style=\"color:black;\">Content</a>"
   ]
  },
  {
   "cell_type": "code",
   "execution_count": null,
   "metadata": {
    "ExecuteTime": {
     "start_time": "2024-02-28T21:27:09.442Z"
    }
   },
   "outputs": [],
   "source": [
    "first_looking(\"upholstery\")"
   ]
  },
  {
   "cell_type": "code",
   "execution_count": null,
   "metadata": {
    "ExecuteTime": {
     "start_time": "2024-02-28T21:27:09.466Z"
    }
   },
   "outputs": [],
   "source": [
    "# Let's examine the short description of the country_version \n",
    "list(df.loc[df[df[\"upholstery\"].isnull()].index, \"short_description\"])"
   ]
  },
  {
   "cell_type": "code",
   "execution_count": null,
   "metadata": {
    "ExecuteTime": {
     "start_time": "2024-02-28T21:27:09.483Z"
    }
   },
   "outputs": [],
   "source": [
    "upholstery_dict = {\n",
    "    'fabric_hols' : [\"Cloth\",\n",
    "                     \"Velour\",\n",
    "\n",
    "                ],\n",
    "    \n",
    "    'leather_hols' : ['Full leather',\n",
    "                      'Part leather'\n",
    "                ],\n",
    "    \n",
    "    'special_hols' : ['Other',\n",
    "                      'alcantara',\n",
    "                         ]\n",
    "\n",
    "}"
   ]
  },
  {
   "cell_type": "code",
   "execution_count": null,
   "metadata": {
    "ExecuteTime": {
     "start_time": "2024-02-28T21:27:09.515Z"
    }
   },
   "outputs": [],
   "source": [
    "# Sure, let's query the key-value pairs of the dictionary in the short description.\n",
    "for category, keywords in upholstery_dict.items():\n",
    "    for keyword in keywords:\n",
    "        result = df.loc[df[df[\"upholstery\"].isnull()].index, \"short_description\"].str.contains(f\"(?i){keyword}\", case = False)\n",
    "        print(f\"{category} {keyword}: {result.value_counts()}\")"
   ]
  },
  {
   "cell_type": "code",
   "execution_count": null,
   "metadata": {
    "ExecuteTime": {
     "start_time": "2024-02-28T21:27:09.524Z"
    }
   },
   "outputs": [],
   "source": [
    "# # The code below can only add a single key.\n",
    "\n",
    "for category, keywords in upholstery_dict.items():\n",
    "    for keyword in keywords:\n",
    "        result_indices =   df.loc[(df[\"upholstery\"].isnull()) & (df[\"short_description\"].str.contains(f\"(?i){keyword}\", case = False))].index\n",
    "        df.loc[result_indices, \"upholstery\"] = category\n"
   ]
  },
  {
   "cell_type": "code",
   "execution_count": null,
   "metadata": {
    "ExecuteTime": {
     "start_time": "2024-02-28T21:27:09.545Z"
    }
   },
   "outputs": [],
   "source": [
    "handle_missing_values(df, \"upholstery\" )"
   ]
  },
  {
   "cell_type": "code",
   "execution_count": null,
   "metadata": {
    "ExecuteTime": {
     "start_time": "2024-02-28T21:27:09.569Z"
    }
   },
   "outputs": [],
   "source": [
    "df.columns"
   ]
  },
  {
   "cell_type": "code",
   "execution_count": null,
   "metadata": {
    "ExecuteTime": {
     "start_time": "2024-02-28T21:27:09.595Z"
    }
   },
   "outputs": [],
   "source": [
    "# After the groupby operation, how many NaN values do I have remaining?\n",
    "\n",
    "df.groupby(['make_model','body_type'], group_keys = False)['upholstery'].transform(lambda x: x.fillna(x.mode()[0] if len(x.mode()) > 0 else np.nan)).isnull().sum()"
   ]
  },
  {
   "cell_type": "code",
   "execution_count": null,
   "metadata": {
    "ExecuteTime": {
     "start_time": "2024-02-28T21:27:09.605Z"
    }
   },
   "outputs": [],
   "source": [
    "df.upholstery = df.groupby(['make_model', 'body_type'], group_keys = False)['upholstery'].transform(lambda x: x.fillna(x.mode()[0] if len(x.mode()) > 0 else np.nan))"
   ]
  },
  {
   "cell_type": "code",
   "execution_count": null,
   "metadata": {
    "ExecuteTime": {
     "start_time": "2024-02-28T21:27:09.616Z"
    }
   },
   "outputs": [],
   "source": [
    "handle_missing_values(df, \"upholstery\" )"
   ]
  },
  {
   "cell_type": "code",
   "execution_count": null,
   "metadata": {
    "ExecuteTime": {
     "start_time": "2024-02-28T21:27:09.643Z"
    }
   },
   "outputs": [],
   "source": [
    "df.drivetrain.sample(5)"
   ]
  },
  {
   "cell_type": "code",
   "execution_count": null,
   "metadata": {
    "ExecuteTime": {
     "start_time": "2024-02-28T21:27:09.655Z"
    }
   },
   "outputs": [],
   "source": [
    "# Since the upholstery of the car may vary depending on the production year, and the \"comfort_&convenience\" column contains \n",
    "# information related to upholstery, we should fill the missing values in \n",
    "# the \"upholstery\" column using the information from the \"comfort&_convenience\" column.\n",
    "\n",
    "# After the groupby operation, how many NaN values do I have remaining?\n",
    "\n",
    "df.groupby(['first_registration','comfort_&_convenience'], group_keys = False)['upholstery'].transform(lambda x: x.fillna(x.mode()[0] if len(x.mode()) > 0 else np.nan)).isnull().sum()"
   ]
  },
  {
   "cell_type": "code",
   "execution_count": null,
   "metadata": {
    "ExecuteTime": {
     "start_time": "2024-02-28T21:27:09.664Z"
    }
   },
   "outputs": [],
   "source": [
    "df.upholstery = df.groupby(['first_registration','comfort_&_convenience'], group_keys = False)['upholstery'].transform(lambda x: x.fillna(x.mode()[0] if len(x.mode()) > 0 else np.nan))"
   ]
  },
  {
   "cell_type": "code",
   "execution_count": null,
   "metadata": {
    "ExecuteTime": {
     "start_time": "2024-02-28T21:27:09.673Z"
    }
   },
   "outputs": [],
   "source": [
    "handle_missing_values(df, \"upholstery\" )"
   ]
  },
  {
   "cell_type": "code",
   "execution_count": null,
   "metadata": {
    "ExecuteTime": {
     "start_time": "2024-02-28T21:27:09.689Z"
    }
   },
   "outputs": [],
   "source": [
    "# After the groupby operation, how many NaN values do I have remaining?\n",
    "\n",
    "df.groupby(['body_type'], group_keys = False)['upholstery'].transform(lambda x: x.fillna(x.mode()[0] if len(x.mode()) > 0 else np.nan)).isnull().sum()"
   ]
  },
  {
   "cell_type": "code",
   "execution_count": null,
   "metadata": {
    "ExecuteTime": {
     "start_time": "2024-02-28T21:27:09.703Z"
    }
   },
   "outputs": [],
   "source": [
    "df.upholstery = df.groupby(['body_type'], group_keys = False)['upholstery'].transform(lambda x: x.fillna(x.mode()[0] if len(x.mode()) > 0 else np.nan))"
   ]
  },
  {
   "cell_type": "code",
   "execution_count": null,
   "metadata": {
    "ExecuteTime": {
     "start_time": "2024-02-28T21:27:09.717Z"
    }
   },
   "outputs": [],
   "source": [
    "handle_missing_values(df, \"upholstery\" )"
   ]
  },
  {
   "cell_type": "code",
   "execution_count": null,
   "metadata": {
    "ExecuteTime": {
     "start_time": "2024-02-28T21:27:09.746Z"
    }
   },
   "outputs": [],
   "source": [
    "df.upholstery.value_counts()"
   ]
  },
  {
   "cell_type": "markdown",
   "metadata": {},
   "source": [
    "<a id=\"29\"></a>\n",
    "<div class=\"alert alert-info\" role=\"alert\">\n",
    "<h1>Column name :<span style=\"color:red\"> upholstery_colour </span></h1>\n",
    "</div>\n",
    "\n",
    "<div class=\"alert alert-block alert-warning\">\n",
    "<b>Operation : </b> To fill in the missing values in the \"upholstery_colour\" column, we can use the \"short_description\" column . Since the \"upholstery_colour\" column is associated with <span style=\"color:red\"><b>  \" body_type \" , \" make_model \", \" comfort_&_convenience \", \" first_registration \"  and \" drivetrain \"</b></span> . let's fill in the <span style=\"color:red\"><b> NaN values</b></span> in this column by grouping the data based on these columns and performing the necessary operations. \n",
    "</div>\n",
    "<a href=\"#toc\" class=\"btn btn-warning btn-lg active\" role=\"button\" aria-pressed=\"true\" style=\"color:black;\">Content</a>"
   ]
  },
  {
   "cell_type": "code",
   "execution_count": null,
   "metadata": {
    "ExecuteTime": {
     "start_time": "2024-02-28T21:27:09.758Z"
    }
   },
   "outputs": [],
   "source": [
    "first_looking(\"upholstery_colour\")"
   ]
  },
  {
   "cell_type": "code",
   "execution_count": null,
   "metadata": {
    "ExecuteTime": {
     "start_time": "2024-02-28T21:27:09.767Z"
    }
   },
   "outputs": [],
   "source": [
    "# Let's examine the short description of the country_version \n",
    "list(df.loc[df[df[\"upholstery_colour\"].isnull()].index, \"short_description\"])"
   ]
  },
  {
   "cell_type": "code",
   "execution_count": null,
   "metadata": {
    "ExecuteTime": {
     "start_time": "2024-02-28T21:27:09.776Z"
    }
   },
   "outputs": [],
   "source": [
    "# Since the make and model of the car are related to the upholstery colour, \n",
    "# we can fill the missing values by considering the relationship between the make_model \n",
    "# and colour of the car with the upholstery_colour.\n",
    "\n",
    "# After the groupby operation, how many NaN values do I have remaining?\n",
    "\n",
    "df.groupby(['make_model','colour', 'upholstery'], group_keys = False)['upholstery_colour'].transform(lambda x: x.fillna(x.mode()[0] if len(x.mode()) > 0 else np.nan)).isnull().sum()"
   ]
  },
  {
   "cell_type": "code",
   "execution_count": null,
   "metadata": {
    "ExecuteTime": {
     "start_time": "2024-02-28T21:27:09.800Z"
    }
   },
   "outputs": [],
   "source": [
    "df[\"upholstery_colour\"] = df.groupby(['make_model','colour', 'upholstery'], group_keys = False)['upholstery_colour'].transform(lambda x: x.fillna(x.mode()[0] if len(x.mode()) > 0 else np.nan))"
   ]
  },
  {
   "cell_type": "code",
   "execution_count": null,
   "metadata": {
    "ExecuteTime": {
     "start_time": "2024-02-28T21:27:09.830Z"
    }
   },
   "outputs": [],
   "source": [
    "handle_missing_values(df, \"upholstery_colour\" )"
   ]
  },
  {
   "cell_type": "code",
   "execution_count": null,
   "metadata": {
    "ExecuteTime": {
     "start_time": "2024-02-28T21:27:09.850Z"
    }
   },
   "outputs": [],
   "source": [
    "# Since the body_type, paint and location_country of the car are related to the upholstery colour, \n",
    "# we can fill the missing values by considering the relationship between them  with the upholstery_colour.\n",
    "\n",
    "# After the groupby operation, how many NaN values do I have remaining?\n",
    "\n",
    "df.groupby(['body_type','paint', 'location_country'], group_keys = False)['upholstery_colour'].transform(lambda x: x.fillna(x.mode()[0] if len(x.mode()) > 0 else np.nan)).isnull().sum()"
   ]
  },
  {
   "cell_type": "code",
   "execution_count": null,
   "metadata": {
    "ExecuteTime": {
     "start_time": "2024-02-28T21:27:09.859Z"
    }
   },
   "outputs": [],
   "source": [
    "df[\"upholstery_colour\"] = df.groupby(['body_type','paint', 'location_country'], group_keys = False)['upholstery_colour'].transform(lambda x: x.fillna(x.mode()[0] if len(x.mode()) > 0 else np.nan))"
   ]
  },
  {
   "cell_type": "code",
   "execution_count": null,
   "metadata": {
    "ExecuteTime": {
     "start_time": "2024-02-28T21:27:09.883Z"
    }
   },
   "outputs": [],
   "source": [
    "handle_missing_values(df, \"upholstery_colour\")"
   ]
  },
  {
   "cell_type": "code",
   "execution_count": 1346,
   "metadata": {
    "ExecuteTime": {
     "end_time": "2024-02-28T21:28:30.384287Z",
     "start_time": "2024-02-28T21:28:28.957821Z"
    }
   },
   "outputs": [
    {
     "data": {
      "text/plain": [
       "0"
      ]
     },
     "execution_count": 1346,
     "metadata": {},
     "output_type": "execute_result"
    }
   ],
   "source": [
    "# Since the make_model and country_version of the car are related to the upholstery colour, \n",
    "# we can fill the missing values by considering the relationship between the make_model \n",
    "# and country_version of the car with the upholstery_colour.\n",
    "\n",
    "# After the groupby operation, how many NaN values do I have remaining?\n",
    "\n",
    "df.groupby(['make_model', 'country_version'], group_keys = False)['upholstery_colour'].transform(lambda x: x.fillna(x.mode()[0] if len(x.mode()) > 0 else np.nan)).isnull().sum()"
   ]
  },
  {
   "cell_type": "code",
   "execution_count": 1347,
   "metadata": {
    "ExecuteTime": {
     "end_time": "2024-02-28T21:28:31.829980Z",
     "start_time": "2024-02-28T21:28:30.391113Z"
    }
   },
   "outputs": [],
   "source": [
    "df[\"upholstery_colour\"] = df.groupby(['make_model', 'country_version'], group_keys = False)['upholstery_colour'].transform(lambda x: x.fillna(x.mode()[0] if len(x.mode()) > 0 else np.nan))"
   ]
  },
  {
   "cell_type": "code",
   "execution_count": 1348,
   "metadata": {
    "ExecuteTime": {
     "end_time": "2024-02-28T21:28:31.853363Z",
     "start_time": "2024-02-28T21:28:31.839672Z"
    },
    "scrolled": true
   },
   "outputs": [
    {
     "name": "stdout",
     "output_type": "stream",
     "text": [
      "Missing Values in 'upholstery_colour':\n",
      "Count: 0\n",
      "Percentage: 0.00%\n"
     ]
    }
   ],
   "source": [
    "handle_missing_values(df, \"upholstery_colour\")"
   ]
  },
  {
   "cell_type": "markdown",
   "metadata": {},
   "source": [
    "<a id=\"30\"></a>\n",
    "<div class=\"alert alert-info\" role=\"alert\">\n",
    "<h1>Column name :<span style=\"color:red\"> fuel_consumption </span></h1>\n",
    "</div>\n",
    "\n",
    "<div class=\"alert alert-block alert-warning\">\n",
    "<b>Operation : </b> To fill in the missing values in the \"fuel_consumption\" column, we can use the \"short_description\" column . Since the \"fuel_consumption\" column is associated with <span style=\"color:red\"><b>  \" body_type \" , \" power \" , \" engine_size \", \" gearbox \" , \" gears \" , \" make_model \", \" model \", \" country_version \", \" first_registration \"  and \" drivetrain \"</b></span> . let's fill in the <span style=\"color:red\"><b> NaN values</b></span> in this column by grouping the data based on these columns and performing the necessary operations. \n",
    "</div>\n",
    "<a href=\"#toc\" class=\"btn btn-warning btn-lg active\" role=\"button\" aria-pressed=\"true\" style=\"color:black;\">Content</a>"
   ]
  },
  {
   "cell_type": "code",
   "execution_count": 1349,
   "metadata": {
    "ExecuteTime": {
     "end_time": "2024-02-28T21:28:31.887053Z",
     "start_time": "2024-02-28T21:28:31.860004Z"
    }
   },
   "outputs": [
    {
     "name": "stdout",
     "output_type": "stream",
     "text": [
      "column name    :  fuel_consumption\n",
      "--------------------------------\n",
      "per_of_nulls   :  % 18.26\n",
      "num_of_nulls   :  5223\n",
      "num_of_uniques :  304\n",
      "fuel_consumption\n",
      "NaN     5223\n",
      "0.0      648\n",
      "5.0      562\n",
      "5.4      505\n",
      "4.9      494\n",
      "        ... \n",
      "56.0       1\n",
      "0.5        1\n",
      "31.4       1\n",
      "22.7       1\n",
      "15.2       1\n",
      "Name: count, Length: 305, dtype: int64\n"
     ]
    }
   ],
   "source": [
    "first_looking(\"fuel_consumption\")"
   ]
  },
  {
   "cell_type": "code",
   "execution_count": 1350,
   "metadata": {
    "ExecuteTime": {
     "end_time": "2024-02-28T21:28:31.918173Z",
     "start_time": "2024-02-28T21:28:31.893163Z"
    }
   },
   "outputs": [
    {
     "name": "stdout",
     "output_type": "stream",
     "text": [
      "column name    :  fuel_type\n",
      "--------------------------------\n",
      "per_of_nulls   :  % 0.0\n",
      "num_of_nulls   :  0\n",
      "num_of_uniques :  6\n",
      "fuel_type\n",
      "Benzine     17819\n",
      "Diesel       8952\n",
      "Hybrid        877\n",
      "Electric      356\n",
      "Others        354\n",
      "Lpg           244\n",
      "Name: count, dtype: int64\n"
     ]
    }
   ],
   "source": [
    "first_looking(\"fuel_type\")"
   ]
  },
  {
   "cell_type": "code",
   "execution_count": 1351,
   "metadata": {
    "ExecuteTime": {
     "end_time": "2024-02-28T21:28:32.617182Z",
     "start_time": "2024-02-28T21:28:31.927893Z"
    }
   },
   "outputs": [
    {
     "data": {
      "text/plain": [
       "0        41.600000\n",
       "2         7.540385\n",
       "3         6.665000\n",
       "4        53.700000\n",
       "5         8.200000\n",
       "           ...    \n",
       "29472     6.201538\n",
       "29475     9.100000\n",
       "29476    50.766667\n",
       "29477     5.519231\n",
       "29478    10.525000\n",
       "Name: fuel_consumption, Length: 26771, dtype: float64"
      ]
     },
     "execution_count": 1351,
     "metadata": {},
     "output_type": "execute_result"
    }
   ],
   "source": [
    "# \"Benzine\", \"Diesel\", \"Other\", \"LPG\" fuel types have been analyzed separately from Hybrid and Electic Models\n",
    "df_fuel = df[df[\"fuel_type\"].isin([\"Benzine\", \"Diesel\", \"Other\", \"LPG\"])]\n",
    "df_fuel.groupby([\"model\", \"fuel_type\", \"body_type\"])[\"fuel_consumption\"].transform(lambda x: x.mean())"
   ]
  },
  {
   "cell_type": "code",
   "execution_count": 1352,
   "metadata": {
    "ExecuteTime": {
     "end_time": "2024-02-28T21:28:33.217310Z",
     "start_time": "2024-02-28T21:28:32.627891Z"
    }
   },
   "outputs": [
    {
     "data": {
      "text/plain": [
       "1342"
      ]
     },
     "execution_count": 1352,
     "metadata": {},
     "output_type": "execute_result"
    }
   ],
   "source": [
    "# After the groupby operation, how many NaN values do I have remaining?\n",
    "# first NaN values have been filled according to [\"model\", \"fuel_type\", \"body_type\"]\n",
    "df.fuel_consumption.fillna(df_fuel.groupby([\"model\", \"fuel_type\", \"body_type\"])[\"fuel_consumption\"].transform(lambda x: x.mean())).isnull().sum()"
   ]
  },
  {
   "cell_type": "code",
   "execution_count": 1353,
   "metadata": {
    "ExecuteTime": {
     "end_time": "2024-02-28T21:28:34.745584Z",
     "start_time": "2024-02-28T21:28:33.225322Z"
    }
   },
   "outputs": [],
   "source": [
    "df.fuel_consumption.fillna(df_fuel.groupby([\"model\", \"fuel_type\", \"body_type\"])[\"fuel_consumption\"].transform(lambda x: x.mean()), inplace = True)"
   ]
  },
  {
   "cell_type": "code",
   "execution_count": 1354,
   "metadata": {
    "ExecuteTime": {
     "end_time": "2024-02-28T21:28:34.769411Z",
     "start_time": "2024-02-28T21:28:34.754144Z"
    }
   },
   "outputs": [
    {
     "name": "stdout",
     "output_type": "stream",
     "text": [
      "Missing Values in 'fuel_consumption':\n",
      "Count: 1342\n",
      "Percentage: 4.69%\n"
     ]
    }
   ],
   "source": [
    "handle_missing_values(df, \"fuel_consumption\")"
   ]
  },
  {
   "cell_type": "code",
   "execution_count": 1355,
   "metadata": {
    "ExecuteTime": {
     "end_time": "2024-02-28T21:28:35.510427Z",
     "start_time": "2024-02-28T21:28:34.780980Z"
    }
   },
   "outputs": [
    {
     "data": {
      "text/plain": [
       "1265"
      ]
     },
     "execution_count": 1355,
     "metadata": {},
     "output_type": "execute_result"
    }
   ],
   "source": [
    "# After the groupby operation, how many NaN values do I have remaining?\n",
    "df.fuel_consumption.fillna(df_fuel.groupby([\"model\", \"fuel_type\", \"engine_size\"])[\"fuel_consumption\"].transform(lambda x: x.mean())).isnull().sum()"
   ]
  },
  {
   "cell_type": "code",
   "execution_count": 1356,
   "metadata": {
    "ExecuteTime": {
     "end_time": "2024-02-28T21:28:36.197503Z",
     "start_time": "2024-02-28T21:28:35.519720Z"
    }
   },
   "outputs": [],
   "source": [
    "#NaN values have been filled according to [\"model\", \"fuel_type\", \"engine_size\"]\n",
    "df.fuel_consumption.fillna(df_fuel.groupby([\"model\", \"fuel_type\", \"engine_size\"])[\"fuel_consumption\"].transform(lambda x: x.mean()), inplace = True)"
   ]
  },
  {
   "cell_type": "code",
   "execution_count": 1357,
   "metadata": {
    "ExecuteTime": {
     "end_time": "2024-02-28T21:28:36.222569Z",
     "start_time": "2024-02-28T21:28:36.206395Z"
    }
   },
   "outputs": [
    {
     "name": "stdout",
     "output_type": "stream",
     "text": [
      "Missing Values in 'fuel_consumption':\n",
      "Count: 1265\n",
      "Percentage: 4.42%\n"
     ]
    }
   ],
   "source": [
    "handle_missing_values(df, \"fuel_consumption\")"
   ]
  },
  {
   "cell_type": "code",
   "execution_count": 1358,
   "metadata": {
    "ExecuteTime": {
     "end_time": "2024-02-28T21:28:36.314513Z",
     "start_time": "2024-02-28T21:28:36.232152Z"
    }
   },
   "outputs": [
    {
     "data": {
      "text/plain": [
       "648"
      ]
     },
     "execution_count": 1358,
     "metadata": {},
     "output_type": "execute_result"
    }
   ],
   "source": [
    "# After the groupby operation, how many NaN values do I have remaining?\n",
    "df.fuel_consumption.fillna(df_fuel.groupby([\"fuel_type\", \"engine_size\"])[\"fuel_consumption\"].transform(lambda x: x.mean())).isnull().sum()"
   ]
  },
  {
   "cell_type": "code",
   "execution_count": 1359,
   "metadata": {
    "ExecuteTime": {
     "end_time": "2024-02-28T21:28:36.410692Z",
     "start_time": "2024-02-28T21:28:36.326170Z"
    }
   },
   "outputs": [],
   "source": [
    "#NaN values have been filled according to [\"fuel_type\", \"engine_size\"]\n",
    "df.fuel_consumption.fillna(df_fuel.groupby([\"fuel_type\", \"engine_size\"])[\"fuel_consumption\"].transform(lambda x: x.mean()), inplace = True)"
   ]
  },
  {
   "cell_type": "code",
   "execution_count": 1360,
   "metadata": {
    "ExecuteTime": {
     "end_time": "2024-02-28T21:28:36.436370Z",
     "start_time": "2024-02-28T21:28:36.420750Z"
    }
   },
   "outputs": [
    {
     "name": "stdout",
     "output_type": "stream",
     "text": [
      "Missing Values in 'fuel_consumption':\n",
      "Count: 648\n",
      "Percentage: 2.27%\n"
     ]
    }
   ],
   "source": [
    "handle_missing_values(df, \"fuel_consumption\")"
   ]
  },
  {
   "cell_type": "code",
   "execution_count": 1361,
   "metadata": {
    "ExecuteTime": {
     "end_time": "2024-02-28T21:28:37.010622Z",
     "start_time": "2024-02-28T21:28:36.444553Z"
    }
   },
   "outputs": [
    {
     "data": {
      "text/plain": [
       "640"
      ]
     },
     "execution_count": 1361,
     "metadata": {},
     "output_type": "execute_result"
    }
   ],
   "source": [
    "# After the groupby operation, how many NaN values do I have remaining?\n",
    "df.fuel_consumption.fillna(df_fuel.groupby([\"make_model\", \"gears\"])[\"fuel_consumption\"].transform(lambda x: x.mean())).isnull().sum()"
   ]
  },
  {
   "cell_type": "code",
   "execution_count": 1362,
   "metadata": {
    "ExecuteTime": {
     "end_time": "2024-02-28T21:28:37.509017Z",
     "start_time": "2024-02-28T21:28:37.020945Z"
    }
   },
   "outputs": [],
   "source": [
    "#NaN values have been filled according to [\"make_model\", \"gears\"]\n",
    "df.fuel_consumption.fillna(df_fuel.groupby([\"make_model\", \"gears\"])[\"fuel_consumption\"].transform(lambda x: x.mean()), inplace = True)"
   ]
  },
  {
   "cell_type": "code",
   "execution_count": 1363,
   "metadata": {
    "ExecuteTime": {
     "end_time": "2024-02-28T21:28:37.523262Z",
     "start_time": "2024-02-28T21:28:37.513605Z"
    }
   },
   "outputs": [
    {
     "name": "stdout",
     "output_type": "stream",
     "text": [
      "Missing Values in 'fuel_consumption':\n",
      "Count: 640\n",
      "Percentage: 2.24%\n"
     ]
    }
   ],
   "source": [
    "handle_missing_values(df, \"fuel_consumption\")"
   ]
  },
  {
   "cell_type": "code",
   "execution_count": 1364,
   "metadata": {
    "ExecuteTime": {
     "end_time": "2024-02-28T21:28:37.579874Z",
     "start_time": "2024-02-28T21:28:37.530405Z"
    }
   },
   "outputs": [
    {
     "data": {
      "text/plain": [
       "fuel_type  fuel_consumption\n",
       "Benzine    5.0                 556\n",
       "           5.4                 502\n",
       "           4.9                 482\n",
       "           5.1                 476\n",
       "           0.0                 467\n",
       "                              ... \n",
       "Others     7.9                   1\n",
       "           6.7                   1\n",
       "           2.5                   1\n",
       "           2.3                   1\n",
       "           1.9                   1\n",
       "Name: count, Length: 1041, dtype: int64"
      ]
     },
     "execution_count": 1364,
     "metadata": {},
     "output_type": "execute_result"
    }
   ],
   "source": [
    "df.groupby(\"fuel_type\")[\"fuel_consumption\"].value_counts(dropna = False)"
   ]
  },
  {
   "cell_type": "code",
   "execution_count": 1365,
   "metadata": {
    "ExecuteTime": {
     "end_time": "2024-02-28T21:28:37.705200Z",
     "start_time": "2024-02-28T21:28:37.590184Z"
    }
   },
   "outputs": [],
   "source": [
    "df_fuel = df_fuel.copy()"
   ]
  },
  {
   "cell_type": "code",
   "execution_count": 1366,
   "metadata": {
    "ExecuteTime": {
     "end_time": "2024-02-28T21:28:37.726369Z",
     "start_time": "2024-02-28T21:28:37.710010Z"
    }
   },
   "outputs": [
    {
     "data": {
      "text/plain": [
       "dtype('float64')"
      ]
     },
     "execution_count": 1366,
     "metadata": {},
     "output_type": "execute_result"
    }
   ],
   "source": [
    "df.engine_size.dtype"
   ]
  },
  {
   "cell_type": "code",
   "execution_count": 1367,
   "metadata": {
    "ExecuteTime": {
     "end_time": "2024-02-28T21:28:37.762535Z",
     "start_time": "2024-02-28T21:28:37.734516Z"
    }
   },
   "outputs": [],
   "source": [
    "df_fuel[\"engine_class\"] = df_fuel.engine_size.transform(lambda x: \"best\" if x <= 1.4 else \\\n",
    "                    \"medium\" if x <= 1.8  else \"high\" if x <= 2.6 \\\n",
    "                    else \"higher\" if x <= 3.5 else \"too much\")"
   ]
  },
  {
   "cell_type": "code",
   "execution_count": 1368,
   "metadata": {
    "ExecuteTime": {
     "end_time": "2024-02-28T21:28:37.837776Z",
     "start_time": "2024-02-28T21:28:37.768128Z"
    }
   },
   "outputs": [
    {
     "data": {
      "text/plain": [
       "626"
      ]
     },
     "execution_count": 1368,
     "metadata": {},
     "output_type": "execute_result"
    }
   ],
   "source": [
    "# After the groupby operation, how many NaN values do I have remaining?\n",
    "df.fuel_consumption.fillna(df_fuel.groupby([\"make\", \"engine_class\"])[\"fuel_consumption\"].transform(lambda x: x.mean())).isnull().sum()"
   ]
  },
  {
   "cell_type": "code",
   "execution_count": 1369,
   "metadata": {
    "ExecuteTime": {
     "end_time": "2024-02-28T21:28:37.897355Z",
     "start_time": "2024-02-28T21:28:37.845597Z"
    }
   },
   "outputs": [],
   "source": [
    "# remaining NaN values have been filled after engine size has been reclassified as seen above\n",
    "df.fuel_consumption.fillna(df_fuel.groupby([\"make\", \"engine_class\"])[\"fuel_consumption\"].transform(lambda x: x.mean()), inplace = True)"
   ]
  },
  {
   "cell_type": "code",
   "execution_count": 1370,
   "metadata": {
    "ExecuteTime": {
     "end_time": "2024-02-28T21:28:37.921546Z",
     "start_time": "2024-02-28T21:28:37.908311Z"
    }
   },
   "outputs": [
    {
     "name": "stdout",
     "output_type": "stream",
     "text": [
      "Missing Values in 'fuel_consumption':\n",
      "Count: 626\n",
      "Percentage: 2.19%\n"
     ]
    }
   ],
   "source": [
    "handle_missing_values(df, \"fuel_consumption\")"
   ]
  },
  {
   "cell_type": "code",
   "execution_count": 1371,
   "metadata": {
    "ExecuteTime": {
     "end_time": "2024-02-28T21:28:37.946636Z",
     "start_time": "2024-02-28T21:28:37.927668Z"
    }
   },
   "outputs": [
    {
     "data": {
      "text/plain": [
       "array(['Electric', 'Lpg', 'Hybrid', 'Others', 'Benzine'], dtype=object)"
      ]
     },
     "execution_count": 1371,
     "metadata": {},
     "output_type": "execute_result"
    }
   ],
   "source": [
    "# Let's fill Electric and Hybrid fuel_type .\n",
    "# Let's handle hybrid and electric vehicles separately because their fuel consumption is calculated differently.\n",
    "df[df.fuel_consumption.isnull()][\"fuel_type\"].unique()"
   ]
  },
  {
   "cell_type": "code",
   "execution_count": 1372,
   "metadata": {
    "ExecuteTime": {
     "end_time": "2024-02-28T21:28:37.990564Z",
     "start_time": "2024-02-28T21:28:37.959439Z"
    }
   },
   "outputs": [
    {
     "data": {
      "text/plain": [
       "Index([  732,  1263,  1291,  1400,  1622,  2003,  2019,  2026,  2028,  2037,\n",
       "       ...\n",
       "       29288, 29299, 29302, 29315, 29324, 29338, 29398, 29408, 29466, 29474],\n",
       "      dtype='int64', length=877)"
      ]
     },
     "execution_count": 1372,
     "metadata": {},
     "output_type": "execute_result"
    }
   ],
   "source": [
    "df[df[\"fuel_type\"] == \"Hybrid\"].index"
   ]
  },
  {
   "cell_type": "code",
   "execution_count": 1373,
   "metadata": {
    "ExecuteTime": {
     "end_time": "2024-02-28T21:28:38.045441Z",
     "start_time": "2024-02-28T21:28:37.995155Z"
    }
   },
   "outputs": [
    {
     "data": {
      "text/plain": [
       "1263     1.9\n",
       "27829    5.6\n",
       "27831    5.6\n",
       "27890    5.5\n",
       "28215    5.6\n",
       "28217    5.6\n",
       "28272    5.5\n",
       "28324    NaN\n",
       "28399    4.7\n",
       "28724    NaN\n",
       "28799    4.7\n",
       "Name: fuel_consumption, dtype: float64"
      ]
     },
     "execution_count": 1373,
     "metadata": {},
     "output_type": "execute_result"
    }
   ],
   "source": [
    "# Even though the most common Fuel Type for hybrid automobiles is Benzine, Diesel also might be preferred.\n",
    "# Hybrid/diesel fuel type has been searched in Short Description \n",
    "df.loc[df[df[\"fuel_type\"] == \"Hybrid\"][\"short_description\"].str.extract(\"(diesel)\", flags=re.IGNORECASE).dropna().index, \"fuel_consumption\"]"
   ]
  },
  {
   "cell_type": "code",
   "execution_count": 1374,
   "metadata": {
    "ExecuteTime": {
     "end_time": "2024-02-28T21:28:38.088567Z",
     "start_time": "2024-02-28T21:28:38.051020Z"
    }
   },
   "outputs": [],
   "source": [
    "# hybrid diesel fuel type has been reclassified as \"Hybrid/Diesel\"\n",
    "df.loc[df[df[\"fuel_type\"] == \"Hybrid\"][\"short_description\"].str.extract(\"(diesel)\", flags=re.IGNORECASE).dropna().index, \"fuel_type\"] = \"Hybrid/Diesel\""
   ]
  },
  {
   "cell_type": "code",
   "execution_count": 1375,
   "metadata": {
    "ExecuteTime": {
     "end_time": "2024-02-28T21:28:38.131974Z",
     "start_time": "2024-02-28T21:28:38.098064Z"
    }
   },
   "outputs": [],
   "source": [
    "# hybrid diesel fuel type has been transformed from LT/100 km to KwH/100 km\n",
    "df.loc[df[\"fuel_type\"] == \"Hybrid/Diesel\", \"fuel_consumption\"] = (df.loc[df[\"fuel_type\"] == \"Hybrid/Diesel\", \"fuel_consumption\"] * 10.96).round(1)\n"
   ]
  },
  {
   "cell_type": "code",
   "execution_count": 1376,
   "metadata": {
    "ExecuteTime": {
     "end_time": "2024-02-28T21:28:38.174127Z",
     "start_time": "2024-02-28T21:28:38.141889Z"
    }
   },
   "outputs": [
    {
     "data": {
      "text/plain": [
       "1263     20.8\n",
       "27829    61.4\n",
       "27831    61.4\n",
       "27890    60.3\n",
       "28215    61.4\n",
       "28217    61.4\n",
       "28272    60.3\n",
       "28324     NaN\n",
       "28399    51.5\n",
       "28724     NaN\n",
       "28799    51.5\n",
       "Name: fuel_consumption, dtype: float64"
      ]
     },
     "execution_count": 1376,
     "metadata": {},
     "output_type": "execute_result"
    }
   ],
   "source": [
    "df[df[\"fuel_type\"] == \"Hybrid/Diesel\"][\"fuel_consumption\"]"
   ]
  },
  {
   "cell_type": "code",
   "execution_count": 1377,
   "metadata": {
    "ExecuteTime": {
     "end_time": "2024-02-28T21:28:38.219008Z",
     "start_time": "2024-02-28T21:28:38.184491Z"
    }
   },
   "outputs": [],
   "source": [
    "# hybrid Benzine fuel type has been transformed from LT/100 km to KwH/100 km\n",
    "df.loc[df[df[\"fuel_type\"] == \"Hybrid\"].index, \"fuel_consumption\"] = (df.loc[df[df[\"fuel_type\"] == \"Hybrid\"].index, \"fuel_consumption\"] * 9.61).round(1)"
   ]
  },
  {
   "cell_type": "code",
   "execution_count": 1378,
   "metadata": {
    "ExecuteTime": {
     "end_time": "2024-02-28T21:28:38.260347Z",
     "start_time": "2024-02-28T21:28:38.229759Z"
    }
   },
   "outputs": [
    {
     "data": {
      "text/plain": [
       "732      78.8\n",
       "1291      NaN\n",
       "1400      NaN\n",
       "1622     83.6\n",
       "2003     42.3\n",
       "         ... \n",
       "29338    16.3\n",
       "29398    57.7\n",
       "29408    57.7\n",
       "29466    18.3\n",
       "29474    19.2\n",
       "Name: fuel_consumption, Length: 866, dtype: float64"
      ]
     },
     "execution_count": 1378,
     "metadata": {},
     "output_type": "execute_result"
    }
   ],
   "source": [
    "df[df[\"fuel_type\"] == \"Hybrid\"][\"fuel_consumption\"]"
   ]
  },
  {
   "cell_type": "code",
   "execution_count": 1379,
   "metadata": {
    "ExecuteTime": {
     "end_time": "2024-02-28T21:28:38.274729Z",
     "start_time": "2024-02-28T21:28:38.265920Z"
    }
   },
   "outputs": [
    {
     "name": "stdout",
     "output_type": "stream",
     "text": [
      "Missing Values in 'fuel_consumption':\n",
      "Count: 626\n",
      "Percentage: 2.19%\n"
     ]
    }
   ],
   "source": [
    "handle_missing_values(df, \"fuel_consumption\")"
   ]
  },
  {
   "cell_type": "code",
   "execution_count": 1380,
   "metadata": {
    "ExecuteTime": {
     "end_time": "2024-02-28T21:28:39.085908Z",
     "start_time": "2024-02-28T21:28:38.284282Z"
    }
   },
   "outputs": [
    {
     "data": {
      "text/plain": [
       "456"
      ]
     },
     "execution_count": 1380,
     "metadata": {},
     "output_type": "execute_result"
    }
   ],
   "source": [
    "# After the groupby operation, how many NaN values do I have remaining?\n",
    "df.fuel_consumption.fillna(df.groupby([\"model\", \"fuel_type\", \"engine_size\"])[\"fuel_consumption\"].transform(lambda x: x.mean())).isnull().sum()"
   ]
  },
  {
   "cell_type": "code",
   "execution_count": 1381,
   "metadata": {
    "ExecuteTime": {
     "end_time": "2024-02-28T21:28:39.924331Z",
     "start_time": "2024-02-28T21:28:39.091438Z"
    }
   },
   "outputs": [],
   "source": [
    "# Remainin NaN values have been filled according to [\"model\", \"fuel_type\", \"engine_size\"]\n",
    "df.fuel_consumption.fillna(df.groupby([\"model\", \"fuel_type\", \"engine_size\"])[\"fuel_consumption\"].transform(lambda x: x.mean()), inplace = True)"
   ]
  },
  {
   "cell_type": "code",
   "execution_count": 1382,
   "metadata": {
    "ExecuteTime": {
     "end_time": "2024-02-28T21:28:39.943052Z",
     "start_time": "2024-02-28T21:28:39.931877Z"
    }
   },
   "outputs": [
    {
     "name": "stdout",
     "output_type": "stream",
     "text": [
      "Missing Values in 'fuel_consumption':\n",
      "Count: 456\n",
      "Percentage: 1.59%\n"
     ]
    }
   ],
   "source": [
    "handle_missing_values(df, \"fuel_consumption\")"
   ]
  },
  {
   "cell_type": "code",
   "execution_count": 1383,
   "metadata": {
    "ExecuteTime": {
     "end_time": "2024-02-28T21:28:40.418509Z",
     "start_time": "2024-02-28T21:28:39.948376Z"
    }
   },
   "outputs": [
    {
     "data": {
      "text/plain": [
       "39"
      ]
     },
     "execution_count": 1383,
     "metadata": {},
     "output_type": "execute_result"
    }
   ],
   "source": [
    "# After the groupby operation, how many NaN values do I have remaining?\n",
    "df.fuel_consumption.fillna(df.groupby([\"power\", \"country_version\"])[\"fuel_consumption\"].transform(lambda x: x.mean())).isnull().sum()"
   ]
  },
  {
   "cell_type": "code",
   "execution_count": 1384,
   "metadata": {
    "ExecuteTime": {
     "end_time": "2024-02-28T21:28:40.861221Z",
     "start_time": "2024-02-28T21:28:40.424703Z"
    }
   },
   "outputs": [],
   "source": [
    "# Remainin NaN values have been filled according to [\"power\", \"country_version\"]\n",
    "df.fuel_consumption.fillna(df.groupby([\"power\", \"country_version\"])[\"fuel_consumption\"].transform(lambda x: x.mean()), inplace = True)"
   ]
  },
  {
   "cell_type": "code",
   "execution_count": 1385,
   "metadata": {
    "ExecuteTime": {
     "end_time": "2024-02-28T21:28:40.885916Z",
     "start_time": "2024-02-28T21:28:40.873227Z"
    }
   },
   "outputs": [
    {
     "name": "stdout",
     "output_type": "stream",
     "text": [
      "Missing Values in 'fuel_consumption':\n",
      "Count: 39\n",
      "Percentage: 0.14%\n"
     ]
    }
   ],
   "source": [
    "handle_missing_values(df, \"fuel_consumption\")"
   ]
  },
  {
   "cell_type": "code",
   "execution_count": 1386,
   "metadata": {
    "ExecuteTime": {
     "end_time": "2024-02-28T21:28:40.948899Z",
     "start_time": "2024-02-28T21:28:40.890500Z"
    }
   },
   "outputs": [
    {
     "data": {
      "text/plain": [
       "0"
      ]
     },
     "execution_count": 1386,
     "metadata": {},
     "output_type": "execute_result"
    }
   ],
   "source": [
    "# After the groupby operation, how many NaN values do I have remaining?\n",
    "df.fuel_consumption.fillna(df.groupby([\"fuel_type\", \"drivetrain\"])[\"fuel_consumption\"].transform(lambda x: x.mean())).isnull().sum()"
   ]
  },
  {
   "cell_type": "code",
   "execution_count": 1387,
   "metadata": {
    "ExecuteTime": {
     "end_time": "2024-02-28T21:28:40.998805Z",
     "start_time": "2024-02-28T21:28:40.955256Z"
    }
   },
   "outputs": [],
   "source": [
    "# Remainin NaN values have been filled according to [\"fuel_type\", \"drivetrain\"]\n",
    "df.fuel_consumption.fillna(df.groupby([\"fuel_type\", \"drivetrain\"])[\"fuel_consumption\"].transform(lambda x: x.mean()), inplace = True)"
   ]
  },
  {
   "cell_type": "code",
   "execution_count": 1388,
   "metadata": {
    "ExecuteTime": {
     "end_time": "2024-02-28T21:28:41.021228Z",
     "start_time": "2024-02-28T21:28:41.005113Z"
    }
   },
   "outputs": [
    {
     "name": "stdout",
     "output_type": "stream",
     "text": [
      "Missing Values in 'fuel_consumption':\n",
      "Count: 0\n",
      "Percentage: 0.00%\n"
     ]
    }
   ],
   "source": [
    "handle_missing_values(df, \"fuel_consumption\")"
   ]
  },
  {
   "cell_type": "markdown",
   "metadata": {},
   "source": [
    "<a id=\"31\"></a>\n",
    "<div class=\"alert alert-info\" role=\"alert\">\n",
    "<h1>Column name :<span style=\"color:red\"> make_model and model </span></h1>\n",
    "</div>\n",
    "\n",
    "<div class=\"alert alert-block alert-warning\">\n",
    "<b>Operation : </b> To fill in the missing values in the \"fuel_consumption\" column, we can use the \"short_description\" column . Since the \"fuel_consumption\" column is associated with <span style=\"color:red\"><b> ' body_type ',' make ', ' drivetrain', ' country_version ' , ' engine_size ' and '  first_registration '</b></span> . let's fill in the <span style=\"color:red\"><b> NaN values</b></span> in this column by grouping the data based on these columns and performing the necessary operations. \n",
    "</div>\n",
    "<a href=\"#toc\" class=\"btn btn-warning btn-lg active\" role=\"button\" aria-pressed=\"true\" style=\"color:black;\">Content</a>"
   ]
  },
  {
   "cell_type": "code",
   "execution_count": 1389,
   "metadata": {
    "ExecuteTime": {
     "end_time": "2024-02-28T21:28:41.051827Z",
     "start_time": "2024-02-28T21:28:41.031874Z"
    }
   },
   "outputs": [
    {
     "name": "stdout",
     "output_type": "stream",
     "text": [
      "column name    :  model\n",
      "--------------------------------\n",
      "per_of_nulls   :  % 0.95\n",
      "num_of_nulls   :  272\n",
      "num_of_uniques :  585\n",
      "model\n",
      "Megane        863\n",
      "Leon          787\n",
      "V40           740\n",
      "Sandero       730\n",
      "i30           706\n",
      "             ... \n",
      "CLK 240         1\n",
      "Ariya           1\n",
      "280 ZX          1\n",
      "GLS 63 AMG      1\n",
      "244             1\n",
      "Name: count, Length: 586, dtype: int64\n"
     ]
    }
   ],
   "source": [
    "first_looking(\"model\")"
   ]
  },
  {
   "cell_type": "code",
   "execution_count": 1390,
   "metadata": {
    "ExecuteTime": {
     "end_time": "2024-02-28T21:28:41.079525Z",
     "start_time": "2024-02-28T21:28:41.056541Z"
    }
   },
   "outputs": [
    {
     "data": {
      "text/plain": [
       "162      Mercedes-Benz \n",
       "184      Mercedes-Benz \n",
       "186      Mercedes-Benz \n",
       "211      Mercedes-Benz \n",
       "213      Mercedes-Benz \n",
       "              ...      \n",
       "27638            Volvo \n",
       "27681            Volvo \n",
       "28020            Volvo \n",
       "28036            Volvo \n",
       "28079            Volvo \n",
       "Name: make_model, Length: 272, dtype: object"
      ]
     },
     "execution_count": 1390,
     "metadata": {},
     "output_type": "execute_result"
    }
   ],
   "source": [
    "df[df[\"model\"].isnull()][\"make_model\"]"
   ]
  },
  {
   "cell_type": "code",
   "execution_count": 1391,
   "metadata": {
    "ExecuteTime": {
     "end_time": "2024-02-28T21:28:41.115936Z",
     "start_time": "2024-02-28T21:28:41.089555Z"
    }
   },
   "outputs": [
    {
     "name": "stdout",
     "output_type": "stream",
     "text": [
      "column name    :  make\n",
      "--------------------------------\n",
      "per_of_nulls   :  % 0.0\n",
      "num_of_nulls   :  0\n",
      "num_of_uniques :  13\n",
      "make\n",
      "Volvo            3657\n",
      "Mercedes-Benz    2394\n",
      "Opel             2384\n",
      "Peugeot          2357\n",
      "Renault          2344\n",
      "Fiat             2336\n",
      "Ford             2321\n",
      "Nissan           2062\n",
      "Toyota           2037\n",
      "Hyundai          1866\n",
      "SEAT             1743\n",
      "Skoda            1565\n",
      "Dacia            1536\n",
      "Name: count, dtype: int64\n"
     ]
    }
   ],
   "source": [
    "first_looking(\"make\")"
   ]
  },
  {
   "cell_type": "code",
   "execution_count": 1392,
   "metadata": {
    "ExecuteTime": {
     "end_time": "2024-02-28T21:28:41.150674Z",
     "start_time": "2024-02-28T21:28:41.120705Z"
    }
   },
   "outputs": [
    {
     "name": "stdout",
     "output_type": "stream",
     "text": [
      "column name    :  make_model\n",
      "--------------------------------\n",
      "per_of_nulls   :  % 0.0\n",
      "num_of_nulls   :  0\n",
      "num_of_uniques :  603\n",
      "make_model\n",
      "Renault Megane            863\n",
      "SEAT Leon                 787\n",
      "Volvo V40                 740\n",
      "Dacia Sandero             730\n",
      "Hyundai i30               706\n",
      "                         ... \n",
      "Mercedes-Benz CLK 240       1\n",
      "Mercedes-Benz SL 450        1\n",
      "Nissan NV250                1\n",
      "Mercedes-Benz C 32 AMG      1\n",
      "Volvo 244                   1\n",
      "Name: count, Length: 603, dtype: int64\n"
     ]
    }
   ],
   "source": [
    "first_looking(\"make_model\")"
   ]
  },
  {
   "cell_type": "code",
   "execution_count": 1393,
   "metadata": {
    "ExecuteTime": {
     "end_time": "2024-02-28T21:28:41.202359Z",
     "start_time": "2024-02-28T21:28:41.161077Z"
    }
   },
   "outputs": [
    {
     "data": {
      "text/html": [
       "<div>\n",
       "<style scoped>\n",
       "    .dataframe tbody tr th:only-of-type {\n",
       "        vertical-align: middle;\n",
       "    }\n",
       "\n",
       "    .dataframe tbody tr th {\n",
       "        vertical-align: top;\n",
       "    }\n",
       "\n",
       "    .dataframe thead th {\n",
       "        text-align: right;\n",
       "    }\n",
       "</style>\n",
       "<table border=\"1\" class=\"dataframe\">\n",
       "  <thead>\n",
       "    <tr style=\"text-align: right;\">\n",
       "      <th></th>\n",
       "      <th>model_code</th>\n",
       "      <th>make_model</th>\n",
       "      <th>body_type</th>\n",
       "    </tr>\n",
       "  </thead>\n",
       "  <tbody>\n",
       "    <tr>\n",
       "      <th>162</th>\n",
       "      <td>NaN</td>\n",
       "      <td>Mercedes-Benz</td>\n",
       "      <td>Compact</td>\n",
       "    </tr>\n",
       "    <tr>\n",
       "      <th>184</th>\n",
       "      <td>NaN</td>\n",
       "      <td>Mercedes-Benz</td>\n",
       "      <td>Compact</td>\n",
       "    </tr>\n",
       "    <tr>\n",
       "      <th>186</th>\n",
       "      <td>NaN</td>\n",
       "      <td>Mercedes-Benz</td>\n",
       "      <td>Compact</td>\n",
       "    </tr>\n",
       "    <tr>\n",
       "      <th>211</th>\n",
       "      <td>NaN</td>\n",
       "      <td>Mercedes-Benz</td>\n",
       "      <td>Compact</td>\n",
       "    </tr>\n",
       "    <tr>\n",
       "      <th>213</th>\n",
       "      <td>NaN</td>\n",
       "      <td>Mercedes-Benz</td>\n",
       "      <td>Compact</td>\n",
       "    </tr>\n",
       "    <tr>\n",
       "      <th>...</th>\n",
       "      <td>...</td>\n",
       "      <td>...</td>\n",
       "      <td>...</td>\n",
       "    </tr>\n",
       "    <tr>\n",
       "      <th>27638</th>\n",
       "      <td>NaN</td>\n",
       "      <td>Volvo</td>\n",
       "      <td>Off-Road/Pick-up</td>\n",
       "    </tr>\n",
       "    <tr>\n",
       "      <th>27681</th>\n",
       "      <td>NaN</td>\n",
       "      <td>Volvo</td>\n",
       "      <td>Off-Road/Pick-up</td>\n",
       "    </tr>\n",
       "    <tr>\n",
       "      <th>28020</th>\n",
       "      <td>9101/BTE</td>\n",
       "      <td>Volvo</td>\n",
       "      <td>Off-Road/Pick-up</td>\n",
       "    </tr>\n",
       "    <tr>\n",
       "      <th>28036</th>\n",
       "      <td>NaN</td>\n",
       "      <td>Volvo</td>\n",
       "      <td>Off-Road/Pick-up</td>\n",
       "    </tr>\n",
       "    <tr>\n",
       "      <th>28079</th>\n",
       "      <td>NaN</td>\n",
       "      <td>Volvo</td>\n",
       "      <td>Off-Road/Pick-up</td>\n",
       "    </tr>\n",
       "  </tbody>\n",
       "</table>\n",
       "<p>272 rows × 3 columns</p>\n",
       "</div>"
      ],
      "text/plain": [
       "      model_code      make_model         body_type\n",
       "162          NaN  Mercedes-Benz            Compact\n",
       "184          NaN  Mercedes-Benz            Compact\n",
       "186          NaN  Mercedes-Benz            Compact\n",
       "211          NaN  Mercedes-Benz            Compact\n",
       "213          NaN  Mercedes-Benz            Compact\n",
       "...          ...             ...               ...\n",
       "27638        NaN          Volvo   Off-Road/Pick-up\n",
       "27681        NaN          Volvo   Off-Road/Pick-up\n",
       "28020   9101/BTE          Volvo   Off-Road/Pick-up\n",
       "28036        NaN          Volvo   Off-Road/Pick-up\n",
       "28079        NaN          Volvo   Off-Road/Pick-up\n",
       "\n",
       "[272 rows x 3 columns]"
      ]
     },
     "execution_count": 1393,
     "metadata": {},
     "output_type": "execute_result"
    }
   ],
   "source": [
    "df[df[\"model\"].isnull()][[\"model_code\", \"make_model\", 'body_type']]"
   ]
  },
  {
   "cell_type": "code",
   "execution_count": 1394,
   "metadata": {
    "ExecuteTime": {
     "end_time": "2024-02-28T21:28:41.227362Z",
     "start_time": "2024-02-28T21:28:41.212107Z"
    }
   },
   "outputs": [],
   "source": [
    "# missing model names has been filtered and assigned to df_model_nan\n",
    "df_model_nan = df[df[\"model\"].isnull()]"
   ]
  },
  {
   "cell_type": "code",
   "execution_count": 1395,
   "metadata": {
    "ExecuteTime": {
     "end_time": "2024-02-28T21:28:41.256259Z",
     "start_time": "2024-02-28T21:28:41.232655Z"
    },
    "scrolled": true
   },
   "outputs": [
    {
     "data": {
      "text/plain": [
       "array(['Mercedes-Benz', 'Opel', 'Renault', 'Peugeot', 'Fiat', 'SEAT',\n",
       "       'Skoda', 'Dacia', 'Toyota', 'Nissan', 'Ford', 'Hyundai', 'Volvo'],\n",
       "      dtype=object)"
      ]
     },
     "execution_count": 1395,
     "metadata": {},
     "output_type": "execute_result"
    }
   ],
   "source": [
    "df_model_nan.make.unique()"
   ]
  },
  {
   "cell_type": "code",
   "execution_count": 1396,
   "metadata": {
    "ExecuteTime": {
     "end_time": "2024-02-28T21:28:41.276964Z",
     "start_time": "2024-02-28T21:28:41.264861Z"
    }
   },
   "outputs": [
    {
     "name": "stdout",
     "output_type": "stream",
     "text": [
      "Missing Values in 'model':\n",
      "Count: 272\n",
      "Percentage: 0.95%\n"
     ]
    }
   ],
   "source": [
    "handle_missing_values(df, \"model\")"
   ]
  },
  {
   "cell_type": "code",
   "execution_count": 1397,
   "metadata": {
    "ExecuteTime": {
     "end_time": "2024-02-28T21:28:43.594248Z",
     "start_time": "2024-02-28T21:28:41.282334Z"
    }
   },
   "outputs": [
    {
     "data": {
      "text/plain": [
       "45"
      ]
     },
     "execution_count": 1397,
     "metadata": {},
     "output_type": "execute_result"
    }
   ],
   "source": [
    "# After the groupby operation, how many NaN values do I have remaining?\n",
    "\n",
    "df.groupby(['drivetrain', 'body_type', 'make', 'first_registration'], group_keys = False)['model'].transform(lambda x: x.fillna(x.mode()[0] if len(x.mode()) > 0 else np.nan)).isnull().sum()"
   ]
  },
  {
   "cell_type": "code",
   "execution_count": 1398,
   "metadata": {
    "ExecuteTime": {
     "end_time": "2024-02-28T21:28:46.753987Z",
     "start_time": "2024-02-28T21:28:43.604420Z"
    }
   },
   "outputs": [],
   "source": [
    "df.model = df.groupby(['drivetrain', 'body_type', 'make', 'first_registration'], group_keys = False)['model'].transform(lambda x: x.fillna(x.mode()[0] if len(x.mode()) > 0 else np.nan))"
   ]
  },
  {
   "cell_type": "code",
   "execution_count": 1399,
   "metadata": {
    "ExecuteTime": {
     "end_time": "2024-02-28T21:28:46.780247Z",
     "start_time": "2024-02-28T21:28:46.762249Z"
    }
   },
   "outputs": [
    {
     "name": "stdout",
     "output_type": "stream",
     "text": [
      "Missing Values in 'model':\n",
      "Count: 45\n",
      "Percentage: 0.16%\n"
     ]
    }
   ],
   "source": [
    "handle_missing_values(df, \"model\")"
   ]
  },
  {
   "cell_type": "code",
   "execution_count": 1400,
   "metadata": {
    "ExecuteTime": {
     "end_time": "2024-02-28T21:28:47.363172Z",
     "start_time": "2024-02-28T21:28:46.792458Z"
    }
   },
   "outputs": [
    {
     "data": {
      "text/plain": [
       "0"
      ]
     },
     "execution_count": 1400,
     "metadata": {},
     "output_type": "execute_result"
    }
   ],
   "source": [
    "# After the groupby operation, how many NaN values do I have remaining?\n",
    "\n",
    "df.groupby(['country_version', 'body_type', 'make'], group_keys = False)['model'].transform(lambda x: x.fillna(x.mode()[0] if len(x.mode()) > 0 else np.nan)).isnull().sum()"
   ]
  },
  {
   "cell_type": "code",
   "execution_count": 1401,
   "metadata": {
    "ExecuteTime": {
     "end_time": "2024-02-28T21:28:47.970392Z",
     "start_time": "2024-02-28T21:28:47.367574Z"
    }
   },
   "outputs": [],
   "source": [
    "df.model = df.groupby(['country_version', 'body_type', 'make'], group_keys = False)['model'].transform(lambda x: x.fillna(x.mode()[0] if len(x.mode()) > 0 else np.nan))"
   ]
  },
  {
   "cell_type": "code",
   "execution_count": 1402,
   "metadata": {
    "ExecuteTime": {
     "end_time": "2024-02-28T21:28:47.993171Z",
     "start_time": "2024-02-28T21:28:47.977667Z"
    }
   },
   "outputs": [
    {
     "name": "stdout",
     "output_type": "stream",
     "text": [
      "Missing Values in 'model':\n",
      "Count: 0\n",
      "Percentage: 0.00%\n"
     ]
    }
   ],
   "source": [
    "handle_missing_values(df, \"model\")"
   ]
  },
  {
   "cell_type": "code",
   "execution_count": 1403,
   "metadata": {
    "ExecuteTime": {
     "end_time": "2024-02-28T21:28:48.025607Z",
     "start_time": "2024-02-28T21:28:48.002361Z"
    }
   },
   "outputs": [
    {
     "name": "stdout",
     "output_type": "stream",
     "text": [
      "Missing Values in 'make':\n",
      "Count: 0\n",
      "Percentage: 0.00%\n"
     ]
    }
   ],
   "source": [
    "handle_missing_values(df, \"make\")"
   ]
  },
  {
   "cell_type": "code",
   "execution_count": 1404,
   "metadata": {
    "ExecuteTime": {
     "end_time": "2024-02-28T21:28:48.051562Z",
     "start_time": "2024-02-28T21:28:48.035921Z"
    }
   },
   "outputs": [
    {
     "name": "stdout",
     "output_type": "stream",
     "text": [
      "Missing Values in 'make_model':\n",
      "Count: 0\n",
      "Percentage: 0.00%\n"
     ]
    }
   ],
   "source": [
    "handle_missing_values(df, \"make_model\")"
   ]
  },
  {
   "cell_type": "code",
   "execution_count": 1405,
   "metadata": {
    "ExecuteTime": {
     "end_time": "2024-02-28T21:28:48.157448Z",
     "start_time": "2024-02-28T21:28:48.063527Z"
    }
   },
   "outputs": [],
   "source": [
    "# Since missing value handlind is completed for model column. Make_model column is also filled simultaneously.\n",
    "df[\"make_model\"] = df[\"make\"].str.strip() + \" \" + df[\"model\"].str.strip()\n",
    "df[\"make_model\"] = df[\"make_model\"].str.title()"
   ]
  },
  {
   "cell_type": "code",
   "execution_count": 1406,
   "metadata": {
    "ExecuteTime": {
     "end_time": "2024-02-28T21:28:48.189635Z",
     "start_time": "2024-02-28T21:28:48.169559Z"
    }
   },
   "outputs": [
    {
     "data": {
      "text/plain": [
       "0           Mercedes-Benz A 160\n",
       "1         Mercedes-Benz Eqe 350\n",
       "2        Mercedes-Benz A 45 Amg\n",
       "3        Mercedes-Benz A 35 Amg\n",
       "4        Mercedes-Benz A 45 Amg\n",
       "                  ...          \n",
       "29474                 Volvo S90\n",
       "29475                 Volvo S40\n",
       "29476                 Volvo C30\n",
       "29477                 Volvo S90\n",
       "29478                 Volvo S80\n",
       "Name: make_model, Length: 28602, dtype: object"
      ]
     },
     "execution_count": 1406,
     "metadata": {},
     "output_type": "execute_result"
    }
   ],
   "source": [
    "df.make_model"
   ]
  },
  {
   "cell_type": "code",
   "execution_count": 1407,
   "metadata": {
    "ExecuteTime": {
     "end_time": "2024-02-28T21:28:48.249923Z",
     "start_time": "2024-02-28T21:28:48.195364Z"
    }
   },
   "outputs": [
    {
     "data": {
      "application/vnd.jupyter.widget-view+json": {
       "model_id": "9f9ef91b454e4ea2823eec13db97f8cc",
       "version_major": 2,
       "version_minor": 0
      },
      "text/plain": [
       "Dropdown(description='make_model:', options=('Mercedes-Benz A 160', 'Mercedes-Benz Eqe 350', 'Mercedes-Benz A …"
      ]
     },
     "metadata": {},
     "output_type": "display_data"
    },
    {
     "data": {
      "application/vnd.jupyter.widget-view+json": {
       "model_id": "40b271a70a044d749c5bbcd5feea3de3",
       "version_major": 2,
       "version_minor": 0
      },
      "text/plain": [
       "Button(description='Selection', style=ButtonStyle())"
      ]
     },
     "metadata": {},
     "output_type": "display_data"
    }
   ],
   "source": [
    "selected_columns = ['price', 'make_model', 'model', 'first_registration', 'engine_size', 'model_code']\n",
    "filters = {'make_model'}\n",
    "select_rows(df, selected_columns, filters )"
   ]
  },
  {
   "cell_type": "markdown",
   "metadata": {},
   "source": [
    "<a id=\"32\"></a>\n",
    "<div class=\"alert alert-info\" role=\"alert\">\n",
    "<h1>Column name :<span style=\"color:red\"> emission_class </span></h1>\n",
    "</div>\n",
    "\n",
    "<div class=\"alert alert-block alert-warning\">\n",
    "<b>Operation : </b> Let's classify the NaN values in the <span style=\"color:red\"><b> \"emission_class\"</span> column based on the <span style=\"color:red\"><b>\"first_registration\"</b></span> dates. Since this classification was not in place before 1992, let's create an <span style=\"color:red\"><b> \"Under Class\" </b></span>category for models registered before 1992. \n",
    "</div>\n",
    "<a href=\"#toc\" class=\"btn btn-warning btn-lg active\" role=\"button\" aria-pressed=\"true\" style=\"color:black;\">Content</a>"
   ]
  },
  {
   "cell_type": "code",
   "execution_count": 1408,
   "metadata": {
    "ExecuteTime": {
     "end_time": "2024-02-28T21:28:48.284954Z",
     "start_time": "2024-02-28T21:28:48.254536Z"
    }
   },
   "outputs": [
    {
     "name": "stdout",
     "output_type": "stream",
     "text": [
      "column name    :  emission_class\n",
      "--------------------------------\n",
      "per_of_nulls   :  % 37.57\n",
      "num_of_nulls   :  10745\n",
      "num_of_uniques :  9\n",
      "emission_class\n",
      "NaN             10745\n",
      "Euro 6           6417\n",
      "Euro 6d-TEMP     3399\n",
      "Euro 6d          2858\n",
      "Euro 5           2388\n",
      "Euro 4           1743\n",
      "Euro 3            523\n",
      "Euro 2            217\n",
      "Euro 1            172\n",
      "Euro 6c           140\n",
      "Name: count, dtype: int64\n"
     ]
    }
   ],
   "source": [
    "first_looking(\"emission_class\")"
   ]
  },
  {
   "cell_type": "code",
   "execution_count": 1409,
   "metadata": {
    "ExecuteTime": {
     "end_time": "2024-02-28T21:28:48.770257Z",
     "start_time": "2024-02-28T21:28:48.293725Z"
    }
   },
   "outputs": [
    {
     "data": {
      "text/plain": [
       "0"
      ]
     },
     "execution_count": 1409,
     "metadata": {},
     "output_type": "execute_result"
    }
   ],
   "source": [
    "# Let's classify the NaN values in the \"emission_class\" column based on the \"first_registration\" dates.\n",
    "\n",
    "# Since this classification was not in place before 1992,\n",
    "# let's create an \"Under Class\" category for models registered before 1992.\n",
    "df.emission_class = df.emission_class.fillna(df.loc[(df.emission_class.isnull() & (pd.to_datetime(df.first_registration).dt.date < pd.to_datetime('1992').date())), 'emission_class'].replace(np.NaN, 'Under Class'))\n",
    "\n",
    "df.emission_class = df.emission_class.fillna(df.loc[(df.emission_class.isnull() & (pd.to_datetime(df.first_registration).dt.date < pd.to_datetime('1996').date())), 'emission_class'].replace(np.NaN, 'Euro 1'))\n",
    "\n",
    "df.emission_class = df.emission_class.fillna(df.loc[(df.emission_class.isnull() & (pd.to_datetime(df.first_registration).dt.date < pd.to_datetime('2000').date())), 'emission_class'].replace(np.NaN, 'Euro 2'))\n",
    "\n",
    "df.emission_class = df.emission_class.fillna(df.loc[(df.emission_class.isnull() & (pd.to_datetime(df.first_registration).dt.date < pd.to_datetime('2005').date())), 'emission_class'].replace(np.NaN, 'Euro 3'))\n",
    "\n",
    "df.emission_class = df.emission_class.fillna(df.loc[(df.emission_class.isnull() & (pd.to_datetime(df.first_registration).dt.date < pd.to_datetime('2009').date())), 'emission_class'].replace(np.NaN, 'Euro 4'))\n",
    "\n",
    "df.emission_class = df.emission_class.fillna(df.loc[(df.emission_class.isnull() & (pd.to_datetime(df.first_registration).dt.date < pd.to_datetime('2014').date())), 'emission_class'].replace(np.NaN, 'Euro 5'))\n",
    "\n",
    "df.emission_class = df.emission_class.fillna(df.loc[(df.emission_class.isnull() & (pd.to_datetime(df.first_registration).dt.date >= pd.to_datetime('2014').date())), 'emission_class'].replace(np.NaN, 'Euro 6'))\n",
    "\n",
    "df.emission_class = df.emission_class.fillna(df.loc[(df.emission_class.isnull() & (pd.to_datetime(df.first_registration).dt.date > pd.to_datetime('2014').date())), 'emission_class'].replace(np.NaN, 'Euro 6'))\n",
    "\n",
    "df.emission_class = df.emission_class.str.replace('Euro 6d-TEMP','Euro 6')\n",
    "df.emission_class = df.emission_class.str.replace('Euro 6d','Euro 6')\n",
    "df.emission_class = df.emission_class.str.replace('Euro 6c','Euro 6')   \n",
    "\n",
    "df.emission_class.isnull().sum()"
   ]
  },
  {
   "cell_type": "code",
   "execution_count": 1410,
   "metadata": {
    "ExecuteTime": {
     "end_time": "2024-02-28T21:28:48.791920Z",
     "start_time": "2024-02-28T21:28:48.776547Z"
    }
   },
   "outputs": [
    {
     "name": "stdout",
     "output_type": "stream",
     "text": [
      "Missing Values in 'emission_class':\n",
      "Count: 0\n",
      "Percentage: 0.00%\n"
     ]
    }
   ],
   "source": [
    "handle_missing_values(df, \"emission_class\")"
   ]
  },
  {
   "cell_type": "code",
   "execution_count": 1411,
   "metadata": {
    "ExecuteTime": {
     "end_time": "2024-02-28T21:28:48.828600Z",
     "start_time": "2024-02-28T21:28:48.803228Z"
    },
    "run_control": {
     "marked": true
    }
   },
   "outputs": [
    {
     "data": {
      "text/plain": [
       "emission_class\n",
       "Euro 6         12814\n",
       "Under Class    10745\n",
       "Euro 5          2388\n",
       "Euro 4          1743\n",
       "Euro 3           523\n",
       "Euro 2           217\n",
       "Euro 1           172\n",
       "Name: count, dtype: int64"
      ]
     },
     "execution_count": 1411,
     "metadata": {},
     "output_type": "execute_result"
    }
   ],
   "source": [
    "df.emission_class.value_counts()"
   ]
  },
  {
   "cell_type": "markdown",
   "metadata": {},
   "source": [
    "<a id=\"33\"></a>\n",
    "<div class=\"alert alert-info\" role=\"alert\">\n",
    "<h1>Column name :<span style=\"color:red\"> emissions_sticker </span></h1>\n",
    "</div>\n",
    "\n",
    "<div class=\"alert alert-block alert-warning\">\n",
    "<b>Operation : </b> To fill in the missing values in the \"emissions_sticker\" column, we can use the \"short_description\" column . Since the \"emissions_sticker\" column is associated with <span style=\"color:red\"><b>  \" emission_class\" , \" make_model \", \" fuel_type \" and \" first_registration \"  </b></span> . let's fill in the <span style=\"color:red\"><b> NaN values</b></span> in this column by grouping the data based on these columns and performing the necessary operations. \n",
    "</div>\n",
    "<a href=\"#toc\" class=\"btn btn-warning btn-lg active\" role=\"button\" aria-pressed=\"true\" style=\"color:black;\">Content</a>"
   ]
  },
  {
   "cell_type": "code",
   "execution_count": 1412,
   "metadata": {
    "ExecuteTime": {
     "end_time": "2024-02-28T21:28:48.860389Z",
     "start_time": "2024-02-28T21:28:48.834200Z"
    }
   },
   "outputs": [
    {
     "name": "stdout",
     "output_type": "stream",
     "text": [
      "column name    :  emissions_sticker\n",
      "--------------------------------\n",
      "per_of_nulls   :  % 67.09\n",
      "num_of_nulls   :  19189\n",
      "num_of_uniques :  4\n",
      "emissions_sticker\n",
      "NaN               19189\n",
      "green_sticker      9230\n",
      "no_sticker          175\n",
      "yellow_sticker        6\n",
      "red_sticker           2\n",
      "Name: count, dtype: int64\n"
     ]
    }
   ],
   "source": [
    "first_looking(\"emissions_sticker\")"
   ]
  },
  {
   "cell_type": "code",
   "execution_count": 1413,
   "metadata": {
    "ExecuteTime": {
     "end_time": "2024-02-28T21:28:48.877450Z",
     "start_time": "2024-02-28T21:28:48.865745Z"
    }
   },
   "outputs": [
    {
     "data": {
      "text/plain": [
       "Index(['make_model', 'short_description', 'make', 'model', 'location', 'price',\n",
       "       'body_type', 'type', 'doors', 'country_version', 'offer_number',\n",
       "       'warranty', 'mileage', 'first_registration', 'gearbox', 'fuel_type',\n",
       "       'colour', 'paint', 'desc', 'seller', 'seats', 'power', 'engine_size',\n",
       "       'gears', 'co_emissions', 'manufacturer_colour', 'drivetrain',\n",
       "       'cylinders', 'fuel_consumption', 'comfort_&_convenience',\n",
       "       'entertainment_&_media', 'safety_&_security', 'extras', 'empty_weight',\n",
       "       'model_code', 'general_inspection', 'full_service_history',\n",
       "       'non_smoker_vehicle', 'emission_class', 'emissions_sticker',\n",
       "       'upholstery_colour', 'upholstery', 'previous_owner',\n",
       "       'energy_efficiency_class', 'co_efficiency', 'location_country',\n",
       "       'location_city'],\n",
       "      dtype='object')"
      ]
     },
     "execution_count": 1413,
     "metadata": {},
     "output_type": "execute_result"
    }
   ],
   "source": [
    "df.columns"
   ]
  },
  {
   "cell_type": "code",
   "execution_count": 1414,
   "metadata": {
    "ExecuteTime": {
     "end_time": "2024-02-28T21:28:48.987159Z",
     "start_time": "2024-02-28T21:28:48.883445Z"
    }
   },
   "outputs": [
    {
     "data": {
      "text/plain": [
       "['CDi',\n",
       " '350+',\n",
       " 'S 4Matic+ 8G-DCT',\n",
       " '4Matic+ 7G-DCT',\n",
       " '200CDI BE Line 4M 7G-DCT',\n",
       " '7G-DCT',\n",
       " '4MATIC',\n",
       " '200CDI Autotronic',\n",
       " 'CDI 90PK NK77971',\n",
       " '4Matic 7G-DCT',\n",
       " 'BE AMG Line 7G-DCT',\n",
       " 'd 116PK RZ47072',\n",
       " '200CDI BE Line 4M 7G-DCT',\n",
       " 'e Limousine',\n",
       " '4Matic+ 7G-DCT',\n",
       " '180d 7G-DCT',\n",
       " '4Matic 7G-DCT',\n",
       " '180d 7G-DCT',\n",
       " '180d Sedán 7G-DCT',\n",
       " nan,\n",
       " nan,\n",
       " 'd 4Matic (EURO 6d)',\n",
       " '180d 7G-DCT',\n",
       " 'S 4Matic+ 8G-DCT',\n",
       " 'CDI',\n",
       " '4Matic 7G-DCT',\n",
       " 'Limousine',\n",
       " nan,\n",
       " '250e 8G-DCT',\n",
       " 'CDI Elegance',\n",
       " '7G-DCT (4.75)',\n",
       " nan,\n",
       " '180d 7G-DCT',\n",
       " 'd AMG Line (EURO 6d)',\n",
       " 'Berline - Garantie 48 mois - 316.41 €/mois*',\n",
       " 'CDI BlueEfficiency Standard 110PK MZ74192',\n",
       " 'd (177.003)',\n",
       " 'progressive mbux, dab, apple carplay',\n",
       " '-Klasse Navi RDC Klima SHZ DVD CD-W CD MP3 ESP MAL',\n",
       " '180d 7G-DCT',\n",
       " '7G-DCT',\n",
       " '180d 7G-DCT',\n",
       " '180d 7G-DCT',\n",
       " '180d 7G-DCT',\n",
       " '180d 7G-DCT',\n",
       " 'AUTOMATIK NAV LED KAMERA PARK-ASSIST SHZ DIG-DISPL',\n",
       " '200CDI BE Style',\n",
       " '200CDI BE Urban 7G-DCT',\n",
       " 'd (177.003)',\n",
       " '180d 7G-DCT',\n",
       " '180d Sedán 7G-DCT',\n",
       " nan,\n",
       " '180d 7G-DCT',\n",
       " '7G-DCT',\n",
       " 'Business Solution LED GPS PDC CAM Verw. Zetels',\n",
       " '200d 4Matic 8G-DCT',\n",
       " '180d 7G-DCT',\n",
       " nan,\n",
       " '200CDI BE AMG Line 7G-DCT',\n",
       " '200CDI BE AMG Line 7G-DCT',\n",
       " '200d 7G-DCT',\n",
       " 'A-CLASS A180 1.3 136 CV 7G-DCT 5P',\n",
       " '200d Sedán 8G-DCT',\n",
       " 'S 4MATIC+',\n",
       " 'd Avantgarde Largo',\n",
       " '180d Sedán 7G-DCT',\n",
       " 'AMG Line AUTOMATIK NAV LED KAMERA NIGHT PAKET SHZ',\n",
       " '180d 7G-DCT',\n",
       " 'Avantgarde',\n",
       " nan,\n",
       " 'Avantgarde',\n",
       " 'Sport 4Matic 7G-DCT',\n",
       " 'progressive mbux, camera, lane assist, pdc',\n",
       " 'progressive led high performance, mbux, lane assis',\n",
       " '7G-DCT',\n",
       " 'CDI Blueefficiency Edition Style 110PK EF53658',\n",
       " '4Matic+ 7G-DCT',\n",
       " 'C Coupe (BM 190)',\n",
       " '300E',\n",
       " '4-Door Coupe 43 4MATIC+ Premium AMG, NIEUWSTAAT!!',\n",
       " '4-Door GT 63 S CARBON AERO 5-ZITS HUD',\n",
       " '180CDI Avantgarde Aut.',\n",
       " '4-Door Coupe 53 4MATIC+ Premium | AMG Trackpace |',\n",
       " '580 4MATIC AMG Line Premium plus | Rij-assist + |',\n",
       " '450+ AMG Line 108kWh',\n",
       " 'S 4Matic+ 8G-DCT',\n",
       " 'S AMG 4MATIC+',\n",
       " 'S 4Matic+ 8G-DCT',\n",
       " '4-Door Coupe 43 4MATIC+ Premium Plus 63 AMG Uitgev',\n",
       " 'A35 AMG 4MATIC Premium+ 306PK | Pano | Sfeer | Bur',\n",
       " 'Business Solution AMG',\n",
       " '4-Door Coupe 43 4MATIC+ Premium Plus PANO, BURMEST',\n",
       " '4MATIC PERFORMANCE AERO PACK/SCHAAL/PANO/MEMORY VO',\n",
       " '4MATIC l Top staat! l Panorama l Camera l Dealer O',\n",
       " 'AMG/ NIGHT PAKKET/ PANO/ AMG SPOILER',\n",
       " 'CDI Ambition 4U3 Navigatie',\n",
       " 'd Business Solution Automaat - Cruise - Navi - Hal',\n",
       " '4MATIC STOELVERWARMING/AERO/381PK/BOMVOL',\n",
       " '350 AMG Line 90kWh Premium Pack',\n",
       " 'd Lease Edition Ambition',\n",
       " 'CDI Ambition [ Xenon | Navi | Cruise ]',\n",
       " 'A35 AMG 4-MATIC *Pano*Burmester*4AMG Aero*Vol!*',\n",
       " '4MATIC [ Panorama Xenon Leder ]',\n",
       " 'S Coupe Edition 1',\n",
       " 'Business Solution AMG',\n",
       " 'Business Solution AMG',\n",
       " 'AMG Sport Prestige Automaat (NAVIGATIE, TELEFOON,',\n",
       " '4Matic 7G-DCT',\n",
       " '4MATIC Edition 1 MEMORY/PANO/LEER/H&K/BOMVOL',\n",
       " 'CDI Air-Lift Schuifdak Harman/Kardon Night Leder U',\n",
       " 'AMG A 35 4MATIC',\n",
       " '4MATIC | 381PK | Apple Carplay | Stoelverwarming |',\n",
       " '4MATIC 280kW/381pk DCT7 NIGHT PAKKET + PANORAMADAK',\n",
       " 'Premium Night Aut. [ Burmester Widescreen Half-Led',\n",
       " 'Premium+ AMG Edition 1 225PK | Pano | Sfeer | Virt',\n",
       " '4-Door 63 S 4MATIC+',\n",
       " 'Premium Plus | AMG Line | Lederen bekleding | LED',\n",
       " '4MATIC | Pano | Navi | PDC | Cruise |',\n",
       " 'D AMG Pakket / Panoramadak / Navigatie / N.A.P.',\n",
       " 'e AMG Line Panodak',\n",
       " 'AMG Edition Sport Automaat (SCHUIFDAK, APPLE CARPL',\n",
       " 'Business Solution AMG',\n",
       " '180CDI',\n",
       " '180CDI Exclusive Edition',\n",
       " 'd (177.003)',\n",
       " 'Automaat | Leder Interieur | 1j Garantie',\n",
       " 'd Led Navigatie Stoelverw. Carplay Leer Zondag a.s',\n",
       " 'CDi',\n",
       " 'A35 AMG 4MATIC Advantage',\n",
       " 'd (177.003)',\n",
       " 'Ambition | Harman | ACC | Pano | CAM | AMG-Line',\n",
       " '200 CDi 1.8 CDI Boîte auto',\n",
       " 'S 4Matic+ 8G-DCT',\n",
       " 'CLASSE  d Fascination 4Matic 7G-DCT',\n",
       " 'AMG Ambiante verlichting Panodak Camera Zondag a.s',\n",
       " '200 d Fascination 7G-DCT',\n",
       " '250e 8G-DCT',\n",
       " '180d 7G-DCT',\n",
       " '7G-DCT',\n",
       " '-Edition BlueEfficiency',\n",
       " 'd AMG PANORAMADAK/WIDESCREEN/SFEER/MEMORY/BOMVOL',\n",
       " \"Ambition NAVI BT LEDER PDC LED STOELVERW '16\",\n",
       " 'd AMG / Panorama dak / Leder / Navi / Pdc / Led /',\n",
       " '250e Sedán 8G-DCT',\n",
       " '180d 7G-DCT',\n",
       " '220d 7G-DCT',\n",
       " 'AMG Stoelkoeling ACC Multibeam LED Burmester Panor',\n",
       " '250e 8G-DCT',\n",
       " 'AMG PANORAMADAK/ WIDESCREEN/ SFEER/ AUTOMAAT/ BOMV',\n",
       " 'CDI Edition Navigatie 4U3',\n",
       " nan,\n",
       " '4Matic 7G-DCT',\n",
       " 'Classe A 1.9 116ch A 180 d',\n",
       " '180d 7G-DCT',\n",
       " 'Ambition | Automaat | Stoelverwarming | Navigaties',\n",
       " 'Sport Ambition AMG-Exclusief Pakket',\n",
       " 'AMG 123PK | Pano | Sfeer | Grote Navi | Camera | G',\n",
       " 'AMG Sport Automaat (APPLE CARPLAY, GROOT NAVI, CLI',\n",
       " 'Solution AMG PANORAMADAK, NAVIGATIE, ECC AIRCO,',\n",
       " '200 163ch AMG Line 7G-DCT 9cv',\n",
       " '200 163ch AMG Line 7G-DCT 9cv',\n",
       " '200 163ch AMG Line 7G-DCT 9cv',\n",
       " 'AMG Line, Automaat, LED',\n",
       " 'Ambition',\n",
       " '180d 7G-DCT',\n",
       " '35 AMG 306ch 4Matic 7G-DCT Speedshift AMG',\n",
       " 'Business Solution AMG Upgrade | NAVIGATIE | CAMERA',\n",
       " '250e 8G-DCT',\n",
       " 'Sport Ambition 211PK/AMG/Nieuwstaat/Alcantara/Lede',\n",
       " 'Business Solution AMG PANO/MEMORY/WIDESCREEN/LEER/',\n",
       " 'Automaat AMG Sportpakket-Leder-Navigatie-Full Led-',\n",
       " '200d 7G-DCT',\n",
       " 'AMG-LINE',\n",
       " 'Prestige 122PK | FG02071 | Navi | Climate | Half L',\n",
       " 'Classe A 1.5 109ch A 180 CDI BlueEfficiency',\n",
       " 'Classe A 1.5 116ch A 180 d',\n",
       " 'd Business Solution Plus Upgrade, Automaat, LED, L',\n",
       " 'CLASSE  CDI Inspiration',\n",
       " 'A Class 180 1.5 115ch A 180 d',\n",
       " 'Edition Navigatie 4U3',\n",
       " 'AMG Night Panodak',\n",
       " '7G-DCT',\n",
       " 'd ACC NAVIGATIE LM VELGEN SPORTSTOELEN LEDER',\n",
       " 'BlueEFFICIENCY Ambition',\n",
       " '180d 7G-DCT',\n",
       " 'AMG LINE -PANO',\n",
       " 'd Lease Edition Ambition AUTOMAAT',\n",
       " 'd Style + Pneus Hiver',\n",
       " 'A160 My First Star - Navi',\n",
       " '200 163ch AMG Line 7G-DCT 9cv',\n",
       " 'Ambition Automaat Bi-Xenon, Airco, Cruise, PDC, AM',\n",
       " 'AMG Memory Multibeam LED Panorama Sfeerverlichting',\n",
       " 'Ambition Automaat AMG Pack',\n",
       " '200 d 150ch Progressive Line 8G-DCT 8cv',\n",
       " 'Sport Automaat (SCHUIFDAK, GROOT NAVIGATIE, PARKEE',\n",
       " 'AMG Sport 7G Automaat BiXenon Becker Map Pilot Nav',\n",
       " 'AMG PANORAMADAK/WIDESCREEN/SFEER/AUTOMAAT/ BOMVOL',\n",
       " '200 163ch AMG Line 7G-DCT 9cv',\n",
       " '200 d Business 7G-DCT',\n",
       " 'Classe A 1.5 90ch A 160 CDI / d',\n",
       " 'Business Solution AMG, Automaat, LED, Navigatie',\n",
       " 'Classe A 1.5 116ch A 180 d',\n",
       " '200  Sport',\n",
       " '200d 7G-DCT',\n",
       " '200 163ch AMG Line 7G-DCT 9cv',\n",
       " 'd Business Solution, Automaat, Navigatie',\n",
       " '100 PK Ambition | Cruise | PDC | Airco | NAV | LED',\n",
       " '220d 7G-DCT',\n",
       " 'Business Solution Automaat, Navi, Bluetooth/Tel, M',\n",
       " 'BlueEfficiency 122PK | PK10244 | Navi | Bi-Xenon |',\n",
       " '220 d Fascination 7G-DCT',\n",
       " 'AMG LEDER LED NAVI LMV CRUISE',\n",
       " 'AMG Aut. [ LED Navi Camera ]',\n",
       " 'Business Solution AMG I AVANTAGE I AUTOMAAT I MBUX',\n",
       " 'Classe A 1.3 109ch A 160',\n",
       " 'My First Star',\n",
       " 'AMG/ PANO/ NIGHT/ CAMERA/ VOL!',\n",
       " '35 AMG 306ch 4Matic 7G-DCT Speedshift AMG 19cv',\n",
       " '200 d Inspiration 7G-DCT Euro6c',\n",
       " 'Ambition 120 PK - Automaat | Schuif/kantel-dak | C',\n",
       " 'Classe  d (cdi) Premium auto FL E6',\n",
       " '200 163ch AMG Line 7G-DCT 9cv',\n",
       " 'd Progressive 7G-DCT',\n",
       " '220 190ch Progressive Line 7G-DCT Siege chauf gran',\n",
       " 'CDI Ambition [ Xenon Climate Navi Cruise LM Velgen',\n",
       " '200 163ch AMG Line 7G-DCT 9cv',\n",
       " 'd 4Matic AMG Line (EURO 6d)',\n",
       " '220 d 190ch AMG Line 8G-DCT 10cv GPS Camera Radar ',\n",
       " '180 d 116ch Business Line 7G-DCT',\n",
       " '200 d 150ch Business Line 8G-DCT GPS Camera',\n",
       " 'Premium Plus | VERWACHT! | BTW Auto | Apple Carpla',\n",
       " '180 d 116ch AMG Line 7G-DCT',\n",
       " '200 d Inspiration 7G-DCT',\n",
       " 'Hatch * Carplay | Parkeersenoren | Zetelverw.',\n",
       " '200 163ch Style Line 7G-DCT',\n",
       " '35 AMG 306ch 4Matic 7G-DCT Speedshift AMG TOuvrant',\n",
       " '200 d 150ch AMG Line 8G-DCT 8cv',\n",
       " 'd Style + Pneus Hiver',\n",
       " '200 d Fascination Tpano GPS Camera',\n",
       " 'CDI 100kW ( 136CV ) Urban',\n",
       " '180 d 116ch AMG Line LED GPS Camera Radar AV/AR',\n",
       " '200 163ch AMG Line 7G-DCT 9cv',\n",
       " '180 136ch Progressive Line 7G-DCT 7cv',\n",
       " 'd',\n",
       " '180 d Sensation 7G-DCT',\n",
       " 'e A 250e Progressive Sfeerverlichting / NIEUW GERE',\n",
       " '200 d 150ch AMG Line 8G-DCT',\n",
       " '220 190ch Progressive Line 7G-DCT',\n",
       " '180 d Sensation 7G-DCT',\n",
       " 'e Advantage LED / Navi / Aut / Cam / Half leder /',\n",
       " '180 136ch Business Line 7G-DCT',\n",
       " '200 163ch AMG Line 7G-DCT 9cv',\n",
       " 'Business Solution AMG | Navigatie | Dealer Onderho',\n",
       " '7G-DCT Business Solution AMG (Koop nu online!)',\n",
       " '180 AMBITION (All-in prijs)',\n",
       " '220 190ch Progressive Line 7G-DCT Ecran 10 GPS Cam',\n",
       " '180 d Intuition 7G-DCT',\n",
       " '160 109ch Style Line',\n",
       " '200 163ch AMG Line 7G-DCT',\n",
       " '160 Inspiration 7G-DCT',\n",
       " '200 163ch AMG Line 7G-DCT 9cv',\n",
       " '180 d 116ch Progressive Line 7G-DCT',\n",
       " 'Coupé 3.0 CDI V6 DPF 7G-TRONIC BlueEFFICIENCY 265',\n",
       " 'AMG AUT/ PANO/ LEDER/ CLIMA/ CRUISE',\n",
       " 'S 4Matic+ 8G-DCT',\n",
       " 'BENZINA + GPL NUOVO + UNICO PROPRIEATARIO',\n",
       " '136 CV \"40.335 KM!!!\" VETTURA UFFICIALE ITALIANA',\n",
       " 'A35 AMG 4MATIC Edition 1 |Pano | kuipstoelen | sfe',\n",
       " 'A 45 AMG 4Matic Automatic',\n",
       " 'd Progressive',\n",
       " 'E 280',\n",
       " 'S 4Matic+ 8G-DCT',\n",
       " '4Matic 7G-DCT',\n",
       " '220CDI BE AMG Sport 7G-DCT',\n",
       " 'd Premium',\n",
       " '220CDI BE Line 4M 7G-DCT',\n",
       " 'S 4Matic+ 8G-DCT',\n",
       " '4Matic 7G-DCT',\n",
       " 'Edition 1 4Matic 7G-DCT',\n",
       " '4Matic 7G-DCT',\n",
       " 'S 4Matic+ 8G-DCT',\n",
       " 'A35 AMG 4-Matic |306PK|FULL OPTIES|',\n",
       " 'S 4Matic+ 8G-DCT',\n",
       " '4Matic 7G-DCT',\n",
       " 'S 4Matic+ 8G-DCT',\n",
       " '4Matic+ 7G-DCT',\n",
       " '220d 7G-DCT',\n",
       " '4Matic 7G-DCT',\n",
       " '4Matic+ 7G-DCT',\n",
       " '4Matic+ 7G-DCT',\n",
       " 'S 4Matic+ 8G-DCT',\n",
       " '220CDI BE AMG Sport 7G-DCT',\n",
       " '180CDI Elegance',\n",
       " '7G-DCT',\n",
       " '4Matic 7G-DCT',\n",
       " '4Matic 7G-DCT',\n",
       " '180CDI BE AMG Line 7G-DCT',\n",
       " '4Matic 7G-DCT',\n",
       " '4MATIC SCHAALSTOELEN/PANO/SPOILER',\n",
       " 'S 4Matic+ 8G-DCT',\n",
       " '4Matic 7G-DCT',\n",
       " '4Matic 7G-DCT',\n",
       " '220d 8G-DCT',\n",
       " '4Matic 7G-DCT',\n",
       " '4Matic+ 7G-DCT',\n",
       " 'Sedán 4Matic+ 7G-DCT',\n",
       " 'MERCEDES-BENZ Clase GLK Pequeño  Automático de 5',\n",
       " '4Matic+ 7G-DCT',\n",
       " 'S 4Matic+ 8G-DCT',\n",
       " '200d 8G-DCT',\n",
       " '200d 8G-DCT',\n",
       " '180d 7G-DCT',\n",
       " '200CDI Avantgarde',\n",
       " '4Matic+ 7G-DCT',\n",
       " '4Matic 7G-DCT',\n",
       " '180d 7G-DCT',\n",
       " '200CDI BE Urban',\n",
       " '250e Sedán 8G-DCT',\n",
       " '180d',\n",
       " '180CDI Polar Star',\n",
       " 'Pequeño Automático de 5 Puertas',\n",
       " '4Matic+ 7G-DCT',\n",
       " '4Matic+ 7G-DCT',\n",
       " '7G-DCT',\n",
       " 'S 4Matic+ 8G-DCT',\n",
       " '4Matic Coupe 4Matic+ (EURO 6d-TEMP)',\n",
       " '200d 7G-DCT',\n",
       " '200d',\n",
       " 'Edition 1 4Matic 7G-DCT',\n",
       " nan,\n",
       " '4Matic 7G-DCT',\n",
       " '220CDI BE AMG Line 7G-DCT',\n",
       " '200CDI BE AMG Line 7G-DCT',\n",
       " '7G-DCT (4.75)',\n",
       " '200d',\n",
       " '7G-DCT',\n",
       " 'S 4Matic+ 4Matic (EURO 6d)',\n",
       " '4Matic 7G-DCT',\n",
       " nan,\n",
       " '180d 7G-DCT',\n",
       " '200d',\n",
       " '250e Sedán 8G-DCT',\n",
       " '180CDI Autotronic',\n",
       " '200d 8G-DCT',\n",
       " '200d 8G-DCT',\n",
       " 'S 4Matic+ 8G-DCT',\n",
       " '7G-DCT',\n",
       " '200d 8G-DCT',\n",
       " 'Sport 4Matic 7G-DCT',\n",
       " '180d 8G-DCT',\n",
       " '4Matic+ 7G-DCT',\n",
       " 'de 4Matic AMG Line (EURO 6d)',\n",
       " 'Edition 1 4Matic 7G-DCT',\n",
       " '220d 8G-DCT',\n",
       " '180d 7G-DCT',\n",
       " 'CDI Premium',\n",
       " '4Matic 7G-DCT',\n",
       " '180d 7G-DCT',\n",
       " 'd (177.003)',\n",
       " '180d 7G-DCT',\n",
       " '7G-DCT',\n",
       " '200CDI BE Urban 7G-DCT',\n",
       " 'BlueEFFICIENCY Urban',\n",
       " 'CDI',\n",
       " '200d 8G-DCT',\n",
       " '4Matic 7G-DCT',\n",
       " '7G-DCT (4.75)',\n",
       " '200d 8G-DCT',\n",
       " '200d 8G-DCT',\n",
       " '4Matic 7G-DCT',\n",
       " '200d',\n",
       " '7G-DCT',\n",
       " '200CDI BE Urban 7G-DCT',\n",
       " '200CDI BE Urban',\n",
       " '180CDI BE AMG Line 7G-DCT',\n",
       " '4Matic 7G-DCT',\n",
       " 'Edition 1 4Matic 7G-DCT',\n",
       " 'd (177.003)',\n",
       " '200d 7G-DCT',\n",
       " 'S 4Matic+ 8G-DCT',\n",
       " '4Matic+ 7G-DCT',\n",
       " '180CDI BE AMG Line',\n",
       " '180d',\n",
       " 'CDI Style',\n",
       " '220CDI BE AMG Line 7G-DCT',\n",
       " '180d 7G-DCT',\n",
       " 'C *** CERAMIC BRAKES / BURMESTER / BELGIAN CAR ***',\n",
       " 'AMG | 36.000KM | B&O | MAGIC SKY | AIRSCARF',\n",
       " 'Aut. Comand+Xen+Airsc+SHZ+PDC+Leder',\n",
       " 'Roadster COMAND/Burmester/Memory/Kamera Autom.',\n",
       " 'C Roadster',\n",
       " 'Biturbo V-Max',\n",
       " 'Cabrio CGI BE Aut.',\n",
       " 'GT S Roadster KAMERA+BURMESTER+MEMORY+AIRSCARF',\n",
       " 'SL 43 DIGITAL LIGHT+BURMESTER+DISTRO+HUD+MEMORY',\n",
       " 'CDI pack AMG  * Capteurs, Gps, Sg chauff, ...',\n",
       " 'Roadster*Magno*Night*SportAga*Distr+*RFK*',\n",
       " 'Leder Verw/gevent* Radio/CD* Navi* Dual Airco* PDC',\n",
       " 'abrio Mercedes-AMG 4MATIC',\n",
       " 'MERCEDES-BENZ Clase SL Descapotable  Automático d',\n",
       " 'AMG pack - leder - camera - navi command - Nieuw !',\n",
       " 'Cabrio 350BlueTec Aut.',\n",
       " nan,\n",
       " 'C 43 4MATIC Cabrio ILS+BURMESTER+DISTRO+AIRSCARF',\n",
       " 'GT Roadster BURMESTER+SITZKLIMA+DISTRO+MEMORY',\n",
       " nan,\n",
       " 'Cabrio 4M Sportabgas LED HUD Kamera 19\"',\n",
       " 'MercedesAMG',\n",
       " '*EURO6*NAVI*PDC*CUIR*LED*AIRSCARF*SIEGES CHAUFFANT',\n",
       " 'Cabrio 220d 9G-Tronic (4.75)',\n",
       " 'C 63 S Cabrio DRIVERP+DISTRO+KAMERA+AIRSCARF+LED',\n",
       " 'Cabrio Benzine Autom. - airco - Leder',\n",
       " 'Cabriolet AMG Line/COMAND/Distronic/360° Styling',\n",
       " '-Klasse Cabrio Cabriolet AMG-Line',\n",
       " 'Roadster Automatik Radio/CD 18\" ALU',\n",
       " '435cv AMG ***SOLO 37.000KMS *** LIBRO OFICIAL',\n",
       " 'Roadster BI-XENON SHZ NAVI PDC VO+HI AUTOMATIK',\n",
       " 'AMG - BOITE AUTO ✅ GARANTIE ✅ LED - BLUETOOTH',\n",
       " 'BlueEFFICIENCY CGI LEDER NAVI',\n",
       " 'Cabrio CGI AMG ILS Airscraft Navi Leder PDC',\n",
       " 'SL Pagode',\n",
       " 'Cabriolet  4Matic+ ABSOLUTE VOLLAUSTATTUNG',\n",
       " 'Cabrio-AMG PAKKET- Nekverwarming - Windscherm',\n",
       " 'UNIEKE SL 560 EUROPESE LOOK IN NIEUWSTAAT.AUTOM.',\n",
       " 'd Cabriolet',\n",
       " 'Cabrio 7G Plus',\n",
       " 'Cabriolet AMG Line',\n",
       " 'r107 original belgian delivery! first owner car.',\n",
       " 'abrio Mercedes-AMG 4MATIC',\n",
       " nan,\n",
       " 'Roadster Kompressor Original Brabus Umbau',\n",
       " 'd Cabriolet AVANTGARDE',\n",
       " 'AMG C 63 S Cabrio Night-P/Drivers P/360°/Comand',\n",
       " 'Cabrio 350CDI BE 7G Plus',\n",
       " 'E -Klasse Cabrio E 200 +AMG LINE+NAVI+CAM+',\n",
       " 'Cabrio CGI Automatik Nackenheizung',\n",
       " 'R107 Cabrio Hardtop + Softtop H-Kennzeichen',\n",
       " 'Roadster Leder LED Kurvenlicht Panorama Fernlichta',\n",
       " '200K',\n",
       " 'Cabrio 220CDI BE 7G Plus',\n",
       " 'R107 Cabrio Hardtop + Softtop US Modell H-Kennzeic',\n",
       " 'Cabrio CGI BE Avantgarde',\n",
       " 'C 63 Cabrio BURMESTER+MULTIB+360°+AIRSCARF+DISTR',\n",
       " 'AMG C 43 4M Cabrio Night-Pak/Burm/360°/Abgasanl.',\n",
       " 'Cabrio d',\n",
       " 'SL Roadster',\n",
       " 'Cabrio Navi/7G-Tronic/Aircap/Airscarf/SHZ Autom.',\n",
       " 'Deutsches Fahrzeug  Sammlerzustand',\n",
       " 'Cabrio d',\n",
       " 'Cabrio AMG AHK+MULTIBEAM+360°+AIRSCARF+SHZ',\n",
       " 'Roadster Kompressor SCHWARZ AUTOMATIK KLIMA LEDER',\n",
       " 'Cabrio 220CDI 7G Plus',\n",
       " nan,\n",
       " 'Klima Sitzheizung Navi',\n",
       " 'Cabriolet AMG Line 360°/Totw./Comand/LED Styling',\n",
       " 'Cabriolet AMG-Line/Navi/LED/Kamera/PDC uvm Autom.',\n",
       " 'Cabrio d',\n",
       " 'Cabrio AMG Line 9G/Kamera/Navi/LED/Ambient Autom.',\n",
       " 'Cabriolet AMGLine/LED/Airscarf/Navi/Kamera Autom.',\n",
       " 'Cabriolet AMG Line/9G/LED/KAMERA/Navi/SHZ Styling',\n",
       " 'Cabrio AMG Line Leder + Verdeck Rot/360°/ Autom.',\n",
       " 'Avantgarde Cabrio AHK+AIRSCARF+KAMERA+DAB',\n",
       " 'Cabriolet AMG Line/Kamera/LED/9G/Navi/SHZ Styling',\n",
       " 'Cabriolet AMG LED 19\" Navi Kamera AMG Line',\n",
       " 'Cabrio 9G-Tronic',\n",
       " 'CDI Roadster COMAND LEDER',\n",
       " 'Roadster + hardtop',\n",
       " 'AUTOMATIQUE - GARANTIE 12 MOIS - GPS-XENON-DESIGNO',\n",
       " 'Cabriolet AMG Line',\n",
       " '-CLASS 6.2 COUPE SPORT AUTO 457 2P',\n",
       " 'Cabriolet CDI Blueefficiency 164PK RG05871',\n",
       " 'Classe E AMG 53 4MATIC+',\n",
       " 'V12 - Origineel Nederlands -',\n",
       " 'CLASSE S CABRIOLET Speedshift MCT  4Matic+',\n",
       " 'Roadster 4.0 Facelift - Airscarf - Touchpad',\n",
       " 'H/K-L7 MEMORY AIRWAVE CAMERA NAVI LEDER STOELVERW',\n",
       " 'SL63 AMG Carbon Editie | 1ste Eig | 1j Garantie',\n",
       " 'Classe   9G-Tronic Executive',\n",
       " 'Cabriolet 4MATIC',\n",
       " '43 AMG / Air Scarf / Harman Kardon / Comand',\n",
       " 'Carbon Editie - 1e eigenaar - Keuring + Garantie',\n",
       " 'CILINDRATA 2.000 Sport AUTOMATICA PELLE NAVI FULL',\n",
       " '200 K.',\n",
       " 'Performance Package - Carbon',\n",
       " 'Roadster*Distronic*Bose*Sitzk.*2.Besitz*Ö-Auto*',\n",
       " 'C43 AMG Cabrio Schalensitze Burmester Head UP 360',\n",
       " 'V8 | Airscarf | Nappa | Harman-Kardon | Memory',\n",
       " 'C SW 200 d  auto',\n",
       " 'GE',\n",
       " 'cilindrata 2.000 Sport AUTOMATICA PELLE NAVI FULL',\n",
       " 'Mercedes- C Roadster',\n",
       " 'SL',\n",
       " 'Cabriolet AMG Line',\n",
       " 'cat Sport*AIR SCARF*SOSPENS ATTIVE*SEDILI RISC*HAR',\n",
       " '(R129)',\n",
       " nan,\n",
       " '(R129) 2nd Owner/Collectable',\n",
       " 'Cabrio 1e eigenaar-Dealer onderhouden-Complete his',\n",
       " 'SL 600 V12 AUT. ORG. NL.',\n",
       " 'Automatik*Massagesitz*Airscarf*AMG-Paket*',\n",
       " '(cgi be) Sport AUTO *90.000 KM*',\n",
       " 'auto',\n",
       " 'Cabriolet 4Matic',\n",
       " 'Kompressor  1PROPRIETARIO ! TAGLIANDI MERCEDESBENZ',\n",
       " '(R171) 350 7GTRO',\n",
       " '4Matic Mild hybrid Cabrio Premium Plus',\n",
       " 'Cabrio',\n",
       " 'V8 Cabrio Aut.',\n",
       " 'C Roadster',\n",
       " 'Cabriolet S 4MATIC',\n",
       " 'C Roadster',\n",
       " 'Cabrio',\n",
       " 'SL',\n",
       " 'Cabriolet Elegance lpg revisie moterblok',\n",
       " 'Cabrio Multibeam Perf.Sitz PAGA Sitzlü.',\n",
       " 'Cabrio',\n",
       " 'cabrio d  Premium Plus 4matic auto',\n",
       " 'CABRIOLET 2.1 CDI 204CV AUTO GARANTIE 6 MOIS',\n",
       " '220 d executive a',\n",
       " '4MATIC+ Cabriolet V-Max 360°*Sitzklima',\n",
       " 'Cabrio  eq-boost 4matic + auto my20',\n",
       " 'Cabrio 2.0i AMG - Burmester Aut. || FULL OPTION',\n",
       " '| 48.000KM | Orig. NL | BOSE',\n",
       " nan,\n",
       " '200 AMG Sport 7G-Tronic BVA',\n",
       " 'Cabrio',\n",
       " 'CLK Cabrio 230 k evo Elegance',\n",
       " '250 d Sport auto',\n",
       " 'Cabriolet Premium Plus 1e Eigenaar, AMG-pakket, Bu',\n",
       " 'E Cabrio 250 cdi be Executive',\n",
       " 'cilindrata 2.000 Sport AUTOMATICA PELLE NAVI FULL',\n",
       " 'Cabrio 9G-Tronic (9.75)',\n",
       " 'Cabriolet 4MATIC PERFORMANCE SEATS 36838KM!',\n",
       " 'Cabrio 9G-Tronic (9.75)',\n",
       " 'Cabrio 220CDI BE',\n",
       " '220 A Cabriolet',\n",
       " 'ROADSTER',\n",
       " 'V6 231pk Automaat Prest. Plus NL-auto',\n",
       " 'SL 500 V8',\n",
       " 'Kompressor',\n",
       " 'AMG Line',\n",
       " 'S cabrio BURMESTER | LED | 360° | TRACK PACE',\n",
       " '190SL',\n",
       " \"AUT NAVI BT AIRWAVE LEDER STOELVERW PDC CRUISE '11\",\n",
       " 'AUT 245pk! 1eEIG YOUNGTIMER XENON LEDER NAVI CRUIS',\n",
       " 'K. Season Edition | Navi | Leder',\n",
       " 'auto * Harman/Kardon * Pack mémoires * ILS *PTS',\n",
       " 'S Cabriolet Ponton Typ A (W 180)',\n",
       " 'Cabrio Multibeam Perf.Sitz PAGA Sitzlü.',\n",
       " 'AMG | Airco | Cruise | Stoelverwarming',\n",
       " 'Cabrio  eq-boost 4matic + auto my20',\n",
       " 'K. Cabrio / Leder / Airco / Stoelverwarming',\n",
       " 'CDI BlueEfficiency E -Klasse Cabrio (BM 207)',\n",
       " 'Roadster Aut.',\n",
       " 'Roadster 4.0 | Performance-uitlaat | Night-Pakket',\n",
       " 'E Cabrio 220 d Premium auto',\n",
       " nan,\n",
       " 'd Cabriolet',\n",
       " 'Leder AD Dyn. Kurvenlicht Klimasitze e-Sitze Nacht',\n",
       " 'V8 4Matic Autom. - Designo - Topstaat! 1Ste Eig!',\n",
       " 'D',\n",
       " 'Coupé R',\n",
       " 'COUPE 4-M *AMG-LINE*, NAVI, PANODAK, BT, LED, 360',\n",
       " 'Aut.',\n",
       " '350CDI BE (9.75) Aut.',\n",
       " 'AMG GLC 43 4MATIC Coupé',\n",
       " nan,\n",
       " nan,\n",
       " 'COUPE | 4MATIC | SPORTEXHAUST | PANO |',\n",
       " 'Aut.',\n",
       " '-CLASS 4MATIC',\n",
       " 'Coupe AMG Line',\n",
       " 'Coupé 462',\n",
       " '4MATIC+ Coupé',\n",
       " 'Coupé 220d 9G-Tronic',\n",
       " 'S 4Matic+ 8G-DCT',\n",
       " 'oupé Mercedes-AMG 4MATIC',\n",
       " 'Burmester+PerformanceAGA+Pano+++',\n",
       " '220d Urban 7G-DCT 177',\n",
       " 'CE Liebhaberstück',\n",
       " 'SEb (111)*DEUTSCHES-FAHRZEUG*H-KENNZEICHEN*TOP-ZUS',\n",
       " nan,\n",
       " 'C oupe AMG Speedshift 7G-DCT LED RFK PDC',\n",
       " 'd 4MATIC',\n",
       " 'Coupe AMG Leder Navi Kamera Widescreen PDC',\n",
       " 'd 4MATIC Coupé AMG Line',\n",
       " 'BiTurbo 4MATIC* HEATED SEATS * CAMERA * FULL LED *',\n",
       " '43 4-Matic+|CAMERA*XENON*PACK NIGHT*LED*BURMESTER*',\n",
       " nan,\n",
       " '4Matic+ 7G-DCT',\n",
       " 'd AMG Line /MULTIBEAM LED/ACC/360°CAMERA/...',\n",
       " 'Coupé 4Matic (14.75) Aut.',\n",
       " '320CDI Aut.',\n",
       " '4Matic Leder - 4xSitzheizung - Navi - Lenkradheizu',\n",
       " '220CE',\n",
       " 'Coupe *Nachtsicht-Assistent*BI-XENON TV',\n",
       " 'Coupé 184PK AL88634',\n",
       " 'S Coupe',\n",
       " 'Mercedes-AMG S 4MATIC+',\n",
       " 'Burmaster Keramikbremsen Leder Alcantara Pano Navi',\n",
       " '4Matic (EURO 6d-TEMP)',\n",
       " 'Aut.',\n",
       " '-CLASS 3.0 4MATIC AUTO 333 2P',\n",
       " 'CGI BlueEfficiencyasse Coupe 1.8 Leder Panorama Ho',\n",
       " '350CDI BE 4M Aut.',\n",
       " 'Coupé 4M Aut.',\n",
       " 'Coupe AMG-Line Panorama Burmester Night',\n",
       " 'Aut.',\n",
       " 'Aut.',\n",
       " 'Coupe 4Matic AMG Magic Sky Burmester Nacht',\n",
       " 'e AMG Line+Pano+',\n",
       " '220CDI AMG Line 7G-DCT',\n",
       " '53 4M+ Night-P/Panor/360°/Burm./Abgasan. Navi',\n",
       " '200K',\n",
       " '250d ECO Aut.',\n",
       " 'Coupe AMG LED+Navi+StandHZG+Keyless+e-Sitze+Parkle',\n",
       " 'd Coupé EXCLUSIVE',\n",
       " 'Aut.',\n",
       " 'C Coupe*DEUTSCHES-FAHRZEUG*AUTOMATIK*H-KENNZEICHEN',\n",
       " 'Coupé AMG Line 155PK MU20418',\n",
       " 'C 43 4MATIC Coupé ILS+PANO+STANDHZ+BURMESTE+360°',\n",
       " '220CDI AMG Line 7G-DCT',\n",
       " 'GLC 63 4MATIC Coupé AHK+SH-DACH+360°+DISTRO+MEMO',\n",
       " '43 4-Matic+ (EU6d-TEMP) MAT ORIGINEEL KLEUR',\n",
       " 'CLA 35 4MATIC KAMERA+DISTRO+AMBIENTE+KEYLESS+SHZ',\n",
       " 'GLC 63 S 4MATIC Coupé SH-DACH+DISTR+360°+DRIVERP',\n",
       " 'Coupé S 4Matic Aut.',\n",
       " '200K',\n",
       " 'Coupé PROGRESSIVE',\n",
       " 'Coupé 9G-Tronic',\n",
       " 'Coupé',\n",
       " 'Coupe AMG + NIGHTPACK - LEDER - PANO DAK - 360° -',\n",
       " 'Coupé 220d 4Matic 9G-Tronic',\n",
       " 'AMG Line',\n",
       " 'Aut.',\n",
       " 'Coupé 350CDI BE Aut.',\n",
       " 'GLC-Coupe 400 d 4Matic 9G-TRONIC AMG Line',\n",
       " 'Aut.',\n",
       " 'CDI Coupé',\n",
       " 'SEC',\n",
       " 'Aut.',\n",
       " 'Coupé CDI',\n",
       " 'Coupé AMG Line 185PK FE41259',\n",
       " 'Compressor',\n",
       " 'Mercedes-AMG CLS 53 4MATIC+ Navi/SHD/Styling/LED',\n",
       " '*** BRABUS 730 / CARBON CERAMIC / FULL OPTION ***',\n",
       " '220d 4Matic 7G-DCT',\n",
       " 'Coupé 4M Aut.',\n",
       " '220CDI AMG Line 7G-DCT',\n",
       " '220d Aut.',\n",
       " 'Coupé',\n",
       " '*AMG-LINE*LED*MBUX*NAVI*PDC*CAMERA*EURO6*',\n",
       " '4MATIC AMG MULTIBEAM+DISTRO+SHDACH+AHK',\n",
       " '4MATIC Coupé BURMESTER+DISTRO+SITZKLIMA',\n",
       " 'Coupé AMG -Garantie 48 mois - 412,47 €/mois*',\n",
       " 'ABC Fahrwerk*Xenon*1. Hand*GSD',\n",
       " 'Coupé',\n",
       " 'd 4MATIC',\n",
       " 'Matte wrapping',\n",
       " '270CDI',\n",
       " 'S 4M+ Coupé V8 Drivers+Comand+DAB+AHK',\n",
       " 'd 4MATIC -',\n",
       " '350CDI BE (9.75) Aut.',\n",
       " '350d 4Matic Aut.',\n",
       " '-Klasse Coupe EU6d-T LED Navi Keyless e-Sitze Park',\n",
       " 'Coupé S 4Matic Aut.',\n",
       " 'coupé 4.0 4MATIC 469 2P',\n",
       " 'SLC, 1 Hand, Scheunenfund, Oldtimer, Bastler',\n",
       " 'Coupé 7G-DCT AMG LINE - BURMESTER - SFEERVERLICHTI',\n",
       " 'd 4MATIC Coupé AMG MULTIB+BURME+PANO+AHK',\n",
       " '320CDI Avantgarde 7G',\n",
       " '53 4M+ Night-Pak./Panorama/Multibeam/360° Navi',\n",
       " 'd 4MATIC Coupé',\n",
       " 'AMG C 63 Coupé Burmes./360°/Pano/Abgasanl/Memory',\n",
       " 'Coupé d',\n",
       " 'C 63 Coupé Night-P/Panorama/Totw./360°/Multibeam',\n",
       " '350d 4Matic Aut.',\n",
       " '43 4M+ Night-P/360°/Panor/Burm./Abgasanl. Navi',\n",
       " 'Coupé e 4Matic',\n",
       " 'Coupé 4Matic Aut.',\n",
       " nan,\n",
       " 'AMG C 63 S Coupé Night/Aero-Paket/360°/Drivers P',\n",
       " 'd 4MATIC',\n",
       " 'Coupé 250d 4Matic Aut.',\n",
       " 'Coupé 400d 4Matic Aut.',\n",
       " 'Coupé 400d 4Matic Aut.',\n",
       " 'CDI Chrome',\n",
       " 'Coupé 4Matic Aut.',\n",
       " '220d 4Matic 7G-DCT',\n",
       " 'e Coupé',\n",
       " 'Coupé d AMG LINE',\n",
       " 'd (205.314)',\n",
       " 'd Coupé AMG MULTIBEAM+COMAND+360°+PANO+19\"',\n",
       " 'Coupé d',\n",
       " 'Coupé 220d 4Matic Aut.',\n",
       " 'EQ Boost Aut. (9.75)',\n",
       " 'Mercedes-AMG C 63 Coupé COMAND/MultibeamLED/360°',\n",
       " 'd 4M Coupé AMG Line/Pano/360°/AHK/Totwin Navi',\n",
       " 'Coupé 9G-Tronic',\n",
       " 'AMG C 63 S Coupé Night-P/Drivers P/360°/Panorama',\n",
       " 'AMG C 43 4M Coupé Night-P/Panorama/360°/Abgasanl',\n",
       " 'Aut.',\n",
       " 'Coupé 220d 4Matic 9G-Tronic',\n",
       " 'd 4MATIC AMG MULTIBEAM+BURMESTER+SH-DACH',\n",
       " 'Coupé',\n",
       " '200d Urban',\n",
       " '350d 4Matic Aut.',\n",
       " 'Coupé 350d 4Matic Aut.',\n",
       " 'CDI (LA) Sport Edition (203.708)',\n",
       " 'Coupé 220d',\n",
       " 'd 4MATIC Coupé AMG AHK+SH-DACH+COMAND',\n",
       " 'Coupé 4Matic Aut.',\n",
       " 'AMG GLC 63 4M+ Coupé Night-P/SHD/Kamer/AHK/Abgas',\n",
       " 'd 4MATIC AMG MULTIB+SH-DACH+HUD+BURMESTE',\n",
       " '220CDI',\n",
       " 'K',\n",
       " 'Aut.',\n",
       " 'd 4M Coupé AMG Panor./AHK/360°/Led beige Navi',\n",
       " 'Classe E 300d Coupé AMG Line Mercedes-Benz E Klas',\n",
       " 'd Edition*AMG LINE*NAVI*CAMERA*TOIT PANO*EURO6*',\n",
       " '-Klasse Coupe CGI BlueEfficiency AMG Navi Dyn. Kur',\n",
       " '-Klasse Coupe CGI BlueEfficiency AMG Navi Dyn. Kur',\n",
       " 'COUPE AMG -Line',\n",
       " 'Coupé 220d 4Matic Aut.',\n",
       " 'Coupé 220d 9G-Tronic',\n",
       " 'Coupe d 4Matic AMG-LINE',\n",
       " 'Coupé',\n",
       " 'Coupé 4Matic 9G-Tronic',\n",
       " 'Coupé 350CDI BE Aut.',\n",
       " 'Coupe 4Matic EU6d-T',\n",
       " 'Coupé d AMG LINE',\n",
       " 'Coupé d 4MATIC',\n",
       " '350d 4Matic Aut.',\n",
       " '4-Matic PANO- A.M.G- LUCHTVERING -MASSAGESTOELEN',\n",
       " 'CDI Inspiration 7G-DCT',\n",
       " '4Matic 3.0i 333pk automaat AMG pack/Leder/Led/Navi',\n",
       " '320CDI Aut.',\n",
       " '4Matic 9G-Tronic',\n",
       " 'AMGpack + NIGHTPACK - CAMERA 48700€ + btw',\n",
       " '4M Aut.',\n",
       " 'd Stronger Than Time Edition diesel 330pk 700Nm',\n",
       " 'CDI Voll Voll VOll TV Standheizung',\n",
       " 'Aut.',\n",
       " 'd 4MATIC*NAVI*T.O PANO*AMG LINE*EURO6*PDC*CAMERA*',\n",
       " 'AMG GLE 53 4M+ Night-P/360°/Panorama/AHK/Distron',\n",
       " 'd 4-Matic 9G-TRONIC PACK AMG TOE CUIR LED CAME 360',\n",
       " '4MATIC',\n",
       " '300d 4Matic Aut.',\n",
       " '220d 4Matic Aut.',\n",
       " '220d 4Matic Aut.',\n",
       " '220d 4Matic 9G-Tronic',\n",
       " '220d 4Matic 9G-Tronic',\n",
       " 'Aut.',\n",
       " '220d 4Matic Aut.',\n",
       " 'BlueTec 4Matic CDI DPF Off-Road-Styling-Paket',\n",
       " '220d 4Matic 8G-DCT',\n",
       " '4M Aut.',\n",
       " 'Hybride Pack AMG 1°EIG. FULL OPTIES NEW STAAT!',\n",
       " '4m panorama, trekhaak, lichte vracht mogelijk !!',\n",
       " 'Aut.',\n",
       " 'AMG Line+CAM+Schiebdach+',\n",
       " 'd 4MATIC AMG BURMESTER+PANO+AHK+DISTRO',\n",
       " 'Real Hybrid/Diesel/FULL AMG Pack/Night Pack/Trekha',\n",
       " 'd 4MATIC',\n",
       " '4MATIC',\n",
       " 'd 4Matic AMG Line 163PK YW79474',\n",
       " '4MATIC AMG Line',\n",
       " 'b*SPORT*NAVI*PDC*AUT AC*LIKE NEW*',\n",
       " 'CDI Autom. - AMG - GPS - Leder  -Topstaat! 1Ste...',\n",
       " 'Mercedes-AMG GLE 53 4MATIC+ Pano/360°/Night/AHK',\n",
       " '400CDI',\n",
       " '4MATIC',\n",
       " '250BlueTec 4M 7G Plus',\n",
       " '1.6 Essence Euro6b 8.951km réels Garantie 12M',\n",
       " 'EQ HEV HYBRID *4 MATIC*GPS*CAMERA*LED*ALU BI COLOR',\n",
       " '300d 4Matic Aut.',\n",
       " 'CDI Autom. 4Matic - GPS - Pano - Topstaat!',\n",
       " '300e 4Matic 9G-Tronic',\n",
       " '4Matic 9G-Tronic',\n",
       " '4MATIC',\n",
       " '4Matic 9G-Tronic',\n",
       " '420CDI Aut.',\n",
       " 'e 4Matic',\n",
       " '320CDI 4M Aut.',\n",
       " '4Matic 9G-Tronic',\n",
       " '4MATIC AMG AHK STANDHZG DISTRONIC LED AMG Line',\n",
       " '4Matic 9G-Tronic',\n",
       " 'de 4-Matic PHEV AMG CAMERA AUTOMAAT',\n",
       " 'd 4Matic All-Terrain Estate Avantdarde',\n",
       " 'G Klasse 350d Mercedes-Benz G Klasse 350d - Direct',\n",
       " 'd 4Matic 9G-Tronic',\n",
       " '4M AMG Line',\n",
       " '220d 4Matic Aut.',\n",
       " 'd*EUR 6!*AMG*NAV*DVD*FULL*LIKE NEW*',\n",
       " 'd 4MATIC',\n",
       " '220d 4Matic Aut.',\n",
       " 'Sportpaket Navi Vollleder',\n",
       " '4Matic 9G-Tronic',\n",
       " '4M Hybride - AMG LINE - Caméra-Garantie 48 mois',\n",
       " 'd +DAB +Lane Assist +Sfeerverlichting +Camera +...',\n",
       " 'd + Camera + Sfeerverlichting + Zetelverw. + DAB',\n",
       " '4MATIC AMG LINE',\n",
       " 'e 4-Matic PHEV - leder - open dak - AMG pack -',\n",
       " '220d 4Matic Aut.',\n",
       " '200CDI BE 7G Plus',\n",
       " 'D 4-MATIC, AUTOM, NAVI, APPLE/ANDROID, DRIVER ASS',\n",
       " \"7G-DCT AMG + NIGHTPACK - ALU 19' - SFEERVERLICHTIN\",\n",
       " 'AMG **Designo Magno** AHK Multibeam',\n",
       " 'Coupé dA 4-Matic AMG Line Pro LEDER/CUIR LED GP',\n",
       " 'd 4 MATIC 245cv 9 vel. *IVA deducible* *2020* *Nac',\n",
       " 'd 4MATIC AMG Line',\n",
       " 'CDI',\n",
       " '4x4² DESIGNO+STANDHZG+KAMERA+HARMAN+SHDACH',\n",
       " 'S Coupe Pano HUD Night 360Kamera Memory 466kW Burm',\n",
       " '4Matic 8G-DCT',\n",
       " 'AMG LINE',\n",
       " 'GLC 43 4MATIC ILS+PANO+STANDHZ+DISTRO+KAMERA+SHZ',\n",
       " '350e 4Matic',\n",
       " 'GLS 400d 4MATIC AMG Line Mercedes-Benz GLS 400d 4M',\n",
       " 'd 4MATIC',\n",
       " nan,\n",
       " 'GLC 43 4MATIC AHK+PANO+ILS+BURMESTER+DISTRO+MEMO',\n",
       " '4Matic 7-Sitzer AHK Comand ILS Kamera Assist',\n",
       " 'd 4MATIC AHK+PANO+BURMESTE+DISTRO+MULTIB',\n",
       " '350BlueTec 4M 7G Plus',\n",
       " 'd AMG Line',\n",
       " 'd 4Matic (253.915)',\n",
       " 'night pack, panorama, burmester, memory seats, ful',\n",
       " '350d 4Matic Aut.',\n",
       " 'GLC 43 4MATIC LED+PANO+HUD+DISTRO+KAMERA+AIRBODY',\n",
       " 'BlueTEC 4MATIC',\n",
       " 'de 4MATIC KAMERA+DISTRO+SITZHZ+KEYLESS',\n",
       " '220d 4Matic Aut.',\n",
       " '| AMG STYLING | OPENDAK | BURMESTER |',\n",
       " '4M AMG Multibeam MBUX-AR',\n",
       " '350d 4Matic Aut.',\n",
       " '4MATIC - Garantie 48 mois - 661,69 €/mois*',\n",
       " 'd 4Matic Edition Power Aut. Navi AHK 360Cam',\n",
       " 'Pack AMG - Toit ouvrant - Possibilité leasing',\n",
       " 'AMG GLC 43 4MATIC',\n",
       " 'e 4Matic',\n",
       " '220d 4Matic Aut.',\n",
       " '300 4MATIC',\n",
       " 'GLC 63 S 4MATIC EDITION1 DRIVERP+DISTRO+360°+ILS',\n",
       " '220d 4Matic Aut.',\n",
       " '4MATIC',\n",
       " '258PS 4Matic LED HIGH Luxury NAV CAM',\n",
       " 'd  AMG ABC Multibeam HighEnd-MBUX  AHK',\n",
       " 'D ADVANTAGE + PAQ NIGHT',\n",
       " 'LA -Klasse GLA 220 d 4Matic 170 PS',\n",
       " nan,\n",
       " 'd 4M AMG Line AHK/Navi/Burmes/Night/Pano Styling',\n",
       " '220d 4Matic Aut.',\n",
       " 'GE lang Cabrio Steyr-D-Puch AHK Automatik Rücksitz',\n",
       " '1.6i - NAVI / LED / LEDER / PANO OPENDAK /TREKHAAK',\n",
       " 'e Coupe - 4-Matic PHEV',\n",
       " '250d 4Matic Aut.',\n",
       " 'Coupé 350D 258 CV',\n",
       " '250d 4Matic Aut.',\n",
       " 'GLC 43 4MATIC ILS+AHK+STANDHZ+DISTRO+360°+COMAND',\n",
       " '320CDI Edition 10 Aut.',\n",
       " 'GLB 35 4MATIC AHK+MULTIBEAM+KAMERA+DISTRO+SHZ',\n",
       " 'Mercedes-AMG 4MATIC',\n",
       " 'd 4MATIC - AMG Line - Pano dak',\n",
       " '320CDI Aut.',\n",
       " 'D',\n",
       " 'Mercedes-AMG 4MATIC',\n",
       " '4Matic Aut.',\n",
       " '4Matic+ Aut.',\n",
       " 'd PROGRESSIVE',\n",
       " '300d 4Matic Aut.',\n",
       " '200 d GPS PDC Pano Cruise Ctrl BT S&S',\n",
       " 'Mercedes-AMG 4MATIC+',\n",
       " 'd 4MATIC',\n",
       " 'Urban AHK  Rückfahrkamera Score',\n",
       " '200d 7G-DCT',\n",
       " 'd 4Matic (253.915)',\n",
       " '220d 4Matic 7G-DCT',\n",
       " '280CDI Aut.',\n",
       " 'Diesel+Euro6+voll foliert+Teil-Leder+Navi+Alu+',\n",
       " '350d 4Matic Aut.',\n",
       " 'D 2.2 170CV AUT 5P',\n",
       " 'GLC 63 4MATIC ILS+COMAND+DAB+PANO+AHK+EASY-PACK',\n",
       " 'd 4MATIC AMG Line 170PK AK19401',\n",
       " 'd 4MATIC',\n",
       " 'd 4Matic 9G-TRONIC+LED+Advanced Info',\n",
       " '4Matic Aut.',\n",
       " 'UNIEK!AMG 63-PAKKET XENON,PANO,AUTOM,LEDER,EURO 6',\n",
       " 'AMG-Line LED Navi Leder StHZG Panorama',\n",
       " 'e 4MATIC',\n",
       " '4MATIC AMG MULTIB+AHK+PANO+AMBIENTE+PTS',\n",
       " '4Matic 9G-Tronic',\n",
       " 'd Pack AMG',\n",
       " 'd 9G-Tronic AMG 4 MATIC - LEDER - PANODAK - LED -',\n",
       " '316 DOKA+PRITSCHE+KLIMA 7 SITZER 316 CDI',\n",
       " 'AMG G 63 COMAND/SHD/Night/360°/AHK/Standhzg LED',\n",
       " 'Urban',\n",
       " '300d 4Matic Aut.',\n",
       " 'd 4MATIC Avantgarde AHK+MEMO+KAMERA+MBUX',\n",
       " 'd 4Matic',\n",
       " 'd',\n",
       " 'e Plug-In Hybrid 49g Co2',\n",
       " '* 2016 * Navi * Xenon * Euro6b * Garantie',\n",
       " 'E Break dA Exclusive Ext./AVG Int. Business LEDER/',\n",
       " 'd break AMG Line',\n",
       " 'CDI Break - GPS - Airco - Leder - Goede Staat!',\n",
       " 'BREAK |\\xa0PANO | DESIGNO | CARBON | CAMERA | LED',\n",
       " 'SHB 4-M AMG, NAVI, APPLE/ANDROID, BURMESTER, PANO',\n",
       " 'd - WIDESCREEN - KeylessGo - AdaptCruise - Camera',\n",
       " 'BREAK | NIGHT | BURMESTER | SPORTUITL. | L.VRACHT',\n",
       " 'd Toit Ouvrant , Clim , Navi , Bluethoot , Cruise',\n",
       " 'AMG-PACK SFEERVERLICHTING BTW AFTREKBAAR',\n",
       " 'T Avantgarde 4-Matic voll voll voll',\n",
       " 'CDI 4-Matic',\n",
       " 'Autom. 4Matic - GPS - Topstaat!',\n",
       " 'b*NAVI*LED*LEDER*PDC*AUTOMAAT*',\n",
       " 'T AHK LED Navi Night-P. Ambiente el.Klappe',\n",
       " 'Shooting Brake  BE 4Matic Bluetooth',\n",
       " 'D - BOITE AUTO - MBUX - LED ✅ GARANTIE 1 AN ✅',\n",
       " 'CGI Avantgarde Aut. +COMAND+Bi-Xenon+GSHD',\n",
       " 'Avantgarde',\n",
       " 'Estate 200CDI BE Edition',\n",
       " 'Break dA Business AVG Int. LEDER/CUIR LED GPS PDC',\n",
       " 'Shooting Brake 200d',\n",
       " 'Shooting Brake 200d 7G-DCT',\n",
       " 'S T Navi Sitzh. LED 360 Kamera Memory ACC Leder',\n",
       " 'AMG CLA 35 4MATIC Shooting Brake',\n",
       " 'Shooting Brake Sport 4MATIC Amg Line 210PK LK10691',\n",
       " 'Break Avantgarde * Camera * Navi * Automaat',\n",
       " 'Estate S 4Matic+ 9G-Tronic',\n",
       " '-Klasse T-Modell Avantgarde Automatik LED RFK Busi',\n",
       " 'S T Pano HUD Camera Adaptive Cruise LED High Perf',\n",
       " 'T-Modell BlueTEC d T Avantgarde',\n",
       " 'SB AMG line*Led*Navi*',\n",
       " 'T d Avantgarde Automatik EU6d-T Navi LED',\n",
       " 'D T EXCLUSIVE 4MATIC AUTOMATIK (+EURO6+ALLRAD',\n",
       " 'AMG line-Leder+Alcantara-Elekt koffer-Automaat (9)',\n",
       " 'Estate 4Matic 7G Plus',\n",
       " 'Estate 200d 9G-Tronic',\n",
       " 'T d Avantgarde Automatik EU6d Navi LED PDC',\n",
       " 'C63 S AMG DESIGNO HUD BURMESTER PANO DRIVERSPACK',\n",
       " 'Shooting Brake  Automaat AMG Pack/Led/Navi/BT',\n",
       " 'CLASSE B B 180 d BE Edition',\n",
       " 'BI TURBO 4MATIC - LEDER/ALCANTARA - LED - NAVI - 1',\n",
       " 'e Break AMG Line - NP: € 72.565 !! STOCK !!',\n",
       " 'Estate 4Matic 7G Plus',\n",
       " 'd AMG Line + Carplay + 360Camera + Pano dak + ...',\n",
       " 'SB * RACE * Pano * Camera * Navi * 381pk',\n",
       " 'T d Avantgarde Automatik EU6d',\n",
       " '(+)2.0 AVANTGARDE AUTO 211 5P STATE',\n",
       " 'T d Widescreen Kamera Totwinkel Navi Sitzh.',\n",
       " 'd  Facelift - Automaat/GPS/Camera',\n",
       " 'd T AMG AHK+STANDHZG+MULTIBEAM+DISTRO+360°',\n",
       " '4m sb panorama, night pack, keyless-go, sound',\n",
       " 'E 63 S 4M T-Modell STANDHZG+PANO+360°+BURMESTER',\n",
       " nan,\n",
       " 'CLA 35 4MATIC SB MULTIBEAM+PANO+DISTRO+AMBIENTE',\n",
       " 'Garantie bis 2025/Panorama/Burmester',\n",
       " 'Estate',\n",
       " '4MATIC',\n",
       " 'd Shooting Brake',\n",
       " 'd Estate Avantgarde',\n",
       " 'd Estate',\n",
       " 'de Estate AMG LINE',\n",
       " 'AMG-line-LED-Leder-Pan.sunroof- 9GTRONIC AUT',\n",
       " 'CDI Blue Efficiency Estate',\n",
       " 'C220d AMG 194pk/ch',\n",
       " 'e T PLUGIN HYBRID KOMBI AUTOMATIK 7 GANG NAVI BURM',\n",
       " 'AMG E 53 4MATIC+ Estate',\n",
       " 'b*AMG*NAVI*PDC*LIKE NEW*',\n",
       " 'T d Automatik EU6d-T Navi LED Klima PDC',\n",
       " 'Mercedes-AMG 4MATIC Estate',\n",
       " 'Break*MBUX*AVANTGARD*LED*T.O PANO*CUIR*NAVI*EURO6*',\n",
       " 'd T LED+AHK+DISTRO+COMAND+KAMERA+PTS+SHZ',\n",
       " 'd T LED+AHK+DISTRO+COMAND+KAMERA+PTS+SHZ',\n",
       " 'd T 4MATIC All-Terrain Avantgarde AHK+PANO',\n",
       " 'Estate 220d',\n",
       " 'AMG Line',\n",
       " 'CLA 45 S 4MATIC Shooting Brake LEDER+PANO+360°',\n",
       " 'd 4-Matic',\n",
       " 'd Estate Business Line',\n",
       " 'Estate 220d 9G-Tronic',\n",
       " 'd T 4MATIC AMG AHK+PANO+HUD+360°+DISTRONIC',\n",
       " 'Estate Business Line',\n",
       " 'd T 4MATIC AMG DISTRO+360°+MEMO+WIDESCREEN',\n",
       " 'Kompressor*Tempomat*Klimaaut.*RCD*SHZ*MFL*ZV*Airba',\n",
       " 'd AMG/rijassist',\n",
       " 'Estate Estate',\n",
       " 'd Estate',\n",
       " 'd T 4MATIC AMG LED+DISTRO+COMAND+AMBIENTE',\n",
       " 'Estate 220d 9G-Tronic',\n",
       " 'Shooting Brake',\n",
       " '-Klasse T-Modell CDI Avantgarde BlueTEC PANO+LED+L',\n",
       " 'T d Automatik Business Plus EU6d-T LED Navi PDC',\n",
       " 'Estate 7G Plus',\n",
       " 'T AMG LED+360°+STANDHZG+AIRMATIC+AMBIENTE',\n",
       " 'PACK AMG PACK SPORT 1ER PROPRIETAIRE',\n",
       " 'd + AMG +Burmester + Panodak + Memory + 360 + ...',\n",
       " 'Break AUTOMAAT 2022 DAB radio GPS CAMERA',\n",
       " 'CDI Urban Style Edition',\n",
       " ...]"
      ]
     },
     "execution_count": 1414,
     "metadata": {},
     "output_type": "execute_result"
    }
   ],
   "source": [
    "# Let's examine the short description of the emissions_sticker\n",
    "list(df.loc[df[df[\"emissions_sticker\"].isnull()].index, \"short_description\"])"
   ]
  },
  {
   "cell_type": "code",
   "execution_count": 1415,
   "metadata": {
    "ExecuteTime": {
     "end_time": "2024-02-28T21:28:50.335626Z",
     "start_time": "2024-02-28T21:28:48.992217Z"
    }
   },
   "outputs": [
    {
     "data": {
      "text/plain": [
       "3991"
      ]
     },
     "execution_count": 1415,
     "metadata": {},
     "output_type": "execute_result"
    }
   ],
   "source": [
    "# Since the co_emissions, emission_class, energy_efficiency_class and make_model of the car are related to the emissions_sticker, \n",
    "# we can fill the missing values by considering the relationship between the make_model \n",
    "# and colour of the car with the upholstery_colour.\n",
    "\n",
    "# After the groupby operation, how many NaN values do I have remaining?\n",
    "\n",
    "df.groupby(['make_model','emission_class'], group_keys = False)['emissions_sticker'].transform(lambda x: x.fillna(x.mode()[0] if len(x.mode()) > 0 else np.nan)).isnull().sum()"
   ]
  },
  {
   "cell_type": "code",
   "execution_count": 1416,
   "metadata": {
    "ExecuteTime": {
     "end_time": "2024-02-28T21:28:51.622784Z",
     "start_time": "2024-02-28T21:28:50.340950Z"
    }
   },
   "outputs": [],
   "source": [
    "df[\"emissions_sticker\"] = df.groupby(['make_model','emission_class'], group_keys = False)['emissions_sticker'].transform(lambda x: x.fillna(x.mode()[0] if len(x.mode()) > 0 else np.nan))"
   ]
  },
  {
   "cell_type": "code",
   "execution_count": 1417,
   "metadata": {
    "ExecuteTime": {
     "end_time": "2024-02-28T21:28:51.648820Z",
     "start_time": "2024-02-28T21:28:51.628866Z"
    }
   },
   "outputs": [
    {
     "name": "stdout",
     "output_type": "stream",
     "text": [
      "Missing Values in 'emissions_sticker':\n",
      "Count: 3991\n",
      "Percentage: 13.95%\n"
     ]
    }
   ],
   "source": [
    "handle_missing_values(df, \"emissions_sticker\")"
   ]
  },
  {
   "cell_type": "code",
   "execution_count": 1418,
   "metadata": {
    "ExecuteTime": {
     "end_time": "2024-02-28T21:28:51.696912Z",
     "start_time": "2024-02-28T21:28:51.660584Z"
    }
   },
   "outputs": [
    {
     "data": {
      "text/plain": [
       "fuel_type\n",
       "Diesel           1972\n",
       "Benzine          1769\n",
       "Hybrid            136\n",
       "Others             68\n",
       "Electric           28\n",
       "Lpg                16\n",
       "Hybrid/Diesel       2\n",
       "Name: count, dtype: int64"
      ]
     },
     "execution_count": 1418,
     "metadata": {},
     "output_type": "execute_result"
    }
   ],
   "source": [
    "df[df[\"emissions_sticker\"].isnull()][\"fuel_type\"].value_counts()"
   ]
  },
  {
   "cell_type": "code",
   "execution_count": 1419,
   "metadata": {
    "ExecuteTime": {
     "end_time": "2024-02-28T21:28:51.733899Z",
     "start_time": "2024-02-28T21:28:51.711756Z"
    }
   },
   "outputs": [
    {
     "data": {
      "text/plain": [
       "Index(['Benzine', 'Diesel', 'Hybrid', 'Electric', 'Others', 'Lpg',\n",
       "       'Hybrid/Diesel'],\n",
       "      dtype='object', name='fuel_type')"
      ]
     },
     "execution_count": 1419,
     "metadata": {},
     "output_type": "execute_result"
    }
   ],
   "source": [
    "df.fuel_type.value_counts().index"
   ]
  },
  {
   "cell_type": "code",
   "execution_count": 1420,
   "metadata": {
    "ExecuteTime": {
     "end_time": "2024-02-28T21:28:52.460627Z",
     "start_time": "2024-02-28T21:28:51.744088Z"
    }
   },
   "outputs": [
    {
     "name": "stdout",
     "output_type": "stream",
     "text": [
      "Category :  Benzine  : how many NaN values do I have remaining? : 59\n",
      "Category :  Diesel  : how many NaN values do I have remaining? : 20\n",
      "Category :  Hybrid  : how many NaN values do I have remaining? : 8\n",
      "Category :  Electric  : how many NaN values do I have remaining? : 8\n",
      "Category :  Others  : how many NaN values do I have remaining? : 3\n",
      "Category :  Lpg  : how many NaN values do I have remaining? : 10\n",
      "Category :  Hybrid/Diesel  : how many NaN values do I have remaining? : 0\n"
     ]
    }
   ],
   "source": [
    "# how many NaN values do I have remaining?\n",
    "for i in df.fuel_type.value_counts().index:\n",
    "    count = df[df['fuel_type'] == i].groupby(['first_registration', 'emission_class'], group_keys=False)['emissions_sticker'].transform(lambda x: x.fillna(x.mode()[0] if len(x.mode()) > 0 else np.nan)).isnull().sum()\n",
    "    print(\"Category : \" , i, \" : how many NaN values do I have remaining? :\", count)"
   ]
  },
  {
   "cell_type": "code",
   "execution_count": 1421,
   "metadata": {
    "ExecuteTime": {
     "end_time": "2024-02-28T21:28:52.474110Z",
     "start_time": "2024-02-28T21:28:52.467551Z"
    }
   },
   "outputs": [],
   "source": [
    "# df[df[\"emissions_sticker\"].isnull()& (df[\"fuel_type\"] == \"Benzine\")][\"emissions_sticker\"] = df[df['fuel_type'] == 'Benzine'].groupby(['first_registration', 'emission_class'], group_keys=False)['emissions_sticker'].transform(lambda x: x.fillna(x.mode()[0] if len(x.mode()) > 0 else np.nan))\n",
    "# df[df[\"emissions_sticker\"].isnull()& (df[\"fuel_type\"] == \"Diesel\")][\"emissions_sticker\"] = df[df['fuel_type'] == 'Benzine'].groupby(['first_registration', 'emission_class'], group_keys=False)['emissions_sticker'].transform(lambda x: x.fillna(x.mode()[0] if len(x.mode()) > 0 else np.nan))"
   ]
  },
  {
   "cell_type": "code",
   "execution_count": 1422,
   "metadata": {
    "ExecuteTime": {
     "end_time": "2024-02-28T21:28:53.152361Z",
     "start_time": "2024-02-28T21:28:52.482371Z"
    }
   },
   "outputs": [],
   "source": [
    "# Let's group the fuel_types by 'first_registration' and 'emission_class' and fill their missing values with the mode values:\n",
    "for i in df.fuel_type.value_counts().index:\n",
    "    df.loc[df[\"emissions_sticker\"].isnull() & (df[\"fuel_type\"] == i), \"emissions_sticker\"] = df[df['fuel_type'] == i].groupby(['first_registration', 'emission_class'], group_keys=False)['emissions_sticker'].transform(lambda x: x.fillna(x.mode()[0] if len(x.mode()) > 0 else np.nan))\n",
    "    "
   ]
  },
  {
   "cell_type": "code",
   "execution_count": 1423,
   "metadata": {
    "ExecuteTime": {
     "end_time": "2024-02-28T21:28:53.173104Z",
     "start_time": "2024-02-28T21:28:53.161262Z"
    }
   },
   "outputs": [
    {
     "name": "stdout",
     "output_type": "stream",
     "text": [
      "Missing Values in 'emissions_sticker':\n",
      "Count: 108\n",
      "Percentage: 0.38%\n"
     ]
    }
   ],
   "source": [
    "handle_missing_values(df, \"emissions_sticker\")"
   ]
  },
  {
   "cell_type": "code",
   "execution_count": 1424,
   "metadata": {
    "ExecuteTime": {
     "end_time": "2024-02-28T21:28:53.258184Z",
     "start_time": "2024-02-28T21:28:53.182540Z"
    }
   },
   "outputs": [
    {
     "data": {
      "text/plain": [
       "0"
      ]
     },
     "execution_count": 1424,
     "metadata": {},
     "output_type": "execute_result"
    }
   ],
   "source": [
    "df.groupby(['emission_class'], group_keys = False)['emissions_sticker'].transform(lambda x: x.fillna(x.mode()[0] if len(x.mode()) > 0 else np.nan)).isnull().sum()"
   ]
  },
  {
   "cell_type": "code",
   "execution_count": 1425,
   "metadata": {
    "ExecuteTime": {
     "end_time": "2024-02-28T21:28:53.330009Z",
     "start_time": "2024-02-28T21:28:53.265891Z"
    }
   },
   "outputs": [],
   "source": [
    "df[\"emissions_sticker\"] = df.groupby(['emission_class'], group_keys = False)['emissions_sticker'].transform(lambda x: x.fillna(x.mode()[0] if len(x.mode()) > 0 else np.nan))"
   ]
  },
  {
   "cell_type": "code",
   "execution_count": 1426,
   "metadata": {
    "ExecuteTime": {
     "end_time": "2024-02-28T21:28:53.359481Z",
     "start_time": "2024-02-28T21:28:53.340495Z"
    }
   },
   "outputs": [
    {
     "name": "stdout",
     "output_type": "stream",
     "text": [
      "Missing Values in 'emissions_sticker':\n",
      "Count: 0\n",
      "Percentage: 0.00%\n"
     ]
    }
   ],
   "source": [
    "handle_missing_values(df, \"emissions_sticker\")"
   ]
  },
  {
   "cell_type": "code",
   "execution_count": 1427,
   "metadata": {
    "ExecuteTime": {
     "end_time": "2024-02-28T21:28:53.383804Z",
     "start_time": "2024-02-28T21:28:53.365133Z"
    }
   },
   "outputs": [
    {
     "data": {
      "text/plain": [
       "emissions_sticker\n",
       "green_sticker     27967\n",
       "no_sticker          626\n",
       "yellow_sticker        7\n",
       "red_sticker           2\n",
       "Name: count, dtype: int64"
      ]
     },
     "execution_count": 1427,
     "metadata": {},
     "output_type": "execute_result"
    }
   ],
   "source": [
    "df.emissions_sticker.value_counts()"
   ]
  },
  {
   "cell_type": "code",
   "execution_count": 1428,
   "metadata": {
    "ExecuteTime": {
     "end_time": "2024-02-28T21:28:53.459663Z",
     "start_time": "2024-02-28T21:28:53.389403Z"
    }
   },
   "outputs": [
    {
     "data": {
      "text/html": [
       "<div>\n",
       "<style scoped>\n",
       "    .dataframe tbody tr th:only-of-type {\n",
       "        vertical-align: middle;\n",
       "    }\n",
       "\n",
       "    .dataframe tbody tr th {\n",
       "        vertical-align: top;\n",
       "    }\n",
       "\n",
       "    .dataframe thead th {\n",
       "        text-align: right;\n",
       "    }\n",
       "</style>\n",
       "<table border=\"1\" class=\"dataframe\">\n",
       "  <thead>\n",
       "    <tr style=\"text-align: right;\">\n",
       "      <th></th>\n",
       "      <th>make_model</th>\n",
       "      <th>short_description</th>\n",
       "      <th>make</th>\n",
       "      <th>model</th>\n",
       "      <th>location</th>\n",
       "      <th>price</th>\n",
       "      <th>body_type</th>\n",
       "      <th>type</th>\n",
       "      <th>doors</th>\n",
       "      <th>country_version</th>\n",
       "      <th>...</th>\n",
       "      <th>non_smoker_vehicle</th>\n",
       "      <th>emission_class</th>\n",
       "      <th>emissions_sticker</th>\n",
       "      <th>upholstery_colour</th>\n",
       "      <th>upholstery</th>\n",
       "      <th>previous_owner</th>\n",
       "      <th>energy_efficiency_class</th>\n",
       "      <th>co_efficiency</th>\n",
       "      <th>location_country</th>\n",
       "      <th>location_city</th>\n",
       "    </tr>\n",
       "  </thead>\n",
       "  <tbody>\n",
       "    <tr>\n",
       "      <th>3395</th>\n",
       "      <td>Opel Calibra</td>\n",
       "      <td>2.0i 16V - Rostfrei - 1. Hand - TÜV NEU</td>\n",
       "      <td>Opel</td>\n",
       "      <td>Calibra</td>\n",
       "      <td>Schüttelsand 14,  49808 Lingen, DE</td>\n",
       "      <td>9999.0</td>\n",
       "      <td>Coupe</td>\n",
       "      <td>Used</td>\n",
       "      <td>2.0</td>\n",
       "      <td>Germany</td>\n",
       "      <td>...</td>\n",
       "      <td>NaN</td>\n",
       "      <td>Euro 2</td>\n",
       "      <td>red_sticker</td>\n",
       "      <td>prim_up</td>\n",
       "      <td>fabric_hols</td>\n",
       "      <td>1.0</td>\n",
       "      <td>NaN</td>\n",
       "      <td>NaN</td>\n",
       "      <td>DE</td>\n",
       "      <td>Lingen</td>\n",
       "    </tr>\n",
       "    <tr>\n",
       "      <th>17481</th>\n",
       "      <td>Toyota Corolla</td>\n",
       "      <td>AE86 Cabrio</td>\n",
       "      <td>Toyota</td>\n",
       "      <td>Corolla</td>\n",
       "      <td>27446 Selsingen, DE</td>\n",
       "      <td>22500.0</td>\n",
       "      <td>Convertible</td>\n",
       "      <td>Used</td>\n",
       "      <td>2.0</td>\n",
       "      <td>Belgium</td>\n",
       "      <td>...</td>\n",
       "      <td>Yes</td>\n",
       "      <td>Euro 1</td>\n",
       "      <td>red_sticker</td>\n",
       "      <td>prim_up</td>\n",
       "      <td>fabric_hols</td>\n",
       "      <td>2.0</td>\n",
       "      <td>NaN</td>\n",
       "      <td>NaN</td>\n",
       "      <td>DE</td>\n",
       "      <td>Selsingen</td>\n",
       "    </tr>\n",
       "  </tbody>\n",
       "</table>\n",
       "<p>2 rows × 47 columns</p>\n",
       "</div>"
      ],
      "text/plain": [
       "           make_model                        short_description    make  \\\n",
       "3395     Opel Calibra  2.0i 16V - Rostfrei - 1. Hand - TÜV NEU    Opel   \n",
       "17481  Toyota Corolla                              AE86 Cabrio  Toyota   \n",
       "\n",
       "         model                            location    price    body_type  \\\n",
       "3395   Calibra  Schüttelsand 14,  49808 Lingen, DE   9999.0        Coupe   \n",
       "17481  Corolla                 27446 Selsingen, DE  22500.0  Convertible   \n",
       "\n",
       "       type  doors country_version  ... non_smoker_vehicle emission_class  \\\n",
       "3395   Used    2.0         Germany  ...                NaN         Euro 2   \n",
       "17481  Used    2.0         Belgium  ...                Yes         Euro 1   \n",
       "\n",
       "       emissions_sticker  upholstery_colour   upholstery previous_owner  \\\n",
       "3395         red_sticker            prim_up  fabric_hols            1.0   \n",
       "17481        red_sticker            prim_up  fabric_hols            2.0   \n",
       "\n",
       "      energy_efficiency_class co_efficiency location_country location_city  \n",
       "3395                      NaN           NaN               DE        Lingen  \n",
       "17481                     NaN           NaN               DE     Selsingen  \n",
       "\n",
       "[2 rows x 47 columns]"
      ]
     },
     "execution_count": 1428,
     "metadata": {},
     "output_type": "execute_result"
    }
   ],
   "source": [
    "df[df[\"emissions_sticker\"] == \"red_sticker\"]"
   ]
  },
  {
   "cell_type": "markdown",
   "metadata": {},
   "source": [
    "<a id=\"34\"></a>\n",
    "<div class=\"alert alert-info\" role=\"alert\">\n",
    "<h1>Column name :<span style=\"color:red\"> cylinders </span></h1>\n",
    "</div>\n",
    "\n",
    "<div class=\"alert alert-block alert-warning\">\n",
    "<b>Operation : </b> To fill in the missing values in the \"cylinders\" column, ; Since the \"cylinders\" column is associated with <span style=\"color:red\"><b>  \" gears\" , \" make_model \", \" drivetrain \" , \" fuel_type \" , \" power \" and \" engine_size \"  </b></span> . let's fill in the <span style=\"color:red\"><b> NaN values</b></span> in this column by grouping the data based on these columns and performing the necessary operations. \n",
    "</div>\n",
    "<a href=\"#toc\" class=\"btn btn-warning btn-lg active\" role=\"button\" aria-pressed=\"true\" style=\"color:black;\">Content</a>"
   ]
  },
  {
   "cell_type": "code",
   "execution_count": 1429,
   "metadata": {
    "ExecuteTime": {
     "end_time": "2024-02-28T21:28:53.483329Z",
     "start_time": "2024-02-28T21:28:53.467133Z"
    }
   },
   "outputs": [
    {
     "name": "stdout",
     "output_type": "stream",
     "text": [
      "column name    :  cylinders\n",
      "--------------------------------\n",
      "per_of_nulls   :  % 34.11\n",
      "num_of_nulls   :  9756\n",
      "num_of_uniques :  12\n",
      "cylinders\n",
      "4.0     13065\n",
      "NaN      9756\n",
      "3.0      3256\n",
      "6.0      1012\n",
      "5.0       799\n",
      "8.0       539\n",
      "2.0       103\n",
      "0.0        35\n",
      "1.0        21\n",
      "12.0        8\n",
      "7.0         6\n",
      "26.0        1\n",
      "16.0        1\n",
      "Name: count, dtype: int64\n"
     ]
    }
   ],
   "source": [
    "first_looking(\"cylinders\")"
   ]
  },
  {
   "cell_type": "code",
   "execution_count": 1430,
   "metadata": {
    "ExecuteTime": {
     "end_time": "2024-02-28T21:28:55.251167Z",
     "start_time": "2024-02-28T21:28:53.492031Z"
    }
   },
   "outputs": [
    {
     "data": {
      "text/plain": [
       "3058"
      ]
     },
     "execution_count": 1430,
     "metadata": {},
     "output_type": "execute_result"
    }
   ],
   "source": [
    "\n",
    "df.cylinders.fillna(df.groupby(['make_model', 'engine_size', 'fuel_type','power'])['cylinders'].transform(lambda x: round(x.mean(), 0))).isnull().sum()"
   ]
  },
  {
   "cell_type": "code",
   "execution_count": 1431,
   "metadata": {
    "ExecuteTime": {
     "end_time": "2024-02-28T21:28:57.923195Z",
     "start_time": "2024-02-28T21:28:55.256400Z"
    }
   },
   "outputs": [],
   "source": [
    "df.cylinders = df.cylinders.fillna(df.groupby(['make_model', 'engine_size', 'fuel_type','power'])['cylinders'].transform(lambda x: round(x.mean(), 0)))"
   ]
  },
  {
   "cell_type": "code",
   "execution_count": 1432,
   "metadata": {
    "ExecuteTime": {
     "end_time": "2024-02-28T21:28:57.939772Z",
     "start_time": "2024-02-28T21:28:57.928117Z"
    }
   },
   "outputs": [
    {
     "name": "stdout",
     "output_type": "stream",
     "text": [
      "Missing Values in 'cylinders':\n",
      "Count: 3058\n",
      "Percentage: 10.69%\n"
     ]
    }
   ],
   "source": [
    "handle_missing_values(df, \"cylinders\")"
   ]
  },
  {
   "cell_type": "code",
   "execution_count": 1433,
   "metadata": {
    "ExecuteTime": {
     "end_time": "2024-02-28T21:28:59.091989Z",
     "start_time": "2024-02-28T21:28:57.948365Z"
    }
   },
   "outputs": [
    {
     "data": {
      "text/plain": [
       "1531"
      ]
     },
     "execution_count": 1433,
     "metadata": {},
     "output_type": "execute_result"
    }
   ],
   "source": [
    "df.cylinders.fillna(df.groupby(['gears', 'engine_size','power'])['cylinders'].transform(lambda x: round(x.mean(), 0))).isnull().sum()"
   ]
  },
  {
   "cell_type": "code",
   "execution_count": 1434,
   "metadata": {
    "ExecuteTime": {
     "end_time": "2024-02-28T21:29:00.150751Z",
     "start_time": "2024-02-28T21:28:59.100392Z"
    }
   },
   "outputs": [],
   "source": [
    "df.cylinders = df.cylinders.fillna(df.groupby(['gears', 'engine_size','power'])['cylinders'].transform(lambda x: round(x.mean(), 0)))"
   ]
  },
  {
   "cell_type": "code",
   "execution_count": 1435,
   "metadata": {
    "ExecuteTime": {
     "end_time": "2024-02-28T21:29:00.169560Z",
     "start_time": "2024-02-28T21:29:00.156513Z"
    }
   },
   "outputs": [
    {
     "name": "stdout",
     "output_type": "stream",
     "text": [
      "Missing Values in 'cylinders':\n",
      "Count: 1531\n",
      "Percentage: 5.35%\n"
     ]
    }
   ],
   "source": [
    "handle_missing_values(df, \"cylinders\")"
   ]
  },
  {
   "cell_type": "code",
   "execution_count": 1436,
   "metadata": {
    "ExecuteTime": {
     "end_time": "2024-02-28T21:29:00.656239Z",
     "start_time": "2024-02-28T21:29:00.180577Z"
    }
   },
   "outputs": [
    {
     "data": {
      "text/plain": [
       "452"
      ]
     },
     "execution_count": 1436,
     "metadata": {},
     "output_type": "execute_result"
    }
   ],
   "source": [
    "df.cylinders.fillna(df.groupby(['body_type' , 'power'])['cylinders'].transform(lambda x: round(x.mean(), 0))).isnull().sum()"
   ]
  },
  {
   "cell_type": "code",
   "execution_count": 1437,
   "metadata": {
    "ExecuteTime": {
     "end_time": "2024-02-28T21:29:01.102632Z",
     "start_time": "2024-02-28T21:29:00.670231Z"
    }
   },
   "outputs": [],
   "source": [
    "df.cylinders = df.cylinders.fillna(df.groupby(['body_type' , 'power'])['cylinders'].transform(lambda x: round(x.mean(), 0)))"
   ]
  },
  {
   "cell_type": "code",
   "execution_count": 1438,
   "metadata": {
    "ExecuteTime": {
     "end_time": "2024-02-28T21:29:01.125572Z",
     "start_time": "2024-02-28T21:29:01.107805Z"
    }
   },
   "outputs": [
    {
     "name": "stdout",
     "output_type": "stream",
     "text": [
      "Missing Values in 'cylinders':\n",
      "Count: 452\n",
      "Percentage: 1.58%\n"
     ]
    }
   ],
   "source": [
    "handle_missing_values(df, \"cylinders\")"
   ]
  },
  {
   "cell_type": "code",
   "execution_count": 1439,
   "metadata": {
    "ExecuteTime": {
     "end_time": "2024-02-28T21:29:01.764513Z",
     "start_time": "2024-02-28T21:29:01.133075Z"
    }
   },
   "outputs": [
    {
     "data": {
      "text/plain": [
       "75"
      ]
     },
     "execution_count": 1439,
     "metadata": {},
     "output_type": "execute_result"
    }
   ],
   "source": [
    "df.cylinders.fillna(df.groupby(['make_model' , 'engine_size'])['cylinders'].transform(lambda x: round(x.mean(), 0))).isnull().sum()"
   ]
  },
  {
   "cell_type": "code",
   "execution_count": 1440,
   "metadata": {
    "ExecuteTime": {
     "end_time": "2024-02-28T21:29:02.367611Z",
     "start_time": "2024-02-28T21:29:01.772156Z"
    }
   },
   "outputs": [],
   "source": [
    "df.cylinders = df.cylinders.fillna(df.groupby(['make_model' , 'engine_size'])['cylinders'].transform(lambda x: round(x.mean(), 0)))"
   ]
  },
  {
   "cell_type": "code",
   "execution_count": 1441,
   "metadata": {
    "ExecuteTime": {
     "end_time": "2024-02-28T21:29:02.391868Z",
     "start_time": "2024-02-28T21:29:02.376432Z"
    }
   },
   "outputs": [
    {
     "name": "stdout",
     "output_type": "stream",
     "text": [
      "Missing Values in 'cylinders':\n",
      "Count: 75\n",
      "Percentage: 0.26%\n"
     ]
    }
   ],
   "source": [
    "handle_missing_values(df, \"cylinders\")"
   ]
  },
  {
   "cell_type": "code",
   "execution_count": 1442,
   "metadata": {
    "ExecuteTime": {
     "end_time": "2024-02-28T21:29:02.468832Z",
     "start_time": "2024-02-28T21:29:02.398611Z"
    }
   },
   "outputs": [
    {
     "data": {
      "text/plain": [
       "0"
      ]
     },
     "execution_count": 1442,
     "metadata": {},
     "output_type": "execute_result"
    }
   ],
   "source": [
    "df.cylinders.fillna(df.groupby([\"drivetrain\", \"gears\", \"gearbox\"])['cylinders'].transform(lambda x: round(x.mean(), 0))).isnull().sum()"
   ]
  },
  {
   "cell_type": "code",
   "execution_count": 1443,
   "metadata": {
    "ExecuteTime": {
     "end_time": "2024-02-28T21:29:02.539700Z",
     "start_time": "2024-02-28T21:29:02.477673Z"
    }
   },
   "outputs": [],
   "source": [
    "df.cylinders = df.cylinders.fillna(df.groupby([\"drivetrain\", \"gears\", \"gearbox\"])['cylinders'].transform(lambda x: round(x.mean(), 0)))"
   ]
  },
  {
   "cell_type": "code",
   "execution_count": 1444,
   "metadata": {
    "ExecuteTime": {
     "end_time": "2024-02-28T21:29:02.565474Z",
     "start_time": "2024-02-28T21:29:02.549893Z"
    }
   },
   "outputs": [
    {
     "name": "stdout",
     "output_type": "stream",
     "text": [
      "Missing Values in 'cylinders':\n",
      "Count: 0\n",
      "Percentage: 0.00%\n"
     ]
    }
   ],
   "source": [
    "handle_missing_values(df, \"cylinders\")"
   ]
  },
  {
   "cell_type": "markdown",
   "metadata": {},
   "source": [
    "<a id=\"52\"></a>\n",
    "\n",
    "<div class=\"alert alert-info\" role=\"alert\">\n",
    "<h1><span style=\"color:red\"> Drop </span></h1>\n",
    "</div>\n",
    "\n",
    "<div class=\"alert alert-block\" style=\"background-color: darkblue;\">\n",
    "<div class=\"alert alert-block alert-warning\">\n",
    "<b>Operation:</b> Let's drop the remaining columns as they will not be used in Part 3 and have not been filled: <span style=\"color:red\"><b>\" co_efficiency \", \" energy_effienciency_class \", \" model_code \", \" non_smoker_vehicle \", \" general_inspection \", \" co_emissions \", \" offer_number \", \" desc \", \" short_description \"</b></span>\n",
    "</div>\n"
   ]
  },
  {
   "cell_type": "markdown",
   "metadata": {},
   "source": [
    "\n",
    "<a href=\"#toc\" class=\"btn btn-warning btn-lg active\" role=\"button\" aria-pressed=\"true\" style=\"color:black;\">Content</a>"
   ]
  },
  {
   "cell_type": "code",
   "execution_count": 1445,
   "metadata": {
    "ExecuteTime": {
     "end_time": "2024-02-28T21:29:02.976489Z",
     "start_time": "2024-02-28T21:29:02.575271Z"
    },
    "run_control": {
     "marked": true
    }
   },
   "outputs": [
    {
     "data": {
      "text/html": [
       "<div>\n",
       "<style scoped>\n",
       "    .dataframe tbody tr th:only-of-type {\n",
       "        vertical-align: middle;\n",
       "    }\n",
       "\n",
       "    .dataframe tbody tr th {\n",
       "        vertical-align: top;\n",
       "    }\n",
       "\n",
       "    .dataframe thead th {\n",
       "        text-align: right;\n",
       "    }\n",
       "</style>\n",
       "<table border=\"1\" class=\"dataframe\">\n",
       "  <thead>\n",
       "    <tr style=\"text-align: right;\">\n",
       "      <th></th>\n",
       "      <th>Missing_Number</th>\n",
       "      <th>Missing_Percent</th>\n",
       "    </tr>\n",
       "  </thead>\n",
       "  <tbody>\n",
       "    <tr>\n",
       "      <th>co_efficiency</th>\n",
       "      <td>20798</td>\n",
       "      <td>72.715195</td>\n",
       "    </tr>\n",
       "    <tr>\n",
       "      <th>energy_efficiency_class</th>\n",
       "      <td>20798</td>\n",
       "      <td>72.715195</td>\n",
       "    </tr>\n",
       "    <tr>\n",
       "      <th>model_code</th>\n",
       "      <td>20236</td>\n",
       "      <td>70.750297</td>\n",
       "    </tr>\n",
       "    <tr>\n",
       "      <th>non_smoker_vehicle</th>\n",
       "      <td>17008</td>\n",
       "      <td>59.464373</td>\n",
       "    </tr>\n",
       "    <tr>\n",
       "      <th>general_inspection</th>\n",
       "      <td>16353</td>\n",
       "      <td>57.174323</td>\n",
       "    </tr>\n",
       "    <tr>\n",
       "      <th>co_emissions</th>\n",
       "      <td>10015</td>\n",
       "      <td>35.015034</td>\n",
       "    </tr>\n",
       "    <tr>\n",
       "      <th>offer_number</th>\n",
       "      <td>5528</td>\n",
       "      <td>19.327320</td>\n",
       "    </tr>\n",
       "    <tr>\n",
       "      <th>desc</th>\n",
       "      <td>672</td>\n",
       "      <td>2.349486</td>\n",
       "    </tr>\n",
       "    <tr>\n",
       "      <th>short_description</th>\n",
       "      <td>213</td>\n",
       "      <td>0.744703</td>\n",
       "    </tr>\n",
       "  </tbody>\n",
       "</table>\n",
       "</div>"
      ],
      "text/plain": [
       "                         Missing_Number  Missing_Percent\n",
       "co_efficiency                     20798        72.715195\n",
       "energy_efficiency_class           20798        72.715195\n",
       "model_code                        20236        70.750297\n",
       "non_smoker_vehicle                17008        59.464373\n",
       "general_inspection                16353        57.174323\n",
       "co_emissions                      10015        35.015034\n",
       "offer_number                       5528        19.327320\n",
       "desc                                672         2.349486\n",
       "short_description                   213         0.744703"
      ]
     },
     "execution_count": 1445,
     "metadata": {},
     "output_type": "execute_result"
    }
   ],
   "source": [
    "missing_values(df)"
   ]
  },
  {
   "cell_type": "code",
   "execution_count": 1446,
   "metadata": {
    "ExecuteTime": {
     "end_time": "2024-02-28T21:29:03.061039Z",
     "start_time": "2024-02-28T21:29:02.987796Z"
    }
   },
   "outputs": [],
   "source": [
    "df.drop([\"co_efficiency\", \"energy_efficiency_class\", \"model_code\", \"non_smoker_vehicle\", \"general_inspection\", \"co_emissions\", \"offer_number\", \"desc\", \"short_description\"], axis=1, inplace = True)\n"
   ]
  },
  {
   "cell_type": "code",
   "execution_count": 1447,
   "metadata": {
    "ExecuteTime": {
     "end_time": "2024-02-28T21:29:03.382800Z",
     "start_time": "2024-02-28T21:29:03.071460Z"
    }
   },
   "outputs": [
    {
     "data": {
      "text/html": [
       "<div>\n",
       "<style scoped>\n",
       "    .dataframe tbody tr th:only-of-type {\n",
       "        vertical-align: middle;\n",
       "    }\n",
       "\n",
       "    .dataframe tbody tr th {\n",
       "        vertical-align: top;\n",
       "    }\n",
       "\n",
       "    .dataframe thead th {\n",
       "        text-align: right;\n",
       "    }\n",
       "</style>\n",
       "<table border=\"1\" class=\"dataframe\">\n",
       "  <thead>\n",
       "    <tr style=\"text-align: right;\">\n",
       "      <th></th>\n",
       "      <th>Missing_Number</th>\n",
       "      <th>Missing_Percent</th>\n",
       "    </tr>\n",
       "  </thead>\n",
       "  <tbody>\n",
       "  </tbody>\n",
       "</table>\n",
       "</div>"
      ],
      "text/plain": [
       "Empty DataFrame\n",
       "Columns: [Missing_Number, Missing_Percent]\n",
       "Index: []"
      ]
     },
     "execution_count": 1447,
     "metadata": {},
     "output_type": "execute_result"
    }
   ],
   "source": [
    "# Let's exclude the \"location_city\" column for now in case we may need it in future steps.\n",
    "missing_values(df)"
   ]
  },
  {
   "cell_type": "code",
   "execution_count": 1448,
   "metadata": {
    "ExecuteTime": {
     "end_time": "2024-02-28T21:29:03.518080Z",
     "start_time": "2024-02-28T21:29:03.388531Z"
    }
   },
   "outputs": [
    {
     "name": "stdout",
     "output_type": "stream",
     "text": [
      "<class 'pandas.core.frame.DataFrame'>\n",
      "Index: 28602 entries, 0 to 29478\n",
      "Data columns (total 38 columns):\n",
      " #   Column                 Non-Null Count  Dtype  \n",
      "---  ------                 --------------  -----  \n",
      " 0   make_model             28602 non-null  object \n",
      " 1   make                   28602 non-null  object \n",
      " 2   model                  28602 non-null  object \n",
      " 3   location               28602 non-null  object \n",
      " 4   price                  28602 non-null  float64\n",
      " 5   body_type              28602 non-null  object \n",
      " 6   type                   28602 non-null  object \n",
      " 7   doors                  28602 non-null  float64\n",
      " 8   country_version        28602 non-null  object \n",
      " 9   warranty               28602 non-null  object \n",
      " 10  mileage                28602 non-null  float64\n",
      " 11  first_registration     28602 non-null  float64\n",
      " 12  gearbox                28602 non-null  object \n",
      " 13  fuel_type              28602 non-null  object \n",
      " 14  colour                 28602 non-null  object \n",
      " 15  paint                  28602 non-null  object \n",
      " 16  seller                 28602 non-null  object \n",
      " 17  seats                  28602 non-null  float64\n",
      " 18  power                  28602 non-null  float64\n",
      " 19  engine_size            28602 non-null  float64\n",
      " 20  gears                  28602 non-null  float64\n",
      " 21  manufacturer_colour    28602 non-null  object \n",
      " 22  drivetrain             28602 non-null  object \n",
      " 23  cylinders              28602 non-null  float64\n",
      " 24  fuel_consumption       28602 non-null  float64\n",
      " 25  comfort_&_convenience  28602 non-null  object \n",
      " 26  entertainment_&_media  28602 non-null  object \n",
      " 27  safety_&_security      28602 non-null  object \n",
      " 28  extras                 28602 non-null  object \n",
      " 29  empty_weight           28602 non-null  float64\n",
      " 30  full_service_history   28602 non-null  object \n",
      " 31  emission_class         28602 non-null  object \n",
      " 32  emissions_sticker      28602 non-null  object \n",
      " 33  upholstery_colour      28602 non-null  object \n",
      " 34  upholstery             28602 non-null  object \n",
      " 35  previous_owner         28602 non-null  float64\n",
      " 36  location_country       28602 non-null  object \n",
      " 37  location_city          28602 non-null  object \n",
      "dtypes: float64(12), object(26)\n",
      "memory usage: 9.5+ MB\n"
     ]
    }
   ],
   "source": [
    "df.info()"
   ]
  },
  {
   "cell_type": "markdown",
   "metadata": {},
   "source": [
    "<a id=\"48\"></a>\n",
    "# <p style=\"background-color:#00008B; font-family:newtimeroman;color:#FFF9ED; font-size:150%; text-align:center; border-radius: 15px 50px;\">  End of Part - 2 </p>\n",
    "<a href=\"#toc\" class=\"btn btn-warning btn-lg active\" role=\"button\" aria-pressed=\"true\" style=\"color:black;\">Content</a>"
   ]
  },
  {
   "cell_type": "markdown",
   "metadata": {},
   "source": [
    "<a id=\"51\"></a>\n",
    "# <p style=\"background-color:#00008B; font-family:newtimeroman;color:#FFF9ED; font-size:150%; text-align:center; border-radius: 15px 50px;\"> Save the final state of the DataFrame as a CSV file</p>\n",
    "<a href=\"#toc\" class=\"btn btn-warning btn-lg active\" role=\"button\" aria-pressed=\"true\" style=\"color:black;\">Content</a>"
   ]
  },
  {
   "cell_type": "code",
   "execution_count": 1452,
   "metadata": {
    "ExecuteTime": {
     "end_time": "2024-02-28T21:42:59.990136Z",
     "start_time": "2024-02-28T21:42:57.953452Z"
    }
   },
   "outputs": [],
   "source": [
    "df.to_csv(\"capstone_part_2_final.csv\", index = False)"
   ]
  },
  {
   "cell_type": "markdown",
   "metadata": {
    "ExecuteTime": {
     "end_time": "2024-02-28T21:40:57.330146Z",
     "start_time": "2024-02-28T21:40:57.309526Z"
    }
   },
   "source": [
    "<ul class=\"nav flex-column\">\n",
    "  <h3 class=\"list-group-item list-group-item-action active\" data-toggle=\"list\" role=\"tab\" aria-controls=\"home\" style=\"background-color:darkgreen; color:white\"><b>AutoScout Exploratory Data Analysis (EDA) Project</b></h3>\n",
    "  <li class=\"nav-item\">\n",
    "    <a class=\"nav-link active\" style=\"background-color:; color:Blue\" href=\"https://github.com/TKasanova/AutoScout_Capstone_Project/blob/main/AutoScout_Capstone_Part_1_Final_Project.ipynb\" role=\"tab\"><b>Part - 1 - Data Cleaning</b></a>\n",
    "  </li>\n",
    "  <li class=\"nav-item\">\n",
    "    <a class=\"nav-link\" style=\"background-color:; color:black\" href=\"https://github.com/TKasanova/AutoScout_Capstone_Project/blob/main/AutoScout_Capstone_Part_2_Final_Project.ipynb\"><b>Part - 2 - Handling With Missing Values</b></a>\n",
    "  </li>\n",
    "  <li class=\"nav-item\">\n",
    "    <a class=\"nav-link\" style=\"background-color:; color:red\" href=\"https://github.com/TKasanova/AutoScout_Capstone_Project/blob/main/AutoScout_Capstone_Part_3_Final_Project.ipynb\"><b>Part - 3 - Handling With Outliers</b></a>\n",
    "  </li>\n",
    "    <li class=\"nav-item\">\n",
    "    <a class=\"nav-link\" style=\"background-color:; color:blue\" href=\"https://github.com/TKasanova/EDA_Car_projects\"><b>Analysis of the Dataset</b></a>\n",
    "  </li>  \n",
    "  <li class=\"nav-item\">\n",
    "    <a class=\"nav-link\" style=\"background-color:; color:green\" href=\"https://www.linkedin.com/in/tahirakasanova/\"><b>Linkedin Account</b></a>\n",
    "  </li>\n",
    "</ul>\n",
    "\n",
    "</ul>\n"
   ]
  }
 ],
 "metadata": {
  "colab": {
   "name": "DAwPy-Capstone_Project_(AutoScout)_Student.ipynb",
   "provenance": []
  },
  "hide_input": false,
  "kernelspec": {
   "display_name": "Python 3 (ipykernel)",
   "language": "python",
   "name": "python3"
  },
  "language_info": {
   "codemirror_mode": {
    "name": "ipython",
    "version": 3
   },
   "file_extension": ".py",
   "mimetype": "text/x-python",
   "name": "python",
   "nbconvert_exporter": "python",
   "pygments_lexer": "ipython3",
   "version": "3.11.7"
  },
  "toc": {
   "base_numbering": 1,
   "nav_menu": {},
   "number_sections": false,
   "sideBar": true,
   "skip_h1_title": false,
   "title_cell": "Table of Contents",
   "title_sidebar": "Contents",
   "toc_cell": false,
   "toc_position": {
    "height": "calc(100% - 180px)",
    "left": "10px",
    "top": "150px",
    "width": "349.598px"
   },
   "toc_section_display": true,
   "toc_window_display": true
  }
 },
 "nbformat": 4,
 "nbformat_minor": 1
}
