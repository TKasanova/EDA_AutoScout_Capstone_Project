{
 "cells": [
  {
   "cell_type": "markdown",
   "metadata": {
    "id": "Bkw3_pB0s1L-"
   },
   "source": [
    "\n",
    "# <p style=\"background-color:  #00008B; font-family:newtimeroman;font-size:180%;color:#FFF9ED;text-align:center;border-radius:80px 20px;\"><b> The Exploratory Data Analysis (EDA) Project<img  style=\"width: 70x;\"  style=\"position: absolute; right: 5px; top: 60%; transform: translateY(-70%);\"> </div> \n",
    "\n",
    "<p style=\"text-align: center;\"><img src=\"01.jpg\" style=\"width: 200%; height: 300px; object-fit: cover;\">\n",
    "</p>\n",
    "\n",
    "## <p style=\"background-color:#FDFEFE; font-family:newtimeroman; color:darkblue; font-size:200%; text-align:center; border-radius:10px 10px;\">AutoScout Car Price Prediction EDA</p>\n",
    "\n"
   ]
  },
  {
   "cell_type": "markdown",
   "metadata": {
    "id": "Z_oWczxZs1MA"
   },
   "source": [
    "## Introduction\n",
    "Welcome to \"***AutoScout Exploratory Data Analysis (EDA) Project***\".  **Auto Scout** data used in this project scraped from the Website of an online car trading company in 2022, and contains many features of 13 different car makes including 594 models. In this project, you will have the opportunity to apply many commonly used algorithms for Data Cleaning and Exploratory Data Analysis by using a variety of Python libraries, such as Numpy, Pandas, Matplotlib, Seaborn, Plotly  Scipy, and then you will get a clean dataset for your analysis and pretictive modelling in Machine Learning Path.\n",
    "\n",
    "**``In this context, the project consists of 3 parts in general:``**\n",
    "* **The first part** is related to ``'Data Cleaning'``. It deals with Incorrect Headers, Incorrect Format, Anomalies, and Dropping useless columns.\n",
    "* **The second part** is related to ``'Filling Data'``, in other words 'Imputation'. It deals with Missing Values. Categorical to numeric transformation, Encoding, is done as well.\n",
    "* **The third part** is related to ``'Handling Outliers of Data'`` via Visualization libraries. So, some insights will be extracted.\n",
    "\n",
    "###  Exploratory data analysis (EDA)\n",
    "\n",
    "Exploratory data analysis (EDA) is an especially important activity in the routine of a data analyst or scientist. It enables an in depth understanding of the dataset, define or discard hypotheses and create predictive models on a solid basis. It uses data manipulation techniques and several statistical tools to describe and understand the relationship between variables and how these can impact business. By means of EDA, we can obtain meaningful insights that can impact analysis under the following questions (If a checklist is good enough for pilots to use every flight, it’s good enough for data scientists to use with every dataset).\n",
    "1. What question are you trying to solve (or prove wrong)?\n",
    "2. What kind of data do you have?\n",
    "3. What’s missing from the data?\n",
    "4. Where are the outliers?\n",
    "5. How can you add, change or remove features to get more out of your data?\n",
    "\n"
   ]
  },
  {
   "cell_type": "markdown",
   "metadata": {
    "ExecuteTime": {
     "end_time": "2024-02-21T20:29:48.000824Z",
     "start_time": "2024-02-21T20:29:47.992673Z"
    },
    "run_control": {
     "marked": true
    }
   },
   "source": [
    "<p style=\"background-color: darkblue; font-family: newtimeroman; font-size: 250%; color: #FFF9ED; border-radius: 80px 20px; padding: 25px; text-align: center;\"> <b> AutoScout Exploratory Data Analysis (EDA) \n",
    "    Project</b>\n",
    "<img src=\"11.jpg\" style=\"width: 150px; vertical-align: left; margin-left: 20px; float:right;\" >\n",
    "<span style=\"display: inline-block; width: calc(80% - 20px); text-align: center;\"></span> \n",
    "\n",
    "</p>\n",
    "\n"
   ]
  },
  {
   "cell_type": "markdown",
   "metadata": {},
   "source": [
    "<ul class=\"nav flex-column\">\n",
    "  <h3 class=\"list-group-item list-group-item-action active\" data-toggle=\"list\" role=\"tab\" aria-controls=\"home\" style=\"background-color:darkgreen; color:white\"><b>AutoScout Exploratory Data Analysis (EDA) Project</b></h3>\n",
    "  <li class=\"nav-item\">\n",
    "    <a class=\"nav-link active\" style=\"background-color:; color:Blue\" href=\"https://github.com/TKasanova/AutoScout_Capstone_Project/blob/main/AutoScout_Capstone_Part_1_Final_Project.ipynb\" role=\"tab\"><b>Part - 1 - Data Cleaning</b></a>\n",
    "  </li>\n",
    "  <li class=\"nav-item\">\n",
    "    <a class=\"nav-link\" style=\"background-color:; color:black\" href=\"https://github.com/TKasanova/AutoScout_Capstone_Project/blob/main/AutoScout_Capstone_Part_2_Final_Project.ipynb\"><b>Part - 2 - Handling With Missing Values</b></a>\n",
    "  </li>\n",
    "  <li class=\"nav-item\">\n",
    "    <a class=\"nav-link\" style=\"background-color:; color:red\" href=\"https://github.com/TKasanova/AutoScout_Capstone_Project/blob/main/AutoScout_Capstone_Part_3_Final_Project.ipynb\"><b>Part - 3 - Handling With Outliers</b></a>\n",
    "  </li>\n",
    "    <li class=\"nav-item\">\n",
    "    <a class=\"nav-link\" style=\"background-color:; color:blue\" href=\"https://github.com/TKasanova/EDA_Car_projects\"><b>Analysis of the Dataset</b></a>\n",
    "  </li>  \n",
    "  <li class=\"nav-item\">\n",
    "    <a class=\"nav-link\" style=\"background-color:; color:green\" href=\"https://www.linkedin.com/in/tahirakasanova/\"><b>Linkedin Account</b></a>\n",
    "  </li>\n",
    "</ul>\n"
   ]
  },
  {
   "cell_type": "markdown",
   "metadata": {},
   "source": [
    "<a id=\"toc\"></a>\n",
    "\n",
    "<div style=\"border-radius: 10px;\n",
    "            border: black solid;\n",
    "            background-color: lightgray;\n",
    "            font-size: 100%;\n",
    "            text-align: left;\n",
    "            box-shadow: 2px 2px 4px rgba(0, 0, 0, 0.5);\">\n",
    "\n",
    "<h2 style=\"border: 0; border-radius: 15px; font-weight: bold; font-size: 220%; color: blue\"><center>  Content  </center></h2>  \n",
    "\n",
    "<div>\n",
    "  <ul>\n",
    "    <li><a href=\"#0\">DATASET EXPLANATION</a></li>\n",
    "    <li><a href=\"#1\">EXPLANATION OF THE VARIABLES</a></li>\n",
    "    <li><a href=\"#2\">IMPORTING LIBRARIES NEEDED IN THIS NOTEBOOK</a></li>\n",
    "    <li><a href=\"#3\">READING &amp; UNDERSTANDING THE DATA</a></li>\n",
    "  </ul>\n",
    "</div>\n",
    "\n",
    "<div style=\"display: flex;\">\n",
    "    <hr style=\"border: none;\n",
    "               height: 2px;\n",
    "               width: 100%;\n",
    "               background-color: linear-gradient(to right, black, blue);\n",
    "               box-shadow: 0px 2px 4px rgba(0, 0, 0, 0.5);\n",
    "               margin-left: 0;\">\n",
    "</div>\n",
    "\n",
    "<div style=\"display: flex; justify-content: center;\">\n",
    "  <ul>\n",
    "    <li><a href=\"#4\">OPERATIONS ON SOME COLUMNS</a></li>\n",
    "  </ul>\n",
    "</div>\n",
    "    \n",
    "<div style=\"display: flex; flex-wrap: wrap; justify-content: center;\">\n",
    "   <div style=\"flex: 0 0 25%; text-align: center; margin-right: 1%;\">\n",
    "        <ul style=\"list-style-type: none; padding-left: 5;\">\n",
    "            <li><a href=\"#5\">MAKE</a></li>\n",
    "            <li><a href=\"#6\">MODEL</a></li>\n",
    "            <li><a href=\"#7\">PRICE</a></li>\n",
    "            <li><a href=\"#8\">BODY_TYPE</a></li>\n",
    "            <li><a href=\"#9\">TYPE</a></li>\n",
    "            <li><a href=\"#10\">DOORS</a></li>\n",
    "            <li><a href=\"#11\">COUNTRY_VERSION</a></li>\n",
    "            <li><a href=\"#12\">OFFER_NUMBER</a></li>\n",
    "            <li><a href=\"#13\">WARRANTY</a></li>\n",
    "            <li><a href=\"#38\">FIRST_REGISTRATION</a></li> \n",
    "            <li><a href=\"#14\">MILEAGE</a></li>\n",
    "</ul>\n",
    "</div>\n",
    "    <div style=\"flex: 0 0 25%; text-align: center; margin-right: 1%;\">\n",
    "        <ul style=\"list-style-type: none; padding-left: 5;\">\n",
    "            <li><a href=\"#15\">GEARBOX</a></li>\n",
    "            <li><a href=\"#16\">DESC</a></li>            \n",
    "            <li><a href=\"#17\">SEATS</a></li>\n",
    "            <li><a href=\"#18\">POWER</a></li>\n",
    "            <li><a href=\"#19\">ENGINE_SIZE</a></li>\n",
    "            <li><a href=\"#20\">GEARS</a></li>\n",
    "            <li><a href=\"#21\">CO_EMISSIONS</a></li>\n",
    "            <li><a href=\"#22\">MANUFACTURER_COLOUR</a></li>\n",
    "            <li><a href=\"#23\">DRIVETRAIN</a></li>\n",
    "            <li><a href=\"#24\">CYLINDERS</a></li>\n",
    "            <li><a href=\"#25\">FUEL_CONSUMPTION</a></li>\n",
    "\n",
    "\n",
    "</ul>\n",
    "    </div>\n",
    "<div style=\"flex: 0 0 25%; text-align: center; margin-right: 1%;\">\n",
    "        <ul style=\"list-style-type: none; padding-left: 5;\">\n",
    "            <li><a href=\"#26\">FUEL_TYPE</a></li>\n",
    "            <li><a href=\"#27\">FUEL_CONSUMPTION-2</a></li>\n",
    "            <li><a href=\"#28\">COMFORT_&_CONVENIENCE</a></li>\n",
    "            <li><a href=\"#29\">ENTERTAINMENT_&_MEDIA</a></li>                       \n",
    "            <li><a href=\"#30\">SAFETY_&_SECURITY</a></li>\n",
    "            <li><a href=\"#31\">EXTRAS</a></li>\n",
    "            <li><a href=\"#32\">EMPTY_WEIGHT</a></li>\n",
    "            <li><a href=\"#33\">MODEL_CODE</a></li>\n",
    "            <li><a href=\"#34\">EMISSION_CLASS</a></li>\n",
    "            <li><a href=\"#35\">EMISSION_STICKER</a></li>\n",
    "            <li><a href=\"#36\">UPHOLSTERY_COLOUR</a></li>\n",
    "\n",
    " </ul>\n",
    "</div>\n",
    "<div style=\"flex: 0 0 25%; text-align: center;margin-right: 1%;\">\n",
    "        <ul style=\"list-style-type: none; padding-left: 5;\">\n",
    "            <li><a href=\"#37\">UPHOLSTERY</a></li>\n",
    "            <li><a href=\"#39\">PREVIOUS_OWNER</a></li>\n",
    "            <li><a href=\"#40\">POWER_CONSUMPTION</a></li>\n",
    "            <li><a href=\"#41\">ENERGY_EFFICIENCY_CLASS</a></li>\n",
    "            <li><a href=\"#42\">FUEL_CONSUMPTION_WLTP</a></li>\n",
    "            <li><a href=\"#43\">CO_EMISSIONS_WLTP</a></li>            \n",
    "            <li><a href=\"#44\">AVAILABLE_FROM</a></li>\n",
    "            <li><a href=\"#45\">AVAILABILITY</a></li>\n",
    "            <li><a href=\"#46\">ELECTRIC_RANGE_WLTP</a></li>\n",
    "            <li><a href=\"#47\">POWER_CONSUMPTION_WLTP</a></li>           \n",
    "        </ul>\n",
    "    </div>\n",
    "</div>\n",
    "    \n",
    "<div style=\"display: flex;\">\n",
    "    <hr style=\"border: none;\n",
    "               height: 2px;\n",
    "               width: 100%;\n",
    "               background-color: linear-gradient(to right, black, blue);\n",
    "               box-shadow: 0px 2px 4px rgba(0, 0, 0, 0.5);\n",
    "               margin-left: 0;\">\n",
    "</div>   \n",
    "    \n",
    "<div>\n",
    "  <ul>\n",
    "    <li><a href=\"#49\">DROPPING COLUMNS WITH 80% OR MORE NAN VALUES</a></li>\n",
    "    <li><a href=\"#50\">DROP</a></li>\n",
    "    <li><a href=\"#51\">SAVE THE FINAL STATE OF THE DATAFRAME AS A CSV</a></li>\n",
    "   \n",
    "  </ul>\n",
    "</div>\n",
    "</div>\n"
   ]
  },
  {
   "cell_type": "markdown",
   "metadata": {},
   "source": [
    "# <p style=\"background-color:darkgreen; font-family:newtimeroman;color:#FFF9ED; font-size:150%; text-align:center; border-radius: 15px 50px;\">  Data Cleaning </p>\n",
    "\n"
   ]
  },
  {
   "cell_type": "markdown",
   "metadata": {},
   "source": [
    "<a id=\"0\"></a>\n",
    "# <p style=\"background-color:darkblue; font-family:newtimeroman;color:#FFF9ED; font-size:150%; text-align:center; border-radius: 15px 50px;\"> Dataset Explanation </p>\n",
    "<a href=\"#toc\" class=\"btn btn-warning btn-lg active\" role=\"button\" aria-pressed=\"true\" style=\"color:black;\">Content</a>"
   ]
  },
  {
   "cell_type": "markdown",
   "metadata": {},
   "source": [
    "<a id=\"1\"></a>\n",
    "<div style=\"border-radius: 10px;\n",
    "            border: black solid;\n",
    "            background-color: darkgray;\n",
    "            font-size: 100%;\n",
    "            text-align: left;\n",
    "            box-shadow: 2px 2px 4px rgba(0, 0, 0, 0.5);\">\n",
    "\n",
    "<h2 style=\"border: 0; border-radius: 15px; font-weight: bold; font-size: 220%; color: #FFF9ED\"><center>  Explanation of the Variables </center></h2>\n",
    "    \n",
    "- **make_model**: Vehicle brand and model.\n",
    "- **short_description**: Brief description.\n",
    "- **make**: Vehicle brand.\n",
    "- **model**: Vehicle model.\n",
    "- **location**: Location of the vehicle.\n",
    "- **price**: Price.\n",
    "- **body_type**: Vehicle body type.\n",
    "- **type**: Vehicle type.\n",
    "- **doors**: Number of doors in the vehicle.\n",
    "- **country_version**: Country version of the vehicle.\n",
    "- **offer_number**: Offer number.\n",
    "- **warranty**: Warranty.\n",
    "- **mileage**: Vehicle mileage information.\n",
    "- **first_registration**: First registration date.\n",
    "- **gearbox**: Gearbox type.\n",
    "- **fuel_type**: Fuel type.\n",
    "- **colour**: Vehicle color.\n",
    "- **paint**: Paint type.\n",
    "- **desc**: Description.\n",
    "- **seller**: Seller.\n",
    "- **seats**: Number of seats in the vehicle.\n",
    "- **power**: Engine power.\n",
    "- **engine_size**: Engine size.\n",
    "- **gears**: Number of gears.\n",
    "- **co_emissions**:  CO₂ emissions.\n",
    "- **manufacturer_colour**: Manufacturer color.\n",
    "- **drivetrain**: Drivetrain type.\n",
    "- **cylinders**: Number of cylinders.\n",
    "- **fuel_consumption**: Fuel consumption.\n",
    "- **comfort_&_convenience**: Comfort and convenience features.\n",
    "- **entertainment_&_media**: Entertainment and media features.\n",
    "- **safety_&_security**: Safety and security features.\n",
    "- **extras**: Extra features.\n",
    "- **empty_weight**: Empty weight.\n",
    "- **model_code**: Model code.\n",
    "- **general_inspection**: General inspection.\n",
    "- **last_service**: Last service.\n",
    "- **full_service_history**: Full service history.\n",
    "- **non_smoker_vehicle**: Non-smoker vehicle.\n",
    "- **emission_class**: Emission class.\n",
    "- **emissions_sticker**: Emissions sticker.\n",
    "- **upholstery_colour**: Upholstery color.\n",
    "- **upholstery**: Upholstery.\n",
    "- **production_date**: Production date.\n",
    "- **previous_owner**: Previous owner.\n",
    "- **other_fuel_types**: Other fuel types.\n",
    "- **power_consumption**: Power consumption.\n",
    "- **energy_efficiency_class**: Energy efficiency class.\n",
    "- **co_efficiency**:  CO₂ efficiency.\n",
    "- **fuel_consumption_wltp**: WLTP fuel consumption.\n",
    "- **co_emissions_wltp**: WLTP  CO₂ emissions.\n",
    "- **available_from**: Available from.\n",
    "- **taxi_or_rental_car**: Taxi or rental car.\n",
    "- **availability**: Availability status.\n",
    "- **last_timing_belt_change**: Last timing belt change.\n",
    "- **electric_range_wltp**: WLTP electric range.\n",
    "- **power_consumption_wltp**: WLTP power consumption.\n",
    "- **battery_ownership**: Battery ownership.\n"
   ]
  },
  {
   "cell_type": "markdown",
   "metadata": {},
   "source": [
    "<a id=\"2\"></a>\n",
    "# <p style=\"background-color:darkblue; font-family:newtimeroman;color:#FFF9ED; font-size:150%; text-align:center; border-radius: 15px 50px;\"> Importing Libraries </p>\n",
    "<a href=\"#toc\" class=\"btn btn-warning btn-lg active\" role=\"button\" aria-pressed=\"true\" style=\"color:black;\">Content</a>"
   ]
  },
  {
   "cell_type": "code",
   "execution_count": 1,
   "metadata": {
    "ExecuteTime": {
     "end_time": "2024-02-25T18:51:17.996800Z",
     "start_time": "2024-02-25T18:50:56.659468Z"
    },
    "run_control": {
     "marked": true
    }
   },
   "outputs": [
    {
     "name": "stdout",
     "output_type": "stream",
     "text": [
      "Requirement already satisfied: skimpy in c:\\users\\ktahi\\anaconda3\\lib\\site-packages (0.0.14)\n",
      "Requirement already satisfied: Pygments<3.0.0,>=2.10.0 in c:\\users\\ktahi\\anaconda3\\lib\\site-packages (from skimpy) (2.15.1)\n",
      "Requirement already satisfied: click<9.0.0,>=8.1.6 in c:\\users\\ktahi\\anaconda3\\lib\\site-packages (from skimpy) (8.1.7)\n",
      "Requirement already satisfied: ipykernel<7.0.0,>=6.7.0 in c:\\users\\ktahi\\anaconda3\\lib\\site-packages (from skimpy) (6.25.0)\n",
      "Requirement already satisfied: numpy<2.0.0,>=1.22.2 in c:\\users\\ktahi\\anaconda3\\lib\\site-packages (from skimpy) (1.26.4)\n",
      "Requirement already satisfied: pandas<3.0.0,>=2.0.3 in c:\\users\\ktahi\\anaconda3\\lib\\site-packages (from skimpy) (2.1.4)\n",
      "Requirement already satisfied: polars<0.21,>=0.19 in c:\\users\\ktahi\\anaconda3\\lib\\site-packages (from skimpy) (0.20.7)\n",
      "Requirement already satisfied: pyarrow<16,>=13 in c:\\users\\ktahi\\anaconda3\\lib\\site-packages (from skimpy) (14.0.2)\n",
      "Requirement already satisfied: quartodoc<0.8.0,>=0.7.2 in c:\\users\\ktahi\\anaconda3\\lib\\site-packages (from skimpy) (0.7.2)\n",
      "Requirement already satisfied: rich<14.0,>=10.9 in c:\\users\\ktahi\\anaconda3\\lib\\site-packages (from skimpy) (13.3.5)\n",
      "Requirement already satisfied: typeguard==4.1.5 in c:\\users\\ktahi\\anaconda3\\lib\\site-packages (from skimpy) (4.1.5)\n",
      "Requirement already satisfied: typing-extensions>=4.7.0 in c:\\users\\ktahi\\anaconda3\\lib\\site-packages (from typeguard==4.1.5->skimpy) (4.9.0)\n",
      "Requirement already satisfied: colorama in c:\\users\\ktahi\\anaconda3\\lib\\site-packages (from click<9.0.0,>=8.1.6->skimpy) (0.4.6)\n",
      "Requirement already satisfied: comm>=0.1.1 in c:\\users\\ktahi\\anaconda3\\lib\\site-packages (from ipykernel<7.0.0,>=6.7.0->skimpy) (0.1.2)\n",
      "Requirement already satisfied: debugpy>=1.6.5 in c:\\users\\ktahi\\anaconda3\\lib\\site-packages (from ipykernel<7.0.0,>=6.7.0->skimpy) (1.6.7)\n",
      "Requirement already satisfied: ipython>=7.23.1 in c:\\users\\ktahi\\anaconda3\\lib\\site-packages (from ipykernel<7.0.0,>=6.7.0->skimpy) (8.20.0)\n",
      "Requirement already satisfied: jupyter-client>=6.1.12 in c:\\users\\ktahi\\anaconda3\\lib\\site-packages (from ipykernel<7.0.0,>=6.7.0->skimpy) (7.4.9)\n",
      "Requirement already satisfied: jupyter-core!=5.0.*,>=4.12 in c:\\users\\ktahi\\anaconda3\\lib\\site-packages (from ipykernel<7.0.0,>=6.7.0->skimpy) (5.5.0)\n",
      "Requirement already satisfied: matplotlib-inline>=0.1 in c:\\users\\ktahi\\anaconda3\\lib\\site-packages (from ipykernel<7.0.0,>=6.7.0->skimpy) (0.1.6)\n",
      "Requirement already satisfied: nest-asyncio in c:\\users\\ktahi\\anaconda3\\lib\\site-packages (from ipykernel<7.0.0,>=6.7.0->skimpy) (1.5.6)\n",
      "Requirement already satisfied: packaging in c:\\users\\ktahi\\anaconda3\\lib\\site-packages (from ipykernel<7.0.0,>=6.7.0->skimpy) (23.1)\n",
      "Requirement already satisfied: psutil in c:\\users\\ktahi\\anaconda3\\lib\\site-packages (from ipykernel<7.0.0,>=6.7.0->skimpy) (5.9.0)\n",
      "Requirement already satisfied: pyzmq>=20 in c:\\users\\ktahi\\anaconda3\\lib\\site-packages (from ipykernel<7.0.0,>=6.7.0->skimpy) (23.2.0)\n",
      "Requirement already satisfied: tornado>=6.1 in c:\\users\\ktahi\\anaconda3\\lib\\site-packages (from ipykernel<7.0.0,>=6.7.0->skimpy) (6.3.3)\n",
      "Requirement already satisfied: traitlets>=5.4.0 in c:\\users\\ktahi\\anaconda3\\lib\\site-packages (from ipykernel<7.0.0,>=6.7.0->skimpy) (5.7.1)\n",
      "Requirement already satisfied: python-dateutil>=2.8.2 in c:\\users\\ktahi\\anaconda3\\lib\\site-packages (from pandas<3.0.0,>=2.0.3->skimpy) (2.8.2)\n",
      "Requirement already satisfied: pytz>=2020.1 in c:\\users\\ktahi\\anaconda3\\lib\\site-packages (from pandas<3.0.0,>=2.0.3->skimpy) (2023.3.post1)\n",
      "Requirement already satisfied: tzdata>=2022.1 in c:\\users\\ktahi\\anaconda3\\lib\\site-packages (from pandas<3.0.0,>=2.0.3->skimpy) (2023.3)\n",
      "Requirement already satisfied: griffe>=0.33 in c:\\users\\ktahi\\anaconda3\\lib\\site-packages (from quartodoc<0.8.0,>=0.7.2->skimpy) (0.40.1)\n",
      "Requirement already satisfied: sphobjinv>=2.3.1 in c:\\users\\ktahi\\anaconda3\\lib\\site-packages (from quartodoc<0.8.0,>=0.7.2->skimpy) (2.3.1)\n",
      "Requirement already satisfied: tabulate>=0.9.0 in c:\\users\\ktahi\\anaconda3\\lib\\site-packages (from quartodoc<0.8.0,>=0.7.2->skimpy) (0.9.0)\n",
      "Requirement already satisfied: importlib-metadata>=5.1.0 in c:\\users\\ktahi\\anaconda3\\lib\\site-packages (from quartodoc<0.8.0,>=0.7.2->skimpy) (7.0.1)\n",
      "Requirement already satisfied: importlib-resources>=5.10.2 in c:\\users\\ktahi\\anaconda3\\lib\\site-packages (from quartodoc<0.8.0,>=0.7.2->skimpy) (6.1.1)\n",
      "Requirement already satisfied: pydantic in c:\\users\\ktahi\\anaconda3\\lib\\site-packages (from quartodoc<0.8.0,>=0.7.2->skimpy) (2.6.1)\n",
      "Requirement already satisfied: pyyaml in c:\\users\\ktahi\\anaconda3\\lib\\site-packages (from quartodoc<0.8.0,>=0.7.2->skimpy) (6.0.1)\n",
      "Requirement already satisfied: watchdog>=3.0.0 in c:\\users\\ktahi\\anaconda3\\lib\\site-packages (from quartodoc<0.8.0,>=0.7.2->skimpy) (4.0.0)\n",
      "Requirement already satisfied: plum-dispatch>2.0.0 in c:\\users\\ktahi\\anaconda3\\lib\\site-packages (from quartodoc<0.8.0,>=0.7.2->skimpy) (2.3.2)\n",
      "Requirement already satisfied: markdown-it-py<3.0.0,>=2.2.0 in c:\\users\\ktahi\\anaconda3\\lib\\site-packages (from rich<14.0,>=10.9->skimpy) (2.2.0)\n",
      "Requirement already satisfied: zipp>=0.5 in c:\\users\\ktahi\\anaconda3\\lib\\site-packages (from importlib-metadata>=5.1.0->quartodoc<0.8.0,>=0.7.2->skimpy) (3.17.0)\n",
      "Requirement already satisfied: decorator in c:\\users\\ktahi\\anaconda3\\lib\\site-packages (from ipython>=7.23.1->ipykernel<7.0.0,>=6.7.0->skimpy) (5.1.1)\n",
      "Requirement already satisfied: jedi>=0.16 in c:\\users\\ktahi\\anaconda3\\lib\\site-packages (from ipython>=7.23.1->ipykernel<7.0.0,>=6.7.0->skimpy) (0.18.1)\n",
      "Requirement already satisfied: prompt-toolkit<3.1.0,>=3.0.41 in c:\\users\\ktahi\\anaconda3\\lib\\site-packages (from ipython>=7.23.1->ipykernel<7.0.0,>=6.7.0->skimpy) (3.0.43)\n",
      "Requirement already satisfied: stack-data in c:\\users\\ktahi\\anaconda3\\lib\\site-packages (from ipython>=7.23.1->ipykernel<7.0.0,>=6.7.0->skimpy) (0.2.0)\n",
      "Requirement already satisfied: entrypoints in c:\\users\\ktahi\\anaconda3\\lib\\site-packages (from jupyter-client>=6.1.12->ipykernel<7.0.0,>=6.7.0->skimpy) (0.4)\n",
      "Requirement already satisfied: platformdirs>=2.5 in c:\\users\\ktahi\\anaconda3\\lib\\site-packages (from jupyter-core!=5.0.*,>=4.12->ipykernel<7.0.0,>=6.7.0->skimpy) (3.10.0)\n",
      "Requirement already satisfied: pywin32>=300 in c:\\users\\ktahi\\anaconda3\\lib\\site-packages (from jupyter-core!=5.0.*,>=4.12->ipykernel<7.0.0,>=6.7.0->skimpy) (305.1)\n",
      "Requirement already satisfied: mdurl~=0.1 in c:\\users\\ktahi\\anaconda3\\lib\\site-packages (from markdown-it-py<3.0.0,>=2.2.0->rich<14.0,>=10.9->skimpy) (0.1.0)\n",
      "Requirement already satisfied: beartype>=0.16.2 in c:\\users\\ktahi\\anaconda3\\lib\\site-packages (from plum-dispatch>2.0.0->quartodoc<0.8.0,>=0.7.2->skimpy) (0.17.1)\n",
      "Requirement already satisfied: six>=1.5 in c:\\users\\ktahi\\anaconda3\\lib\\site-packages (from python-dateutil>=2.8.2->pandas<3.0.0,>=2.0.3->skimpy) (1.16.0)\n",
      "Requirement already satisfied: attrs>=19.2 in c:\\users\\ktahi\\anaconda3\\lib\\site-packages (from sphobjinv>=2.3.1->quartodoc<0.8.0,>=0.7.2->skimpy) (23.1.0)\n",
      "Requirement already satisfied: certifi in c:\\users\\ktahi\\anaconda3\\lib\\site-packages (from sphobjinv>=2.3.1->quartodoc<0.8.0,>=0.7.2->skimpy) (2024.2.2)\n",
      "Requirement already satisfied: jsonschema>=3.0 in c:\\users\\ktahi\\anaconda3\\lib\\site-packages (from sphobjinv>=2.3.1->quartodoc<0.8.0,>=0.7.2->skimpy) (4.19.2)\n",
      "Requirement already satisfied: annotated-types>=0.4.0 in c:\\users\\ktahi\\anaconda3\\lib\\site-packages (from pydantic->quartodoc<0.8.0,>=0.7.2->skimpy) (0.6.0)\n",
      "Requirement already satisfied: pydantic-core==2.16.2 in c:\\users\\ktahi\\anaconda3\\lib\\site-packages (from pydantic->quartodoc<0.8.0,>=0.7.2->skimpy) (2.16.2)\n",
      "Requirement already satisfied: parso<0.9.0,>=0.8.0 in c:\\users\\ktahi\\anaconda3\\lib\\site-packages (from jedi>=0.16->ipython>=7.23.1->ipykernel<7.0.0,>=6.7.0->skimpy) (0.8.3)\n",
      "Requirement already satisfied: jsonschema-specifications>=2023.03.6 in c:\\users\\ktahi\\anaconda3\\lib\\site-packages (from jsonschema>=3.0->sphobjinv>=2.3.1->quartodoc<0.8.0,>=0.7.2->skimpy) (2023.7.1)\n",
      "Requirement already satisfied: referencing>=0.28.4 in c:\\users\\ktahi\\anaconda3\\lib\\site-packages (from jsonschema>=3.0->sphobjinv>=2.3.1->quartodoc<0.8.0,>=0.7.2->skimpy) (0.30.2)\n",
      "Requirement already satisfied: rpds-py>=0.7.1 in c:\\users\\ktahi\\anaconda3\\lib\\site-packages (from jsonschema>=3.0->sphobjinv>=2.3.1->quartodoc<0.8.0,>=0.7.2->skimpy) (0.10.6)\n",
      "Requirement already satisfied: wcwidth in c:\\users\\ktahi\\anaconda3\\lib\\site-packages (from prompt-toolkit<3.1.0,>=3.0.41->ipython>=7.23.1->ipykernel<7.0.0,>=6.7.0->skimpy) (0.2.5)\n",
      "Requirement already satisfied: executing in c:\\users\\ktahi\\anaconda3\\lib\\site-packages (from stack-data->ipython>=7.23.1->ipykernel<7.0.0,>=6.7.0->skimpy) (0.8.3)\n",
      "Requirement already satisfied: asttokens in c:\\users\\ktahi\\anaconda3\\lib\\site-packages (from stack-data->ipython>=7.23.1->ipykernel<7.0.0,>=6.7.0->skimpy) (2.0.5)\n",
      "Requirement already satisfied: pure-eval in c:\\users\\ktahi\\anaconda3\\lib\\site-packages (from stack-data->ipython>=7.23.1->ipykernel<7.0.0,>=6.7.0->skimpy) (0.2.2)\n"
     ]
    },
    {
     "name": "stdout",
     "output_type": "stream",
     "text": [
      "Requirement already satisfied: termcolor in c:\\users\\ktahi\\anaconda3\\lib\\site-packages (2.4.0)\n"
     ]
    }
   ],
   "source": [
    "from skimpy import clean_columns\n",
    "import pandas as pd\n",
    "import numpy as np\n",
    "import re\n",
    "\n",
    "import missingno as msno\n",
    "#!pip install zipfile\n",
    " #from zipfile import ZipFile\n",
    "\n",
    " #with ZipFile(\"as24_cars.zip\", \"r\") as file:\n",
    " #  file.extractall()\n",
    "\n",
    "!pip install skimpy\n",
    "!pip install termcolor\n",
    "\n",
    "#import colorama from colorama \n",
    "#import Fore, Style  # makes strings colored\n",
    "\n",
    "from termcolor import colored\n",
    "from termcolor import cprint\n",
    "import matplotlib.pyplot as plt\n",
    "import seaborn as sns\n",
    "\n",
    "import warnings\n",
    "warnings.filterwarnings(\"ignore\")\n",
    "warnings.warn(\"this will not show\")\n",
    "\n",
    "plt.rcParams[\"figure.figsize\"] = (8, 5)\n",
    "\n",
    "sns.set_style(\"whitegrid\")\n",
    "pd.set_option('display.float_format', lambda x: '%.3f' % x)\n",
    "\n",
    "# # Set it None to display all rows in the dataframe\n",
    "# # pd.set_option('display.max_rows', None)\n",
    "\n",
    "# # Set it to None to display all columns in the dataframe\n",
    "# pd.set_option('display.max_columns', None)"
   ]
  },
  {
   "cell_type": "code",
   "execution_count": 2,
   "metadata": {
    "ExecuteTime": {
     "end_time": "2024-02-25T18:51:18.022528Z",
     "start_time": "2024-02-25T18:51:18.007359Z"
    }
   },
   "outputs": [
    {
     "name": "stdout",
     "output_type": "stream",
     "text": [
      "skimpy version: unknown\n",
      "pandas version: 2.1.4\n",
      "numpy version: 1.26.4\n",
      "matplotlib version: 3.8.0\n",
      "seaborn version: 0.13.2\n"
     ]
    }
   ],
   "source": [
    "libraries = ['skimpy', 'pandas', 'numpy', 'matplotlib', 'seaborn']\n",
    "\n",
    "for lib in libraries:\n",
    "    module = __import__(lib)\n",
    "    version = getattr(module, '__version__', 'unknown')\n",
    "    print(f\"{lib} version: {version}\")"
   ]
  },
  {
   "cell_type": "markdown",
   "metadata": {},
   "source": [
    "<a id=\"3\"></a>\n",
    "# <p style=\"background-color:darkblue; font-family:newtimeroman;color:#FFF9ED; font-size:150%; text-align:center; border-radius: 15px 50px;\">  Reading & Understanding Data </p>\n",
    "\n",
    "<a href=\"#toc\" class=\"btn btn-warning btn-lg active\" role=\"button\" aria-pressed=\"true\" style=\"color:black;\">Content</a>"
   ]
  },
  {
   "cell_type": "code",
   "execution_count": 3,
   "metadata": {
    "ExecuteTime": {
     "end_time": "2024-02-25T18:51:23.839025Z",
     "start_time": "2024-02-25T18:51:18.027690Z"
    },
    "id": "Y13_gId7s1MC",
    "run_control": {
     "marked": true
    }
   },
   "outputs": [
    {
     "data": {
      "text/html": [
       "<div>\n",
       "<style scoped>\n",
       "    .dataframe tbody tr th:only-of-type {\n",
       "        vertical-align: middle;\n",
       "    }\n",
       "\n",
       "    .dataframe tbody tr th {\n",
       "        vertical-align: top;\n",
       "    }\n",
       "\n",
       "    .dataframe thead th {\n",
       "        text-align: right;\n",
       "    }\n",
       "</style>\n",
       "<table border=\"1\" class=\"dataframe\">\n",
       "  <thead>\n",
       "    <tr style=\"text-align: right;\">\n",
       "      <th></th>\n",
       "      <th>make_model</th>\n",
       "      <th>short_description</th>\n",
       "      <th>make</th>\n",
       "      <th>model</th>\n",
       "      <th>location</th>\n",
       "      <th>price</th>\n",
       "      <th>Body type</th>\n",
       "      <th>Type</th>\n",
       "      <th>Doors</th>\n",
       "      <th>Country version</th>\n",
       "      <th>...</th>\n",
       "      <th>CO₂-efficiency</th>\n",
       "      <th>Fuel consumption (WLTP)</th>\n",
       "      <th>CO₂-emissions (WLTP)</th>\n",
       "      <th>Available from</th>\n",
       "      <th>Taxi or rental car</th>\n",
       "      <th>Availability</th>\n",
       "      <th>Last timing belt change</th>\n",
       "      <th>Electric Range (WLTP)</th>\n",
       "      <th>Power consumption (WLTP)</th>\n",
       "      <th>Battery Ownership</th>\n",
       "    </tr>\n",
       "  </thead>\n",
       "  <tbody>\n",
       "    <tr>\n",
       "      <th>0</th>\n",
       "      <td>Mercedes-Benz A 160</td>\n",
       "      <td>CDi</td>\n",
       "      <td>\\nMercedes-Benz\\n</td>\n",
       "      <td>[\\n, A 160 ,\\n]</td>\n",
       "      <td>P.I. EL PALMAR C/FORJA 6,  11500 PUERTO DE SAN...</td>\n",
       "      <td>€ 16,950.-</td>\n",
       "      <td>[\\n, Compact, \\n]</td>\n",
       "      <td>[\\n, Used, \\n]</td>\n",
       "      <td>[\\n, 5, \\n]</td>\n",
       "      <td>[\\n, Spain, \\n]</td>\n",
       "      <td>...</td>\n",
       "      <td>NaN</td>\n",
       "      <td>NaN</td>\n",
       "      <td>NaN</td>\n",
       "      <td>NaN</td>\n",
       "      <td>NaN</td>\n",
       "      <td>NaN</td>\n",
       "      <td>NaN</td>\n",
       "      <td>NaN</td>\n",
       "      <td>NaN</td>\n",
       "      <td>NaN</td>\n",
       "    </tr>\n",
       "    <tr>\n",
       "      <th>1</th>\n",
       "      <td>Mercedes-Benz EQE 350</td>\n",
       "      <td>350+</td>\n",
       "      <td>\\nMercedes-Benz\\n</td>\n",
       "      <td>[\\n, EQE 350 ,\\n]</td>\n",
       "      <td>APARTADO DE CORREOS 1032,  26140 LOGROÑO, ES</td>\n",
       "      <td>€ 80,900.-</td>\n",
       "      <td>[\\n, Compact, \\n]</td>\n",
       "      <td>[\\n, Pre-registered, \\n]</td>\n",
       "      <td>[\\n, 4, \\n]</td>\n",
       "      <td>[\\n, Spain, \\n]</td>\n",
       "      <td>...</td>\n",
       "      <td>NaN</td>\n",
       "      <td>NaN</td>\n",
       "      <td>NaN</td>\n",
       "      <td>NaN</td>\n",
       "      <td>NaN</td>\n",
       "      <td>NaN</td>\n",
       "      <td>NaN</td>\n",
       "      <td>NaN</td>\n",
       "      <td>NaN</td>\n",
       "      <td>NaN</td>\n",
       "    </tr>\n",
       "    <tr>\n",
       "      <th>2</th>\n",
       "      <td>Mercedes-Benz A 45 AMG</td>\n",
       "      <td>S 4Matic+ 8G-DCT</td>\n",
       "      <td>\\nMercedes-Benz\\n</td>\n",
       "      <td>[\\n, A 45 AMG ,\\n]</td>\n",
       "      <td>PORT. TARRACO, MOLL DE LLEVANT, Nº 5, LOC. 6-8...</td>\n",
       "      <td>€ 69,900.-</td>\n",
       "      <td>[\\n, Compact, \\n]</td>\n",
       "      <td>[\\n, Used, \\n]</td>\n",
       "      <td>[\\n, 5, \\n]</td>\n",
       "      <td>[\\n, Spain, \\n]</td>\n",
       "      <td>...</td>\n",
       "      <td>NaN</td>\n",
       "      <td>NaN</td>\n",
       "      <td>NaN</td>\n",
       "      <td>NaN</td>\n",
       "      <td>NaN</td>\n",
       "      <td>NaN</td>\n",
       "      <td>NaN</td>\n",
       "      <td>NaN</td>\n",
       "      <td>NaN</td>\n",
       "      <td>NaN</td>\n",
       "    </tr>\n",
       "    <tr>\n",
       "      <th>3</th>\n",
       "      <td>Mercedes-Benz A 35 AMG</td>\n",
       "      <td>4Matic+ 7G-DCT</td>\n",
       "      <td>\\nMercedes-Benz\\n</td>\n",
       "      <td>[\\n, A 35 AMG ,\\n]</td>\n",
       "      <td>Carrer de Provença, 31 Local,  8029 BARCELONA, ES</td>\n",
       "      <td>€ 46,990.-</td>\n",
       "      <td>[\\n, Compact, \\n]</td>\n",
       "      <td>[\\n, Used, \\n]</td>\n",
       "      <td>[\\n, 5, \\n]</td>\n",
       "      <td>[\\n, Spain, \\n]</td>\n",
       "      <td>...</td>\n",
       "      <td>NaN</td>\n",
       "      <td>NaN</td>\n",
       "      <td>NaN</td>\n",
       "      <td>NaN</td>\n",
       "      <td>NaN</td>\n",
       "      <td>NaN</td>\n",
       "      <td>NaN</td>\n",
       "      <td>NaN</td>\n",
       "      <td>NaN</td>\n",
       "      <td>NaN</td>\n",
       "    </tr>\n",
       "    <tr>\n",
       "      <th>4</th>\n",
       "      <td>Mercedes-Benz A 45 AMG</td>\n",
       "      <td>200CDI BE Line 4M 7G-DCT</td>\n",
       "      <td>\\nMercedes-Benz\\n</td>\n",
       "      <td>[\\n, A 45 AMG ,\\n]</td>\n",
       "      <td>CARRIL ARAGONES 4,  30007 CASILLAS, ES</td>\n",
       "      <td>€ 16,800.-</td>\n",
       "      <td>[\\n, Compact, \\n]</td>\n",
       "      <td>[\\n, Used, \\n]</td>\n",
       "      <td>[\\n, 5, \\n]</td>\n",
       "      <td>[\\n, Spain, \\n]</td>\n",
       "      <td>...</td>\n",
       "      <td>NaN</td>\n",
       "      <td>NaN</td>\n",
       "      <td>NaN</td>\n",
       "      <td>NaN</td>\n",
       "      <td>NaN</td>\n",
       "      <td>NaN</td>\n",
       "      <td>NaN</td>\n",
       "      <td>NaN</td>\n",
       "      <td>NaN</td>\n",
       "      <td>NaN</td>\n",
       "    </tr>\n",
       "    <tr>\n",
       "      <th>...</th>\n",
       "      <td>...</td>\n",
       "      <td>...</td>\n",
       "      <td>...</td>\n",
       "      <td>...</td>\n",
       "      <td>...</td>\n",
       "      <td>...</td>\n",
       "      <td>...</td>\n",
       "      <td>...</td>\n",
       "      <td>...</td>\n",
       "      <td>...</td>\n",
       "      <td>...</td>\n",
       "      <td>...</td>\n",
       "      <td>...</td>\n",
       "      <td>...</td>\n",
       "      <td>...</td>\n",
       "      <td>...</td>\n",
       "      <td>...</td>\n",
       "      <td>...</td>\n",
       "      <td>...</td>\n",
       "      <td>...</td>\n",
       "      <td>...</td>\n",
       "    </tr>\n",
       "    <tr>\n",
       "      <th>29475</th>\n",
       "      <td>Volvo S40</td>\n",
       "      <td>2.4i Momentum/ Airco/ NAP/ APK/ Elek. Ramen</td>\n",
       "      <td>\\nVolvo\\n</td>\n",
       "      <td>[\\n, S40 ,\\n]</td>\n",
       "      <td>Stobbeweg 6,  2461 EX TER AAR, NL</td>\n",
       "      <td>€ 5,499.-</td>\n",
       "      <td>[\\n, Sedan, \\n]</td>\n",
       "      <td>[\\n, Used, \\n]</td>\n",
       "      <td>[\\n, 4, \\n]</td>\n",
       "      <td>NaN</td>\n",
       "      <td>...</td>\n",
       "      <td>NaN</td>\n",
       "      <td>NaN</td>\n",
       "      <td>NaN</td>\n",
       "      <td>NaN</td>\n",
       "      <td>NaN</td>\n",
       "      <td>NaN</td>\n",
       "      <td>NaN</td>\n",
       "      <td>NaN</td>\n",
       "      <td>NaN</td>\n",
       "      <td>NaN</td>\n",
       "    </tr>\n",
       "    <tr>\n",
       "      <th>29476</th>\n",
       "      <td>Volvo C30</td>\n",
       "      <td>1.6 D DRIVe Start/Stop R-design</td>\n",
       "      <td>\\nVolvo\\n</td>\n",
       "      <td>[\\n, C30 ,\\n]</td>\n",
       "      <td>Sur rendez-vous,  5060 Sambreville, BE</td>\n",
       "      <td>€ 7,300.-</td>\n",
       "      <td>[\\n, Sedan, \\n]</td>\n",
       "      <td>[\\n, Used, \\n]</td>\n",
       "      <td>[\\n, 3, \\n]</td>\n",
       "      <td>[\\n, Belgium, \\n]</td>\n",
       "      <td>...</td>\n",
       "      <td>NaN</td>\n",
       "      <td>NaN</td>\n",
       "      <td>NaN</td>\n",
       "      <td>NaN</td>\n",
       "      <td>NaN</td>\n",
       "      <td>NaN</td>\n",
       "      <td>NaN</td>\n",
       "      <td>NaN</td>\n",
       "      <td>NaN</td>\n",
       "      <td>NaN</td>\n",
       "    </tr>\n",
       "    <tr>\n",
       "      <th>29477</th>\n",
       "      <td>Volvo S90</td>\n",
       "      <td>T5 AUT(8) MOMENTUM BUSINESS SCHUIFDAK 360GR CA...</td>\n",
       "      <td>\\nVolvo\\n</td>\n",
       "      <td>[\\n, S90 ,\\n]</td>\n",
       "      <td>Bergambachterstraat 5,  2871 JB SCHOONHOVEN, NL</td>\n",
       "      <td>€ 29,900.-</td>\n",
       "      <td>[\\n, Sedan, \\n]</td>\n",
       "      <td>[\\n, Used, \\n]</td>\n",
       "      <td>[\\n, 4, \\n]</td>\n",
       "      <td>NaN</td>\n",
       "      <td>...</td>\n",
       "      <td>NaN</td>\n",
       "      <td>NaN</td>\n",
       "      <td>NaN</td>\n",
       "      <td>NaN</td>\n",
       "      <td>NaN</td>\n",
       "      <td>NaN</td>\n",
       "      <td>NaN</td>\n",
       "      <td>NaN</td>\n",
       "      <td>NaN</td>\n",
       "      <td>NaN</td>\n",
       "    </tr>\n",
       "    <tr>\n",
       "      <th>29478</th>\n",
       "      <td>Volvo S80</td>\n",
       "      <td>2.9 Executive G. NETTE AUTO! LEER! NAVI! CRUIS...</td>\n",
       "      <td>\\nVolvo\\n</td>\n",
       "      <td>[\\n, S80 ,\\n]</td>\n",
       "      <td>Lage Ham 106,  5102 AE DONGEN, NL</td>\n",
       "      <td>€ 4,440.-</td>\n",
       "      <td>[\\n, Sedan, \\n]</td>\n",
       "      <td>[\\n, Used, \\n]</td>\n",
       "      <td>[\\n, 4, \\n]</td>\n",
       "      <td>NaN</td>\n",
       "      <td>...</td>\n",
       "      <td>NaN</td>\n",
       "      <td>NaN</td>\n",
       "      <td>NaN</td>\n",
       "      <td>NaN</td>\n",
       "      <td>NaN</td>\n",
       "      <td>NaN</td>\n",
       "      <td>NaN</td>\n",
       "      <td>NaN</td>\n",
       "      <td>NaN</td>\n",
       "      <td>NaN</td>\n",
       "    </tr>\n",
       "    <tr>\n",
       "      <th>29479</th>\n",
       "      <td>NaN</td>\n",
       "      <td>NaN</td>\n",
       "      <td>NaN</td>\n",
       "      <td>NaN</td>\n",
       "      <td>NaN</td>\n",
       "      <td>NaN</td>\n",
       "      <td>NaN</td>\n",
       "      <td>NaN</td>\n",
       "      <td>NaN</td>\n",
       "      <td>NaN</td>\n",
       "      <td>...</td>\n",
       "      <td>NaN</td>\n",
       "      <td>NaN</td>\n",
       "      <td>NaN</td>\n",
       "      <td>NaN</td>\n",
       "      <td>NaN</td>\n",
       "      <td>NaN</td>\n",
       "      <td>NaN</td>\n",
       "      <td>NaN</td>\n",
       "      <td>NaN</td>\n",
       "      <td>NaN</td>\n",
       "    </tr>\n",
       "  </tbody>\n",
       "</table>\n",
       "<p>29480 rows × 58 columns</p>\n",
       "</div>"
      ],
      "text/plain": [
       "                   make_model  \\\n",
       "0         Mercedes-Benz A 160   \n",
       "1       Mercedes-Benz EQE 350   \n",
       "2      Mercedes-Benz A 45 AMG   \n",
       "3      Mercedes-Benz A 35 AMG   \n",
       "4      Mercedes-Benz A 45 AMG   \n",
       "...                       ...   \n",
       "29475               Volvo S40   \n",
       "29476               Volvo C30   \n",
       "29477               Volvo S90   \n",
       "29478               Volvo S80   \n",
       "29479                     NaN   \n",
       "\n",
       "                                       short_description               make  \\\n",
       "0                                                    CDi  \\nMercedes-Benz\\n   \n",
       "1                                                   350+  \\nMercedes-Benz\\n   \n",
       "2                                       S 4Matic+ 8G-DCT  \\nMercedes-Benz\\n   \n",
       "3                                         4Matic+ 7G-DCT  \\nMercedes-Benz\\n   \n",
       "4                               200CDI BE Line 4M 7G-DCT  \\nMercedes-Benz\\n   \n",
       "...                                                  ...                ...   \n",
       "29475        2.4i Momentum/ Airco/ NAP/ APK/ Elek. Ramen          \\nVolvo\\n   \n",
       "29476                    1.6 D DRIVe Start/Stop R-design          \\nVolvo\\n   \n",
       "29477  T5 AUT(8) MOMENTUM BUSINESS SCHUIFDAK 360GR CA...          \\nVolvo\\n   \n",
       "29478  2.9 Executive G. NETTE AUTO! LEER! NAVI! CRUIS...          \\nVolvo\\n   \n",
       "29479                                                NaN                NaN   \n",
       "\n",
       "                    model                                           location  \\\n",
       "0         [\\n, A 160 ,\\n]  P.I. EL PALMAR C/FORJA 6,  11500 PUERTO DE SAN...   \n",
       "1       [\\n, EQE 350 ,\\n]       APARTADO DE CORREOS 1032,  26140 LOGROÑO, ES   \n",
       "2      [\\n, A 45 AMG ,\\n]  PORT. TARRACO, MOLL DE LLEVANT, Nº 5, LOC. 6-8...   \n",
       "3      [\\n, A 35 AMG ,\\n]  Carrer de Provença, 31 Local,  8029 BARCELONA, ES   \n",
       "4      [\\n, A 45 AMG ,\\n]             CARRIL ARAGONES 4,  30007 CASILLAS, ES   \n",
       "...                   ...                                                ...   \n",
       "29475       [\\n, S40 ,\\n]                  Stobbeweg 6,  2461 EX TER AAR, NL   \n",
       "29476       [\\n, C30 ,\\n]             Sur rendez-vous,  5060 Sambreville, BE   \n",
       "29477       [\\n, S90 ,\\n]    Bergambachterstraat 5,  2871 JB SCHOONHOVEN, NL   \n",
       "29478       [\\n, S80 ,\\n]                  Lage Ham 106,  5102 AE DONGEN, NL   \n",
       "29479                 NaN                                                NaN   \n",
       "\n",
       "            price          Body type                      Type        Doors  \\\n",
       "0      € 16,950.-  [\\n, Compact, \\n]            [\\n, Used, \\n]  [\\n, 5, \\n]   \n",
       "1      € 80,900.-  [\\n, Compact, \\n]  [\\n, Pre-registered, \\n]  [\\n, 4, \\n]   \n",
       "2      € 69,900.-  [\\n, Compact, \\n]            [\\n, Used, \\n]  [\\n, 5, \\n]   \n",
       "3      € 46,990.-  [\\n, Compact, \\n]            [\\n, Used, \\n]  [\\n, 5, \\n]   \n",
       "4      € 16,800.-  [\\n, Compact, \\n]            [\\n, Used, \\n]  [\\n, 5, \\n]   \n",
       "...           ...                ...                       ...          ...   \n",
       "29475   € 5,499.-    [\\n, Sedan, \\n]            [\\n, Used, \\n]  [\\n, 4, \\n]   \n",
       "29476   € 7,300.-    [\\n, Sedan, \\n]            [\\n, Used, \\n]  [\\n, 3, \\n]   \n",
       "29477  € 29,900.-    [\\n, Sedan, \\n]            [\\n, Used, \\n]  [\\n, 4, \\n]   \n",
       "29478   € 4,440.-    [\\n, Sedan, \\n]            [\\n, Used, \\n]  [\\n, 4, \\n]   \n",
       "29479         NaN                NaN                       NaN          NaN   \n",
       "\n",
       "         Country version  ... CO₂-efficiency Fuel consumption (WLTP)  \\\n",
       "0        [\\n, Spain, \\n]  ...            NaN                     NaN   \n",
       "1        [\\n, Spain, \\n]  ...            NaN                     NaN   \n",
       "2        [\\n, Spain, \\n]  ...            NaN                     NaN   \n",
       "3        [\\n, Spain, \\n]  ...            NaN                     NaN   \n",
       "4        [\\n, Spain, \\n]  ...            NaN                     NaN   \n",
       "...                  ...  ...            ...                     ...   \n",
       "29475                NaN  ...            NaN                     NaN   \n",
       "29476  [\\n, Belgium, \\n]  ...            NaN                     NaN   \n",
       "29477                NaN  ...            NaN                     NaN   \n",
       "29478                NaN  ...            NaN                     NaN   \n",
       "29479                NaN  ...            NaN                     NaN   \n",
       "\n",
       "      CO₂-emissions (WLTP) Available from Taxi or rental car Availability  \\\n",
       "0                      NaN            NaN                NaN          NaN   \n",
       "1                      NaN            NaN                NaN          NaN   \n",
       "2                      NaN            NaN                NaN          NaN   \n",
       "3                      NaN            NaN                NaN          NaN   \n",
       "4                      NaN            NaN                NaN          NaN   \n",
       "...                    ...            ...                ...          ...   \n",
       "29475                  NaN            NaN                NaN          NaN   \n",
       "29476                  NaN            NaN                NaN          NaN   \n",
       "29477                  NaN            NaN                NaN          NaN   \n",
       "29478                  NaN            NaN                NaN          NaN   \n",
       "29479                  NaN            NaN                NaN          NaN   \n",
       "\n",
       "      Last timing belt change Electric Range (WLTP) Power consumption (WLTP)  \\\n",
       "0                         NaN                   NaN                      NaN   \n",
       "1                         NaN                   NaN                      NaN   \n",
       "2                         NaN                   NaN                      NaN   \n",
       "3                         NaN                   NaN                      NaN   \n",
       "4                         NaN                   NaN                      NaN   \n",
       "...                       ...                   ...                      ...   \n",
       "29475                     NaN                   NaN                      NaN   \n",
       "29476                     NaN                   NaN                      NaN   \n",
       "29477                     NaN                   NaN                      NaN   \n",
       "29478                     NaN                   NaN                      NaN   \n",
       "29479                     NaN                   NaN                      NaN   \n",
       "\n",
       "      Battery Ownership  \n",
       "0                   NaN  \n",
       "1                   NaN  \n",
       "2                   NaN  \n",
       "3                   NaN  \n",
       "4                   NaN  \n",
       "...                 ...  \n",
       "29475               NaN  \n",
       "29476               NaN  \n",
       "29477               NaN  \n",
       "29478               NaN  \n",
       "29479               NaN  \n",
       "\n",
       "[29480 rows x 58 columns]"
      ]
     },
     "execution_count": 3,
     "metadata": {},
     "output_type": "execute_result"
    }
   ],
   "source": [
    "df0 = pd.read_json(\"as24_cars.json\")\n",
    "df = df0.copy()\n",
    "df"
   ]
  },
  {
   "cell_type": "markdown",
   "metadata": {},
   "source": [
    "# Let's understand the data"
   ]
  },
  {
   "cell_type": "code",
   "execution_count": 4,
   "metadata": {
    "ExecuteTime": {
     "end_time": "2024-02-25T18:51:24.048710Z",
     "start_time": "2024-02-25T18:51:23.842605Z"
    },
    "scrolled": false
   },
   "outputs": [],
   "source": [
    "df = clean_columns(df)\n",
    "# I updated the column names of the dataframe."
   ]
  },
  {
   "cell_type": "code",
   "execution_count": 5,
   "metadata": {
    "ExecuteTime": {
     "end_time": "2024-02-25T18:51:24.066550Z",
     "start_time": "2024-02-25T18:51:24.052944Z"
    },
    "run_control": {
     "marked": true
    }
   },
   "outputs": [
    {
     "data": {
      "text/plain": [
       "Index(['make_model', 'short_description', 'make', 'model', 'location', 'price',\n",
       "       'body_type', 'type', 'doors', 'country_version', 'offer_number',\n",
       "       'warranty', 'mileage', 'first_registration', 'gearbox', 'fuel_type',\n",
       "       'colour', 'paint', 'desc', 'seller', 'seats', 'power', 'engine_size',\n",
       "       'gears', 'co_emissions', 'manufacturer_colour', 'drivetrain',\n",
       "       'cylinders', 'fuel_consumption', 'comfort_&_convenience',\n",
       "       'entertainment_&_media', 'safety_&_security', 'extras', 'empty_weight',\n",
       "       'model_code', 'general_inspection', 'last_service',\n",
       "       'full_service_history', 'non_smoker_vehicle', 'emission_class',\n",
       "       'emissions_sticker', 'upholstery_colour', 'upholstery',\n",
       "       'production_date', 'previous_owner', 'other_fuel_types',\n",
       "       'power_consumption', 'energy_efficiency_class', 'co_efficiency',\n",
       "       'fuel_consumption_wltp', 'co_emissions_wltp', 'available_from',\n",
       "       'taxi_or_rental_car', 'availability', 'last_timing_belt_change',\n",
       "       'electric_range_wltp', 'power_consumption_wltp', 'battery_ownership'],\n",
       "      dtype='object')"
      ]
     },
     "execution_count": 5,
     "metadata": {},
     "output_type": "execute_result"
    }
   ],
   "source": [
    "df.columns"
   ]
  },
  {
   "cell_type": "markdown",
   "metadata": {},
   "source": [
    "\n"
   ]
  },
  {
   "cell_type": "code",
   "execution_count": 6,
   "metadata": {
    "ExecuteTime": {
     "end_time": "2024-02-25T18:51:24.112297Z",
     "start_time": "2024-02-25T18:51:24.071398Z"
    }
   },
   "outputs": [
    {
     "data": {
      "text/html": [
       "<div>\n",
       "<style scoped>\n",
       "    .dataframe tbody tr th:only-of-type {\n",
       "        vertical-align: middle;\n",
       "    }\n",
       "\n",
       "    .dataframe tbody tr th {\n",
       "        vertical-align: top;\n",
       "    }\n",
       "\n",
       "    .dataframe thead th {\n",
       "        text-align: right;\n",
       "    }\n",
       "</style>\n",
       "<table border=\"1\" class=\"dataframe\">\n",
       "  <thead>\n",
       "    <tr style=\"text-align: right;\">\n",
       "      <th></th>\n",
       "      <th>make_model</th>\n",
       "      <th>short_description</th>\n",
       "      <th>make</th>\n",
       "      <th>model</th>\n",
       "      <th>location</th>\n",
       "      <th>price</th>\n",
       "      <th>body_type</th>\n",
       "      <th>type</th>\n",
       "      <th>doors</th>\n",
       "      <th>country_version</th>\n",
       "      <th>...</th>\n",
       "      <th>co_efficiency</th>\n",
       "      <th>fuel_consumption_wltp</th>\n",
       "      <th>co_emissions_wltp</th>\n",
       "      <th>available_from</th>\n",
       "      <th>taxi_or_rental_car</th>\n",
       "      <th>availability</th>\n",
       "      <th>last_timing_belt_change</th>\n",
       "      <th>electric_range_wltp</th>\n",
       "      <th>power_consumption_wltp</th>\n",
       "      <th>battery_ownership</th>\n",
       "    </tr>\n",
       "  </thead>\n",
       "  <tbody>\n",
       "    <tr>\n",
       "      <th>0</th>\n",
       "      <td>Mercedes-Benz A 160</td>\n",
       "      <td>CDi</td>\n",
       "      <td>\\nMercedes-Benz\\n</td>\n",
       "      <td>[\\n, A 160 ,\\n]</td>\n",
       "      <td>P.I. EL PALMAR C/FORJA 6,  11500 PUERTO DE SAN...</td>\n",
       "      <td>€ 16,950.-</td>\n",
       "      <td>[\\n, Compact, \\n]</td>\n",
       "      <td>[\\n, Used, \\n]</td>\n",
       "      <td>[\\n, 5, \\n]</td>\n",
       "      <td>[\\n, Spain, \\n]</td>\n",
       "      <td>...</td>\n",
       "      <td>NaN</td>\n",
       "      <td>NaN</td>\n",
       "      <td>NaN</td>\n",
       "      <td>NaN</td>\n",
       "      <td>NaN</td>\n",
       "      <td>NaN</td>\n",
       "      <td>NaN</td>\n",
       "      <td>NaN</td>\n",
       "      <td>NaN</td>\n",
       "      <td>NaN</td>\n",
       "    </tr>\n",
       "    <tr>\n",
       "      <th>1</th>\n",
       "      <td>Mercedes-Benz EQE 350</td>\n",
       "      <td>350+</td>\n",
       "      <td>\\nMercedes-Benz\\n</td>\n",
       "      <td>[\\n, EQE 350 ,\\n]</td>\n",
       "      <td>APARTADO DE CORREOS 1032,  26140 LOGROÑO, ES</td>\n",
       "      <td>€ 80,900.-</td>\n",
       "      <td>[\\n, Compact, \\n]</td>\n",
       "      <td>[\\n, Pre-registered, \\n]</td>\n",
       "      <td>[\\n, 4, \\n]</td>\n",
       "      <td>[\\n, Spain, \\n]</td>\n",
       "      <td>...</td>\n",
       "      <td>NaN</td>\n",
       "      <td>NaN</td>\n",
       "      <td>NaN</td>\n",
       "      <td>NaN</td>\n",
       "      <td>NaN</td>\n",
       "      <td>NaN</td>\n",
       "      <td>NaN</td>\n",
       "      <td>NaN</td>\n",
       "      <td>NaN</td>\n",
       "      <td>NaN</td>\n",
       "    </tr>\n",
       "    <tr>\n",
       "      <th>2</th>\n",
       "      <td>Mercedes-Benz A 45 AMG</td>\n",
       "      <td>S 4Matic+ 8G-DCT</td>\n",
       "      <td>\\nMercedes-Benz\\n</td>\n",
       "      <td>[\\n, A 45 AMG ,\\n]</td>\n",
       "      <td>PORT. TARRACO, MOLL DE LLEVANT, Nº 5, LOC. 6-8...</td>\n",
       "      <td>€ 69,900.-</td>\n",
       "      <td>[\\n, Compact, \\n]</td>\n",
       "      <td>[\\n, Used, \\n]</td>\n",
       "      <td>[\\n, 5, \\n]</td>\n",
       "      <td>[\\n, Spain, \\n]</td>\n",
       "      <td>...</td>\n",
       "      <td>NaN</td>\n",
       "      <td>NaN</td>\n",
       "      <td>NaN</td>\n",
       "      <td>NaN</td>\n",
       "      <td>NaN</td>\n",
       "      <td>NaN</td>\n",
       "      <td>NaN</td>\n",
       "      <td>NaN</td>\n",
       "      <td>NaN</td>\n",
       "      <td>NaN</td>\n",
       "    </tr>\n",
       "    <tr>\n",
       "      <th>3</th>\n",
       "      <td>Mercedes-Benz A 35 AMG</td>\n",
       "      <td>4Matic+ 7G-DCT</td>\n",
       "      <td>\\nMercedes-Benz\\n</td>\n",
       "      <td>[\\n, A 35 AMG ,\\n]</td>\n",
       "      <td>Carrer de Provença, 31 Local,  8029 BARCELONA, ES</td>\n",
       "      <td>€ 46,990.-</td>\n",
       "      <td>[\\n, Compact, \\n]</td>\n",
       "      <td>[\\n, Used, \\n]</td>\n",
       "      <td>[\\n, 5, \\n]</td>\n",
       "      <td>[\\n, Spain, \\n]</td>\n",
       "      <td>...</td>\n",
       "      <td>NaN</td>\n",
       "      <td>NaN</td>\n",
       "      <td>NaN</td>\n",
       "      <td>NaN</td>\n",
       "      <td>NaN</td>\n",
       "      <td>NaN</td>\n",
       "      <td>NaN</td>\n",
       "      <td>NaN</td>\n",
       "      <td>NaN</td>\n",
       "      <td>NaN</td>\n",
       "    </tr>\n",
       "    <tr>\n",
       "      <th>4</th>\n",
       "      <td>Mercedes-Benz A 45 AMG</td>\n",
       "      <td>200CDI BE Line 4M 7G-DCT</td>\n",
       "      <td>\\nMercedes-Benz\\n</td>\n",
       "      <td>[\\n, A 45 AMG ,\\n]</td>\n",
       "      <td>CARRIL ARAGONES 4,  30007 CASILLAS, ES</td>\n",
       "      <td>€ 16,800.-</td>\n",
       "      <td>[\\n, Compact, \\n]</td>\n",
       "      <td>[\\n, Used, \\n]</td>\n",
       "      <td>[\\n, 5, \\n]</td>\n",
       "      <td>[\\n, Spain, \\n]</td>\n",
       "      <td>...</td>\n",
       "      <td>NaN</td>\n",
       "      <td>NaN</td>\n",
       "      <td>NaN</td>\n",
       "      <td>NaN</td>\n",
       "      <td>NaN</td>\n",
       "      <td>NaN</td>\n",
       "      <td>NaN</td>\n",
       "      <td>NaN</td>\n",
       "      <td>NaN</td>\n",
       "      <td>NaN</td>\n",
       "    </tr>\n",
       "  </tbody>\n",
       "</table>\n",
       "<p>5 rows × 58 columns</p>\n",
       "</div>"
      ],
      "text/plain": [
       "               make_model         short_description               make  \\\n",
       "0     Mercedes-Benz A 160                       CDi  \\nMercedes-Benz\\n   \n",
       "1   Mercedes-Benz EQE 350                      350+  \\nMercedes-Benz\\n   \n",
       "2  Mercedes-Benz A 45 AMG          S 4Matic+ 8G-DCT  \\nMercedes-Benz\\n   \n",
       "3  Mercedes-Benz A 35 AMG            4Matic+ 7G-DCT  \\nMercedes-Benz\\n   \n",
       "4  Mercedes-Benz A 45 AMG  200CDI BE Line 4M 7G-DCT  \\nMercedes-Benz\\n   \n",
       "\n",
       "                model                                           location  \\\n",
       "0     [\\n, A 160 ,\\n]  P.I. EL PALMAR C/FORJA 6,  11500 PUERTO DE SAN...   \n",
       "1   [\\n, EQE 350 ,\\n]       APARTADO DE CORREOS 1032,  26140 LOGROÑO, ES   \n",
       "2  [\\n, A 45 AMG ,\\n]  PORT. TARRACO, MOLL DE LLEVANT, Nº 5, LOC. 6-8...   \n",
       "3  [\\n, A 35 AMG ,\\n]  Carrer de Provença, 31 Local,  8029 BARCELONA, ES   \n",
       "4  [\\n, A 45 AMG ,\\n]             CARRIL ARAGONES 4,  30007 CASILLAS, ES   \n",
       "\n",
       "        price          body_type                      type        doors  \\\n",
       "0  € 16,950.-  [\\n, Compact, \\n]            [\\n, Used, \\n]  [\\n, 5, \\n]   \n",
       "1  € 80,900.-  [\\n, Compact, \\n]  [\\n, Pre-registered, \\n]  [\\n, 4, \\n]   \n",
       "2  € 69,900.-  [\\n, Compact, \\n]            [\\n, Used, \\n]  [\\n, 5, \\n]   \n",
       "3  € 46,990.-  [\\n, Compact, \\n]            [\\n, Used, \\n]  [\\n, 5, \\n]   \n",
       "4  € 16,800.-  [\\n, Compact, \\n]            [\\n, Used, \\n]  [\\n, 5, \\n]   \n",
       "\n",
       "   country_version  ... co_efficiency fuel_consumption_wltp co_emissions_wltp  \\\n",
       "0  [\\n, Spain, \\n]  ...           NaN                   NaN               NaN   \n",
       "1  [\\n, Spain, \\n]  ...           NaN                   NaN               NaN   \n",
       "2  [\\n, Spain, \\n]  ...           NaN                   NaN               NaN   \n",
       "3  [\\n, Spain, \\n]  ...           NaN                   NaN               NaN   \n",
       "4  [\\n, Spain, \\n]  ...           NaN                   NaN               NaN   \n",
       "\n",
       "  available_from taxi_or_rental_car availability last_timing_belt_change  \\\n",
       "0            NaN                NaN          NaN                     NaN   \n",
       "1            NaN                NaN          NaN                     NaN   \n",
       "2            NaN                NaN          NaN                     NaN   \n",
       "3            NaN                NaN          NaN                     NaN   \n",
       "4            NaN                NaN          NaN                     NaN   \n",
       "\n",
       "  electric_range_wltp power_consumption_wltp battery_ownership  \n",
       "0                 NaN                    NaN               NaN  \n",
       "1                 NaN                    NaN               NaN  \n",
       "2                 NaN                    NaN               NaN  \n",
       "3                 NaN                    NaN               NaN  \n",
       "4                 NaN                    NaN               NaN  \n",
       "\n",
       "[5 rows x 58 columns]"
      ]
     },
     "execution_count": 6,
     "metadata": {},
     "output_type": "execute_result"
    }
   ],
   "source": [
    "df.head()"
   ]
  },
  {
   "cell_type": "markdown",
   "metadata": {},
   "source": [
    "<a href=\"#toc\" class=\"btn btn-warning btn-lg active\" role=\"button\" aria-pressed=\"true\" style=\"color:black;\">Content</a>"
   ]
  },
  {
   "cell_type": "code",
   "execution_count": 7,
   "metadata": {
    "ExecuteTime": {
     "end_time": "2024-02-25T18:51:24.638336Z",
     "start_time": "2024-02-25T18:51:24.114715Z"
    }
   },
   "outputs": [
    {
     "name": "stdout",
     "output_type": "stream",
     "text": [
      "<class 'pandas.core.frame.DataFrame'>\n",
      "RangeIndex: 29480 entries, 0 to 29479\n",
      "Data columns (total 58 columns):\n",
      " #   Column                   Non-Null Count  Dtype  \n",
      "---  ------                   --------------  -----  \n",
      " 0   make_model               28630 non-null  object \n",
      " 1   short_description        28630 non-null  object \n",
      " 2   make                     28630 non-null  object \n",
      " 3   model                    28630 non-null  object \n",
      " 4   location                 28630 non-null  object \n",
      " 5   price                    28630 non-null  object \n",
      " 6   body_type                28630 non-null  object \n",
      " 7   type                     28630 non-null  object \n",
      " 8   doors                    28271 non-null  object \n",
      " 9   country_version          16889 non-null  object \n",
      " 10  offer_number             23100 non-null  object \n",
      " 11  warranty                 15784 non-null  object \n",
      " 12  mileage                  28629 non-null  object \n",
      " 13  first_registration       28628 non-null  object \n",
      " 14  gearbox                  28382 non-null  object \n",
      " 15  fuel_type                26843 non-null  object \n",
      " 16  colour                   26906 non-null  object \n",
      " 17  paint                    14495 non-null  object \n",
      " 18  desc                     28047 non-null  object \n",
      " 19  seller                   28630 non-null  object \n",
      " 20  seats                    25505 non-null  object \n",
      " 21  power                    28058 non-null  object \n",
      " 22  engine_size              27227 non-null  object \n",
      " 23  gears                    18954 non-null  object \n",
      " 24  co_emissions             18594 non-null  object \n",
      " 25  manufacturer_colour      21787 non-null  object \n",
      " 26  drivetrain               16893 non-null  object \n",
      " 27  cylinders                18852 non-null  object \n",
      " 28  fuel_consumption         23385 non-null  object \n",
      " 29  comfort_&_convenience    25433 non-null  object \n",
      " 30  entertainment_&_media    23644 non-null  object \n",
      " 31  safety_&_security        25415 non-null  object \n",
      " 32  extras                   23480 non-null  object \n",
      " 33  empty_weight             17758 non-null  object \n",
      " 34  model_code               8367 non-null   object \n",
      " 35  general_inspection       12254 non-null  object \n",
      " 36  last_service             2003 non-null   object \n",
      " 37  full_service_history     12565 non-null  object \n",
      " 38  non_smoker_vehicle       11594 non-null  object \n",
      " 39  emission_class           17859 non-null  object \n",
      " 40  emissions_sticker        9414 non-null   object \n",
      " 41  upholstery_colour        14569 non-null  object \n",
      " 42  upholstery               18610 non-null  object \n",
      " 43  production_date          5908 non-null   float64\n",
      " 44  previous_owner           14015 non-null  object \n",
      " 45  other_fuel_types         2313 non-null   object \n",
      " 46  power_consumption        515 non-null    object \n",
      " 47  energy_efficiency_class  7804 non-null   object \n",
      " 48  co_efficiency            7804 non-null   object \n",
      " 49  fuel_consumption_wltp    100 non-null    object \n",
      " 50  co_emissions_wltp        116 non-null    object \n",
      " 51  available_from           393 non-null    object \n",
      " 52  taxi_or_rental_car       422 non-null    object \n",
      " 53  availability             301 non-null    object \n",
      " 54  last_timing_belt_change  572 non-null    object \n",
      " 55  electric_range_wltp      16 non-null     object \n",
      " 56  power_consumption_wltp   16 non-null     object \n",
      " 57  battery_ownership        7 non-null      object \n",
      "dtypes: float64(1), object(57)\n",
      "memory usage: 13.0+ MB\n"
     ]
    }
   ],
   "source": [
    "df.info()"
   ]
  },
  {
   "cell_type": "code",
   "execution_count": 8,
   "metadata": {
    "ExecuteTime": {
     "end_time": "2024-02-25T18:51:24.654544Z",
     "start_time": "2024-02-25T18:51:24.644412Z"
    }
   },
   "outputs": [
    {
     "data": {
      "text/plain": [
       "(29480, 58)"
      ]
     },
     "execution_count": 8,
     "metadata": {},
     "output_type": "execute_result"
    }
   ],
   "source": [
    "df.shape"
   ]
  },
  {
   "cell_type": "code",
   "execution_count": 9,
   "metadata": {
    "ExecuteTime": {
     "end_time": "2024-02-25T18:51:24.697044Z",
     "start_time": "2024-02-25T18:51:24.660209Z"
    }
   },
   "outputs": [
    {
     "data": {
      "text/html": [
       "<div>\n",
       "<style scoped>\n",
       "    .dataframe tbody tr th:only-of-type {\n",
       "        vertical-align: middle;\n",
       "    }\n",
       "\n",
       "    .dataframe tbody tr th {\n",
       "        vertical-align: top;\n",
       "    }\n",
       "\n",
       "    .dataframe thead th {\n",
       "        text-align: right;\n",
       "    }\n",
       "</style>\n",
       "<table border=\"1\" class=\"dataframe\">\n",
       "  <thead>\n",
       "    <tr style=\"text-align: right;\">\n",
       "      <th></th>\n",
       "      <th>6715</th>\n",
       "    </tr>\n",
       "  </thead>\n",
       "  <tbody>\n",
       "    <tr>\n",
       "      <th>make_model</th>\n",
       "      <td>Renault Clio</td>\n",
       "    </tr>\n",
       "    <tr>\n",
       "      <th>short_description</th>\n",
       "      <td>Estate 0.9 TCe Zen / Trekhaak / Airco / Cruise...</td>\n",
       "    </tr>\n",
       "    <tr>\n",
       "      <th>make</th>\n",
       "      <td>\\nRenault\\n</td>\n",
       "    </tr>\n",
       "    <tr>\n",
       "      <th>model</th>\n",
       "      <td>[\\n, Clio ,\\n]</td>\n",
       "    </tr>\n",
       "    <tr>\n",
       "      <th>location</th>\n",
       "      <td>Sluiswachter 26,  3861 SN NIJKERK, NL</td>\n",
       "    </tr>\n",
       "    <tr>\n",
       "      <th>price</th>\n",
       "      <td>€ 11,950.-</td>\n",
       "    </tr>\n",
       "    <tr>\n",
       "      <th>body_type</th>\n",
       "      <td>[\\n, Station wagon, \\n]</td>\n",
       "    </tr>\n",
       "    <tr>\n",
       "      <th>type</th>\n",
       "      <td>[\\n, Used, \\n]</td>\n",
       "    </tr>\n",
       "    <tr>\n",
       "      <th>doors</th>\n",
       "      <td>[\\n, 5, \\n]</td>\n",
       "    </tr>\n",
       "    <tr>\n",
       "      <th>country_version</th>\n",
       "      <td>NaN</td>\n",
       "    </tr>\n",
       "    <tr>\n",
       "      <th>offer_number</th>\n",
       "      <td>[\\n, TT-518-N, \\n]</td>\n",
       "    </tr>\n",
       "    <tr>\n",
       "      <th>warranty</th>\n",
       "      <td>[\\n, 12 months, \\n]</td>\n",
       "    </tr>\n",
       "    <tr>\n",
       "      <th>mileage</th>\n",
       "      <td>92,923 km</td>\n",
       "    </tr>\n",
       "    <tr>\n",
       "      <th>first_registration</th>\n",
       "      <td>10/2018</td>\n",
       "    </tr>\n",
       "    <tr>\n",
       "      <th>gearbox</th>\n",
       "      <td>[\\nManual\\n]</td>\n",
       "    </tr>\n",
       "    <tr>\n",
       "      <th>fuel_type</th>\n",
       "      <td>Super 95</td>\n",
       "    </tr>\n",
       "    <tr>\n",
       "      <th>colour</th>\n",
       "      <td>Grey</td>\n",
       "    </tr>\n",
       "    <tr>\n",
       "      <th>paint</th>\n",
       "      <td>NaN</td>\n",
       "    </tr>\n",
       "    <tr>\n",
       "      <th>desc</th>\n",
       "      <td>[Dit is een auto die is ontworpen voor uw comf...</td>\n",
       "    </tr>\n",
       "    <tr>\n",
       "      <th>seller</th>\n",
       "      <td>Dealer</td>\n",
       "    </tr>\n",
       "    <tr>\n",
       "      <th>seats</th>\n",
       "      <td>[\\n, 5, \\n]</td>\n",
       "    </tr>\n",
       "    <tr>\n",
       "      <th>power</th>\n",
       "      <td>[\\n66 kW (90 hp)\\n]</td>\n",
       "    </tr>\n",
       "    <tr>\n",
       "      <th>engine_size</th>\n",
       "      <td>[\\n898 cc\\n]</td>\n",
       "    </tr>\n",
       "    <tr>\n",
       "      <th>gears</th>\n",
       "      <td>[\\n5\\n]</td>\n",
       "    </tr>\n",
       "    <tr>\n",
       "      <th>co_emissions</th>\n",
       "      <td>104 g/km (comb.)</td>\n",
       "    </tr>\n",
       "    <tr>\n",
       "      <th>manufacturer_colour</th>\n",
       "      <td>Grijs</td>\n",
       "    </tr>\n",
       "    <tr>\n",
       "      <th>drivetrain</th>\n",
       "      <td>[\\n, Front, \\n]</td>\n",
       "    </tr>\n",
       "    <tr>\n",
       "      <th>cylinders</th>\n",
       "      <td>[\\n3\\n]</td>\n",
       "    </tr>\n",
       "    <tr>\n",
       "      <th>fuel_consumption</th>\n",
       "      <td>[[4.6 l/100 km (comb.)], [5.7 l/100 km (city)]...</td>\n",
       "    </tr>\n",
       "    <tr>\n",
       "      <th>comfort_&amp;_convenience</th>\n",
       "      <td>[Air conditioning, Cruise control, Electrical ...</td>\n",
       "    </tr>\n",
       "    <tr>\n",
       "      <th>entertainment_&amp;_media</th>\n",
       "      <td>[Bluetooth, Digital radio, Hands-free equipmen...</td>\n",
       "    </tr>\n",
       "    <tr>\n",
       "      <th>safety_&amp;_security</th>\n",
       "      <td>[ABS, Alarm system, Central door lock, Central...</td>\n",
       "    </tr>\n",
       "    <tr>\n",
       "      <th>extras</th>\n",
       "      <td>[Roof rack, Spoiler, Trailer hitch]</td>\n",
       "    </tr>\n",
       "    <tr>\n",
       "      <th>empty_weight</th>\n",
       "      <td>[\\n1,063 kg\\n]</td>\n",
       "    </tr>\n",
       "    <tr>\n",
       "      <th>model_code</th>\n",
       "      <td>NaN</td>\n",
       "    </tr>\n",
       "    <tr>\n",
       "      <th>general_inspection</th>\n",
       "      <td>New</td>\n",
       "    </tr>\n",
       "    <tr>\n",
       "      <th>last_service</th>\n",
       "      <td>NaN</td>\n",
       "    </tr>\n",
       "    <tr>\n",
       "      <th>full_service_history</th>\n",
       "      <td>Yes</td>\n",
       "    </tr>\n",
       "    <tr>\n",
       "      <th>non_smoker_vehicle</th>\n",
       "      <td>NaN</td>\n",
       "    </tr>\n",
       "    <tr>\n",
       "      <th>emission_class</th>\n",
       "      <td>Euro 6</td>\n",
       "    </tr>\n",
       "    <tr>\n",
       "      <th>emissions_sticker</th>\n",
       "      <td>NaN</td>\n",
       "    </tr>\n",
       "    <tr>\n",
       "      <th>upholstery_colour</th>\n",
       "      <td>Black</td>\n",
       "    </tr>\n",
       "    <tr>\n",
       "      <th>upholstery</th>\n",
       "      <td>Cloth</td>\n",
       "    </tr>\n",
       "    <tr>\n",
       "      <th>production_date</th>\n",
       "      <td>NaN</td>\n",
       "    </tr>\n",
       "    <tr>\n",
       "      <th>previous_owner</th>\n",
       "      <td>[[92,923 km, 10/2018], 1]</td>\n",
       "    </tr>\n",
       "    <tr>\n",
       "      <th>other_fuel_types</th>\n",
       "      <td>NaN</td>\n",
       "    </tr>\n",
       "    <tr>\n",
       "      <th>power_consumption</th>\n",
       "      <td>NaN</td>\n",
       "    </tr>\n",
       "    <tr>\n",
       "      <th>energy_efficiency_class</th>\n",
       "      <td>NaN</td>\n",
       "    </tr>\n",
       "    <tr>\n",
       "      <th>co_efficiency</th>\n",
       "      <td>NaN</td>\n",
       "    </tr>\n",
       "    <tr>\n",
       "      <th>fuel_consumption_wltp</th>\n",
       "      <td>NaN</td>\n",
       "    </tr>\n",
       "    <tr>\n",
       "      <th>co_emissions_wltp</th>\n",
       "      <td>NaN</td>\n",
       "    </tr>\n",
       "    <tr>\n",
       "      <th>available_from</th>\n",
       "      <td>NaN</td>\n",
       "    </tr>\n",
       "    <tr>\n",
       "      <th>taxi_or_rental_car</th>\n",
       "      <td>NaN</td>\n",
       "    </tr>\n",
       "    <tr>\n",
       "      <th>availability</th>\n",
       "      <td>NaN</td>\n",
       "    </tr>\n",
       "    <tr>\n",
       "      <th>last_timing_belt_change</th>\n",
       "      <td>NaN</td>\n",
       "    </tr>\n",
       "    <tr>\n",
       "      <th>electric_range_wltp</th>\n",
       "      <td>NaN</td>\n",
       "    </tr>\n",
       "    <tr>\n",
       "      <th>power_consumption_wltp</th>\n",
       "      <td>NaN</td>\n",
       "    </tr>\n",
       "    <tr>\n",
       "      <th>battery_ownership</th>\n",
       "      <td>NaN</td>\n",
       "    </tr>\n",
       "  </tbody>\n",
       "</table>\n",
       "</div>"
      ],
      "text/plain": [
       "                                                                      6715\n",
       "make_model                                                    Renault Clio\n",
       "short_description        Estate 0.9 TCe Zen / Trekhaak / Airco / Cruise...\n",
       "make                                                           \\nRenault\\n\n",
       "model                                                       [\\n, Clio ,\\n]\n",
       "location                             Sluiswachter 26,  3861 SN NIJKERK, NL\n",
       "price                                                           € 11,950.-\n",
       "body_type                                          [\\n, Station wagon, \\n]\n",
       "type                                                        [\\n, Used, \\n]\n",
       "doors                                                          [\\n, 5, \\n]\n",
       "country_version                                                        NaN\n",
       "offer_number                                            [\\n, TT-518-N, \\n]\n",
       "warranty                                               [\\n, 12 months, \\n]\n",
       "mileage                                                          92,923 km\n",
       "first_registration                                                 10/2018\n",
       "gearbox                                                       [\\nManual\\n]\n",
       "fuel_type                                                         Super 95\n",
       "colour                                                                Grey\n",
       "paint                                                                  NaN\n",
       "desc                     [Dit is een auto die is ontworpen voor uw comf...\n",
       "seller                                                              Dealer\n",
       "seats                                                          [\\n, 5, \\n]\n",
       "power                                                  [\\n66 kW (90 hp)\\n]\n",
       "engine_size                                                   [\\n898 cc\\n]\n",
       "gears                                                              [\\n5\\n]\n",
       "co_emissions                                              104 g/km (comb.)\n",
       "manufacturer_colour                                                  Grijs\n",
       "drivetrain                                                 [\\n, Front, \\n]\n",
       "cylinders                                                          [\\n3\\n]\n",
       "fuel_consumption         [[4.6 l/100 km (comb.)], [5.7 l/100 km (city)]...\n",
       "comfort_&_convenience    [Air conditioning, Cruise control, Electrical ...\n",
       "entertainment_&_media    [Bluetooth, Digital radio, Hands-free equipmen...\n",
       "safety_&_security        [ABS, Alarm system, Central door lock, Central...\n",
       "extras                                 [Roof rack, Spoiler, Trailer hitch]\n",
       "empty_weight                                                [\\n1,063 kg\\n]\n",
       "model_code                                                             NaN\n",
       "general_inspection                                                     New\n",
       "last_service                                                           NaN\n",
       "full_service_history                                                   Yes\n",
       "non_smoker_vehicle                                                     NaN\n",
       "emission_class                                                      Euro 6\n",
       "emissions_sticker                                                      NaN\n",
       "upholstery_colour                                                    Black\n",
       "upholstery                                                           Cloth\n",
       "production_date                                                        NaN\n",
       "previous_owner                                   [[92,923 km, 10/2018], 1]\n",
       "other_fuel_types                                                       NaN\n",
       "power_consumption                                                      NaN\n",
       "energy_efficiency_class                                                NaN\n",
       "co_efficiency                                                          NaN\n",
       "fuel_consumption_wltp                                                  NaN\n",
       "co_emissions_wltp                                                      NaN\n",
       "available_from                                                         NaN\n",
       "taxi_or_rental_car                                                     NaN\n",
       "availability                                                           NaN\n",
       "last_timing_belt_change                                                NaN\n",
       "electric_range_wltp                                                    NaN\n",
       "power_consumption_wltp                                                 NaN\n",
       "battery_ownership                                                      NaN"
      ]
     },
     "execution_count": 9,
     "metadata": {},
     "output_type": "execute_result"
    }
   ],
   "source": [
    "df.sample().T"
   ]
  },
  {
   "cell_type": "markdown",
   "metadata": {},
   "source": [
    "<a href=\"#toc\" class=\"btn btn-warning btn-lg active\" role=\"button\" aria-pressed=\"true\" style=\"color:black;\">Content</a>"
   ]
  },
  {
   "cell_type": "code",
   "execution_count": 10,
   "metadata": {
    "ExecuteTime": {
     "end_time": "2024-02-25T18:51:25.408206Z",
     "start_time": "2024-02-25T18:51:24.699575Z"
    }
   },
   "outputs": [
    {
     "name": "stdout",
     "output_type": "stream",
     "text": [
      "Unhashable columns:\n",
      "model\n",
      "body_type\n",
      "type\n",
      "doors\n",
      "country_version\n",
      "offer_number\n",
      "warranty\n",
      "gearbox\n",
      "desc\n",
      "seats\n",
      "power\n",
      "engine_size\n",
      "gears\n",
      "drivetrain\n",
      "cylinders\n",
      "fuel_consumption\n",
      "comfort_&_convenience\n",
      "entertainment_&_media\n",
      "safety_&_security\n",
      "extras\n",
      "empty_weight\n",
      "model_code\n",
      "previous_owner\n",
      "available_from\n",
      "availability\n"
     ]
    }
   ],
   "source": [
    "def find_unhashable_columns(df):\n",
    "    unhashable_columns = []\n",
    "    for column in df.columns:\n",
    "        for value in df[column].dropna().values:\n",
    "            try:\n",
    "                hash(value)\n",
    "            except TypeError:\n",
    "                unhashable_columns.append(column)\n",
    "                break  \n",
    "    if unhashable_columns:\n",
    "        print(\"Unhashable columns:\")\n",
    "        for col in unhashable_columns:\n",
    "            print(col)\n",
    "    else:\n",
    "        print(\"All columns are hashable.\")\n",
    "\n",
    "find_unhashable_columns(df)"
   ]
  },
  {
   "cell_type": "code",
   "execution_count": 11,
   "metadata": {
    "ExecuteTime": {
     "end_time": "2024-02-25T18:51:30.807430Z",
     "start_time": "2024-02-25T18:51:25.410220Z"
    },
    "scrolled": true
   },
   "outputs": [
    {
     "name": "stdout",
     "output_type": "stream",
     "text": [
      "\u001b[1m\u001b[91mColumn:\u001b[0m \u001b[1m\u001b[94mmake_model\u001b[0m\n",
      "\u001b[1m\u001b[92mNumber of Unique Values:\u001b[93m 612\n",
      "\u001b[95mFirst 10 Unique Values:\u001b[0m ['Mercedes-Benz A 160' 'Mercedes-Benz EQE 350' 'Mercedes-Benz A 45 AMG'\n",
      " 'Mercedes-Benz A 35 AMG' 'Mercedes-Benz C 160' 'Mercedes-Benz CLA 180'\n",
      " 'Mercedes-Benz A 220' 'Mercedes-Benz A 200' 'Mercedes-Benz A 250'\n",
      " 'Mercedes-Benz A 180']\n",
      "... and 602 more unique values\n",
      "\n",
      "\u001b[1mThe number of NaN values:\u001b[0m 850\n",
      "\u001b[1mPercentage of NaN values:\u001b[0m 2.88%\n",
      "\n",
      "\u001b[1m\u001b[91mColumn:\u001b[0m \u001b[1m\u001b[94mshort_description\u001b[0m\n",
      "\u001b[1m\u001b[92mNumber of Unique Values:\u001b[93m 20948\n",
      "\u001b[95mFirst 10 Unique Values:\u001b[0m ['CDi' '350+' 'S 4Matic+ 8G-DCT' '4Matic+ 7G-DCT'\n",
      " '200CDI BE Line 4M 7G-DCT'\n",
      " 'Sp. Ed. C-Klasse Sportcoupe!TÜV N.!24 Mon. Gew.' '180D' '7G-DCT'\n",
      " '4MATIC' '200CDI Autotronic']\n",
      "... and 20938 more unique values\n",
      "\n",
      "\u001b[1mThe number of NaN values:\u001b[0m 850\n",
      "\u001b[1mPercentage of NaN values:\u001b[0m 2.88%\n",
      "\n",
      "\u001b[1m\u001b[91mColumn:\u001b[0m \u001b[1m\u001b[94mmake\u001b[0m\n",
      "\u001b[1m\u001b[92mNumber of Unique Values:\u001b[93m 14\n",
      "\u001b[95mFirst 10 Unique Values:\u001b[0m ['\\nMercedes-Benz\\n' nan '\\nOpel\\n' '\\nRenault\\n' '\\nPeugeot\\n' '\\nFiat\\n'\n",
      " '\\nSEAT\\n' '\\nSkoda\\n' '\\nDacia\\n' '\\nToyota\\n']\n",
      "... and 4 more unique values\n",
      "\n",
      "\u001b[1mThe number of NaN values:\u001b[0m 850\n",
      "\u001b[1mPercentage of NaN values:\u001b[0m 2.88%\n",
      "\n",
      "\u001b[1m\u001b[91mColumn:\u001b[0m \u001b[1m\u001b[94mmodel\u001b[0m\n",
      "\u001b[1m\u001b[92mNumber of Unique Values:\u001b[93m 595\n",
      "\u001b[95mFirst 10 Unique Values:\u001b[0m [\"['\\\\n, A 160 ,\\\\n']\" \"['\\\\n, EQE 350 ,\\\\n']\" \"['\\\\n, A 45 AMG ,\\\\n']\"\n",
      " \"['\\\\n, A 35 AMG ,\\\\n']\" \"['\\\\n, C 160 ,\\\\n']\" \"['\\\\n, CLA 180 ,\\\\n']\"\n",
      " \"['\\\\n, A 220 ,\\\\n']\" \"['\\\\n, A 200 ,\\\\n']\" \"['\\\\n, A 250 ,\\\\n']\"\n",
      " \"['\\\\n, A 180 ,\\\\n']\"]\n",
      "... and 585 more unique values\n",
      "\n",
      "\u001b[1mThe number of NaN values:\u001b[0m 850\n",
      "\u001b[1mPercentage of NaN values:\u001b[0m 2.88%\n",
      "\n",
      "\u001b[1m\u001b[91mColumn:\u001b[0m \u001b[1m\u001b[94mlocation\u001b[0m\n",
      "\u001b[1m\u001b[92mNumber of Unique Values:\u001b[93m 8182\n",
      "\u001b[95mFirst 10 Unique Values:\u001b[0m ['P.I. EL PALMAR C/FORJA 6,  11500 PUERTO DE SANTA MARIA, ES'\n",
      " 'APARTADO DE CORREOS 1032,  26140 LOGROÑO, ES'\n",
      " 'PORT. TARRACO, MOLL DE LLEVANT, Nº 5, LOC. 6-8,  43004 TARRAGONA, ES'\n",
      " 'Carrer de Provença, 31 Local,  8029 BARCELONA, ES'\n",
      " 'CARRIL ARAGONES 4,  30007 CASILLAS, ES'\n",
      " 'Beethovenstr. 89,  42655 Solingen, DE'\n",
      " 'CR PATERNA-LA CAÑADA, KM. 2,  46980 PATERNA, ES'\n",
      " 'CTRA DE MADRID KM 315,7,  50012 ZARAGOZA, ES'\n",
      " 'Voogdijstraat 25,  3500 Hasselt, BE'\n",
      " 'AUTOVÍA AS-2, Nº 1529,  33392 GIJON, ES']\n",
      "... and 8172 more unique values\n",
      "\n",
      "\u001b[1mThe number of NaN values:\u001b[0m 850\n",
      "\u001b[1mPercentage of NaN values:\u001b[0m 2.88%\n",
      "\n",
      "\u001b[1m\u001b[91mColumn:\u001b[0m \u001b[1m\u001b[94mprice\u001b[0m\n",
      "\u001b[1m\u001b[92mNumber of Unique Values:\u001b[93m 5022\n",
      "\u001b[95mFirst 10 Unique Values:\u001b[0m ['€ 16,950.-' '€ 80,900.-' '€ 69,900.-' '€ 46,990.-' '€ 16,800.-'\n",
      " '€ 4,690.-' '€ 22,550.-' '€ 26,900.-' '€ 44,999.-' '€ 23,900.-']\n",
      "... and 5012 more unique values\n",
      "\n",
      "\u001b[1mThe number of NaN values:\u001b[0m 850\n",
      "\u001b[1mPercentage of NaN values:\u001b[0m 2.88%\n",
      "\n",
      "\u001b[1m\u001b[91mColumn:\u001b[0m \u001b[1m\u001b[94mbody_type\u001b[0m\n",
      "\u001b[1m\u001b[92mNumber of Unique Values:\u001b[93m 7\n",
      "\u001b[1mUnique Values:\u001b[0m [\"['\\\\n, Compact, \\\\n']\" \"['\\\\n, Convertible, \\\\n']\" \"['\\\\n, Coupe, \\\\n']\"\n",
      " \"['\\\\n, Off-Road/Pick-up, \\\\n']\" \"['\\\\n, Station wagon, \\\\n']\" 'nan'\n",
      " \"['\\\\n, Sedan, \\\\n']\"]\n",
      "\n",
      "\u001b[1mThe number of NaN values:\u001b[0m 850\n",
      "\u001b[1mPercentage of NaN values:\u001b[0m 2.88%\n",
      "\n",
      "\u001b[1m\u001b[91mColumn:\u001b[0m \u001b[1m\u001b[94mtype\u001b[0m\n",
      "\u001b[1m\u001b[92mNumber of Unique Values:\u001b[93m 5\n",
      "\u001b[1mUnique Values:\u001b[0m [\"['\\\\n, Used, \\\\n']\" \"['\\\\n, Pre-registered, \\\\n']\"\n",
      " \"['\\\\n, Demonstration, \\\\n']\" '[\"\\\\n, Employee\\'s car, \\\\n\"]' 'nan']\n",
      "\n",
      "\u001b[1mThe number of NaN values:\u001b[0m 850\n",
      "\u001b[1mPercentage of NaN values:\u001b[0m 2.88%\n",
      "\n",
      "\u001b[1m\u001b[91mColumn:\u001b[0m \u001b[1m\u001b[94mdoors\u001b[0m\n",
      "\u001b[1m\u001b[92mNumber of Unique Values:\u001b[93m 7\n",
      "\u001b[1mUnique Values:\u001b[0m [\"['\\\\n, 5, \\\\n']\" \"['\\\\n, 4, \\\\n']\" \"['\\\\n, 3, \\\\n']\" \"['\\\\n, 2, \\\\n']\"\n",
      " 'nan' \"['\\\\n, 1, \\\\n']\" \"['\\\\n, 6, \\\\n']\"]\n",
      "\n",
      "\u001b[1mThe number of NaN values:\u001b[0m 1209\n",
      "\u001b[1mPercentage of NaN values:\u001b[0m 4.10%\n",
      "\n",
      "\u001b[1m\u001b[91mColumn:\u001b[0m \u001b[1m\u001b[94mcountry_version\u001b[0m\n",
      "\u001b[1m\u001b[92mNumber of Unique Values:\u001b[93m 26\n",
      "\u001b[95mFirst 10 Unique Values:\u001b[0m [\"['\\\\n, Spain, \\\\n']\" \"['\\\\n, Germany, \\\\n']\" 'nan'\n",
      " \"['\\\\n, Belgium, \\\\n']\" \"['\\\\n, Austria, \\\\n']\" \"['\\\\n, France, \\\\n']\"\n",
      " \"['\\\\n, Netherlands, \\\\n']\" \"['\\\\n, Italy, \\\\n']\"\n",
      " \"['\\\\n, European Union, \\\\n']\" \"['\\\\n, Luxembourg, \\\\n']\"]\n",
      "... and 16 more unique values\n",
      "\n",
      "\u001b[1mThe number of NaN values:\u001b[0m 12591\n",
      "\u001b[1mPercentage of NaN values:\u001b[0m 42.71%\n",
      "\n",
      "\u001b[1m\u001b[91mColumn:\u001b[0m \u001b[1m\u001b[94moffer_number\u001b[0m\n",
      "\u001b[1m\u001b[92mNumber of Unique Values:\u001b[93m 20946\n",
      "\u001b[95mFirst 10 Unique Values:\u001b[0m [\"['\\\\n, 7468157, \\\\n']\" \"['\\\\n, 7054863, \\\\n']\" \"['\\\\n, 7410454, \\\\n']\"\n",
      " \"['\\\\n, 7464503, \\\\n']\" \"['\\\\n, 7127931, \\\\n']\" 'nan'\n",
      " \"['\\\\n, 7201260, \\\\n']\" \"['\\\\n, 7329555, \\\\n']\" \"['\\\\n, j107114, \\\\n']\"\n",
      " \"['\\\\n, 7454322, \\\\n']\"]\n",
      "... and 20936 more unique values\n",
      "\n",
      "\u001b[1mThe number of NaN values:\u001b[0m 6380\n",
      "\u001b[1mPercentage of NaN values:\u001b[0m 21.64%\n",
      "\n",
      "\u001b[1m\u001b[91mColumn:\u001b[0m \u001b[1m\u001b[94mwarranty\u001b[0m\n",
      "\u001b[1m\u001b[92mNumber of Unique Values:\u001b[93m 66\n",
      "\u001b[95mFirst 10 Unique Values:\u001b[0m [\"['\\\\n, 24 months, \\\\n']\" \"['\\\\n, 12 months, \\\\n']\" 'nan'\n",
      " \"['\\\\n, Yes, \\\\n']\" \"['\\\\n, 48 months, \\\\n']\" \"['\\\\n, 6 months, \\\\n']\"\n",
      " \"['\\\\n, 3 months, \\\\n']\" \"['\\\\n, 8 months, \\\\n']\"\n",
      " \"['\\\\n, 36 months, \\\\n']\" \"['\\\\n, 122 months, \\\\n']\"]\n",
      "... and 56 more unique values\n",
      "\n",
      "\u001b[1mThe number of NaN values:\u001b[0m 13696\n",
      "\u001b[1mPercentage of NaN values:\u001b[0m 46.46%\n",
      "\n",
      "\u001b[1m\u001b[91mColumn:\u001b[0m \u001b[1m\u001b[94mmileage\u001b[0m\n",
      "\u001b[1m\u001b[92mNumber of Unique Values:\u001b[93m 14184\n",
      "\u001b[95mFirst 10 Unique Values:\u001b[0m ['120,200 km' '5,000 km' '18,900 km' '18,995 km' '197,000 km' '165,000 km'\n",
      " '83,339 km' '48,900 km' '56,876 km' '21,854 km']\n",
      "... and 14174 more unique values\n",
      "\n",
      "\u001b[1mThe number of NaN values:\u001b[0m 851\n",
      "\u001b[1mPercentage of NaN values:\u001b[0m 2.89%\n",
      "\n",
      "\u001b[1m\u001b[91mColumn:\u001b[0m \u001b[1m\u001b[94mfirst_registration\u001b[0m\n",
      "\u001b[1m\u001b[92mNumber of Unique Values:\u001b[93m 656\n",
      "\u001b[95mFirst 10 Unique Values:\u001b[0m ['06/2016' '06/2022' '07/2020' '01/2020' '09/2015' '08/2005' '07/2018'\n",
      " '10/2019' '06/2019' '08/2018']\n",
      "... and 646 more unique values\n",
      "\n",
      "\u001b[1mThe number of NaN values:\u001b[0m 852\n",
      "\u001b[1mPercentage of NaN values:\u001b[0m 2.89%\n",
      "\n",
      "\u001b[1m\u001b[91mColumn:\u001b[0m \u001b[1m\u001b[94mgearbox\u001b[0m\n",
      "\u001b[1m\u001b[92mNumber of Unique Values:\u001b[93m 4\n",
      "\u001b[1mUnique Values:\u001b[0m [\"['\\\\nManual\\\\n']\" \"['\\\\nAutomatic\\\\n']\" 'nan' \"['\\\\nSemi-automatic\\\\n']\"]\n",
      "\n",
      "\u001b[1mThe number of NaN values:\u001b[0m 1098\n",
      "\u001b[1mPercentage of NaN values:\u001b[0m 3.72%\n",
      "\n",
      "\u001b[1m\u001b[91mColumn:\u001b[0m \u001b[1m\u001b[94mfuel_type\u001b[0m\n",
      "\u001b[1m\u001b[92mNumber of Unique Values:\u001b[93m 47\n",
      "\u001b[95mFirst 10 Unique Values:\u001b[0m ['Diesel' 'Electric' 'Gasoline' 'Regular/Benzine 91' nan\n",
      " 'Regular/Benzine 91 (Particle filter)' 'Super 95' 'Super E10 95' 'LPG'\n",
      " 'Diesel (Particle filter)']\n",
      "... and 37 more unique values\n",
      "\n",
      "\u001b[1mThe number of NaN values:\u001b[0m 2637\n",
      "\u001b[1mPercentage of NaN values:\u001b[0m 8.95%\n",
      "\n",
      "\u001b[1m\u001b[91mColumn:\u001b[0m \u001b[1m\u001b[94mcolour\u001b[0m\n",
      "\u001b[1m\u001b[92mNumber of Unique Values:\u001b[93m 15\n",
      "\u001b[95mFirst 10 Unique Values:\u001b[0m ['Black' nan 'Grey' 'Yellow' 'White' 'Silver' 'Red' 'Blue' 'Green' 'Beige']\n",
      "... and 5 more unique values\n",
      "\n",
      "\u001b[1mThe number of NaN values:\u001b[0m 2574\n",
      "\u001b[1mPercentage of NaN values:\u001b[0m 8.73%\n",
      "\n",
      "\u001b[1m\u001b[91mColumn:\u001b[0m \u001b[1m\u001b[94mpaint\u001b[0m\n",
      "\u001b[1m\u001b[92mNumber of Unique Values:\u001b[93m 3\n",
      "\u001b[1mUnique Values:\u001b[0m ['Metallic' nan 'Uni/basic']\n",
      "\n",
      "\u001b[1mThe number of NaN values:\u001b[0m 14985\n",
      "\u001b[1mPercentage of NaN values:\u001b[0m 50.83%\n",
      "\n",
      "\u001b[1m\u001b[91mColumn:\u001b[0m \u001b[1m\u001b[94mdesc\u001b[0m\n",
      "\u001b[1m\u001b[92mNumber of Unique Values:\u001b[93m 23242\n",
      "\u001b[95mFirst 10 Unique Values:\u001b[0m [\"[' ', 'Precio al contado: 16950 euros', ' ', ' ', 'Vehículo con HISTORIAL de mantenimiento y un solo propietario.', ' ', 'GARANTÍA de 12 meses ampliable a 24, consúltenos.', ' ', 'EXTRAS: Pantalla frontal, navegador, cámara de marcha atrás, espejos  eléctricos, volante multifunción, llantas, sensor lluvia y luces, cierre centralizado con mando, ordenador a bordo, aire acondicionado, ISOFIX, bluetooth, bluetooth Audio, USB y más extras...', ' ', 'Kilometraje GARANTIZADO y garantía de no haber sufrido accidente.', ' ', 'Precio final de venta, incluyendo IVA y no vinculado a financiación ni entrega de otro vehículo.', ' ', 'TRANSFERENCIA incluida en el precio .', ' ', 'IVA DEDUCIBLE.', ' ', 'Posibilidad de recogida de su antiguo vehículo como parte de pago.', ' ', 'Financiamos el 100% de nuestros vehículos. (consulte condiciones)', ' ', 'Realizamos la gestión de búsqueda de tu vehículo sin ningún tipo de compromiso .', ' ', 'English Spoken!!!', '<hr>LAS ESPECIFICACIONES DEL VEHÍCULO QUE SE INDICAN REFERENTES A : MODELO, EQUIPAMIENTO Y EXTRAS, PUEDEN CONTENER ERRORES, Y POR TANTO, NO TIENEN CARÁCTER VINCULANTE CONTRACTUAL. CONSULTE EN EXPOSICIÓN.', ' ', 'Condiciones de la financiación', ' ', 'Consulte nuestras opciones de financiación sin compromiso.', 'See more']\"\n",
      " '[\\' \\', \\'Precio al contado: 88900 euros\\', \\' \\', \\'AUTO OJA S.A. - CONCESIONARIO OFICIAL MERCEDES-BENZ y SMART EN LA RIOJA\\', \\'oPintura Negro Obsidiana y tapicería símil de cuero Ártico /microfibra MICROCUT\\', \\'oAMG Line\\', \\'oPaquete de integración de Smartphone\\', \\'oPaquete de asistencia a la conducción Plus\\', \\'oPaquete deportivo exterior AMG\\', \\'oPaquete Premium\\', \\'oPaquete de aparcamiento con cámara 360º\\', \\'oPaquete de retrovisores\\', \\'oAsistente activo de cambio de carril\\', \\'oSistema de sonido surround Burmester\\', \\'oAsiste activo de distancia DISTRONIC\\', \\'oSistema de carga por corriente alterna y continua\\', \\'oVisualizador central OLED con pantalla de 12.8\"\\', \\'oAsistente de frenado activo con función de cruce\\', \\'oSistema multimedia y navegación MBUX con funciones ampliadas Premium\\', \\'oKEYLESS-GO\\', \\'oAsiento del conductor y acompañante de ajuste eléctrico con funciones de memoria \\', \\'oDetector activo de cambio de carril\\', \\'oProtección del vehículo URBAN GUARD plus\\', \\'oClimatización automática THERMOTRONIC \\', \\'oTecho corredizo panorámico eléctrico \\', \\'oAsientos deportivos calefactados para conductor y acompañante\\', \\'oDYNAMIC SELECT\\', \\'oFaros inteligentes Digital Light\\', \\'oVolante deportivo multifunción forrado en cuero\\', \\'oCristales calorífugos tintados oscuros\\', \\'oLlantas de aleación de 48.3cm (19\") y 5 radios\\', \\'SE LO ENVIAMOS GRATIS A CUALQUIER PUNTO DE LA PENÍNSULA\\', \\'Llámenos y realice su prueba de conducción\\', \\'Vehículo revisado por nuestros técnicos especialistas\\', \\'24 meses de garantía oficial \"Mercedes-Benz Certified\" válida en Servicios Oficiales Mercedes-Benz de Europa.\\', \\'El precio INCLUYE impuestos, tasas de tráfico y garantía.\\', \\'Precio financiando*: 80.900€\\', \\'Precio sin financiar: 88.900€\\', \\'*Consulta las condiciones en el concesionario\\', \\'autooja.es\\', \\' \\', \\'Condiciones de la financiación\\', \\' \\', \\'Consultar condiciones de financiación en este anuncio o contactando con el anunciante\\', \\'See more\\']'\n",
      " \"['Gris MANUFAKTUR mountaingrau magno', ' ', 'Linea/Estilo AMG', ' ', 'Paquete premium de navegación', ' ', 'AMG Drivers Package', ' ', 'Paquete de aparcamiento con cámara de marcha atrás', ' ', 'Paquete Espejo', ' ', 'Paquete nocturno', ' ', 'Paquete de confort de Asientos', ' ', 'Asientos Performance AMG', ' ', 'Paquete de luz y visión', ' ', 'Sistema de sonido envolvente Burmester', ' ', 'LED MULTIHAZ', ' ', 'Asistente adaptativo de luces altas Plus', ' ', 'Funciones ampliadas MBUX', ' ', 'Iluminación ambiental', ' ', 'Mercedes me connect', ' ', 'AMG TRACK PACE', ' ', 'Digital cockpit', ' ', 'Asientos con calefacción', ' ', 'Asistente a la estación activa con PARKTRONIC', ' ', 'Asistente de distancia activo DISTRONIC', ' ', 'Selección Dinámica', ' ', 'Asistente activo de mantenimiento de carril', ' ', 'Aviso de abandono de carril', ' ', 'Protección de peatones', ' ', 'Asistente de señales de tráfico', ' ', 'Aviso de fatiga', ' ', 'Control de presión de neumáticos', ' ', 'KEYLESS-GO', ' ', 'Climatizador automático THERMOTRONIC', ' ', 'Volante AMG', ' ', 'Pinzas pintadas de rojo', ' ', 'Cinturones de seguridad rojos', ' ', 'Vidrio tintado oscuro térmicamente aislante', ' ', 'Sensor de lluvia', ' ', 'Financiamos el coche a tu medida. Consúltanos!!', 'See more']\"\n",
      " '[\\' \\', \\'Precio al contado: 48990 euros\\', \\' \\', \\' \\', \\'BONIFICACION POR FINANCIAR : -2.000 € ( 46.990 € )\\', \\' \\', \\'OFERTA SUJETA A FINANCIACIÓN. CONSULTAR CONDICIONES\\', \\' \\', \\'Sin Financiar: 48.990\\', \\'<hr> \\', \\'GARANTIA en OFICIAL MERCEDES-BENZ.\\', \\' \\', \\'Año: 02.10.2019 -- Libro Revisiones Mercedes.\\', \\' \\', \\'Vehículo Ocasión Mercedes -- IGUAL NUEVO\\', \\' \\', \\'PRECIO NUEVO : 75.794€\\', \\'<hr> \\', \\'// DESCUENTO - MINUSVALIA - FAMILIA NUMEROSA //\\', \\' \\', \\'// IVA DEDUCIBLE PARA EMPRESAS //\\', \\' \\', \\'// PRECIO FINAL- TODOS LOS IMPUESTOS INCLUIDOS //\\', \\'<hr>\\', \\'EQUIPAMIENTO DE ESTA UNIDAD :\\', \\' \\', \\'914 Amarillo Sol\\', \\' \\', \\'651 Piel / Micro Fibra Negra\\', \\' \\', \\'L6K Volante AMG Performance \\', \\' \\', \\'RVL Llantas AMG de 19\" multirradio color negro mate\\', \\' \\', \\'365 Navegación por disco duro\\', \\' \\', \\'P47 Paquete de Aparcamiento + Cámara 360º\\', \\' \\', \\'501 Cámara 360º\\', \\' \\', \\'235 ayuda activa para aparcar con PARKTRONIC\\', \\' \\', \\'P49 Paquete de retrovisores.\\', \\' \\', \\'458 Visualizador cuadro instrumentos completamente digital\\', \\' \\', \\'859 Visualizador de medios con pantalla de 10,25 pulgadas \\', \\' \\', \\'889 KEYLESS-GO\\', \\' \\', \\'873 Asientos calefactados para conductor y acompañante\\', \\' \\', \\'810 Sistema de sonido surround Burmester®\\', \\' \\', \\'877 Iluminación de ambiente 64 colores\\', \\' \\', \\'U25 Listones de Puestas iluminados\\', \\' \\', \\'239 Asistente activo de distancia DISTRONIC\\', \\' \\', \\'246 Control Carril\\', \\' \\', \\'234 Control Ángulo Muerto\\', \\' \\', \\'U19 Realidad aumentada para navegación MBUX\\', \\' \\', \\'275 Asiento conductor  eléctrico + 3 memorias\\', \\' \\', \\'950 AMG Line\\', \\' \\', \\'287 Respaldos del asiento traseros abatibles (40/20/40)\\', \\' \\', \\'549 Sistema multimedia MBUX\\', \\' \\', \\'P60 Paquete Night AMG\\', \\' \\', \\'PBF Paquete de navegación y preequipo de conectividad\\', \\' \\', \\'628 luces de carretera automáticas Plus\\', \\' \\', \\'642 MULTIBEAM LED\\', \\' \\', \\'293 Airbags laterales en parte trasera\\', \\' \\', \\'310 Porta Vasos\\', \\' \\', \\'446 Touchpad\\', \\' \\', \\'429 Cambio deportivo de 7 velocidades AMG SPEEDSHIFT DCT\\', \\' \\', \\'431 Levas de Cambio en Volante\\', \\' \\', \\'475 Control Presión Neumáticos\\', \\' \\', \\'513 Indicador Señales Tráfico\\', \\' \\', \\'518 Conectores Media Interface\\', \\' \\', \\'840 Cristales Tintados\\', \\' \\', \\'875 Lavaparabrisas calefactado\\', \\' \\', \\'897 Sistema inalámbrico de carga para dispositivos móviles\\', \\' \\', \\'U10 Detector asiento Infantil\\', \\' \\', \\'U22 Apoyo lumbar con 4 vías de ajuste en los asientos delanteros\\', \\' \\', \\'U55 Multi Link AXE\\', \\' \\', \\'U62 Paquete de alumbrado y visibilidad\\', \\'<hr> \\', \\'Para más información consulte nuestra página web : http://autoexclusivebcn.com\\', \\' \\', \\'Si no encuentra lo que busca llámenos,\\', \\' disponemos de amplia gama en vehículos de Stock de fábrica Mercedes con entrega en 15 días.\\', \\' \\', \\'Profesionales en Alemania desde 1980 y desde 2001 con empresa ubicada en España.\\', \\' \\', \\'Extras\\', \\' \\', \\' \\', \\'Equipamiento destacado seleccionado por el usuario\\', \\' \\', \\' \\', \\'- Paquete Night Carcasas de los espejos retrovisores exteriores pintadas de negro, Cristales calorífugos tintados oscuros a partir del montante B, Faldón trasero con elemento de adorno en negro de alto brillo, Listón en la línea de cintura y en la línea de las ventanillas de color negro de alto brillo, Llantas...\\', \\'See more\\']'\n",
      " \"[' ', 'Precio al contado: 17400 euros', ' ', 'Vehículo en perfecto estado.', 'Todo el mantenimiento efectuado, (con facturas).', 'Revisado para la entrega, (aceites, filtros, frenos u demás fluidos).', 'En perfecto estado de chapa, pintura e interior.', 'Se entrega transferido (+150€) y 12 meses de garantía.', 'Aceptamos su coche como parte de pago, (siempre con la mejor tasación del mercado)', 'CON UNA FINANCIACIÓN ADAPTADA AL COMPRADOR¡¡¡¡¡¡¡¡', ' ', 'Extras', ' ', ' ', 'Equipamiento destacado seleccionado por el usuario', ' ', ' ', '- Paquete Exclusivo AMG', ' ', 'Condiciones de la financiación', ' ', 'FINANCIADO CON LAS MEJORES CONDICIONES DEL MERCADO.', 'See more']\"\n",
      " \"['Sonderausstattung:', 'Panorama-Schiebedach elektrisch (vollverglaste Dachfläche)', 'Parktronic-System PTS (vorn und hinten)', 'Serienausstattung:', 'Airbag Fahrer-/Beifahrerseite', 'Anti-Blockier-System (ABS)', 'Armauflage vorn mit Fach', 'Audiosystem Audio 20 (Radio/CD-Player)', 'Außenspiegel elektr. verstell- und heizbar, beide', 'Außentemperaturanzeige', 'Bi-Xenon-Scheinwerfer', 'Drehzahlmesser', 'Elektron. Stabilitäts-Programm (ESP)', 'Fensterheber elektrisch vorn', 'Getriebe 6-Gang', 'Karosserie: 3-türig', 'Klimaautomatik (Thermatic)', 'Kopf-Airbag-System (Windowbag)', 'Lenksäule (Lenkrad) mechan. verstellbar', 'Metallic-Lackierung', 'Motor 1,8 Ltr. - 90 kW 16V KAT', 'Nebelscheinwerfer', 'Reiserechner', 'Rücksitze klappbar 1/3-2/3 mit Durchladeeinrichtung und Lastenverankerung', 'Seitenairbag (Sidebag) vorn', 'Servolenkung', 'Sitzbezug / Polsterung: Ledernachbildung Artico', 'Sportsitze vorn', 'Staubfilter', 'Tempomat', 'Wärmeschutzverglasung / vorn: Bandfilter / hinten: ESG', 'SONSTIGES:', '1,8l - 122PS Kompressor-Benzinmotor!', 'sehr guter Zustand - technisch und optisch!', 'Inspektion 08/2022 (neu)!', 'Scheckheftgepflegt!', 'Steuerkettensatz, Batterie usw. neu!', 'Tüv 7/2024 (neu)!', 'Unfallfrei!', 'Nichtraucherfahrzeug!', 'EURO4 - grüne Plakette!', 'usw. !', '24 Monate Gewährleistung!!', 'BESICHTIGUNG, FINANZIERUNG, GARANTIE, INZAHLUNGNAHME UND PROBEFAHRT MÖGLICH!', 'Weiteres: Irrtümer und Änderungen vorbehalten!', 'See more']\"\n",
      " '[\\' \\', \\'Precio al contado: 24900 euros\\', \\' \\', \\'LIQUIDACIÓN SEPTIEMBRE 2022\\', \\'Automóviles Palma, desde 1982 generando confianza. ¡¡ 40 AÑOS VENDIENDO COCHES!!\\', \\'• 83339 Kilómetros certificados y mantenimientos al día\\', \\'• Mecánica revisada  y carrocería repasada por oficiales de primera\\', \\'• Entrega inmediata\\', \\'• 12 meses de garantía incluido\\', \\'• Si no te gusta, tienes 14 días o 1000 kms para devolverlo\\', \\'• Envío gratuito a Comunidad Valenciana, Barcelona, Madrid y Murcia, resto consultar.\\', \\'• Equipamiento: LLANTAS ALEACIÓN 17\", ELEVALUNAS ELÉCTRICOS, FRENO MANO ELÉCTRICO, BOTÓN APERTURA MALETERO, CONTROL VOZ, ARRANQUE SIN LLAVE, CLIMATIZADOR, ORDENADOR ABORDO, CÁMARA TRASERA Y SENSORES PARKING, APOYABRAZOS DELANTERO, ISOFIX.\\', \\'EL PRECIO CONTADO: Incluye todos los impuestos y no está condicionado a nada. \\', \\'EL PRECIO FINANCIADO: ¡FINANCIACIÓN SIN ENTRADA Y SIN CUOTA FINAL!  Disfruta de este vehículo por tan solo 344€/ mes (CUOTA CALCULADA A 120 MESES).\\', \\'• Financiación  con entidades de confianza\\', \\'• Adaptamos la cuota a tus necesidades\\', \\'• Aceptamos tu vehículo como forma de pago \\', \\'• Prueba de conducción sin compromiso\\', \\'• Cambio de nombre no incluido \\', \\'Los datos están sujetos a cambios debido a las condiciones de las financieras y por ello no son vinculantes.\\', \\' \\', \\'Condiciones de la financiación\\', \\' \\', \\'Puede ver las condiciones de la financiación en las observaciones.\\', \\'See more\\']'\n",
      " '[\\' \\', \\'Precio al contado: 28900 euros\\', \\' \\', \\'OPORTUNIDAD\\', \\' especial. Contacte con nuestros profesionales y solicite una prueba del vehículo. Matriculado en Octubre de 2019. Mercedes-Benz color Gris Montaña, Tapicería Cuero negra, MBUX, Navegador, Ayuda activa de parking con sensores delanteros y traseros, Cámara de visión trasera, Alarma, Control de carril, Paquete retrovisores, Volante multifunción en cuero, Carplay, Sensor de luces y de lluvia, Llantas 17\" y Cambio Automático 7G-DCT. El coche se entrega revisado bajo los estándares de calidad establecidos por la marca y con 24 meses de garantía Certified con cobertura europea. Transferencia incluida en el precio. Si lo necesita puede financiar con nosotros (confirme campaña de descuento). Vehículo en stock, entrega inmediata. \\', \\'SOMOS CONCESIONARIO OFICIAL MERCEDES-BENZ Y SMART DESDE 1927\\', \\' agredasa.es\\', \\' \\', \\'Extras\\', \\' \\', \\' \\', \\'Equipamiento destacado seleccionado por el usuario\\', \\' \\', \\' \\', \\'- Paquete de aparcamiento con cámara de marcha atrás\\', \\'- Paquete de conectividad para smartphone\\', \\'- Pintura metalizada\\', \\' \\', \\'Condiciones de la financiación\\', \\' \\', \\'Si lo necesita puede financiar con nosotros. Vehículo en stock, entrega inmediata. SOMOS CONCESIONARIO OFICIAL MERCEDES-BENZ Y SMART DESDE 1927 agredasa.es\\', \\'See more\\']'\n",
      " \"['440 - Snelheidsregelaar TEMPOMAT met variabele speed limiter', ' ', '950 - AMG Sport', ' ', '429 - 7G-DCT Geautomatiseerde 7-gang versnellingsbak', ' ', '772 - AMG styling kit', ' ', '873 - Verwarmde zetels vooraan', ' ', '235 - Parkeerpilot met PARKTRONIC', ' ', '351 - Mercedes-Benz noodoproepsysteem', ' ', '475 - Bandendruk-controlesysteem', ' ', '355 - MBUX Navigatie', ' ', '875 - Verwarmd ruitensproeiersysteem', ' ', '513 - Snelheidslimietassistent (herkenning snelheidsborden)', ' ', 'U01 - Indicator voor veiligheidsgordels achteraan', ' ', '916 - Brandstoftank 66 L', ' ', '362 - Communicatiemodule (LTE/4G) voor mercedes me connect', ' ', '243 - Active Lane Keeping Assist', ' ', '365 - Navigatiesysteem met harde schijf', ' ', '486 - AMG Sportophanging', ' ', '367 - Live Traffic Information', ' ', '642 - Led-Intelligent Light System', ' ', 'U10 - Automatische uitschakeling van de voorpassagiersairbag', ' ', '249 - Anti-verblindingsspiegels (binnen en buiten links)', ' ', '51U - Dakhemel in stof zwart', ' ', 'U17 - Weglating van gekleurde gordels', ' ', '927 - EU6-Norm', ' ', '08U - Vehicle Setup', ' ', '258 - COLLISION PREVENTION ASSIST PLUS', ' ', '776 - Verbrede zijvleugels voor AMG-velgen', ' ', 'U26 - Zwarte vloermatten in velours met Sport-opschrift en rode rand', ' ', 'B51 - TIREFIT: vervalt met Z31', ' ', 'B59 - DYNAMIC SELECT-schakelaar', ' ', '260 - Wegval type-kenteken op het kofferdeksel', ' ', '01U - Navigatieservice', ' ', '543 - Zonnekleppen met verlichte make-upspiegels, zijdelings wegklapbaar', ' ', 'U35 - Stopcontact 12 Volt in de koffer', ' ', '942 - Protection and Care set', ' ', '270 - Antenne GPS', ' ', 'DK3 - Premium Pack', ' ', '310 - Bekerhouder', ' ', '431 - DIRECT SELECT shift paddles', ' ', 'PBF - Connnectiviteitspakket', ' ', '286 - Pompadourtassen aan rugleuning voorzetels', ' ', '682 - Brandblusapparaat', ' ', '287 - Neerklapbare achterbank', ' ', '446 - Touchpad', ' ', 'U59 - Zetelcomfortpakket', ' ', '8U8 - i-size-kindersteunsysteem', ' ', '294 - Knieairbag bestuurderszijde', ' ', 'U60 - Bescherming voetgangers', ' ', 'U62 - Visibiliteitspakket', ' ', '213 - AMG Sport-parameterbesturing met snelheidsafhankelijke stuurbekrachtiging', ' ', 'P49 - Spiegelpakket', ' ', 'B18 - Brillenvak', ' ', '580 - Manuele klimaatregeling', ' ', '345 - Ruitenwissers met regensensor', ' ', '500 - Inklapbare buitenspiegels (elektrisch)', ' ', 'L5C - Multifunctioneel sportstuurwiel in leder Nappa', ' ', '628 - Adaptive grootlichtassistent Plus (voor ILS)', 'See more']\"\n",
      " '[\\' \\', \\'Precio al contado: 25900 euros\\', \\' \\', \\' \\', \\'Extras\\', \\' \\', \\' \\', \\'Equipamiento destacado seleccionado por el usuario\\', \\' \\', \\' \\', \\'- 7G-DCT cambio automático de doble embrague [429]\\', \\'-  Cámara de marcha atrás con líneas de guía en la pantalla [218]\\', \\'-  Control de la presión de inflado de los neumáticos [475]\\', \\'-  DYNAMIC SELECT [B59]\\', \\'-  Estética AMG - spoiler delantero\\', \\'-  faldón lateral [772]\\', \\'-  Instalacion de aire acondicionado [580]\\', \\'-  Keyless-start [893]\\', \\'-  Llantas de aleación AMG de 18\" y 5 radios dobles\\', \\'-  225/40 [612]\\', \\'-  Paquete AMG Style [P66]\\', \\'-  Paquete de alumbrado y visibilidad [U62]\\', \\'-  Paquete de integración smartphone [14U]\\', \\'-  Paquete Retrovisores [P49]\\', \\'-  Remote Online [11U]\\', \\'-  Sistema de llamada de emergencia ecall [351]\\', \\'-  Sistema de llamada de emergencia ecall [351]\\', \\'-  Smartphone integration apple carplay [16U]\\', \\'-  Tapizado de símil de cuero ARTICO y tela [450]\\', \\'-  Tapizado de símil de cuero ARTICO y tela [450]\\', \\'-  Tren de rodaje de confort de altura rebajada [677]\\', \\'-  Volante multifunción [442]\\', \\' \\', \\'Condiciones de la financiación\\', \\' \\', \\'-\\', \\'See more\\']']\n",
      "... and 23232 more unique values\n",
      "\n",
      "\u001b[1mThe number of NaN values:\u001b[0m 1433\n",
      "\u001b[1mPercentage of NaN values:\u001b[0m 4.86%\n",
      "\n",
      "\u001b[1m\u001b[91mColumn:\u001b[0m \u001b[1m\u001b[94mseller\u001b[0m\n",
      "\u001b[1m\u001b[92mNumber of Unique Values:\u001b[93m 3\n",
      "\u001b[1mUnique Values:\u001b[0m ['Dealer' 'Private seller' nan]\n",
      "\n",
      "\u001b[1mThe number of NaN values:\u001b[0m 850\n",
      "\u001b[1mPercentage of NaN values:\u001b[0m 2.88%\n",
      "\n",
      "\u001b[1m\u001b[91mColumn:\u001b[0m \u001b[1m\u001b[94mseats\u001b[0m\n",
      "\u001b[1m\u001b[92mNumber of Unique Values:\u001b[93m 12\n",
      "\u001b[95mFirst 10 Unique Values:\u001b[0m ['nan' \"['\\\\n, 5, \\\\n']\" \"['\\\\n, 4, \\\\n']\" \"['\\\\n, 2, \\\\n']\"\n",
      " \"['\\\\n, 9, \\\\n']\" \"['\\\\n, 7, \\\\n']\" \"['\\\\n, 6, \\\\n']\" \"['\\\\n, 8, \\\\n']\"\n",
      " \"['\\\\n, 3, \\\\n']\" \"['\\\\n, 17, \\\\n']\"]\n",
      "... and 2 more unique values\n",
      "\n",
      "\u001b[1mThe number of NaN values:\u001b[0m 3975\n",
      "\u001b[1mPercentage of NaN values:\u001b[0m 13.48%\n",
      "\n"
     ]
    },
    {
     "name": "stdout",
     "output_type": "stream",
     "text": [
      "\u001b[1m\u001b[91mColumn:\u001b[0m \u001b[1m\u001b[94mpower\u001b[0m\n",
      "\u001b[1m\u001b[92mNumber of Unique Values:\u001b[93m 352\n",
      "\u001b[95mFirst 10 Unique Values:\u001b[0m ['nan' \"['\\\\n215 kW (292 hp)\\\\n']\" \"['\\\\n310 kW (421 hp)\\\\n']\"\n",
      " \"['\\\\n225 kW (306 hp)\\\\n']\" \"['\\\\n100 kW (136 hp)\\\\n']\"\n",
      " \"['\\\\n90 kW (122 hp)\\\\n']\" \"['\\\\n140 kW (190 hp)\\\\n']\"\n",
      " \"['\\\\n102 kW (139 hp)\\\\n']\" \"['\\\\n66 kW (90 hp)\\\\n']\"\n",
      " \"['\\\\n280 kW (381 hp)\\\\n']\"]\n",
      "... and 342 more unique values\n",
      "\n",
      "\u001b[1mThe number of NaN values:\u001b[0m 1422\n",
      "\u001b[1mPercentage of NaN values:\u001b[0m 4.82%\n",
      "\n",
      "\u001b[1m\u001b[91mColumn:\u001b[0m \u001b[1m\u001b[94mengine_size\u001b[0m\n",
      "\u001b[1m\u001b[92mNumber of Unique Values:\u001b[93m 468\n",
      "\u001b[95mFirst 10 Unique Values:\u001b[0m ['nan' \"['\\\\n1 cc\\\\n']\" \"['\\\\n1,991 cc\\\\n']\" \"['\\\\n2,143 cc\\\\n']\"\n",
      " \"['\\\\n1,799 cc\\\\n']\" \"['\\\\n1,461 cc\\\\n']\" \"['\\\\n1,332 cc\\\\n']\"\n",
      " \"['\\\\n1,950 cc\\\\n']\" \"['\\\\n2,035 cc\\\\n']\" \"['\\\\n1,595 cc\\\\n']\"]\n",
      "... and 458 more unique values\n",
      "\n",
      "\u001b[1mThe number of NaN values:\u001b[0m 2253\n",
      "\u001b[1mPercentage of NaN values:\u001b[0m 7.64%\n",
      "\n",
      "\u001b[1m\u001b[91mColumn:\u001b[0m \u001b[1m\u001b[94mgears\u001b[0m\n",
      "\u001b[1m\u001b[92mNumber of Unique Values:\u001b[93m 12\n",
      "\u001b[95mFirst 10 Unique Values:\u001b[0m ['nan' \"['\\\\n9\\\\n']\" \"['\\\\n8\\\\n']\" \"['\\\\n7\\\\n']\" \"['\\\\n6\\\\n']\"\n",
      " \"['\\\\n1\\\\n']\" \"['\\\\n5\\\\n']\" \"['\\\\n4\\\\n']\" \"['\\\\n3\\\\n']\" \"['\\\\n0\\\\n']\"]\n",
      "... and 2 more unique values\n",
      "\n",
      "\u001b[1mThe number of NaN values:\u001b[0m 10526\n",
      "\u001b[1mPercentage of NaN values:\u001b[0m 35.71%\n",
      "\n",
      "\u001b[1m\u001b[91mColumn:\u001b[0m \u001b[1m\u001b[94mco_emissions\u001b[0m\n",
      "\u001b[1m\u001b[92mNumber of Unique Values:\u001b[93m 348\n",
      "\u001b[95mFirst 10 Unique Values:\u001b[0m [nan '0 g/km (comb.)' '196 g/km (comb.)' '168 g/km (comb.)'\n",
      " '98 g/km (comb.)' '120 g/km (comb.)' '138 g/km (comb.)' '22 g/km (comb.)'\n",
      " '140 g/km (comb.)' '179 g/km (comb.)']\n",
      "... and 338 more unique values\n",
      "\n",
      "\u001b[1mThe number of NaN values:\u001b[0m 10886\n",
      "\u001b[1mPercentage of NaN values:\u001b[0m 36.93%\n",
      "\n",
      "\u001b[1m\u001b[91mColumn:\u001b[0m \u001b[1m\u001b[94mmanufacturer_colour\u001b[0m\n",
      "\u001b[1m\u001b[92mNumber of Unique Values:\u001b[93m 4964\n",
      "\u001b[95mFirst 10 Unique Values:\u001b[0m [nan 'Negro Obsidiana' 'Mountaingrau magno' 'Amarillo Sol'\n",
      " 'Diamant schwarz  metallic' 'Gris Montaña' 'Blanco Cirro (sólido)'\n",
      " 'Grijs metallic' 'Negro' 'Premium \"Kosmosschwarz\"- Met']\n",
      "... and 4954 more unique values\n",
      "\n",
      "\u001b[1mThe number of NaN values:\u001b[0m 7693\n",
      "\u001b[1mPercentage of NaN values:\u001b[0m 26.10%\n",
      "\n",
      "\u001b[1m\u001b[91mColumn:\u001b[0m \u001b[1m\u001b[94mdrivetrain\u001b[0m\n",
      "\u001b[1m\u001b[92mNumber of Unique Values:\u001b[93m 4\n",
      "\u001b[1mUnique Values:\u001b[0m ['nan' \"['\\\\n, 4WD, \\\\n']\" \"['\\\\n, Rear, \\\\n']\" \"['\\\\n, Front, \\\\n']\"]\n",
      "\n",
      "\u001b[1mThe number of NaN values:\u001b[0m 12587\n",
      "\u001b[1mPercentage of NaN values:\u001b[0m 42.70%\n",
      "\n",
      "\u001b[1m\u001b[91mColumn:\u001b[0m \u001b[1m\u001b[94mcylinders\u001b[0m\n",
      "\u001b[1m\u001b[92mNumber of Unique Values:\u001b[93m 13\n",
      "\u001b[95mFirst 10 Unique Values:\u001b[0m ['nan' \"['\\\\n4\\\\n']\" \"['\\\\n8\\\\n']\" \"['\\\\n6\\\\n']\" \"['\\\\n0\\\\n']\"\n",
      " \"['\\\\n12\\\\n']\" \"['\\\\n5\\\\n']\" \"['\\\\n1\\\\n']\" \"['\\\\n3\\\\n']\" \"['\\\\n7\\\\n']\"]\n",
      "... and 3 more unique values\n",
      "\n",
      "\u001b[1mThe number of NaN values:\u001b[0m 10628\n",
      "\u001b[1mPercentage of NaN values:\u001b[0m 36.05%\n",
      "\n",
      "\u001b[1m\u001b[91mColumn:\u001b[0m \u001b[1m\u001b[94mfuel_consumption\u001b[0m\n",
      "\u001b[1m\u001b[92mNumber of Unique Values:\u001b[93m 3453\n",
      "\u001b[95mFirst 10 Unique Values:\u001b[0m ['nan'\n",
      " \"[['8.4 l/100 km (comb.)'], ['10.9 l/100 km (city)'], ['5.8 l/100 km (country)']]\"\n",
      " \"[['7.3 l/100 km (comb.)'], ['9.3 l/100 km (city)'], ['6.1 l/100 km (country)']]\"\n",
      " \"[['4.9 l/100 km (comb.)'], ['5.7 l/100 km (city)'], ['4.4 l/100 km (country)']]\"\n",
      " \"[['8.2 l/100 km (comb.)'], ['11.6 l/100 km (city)'], ['6.2 l/100 km (country)']]\"\n",
      " \"[['6.1 l/100 km (comb.)'], ['8.1 l/100 km (city)'], ['5.1 l/100 km (country)']]\"\n",
      " \"[['0 l/100 km (comb.)']]\"\n",
      " \"[['5.4 l/100 km (comb.)'], ['6.9 l/100 km (city)'], ['4.5 l/100 km (country)']]\"\n",
      " \"[['3.8 l/100 km (comb.)']]\"\n",
      " \"[['6.9 l/100 km (comb.)'], ['9.2 l/100 km (city)'], ['5.6 l/100 km (country)']]\"]\n",
      "... and 3443 more unique values\n",
      "\n",
      "\u001b[1mThe number of NaN values:\u001b[0m 6095\n",
      "\u001b[1mPercentage of NaN values:\u001b[0m 20.68%\n",
      "\n",
      "\u001b[1m\u001b[91mColumn:\u001b[0m \u001b[1m\u001b[94mcomfort_&_convenience\u001b[0m\n",
      "\u001b[1m\u001b[92mNumber of Unique Values:\u001b[93m 14439\n",
      "\u001b[95mFirst 10 Unique Values:\u001b[0m ['nan'\n",
      " \"['Air conditioning, Automatic climate control, Power windows, Rain sensor']\"\n",
      " \"['Air conditioning, Electrical side mirrors, Multi-function steering wheel, Power windows, Split rear seats']\"\n",
      " \"['Air conditioning, Armrest, Automatic climate control, Cruise control, Electrical side mirrors, Lumbar support, Multi-function steering wheel, Panorama roof, Parking assist system sensors front, Parking assist system sensors rear, Power windows, Rain sensor, Sunroof, Tinted windows']\"\n",
      " \"['Multi-function steering wheel, Navigation system, Parking assist system self-steering, Rain sensor, Seat heating, Split rear seats']\"\n",
      " \"['Air conditioning, Automatic climate control, Electrical side mirrors, Multi-function steering wheel, Power windows']\"\n",
      " \"['Air conditioning, Armrest, Electrical side mirrors, Leather steering wheel, Light sensor, Multi-function steering wheel, Navigation system, Power windows, Start-stop system']\"\n",
      " \"['Air conditioning, Electrical side mirrors, Power windows, Split rear seats']\"\n",
      " \"['Air conditioning, Armrest, Automatic climate control, Cruise control, Leather steering wheel, Light sensor, Multi-function steering wheel, Navigation system, Parking assist system camera, Parking assist system sensors front, Parking assist system sensors rear, Power windows, Rain sensor, Seat heating, Start-stop system']\"\n",
      " \"['Air conditioning, Armrest, Electrical side mirrors, Hill Holder, Leather steering wheel, Light sensor, Multi-function steering wheel, Navigation system, Parking assist system sensors front, Parking assist system sensors rear, Power windows, Seat heating']\"]\n",
      "... and 14429 more unique values\n",
      "\n",
      "\u001b[1mThe number of NaN values:\u001b[0m 4047\n",
      "\u001b[1mPercentage of NaN values:\u001b[0m 13.73%\n",
      "\n",
      "\u001b[1m\u001b[91mColumn:\u001b[0m \u001b[1m\u001b[94mentertainment_&_media\u001b[0m\n",
      "\u001b[1m\u001b[92mNumber of Unique Values:\u001b[93m 1945\n",
      "\u001b[95mFirst 10 Unique Values:\u001b[0m ['nan' \"['USB']\" \"['Bluetooth, CD player, MP3, USB']\"\n",
      " \"['CD player, On-board computer, Radio']\"\n",
      " \"['Bluetooth, CD player, MP3, On-board computer, Radio']\"\n",
      " \"['Bluetooth, Digital cockpit, Hands-free equipment, On-board computer, Radio']\"\n",
      " \"['CD player, Hands-free equipment, On-board computer, Sound system']\"\n",
      " \"['CD player, Radio']\"\n",
      " \"['CD player, Hands-free equipment, On-board computer, Radio, Sound system']\"\n",
      " \"['Bluetooth, Digital cockpit, Digital radio, Hands-free equipment, MP3, On-board computer, Radio, USB']\"]\n",
      "... and 1935 more unique values\n",
      "\n",
      "\u001b[1mThe number of NaN values:\u001b[0m 5836\n",
      "\u001b[1mPercentage of NaN values:\u001b[0m 19.80%\n",
      "\n",
      "\u001b[1m\u001b[91mColumn:\u001b[0m \u001b[1m\u001b[94msafety_&_security\u001b[0m\n",
      "\u001b[1m\u001b[92mNumber of Unique Values:\u001b[93m 12550\n",
      "\u001b[95mFirst 10 Unique Values:\u001b[0m ['nan'\n",
      " \"['ABS, Central door lock, Driver-side airbag, Electronic stability control, Traction control']\"\n",
      " \"['ABS, Central door lock, Driver-side airbag, Electronic stability control, Isofix, Xenon headlights']\"\n",
      " \"['ABS, Bi-Xenon headlights, Central door lock, Driver-side airbag, Electronic stability control, Fog lights, Head airbag, Immobilizer, Passenger-side airbag, Power steering, Side airbag, Speed limit control system, Traction control, Xenon headlights']\"\n",
      " \"['ABS, Central door lock, Driver-side airbag, Electronic stability control, Power steering, Traction control']\"\n",
      " \"['Emergency brake assistant']\"\n",
      " \"['ABS, Central door lock, Driver-side airbag, Electronic stability control, Isofix']\"\n",
      " \"['ABS, Alarm system, Central door lock, Central door lock with remote control, Driver-side airbag, Electronic stability control, Emergency brake assistant, Head airbag, Immobilizer, Isofix, Passenger-side airbag, Power steering, Side airbag, Tire pressure monitoring system']\"\n",
      " \"['ABS, Central door lock, Driver-side airbag, Isofix']\"\n",
      " \"['ABS, Central door lock, Driver-side airbag, Electronic stability control, Isofix, Power steering, Side airbag, Xenon headlights']\"]\n",
      "... and 12540 more unique values\n",
      "\n",
      "\u001b[1mThe number of NaN values:\u001b[0m 4065\n",
      "\u001b[1mPercentage of NaN values:\u001b[0m 13.79%\n",
      "\n",
      "\u001b[1m\u001b[91mColumn:\u001b[0m \u001b[1m\u001b[94mextras\u001b[0m\n",
      "\u001b[1m\u001b[92mNumber of Unique Values:\u001b[93m 9361\n",
      "\u001b[95mFirst 10 Unique Values:\u001b[0m ['nan' \"['Sport seats']\"\n",
      " '[\\'Alloy wheels (17\"), Catalytic Converter, Emergency tyre repair kit, Headlight washer system, Smoker\\\\\\'s package, Sport package, Sport seats\\']'\n",
      " \"['Sport package']\" \"['Alloy wheels']\" \"['Alloy wheels, Spoiler']\"\n",
      " \"['Alloy wheels, Sport seats']\"\n",
      " \"['Alloy wheels, Sport seats, Sport suspension']\"\n",
      " \"['Alloy wheels, Automatically dimming interior mirror, Spoiler, Sport seats, Voice Control']\"\n",
      " \"['Alloy wheels, Automatically dimming interior mirror, Cargo barrier, Emergency tyre, Summer tyres, Winter package']\"]\n",
      "... and 9351 more unique values\n",
      "\n",
      "\u001b[1mThe number of NaN values:\u001b[0m 6000\n",
      "\u001b[1mPercentage of NaN values:\u001b[0m 20.35%\n",
      "\n"
     ]
    },
    {
     "name": "stdout",
     "output_type": "stream",
     "text": [
      "\u001b[1m\u001b[91mColumn:\u001b[0m \u001b[1m\u001b[94mempty_weight\u001b[0m\n",
      "\u001b[1m\u001b[92mNumber of Unique Values:\u001b[93m 1219\n",
      "\u001b[95mFirst 10 Unique Values:\u001b[0m ['nan' \"['\\\\n1,545 kg\\\\n']\" \"['\\\\n1,465 kg\\\\n']\" \"['\\\\n1,450 kg\\\\n']\"\n",
      " \"['\\\\n1,365 kg\\\\n']\" \"['\\\\n1,295 kg\\\\n']\" \"['\\\\n1,555 kg\\\\n']\"\n",
      " \"['\\\\n1,445 kg\\\\n']\" \"['\\\\n1,330 kg\\\\n']\" \"['\\\\n1,425 kg\\\\n']\"]\n",
      "... and 1209 more unique values\n",
      "\n",
      "\u001b[1mThe number of NaN values:\u001b[0m 11722\n",
      "\u001b[1mPercentage of NaN values:\u001b[0m 39.76%\n",
      "\n",
      "\u001b[1m\u001b[91mColumn:\u001b[0m \u001b[1m\u001b[94mmodel_code\u001b[0m\n",
      "\u001b[1m\u001b[92mNumber of Unique Values:\u001b[93m 2187\n",
      "\u001b[95mFirst 10 Unique Values:\u001b[0m ['nan' \"['\\\\n, 0999/338, \\\\n']\" \"['\\\\n, 2222/AJB, \\\\n']\"\n",
      " \"['\\\\n, 2222/AJP, \\\\n']\" \"['\\\\n, 2222/AIU, \\\\n']\"\n",
      " \"['\\\\n, 2222/AJI, \\\\n']\" \"['\\\\n, 1313/IKH, \\\\n']\"\n",
      " \"['\\\\n, 1313/DVE, \\\\n']\" \"['\\\\n, 1313/AGC, \\\\n']\"\n",
      " \"['\\\\n, 1414/AAO, \\\\n']\"]\n",
      "... and 2177 more unique values\n",
      "\n",
      "\u001b[1mThe number of NaN values:\u001b[0m 21113\n",
      "\u001b[1mPercentage of NaN values:\u001b[0m 71.62%\n",
      "\n",
      "\u001b[1m\u001b[91mColumn:\u001b[0m \u001b[1m\u001b[94mgeneral_inspection\u001b[0m\n",
      "\u001b[1m\u001b[92mNumber of Unique Values:\u001b[93m 92\n",
      "\u001b[95mFirst 10 Unique Values:\u001b[0m [nan 'New' '01/2024' '09/2022' '03/2024' '04/2023' '08/2024' '07/2024'\n",
      " '09/2024' '06/2024']\n",
      "... and 82 more unique values\n",
      "\n",
      "\u001b[1mThe number of NaN values:\u001b[0m 17226\n",
      "\u001b[1mPercentage of NaN values:\u001b[0m 58.43%\n",
      "\n",
      "\u001b[1m\u001b[91mColumn:\u001b[0m \u001b[1m\u001b[94mlast_service\u001b[0m\n",
      "\u001b[1m\u001b[92mNumber of Unique Values:\u001b[93m 62\n",
      "\u001b[95mFirst 10 Unique Values:\u001b[0m [nan '07/2022' '08/2021' '01/2022' '05/2021' '09/2022' '11/2021' '10/2020'\n",
      " '03/2021' '03/2022']\n",
      "... and 52 more unique values\n",
      "\n",
      "\u001b[1mThe number of NaN values:\u001b[0m 27477\n",
      "\u001b[1mPercentage of NaN values:\u001b[0m 93.21%\n",
      "\n",
      "\u001b[1m\u001b[91mColumn:\u001b[0m \u001b[1m\u001b[94mfull_service_history\u001b[0m\n",
      "\u001b[1m\u001b[92mNumber of Unique Values:\u001b[93m 2\n",
      "\u001b[1mUnique Values:\u001b[0m [nan 'Yes']\n",
      "\n",
      "\u001b[1mThe number of NaN values:\u001b[0m 16915\n",
      "\u001b[1mPercentage of NaN values:\u001b[0m 57.38%\n",
      "\n",
      "\u001b[1m\u001b[91mColumn:\u001b[0m \u001b[1m\u001b[94mnon_smoker_vehicle\u001b[0m\n",
      "\u001b[1m\u001b[92mNumber of Unique Values:\u001b[93m 2\n",
      "\u001b[1mUnique Values:\u001b[0m [nan 'Yes']\n",
      "\n",
      "\u001b[1mThe number of NaN values:\u001b[0m 17886\n",
      "\u001b[1mPercentage of NaN values:\u001b[0m 60.67%\n",
      "\n",
      "\u001b[1m\u001b[91mColumn:\u001b[0m \u001b[1m\u001b[94memission_class\u001b[0m\n",
      "\u001b[1m\u001b[92mNumber of Unique Values:\u001b[93m 10\n",
      "\u001b[1mUnique Values:\u001b[0m [nan 'Euro 4' 'Euro 6' 'Euro 6d-TEMP' 'Euro 5' 'Euro 6d' 'Euro 6c'\n",
      " 'Euro 3' 'Euro 2' 'Euro 1']\n",
      "\n",
      "\u001b[1mThe number of NaN values:\u001b[0m 11621\n",
      "\u001b[1mPercentage of NaN values:\u001b[0m 39.42%\n",
      "\n",
      "\u001b[1m\u001b[91mColumn:\u001b[0m \u001b[1m\u001b[94memissions_sticker\u001b[0m\n",
      "\u001b[1m\u001b[92mNumber of Unique Values:\u001b[93m 5\n",
      "\u001b[1mUnique Values:\u001b[0m [nan '4 (Green)' '1 (No sticker)' '3 (Yellow)' '2 (Red)']\n",
      "\n",
      "\u001b[1mThe number of NaN values:\u001b[0m 20066\n",
      "\u001b[1mPercentage of NaN values:\u001b[0m 68.07%\n",
      "\n",
      "\u001b[1m\u001b[91mColumn:\u001b[0m \u001b[1m\u001b[94mupholstery_colour\u001b[0m\n",
      "\u001b[1m\u001b[92mNumber of Unique Values:\u001b[93m 12\n",
      "\u001b[95mFirst 10 Unique Values:\u001b[0m [nan 'Black' 'Grey' 'Other' 'Blue' 'Brown' 'Beige' 'Red' 'White' 'Orange']\n",
      "... and 2 more unique values\n",
      "\n",
      "\u001b[1mThe number of NaN values:\u001b[0m 14911\n",
      "\u001b[1mPercentage of NaN values:\u001b[0m 50.58%\n",
      "\n",
      "\u001b[1m\u001b[91mColumn:\u001b[0m \u001b[1m\u001b[94mupholstery\u001b[0m\n",
      "\u001b[1m\u001b[92mNumber of Unique Values:\u001b[93m 7\n",
      "\u001b[1mUnique Values:\u001b[0m [nan 'Cloth' 'Full leather' 'Part leather' 'Other' 'alcantara' 'Velour']\n",
      "\n",
      "\u001b[1mThe number of NaN values:\u001b[0m 10870\n",
      "\u001b[1mPercentage of NaN values:\u001b[0m 36.87%\n",
      "\n",
      "\u001b[1m\u001b[91mColumn:\u001b[0m \u001b[1m\u001b[94mproduction_date\u001b[0m\n",
      "\u001b[1m\u001b[92mNumber of Unique Values:\u001b[93m 50\n",
      "\u001b[95mFirst 10 Unique Values:\u001b[0m [  nan 2019. 2021. 2018. 2014. 2011. 2020. 2022. 2017. 2016.]\n",
      "... and 40 more unique values\n",
      "\n",
      "\u001b[1mThe number of NaN values:\u001b[0m 23572\n",
      "\u001b[1mPercentage of NaN values:\u001b[0m 79.96%\n",
      "\n",
      "\u001b[1m\u001b[91mColumn:\u001b[0m \u001b[1m\u001b[94mprevious_owner\u001b[0m\n",
      "\u001b[1m\u001b[92mNumber of Unique Values:\u001b[93m 11734\n",
      "\u001b[95mFirst 10 Unique Values:\u001b[0m ['nan' \"[['157,500 km', '04/2010'], '2']\"\n",
      " \"[['71,752 km', '07/2005'], '2']\" \"[['52,497 km', '10/2019'], '2']\"\n",
      " \"[['141,980 km', '08/2011'], '1']\" \"[['58,813 km', '02/2020'], '2']\"\n",
      " \"[['67,626 km', '06/2020'], '1']\" \"[['8,000 km', '05/2021'], '1']\"\n",
      " \"[['61,170 km', '05/2006'], '2']\" \"[['22,000 km', '09/2020'], '1']\"]\n",
      "... and 11724 more unique values\n",
      "\n",
      "\u001b[1mThe number of NaN values:\u001b[0m 15465\n",
      "\u001b[1mPercentage of NaN values:\u001b[0m 52.46%\n",
      "\n",
      "\u001b[1m\u001b[91mColumn:\u001b[0m \u001b[1m\u001b[94mother_fuel_types\u001b[0m\n",
      "\u001b[1m\u001b[92mNumber of Unique Values:\u001b[93m 4\n",
      "\u001b[1mUnique Values:\u001b[0m [nan 'Electricity' 'Hydogen' 'Super E10 95']\n",
      "\n",
      "\u001b[1mThe number of NaN values:\u001b[0m 27167\n",
      "\u001b[1mPercentage of NaN values:\u001b[0m 92.15%\n",
      "\n",
      "\u001b[1m\u001b[91mColumn:\u001b[0m \u001b[1m\u001b[94mpower_consumption\u001b[0m\n",
      "\u001b[1m\u001b[92mNumber of Unique Values:\u001b[93m 105\n",
      "\u001b[95mFirst 10 Unique Values:\u001b[0m [nan '0 kWh/100 km (comb.)' '19.1 kWh/100 km (comb.)'\n",
      " '12 kWh/100 km (comb.)' '15.7 kWh/100 km (comb.)'\n",
      " '18.1 kWh/100 km (comb.)' '23.2 kWh/100 km (comb.)'\n",
      " '15.9 kWh/100 km (comb.)' '23.8 kWh/100 km (comb.)'\n",
      " '14.6 kWh/100 km (comb.)']\n",
      "... and 95 more unique values\n",
      "\n",
      "\u001b[1mThe number of NaN values:\u001b[0m 28965\n",
      "\u001b[1mPercentage of NaN values:\u001b[0m 98.25%\n",
      "\n",
      "\u001b[1m\u001b[91mColumn:\u001b[0m \u001b[1m\u001b[94menergy_efficiency_class\u001b[0m\n",
      "\u001b[1m\u001b[92mNumber of Unique Values:\u001b[93m 11\n",
      "\u001b[95mFirst 10 Unique Values:\u001b[0m [nan 'C' 'B' 'E' 'D' 'A' 'G' 'F' 'A+' 'A+++']\n",
      "... and 1 more unique values\n",
      "\n",
      "\u001b[1mThe number of NaN values:\u001b[0m 21676\n",
      "\u001b[1mPercentage of NaN values:\u001b[0m 73.53%\n",
      "\n",
      "\u001b[1m\u001b[91mColumn:\u001b[0m \u001b[1m\u001b[94mco_efficiency\u001b[0m\n",
      "\u001b[1m\u001b[92mNumber of Unique Values:\u001b[93m 2\n",
      "\u001b[1mUnique Values:\u001b[0m [nan\n",
      " 'Calculated on basis of measured CO₂-emissions taking into account the mass of the vehicle.']\n",
      "\n",
      "\u001b[1mThe number of NaN values:\u001b[0m 21676\n",
      "\u001b[1mPercentage of NaN values:\u001b[0m 73.53%\n",
      "\n",
      "\u001b[1m\u001b[91mColumn:\u001b[0m \u001b[1m\u001b[94mfuel_consumption_wltp\u001b[0m\n",
      "\u001b[1m\u001b[92mNumber of Unique Values:\u001b[93m 48\n",
      "\u001b[95mFirst 10 Unique Values:\u001b[0m [nan '3.9 l/100 km' '9.3 l/100 km' '12.6 l/100 km' '10.4 l/100 km'\n",
      " '12.9 l/100 km' '7.6 l/100 km' '9.1 l/100 km' '6.8 l/100 km'\n",
      " '9.6 l/100 km']\n",
      "... and 38 more unique values\n",
      "\n",
      "\u001b[1mThe number of NaN values:\u001b[0m 29380\n",
      "\u001b[1mPercentage of NaN values:\u001b[0m 99.66%\n",
      "\n",
      "\u001b[1m\u001b[91mColumn:\u001b[0m \u001b[1m\u001b[94mco_emissions_wltp\u001b[0m\n",
      "\u001b[1m\u001b[92mNumber of Unique Values:\u001b[93m 69\n",
      "\u001b[95mFirst 10 Unique Values:\u001b[0m [nan '123 g/km (comb.)' '212 g/km (comb.)' '284 g/km (comb.)'\n",
      " '236 g/km (comb.)' '293 g/km (comb.)' '172 g/km (comb.)'\n",
      " '207 g/km (comb.)' '180 g/km (comb.)' '218 g/km (comb.)']\n",
      "... and 59 more unique values\n",
      "\n",
      "\u001b[1mThe number of NaN values:\u001b[0m 29364\n",
      "\u001b[1mPercentage of NaN values:\u001b[0m 99.61%\n",
      "\n",
      "\u001b[1m\u001b[91mColumn:\u001b[0m \u001b[1m\u001b[94mavailable_from\u001b[0m\n",
      "\u001b[1m\u001b[92mNumber of Unique Values:\u001b[93m 126\n",
      "\u001b[95mFirst 10 Unique Values:\u001b[0m ['nan' \"['\\\\n, 01/12/2022, \\\\n']\" \"['\\\\n, 03/03/2023, \\\\n']\"\n",
      " \"['\\\\n, 31/03/2023, \\\\n']\" \"['\\\\n, 13/12/2022, \\\\n']\"\n",
      " \"['\\\\n, 18/12/2022, \\\\n']\" \"['\\\\n, 30/05/2023, \\\\n']\"\n",
      " \"['\\\\n, 20/11/2022, \\\\n']\" \"['\\\\n, 16/12/2022, \\\\n']\"\n",
      " \"['\\\\n, 20/03/2023, \\\\n']\"]\n",
      "... and 116 more unique values\n",
      "\n",
      "\u001b[1mThe number of NaN values:\u001b[0m 29087\n",
      "\u001b[1mPercentage of NaN values:\u001b[0m 98.67%\n",
      "\n",
      "\u001b[1m\u001b[91mColumn:\u001b[0m \u001b[1m\u001b[94mtaxi_or_rental_car\u001b[0m\n",
      "\u001b[1m\u001b[92mNumber of Unique Values:\u001b[93m 2\n",
      "\u001b[1mUnique Values:\u001b[0m [nan 'Yes']\n",
      "\n",
      "\u001b[1mThe number of NaN values:\u001b[0m 29058\n",
      "\u001b[1mPercentage of NaN values:\u001b[0m 98.57%\n",
      "\n",
      "\u001b[1m\u001b[91mColumn:\u001b[0m \u001b[1m\u001b[94mavailability\u001b[0m\n",
      "\u001b[1m\u001b[92mNumber of Unique Values:\u001b[93m 19\n",
      "\u001b[95mFirst 10 Unique Values:\u001b[0m ['nan' \"['\\\\n, in 1 day after order, \\\\n']\"\n",
      " \"['\\\\n, in 120 days after order, \\\\n']\"\n",
      " \"['\\\\n, in 7 days after order, \\\\n']\"\n",
      " \"['\\\\n, in 3 days after order, \\\\n']\"\n",
      " \"['\\\\n, in 180 days after order, \\\\n']\"\n",
      " \"['\\\\n, in 42 days after order, \\\\n']\"\n",
      " \"['\\\\n, in 60 days after order, \\\\n']\"\n",
      " \"['\\\\n, in 90 days after order, \\\\n']\"\n",
      " \"['\\\\n, in 5 days after order, \\\\n']\"]\n",
      "... and 9 more unique values\n",
      "\n",
      "\u001b[1mThe number of NaN values:\u001b[0m 29179\n",
      "\u001b[1mPercentage of NaN values:\u001b[0m 98.98%\n",
      "\n",
      "\u001b[1m\u001b[91mColumn:\u001b[0m \u001b[1m\u001b[94mlast_timing_belt_change\u001b[0m\n",
      "\u001b[1m\u001b[92mNumber of Unique Values:\u001b[93m 87\n",
      "\u001b[95mFirst 10 Unique Values:\u001b[0m [nan '09/2022' '11/2017' '10/2019' '08/2022' '04/2022' '05/2019' '09/2020'\n",
      " '07/2019' '09/2019']\n",
      "... and 77 more unique values\n",
      "\n",
      "\u001b[1mThe number of NaN values:\u001b[0m 28908\n",
      "\u001b[1mPercentage of NaN values:\u001b[0m 98.06%\n",
      "\n",
      "\u001b[1m\u001b[91mColumn:\u001b[0m \u001b[1m\u001b[94melectric_range_wltp\u001b[0m\n",
      "\u001b[1m\u001b[92mNumber of Unique Values:\u001b[93m 15\n",
      "\u001b[95mFirst 10 Unique Values:\u001b[0m [nan '402 km484 km (within city)' '50 km50 km (within city)'\n",
      " '426 km492 km (within city)' '614 km681 km (within city)'\n",
      " '573 km573 km (within city)' '691 km691 km (within city)'\n",
      " '351 km351 km (within city)' '48 km48 km (within city)'\n",
      " '450 km450 km (within city)']\n",
      "... and 5 more unique values\n",
      "\n",
      "\u001b[1mThe number of NaN values:\u001b[0m 29464\n",
      "\u001b[1mPercentage of NaN values:\u001b[0m 99.95%\n",
      "\n",
      "\u001b[1m\u001b[91mColumn:\u001b[0m \u001b[1m\u001b[94mpower_consumption_wltp\u001b[0m\n",
      "\u001b[1m\u001b[92mNumber of Unique Values:\u001b[93m 14\n",
      "\u001b[95mFirst 10 Unique Values:\u001b[0m [nan '18.9 kWh/100 km' '19.2 kWh/100 km' '21.9 kWh/100 km'\n",
      " '17.2 kWh/100 km' '18.4 kWh/100 km' '19.3 kWh/100 km' '15.9 kWh/100 km'\n",
      " '148 kWh/100 km' '16.9 kWh/100 km']\n",
      "... and 4 more unique values\n",
      "\n",
      "\u001b[1mThe number of NaN values:\u001b[0m 29464\n",
      "\u001b[1mPercentage of NaN values:\u001b[0m 99.95%\n",
      "\n",
      "\u001b[1m\u001b[91mColumn:\u001b[0m \u001b[1m\u001b[94mbattery_ownership\u001b[0m\n",
      "\u001b[1m\u001b[92mNumber of Unique Values:\u001b[93m 2\n",
      "\u001b[1mUnique Values:\u001b[0m [nan 'Included']\n",
      "\n",
      "\u001b[1mThe number of NaN values:\u001b[0m 29473\n",
      "\u001b[1mPercentage of NaN values:\u001b[0m 99.98%\n",
      "\n"
     ]
    }
   ],
   "source": [
    "def is_hashable(v):\n",
    "    try:\n",
    "        hash(v)\n",
    "    except TypeError:\n",
    "        return False\n",
    "    return True\n",
    "\n",
    "def column_analysis(df):\n",
    "    for column in df.columns:\n",
    "        if all(df[column].apply(is_hashable)):\n",
    "            unique_values = df[column].unique()\n",
    "        else:\n",
    "            unique_values = df[column].astype(str).unique()\n",
    "            \n",
    "        unique_count = len(unique_values)\n",
    "        \n",
    "        print(f\"\\033[1m\\033[91mColumn:\\033[0m \\033[1m\\033[94m{column}\\033[0m\")\n",
    "        print(f\"\\033[1m\\033[92mNumber of Unique Values:\\033[93m {unique_count}\")\n",
    "        if unique_count <= 10:\n",
    "            print(f\"\\033[1mUnique Values:\\033[0m {unique_values}\\n\")\n",
    "        else:\n",
    "            print(f\"\\033[95mFirst 10 Unique Values:\\033[0m {unique_values[:10]}\")\n",
    "            print(f\"... and {unique_count - 10} more unique values\\n\")\n",
    "        missing_count = df[column].isnull().sum()\n",
    "        missing_percentage = (missing_count / len(df)) * 100\n",
    "        print(f\"\\033[1mThe number of NaN values:\\033[0m {missing_count}\")\n",
    "        print(f\"\\033[1mPercentage of NaN values:\\033[0m {missing_percentage:.2f}%\\n\")\n",
    "        \n",
    "column_analysis(df)\n",
    "    \n",
    "      "
   ]
  },
  {
   "cell_type": "code",
   "execution_count": 1,
   "metadata": {
    "ExecuteTime": {
     "end_time": "2024-02-28T17:14:31.650192Z",
     "start_time": "2024-02-28T17:14:30.083635Z"
    }
   },
   "outputs": [
    {
     "ename": "NameError",
     "evalue": "name 'msno' is not defined",
     "output_type": "error",
     "traceback": [
      "\u001b[1;31m---------------------------------------------------------------------------\u001b[0m",
      "\u001b[1;31mNameError\u001b[0m                                 Traceback (most recent call last)",
      "Cell \u001b[1;32mIn[1], line 1\u001b[0m\n\u001b[1;32m----> 1\u001b[0m msno\u001b[38;5;241m.\u001b[39mbar(df)\n",
      "\u001b[1;31mNameError\u001b[0m: name 'msno' is not defined"
     ]
    }
   ],
   "source": [
    "msno.bar(df);"
   ]
  },
  {
   "cell_type": "code",
   "execution_count": 13,
   "metadata": {
    "ExecuteTime": {
     "end_time": "2024-02-25T18:51:35.072605Z",
     "start_time": "2024-02-25T18:51:34.307307Z"
    },
    "run_control": {
     "marked": true
    },
    "scrolled": true
   },
   "outputs": [
    {
     "data": {
      "text/html": [
       "<div>\n",
       "<style scoped>\n",
       "    .dataframe tbody tr th:only-of-type {\n",
       "        vertical-align: middle;\n",
       "    }\n",
       "\n",
       "    .dataframe tbody tr th {\n",
       "        vertical-align: top;\n",
       "    }\n",
       "\n",
       "    .dataframe thead th {\n",
       "        text-align: right;\n",
       "    }\n",
       "</style>\n",
       "<table border=\"1\" class=\"dataframe\">\n",
       "  <thead>\n",
       "    <tr style=\"text-align: right;\">\n",
       "      <th></th>\n",
       "      <th>count</th>\n",
       "      <th>percentage</th>\n",
       "    </tr>\n",
       "  </thead>\n",
       "  <tbody>\n",
       "    <tr>\n",
       "      <th>make_model</th>\n",
       "      <td>850</td>\n",
       "      <td>2.880</td>\n",
       "    </tr>\n",
       "    <tr>\n",
       "      <th>short_description</th>\n",
       "      <td>850</td>\n",
       "      <td>2.880</td>\n",
       "    </tr>\n",
       "    <tr>\n",
       "      <th>make</th>\n",
       "      <td>850</td>\n",
       "      <td>2.880</td>\n",
       "    </tr>\n",
       "    <tr>\n",
       "      <th>model</th>\n",
       "      <td>850</td>\n",
       "      <td>2.880</td>\n",
       "    </tr>\n",
       "    <tr>\n",
       "      <th>location</th>\n",
       "      <td>850</td>\n",
       "      <td>2.880</td>\n",
       "    </tr>\n",
       "    <tr>\n",
       "      <th>price</th>\n",
       "      <td>850</td>\n",
       "      <td>2.880</td>\n",
       "    </tr>\n",
       "    <tr>\n",
       "      <th>body_type</th>\n",
       "      <td>850</td>\n",
       "      <td>2.880</td>\n",
       "    </tr>\n",
       "    <tr>\n",
       "      <th>type</th>\n",
       "      <td>850</td>\n",
       "      <td>2.880</td>\n",
       "    </tr>\n",
       "    <tr>\n",
       "      <th>doors</th>\n",
       "      <td>1209</td>\n",
       "      <td>4.100</td>\n",
       "    </tr>\n",
       "    <tr>\n",
       "      <th>country_version</th>\n",
       "      <td>12591</td>\n",
       "      <td>42.710</td>\n",
       "    </tr>\n",
       "    <tr>\n",
       "      <th>offer_number</th>\n",
       "      <td>6380</td>\n",
       "      <td>21.640</td>\n",
       "    </tr>\n",
       "    <tr>\n",
       "      <th>warranty</th>\n",
       "      <td>13696</td>\n",
       "      <td>46.460</td>\n",
       "    </tr>\n",
       "    <tr>\n",
       "      <th>mileage</th>\n",
       "      <td>851</td>\n",
       "      <td>2.890</td>\n",
       "    </tr>\n",
       "    <tr>\n",
       "      <th>first_registration</th>\n",
       "      <td>852</td>\n",
       "      <td>2.890</td>\n",
       "    </tr>\n",
       "    <tr>\n",
       "      <th>gearbox</th>\n",
       "      <td>1098</td>\n",
       "      <td>3.720</td>\n",
       "    </tr>\n",
       "    <tr>\n",
       "      <th>fuel_type</th>\n",
       "      <td>2637</td>\n",
       "      <td>8.950</td>\n",
       "    </tr>\n",
       "    <tr>\n",
       "      <th>colour</th>\n",
       "      <td>2574</td>\n",
       "      <td>8.730</td>\n",
       "    </tr>\n",
       "    <tr>\n",
       "      <th>paint</th>\n",
       "      <td>14985</td>\n",
       "      <td>50.830</td>\n",
       "    </tr>\n",
       "    <tr>\n",
       "      <th>desc</th>\n",
       "      <td>1433</td>\n",
       "      <td>4.860</td>\n",
       "    </tr>\n",
       "    <tr>\n",
       "      <th>seller</th>\n",
       "      <td>850</td>\n",
       "      <td>2.880</td>\n",
       "    </tr>\n",
       "    <tr>\n",
       "      <th>seats</th>\n",
       "      <td>3975</td>\n",
       "      <td>13.480</td>\n",
       "    </tr>\n",
       "    <tr>\n",
       "      <th>power</th>\n",
       "      <td>1422</td>\n",
       "      <td>4.820</td>\n",
       "    </tr>\n",
       "    <tr>\n",
       "      <th>engine_size</th>\n",
       "      <td>2253</td>\n",
       "      <td>7.640</td>\n",
       "    </tr>\n",
       "    <tr>\n",
       "      <th>gears</th>\n",
       "      <td>10526</td>\n",
       "      <td>35.710</td>\n",
       "    </tr>\n",
       "    <tr>\n",
       "      <th>co_emissions</th>\n",
       "      <td>10886</td>\n",
       "      <td>36.930</td>\n",
       "    </tr>\n",
       "    <tr>\n",
       "      <th>manufacturer_colour</th>\n",
       "      <td>7693</td>\n",
       "      <td>26.100</td>\n",
       "    </tr>\n",
       "    <tr>\n",
       "      <th>drivetrain</th>\n",
       "      <td>12587</td>\n",
       "      <td>42.700</td>\n",
       "    </tr>\n",
       "    <tr>\n",
       "      <th>cylinders</th>\n",
       "      <td>10628</td>\n",
       "      <td>36.050</td>\n",
       "    </tr>\n",
       "    <tr>\n",
       "      <th>fuel_consumption</th>\n",
       "      <td>6095</td>\n",
       "      <td>20.680</td>\n",
       "    </tr>\n",
       "    <tr>\n",
       "      <th>comfort_&amp;_convenience</th>\n",
       "      <td>4047</td>\n",
       "      <td>13.730</td>\n",
       "    </tr>\n",
       "    <tr>\n",
       "      <th>entertainment_&amp;_media</th>\n",
       "      <td>5836</td>\n",
       "      <td>19.800</td>\n",
       "    </tr>\n",
       "    <tr>\n",
       "      <th>safety_&amp;_security</th>\n",
       "      <td>4065</td>\n",
       "      <td>13.790</td>\n",
       "    </tr>\n",
       "    <tr>\n",
       "      <th>extras</th>\n",
       "      <td>6000</td>\n",
       "      <td>20.350</td>\n",
       "    </tr>\n",
       "    <tr>\n",
       "      <th>empty_weight</th>\n",
       "      <td>11722</td>\n",
       "      <td>39.760</td>\n",
       "    </tr>\n",
       "    <tr>\n",
       "      <th>model_code</th>\n",
       "      <td>21113</td>\n",
       "      <td>71.620</td>\n",
       "    </tr>\n",
       "    <tr>\n",
       "      <th>general_inspection</th>\n",
       "      <td>17226</td>\n",
       "      <td>58.430</td>\n",
       "    </tr>\n",
       "    <tr>\n",
       "      <th>last_service</th>\n",
       "      <td>27477</td>\n",
       "      <td>93.210</td>\n",
       "    </tr>\n",
       "    <tr>\n",
       "      <th>full_service_history</th>\n",
       "      <td>16915</td>\n",
       "      <td>57.380</td>\n",
       "    </tr>\n",
       "    <tr>\n",
       "      <th>non_smoker_vehicle</th>\n",
       "      <td>17886</td>\n",
       "      <td>60.670</td>\n",
       "    </tr>\n",
       "    <tr>\n",
       "      <th>emission_class</th>\n",
       "      <td>11621</td>\n",
       "      <td>39.420</td>\n",
       "    </tr>\n",
       "    <tr>\n",
       "      <th>emissions_sticker</th>\n",
       "      <td>20066</td>\n",
       "      <td>68.070</td>\n",
       "    </tr>\n",
       "    <tr>\n",
       "      <th>upholstery_colour</th>\n",
       "      <td>14911</td>\n",
       "      <td>50.580</td>\n",
       "    </tr>\n",
       "    <tr>\n",
       "      <th>upholstery</th>\n",
       "      <td>10870</td>\n",
       "      <td>36.870</td>\n",
       "    </tr>\n",
       "    <tr>\n",
       "      <th>production_date</th>\n",
       "      <td>23572</td>\n",
       "      <td>79.960</td>\n",
       "    </tr>\n",
       "    <tr>\n",
       "      <th>previous_owner</th>\n",
       "      <td>15465</td>\n",
       "      <td>52.460</td>\n",
       "    </tr>\n",
       "    <tr>\n",
       "      <th>other_fuel_types</th>\n",
       "      <td>27167</td>\n",
       "      <td>92.150</td>\n",
       "    </tr>\n",
       "    <tr>\n",
       "      <th>power_consumption</th>\n",
       "      <td>28965</td>\n",
       "      <td>98.250</td>\n",
       "    </tr>\n",
       "    <tr>\n",
       "      <th>energy_efficiency_class</th>\n",
       "      <td>21676</td>\n",
       "      <td>73.530</td>\n",
       "    </tr>\n",
       "    <tr>\n",
       "      <th>co_efficiency</th>\n",
       "      <td>21676</td>\n",
       "      <td>73.530</td>\n",
       "    </tr>\n",
       "    <tr>\n",
       "      <th>fuel_consumption_wltp</th>\n",
       "      <td>29380</td>\n",
       "      <td>99.660</td>\n",
       "    </tr>\n",
       "    <tr>\n",
       "      <th>co_emissions_wltp</th>\n",
       "      <td>29364</td>\n",
       "      <td>99.610</td>\n",
       "    </tr>\n",
       "    <tr>\n",
       "      <th>available_from</th>\n",
       "      <td>29087</td>\n",
       "      <td>98.670</td>\n",
       "    </tr>\n",
       "    <tr>\n",
       "      <th>taxi_or_rental_car</th>\n",
       "      <td>29058</td>\n",
       "      <td>98.570</td>\n",
       "    </tr>\n",
       "    <tr>\n",
       "      <th>availability</th>\n",
       "      <td>29179</td>\n",
       "      <td>98.980</td>\n",
       "    </tr>\n",
       "    <tr>\n",
       "      <th>last_timing_belt_change</th>\n",
       "      <td>28908</td>\n",
       "      <td>98.060</td>\n",
       "    </tr>\n",
       "    <tr>\n",
       "      <th>electric_range_wltp</th>\n",
       "      <td>29464</td>\n",
       "      <td>99.950</td>\n",
       "    </tr>\n",
       "    <tr>\n",
       "      <th>power_consumption_wltp</th>\n",
       "      <td>29464</td>\n",
       "      <td>99.950</td>\n",
       "    </tr>\n",
       "    <tr>\n",
       "      <th>battery_ownership</th>\n",
       "      <td>29473</td>\n",
       "      <td>99.980</td>\n",
       "    </tr>\n",
       "  </tbody>\n",
       "</table>\n",
       "</div>"
      ],
      "text/plain": [
       "                         count  percentage\n",
       "make_model                 850       2.880\n",
       "short_description          850       2.880\n",
       "make                       850       2.880\n",
       "model                      850       2.880\n",
       "location                   850       2.880\n",
       "price                      850       2.880\n",
       "body_type                  850       2.880\n",
       "type                       850       2.880\n",
       "doors                     1209       4.100\n",
       "country_version          12591      42.710\n",
       "offer_number              6380      21.640\n",
       "warranty                 13696      46.460\n",
       "mileage                    851       2.890\n",
       "first_registration         852       2.890\n",
       "gearbox                   1098       3.720\n",
       "fuel_type                 2637       8.950\n",
       "colour                    2574       8.730\n",
       "paint                    14985      50.830\n",
       "desc                      1433       4.860\n",
       "seller                     850       2.880\n",
       "seats                     3975      13.480\n",
       "power                     1422       4.820\n",
       "engine_size               2253       7.640\n",
       "gears                    10526      35.710\n",
       "co_emissions             10886      36.930\n",
       "manufacturer_colour       7693      26.100\n",
       "drivetrain               12587      42.700\n",
       "cylinders                10628      36.050\n",
       "fuel_consumption          6095      20.680\n",
       "comfort_&_convenience     4047      13.730\n",
       "entertainment_&_media     5836      19.800\n",
       "safety_&_security         4065      13.790\n",
       "extras                    6000      20.350\n",
       "empty_weight             11722      39.760\n",
       "model_code               21113      71.620\n",
       "general_inspection       17226      58.430\n",
       "last_service             27477      93.210\n",
       "full_service_history     16915      57.380\n",
       "non_smoker_vehicle       17886      60.670\n",
       "emission_class           11621      39.420\n",
       "emissions_sticker        20066      68.070\n",
       "upholstery_colour        14911      50.580\n",
       "upholstery               10870      36.870\n",
       "production_date          23572      79.960\n",
       "previous_owner           15465      52.460\n",
       "other_fuel_types         27167      92.150\n",
       "power_consumption        28965      98.250\n",
       "energy_efficiency_class  21676      73.530\n",
       "co_efficiency            21676      73.530\n",
       "fuel_consumption_wltp    29380      99.660\n",
       "co_emissions_wltp        29364      99.610\n",
       "available_from           29087      98.670\n",
       "taxi_or_rental_car       29058      98.570\n",
       "availability             29179      98.980\n",
       "last_timing_belt_change  28908      98.060\n",
       "electric_range_wltp      29464      99.950\n",
       "power_consumption_wltp   29464      99.950\n",
       "battery_ownership        29473      99.980"
      ]
     },
     "execution_count": 13,
     "metadata": {},
     "output_type": "execute_result"
    }
   ],
   "source": [
    "def missing_values(df):\n",
    "    \n",
    "    missing_count = df.isnull().sum()\n",
    "    value_count = df.isnull().count()\n",
    "    missing_percentage = round(missing_count / value_count * 100, 2)\n",
    "    missing_df = pd.DataFrame({\"count\": missing_count, \"percentage\": missing_percentage})\n",
    "    return missing_df\n",
    "\n",
    "missing_values(df)"
   ]
  },
  {
   "cell_type": "markdown",
   "metadata": {},
   "source": [
    "<a id=\"4\"></a>\n",
    "<button type=\"button\" class=\"btn btn-lg btn-danger\" data-toggle=\"popover\" title=\"Popover title\" >Operations on some columns</button>"
   ]
  },
  {
   "cell_type": "markdown",
   "metadata": {},
   "source": [
    "<a id=\"5\"></a>\n",
    "<div class=\"alert alert-info\" role=\"alert\">\n",
    "<h1>Column name :<span style=\"color:red\"> make</span></h1>\n",
    "</div>\n",
    "\n",
    "<div class=\"alert alert-block\" style=\"background-color: darkblue;\">\n",
    "<div class=\"alert alert-block alert-warning\">\n",
    "<b>Operation : </b> Let's edit the expression <span style=\"color:red\"> <b>\" \\nMercedes-Benz\\n \"</b> </span> in the content of the make column . Let's remove the <span style=\"color:red\"> <b>\" \\n \" </b></span>.\n",
    "</div>"
   ]
  },
  {
   "cell_type": "markdown",
   "metadata": {},
   "source": [
    "<a href=\"#toc\" class=\"btn btn-warning btn-lg active\" role=\"button\" aria-pressed=\"true\" style=\"color:black;\">Content</a>"
   ]
  },
  {
   "cell_type": "code",
   "execution_count": 14,
   "metadata": {
    "ExecuteTime": {
     "end_time": "2024-02-25T18:51:35.176187Z",
     "start_time": "2024-02-25T18:51:35.086689Z"
    },
    "run_control": {
     "marked": true
    }
   },
   "outputs": [
    {
     "data": {
      "text/plain": [
       "20760           Nissan\n",
       "17459           Toyota\n",
       "10334             Fiat\n",
       "18384           Toyota\n",
       "1501     Mercedes-Benz\n",
       "Name: make, dtype: object"
      ]
     },
     "execution_count": 14,
     "metadata": {},
     "output_type": "execute_result"
    }
   ],
   "source": [
    "df.make = df.make.str.strip()\n",
    "df.make.sample(5)"
   ]
  },
  {
   "cell_type": "markdown",
   "metadata": {},
   "source": [
    "<div class=\"alert alert-info\" role=\"alert\" style=\"background-color: lightgray;\">\n",
    "    <h1>Column name :<span style=\"color:red\"> model</span></h1>\n",
    "</div>\n",
    "\n",
    "<div class=\"alert alert-block\" style=\"background-color: darkblue;\">\n",
    "<div class=\"alert alert-block alert-warning\">\n",
    "    <b>Operation : </b> Let's edit the expression <span style=\"color:red\"><b>\" [\\n, Megane ,\\n] \"</b></span> in the content of the make column. Let's remove the <span style=\"color:red\"><b> \" /n \" and \" , \" </b></span>. The 'model' column contains empty strings. This will be addressed in <span style=\"color:red\"><b> Part - 2 </b></span>. When the file is saved as<span style=\"color:red\"><b> a CSV </b></span>, the empty strings will be automatically converted to <span style=\"color:red\"><b> NaN.</b></span>\n",
    "</div>\n"
   ]
  },
  {
   "cell_type": "markdown",
   "metadata": {},
   "source": [
    "<a href=\"#toc\" class=\"btn btn-warning btn-lg active\" role=\"button\" aria-pressed=\"true\" style=\"color:black;\">Content</a>"
   ]
  },
  {
   "cell_type": "code",
   "execution_count": 15,
   "metadata": {
    "ExecuteTime": {
     "end_time": "2024-02-25T18:51:35.251319Z",
     "start_time": "2024-02-25T18:51:35.181443Z"
    },
    "run_control": {
     "marked": true
    }
   },
   "outputs": [
    {
     "data": {
      "text/plain": [
       "26311      V40\n",
       "26189      C30\n",
       "27923      NaN\n",
       "9861     Panda\n",
       "12618    Ateca\n",
       "Name: model, dtype: object"
      ]
     },
     "execution_count": 15,
     "metadata": {},
     "output_type": "execute_result"
    }
   ],
   "source": [
    "df.model = df.model.map(lambda x : x[0].strip(\",\\n \") if type(x) == list else x)\n",
    "df.model.sample(5)"
   ]
  },
  {
   "cell_type": "markdown",
   "metadata": {},
   "source": [
    "<a id=\"7\"></a>\n",
    "<div class=\"alert alert-info\" role=\"alert\">\n",
    "<h1>Column name :<span style=\"color:red\"> price</span></h1>\n",
    "</div>\n",
    "\n",
    "<div class=\"alert alert-block\" style=\"background-color: darkblue;\">\n",
    "<div class=\"alert alert-block alert-warning\">\n",
    "\n",
    "<b>Operation : </b> Let's edit the expression <span style=\"color:red\"><b>\" € 19,112.- \"</b></span> in the content of the make column. Let's remove the <span style=\"color:red\"><b> \" € \" and \" .- \" </b></span>  , convert float its type .\n",
    "</div>"
   ]
  },
  {
   "cell_type": "markdown",
   "metadata": {},
   "source": [
    "<a href=\"#toc\" class=\"btn btn-warning btn-lg active\" role=\"button\" aria-pressed=\"true\" style=\"color:black;\">Content</a>"
   ]
  },
  {
   "cell_type": "code",
   "execution_count": 16,
   "metadata": {
    "ExecuteTime": {
     "end_time": "2024-02-25T18:51:35.334398Z",
     "start_time": "2024-02-25T18:51:35.256958Z"
    }
   },
   "outputs": [
    {
     "data": {
      "text/plain": [
       "28630"
      ]
     },
     "execution_count": 16,
     "metadata": {},
     "output_type": "execute_result"
    }
   ],
   "source": [
    "df.price.str.match(\".*\\.-$\").sum()"
   ]
  },
  {
   "cell_type": "code",
   "execution_count": 17,
   "metadata": {
    "ExecuteTime": {
     "end_time": "2024-02-25T18:51:35.415240Z",
     "start_time": "2024-02-25T18:51:35.340803Z"
    }
   },
   "outputs": [
    {
     "data": {
      "text/plain": [
       "28630"
      ]
     },
     "execution_count": 17,
     "metadata": {},
     "output_type": "execute_result"
    }
   ],
   "source": [
    "df.price.str.match(\"€\").sum()"
   ]
  },
  {
   "cell_type": "code",
   "execution_count": 18,
   "metadata": {
    "ExecuteTime": {
     "end_time": "2024-02-25T18:51:35.538390Z",
     "start_time": "2024-02-25T18:51:35.419289Z"
    },
    "scrolled": true
   },
   "outputs": [
    {
     "data": {
      "text/plain": [
       "14347   34450.000\n",
       "22044    3500.000\n",
       "25950    4490.000\n",
       "21412   15980.000\n",
       "2593    17450.000\n",
       "Name: price, dtype: float64"
      ]
     },
     "execution_count": 18,
     "metadata": {},
     "output_type": "execute_result"
    }
   ],
   "source": [
    "# df.price.dropna().str.match(\".*\\.-$\").sum()\n",
    "# len(df.price.dropna().apply(lambda x : re.search(\"\\.-$\", x).group()))\n",
    "df.price = df.price.str.strip(\"€.- \").str.replace(\",\",\"\").astype(float)\n",
    "df.price.sample(5)"
   ]
  },
  {
   "cell_type": "code",
   "execution_count": 19,
   "metadata": {
    "ExecuteTime": {
     "end_time": "2024-02-25T18:51:35.566989Z",
     "start_time": "2024-02-25T18:51:35.545276Z"
    }
   },
   "outputs": [
    {
     "data": {
      "text/plain": [
       "0"
      ]
     },
     "execution_count": 19,
     "metadata": {},
     "output_type": "execute_result"
    }
   ],
   "source": [
    "filtered_df = df[df['price'] == '€|.-'].count()\n",
    "filtered_df.price"
   ]
  },
  {
   "cell_type": "markdown",
   "metadata": {},
   "source": [
    "<a id=\"8\"></a>\n",
    "<div class=\"alert alert-info\" role=\"alert\">\n",
    "<h1>Column name :<span style=\"color:red\"> body_type </span></h1>\n",
    "</div>\n",
    "\n",
    "<div class=\"alert alert-block\" style=\"background-color: darkblue;\">\n",
    "<div class=\"alert alert-block alert-warning\">\n",
    "<b>Operation : </b> Let's edit the expression <span style=\"color:red\"><b>\" [\\n, Station wagon, \\n] \"</b></span> in the content of the make column. Let's remove the <span style=\"color:red\"><b> \" \\n \" and \" , \" </b></span> .\n",
    "</div>"
   ]
  },
  {
   "cell_type": "markdown",
   "metadata": {},
   "source": [
    "<a href=\"#toc\" class=\"btn btn-warning btn-lg active\" role=\"button\" aria-pressed=\"true\" style=\"color:black;\">Content</a>"
   ]
  },
  {
   "cell_type": "code",
   "execution_count": 20,
   "metadata": {
    "ExecuteTime": {
     "end_time": "2024-02-25T18:51:35.669630Z",
     "start_time": "2024-02-25T18:51:35.577570Z"
    }
   },
   "outputs": [
    {
     "data": {
      "text/plain": [
       "17006          Compact\n",
       "3027       Convertible\n",
       "23027    Station wagon\n",
       "12425            Coupe\n",
       "1044             Coupe\n",
       "Name: body_type, dtype: object"
      ]
     },
     "execution_count": 20,
     "metadata": {},
     "output_type": "execute_result"
    }
   ],
   "source": [
    "df.body_type = df.body_type.map(lambda x : x[0].split(\",\")[1].strip() if type(x) == list else x)\n",
    "df.body_type.sample(5)"
   ]
  },
  {
   "cell_type": "markdown",
   "metadata": {},
   "source": [
    "<a id=\"9\"></a>\n",
    "<div class=\"alert alert-info\" role=\"alert\">\n",
    "<h1>Column name :<span style=\"color:red\"> type </span></h1>\n",
    "</div>\n",
    "\n",
    "<div class=\"alert alert-block\" style=\"background-color: darkblue;\">\n",
    "<div class=\"alert alert-block alert-warning\">\n",
    "<b>Operation : </b> Let's edit the expression <span style=\"color:red\"><b>\" [\\n, Used, \\n] \"</b></span> in the content of the make column. Let's remove the <span style=\"color:red\"> <b>\" \\n \" and \" , \" </b></span>  .\n",
    "</div>"
   ]
  },
  {
   "cell_type": "markdown",
   "metadata": {},
   "source": [
    "<a href=\"#toc\" class=\"btn btn-warning btn-lg active\" role=\"button\" aria-pressed=\"true\" style=\"color:black;\">Content</a>"
   ]
  },
  {
   "cell_type": "code",
   "execution_count": 21,
   "metadata": {
    "ExecuteTime": {
     "end_time": "2024-02-25T18:51:35.766540Z",
     "start_time": "2024-02-25T18:51:35.675939Z"
    },
    "scrolled": true
   },
   "outputs": [
    {
     "data": {
      "text/plain": [
       "18186              Used\n",
       "25361              Used\n",
       "6623               Used\n",
       "24993    Employee's car\n",
       "12890    Employee's car\n",
       "Name: type, dtype: object"
      ]
     },
     "execution_count": 21,
     "metadata": {},
     "output_type": "execute_result"
    }
   ],
   "source": [
    "df.type = df.type.map(lambda x : x[0].split(\",\")[1].strip() if type(x) == list else x)\n",
    "df.type.sample(5)"
   ]
  },
  {
   "cell_type": "markdown",
   "metadata": {},
   "source": [
    "<a id=\"10\"></a>\n",
    "<div class=\"alert alert-info\" role=\"alert\">\n",
    "<h1>Column name :<span style=\"color:red\"> doors </span></h1>\n",
    "</div>\n",
    "\n",
    "<div class=\"alert alert-block\" style=\"background-color: darkblue;\">\n",
    "<div class=\"alert alert-block alert-warning\">\n",
    "<b>Operation : </b> Let's edit the expression <span style=\"color:red\"><b>\" [\\n, 5, \\n] \"</b></span> in the content of the make column. Let's remove the <span style=\"color:red\"><b> \" \\n \" and \" , \" </b></span> and convert float its type .\n",
    "</div>"
   ]
  },
  {
   "cell_type": "markdown",
   "metadata": {},
   "source": [
    "<a href=\"#toc\" class=\"btn btn-warning btn-lg active\" role=\"button\" aria-pressed=\"true\" style=\"color:black;\">Content</a>"
   ]
  },
  {
   "cell_type": "code",
   "execution_count": 22,
   "metadata": {
    "ExecuteTime": {
     "end_time": "2024-02-25T18:51:35.863591Z",
     "start_time": "2024-02-25T18:51:35.772692Z"
    }
   },
   "outputs": [
    {
     "data": {
      "text/plain": [
       "4652    3.000\n",
       "14492   5.000\n",
       "8958    5.000\n",
       "2538    3.000\n",
       "7268    5.000\n",
       "Name: doors, dtype: float64"
      ]
     },
     "execution_count": 22,
     "metadata": {},
     "output_type": "execute_result"
    }
   ],
   "source": [
    "df.doors = df.doors.map(lambda x : x[0].split(\",\")[1] if type(x) == list else x).astype(float)\n",
    "df.doors.sample(5)"
   ]
  },
  {
   "cell_type": "markdown",
   "metadata": {},
   "source": [
    "<a id=\"11\"></a>\n",
    "<div class=\"alert alert-info\" role=\"alert\">\n",
    "<h1>Column name :<span style=\"color:red\"> country_version </span></h1>\n",
    "</div>\n",
    "\n",
    "<div class=\"alert alert-block\" style=\"background-color: darkblue;\">\n",
    "<div class=\"alert alert-block alert-warning\">\n",
    "<b>Operation : </b> Let's edit the expression <span style=\"color:red\"><b>\" [\\n, Germany, \\n] \"</b></span> in the content of the make column. Let's remove the <span style=\"color:red\"><b> \" \\n \" and \" , \" </b></span> and convert category its type .\n",
    "</div>"
   ]
  },
  {
   "cell_type": "markdown",
   "metadata": {},
   "source": [
    "<a href=\"#toc\" class=\"btn btn-warning btn-lg active\" role=\"button\" aria-pressed=\"true\" style=\"color:black;\">Content</a>"
   ]
  },
  {
   "cell_type": "code",
   "execution_count": 23,
   "metadata": {
    "ExecuteTime": {
     "end_time": "2024-02-25T18:51:35.931070Z",
     "start_time": "2024-02-25T18:51:35.871554Z"
    }
   },
   "outputs": [
    {
     "data": {
      "text/plain": [
       "2420     Germany\n",
       "25133      Spain\n",
       "23217    Germany\n",
       "19176        NaN\n",
       "15302    Czechia\n",
       "Name: country_version, dtype: object"
      ]
     },
     "execution_count": 23,
     "metadata": {},
     "output_type": "execute_result"
    }
   ],
   "source": [
    "df.country_version = df.country_version.map(lambda x : x[0].split(\",\")[1].strip() if type(x) == list else x)\n",
    "df.country_version.sample(5)"
   ]
  },
  {
   "cell_type": "markdown",
   "metadata": {},
   "source": [
    "<a id=\"12\"></a>\n",
    "<div class=\"alert alert-info\" role=\"alert\">\n",
    "<h1>Column name :<span style=\"color:red\"> offer_number </span></h1>\n",
    "</div>\n",
    "\n",
    "<div class=\"alert alert-block\" style=\"background-color: darkblue;\">\n",
    "<div class=\"alert alert-block alert-warning\">\n",
    "<b>Operation : </b> Let's edit the expression <span style=\"color:red\"><b>\" [\\n, 1, \\n] \"</b></span> in the content of the make column. Let's remove the <span style=\"color:red\"><b> \" \\n \" and \" , \" </b></span> .\n",
    "</div>"
   ]
  },
  {
   "cell_type": "markdown",
   "metadata": {},
   "source": [
    "<a href=\"#toc\" class=\"btn btn-warning btn-lg active\" role=\"button\" aria-pressed=\"true\" style=\"color:black;\">Content</a>"
   ]
  },
  {
   "cell_type": "code",
   "execution_count": 24,
   "metadata": {
    "ExecuteTime": {
     "end_time": "2024-02-25T18:51:35.991618Z",
     "start_time": "2024-02-25T18:51:35.935471Z"
    }
   },
   "outputs": [
    {
     "data": {
      "text/plain": [
       "24886    staria_26\n",
       "26770          NaN\n",
       "17884          NaN\n",
       "15148        9221M\n",
       "27601     L1559340\n",
       "Name: offer_number, dtype: object"
      ]
     },
     "execution_count": 24,
     "metadata": {},
     "output_type": "execute_result"
    }
   ],
   "source": [
    "df.offer_number = df.offer_number.map(lambda x : x[0].strip(\"\\n ,_\") if type(x) == list else x)\n",
    "df.offer_number.sample(5)"
   ]
  },
  {
   "cell_type": "markdown",
   "metadata": {},
   "source": [
    "<a id=\"13\"></a>\n",
    "<div class=\"alert alert-info\" role=\"alert\">\n",
    "<h1>Column name :<span style=\"color:red\"> warranty </span></h1>\n",
    "</div>\n",
    "\n",
    "<div class=\"alert alert-block\" style=\"background-color: darkblue;\">\n",
    "<div class=\"alert alert-block alert-warning\">\n",
    "<b>Operation : </b> Let's edit the expression <span style=\"color:red\"><b>\" [\\n, 4 months, \\n] \"</b></span> in the content of the make column. Let's remove the <span style=\"color:red\"><b> \" \\n \" and \" , \" </b></span> .\n",
    "</div>"
   ]
  },
  {
   "cell_type": "markdown",
   "metadata": {},
   "source": [
    "<a href=\"#toc\" class=\"btn btn-warning btn-lg active\" role=\"button\" aria-pressed=\"true\" style=\"color:black;\">Content</a>"
   ]
  },
  {
   "cell_type": "code",
   "execution_count": 25,
   "metadata": {
    "ExecuteTime": {
     "end_time": "2024-02-25T18:51:36.047855Z",
     "start_time": "2024-02-25T18:51:35.995184Z"
    }
   },
   "outputs": [
    {
     "data": {
      "text/plain": [
       "18453    6 months\n",
       "27251         NaN\n",
       "21571         NaN\n",
       "15891         Yes\n",
       "9107          NaN\n",
       "Name: warranty, dtype: object"
      ]
     },
     "execution_count": 25,
     "metadata": {},
     "output_type": "execute_result"
    }
   ],
   "source": [
    "df.warranty = df.warranty.map(lambda x : x[0].strip(\"\\n ,\") if type(x) == list else x)\n",
    "df.warranty.sample(5)"
   ]
  },
  {
   "cell_type": "code",
   "execution_count": 26,
   "metadata": {
    "ExecuteTime": {
     "end_time": "2024-02-25T18:51:36.098021Z",
     "start_time": "2024-02-25T18:51:36.051001Z"
    }
   },
   "outputs": [
    {
     "data": {
      "text/plain": [
       "2319"
      ]
     },
     "execution_count": 26,
     "metadata": {},
     "output_type": "execute_result"
    }
   ],
   "source": [
    "df.warranty.str.match(\"Yes\").sum()"
   ]
  },
  {
   "cell_type": "markdown",
   "metadata": {},
   "source": [
    "<a id=\"14\"></a>\n",
    "<div class=\"alert alert-info\" role=\"alert\">\n",
    "<h1>Column name :<span style=\"color:red\"> mileage </span></h1>\n",
    "</div>\n",
    "\n",
    "<div class=\"alert alert-block\" style=\"background-color: darkblue;\">\n",
    "<div class=\"alert alert-block alert-warning\">\n",
    "<b>Operation : </b> Let's edit the expression <span style=\"color:red\"><b>\" 10 km \"</b></span> in the content of the make column. Let's remove the <span style=\"color:red\"><b> \" km \" and \" , \" </b></span> , convert float its type .\n",
    "</div>"
   ]
  },
  {
   "cell_type": "markdown",
   "metadata": {},
   "source": [
    "<a href=\"#toc\" class=\"btn btn-warning btn-lg active\" role=\"button\" aria-pressed=\"true\" style=\"color:black;\">Content</a>"
   ]
  },
  {
   "cell_type": "code",
   "execution_count": 27,
   "metadata": {
    "ExecuteTime": {
     "end_time": "2024-02-25T18:51:36.221341Z",
     "start_time": "2024-02-25T18:51:36.105394Z"
    }
   },
   "outputs": [
    {
     "data": {
      "text/plain": [
       "19503    49000.000\n",
       "12128   110000.000\n",
       "23969    24673.000\n",
       "5583    195000.000\n",
       "6475     36462.000\n",
       "Name: mileage, dtype: float64"
      ]
     },
     "execution_count": 27,
     "metadata": {},
     "output_type": "execute_result"
    }
   ],
   "source": [
    "df.mileage = df.mileage.str.strip(\"km \").str.replace(\",\", \"\").astype(float)\n",
    "df.mileage.sample(5)"
   ]
  },
  {
   "cell_type": "markdown",
   "metadata": {},
   "source": [
    "<a id=\"38\"></a>\n",
    "<div class=\"alert alert-info\" role=\"alert\">\n",
    "<h1>Column name :<span style=\"color:red\"> first_registration </span></h1>\n",
    "</div>\n",
    "\n",
    "<div class=\"alert alert-block\" style=\"background-color: darkblue;\">\n",
    "<div class=\"alert alert-block alert-warning\">\n",
    "<b>Operation : </b> Let's edit the expression <span style=\"color:red\"><b>\" 08/2022  \"</b></span> in the content of the make column. Let's get the <span style=\"color:red\"><b> year </b></span> .\n",
    "</div>"
   ]
  },
  {
   "cell_type": "markdown",
   "metadata": {},
   "source": [
    "<a href=\"#toc\" class=\"btn btn-warning btn-lg active\" role=\"button\" aria-pressed=\"true\" style=\"color:black;\">Content</a>"
   ]
  },
  {
   "cell_type": "code",
   "execution_count": 28,
   "metadata": {
    "ExecuteTime": {
     "end_time": "2024-02-25T18:51:36.394014Z",
     "start_time": "2024-02-25T18:51:36.226052Z"
    }
   },
   "outputs": [
    {
     "data": {
      "text/plain": [
       "1184     2019\n",
       "15088    2021\n",
       "16365    2017\n",
       "2170     2003\n",
       "18141    2021\n",
       "Name: first_registration, dtype: object"
      ]
     },
     "execution_count": 28,
     "metadata": {},
     "output_type": "execute_result"
    }
   ],
   "source": [
    "df.first_registration = df.first_registration.str.extract(\"/(\\d+)\")\n",
    "df.first_registration.sample(5)"
   ]
  },
  {
   "cell_type": "markdown",
   "metadata": {},
   "source": [
    "<a id=\"15\"></a>\n",
    "<div class=\"alert alert-info\" role=\"alert\">\n",
    "<h1>Column name :<span style=\"color:red\"> gearbox </span></h1>\n",
    "</div>\n",
    "\n",
    "<div class=\"alert alert-block\" style=\"background-color: darkblue;\">\n",
    "<div class=\"alert alert-block alert-warning\">\n",
    "<b>Operation : </b> Let's edit the expression <span style=\"color:red\"><b>\" [\\nManual\\n] \"</b></span> in the content of the make column. Let's remove the <span style=\"color:red\"><b> \" \\n \" </b></span> , apply title() method .\n",
    "</div>"
   ]
  },
  {
   "cell_type": "markdown",
   "metadata": {},
   "source": [
    "<a href=\"#toc\" class=\"btn btn-warning btn-lg active\" role=\"button\" aria-pressed=\"true\" style=\"color:black;\">Content</a>"
   ]
  },
  {
   "cell_type": "code",
   "execution_count": 29,
   "metadata": {
    "ExecuteTime": {
     "end_time": "2024-02-25T18:51:36.507064Z",
     "start_time": "2024-02-25T18:51:36.401548Z"
    }
   },
   "outputs": [
    {
     "data": {
      "text/plain": [
       "26961    Manual\n",
       "24692    Manual\n",
       "24375       NaN\n",
       "19056    Manual\n",
       "11696    Manual\n",
       "Name: gearbox, dtype: object"
      ]
     },
     "execution_count": 29,
     "metadata": {},
     "output_type": "execute_result"
    }
   ],
   "source": [
    "df.gearbox = df.gearbox.map(lambda x : x[0].strip() if type(x) == list else x).str.title()\n",
    "df.gearbox.sample(5)"
   ]
  },
  {
   "cell_type": "markdown",
   "metadata": {},
   "source": [
    "<a id=\"16\"></a>\n",
    "<div class=\"alert alert-info\" role=\"alert\">\n",
    "<h1>Column name :<span style=\"color:red\"> desc </span></h1>\n",
    "</div>\n",
    "\n",
    "<div class=\"alert alert-block\" style=\"background-color: darkblue;\">\n",
    "<div class=\"alert alert-block alert-warning\">\n",
    "<b>Operation : </b> Let's edit the expression <span style=\"color:red\"><b>\" [PEUGEOT 3008 BUSINESS 3008 1.6 BlueHDi 120ch S&S EAT6 Active Business] \"</b></span> in the content of the make column. Let's remove the <span style=\"color:red\"><b> \" [ ] \" </b></span> , apply title() method .\n",
    "</div>"
   ]
  },
  {
   "cell_type": "markdown",
   "metadata": {},
   "source": [
    "<a href=\"#toc\" class=\"btn btn-warning btn-lg active\" role=\"button\" aria-pressed=\"true\" style=\"color:black;\">Content</a>"
   ]
  },
  {
   "cell_type": "code",
   "execution_count": 30,
   "metadata": {
    "ExecuteTime": {
     "end_time": "2024-02-25T18:51:37.653739Z",
     "start_time": "2024-02-25T18:51:36.513616Z"
    }
   },
   "outputs": [
    {
     "data": {
      "text/plain": [
       "6519     Renault Focust Op Innovatie En Toekomstgericht...\n",
       "20988    Nissan Micra 2019 Slechts 17684 Km  Prima Staa...\n",
       "14645    Sonderausstattungen\"Adaptive Cruise Control\" B...\n",
       "16708    Marque: Daciamodèle: Sanderoversion: 0.9 Tce 9...\n",
       "1268     Interne Fahrzeugnr.: 2210567Standort: F/G/M Au...\n",
       "Name: desc, dtype: object"
      ]
     },
     "execution_count": 30,
     "metadata": {},
     "output_type": "execute_result"
    }
   ],
   "source": [
    "df.desc = df.desc.apply(lambda x : \"\".join(x).strip() if type(x) == list else x).str.title()\n",
    "df.desc.sample(5)"
   ]
  },
  {
   "cell_type": "markdown",
   "metadata": {},
   "source": [
    "<a id=\"17\"></a>\n",
    "<div class=\"alert alert-info\" role=\"alert\">\n",
    "<h1>Column name :<span style=\"color:red\"> seats </span></h1>\n",
    "</div>\n",
    "\n",
    "<div class=\"alert alert-block\" style=\"background-color: darkblue;\">\n",
    "<div class=\"alert alert-block alert-warning\">\n",
    "<b>Operation : </b> Let's edit the expression <span style=\"color:red\"><b>\" [\\n, 5, \\n] \"</b></span> in the content of the make column. Let's remove the <span style=\"color:red\"><b> \" [ ] \" and \" , \" </b></span> , convert float its type  .\n",
    "</div>"
   ]
  },
  {
   "cell_type": "markdown",
   "metadata": {},
   "source": [
    "<a href=\"#toc\" class=\"btn btn-warning btn-lg active\" role=\"button\" aria-pressed=\"true\" style=\"color:black;\">Content</a>"
   ]
  },
  {
   "cell_type": "code",
   "execution_count": 31,
   "metadata": {
    "ExecuteTime": {
     "end_time": "2024-02-25T18:51:37.702297Z",
     "start_time": "2024-02-25T18:51:37.656749Z"
    }
   },
   "outputs": [
    {
     "data": {
      "text/plain": [
       "16505   7.000\n",
       "24489   5.000\n",
       "19200   5.000\n",
       "12558   5.000\n",
       "209     5.000\n",
       "Name: seats, dtype: float64"
      ]
     },
     "execution_count": 31,
     "metadata": {},
     "output_type": "execute_result"
    }
   ],
   "source": [
    "df.seats = df.seats.map(lambda x : x[0].strip(\",\\n \") if type(x) == list else x).astype(float)\n",
    "df.seats.sample(5)"
   ]
  },
  {
   "cell_type": "markdown",
   "metadata": {},
   "source": [
    "<a id=\"18\"></a>\n",
    "<div class=\"alert alert-info\" role=\"alert\">\n",
    "<h1>Column name :<span style=\"color:red\"> power </span></h1>\n",
    "</div>\n",
    "\n",
    "<div class=\"alert alert-block\" style=\"background-color: darkblue;\">\n",
    "<div class=\"alert alert-block alert-warning\">\n",
    "<b>Operation : </b> Let's edit the expression <span style=\"color:red\"><b> \" [\\n110 kW (150 hp)\\n] \"</b></span> in the content of the make column . Let's remove the <span style=\"color:red\"><b> \" \\n \" and \" [ ] \" </b></span> ,  convert float its type . So I will take the <span style=\"color:red\"><b>\" hp \"</b></span> value , because horsepower unit is used commonly .\n",
    "</div>"
   ]
  },
  {
   "cell_type": "markdown",
   "metadata": {},
   "source": [
    "<a href=\"#toc\" class=\"btn btn-warning btn-lg active\" role=\"button\" aria-pressed=\"true\" style=\"color:black;\">Content</a>"
   ]
  },
  {
   "cell_type": "code",
   "execution_count": 32,
   "metadata": {
    "ExecuteTime": {
     "end_time": "2024-02-25T18:51:37.875481Z",
     "start_time": "2024-02-25T18:51:37.709313Z"
    }
   },
   "outputs": [
    {
     "data": {
      "text/plain": [
       "20462       NaN\n",
       "22725   150.000\n",
       "21350   120.000\n",
       "23071   190.000\n",
       "3618    131.000\n",
       "Name: power, dtype: float64"
      ]
     },
     "execution_count": 32,
     "metadata": {},
     "output_type": "execute_result"
    }
   ],
   "source": [
    "df.power = df.power.map(lambda x : x[0].strip(\"\\n \").replace(\",\",\"\") if type(x) == list else x).str.extract(\".*\\((\\d+.*\\d*) \").astype(float)\n",
    "df.power.sample(5)\n",
    "\n",
    "# Generally, 1 kW is approximately equal to 1.36 hp."
   ]
  },
  {
   "cell_type": "code",
   "execution_count": 33,
   "metadata": {
    "ExecuteTime": {
     "end_time": "2024-02-25T18:51:37.885516Z",
     "start_time": "2024-02-25T18:51:37.879492Z"
    }
   },
   "outputs": [],
   "source": [
    "#list(df.power.map(lambda x : x[0].strip(\"\\n \").replace(\",\",\"\") if type(x) == list else x).str.extract(\".*\\((\\d+.*\\d*) \").astype(float).value_counts().index)"
   ]
  },
  {
   "cell_type": "code",
   "execution_count": 34,
   "metadata": {
    "ExecuteTime": {
     "end_time": "2024-02-25T18:51:37.901059Z",
     "start_time": "2024-02-25T18:51:37.889532Z"
    }
   },
   "outputs": [],
   "source": [
    "# list(df['power'].str.join(\",\").str.replace(',','').str.extract(\"\\((\\d+,*\\d*)\").astype('float').value_counts().index)"
   ]
  },
  {
   "cell_type": "markdown",
   "metadata": {},
   "source": [
    "<a id=\"19\"></a>\n",
    "<div class=\"alert alert-info\" role=\"alert\">\n",
    "<h1>Column name :<span style=\"color:red\"> engine_size </span></h1>\n",
    "</div>\n",
    "\n",
    "<div class=\"alert alert-block\" style=\"background-color: darkblue;\">\n",
    "<div class=\"alert alert-block alert-warning\">\n",
    "<b>Operation : </b> Let's edit the expression <span style=\"color:red\"><b>\" [\\n1,598 cc\\n] \"</b></span> in the content of the make column. Let's remove the <span style=\"color:red\"><b> \"\\n\" , \" , \" , \" cc \" and \" [ ] \" </b></span> , convert float its type , make round one digit after comma .\n",
    "</div>"
   ]
  },
  {
   "cell_type": "markdown",
   "metadata": {},
   "source": [
    "<a href=\"#toc\" class=\"btn btn-warning btn-lg active\" role=\"button\" aria-pressed=\"true\" style=\"color:black;\">Content</a>"
   ]
  },
  {
   "cell_type": "code",
   "execution_count": 35,
   "metadata": {
    "ExecuteTime": {
     "end_time": "2024-02-25T18:51:38.092223Z",
     "start_time": "2024-02-25T18:51:37.911164Z"
    }
   },
   "outputs": [],
   "source": [
    "df.engine_size = (df.engine_size.map(lambda x: x[0].strip(\"\\n c\").replace(\",\", \"\") if type(x) == list else x).astype(float) / 1000).astype(str).str.extract(\"(\\d+\\.*\\d)\").astype(float)\n",
    "\n",
    "# Engine size is commonly expressed as a single-digit floating-point value."
   ]
  },
  {
   "cell_type": "code",
   "execution_count": 36,
   "metadata": {
    "ExecuteTime": {
     "end_time": "2024-02-25T18:51:38.121169Z",
     "start_time": "2024-02-25T18:51:38.098370Z"
    },
    "run_control": {
     "marked": true
    }
   },
   "outputs": [
    {
     "data": {
      "text/plain": [
       "3667    1.300\n",
       "3537    1.300\n",
       "11917   0.900\n",
       "5505    1.100\n",
       "17107     NaN\n",
       "Name: engine_size, dtype: float64"
      ]
     },
     "execution_count": 36,
     "metadata": {},
     "output_type": "execute_result"
    }
   ],
   "source": [
    "df.engine_size.sample(5)"
   ]
  },
  {
   "cell_type": "code",
   "execution_count": 37,
   "metadata": {
    "ExecuteTime": {
     "end_time": "2024-02-25T18:51:38.152525Z",
     "start_time": "2024-02-25T18:51:38.129762Z"
    }
   },
   "outputs": [
    {
     "data": {
      "text/plain": [
       "array([ nan,  0. ,  1.9,  2.1,  1.7,  1.4,  1.3,  2. ,  1.5,  1.6,  3.9,\n",
       "        0.3,  2.9,  2.7,  4.9,  3.4,  6.2,  5.4,  5.9,  3.7,  2.2,  4.6,\n",
       "        3. ,  2.3,  5.6,  5.5,  6.3, 19.1,  3.2,  2.5,  3.1,  4.4,  5.7,\n",
       "        2.6,  3.6,  2.4,  4.1,  1.2,  1.1,  0.9,  1.8,  0.2,  2.8,  0.8,\n",
       "        1. ,  0.7, 16.9,  0.4,  0.6,  0.5,  3.5, 16.5, 99.9,  3.8,  4.5,\n",
       "        5. ,  4. ,  4.8,  4.2,  4.7, 54. ,  5.8,  6.4,  5.3,  5.2,  5.1,\n",
       "        8.6,  6.6,  6. ,  3.3])"
      ]
     },
     "execution_count": 37,
     "metadata": {},
     "output_type": "execute_result"
    }
   ],
   "source": [
    "df.engine_size.unique()"
   ]
  },
  {
   "cell_type": "markdown",
   "metadata": {},
   "source": [
    "<a id=\"20\"></a>\n",
    "<div class=\"alert alert-info\" role=\"alert\">\n",
    "<h1>Column name :<span style=\"color:red\"> gears </span></h1>\n",
    "</div>\n",
    "\n",
    "<div class=\"alert alert-block\" style=\"background-color: darkblue;\">\n",
    "<div class=\"alert alert-block alert-warning\">\n",
    "<b>Operation : </b> Let's edit the expression <span style=\"color:red\"><b>\" [\\n6\\n] \"</b></span> in the content of the make column. Let's remove the <span style=\"color:red\"><b> \" \\n \"  and \" [ ] \" </b></span> , convert float its type  .\n",
    "</div>"
   ]
  },
  {
   "cell_type": "markdown",
   "metadata": {},
   "source": [
    "<a href=\"#toc\" class=\"btn btn-warning btn-lg active\" role=\"button\" aria-pressed=\"true\" style=\"color:black;\">Content</a>"
   ]
  },
  {
   "cell_type": "code",
   "execution_count": 38,
   "metadata": {
    "ExecuteTime": {
     "end_time": "2024-02-25T18:51:38.216241Z",
     "start_time": "2024-02-25T18:51:38.160465Z"
    }
   },
   "outputs": [
    {
     "data": {
      "text/plain": [
       "28729   8.000\n",
       "16599   5.000\n",
       "27635   8.000\n",
       "21270     NaN\n",
       "25299   6.000\n",
       "Name: gears, dtype: float64"
      ]
     },
     "execution_count": 38,
     "metadata": {},
     "output_type": "execute_result"
    }
   ],
   "source": [
    "df.gears = df.gears.map(lambda x : x[0].strip(\"\\n \") if type(x) == list else x).astype(float)\n",
    "df.gears.sample(5)"
   ]
  },
  {
   "cell_type": "markdown",
   "metadata": {},
   "source": [
    "<a id=\"21\"></a>\n",
    "<div class=\"alert alert-info\" role=\"alert\">\n",
    "<h1>Column name :<span style=\"color:red\"> co_emissions </span></h1>\n",
    "</div>\n",
    "\n",
    "<div class=\"alert alert-block\" style=\"background-color: darkblue;\">\n",
    "<div class=\"alert alert-block alert-warning\">\n",
    "<b>Operation : </b> Let's edit the expression <span style=\"color:red\"><b> \" 0 g/km (comb.) \"</b></span> in the content of the make column. Let's remove the <span style=\"color:red\"><b> \" g/km \" , and \" (comb.) \" </b></span> , convert float its type  .\n",
    "</div>"
   ]
  },
  {
   "cell_type": "markdown",
   "metadata": {},
   "source": [
    "<a href=\"#toc\" class=\"btn btn-warning btn-lg active\" role=\"button\" aria-pressed=\"true\" style=\"color:black;\">Content</a>"
   ]
  },
  {
   "cell_type": "code",
   "execution_count": 39,
   "metadata": {
    "ExecuteTime": {
     "end_time": "2024-02-25T18:51:38.336115Z",
     "start_time": "2024-02-25T18:51:38.223249Z"
    },
    "scrolled": true
   },
   "outputs": [
    {
     "data": {
      "text/plain": [
       "26488   167.000\n",
       "9073     96.000\n",
       "22311       NaN\n",
       "19539       NaN\n",
       "14624   139.000\n",
       "Name: co_emissions, dtype: float64"
      ]
     },
     "execution_count": 39,
     "metadata": {},
     "output_type": "execute_result"
    }
   ],
   "source": [
    "df.co_emissions = df.co_emissions.apply(lambda x : re.search(\"(\\d+\\.*\\d*)\", x).group(1) if type(x) == str else x).astype(float)\n",
    "df.co_emissions.sample(5)"
   ]
  },
  {
   "cell_type": "code",
   "execution_count": 40,
   "metadata": {
    "ExecuteTime": {
     "end_time": "2024-02-25T18:51:38.348526Z",
     "start_time": "2024-02-25T18:51:38.341142Z"
    }
   },
   "outputs": [],
   "source": [
    "#df['co_emissions'] = df['co_emissions'].str.extract('(\\d+\\.\\d)').astype(float)"
   ]
  },
  {
   "cell_type": "markdown",
   "metadata": {},
   "source": [
    "<a id=\"22\"></a>\n",
    "<div class=\"alert alert-info\" role=\"alert\">\n",
    "<h1>Column name :<span style=\"color:red\"> manufacturer_colour </span></h1>\n",
    "</div>\n",
    "\n",
    "<div class=\"alert alert-block\" style=\"background-color: darkblue;\">\n",
    "<div class=\"alert alert-block alert-warning\">\n",
    "<b>Operation : </b> Let's edit the expression <span style=\"color:red\"> <b>\" ICE WHITE (wit metallic) \" ,\"Gris Platinium.\",  \"Magnetic-Grau ()\", \"-\", \"Thunder Grey /\", \"Schnee Weiß (Uni) (Weiß\",  </b></span> in the content of the make column. Let's apply the <span style=\"color:red\"><b> title() method </b></span> .\n",
    "</div>"
   ]
  },
  {
   "cell_type": "markdown",
   "metadata": {},
   "source": [
    "<a href=\"#toc\" class=\"btn btn-warning btn-lg active\" role=\"button\" aria-pressed=\"true\" style=\"color:black;\">Content</a>"
   ]
  },
  {
   "cell_type": "code",
   "execution_count": 41,
   "metadata": {
    "ExecuteTime": {
     "end_time": "2024-02-25T18:51:38.449662Z",
     "start_time": "2024-02-25T18:51:38.374650Z"
    },
    "scrolled": true
   },
   "outputs": [
    {
     "data": {
      "text/plain": [
       "13392    Midnight Schwarz Metallic\n",
       "9310                          Grau\n",
       "607           Selenitgrau Metallic\n",
       "13334               Grijs Metallic\n",
       "5587                           NaN\n",
       "Name: manufacturer_colour, dtype: object"
      ]
     },
     "execution_count": 41,
     "metadata": {},
     "output_type": "execute_result"
    }
   ],
   "source": [
    "df.manufacturer_colour = df.manufacturer_colour.str.title()\n",
    "df.manufacturer_colour.sample(5)"
   ]
  },
  {
   "cell_type": "code",
   "execution_count": 42,
   "metadata": {
    "ExecuteTime": {
     "end_time": "2024-02-25T18:51:38.505987Z",
     "start_time": "2024-02-25T18:51:38.456564Z"
    },
    "scrolled": true
   },
   "outputs": [
    {
     "data": {
      "text/plain": [
       "4993        nan\n",
       "7151       Bleu\n",
       "10852      Noir\n",
       "9150     Blanco\n",
       "5492        nan\n",
       "Name: manufacturer_colour, dtype: object"
      ]
     },
     "execution_count": 42,
     "metadata": {},
     "output_type": "execute_result"
    }
   ],
   "source": [
    "\n",
    "df['manufacturer_colour'] = df['manufacturer_colour'].astype(str).apply(lambda x: x + ')' if '(' in x and ')' not in x else x)\n",
    "df.manufacturer_colour.sample(5)"
   ]
  },
  {
   "cell_type": "code",
   "execution_count": 43,
   "metadata": {
    "ExecuteTime": {
     "end_time": "2024-02-25T18:51:38.630494Z",
     "start_time": "2024-02-25T18:51:38.512247Z"
    }
   },
   "outputs": [],
   "source": [
    "df['manufacturer_colour'] = df['manufacturer_colour'].replace(r'[\\s\\(\\)/\\\\]*\\.?$','',regex=True)"
   ]
  },
  {
   "cell_type": "code",
   "execution_count": 44,
   "metadata": {
    "ExecuteTime": {
     "end_time": "2024-02-25T18:51:38.652660Z",
     "start_time": "2024-02-25T18:51:38.639138Z"
    }
   },
   "outputs": [
    {
     "data": {
      "text/plain": [
       "'Thunder Grey'"
      ]
     },
     "execution_count": 44,
     "metadata": {},
     "output_type": "execute_result"
    }
   ],
   "source": [
    "df['manufacturer_colour'][27551]"
   ]
  },
  {
   "cell_type": "code",
   "execution_count": 45,
   "metadata": {
    "ExecuteTime": {
     "end_time": "2024-02-25T18:51:38.665225Z",
     "start_time": "2024-02-25T18:51:38.657202Z"
    }
   },
   "outputs": [
    {
     "data": {
      "text/plain": [
       "'Magnetic-Grau'"
      ]
     },
     "execution_count": 45,
     "metadata": {},
     "output_type": "execute_result"
    }
   ],
   "source": [
    "df['manufacturer_colour'][21748]"
   ]
  },
  {
   "cell_type": "code",
   "execution_count": 46,
   "metadata": {
    "ExecuteTime": {
     "end_time": "2024-02-25T18:51:38.680484Z",
     "start_time": "2024-02-25T18:51:38.669258Z"
    }
   },
   "outputs": [
    {
     "data": {
      "text/plain": [
       "'Velvetrotmet'"
      ]
     },
     "execution_count": 46,
     "metadata": {},
     "output_type": "execute_result"
    }
   ],
   "source": [
    "df['manufacturer_colour'][14351]"
   ]
  },
  {
   "cell_type": "code",
   "execution_count": 47,
   "metadata": {
    "ExecuteTime": {
     "end_time": "2024-02-25T18:51:38.718744Z",
     "start_time": "2024-02-25T18:51:38.686032Z"
    }
   },
   "outputs": [],
   "source": [
    "df['manufacturer_colour'] = df['manufacturer_colour'].replace('-',np.nan)"
   ]
  },
  {
   "cell_type": "code",
   "execution_count": 48,
   "metadata": {
    "ExecuteTime": {
     "end_time": "2024-02-25T18:51:38.739637Z",
     "start_time": "2024-02-25T18:51:38.723870Z"
    }
   },
   "outputs": [
    {
     "data": {
      "text/plain": [
       "nan"
      ]
     },
     "execution_count": 48,
     "metadata": {},
     "output_type": "execute_result"
    }
   ],
   "source": [
    "df['manufacturer_colour'][27039]"
   ]
  },
  {
   "cell_type": "code",
   "execution_count": 49,
   "metadata": {
    "ExecuteTime": {
     "end_time": "2024-02-25T18:51:38.879580Z",
     "start_time": "2024-02-25T18:51:38.746718Z"
    }
   },
   "outputs": [],
   "source": [
    "df['manufacturer_colour'] = df['manufacturer_colour'].str.replace(r'(\\([^)]*)$', r'\\1)', regex=True)\n"
   ]
  },
  {
   "cell_type": "code",
   "execution_count": 50,
   "metadata": {
    "ExecuteTime": {
     "end_time": "2024-02-25T18:51:38.892750Z",
     "start_time": "2024-02-25T18:51:38.884137Z"
    }
   },
   "outputs": [
    {
     "data": {
      "text/plain": [
       "'Schnee Weiß (Uni) (Weiß)'"
      ]
     },
     "execution_count": 50,
     "metadata": {},
     "output_type": "execute_result"
    }
   ],
   "source": [
    "df['manufacturer_colour'][2732]"
   ]
  },
  {
   "cell_type": "markdown",
   "metadata": {},
   "source": [
    "<a id=\"23\"></a>\n",
    "<div class=\"alert alert-info\" role=\"alert\">\n",
    "<h1>Column name :<span style=\"color:red\"> drivetrain </span></h1>\n",
    "</div>\n",
    "\n",
    "<div class=\"alert alert-block\" style=\"background-color: darkblue;\">\n",
    "<div class=\"alert alert-block alert-warning\">\n",
    "<b>Operation : </b> Let's edit the expression <span style=\"color:red\"><b> \" [\\n, Front, \\n] \"</b></span> in the content of the make column. Let's remove the <span style=\"color:red\"><b> \" [ ] \" , \" , \" and \" \\n \" </b></span>  .\n",
    "</div>"
   ]
  },
  {
   "cell_type": "markdown",
   "metadata": {},
   "source": [
    "<a href=\"#toc\" class=\"btn btn-warning btn-lg active\" role=\"button\" aria-pressed=\"true\" style=\"color:black;\">Content</a>"
   ]
  },
  {
   "cell_type": "code",
   "execution_count": 51,
   "metadata": {
    "ExecuteTime": {
     "end_time": "2024-02-25T18:51:38.942228Z",
     "start_time": "2024-02-25T18:51:38.897682Z"
    }
   },
   "outputs": [
    {
     "data": {
      "text/plain": [
       "9561       NaN\n",
       "4161       NaN\n",
       "21442    Front\n",
       "23284      NaN\n",
       "27381      NaN\n",
       "Name: drivetrain, dtype: object"
      ]
     },
     "execution_count": 51,
     "metadata": {},
     "output_type": "execute_result"
    }
   ],
   "source": [
    "df.drivetrain = df.drivetrain.map(lambda x : x[0].strip(\",\\n \") if type(x) == list else x)\n",
    "df.drivetrain.sample(5)"
   ]
  },
  {
   "cell_type": "markdown",
   "metadata": {},
   "source": [
    "<a id=\"24\"></a>\n",
    "<div class=\"alert alert-info\" role=\"alert\">\n",
    "<h1>Column name :<span style=\"color:red\"> cylinders </span></h1>\n",
    "</div>\n",
    "\n",
    "<div class=\"alert alert-block\" style=\"background-color: darkblue;\">\n",
    "<div class=\"alert alert-block alert-warning\">\n",
    "<b>Operation : </b> Let's edit the expression <span style=\"color:red\"><b> \" [\\n4\\n] \"</b></span> in the content of the make column. Let's remove the <span style=\"color:red\"><b> \" [ ] \"  and \" \\n \" </b></span> , convert float its type  .\n",
    "</div>"
   ]
  },
  {
   "cell_type": "markdown",
   "metadata": {},
   "source": [
    "<a href=\"#toc\" class=\"btn btn-warning btn-lg active\" role=\"button\" aria-pressed=\"true\" style=\"color:black;\">Content</a>"
   ]
  },
  {
   "cell_type": "code",
   "execution_count": 52,
   "metadata": {
    "ExecuteTime": {
     "end_time": "2024-02-25T18:51:38.992510Z",
     "start_time": "2024-02-25T18:51:38.946335Z"
    }
   },
   "outputs": [
    {
     "data": {
      "text/plain": [
       "4754    3.000\n",
       "11723   4.000\n",
       "25742     NaN\n",
       "13549   3.000\n",
       "10885     NaN\n",
       "Name: cylinders, dtype: float64"
      ]
     },
     "execution_count": 52,
     "metadata": {},
     "output_type": "execute_result"
    }
   ],
   "source": [
    "df.cylinders = df.cylinders.map(lambda x : x[0].strip(\"\\n \") if type(x) == list else x).astype(float)\n",
    "df.cylinders.sample(5)"
   ]
  },
  {
   "cell_type": "markdown",
   "metadata": {},
   "source": [
    "<a id=\"25\"></a>\n",
    "<div class=\"alert alert-info\" role=\"alert\">\n",
    "<h1>Column name :<span style=\"color:red\"> fuel_consumption </span></h1>\n",
    "</div>\n",
    "\n",
    "<div class=\"alert alert-block\" style=\"background-color: darkblue;\">\n",
    "<div class=\"alert alert-block alert-warning\">\n",
    "<b>Operation : </b> Let's edit the expression <span style=\"color:red\"><b> \" [\\n4\\n] \"</b></span> in the content of the make column. Let's remove the <span style=\"color:red\"><b> \" [ ] \"  and \" \\n \" </b></span> , convert float its type  . I will extract the combined fuel consumption indicated as <span style=\"color:red\"><b> \" comb. \" </b></span> . In addition, I will perform conversions for fuel values entered in kilograms based on the formula <span style=\"color:red\"><b> density = mass / volume </b></span> . I will divide the values in the columns by the <span style=\"color:red\"><b> densities </b></span> corresponding to the <span style=\"color:red\"><b> fuel types </b></span> .\n",
    "</div> "
   ]
  },
  {
   "cell_type": "markdown",
   "metadata": {},
   "source": [
    "<a href=\"#toc\" class=\"btn btn-warning btn-lg active\" role=\"button\" aria-pressed=\"true\" style=\"color:black;\">Content</a>"
   ]
  },
  {
   "cell_type": "code",
   "execution_count": 53,
   "metadata": {
    "ExecuteTime": {
     "end_time": "2024-02-25T18:51:39.062947Z",
     "start_time": "2024-02-25T18:51:39.001331Z"
    }
   },
   "outputs": [],
   "source": [
    "df.fuel_consumption = df.fuel_consumption.apply(lambda x: \"\".join([item for sublist in x for item in sublist]) if isinstance(x, list) else x)"
   ]
  },
  {
   "cell_type": "code",
   "execution_count": 54,
   "metadata": {
    "ExecuteTime": {
     "end_time": "2024-02-25T18:51:39.077539Z",
     "start_time": "2024-02-25T18:51:39.065963Z"
    }
   },
   "outputs": [
    {
     "data": {
      "text/plain": [
       "0                                                      NaN\n",
       "1                                                      NaN\n",
       "2        8.4 l/100 km (comb.)10.9 l/100 km (city)5.8 l/...\n",
       "3        7.3 l/100 km (comb.)9.3 l/100 km (city)6.1 l/1...\n",
       "4        4.9 l/100 km (comb.)5.7 l/100 km (city)4.4 l/1...\n",
       "                               ...                        \n",
       "29475    9.1 l/100 km (comb.)13.2 l/100 km (city)6.7 l/...\n",
       "29476    3.8 l/100 km (comb.)4.3 l/100 km (city)3.5 l/1...\n",
       "29477    6.5 l/100 km (comb.)8.6 l/100 km (city)5.3 l/1...\n",
       "29478    10.4 l/100 km (comb.)15.3 l/100 km (city)7.6 l...\n",
       "29479                                                  NaN\n",
       "Name: fuel_consumption, Length: 29480, dtype: object"
      ]
     },
     "execution_count": 54,
     "metadata": {},
     "output_type": "execute_result"
    }
   ],
   "source": [
    "df.fuel_consumption"
   ]
  },
  {
   "cell_type": "code",
   "execution_count": 55,
   "metadata": {
    "ExecuteTime": {
     "end_time": "2024-02-25T18:51:39.215604Z",
     "start_time": "2024-02-25T18:51:39.080549Z"
    }
   },
   "outputs": [],
   "source": [
    "kg_consist = df[df.fuel_consumption.str.match(\"\\d+.*\\d* (kg/100)\") == True]"
   ]
  },
  {
   "cell_type": "code",
   "execution_count": 56,
   "metadata": {
    "ExecuteTime": {
     "end_time": "2024-02-25T18:51:39.229769Z",
     "start_time": "2024-02-25T18:51:39.223246Z"
    }
   },
   "outputs": [],
   "source": [
    "kg_index = kg_consist[\"fuel_consumption\"].index"
   ]
  },
  {
   "cell_type": "code",
   "execution_count": 57,
   "metadata": {
    "ExecuteTime": {
     "end_time": "2024-02-25T18:51:39.262512Z",
     "start_time": "2024-02-25T18:51:39.237390Z"
    },
    "scrolled": true
   },
   "outputs": [
    {
     "data": {
      "text/plain": [
       "fuel_type\n",
       "CNG                                                                                              86\n",
       "Domestic gas H                                                                                   22\n",
       "Domestic gas L                                                                                    8\n",
       "CNG (Particle filter)                                                                             8\n",
       "Domestic gas L (Particle filter)                                                                  1\n",
       "Biogas                                                                                            1\n",
       "Domestic gas H / Super E10 95 / Super Plus E10 98 / Super 95 / Super Plus 98 / Domestic gas L     1\n",
       "Domestic gas L / Super 95 / Domestic gas H                                                        1\n",
       "Hydrogen                                                                                          1\n",
       "Name: count, dtype: int64"
      ]
     },
     "execution_count": 57,
     "metadata": {},
     "output_type": "execute_result"
    }
   ],
   "source": [
    "df.loc[kg_index,\"fuel_type\"].value_counts()"
   ]
  },
  {
   "cell_type": "code",
   "execution_count": 58,
   "metadata": {
    "ExecuteTime": {
     "end_time": "2024-02-25T18:51:40.529623Z",
     "start_time": "2024-02-25T18:51:39.266048Z"
    }
   },
   "outputs": [],
   "source": [
    "cng = df[(df.fuel_consumption.str.match(\"\\d+.*\\d* (kg/100)\") == True) & (df[\"fuel_type\"] == \"CNG\")].index\n",
    "do_l = df[(df.fuel_consumption.str.match(\"\\d+.*\\d* (kg/100)\") == True) & (df[\"fuel_type\"] == \"Domestic gas L\")].index\n",
    "do_h = df[(df.fuel_consumption.str.match(\"\\d+.*\\d* (kg/100)\") == True) & (df[\"fuel_type\"] == \"Domestic gas H\")].index\n",
    "cng_partic = df[(df.fuel_consumption.str.match(\"\\d+.*\\d* (kg/100)\") == True) & (df[\"fuel_type\"] == \"CNG (Particle filter)\")].index\n",
    "do_l_partic = df[(df.fuel_consumption.str.match(\"\\d+.*\\d* (kg/100)\") == True) & (df[\"fuel_type\"] == \"Domestic gas L (Particle filter)\")].index\n",
    "biogas = df[(df.fuel_consumption.str.match(\"\\d+.*\\d* (kg/100)\") == True) & (df[\"fuel_type\"] == \"Biogas\")].index\n",
    "do_sup_plus = df[(df.fuel_consumption.str.match(\"\\d+.*\\d* (kg/100)\") == True) & (df[\"fuel_type\"] == \"Domestic gas H / Super E10 95 / Super Plus E10 98 / Super 95 / Super Plus 98 / Domestic gas L\")].index\n",
    "do_sup = df[(df.fuel_consumption.str.match(\"\\d+.*\\d* (kg/100)\") == True) & (df[\"fuel_type\"] == \"Domestic gas L / Super 95 / Domestic gas H\")].index\n",
    "hydrogen = df[(df.fuel_consumption.str.match(\"\\d+.*\\d* (kg/100)\") == True) & (df[\"fuel_type\"] == \"Hydrogen\")].index"
   ]
  },
  {
   "cell_type": "code",
   "execution_count": 59,
   "metadata": {
    "ExecuteTime": {
     "end_time": "2024-02-25T18:51:40.543940Z",
     "start_time": "2024-02-25T18:51:40.534449Z"
    }
   },
   "outputs": [],
   "source": [
    "density =  [0.735, 1, 0.6, 0.735, 0.65, 0.8, 0.76, 0.75, 0.09 ]\n",
    "variable = [cng, do_l, do_h, cng_partic, do_l_partic, biogas, do_sup_plus, do_sup, hydrogen]\n",
    "object_type = [\"CNG\", \n",
    "               \"Domestic gas L\", \n",
    "               \"Domestic gas H\", \n",
    "               \"CNG (Particle filter)\", \n",
    "               \"Domestic gas L (Particle filter)\", \n",
    "               \"Biogas\",\n",
    "               \"Domestic gas H / Super E10 95 / Super Plus E10 98 / Super 95 / Super Plus 98 / Domestic gas L\",\n",
    "               \"Domestic gas L / Super 95 / Domestic gas H\",\n",
    "               \"Hydrogen\"]"
   ]
  },
  {
   "cell_type": "code",
   "execution_count": 60,
   "metadata": {
    "ExecuteTime": {
     "end_time": "2024-02-25T18:51:40.707105Z",
     "start_time": "2024-02-25T18:51:40.547358Z"
    }
   },
   "outputs": [],
   "source": [
    "df.fuel_consumption = df['fuel_consumption'].str.extract(r'^(\\d+\\.*\\d*)').astype(\"float64\")"
   ]
  },
  {
   "cell_type": "code",
   "execution_count": 61,
   "metadata": {
    "ExecuteTime": {
     "end_time": "2024-02-25T18:51:40.732224Z",
     "start_time": "2024-02-25T18:51:40.715702Z"
    }
   },
   "outputs": [
    {
     "data": {
      "text/plain": [
       "13505   3.300\n",
       "Name: fuel_consumption, dtype: float64"
      ]
     },
     "execution_count": 61,
     "metadata": {},
     "output_type": "execute_result"
    }
   ],
   "source": [
    "df.loc[biogas, \"fuel_consumption\"] # I expect it to be 4.1 (3.3 / 0.8 = 4.1)"
   ]
  },
  {
   "cell_type": "code",
   "execution_count": 62,
   "metadata": {
    "ExecuteTime": {
     "end_time": "2024-02-25T18:51:40.758004Z",
     "start_time": "2024-02-25T18:51:40.738765Z"
    },
    "run_control": {
     "marked": true
    }
   },
   "outputs": [
    {
     "data": {
      "text/plain": [
       "fuel_consumption\n",
       "5.000     831\n",
       "4.900     812\n",
       "4.500     690\n",
       "0.000     652\n",
       "5.100     647\n",
       "         ... \n",
       "16.000      1\n",
       "57.000      1\n",
       "61.000      1\n",
       "14.500      1\n",
       "44.000      1\n",
       "Name: count, Length: 161, dtype: int64"
      ]
     },
     "execution_count": 62,
     "metadata": {},
     "output_type": "execute_result"
    }
   ],
   "source": [
    "df.fuel_consumption.value_counts()"
   ]
  },
  {
   "cell_type": "code",
   "execution_count": 63,
   "metadata": {
    "ExecuteTime": {
     "end_time": "2024-02-25T18:51:40.915013Z",
     "start_time": "2024-02-25T18:51:40.761019Z"
    }
   },
   "outputs": [],
   "source": [
    "df.loc[cng, \"fuel_consumption\"] = (df[df[\"fuel_type\"] == \"CNG\"][\"fuel_consumption\"].dropna() / 0.735).round(1)\n",
    "df.loc[do_l, \"fuel_consumption\"] = (df[df[\"fuel_type\"] == \"Domestic gas L\"][\"fuel_consumption\"].dropna() / 1 ).round(1)\n",
    "df.loc[do_h, \"fuel_consumption\"] = (df[df[\"fuel_type\"] == \"Domestic gas H\"][\"fuel_consumption\"].dropna() / 0.6 ).round(1)\n",
    "df.loc[cng_partic, \"fuel_consumption\"] = (df[df[\"fuel_type\"] == \"CNG (Particle filter)\"][\"fuel_consumption\"].dropna() / 0.735 ).round(1)\n",
    "df.loc[do_l_partic, \"fuel_consumption\"] = (df[df[\"fuel_type\"] == \"Domestic gas L (Particle filter)\"][\"fuel_consumption\"].dropna() / 0.65 ).round(1)\n",
    "df.loc[biogas, \"fuel_consumption\"] = (df[df[\"fuel_type\"] == \"Biogas\"][\"fuel_consumption\"].dropna() / 0.8 ).round(1)\n",
    "df.loc[do_sup_plus, \"fuel_consumption\"] = (df[df[\"fuel_type\"] == \"Domestic gas H / Super E10 95 / Super Plus E10 98 / Super 95 / Super Plus 98 / Domestic gas L\"][\"fuel_consumption\"].dropna() / 0.76 ).round(1)\n",
    "df.loc[do_sup, \"fuel_consumption\"] = (df[df[\"fuel_type\"] == \"Domestic gas L / Super 95 / Domestic gas H\"][\"fuel_consumption\"].dropna() / 0.75 ).round(1)\n",
    "df.loc[hydrogen, \"fuel_consumption\"] = (df[df[\"fuel_type\"] == \"Hydrogen\"][\"fuel_consumption\"].dropna() / 0.09 ).round(1)"
   ]
  },
  {
   "cell_type": "code",
   "execution_count": 64,
   "metadata": {
    "ExecuteTime": {
     "end_time": "2024-02-25T18:51:40.934042Z",
     "start_time": "2024-02-25T18:51:40.918126Z"
    }
   },
   "outputs": [
    {
     "data": {
      "text/plain": [
       "13505   4.100\n",
       "Name: fuel_consumption, dtype: float64"
      ]
     },
     "execution_count": 64,
     "metadata": {},
     "output_type": "execute_result"
    }
   ],
   "source": [
    "df.loc[biogas, \"fuel_consumption\"]"
   ]
  },
  {
   "cell_type": "code",
   "execution_count": 65,
   "metadata": {
    "ExecuteTime": {
     "end_time": "2024-02-25T18:51:40.961568Z",
     "start_time": "2024-02-25T18:51:40.941073Z"
    }
   },
   "outputs": [
    {
     "data": {
      "text/plain": [
       "fuel_consumption\n",
       "5.000     820\n",
       "4.900     812\n",
       "4.500     691\n",
       "0.000     652\n",
       "5.100     639\n",
       "         ... \n",
       "16.000      1\n",
       "57.000      1\n",
       "61.000      1\n",
       "14.500      1\n",
       "44.000      1\n",
       "Name: count, Length: 161, dtype: int64"
      ]
     },
     "execution_count": 65,
     "metadata": {},
     "output_type": "execute_result"
    }
   ],
   "source": [
    "df.fuel_consumption.value_counts()"
   ]
  },
  {
   "cell_type": "markdown",
   "metadata": {},
   "source": [
    "<a id=\"26\"></a>\n",
    "<div class=\"alert alert-info\" role=\"alert\">\n",
    "<h1>Column name :<span style=\"color:red\"> fuel_type </span></h1>\n",
    "</div>\n",
    "\n",
    "<div class=\"alert alert-block\" style=\"background-color: darkblue;\">\n",
    "<div class=\"alert alert-block alert-warning\">\n",
    "<b>Operation : </b> Let's categorize the values in the column as <span style=\"color:red\"><b> \" Benzine \" ,\" Lpg \" , \" Electric \", \" Diesel \", \" Others \" </b></span> .\n",
    "</div>"
   ]
  },
  {
   "cell_type": "markdown",
   "metadata": {},
   "source": [
    "<a href=\"#toc\" class=\"btn btn-warning btn-lg active\" role=\"button\" aria-pressed=\"true\" style=\"color:black;\">Content</a>"
   ]
  },
  {
   "cell_type": "code",
   "execution_count": 66,
   "metadata": {
    "ExecuteTime": {
     "end_time": "2024-02-25T18:51:40.982206Z",
     "start_time": "2024-02-25T18:51:40.969144Z"
    }
   },
   "outputs": [],
   "source": [
    "fuel_types ={\n",
    "        \"Benzine\" : [\"Gasoline\", \n",
    "                    \"Gasoline (Particle filter)\",\n",
    "                    \"Super 95\",\n",
    "                    \"Super E10 95\", \n",
    "                    \"Super Plus 98\",\n",
    "                    \"Super Plus E10 98\",\n",
    "                    \"Super Plus E10 98 (Particle filter)\",                     \n",
    "                    \"Super 95 (Particle filter)\",\n",
    "                    \"Super E10 95 (Particle filter)\",\n",
    "                    \"Super Plus 98(Particle filter)\", \n",
    "                    \"Regular/Benzine 91\"\n",
    "                    \"Regular/Benzine E10 91\",\n",
    "                    \"Regular/Benzine 91 (Particle filter)\", \n",
    "                    \"Regular/Benzine E10 91(Particle filter)\"\n",
    "                   ],\n",
    "    \n",
    "        \"Lpg\" : [\"Super 95 / Super Plus 98 / Liquid petroleum gas (LPG)\",                 \n",
    "                 \"Super 95 / Liquid petroleum gas (LPG)\",\n",
    "                 \"Liquid petroleum gas (LPG) / Super 95\",\n",
    "                 \"Liquid petroleum gas (LPG) / Super 95 / Super Plus 98\",\n",
    "                 \"Liquid petroleum gas (LPG) / Super 95 / Super Plus 98 / Super Plus E10 98 / Super E10 95\",\n",
    "                 \"Liquid petroleum gas (LPG) / Super E10 95\",\n",
    "                 \n",
    "                 \"Liquid petroleum gas (LPG) / Super E10 95 / Super Plus E10 98 / Super Plus 98 / Super 95\",\n",
    "                 \"Liquid petroleum gas (LPG) / Super E10 95 / Regular/Benzine 91 / Super 95 / Super Plus 98 / Biogas\", \n",
    "                 \"Liquid petroleum gas (LPG) / Super 95 / Super E10 95 / Super Plus 98\",\n",
    "                 \n",
    "                 \"Liquid petroleum gas (LPG) / Super 95 / Super E10 95\",\n",
    "                 \"Liquid petroleum gas (LPG)(Particle filter) / Super 95 / Super E10 95\",\n",
    "                 \"LPG\",\n",
    "                 \"LPG (Particle filter)\",\n",
    "                 \"Liquid petroleum gas (LPG) (Particle filter)\", \n",
    "                 \"Liquid petroleum gas (LPG)\",\n",
    "                ],\n",
    "    \n",
    "        \"Others\" : [\"CNG\", \n",
    "                    \"CNG (Particle filter)\", # 0.35\n",
    "                    \"Domestic gas H\",\n",
    "                    \"Super 95 (Particle filter) / Super E10 95 / Ethanol\",\n",
    "                    \"Domestic gas L\", # 0.38\n",
    "                    \"Domestic gas L (Particle filter)\" ,\n",
    "                    #\"Domestic gas H (Particle filter)\",\n",
    "                    \"Hydrogen\",\n",
    "                    \"Biogas\",\n",
    "                   # \"Super Plus E10 98 / Super E10 95 / Regular/Benzine 91 / Super 95 / Super Plus 98 / Biogas\",                    \n",
    "                    \"Domestic gas H / Super E10 95 / Super Plus E10 98 / Super 95 / Super Plus 98 / Domestic gas L\",\n",
    "                    \"Domestic gas L / Super 95 / Domestic gas H\",\n",
    "                    \"Ethanol\",\n",
    "                    \"Others\",\n",
    "                    \"Others (Particle filter)\"\n",
    "                    ],\n",
    "   \n",
    "        \"Electric\" : [\"Electric\",\n",
    "                      \"Electric (Particle filter)\",\n",
    "],\n",
    "    \n",
    "        \"Diesel\" : [\"Diesel\",\n",
    "                    \"Diesel(Particle filter)\"]\n",
    "            \n",
    "}\n",
    "# density\n",
    "# cng 11.02 / 1000 =~ 0.011 + ort(Chatgpt) = 0.2\n",
    "# ethanol = 5.2\n",
    "# domestic gas L = 0.38\n",
    "# others 1.92 "
   ]
  },
  {
   "cell_type": "code",
   "execution_count": 67,
   "metadata": {
    "ExecuteTime": {
     "end_time": "2024-02-25T18:51:41.236459Z",
     "start_time": "2024-02-25T18:51:40.986758Z"
    }
   },
   "outputs": [],
   "source": [
    "# Benzine\n",
    "\n",
    "df.loc[df.fuel_type.str.match(\"Gasoline\") == True, \"fuel_type\"] = \"Benzine\"\n",
    "df.loc[df.fuel_type.str.match(\"Regular\") == True, \"fuel_type\"] = \"Benzine\"\n",
    "df.loc[(~df.fuel_type.astype(str).str.contains(\"LPG\", na=False)) & df.fuel_type.astype(str).str.match(\"Super.*[^l]$\"), \"fuel_type\"] = \"Benzine\"\n"
   ]
  },
  {
   "cell_type": "code",
   "execution_count": 68,
   "metadata": {
    "ExecuteTime": {
     "end_time": "2024-02-25T18:51:41.294180Z",
     "start_time": "2024-02-25T18:51:41.241495Z"
    }
   },
   "outputs": [],
   "source": [
    "# Lpg\n",
    "df.loc[(df.fuel_type.astype(str).str.contains(\"LPG\")), \"fuel_type\"] = \"Lpg\""
   ]
  },
  {
   "cell_type": "code",
   "execution_count": 69,
   "metadata": {
    "ExecuteTime": {
     "end_time": "2024-02-25T18:51:41.352057Z",
     "start_time": "2024-02-25T18:51:41.298418Z"
    },
    "run_control": {
     "marked": true
    }
   },
   "outputs": [],
   "source": [
    "# Electric\n",
    "df.loc[df.fuel_type.astype(str).str.contains(\"Electric\"), \"fuel_type\"] = \"Electric\""
   ]
  },
  {
   "cell_type": "code",
   "execution_count": 70,
   "metadata": {
    "ExecuteTime": {
     "end_time": "2024-02-25T18:51:41.413335Z",
     "start_time": "2024-02-25T18:51:41.358183Z"
    },
    "run_control": {
     "marked": true
    }
   },
   "outputs": [],
   "source": [
    "# Diesel\n",
    "df.loc[df.fuel_type.astype(str).str.contains(\"Diesel\"), \"fuel_type\"] = \"Diesel\""
   ]
  },
  {
   "cell_type": "code",
   "execution_count": 71,
   "metadata": {
    "ExecuteTime": {
     "end_time": "2024-02-25T18:51:41.462150Z",
     "start_time": "2024-02-25T18:51:41.415366Z"
    }
   },
   "outputs": [],
   "source": [
    "# Others\n",
    "df.loc[df.fuel_type.astype(str).str.contains(\"CNG|Hydrogen|^Biogas|Domestic|Ethanol|Others\"), \"fuel_type\"] = \"Others\""
   ]
  },
  {
   "cell_type": "code",
   "execution_count": 72,
   "metadata": {
    "ExecuteTime": {
     "end_time": "2024-02-25T18:51:41.486236Z",
     "start_time": "2024-02-25T18:51:41.467822Z"
    }
   },
   "outputs": [
    {
     "data": {
      "text/plain": [
       "fuel_type\n",
       "Benzine     17330\n",
       "Diesel       8727\n",
       "Others        354\n",
       "Lpg           244\n",
       "Electric      188\n",
       "Name: count, dtype: int64"
      ]
     },
     "execution_count": 72,
     "metadata": {},
     "output_type": "execute_result"
    }
   ],
   "source": [
    "df.fuel_type.value_counts()"
   ]
  },
  {
   "cell_type": "markdown",
   "metadata": {},
   "source": [
    "<a id=\"27\"></a>\n",
    "<div class=\"alert alert-info\" role=\"alert\">\n",
    "<h1>Column name :<span style=\"color:red\"> fuel_consumption - 2 </span></h1>\n",
    "</div>\n",
    "\n",
    "<div class=\"alert alert-block\" style=\"background-color: darkblue;\">\n",
    "<div class=\"alert alert-block alert-warning\">\n",
    "<b>Operation : </b> Let's update the fuel_consumption by converting it to <span style=\"color:red\"><b> kilowatt - hour ( kwH )  </b></span> for each fuel_type  <span style=\"color:red\"><b>  ( Benzine, Lpg, Electric, Diesel, Others ) </b></span> to ensure they are in the <span style=\"color:red\"><b> same unit  </b></span> , convert float its type  .\n",
    "</div>"
   ]
  },
  {
   "cell_type": "markdown",
   "metadata": {},
   "source": [
    "<a href=\"#toc\" class=\"btn btn-warning btn-lg active\" role=\"button\" aria-pressed=\"true\" style=\"color:black;\">Content</a>"
   ]
  },
  {
   "cell_type": "code",
   "execution_count": 73,
   "metadata": {
    "ExecuteTime": {
     "end_time": "2024-02-25T18:51:41.725877Z",
     "start_time": "2024-02-25T18:51:41.490376Z"
    }
   },
   "outputs": [],
   "source": [
    "df.loc[df[df[\"fuel_type\"] == \"Lpg\"].index, \"fuel_consumption\"] = (df.loc[df[df[\"fuel_type\"] == \"Lpg\"].index, \"fuel_consumption\"] * 6.98).round(1)\n",
    "df.loc[df[df[\"fuel_type\"] == \"Diesel\"].index, \"fuel_consumption\"] = (df.loc[df[df[\"fuel_type\"] == \"Diesel\"].index, \"fuel_consumption\"] * 10.96).round(1)\n",
    "df.loc[df[df[\"fuel_type\"] == \"Gasoline\"].index, \"fuel_consumption\"] = (df.loc[df[df[\"fuel_type\"] == \"Gasoline\"].index, \"fuel_consumption\"] * 9.61).round(1)\n",
    "df.loc[df[df[\"fuel_type\"] == \"Others\"].index, \"fuel_consumption\"] = (df.loc[df[df[\"fuel_type\"] == \"Others\"].index, \"fuel_consumption\"] * 1.92).round(1)"
   ]
  },
  {
   "cell_type": "code",
   "execution_count": 74,
   "metadata": {
    "ExecuteTime": {
     "end_time": "2024-02-25T18:51:41.734556Z",
     "start_time": "2024-02-25T18:51:41.728884Z"
    }
   },
   "outputs": [],
   "source": [
    "# fuel_type (lt = ... kwH)\n",
    "# Lpg = 6.98\n",
    "# Diesel = 10,96\n",
    "# Gasoline = 9.61\n",
    "# Electric = missing value = kwh\n",
    "# others 1.92"
   ]
  },
  {
   "cell_type": "markdown",
   "metadata": {},
   "source": [
    "<a id=\"28\"></a>\n",
    "<div class=\"alert alert-info\" role=\"alert\">\n",
    "<h1>Column name :<span style=\"color:red\"> comfort_&_convenience </span></h1>\n",
    "</div>\n",
    "\n",
    "<div class=\"alert alert-block\" style=\"background-color: darkblue;\">\n",
    "<div class=\"alert alert-block alert-warning\">\n",
    "<b>Operation : </b> Let's edit the expression <span style=\"color:red\"><b>\" [Air conditioning, Automatic climate control, Electrical side mirrors, Multi-function steering wheel, Power windows] \"</b></span> in the content of the column. Let's remove the <span style=\"color:red\"><b> \" [ ] \" </b></span> . Let's categorize the values in the column as <span style=\"color:red\"><b> \" climate \" ,\" winroof \" , \" mir_body \", \" steer_cont \", \" comfort \" , \" park_assist \", \" safety_assist \", \" other \"</b></span> apply title() method .\n",
    "</div>"
   ]
  },
  {
   "cell_type": "markdown",
   "metadata": {},
   "source": [
    "<a href=\"#toc\" class=\"btn btn-warning btn-lg active\" role=\"button\" aria-pressed=\"true\" style=\"color:black;\">Content</a>"
   ]
  },
  {
   "cell_type": "code",
   "execution_count": 75,
   "metadata": {
    "ExecuteTime": {
     "end_time": "2024-02-25T18:51:42.017900Z",
     "start_time": "2024-02-25T18:51:41.742582Z"
    }
   },
   "outputs": [],
   "source": [
    "df[\"comfort_&_convenience\"] = df[\"comfort_&_convenience\"].apply(lambda x : x[0] if type(x) == list else x).str.title().astype(\"category\")"
   ]
  },
  {
   "cell_type": "code",
   "execution_count": 76,
   "metadata": {
    "ExecuteTime": {
     "end_time": "2024-02-25T18:51:42.045911Z",
     "start_time": "2024-02-25T18:51:42.025445Z"
    }
   },
   "outputs": [],
   "source": [
    "list1 = list(df[\"comfort_&_convenience\"].dropna().unique())"
   ]
  },
  {
   "cell_type": "code",
   "execution_count": 77,
   "metadata": {
    "ExecuteTime": {
     "end_time": "2024-02-25T18:51:42.234204Z",
     "start_time": "2024-02-25T18:51:42.053461Z"
    },
    "scrolled": true
   },
   "outputs": [
    {
     "name": "stdout",
     "output_type": "stream",
     "text": [
      "{'Air Conditioning': 12077, 'Automatic Climate Control': 10818, 'Power Windows': 13114, 'Rain Sensor': 9683, 'Electrical Side Mirrors': 12606, 'Multi-Function Steering Wheel': 11318, 'Split Rear Seats': 4427, 'Armrest': 9567, 'Cruise Control': 11231, 'Lumbar Support': 5922, 'Panorama Roof': 2445, 'Parking Assist System Sensors Front': 6470, 'Parking Assist System Sensors Rear': 10543, 'Sunroof': 2433, 'Tinted Windows': 5114, 'Navigation System': 9116, 'Parking Assist System Self-Steering': 2491, 'Seat Heating': 8815, 'Leather Steering Wheel': 11091, 'Light Sensor': 9364, 'Start-Stop System': 8108, 'Parking Assist System Camera': 6495, 'Hill Holder': 7685, 'Electrically Heated Windshield': 2274, 'Heads-Up Display': 1011, 'Keyless Central Door Lock': 4846, '2 Zones': 3323, 'Auxiliary Heating': 940, 'Electric Tailgate': 2501, 'Electrically Adjustable Seats': 3808, '360° Camera': 971, 'Air Suspension': 522, 'Seat Ventilation': 978, 'Massage Seats': 453, 'Park Distance Control': 39, '3 Zones': 290, 'Fold Flat Passenger Seat': 654, 'Wind Deflector': 444, 'Electric Backseat Adjustment': 281, 'Heated Steering Wheel': 2972, '4 Zones': 131, 'Sliding Door Right': 118, 'Sliding Door Left': 80, 'Leather Seats': 6}\n"
     ]
    }
   ],
   "source": [
    "result = {}\n",
    "\n",
    "for eleman in list1:\n",
    "    parcalar = eleman.split(', ')\n",
    "    for parca in parcalar:\n",
    "        parca = parca.strip()\n",
    "        if parca in result:\n",
    "            result[parca] += 1\n",
    "        else:\n",
    "            result[parca] = 1\n",
    "\n",
    "print(result)"
   ]
  },
  {
   "cell_type": "code",
   "execution_count": 78,
   "metadata": {
    "ExecuteTime": {
     "end_time": "2024-02-25T18:51:42.256817Z",
     "start_time": "2024-02-25T18:51:42.239224Z"
    }
   },
   "outputs": [],
   "source": [
    "con_conve = {\n",
    "    \n",
    "\"climate\" :[  \"Air Conditioning\",\n",
    "              \"Automatic Climate Control\",\n",
    "              \"2 Zones\",\n",
    "              \"3 Zones\",\n",
    "              \"4 Zones\",\n",
    "              \"Auxiliary Heating\"\n",
    "                ],\n",
    "    \n",
    "\"seats\":  [     \"Split Rear Seats\",\n",
    "                \"Leather Seats\",\n",
    "                \"Armrest\",\n",
    "                \"Lumbar Support\",\n",
    "                \"Seat Heating\",\n",
    "                \"Seat Ventilation\",\n",
    "                \"Massage Seats\",\n",
    "                \"Fold Flat Passenger Seat\",\n",
    "                \"Electric Backseat Adjustment\",\n",
    "                \"Electrically Adjustable Seats\",\n",
    "                \"Electrically Heated Windshield\"\n",
    "            ],\n",
    "    \n",
    "\"functional&mechanical\": [\"Parking Assist System Sensors Front\",\n",
    "                          \"Parking Assist System Sensors Rear\",\n",
    "                          \"Parking Assist System Self-Steering\",\n",
    "                          \"Parking Assist System Camera\",\n",
    "                          \"Park Distance Control\",\n",
    "                          \"360° Camera\",\n",
    "                          \"Heads-Up Display\",\n",
    "                          \"Rain Sensor\",\n",
    "                          \"Light Sensor\",\n",
    "                          \"Hill Holder\",\n",
    "                          \"Navigation System\",\n",
    "                          \"Air Suspension\",\n",
    "                          \"Electrical Side Mirrors\",\n",
    "                          \"Electric Tailgate\",\n",
    "                          \"Start-Stop System\"\n",
    "                        ],\n",
    "    \n",
    "\"steering&trim\" :[     \"Cruise Control\",\n",
    "                       \"Heated Steering Wheel\",\n",
    "                       \"Leather Steering Wheel\",\n",
    "                       \"Multi-Function Steering Wheel\"\n",
    "                   ],\n",
    "    \n",
    "\"bodywork\" : [ \"Wind Deflector\",\n",
    "               \"Sliding Door Right\",\n",
    "               \"Sliding Door Left\",\n",
    "               \"Tinted Windows\",\n",
    "               \"Panorama Roof\",\n",
    "               \"Sunroof\",\n",
    "               \"Power Windows\"\n",
    "             ],\n",
    "    \n",
    "\"security\" : [\n",
    "               \"Keyless Central Door Lock\"\n",
    "                   ]\n",
    "}"
   ]
  },
  {
   "cell_type": "code",
   "execution_count": 79,
   "metadata": {
    "ExecuteTime": {
     "end_time": "2024-02-25T18:51:42.278003Z",
     "start_time": "2024-02-25T18:51:42.264361Z"
    }
   },
   "outputs": [],
   "source": [
    "# #comfort_&_convenience\n",
    "# con_conve = {\n",
    "    \n",
    "# \"climate\" : [\"Air Conditioning\", \n",
    "#                    \"Automatic Climate Control\",\n",
    "#                    \"2 Zones\",\n",
    "#                    \"3 Zones\",\n",
    "#                    \"4 Zones\"\n",
    "#                    ],\n",
    "    \n",
    "# \"win_roof\" : [\"Power Windows\", \n",
    "#              \"Tinted Windows\", \n",
    "#              \"Panorama Roof\", \n",
    "#              \"Sunroof\"],\n",
    "    \n",
    "# \"mir_body\" : [\"Electrical Side Mirrors\",\n",
    "#               \"Electric Tailgate\",\n",
    "#               \"ElectricTailgate\"\n",
    "#               ],\n",
    "\n",
    "# \"steer_cont\" : [\"Multi-Function Steering Wheel\",\n",
    "#                 \"Cruise Control\",\n",
    "#                 \"Start-Stop System\",\n",
    "#                 \"Leather Steering Wheel\",\n",
    "#                 \"Heated Steering Wheel\",\n",
    "#                       ],\n",
    "    \n",
    "# \"comfort\" : [\"Split Rear Seats\",\n",
    "#              \"Leather Seats\",\n",
    "#              \"Armrest\",\n",
    "#              \"Lumbar Support\",\n",
    "#              \"Seat Heating\",\n",
    "#              \"Seat Ventilation\",\n",
    "#              \"Massage Seats\",\n",
    "#              \"Fold Flat Passenger Seat\",\n",
    "#              \"Electric Backseat Adjustment\",\n",
    "#              \"Electrically Adjustable Seats\",\n",
    "#             ],\n",
    "    \n",
    "# \"park_assist\" : [\"Parking Assist System Sensors Front\",\n",
    "#                  \"Parking Assist System Sensors Rear\",\n",
    "#                  \"Parking Assist System Self-Steering\",\n",
    "#                  \"Parking Assist System Camera\",\n",
    "#                  \"Park Distance Control\",\n",
    "#                  \"360° Camera\",\n",
    "#                  ],\n",
    "    \n",
    "# \"safety_assist\" : [\"Rain Sensor\",\n",
    "#                     \"Light Sensor\",\n",
    "#                     \"Hill Holder\", \n",
    "#                     \"Electrically Heated Windshield\", \n",
    "#                     \"Heads-Up Display\"],\n",
    "    \n",
    "# \"other\" : [\"Keyless Central Door Lock\",\n",
    "#            \"Auxiliary Heating\",\n",
    "#            \"Navigation System\",\n",
    "#            \"Wind Deflector\",\n",
    "#            \"Sliding Door Right\",\n",
    "#            \"Sliding Door Left\",\n",
    "#            \"Air Suspension\"\n",
    "#            ]\n",
    "    \n",
    "# }"
   ]
  },
  {
   "cell_type": "code",
   "execution_count": 80,
   "metadata": {
    "ExecuteTime": {
     "end_time": "2024-02-25T18:51:44.514535Z",
     "start_time": "2024-02-25T18:51:42.287548Z"
    }
   },
   "outputs": [],
   "source": [
    "for category, keywords in con_conve.items():\n",
    "    for keyword in keywords:\n",
    "        df[\"comfort_&_convenience\"] = df[\"comfort_&_convenience\"].str.replace(keyword, category, regex=True)\n"
   ]
  },
  {
   "cell_type": "code",
   "execution_count": 81,
   "metadata": {
    "ExecuteTime": {
     "end_time": "2024-02-25T18:51:44.580165Z",
     "start_time": "2024-02-25T18:51:44.517048Z"
    }
   },
   "outputs": [
    {
     "data": {
      "text/plain": [
       "['climate, climate, functional&mechanical, steering&trim, bodywork',\n",
       " 'bodywork',\n",
       " 'climate, climate, steering&trim',\n",
       " 'climate, climate, steering&trim, functional&mechanical, steering&trim, bodywork',\n",
       " 'climate, bodywork',\n",
       " 'climate, climate, bodywork',\n",
       " 'climate',\n",
       " 'steering&trim',\n",
       " 'climate, functional&mechanical, bodywork',\n",
       " 'climate, climate, steering&trim, bodywork, functional&mechanical',\n",
       " 'climate, climate, functional&mechanical, bodywork',\n",
       " 'climate, steering&trim, functional&mechanical',\n",
       " 'climate, climate, functional&mechanical, steering&trim, bodywork, functional&mechanical',\n",
       " 'climate, steering&trim, bodywork',\n",
       " 'climate, climate, steering&trim, functional&mechanical, steering&trim, bodywork, functional&mechanical',\n",
       " 'steering&trim, bodywork',\n",
       " 'climate, functional&mechanical, steering&trim, bodywork',\n",
       " 'bodywork, bodywork',\n",
       " 'climate, climate',\n",
       " 'climate, climate, steering&trim, functional&mechanical, bodywork',\n",
       " 'bodywork, functional&mechanical',\n",
       " 'climate, climate, bodywork, functional&mechanical',\n",
       " 'climate, functional&mechanical, bodywork, bodywork',\n",
       " 'climate, climate, steering&trim, steering&trim, bodywork, functional&mechanical, seats, functional&mechanical',\n",
       " 'functional&mechanical, bodywork',\n",
       " 'climate, climate, steering&trim, bodywork, bodywork',\n",
       " 'climate, climate, steering&trim, functional&mechanical, functional&mechanical, steering&trim, functional&mechanical, functional&mechanical, functional&mechanical, functional&mechanical, bodywork, functional&mechanical, seats, functional&mechanical',\n",
       " 'climate, functional&mechanical, bodywork, seats',\n",
       " 'climate, climate, steering&trim, bodywork',\n",
       " 'climate, bodywork, seats',\n",
       " 'climate, steering&trim',\n",
       " 'climate, functional&mechanical, steering&trim, bodywork, seats',\n",
       " 'functional&mechanical, steering&trim, bodywork',\n",
       " 'climate, climate, functional&mechanical, bodywork, bodywork',\n",
       " 'climate, climate, steering&trim, functional&mechanical, functional&mechanical, bodywork',\n",
       " 'climate, climate, bodywork, bodywork',\n",
       " 'functional&mechanical, bodywork, bodywork',\n",
       " 'climate, steering&trim, functional&mechanical, steering&trim, bodywork',\n",
       " 'climate, steering&trim, functional&mechanical, bodywork',\n",
       " 'climate, seats, climate, climate, steering&trim, functional&mechanical, functional&mechanical, seats, steering&trim, functional&mechanical, security, steering&trim, functional&mechanical, seats, steering&trim, functional&mechanical, bodywork, functional&mechanical, functional&mechanical, functional&mechanical, bodywork, functional&mechanical, seats, functional&mechanical, bodywork',\n",
       " 'climate, bodywork, bodywork',\n",
       " 'climate, climate, functional&mechanical, bodywork, functional&mechanical',\n",
       " 'climate, climate, steering&trim, functional&mechanical, bodywork, seats',\n",
       " 'functional&mechanical, bodywork, functional&mechanical',\n",
       " 'climate, climate, steering&trim, functional&mechanical, steering&trim, bodywork, seats',\n",
       " 'climate, climate, functional&mechanical, steering&trim, bodywork, functional&mechanical, bodywork',\n",
       " 'climate, seats, climate, climate, steering&trim, functional&mechanical, steering&trim, functional&mechanical, steering&trim, functional&mechanical, seats, steering&trim, functional&mechanical, functional&mechanical, functional&mechanical, functional&mechanical, bodywork, functional&mechanical, seats, seats, functional&mechanical, bodywork',\n",
       " 'climate, functional&mechanical, bodywork, seats, functional&mechanical',\n",
       " 'climate, steering&trim, steering&trim, bodywork, seats',\n",
       " 'climate, climate, functional&mechanical, steering&trim, bodywork, functional&mechanical, seats, functional&mechanical',\n",
       " 'climate, climate, steering&trim, steering&trim, bodywork, functional&mechanical, functional&mechanical',\n",
       " 'climate, climate, steering&trim, functional&mechanical, functional&mechanical, steering&trim, bodywork, functional&mechanical, seats, bodywork, bodywork',\n",
       " 'climate, seats, climate, steering&trim, functional&mechanical, functional&mechanical, steering&trim, functional&mechanical, seats, steering&trim, functional&mechanical, functional&mechanical, functional&mechanical, bodywork, functional&mechanical, seats, functional&mechanical',\n",
       " 'climate, climate, steering&trim, steering&trim, bodywork, functional&mechanical',\n",
       " 'climate, functional&mechanical',\n",
       " 'climate, functional&mechanical, bodywork, functional&mechanical',\n",
       " 'climate, seats, climate, climate, steering&trim, functional&mechanical, seats, steering&trim, functional&mechanical, steering&trim, functional&mechanical, seats, steering&trim, functional&mechanical, functional&mechanical, functional&mechanical, functional&mechanical, bodywork, seats, functional&mechanical',\n",
       " 'climate, steering&trim, functional&mechanical, functional&mechanical, steering&trim, bodywork, functional&mechanical',\n",
       " 'functional&mechanical',\n",
       " 'climate, functional&mechanical, steering&trim, bodywork, functional&mechanical',\n",
       " 'climate, climate, functional&mechanical, steering&trim, bodywork, bodywork',\n",
       " 'climate, climate, steering&trim, functional&mechanical, bodywork, functional&mechanical',\n",
       " 'functional&mechanical, steering&trim, bodywork, bodywork',\n",
       " 'climate, functional&mechanical, steering&trim, bodywork, bodywork',\n",
       " 'climate, seats, climate, steering&trim, functional&mechanical, steering&trim, functional&mechanical, security, steering&trim, functional&mechanical, seats, steering&trim, functional&mechanical, functional&mechanical, functional&mechanical, functional&mechanical, bodywork, functional&mechanical, seats, functional&mechanical',\n",
       " 'climate, climate, functional&mechanical',\n",
       " 'climate, functional&mechanical, functional&mechanical, security, functional&mechanical, steering&trim, functional&mechanical, functional&mechanical, functional&mechanical, bodywork',\n",
       " 'climate, bodywork, functional&mechanical',\n",
       " 'climate, seats, climate, steering&trim, functional&mechanical, steering&trim, functional&mechanical, steering&trim, functional&mechanical, bodywork, functional&mechanical, functional&mechanical',\n",
       " 'climate, climate, steering&trim, functional&mechanical, steering&trim, seats, steering&trim, functional&mechanical, bodywork, functional&mechanical, seats',\n",
       " 'climate, steering&trim, seats, functional&mechanical',\n",
       " 'climate, seats, climate, steering&trim, functional&mechanical, steering&trim, functional&mechanical, seats, bodywork, seats, bodywork',\n",
       " 'climate, climate, steering&trim, bodywork, functional&mechanical, seats',\n",
       " 'climate, climate, steering&trim, functional&mechanical',\n",
       " 'climate, seats, climate, steering&trim, functional&mechanical, seats, steering&trim, functional&mechanical, security, steering&trim, functional&mechanical, seats, steering&trim, functional&mechanical, functional&mechanical, functional&mechanical, functional&mechanical, functional&mechanical, bodywork, functional&mechanical, seats, seats, functional&mechanical, bodywork',\n",
       " 'climate, seats, climate, steering&trim, functional&mechanical, functional&mechanical, security, steering&trim, functional&mechanical, steering&trim, functional&mechanical, functional&mechanical, functional&mechanical, functional&mechanical, bodywork, functional&mechanical, seats, functional&mechanical',\n",
       " 'climate, climate, steering&trim, functional&mechanical, functional&mechanical, functional&mechanical',\n",
       " 'climate, climate, steering&trim, steering&trim, bodywork',\n",
       " 'climate, climate, functional&mechanical, functional&mechanical',\n",
       " 'seats, climate, climate, functional&mechanical, security, functional&mechanical, steering&trim, functional&mechanical, functional&mechanical, functional&mechanical',\n",
       " 'climate, climate, steering&trim, functional&mechanical, functional&mechanical, steering&trim, functional&mechanical, steering&trim, functional&mechanical, functional&mechanical, functional&mechanical, bodywork, functional&mechanical, functional&mechanical, bodywork',\n",
       " 'climate, climate, functional&mechanical, bodywork, seats, functional&mechanical',\n",
       " 'seats',\n",
       " 'functional&mechanical, steering&trim, bodywork, functional&mechanical',\n",
       " 'climate, functional&mechanical, functional&mechanical, bodywork',\n",
       " 'climate, climate, steering&trim, functional&mechanical, functional&mechanical, bodywork, functional&mechanical, seats, bodywork',\n",
       " 'climate, climate, functional&mechanical, bodywork, functional&mechanical, seats, seats, functional&mechanical',\n",
       " 'climate, steering&trim, functional&mechanical, steering&trim, steering&trim, bodywork',\n",
       " 'climate, climate, steering&trim, steering&trim, bodywork, seats, functional&mechanical, bodywork',\n",
       " 'climate, climate, functional&mechanical, steering&trim, bodywork, functional&mechanical, seats',\n",
       " 'climate, climate, steering&trim, bodywork, functional&mechanical, bodywork',\n",
       " 'climate, seats, climate, climate, steering&trim, functional&mechanical, steering&trim, functional&mechanical, steering&trim, functional&mechanical, steering&trim, functional&mechanical, functional&mechanical, functional&mechanical, bodywork, functional&mechanical, seats, seats, functional&mechanical, bodywork',\n",
       " 'climate, climate, bodywork, functional&mechanical, seats, functional&mechanical',\n",
       " 'climate, climate, steering&trim, functional&mechanical, bodywork, bodywork',\n",
       " 'climate, seats, climate, steering&trim, functional&mechanical, seats, functional&mechanical, steering&trim, functional&mechanical, seats, steering&trim, functional&mechanical, functional&mechanical, functional&mechanical, functional&mechanical, bodywork, functional&mechanical, seats, functional&mechanical',\n",
       " 'climate, climate, steering&trim, functional&mechanical, functional&mechanical, bodywork, functional&mechanical',\n",
       " 'climate, seats',\n",
       " 'climate, climate, functional&mechanical, bodywork, functional&mechanical, seats, bodywork',\n",
       " 'climate, climate, steering&trim, bodywork, seats',\n",
       " 'climate, steering&trim, functional&mechanical, functional&mechanical, steering&trim, functional&mechanical, bodywork, functional&mechanical',\n",
       " 'climate, climate, steering&trim, bodywork, functional&mechanical, seats, seats',\n",
       " 'climate, seats, climate, steering&trim, functional&mechanical, steering&trim, functional&mechanical, security, steering&trim, functional&mechanical, steering&trim, functional&mechanical, functional&mechanical, functional&mechanical, functional&mechanical, bodywork, functional&mechanical, seats, functional&mechanical',\n",
       " 'climate, seats, climate, steering&trim, functional&mechanical, seats, steering&trim, functional&mechanical, security, steering&trim, functional&mechanical, seats, steering&trim, functional&mechanical, functional&mechanical, functional&mechanical, functional&mechanical, bodywork, functional&mechanical, seats, functional&mechanical',\n",
       " 'climate, climate, functional&mechanical, steering&trim, bodywork, seats, functional&mechanical',\n",
       " 'climate, functional&mechanical, steering&trim, steering&trim, bodywork, seats',\n",
       " 'climate, steering&trim, bodywork, bodywork',\n",
       " 'climate, steering&trim, functional&mechanical, steering&trim, functional&mechanical, bodywork, seats',\n",
       " 'climate, seats, climate, steering&trim, functional&mechanical, functional&mechanical, functional&mechanical, steering&trim, functional&mechanical, functional&mechanical, functional&mechanical, bodywork, functional&mechanical, bodywork',\n",
       " 'climate, climate, steering&trim, functional&mechanical, functional&mechanical, steering&trim, bodywork, functional&mechanical, seats, bodywork',\n",
       " 'climate, steering&trim, functional&mechanical, steering&trim, functional&mechanical, steering&trim, functional&mechanical, bodywork, seats, functional&mechanical',\n",
       " 'climate, climate, functional&mechanical, bodywork, functional&mechanical, bodywork',\n",
       " 'climate, steering&trim, steering&trim, bodywork',\n",
       " 'climate, steering&trim, functional&mechanical, steering&trim, functional&mechanical, bodywork, functional&mechanical',\n",
       " 'functional&mechanical, functional&mechanical',\n",
       " 'climate, functional&mechanical, functional&mechanical, bodywork, seats, functional&mechanical',\n",
       " 'climate, seats, climate, steering&trim, functional&mechanical, steering&trim, functional&mechanical, steering&trim, functional&mechanical, steering&trim, functional&mechanical, functional&mechanical, functional&mechanical, bodywork, functional&mechanical, seats, functional&mechanical',\n",
       " 'climate, seats, climate, steering&trim, functional&mechanical, steering&trim, functional&mechanical, steering&trim, functional&mechanical, seats, steering&trim, functional&mechanical, functional&mechanical, functional&mechanical, functional&mechanical, bodywork, functional&mechanical, seats, functional&mechanical',\n",
       " 'climate, seats, bodywork',\n",
       " 'climate, steering&trim, functional&mechanical, bodywork, functional&mechanical',\n",
       " 'climate, steering&trim, bodywork, functional&mechanical',\n",
       " 'climate, seats, climate, climate, steering&trim, functional&mechanical, seats, steering&trim, functional&mechanical, steering&trim, functional&mechanical, seats, steering&trim, functional&mechanical, functional&mechanical, functional&mechanical, functional&mechanical, functional&mechanical, bodywork, functional&mechanical, seats, seats, functional&mechanical, bodywork',\n",
       " 'climate, seats, climate, climate, steering&trim, functional&mechanical, seats, steering&trim, functional&mechanical, steering&trim, functional&mechanical, seats, steering&trim, functional&mechanical, functional&mechanical, functional&mechanical, functional&mechanical, bodywork, functional&mechanical, seats, seats, functional&mechanical, bodywork',\n",
       " 'climate, seats, climate, steering&trim, functional&mechanical, steering&trim, functional&mechanical, steering&trim, functional&mechanical, functional&mechanical, bodywork, functional&mechanical',\n",
       " 'climate, seats, climate, steering&trim, functional&mechanical, functional&mechanical, security, steering&trim, functional&mechanical, steering&trim, functional&mechanical, functional&mechanical, functional&mechanical, bodywork, functional&mechanical, functional&mechanical, bodywork',\n",
       " 'climate, seats, climate, steering&trim, functional&mechanical, functional&mechanical, steering&trim, functional&mechanical, steering&trim, functional&mechanical, functional&mechanical, functional&mechanical, bodywork, functional&mechanical, seats, functional&mechanical',\n",
       " 'climate, functional&mechanical, functional&mechanical, steering&trim, bodywork, seats',\n",
       " 'climate, steering&trim, functional&mechanical, steering&trim, bodywork, functional&mechanical',\n",
       " 'climate, seats, climate, steering&trim, functional&mechanical, functional&mechanical, seats, steering&trim, functional&mechanical, security, steering&trim, functional&mechanical, seats, steering&trim, functional&mechanical, bodywork, functional&mechanical, functional&mechanical, functional&mechanical, bodywork, functional&mechanical, seats, functional&mechanical, bodywork',\n",
       " 'climate, seats, functional&mechanical, bodywork',\n",
       " 'climate, steering&trim, functional&mechanical, steering&trim, steering&trim, functional&mechanical, bodywork, seats',\n",
       " 'climate, steering&trim, functional&mechanical, steering&trim, bodywork, seats, bodywork',\n",
       " 'climate, steering&trim, functional&mechanical, steering&trim, functional&mechanical, bodywork',\n",
       " 'seats, bodywork',\n",
       " 'climate, seats, climate, steering&trim, functional&mechanical, seats, steering&trim, functional&mechanical, security, steering&trim, functional&mechanical, seats, steering&trim, functional&mechanical, functional&mechanical, functional&mechanical, functional&mechanical, functional&mechanical, bodywork, functional&mechanical, seats, functional&mechanical',\n",
       " 'climate, climate, steering&trim, bodywork, functional&mechanical, seats, functional&mechanical, bodywork',\n",
       " 'functional&mechanical, climate, functional&mechanical, seats, climate, climate, climate, functional&mechanical, functional&mechanical, seats, functional&mechanical, steering&trim, functional&mechanical, security, steering&trim, functional&mechanical, seats, steering&trim, functional&mechanical, bodywork, functional&mechanical, functional&mechanical, functional&mechanical, functional&mechanical, bodywork, functional&mechanical, seats, functional&mechanical, bodywork',\n",
       " 'climate, seats, climate, steering&trim, functional&mechanical, functional&mechanical, security, steering&trim, functional&mechanical, steering&trim, functional&mechanical, functional&mechanical, functional&mechanical, bodywork, functional&mechanical, seats, functional&mechanical',\n",
       " 'seats, climate, climate, functional&mechanical, security, functional&mechanical, steering&trim, functional&mechanical, functional&mechanical',\n",
       " 'bodywork, seats, bodywork',\n",
       " 'climate, seats, climate, steering&trim, functional&mechanical, functional&mechanical, steering&trim, functional&mechanical, steering&trim, functional&mechanical, functional&mechanical, functional&mechanical, bodywork, functional&mechanical, seats, functional&mechanical, bodywork',\n",
       " 'climate, seats, functional&mechanical, steering&trim, bodywork',\n",
       " 'steering&trim, bodywork, bodywork',\n",
       " 'climate, seats, climate, climate, steering&trim, functional&mechanical, steering&trim, functional&mechanical, steering&trim, functional&mechanical, seats, steering&trim, functional&mechanical, functional&mechanical, functional&mechanical, bodywork, functional&mechanical, seats, seats, functional&mechanical, bodywork',\n",
       " 'climate, climate, steering&trim, functional&mechanical, steering&trim, seats, steering&trim, functional&mechanical, bodywork, functional&mechanical',\n",
       " 'functional&mechanical, bodywork, functional&mechanical, bodywork',\n",
       " 'climate, functional&mechanical, seats, bodywork',\n",
       " 'climate, seats, climate, steering&trim, functional&mechanical, seats, functional&mechanical, steering&trim, seats, steering&trim, functional&mechanical, functional&mechanical, bodywork, functional&mechanical, seats, functional&mechanical',\n",
       " 'climate, seats, climate, steering&trim, functional&mechanical, steering&trim, functional&mechanical, seats, functional&mechanical, bodywork, seats, bodywork',\n",
       " 'climate, steering&trim, functional&mechanical, steering&trim, functional&mechanical, steering&trim, functional&mechanical, bodywork, functional&mechanical',\n",
       " 'steering&trim, functional&mechanical, functional&mechanical',\n",
       " 'climate, seats, climate, steering&trim, functional&mechanical, seats, steering&trim, steering&trim, functional&mechanical, bodywork, functional&mechanical, seats',\n",
       " 'functional&mechanical, seats, climate, climate, functional&mechanical, functional&mechanical, security, functional&mechanical, steering&trim, functional&mechanical, functional&mechanical, functional&mechanical',\n",
       " 'climate, climate, steering&trim, functional&mechanical, steering&trim, bodywork, functional&mechanical, bodywork',\n",
       " 'climate, functional&mechanical, steering&trim, steering&trim, bodywork, functional&mechanical',\n",
       " 'climate, seats, climate, steering&trim, functional&mechanical, functional&mechanical, steering&trim, functional&mechanical, seats, steering&trim, functional&mechanical, functional&mechanical, functional&mechanical, bodywork, functional&mechanical, bodywork',\n",
       " 'climate, functional&mechanical, bodywork, seats, bodywork',\n",
       " 'climate, functional&mechanical, steering&trim, steering&trim, bodywork',\n",
       " 'climate, seats, climate, steering&trim, functional&mechanical, steering&trim, functional&mechanical, seats, bodywork, seats',\n",
       " 'functional&mechanical, steering&trim, bodywork, functional&mechanical, bodywork',\n",
       " 'climate, climate, steering&trim, functional&mechanical, functional&mechanical, steering&trim, bodywork, bodywork',\n",
       " 'climate, seats, climate, steering&trim, functional&mechanical, steering&trim, seats, steering&trim, functional&mechanical, bodywork, functional&mechanical',\n",
       " 'climate, seats, climate, steering&trim, functional&mechanical, steering&trim, functional&mechanical, steering&trim, functional&mechanical, seats, steering&trim, functional&mechanical, functional&mechanical, bodywork, seats, functional&mechanical',\n",
       " 'climate, climate, steering&trim, functional&mechanical, steering&trim, seats, steering&trim, functional&mechanical, functional&mechanical, bodywork, functional&mechanical, seats',\n",
       " 'steering&trim, functional&mechanical, functional&mechanical, functional&mechanical',\n",
       " 'climate, seats, functional&mechanical, steering&trim, bodywork, bodywork',\n",
       " 'climate, climate, functional&mechanical, steering&trim, seats, bodywork',\n",
       " 'climate, seats, climate, steering&trim, functional&mechanical, functional&mechanical, seats, seats, functional&mechanical, steering&trim, functional&mechanical, security, steering&trim, functional&mechanical, seats, steering&trim, functional&mechanical, functional&mechanical, functional&mechanical, functional&mechanical, bodywork, functional&mechanical, seats, seats, functional&mechanical, bodywork',\n",
       " 'climate, seats, climate, climate, climate, functional&mechanical, functional&mechanical, seats, seats, steering&trim, functional&mechanical, security, steering&trim, functional&mechanical, seats, steering&trim, functional&mechanical, functional&mechanical, functional&mechanical, functional&mechanical, bodywork, functional&mechanical, seats, functional&mechanical',\n",
       " 'climate, functional&mechanical, steering&trim, steering&trim, bodywork, bodywork',\n",
       " 'climate, climate, steering&trim, functional&mechanical, functional&mechanical, security, steering&trim, functional&mechanical, steering&trim, functional&mechanical, functional&mechanical, functional&mechanical, functional&mechanical, bodywork, functional&mechanical, seats, functional&mechanical',\n",
       " 'climate, steering&trim, bodywork, seats',\n",
       " 'climate, functional&mechanical, functional&mechanical, steering&trim, steering&trim, bodywork, seats, bodywork',\n",
       " 'climate, seats, climate, steering&trim, functional&mechanical, functional&mechanical, seats, steering&trim, functional&mechanical, functional&mechanical, seats, steering&trim, functional&mechanical, functional&mechanical, functional&mechanical, functional&mechanical, bodywork, functional&mechanical, seats, functional&mechanical',\n",
       " 'climate, seats, climate, climate, steering&trim, functional&mechanical, functional&mechanical, seats, functional&mechanical, steering&trim, functional&mechanical, security, steering&trim, functional&mechanical, seats, steering&trim, functional&mechanical, bodywork, functional&mechanical, functional&mechanical, functional&mechanical, bodywork, functional&mechanical, seats, functional&mechanical, bodywork',\n",
       " 'climate, climate, steering&trim, steering&trim, bodywork, functional&mechanical, seats',\n",
       " 'climate, seats, climate, climate, steering&trim, functional&mechanical, functional&mechanical, steering&trim, functional&mechanical, steering&trim, functional&mechanical, functional&mechanical, functional&mechanical, functional&mechanical, bodywork, functional&mechanical, seats, functional&mechanical',\n",
       " 'climate, seats, climate, steering&trim, functional&mechanical, functional&mechanical, steering&trim, functional&mechanical, steering&trim, functional&mechanical, functional&mechanical, functional&mechanical, functional&mechanical, functional&mechanical, bodywork, functional&mechanical, seats, seats, functional&mechanical, bodywork',\n",
       " 'climate, climate, steering&trim, functional&mechanical, bodywork, functional&mechanical, bodywork',\n",
       " 'climate, seats, climate, steering&trim, functional&mechanical, functional&mechanical, steering&trim, functional&mechanical, steering&trim, functional&mechanical, functional&mechanical, functional&mechanical, functional&mechanical, bodywork, functional&mechanical, seats, seats, functional&mechanical, bodywork',\n",
       " 'climate, seats, climate, steering&trim, functional&mechanical, functional&mechanical, steering&trim, functional&mechanical, seats, steering&trim, functional&mechanical, functional&mechanical, functional&mechanical, functional&mechanical, bodywork, functional&mechanical, seats, functional&mechanical',\n",
       " 'climate, climate, steering&trim, functional&mechanical, functional&mechanical, functional&mechanical, seats',\n",
       " 'climate, functional&mechanical, steering&trim, seats, bodywork',\n",
       " 'climate, seats, climate, steering&trim, functional&mechanical, functional&mechanical, steering&trim, seats, steering&trim, functional&mechanical, functional&mechanical, functional&mechanical, bodywork, functional&mechanical, seats, functional&mechanical',\n",
       " 'steering&trim, functional&mechanical, bodywork',\n",
       " 'climate, steering&trim, functional&mechanical, steering&trim, functional&mechanical, functional&mechanical, bodywork, seats, functional&mechanical',\n",
       " 'climate, seats, climate, steering&trim, functional&mechanical, seats, functional&mechanical, steering&trim, functional&mechanical, seats, steering&trim, functional&mechanical, bodywork, functional&mechanical, functional&mechanical, functional&mechanical, bodywork, functional&mechanical, seats, functional&mechanical',\n",
       " 'climate, seats, climate, steering&trim, functional&mechanical, functional&mechanical, security, steering&trim, functional&mechanical, seats, steering&trim, functional&mechanical, functional&mechanical, functional&mechanical, bodywork, functional&mechanical, seats, functional&mechanical',\n",
       " 'climate, seats, climate, steering&trim, functional&mechanical, functional&mechanical, seats, functional&mechanical, steering&trim, functional&mechanical, seats, steering&trim, functional&mechanical, functional&mechanical, functional&mechanical, functional&mechanical, bodywork, functional&mechanical, seats, functional&mechanical',\n",
       " 'climate, steering&trim, functional&mechanical, steering&trim, bodywork, seats, functional&mechanical',\n",
       " 'climate, steering&trim, functional&mechanical, bodywork, bodywork',\n",
       " 'climate, climate, steering&trim, functional&mechanical, steering&trim, functional&mechanical, bodywork',\n",
       " 'functional&mechanical, seats, climate, climate, functional&mechanical, security, functional&mechanical, steering&trim, functional&mechanical, functional&mechanical, functional&mechanical',\n",
       " 'climate, seats, climate, steering&trim, functional&mechanical, steering&trim, functional&mechanical, security, steering&trim, functional&mechanical, seats, steering&trim, functional&mechanical, functional&mechanical, functional&mechanical, functional&mechanical, functional&mechanical, bodywork, functional&mechanical, seats, seats, bodywork',\n",
       " 'seats, climate, climate, steering&trim, functional&mechanical, functional&mechanical, security, steering&trim, functional&mechanical, steering&trim, functional&mechanical, functional&mechanical, bodywork, functional&mechanical, functional&mechanical, bodywork',\n",
       " 'climate, climate, steering&trim, functional&mechanical, steering&trim, functional&mechanical, steering&trim, functional&mechanical, steering&trim, functional&mechanical, bodywork, functional&mechanical, seats, seats, bodywork',\n",
       " 'climate, steering&trim, functional&mechanical, steering&trim, bodywork, bodywork',\n",
       " 'climate, functional&mechanical, steering&trim, bodywork, bodywork, bodywork',\n",
       " 'climate, climate, steering&trim, functional&mechanical, seats',\n",
       " 'climate, seats, climate, steering&trim, functional&mechanical, functional&mechanical, steering&trim, functional&mechanical, seats, steering&trim, functional&mechanical, functional&mechanical, bodywork, functional&mechanical, bodywork',\n",
       " 'climate, steering&trim, functional&mechanical, functional&mechanical',\n",
       " 'climate, seats, steering&trim, functional&mechanical, steering&trim, bodywork',\n",
       " 'climate, steering&trim, steering&trim, bodywork, functional&mechanical',\n",
       " 'climate, steering&trim, functional&mechanical, functional&mechanical, steering&trim, steering&trim, bodywork, functional&mechanical, bodywork',\n",
       " 'climate, seats, climate, steering&trim, functional&mechanical, functional&mechanical, security, steering&trim, functional&mechanical, steering&trim, functional&mechanical, functional&mechanical, bodywork, functional&mechanical, seats',\n",
       " 'climate, functional&mechanical, functional&mechanical, bodywork, seats',\n",
       " 'climate, climate, steering&trim, functional&mechanical, functional&mechanical, steering&trim, bodywork, functional&mechanical',\n",
       " 'climate, climate, steering&trim, functional&mechanical, steering&trim, bodywork, functional&mechanical, seats',\n",
       " 'climate, climate, steering&trim, functional&mechanical, functional&mechanical, seats',\n",
       " 'climate, seats, climate, steering&trim, functional&mechanical, functional&mechanical, seats, seats, steering&trim, functional&mechanical, security, steering&trim, functional&mechanical, seats, steering&trim, functional&mechanical, functional&mechanical, functional&mechanical, functional&mechanical, bodywork, functional&mechanical, seats, functional&mechanical',\n",
       " 'climate, seats, climate, steering&trim, functional&mechanical, functional&mechanical, security, steering&trim, functional&mechanical, seats, steering&trim, functional&mechanical, bodywork, functional&mechanical, functional&mechanical, functional&mechanical, bodywork, functional&mechanical, seats, functional&mechanical, bodywork, bodywork',\n",
       " 'functional&mechanical, bodywork, seats, bodywork',\n",
       " 'climate, seats, climate, steering&trim, functional&mechanical, functional&mechanical, security, steering&trim, functional&mechanical, seats, steering&trim, functional&mechanical, functional&mechanical, functional&mechanical, functional&mechanical, bodywork, functional&mechanical, seats, functional&mechanical',\n",
       " 'climate, steering&trim, functional&mechanical, steering&trim, steering&trim, functional&mechanical, bodywork',\n",
       " 'climate, functional&mechanical, steering&trim, steering&trim, functional&mechanical, bodywork',\n",
       " 'climate, seats, climate, steering&trim, functional&mechanical, seats, steering&trim, functional&mechanical, steering&trim, functional&mechanical, seats, steering&trim, functional&mechanical, functional&mechanical, functional&mechanical, functional&mechanical, functional&mechanical, bodywork, functional&mechanical, seats, seats, functional&mechanical, bodywork',\n",
       " 'climate, climate, functional&mechanical, bodywork, seats',\n",
       " 'climate, steering&trim, functional&mechanical, steering&trim, bodywork, seats',\n",
       " 'climate, functional&mechanical, functional&mechanical, bodywork, functional&mechanical',\n",
       " 'climate, climate, functional&mechanical, functional&mechanical, bodywork',\n",
       " 'climate, seats, climate, steering&trim, functional&mechanical, functional&mechanical, steering&trim, functional&mechanical, seats, steering&trim, functional&mechanical, functional&mechanical, bodywork, functional&mechanical, seats, functional&mechanical',\n",
       " 'climate, climate, functional&mechanical, steering&trim, bodywork, seats',\n",
       " 'climate, seats, climate, steering&trim, functional&mechanical, functional&mechanical, steering&trim, functional&mechanical, security, steering&trim, functional&mechanical, seats, steering&trim, functional&mechanical, functional&mechanical, functional&mechanical, functional&mechanical, bodywork, functional&mechanical, seats, functional&mechanical',\n",
       " 'climate, seats, climate, climate, steering&trim, functional&mechanical, functional&mechanical, seats, seats, steering&trim, functional&mechanical, security, steering&trim, functional&mechanical, seats, steering&trim, functional&mechanical, functional&mechanical, functional&mechanical, functional&mechanical, bodywork, functional&mechanical, seats, functional&mechanical',\n",
       " 'climate, seats, climate, steering&trim, functional&mechanical, seats, functional&mechanical, steering&trim, functional&mechanical, security, steering&trim, functional&mechanical, seats, steering&trim, functional&mechanical, functional&mechanical, functional&mechanical, functional&mechanical, bodywork, functional&mechanical, seats, seats, functional&mechanical, bodywork',\n",
       " 'climate, functional&mechanical, functional&mechanical',\n",
       " 'climate, functional&mechanical, functional&mechanical, functional&mechanical, bodywork',\n",
       " 'climate, seats, climate, steering&trim, functional&mechanical, functional&mechanical, steering&trim, functional&mechanical, seats, steering&trim, functional&mechanical, functional&mechanical, functional&mechanical, bodywork, functional&mechanical, seats, functional&mechanical, bodywork',\n",
       " 'climate, seats, climate, climate, steering&trim, functional&mechanical, steering&trim, functional&mechanical, security, steering&trim, functional&mechanical, seats, steering&trim, functional&mechanical, functional&mechanical, functional&mechanical, functional&mechanical, functional&mechanical, bodywork, functional&mechanical, seats, bodywork',\n",
       " 'climate, climate, steering&trim, functional&mechanical, functional&mechanical, functional&mechanical, functional&mechanical',\n",
       " 'functional&mechanical, climate, seats, climate, steering&trim, functional&mechanical, seats, functional&mechanical, steering&trim, functional&mechanical, security, steering&trim, functional&mechanical, seats, steering&trim, functional&mechanical, functional&mechanical, functional&mechanical, functional&mechanical, functional&mechanical, bodywork, functional&mechanical, seats, seats, functional&mechanical, bodywork',\n",
       " 'steering&trim, functional&mechanical, functional&mechanical, bodywork',\n",
       " 'climate, seats, climate, steering&trim, functional&mechanical, steering&trim, functional&mechanical, steering&trim, functional&mechanical, seats, steering&trim, functional&mechanical, functional&mechanical, functional&mechanical, bodywork, functional&mechanical, seats, functional&mechanical',\n",
       " 'climate, seats, climate, climate, steering&trim, functional&mechanical, functional&mechanical, seats, functional&mechanical, security, steering&trim, functional&mechanical, seats, steering&trim, functional&mechanical, bodywork, functional&mechanical, functional&mechanical, functional&mechanical, bodywork, functional&mechanical, seats, functional&mechanical, bodywork',\n",
       " 'climate, steering&trim, seats',\n",
       " 'climate, seats, climate, steering&trim, functional&mechanical, functional&mechanical, security, steering&trim, functional&mechanical, seats, steering&trim, functional&mechanical, functional&mechanical, bodywork, functional&mechanical, bodywork',\n",
       " 'climate, climate, steering&trim, functional&mechanical, functional&mechanical, bodywork, seats, functional&mechanical',\n",
       " 'climate, seats, climate, steering&trim, functional&mechanical, steering&trim, functional&mechanical, bodywork',\n",
       " 'steering&trim, functional&mechanical, steering&trim, bodywork',\n",
       " 'climate, climate, steering&trim, functional&mechanical, functional&mechanical, bodywork, functional&mechanical, bodywork',\n",
       " 'climate, seats, climate, steering&trim, functional&mechanical, seats, steering&trim, functional&mechanical, security, steering&trim, functional&mechanical, seats, steering&trim, functional&mechanical, functional&mechanical, functional&mechanical, bodywork, functional&mechanical, seats, functional&mechanical',\n",
       " 'climate, functional&mechanical, steering&trim, functional&mechanical, bodywork',\n",
       " 'climate, seats, climate, steering&trim, functional&mechanical, steering&trim, functional&mechanical, steering&trim, functional&mechanical, steering&trim, functional&mechanical, functional&mechanical, functional&mechanical, functional&mechanical, bodywork, functional&mechanical, seats, functional&mechanical',\n",
       " 'climate, functional&mechanical, steering&trim, bodywork, seats, bodywork',\n",
       " 'climate, seats, steering&trim, functional&mechanical, functional&mechanical, steering&trim, functional&mechanical, functional&mechanical, bodywork, functional&mechanical',\n",
       " 'climate, seats, climate, steering&trim, functional&mechanical, steering&trim, functional&mechanical, steering&trim, functional&mechanical, functional&mechanical, functional&mechanical, bodywork, functional&mechanical, seats, functional&mechanical',\n",
       " 'climate, steering&trim, functional&mechanical, functional&mechanical, steering&trim, functional&mechanical, bodywork, seats',\n",
       " 'climate, seats, steering&trim, bodywork',\n",
       " 'climate, climate, steering&trim, steering&trim, bodywork, bodywork, functional&mechanical',\n",
       " 'climate, steering&trim, functional&mechanical, functional&mechanical, steering&trim, functional&mechanical, steering&trim, functional&mechanical, bodywork, functional&mechanical, functional&mechanical, bodywork',\n",
       " 'climate, seats, climate, steering&trim, functional&mechanical, steering&trim, steering&trim, functional&mechanical, bodywork, seats',\n",
       " 'climate, climate, steering&trim, functional&mechanical, steering&trim, steering&trim, functional&mechanical, bodywork, functional&mechanical',\n",
       " 'climate, steering&trim, functional&mechanical, bodywork, seats',\n",
       " 'climate, seats, climate, climate, steering&trim, functional&mechanical, seats, seats, steering&trim, functional&mechanical, steering&trim, functional&mechanical, seats, steering&trim, functional&mechanical, functional&mechanical, functional&mechanical, functional&mechanical, bodywork, functional&mechanical, seats, seats, functional&mechanical, bodywork',\n",
       " 'climate, seats, steering&trim, functional&mechanical, steering&trim, steering&trim, functional&mechanical, bodywork, seats, functional&mechanical',\n",
       " 'climate, bodywork, seats, bodywork',\n",
       " 'functional&mechanical, steering&trim, bodywork, bodywork, bodywork',\n",
       " 'functional&mechanical, steering&trim, functional&mechanical, functional&mechanical, functional&mechanical, bodywork, seats',\n",
       " 'climate, seats, climate, steering&trim, functional&mechanical, functional&mechanical, steering&trim, functional&mechanical, steering&trim, functional&mechanical, functional&mechanical, functional&mechanical, bodywork, functional&mechanical',\n",
       " 'climate, climate, steering&trim, functional&mechanical, functional&mechanical, steering&trim, functional&mechanical, steering&trim, functional&mechanical, functional&mechanical, bodywork, functional&mechanical, seats, seats, functional&mechanical',\n",
       " 'climate, steering&trim, functional&mechanical, functional&mechanical, bodywork, functional&mechanical',\n",
       " 'functional&mechanical, functional&mechanical, bodywork',\n",
       " 'seats, steering&trim, functional&mechanical, functional&mechanical, seats, seats, steering&trim, functional&mechanical, security, steering&trim, functional&mechanical, seats, steering&trim, functional&mechanical, functional&mechanical, functional&mechanical, functional&mechanical, bodywork, functional&mechanical, seats',\n",
       " 'climate, seats, climate, steering&trim, functional&mechanical, steering&trim, steering&trim, functional&mechanical, bodywork',\n",
       " 'climate, seats, climate, climate, steering&trim, functional&mechanical, functional&mechanical, seats, steering&trim, functional&mechanical, security, steering&trim, functional&mechanical, seats, steering&trim, functional&mechanical, functional&mechanical, functional&mechanical, functional&mechanical, bodywork, functional&mechanical, seats, functional&mechanical',\n",
       " 'climate, climate, steering&trim, functional&mechanical, steering&trim, bodywork, seats, functional&mechanical',\n",
       " 'climate, climate, steering&trim, functional&mechanical, steering&trim, functional&mechanical, functional&mechanical, bodywork',\n",
       " 'steering&trim, functional&mechanical, bodywork, functional&mechanical, seats',\n",
       " 'climate, seats, climate, steering&trim, functional&mechanical, steering&trim, functional&mechanical, seats, steering&trim, functional&mechanical, functional&mechanical, functional&mechanical, bodywork, functional&mechanical, seats',\n",
       " 'climate, climate, steering&trim, functional&mechanical, bodywork, seats, bodywork',\n",
       " 'climate, steering&trim, functional&mechanical, functional&mechanical, steering&trim, bodywork',\n",
       " 'climate, seats, climate, steering&trim, functional&mechanical, functional&mechanical, steering&trim, functional&mechanical, steering&trim, functional&mechanical, bodywork, functional&mechanical, seats, functional&mechanical',\n",
       " 'seats, climate, climate, steering&trim, functional&mechanical, functional&mechanical, security, steering&trim, functional&mechanical, steering&trim, functional&mechanical, functional&mechanical, functional&mechanical, bodywork, functional&mechanical, functional&mechanical, bodywork',\n",
       " 'climate, seats, climate, steering&trim, functional&mechanical, steering&trim, functional&mechanical, steering&trim, functional&mechanical, bodywork, functional&mechanical',\n",
       " 'climate, functional&mechanical, steering&trim, bodywork, functional&mechanical, bodywork',\n",
       " 'climate, steering&trim, bodywork, seats, bodywork',\n",
       " 'climate, functional&mechanical, seats, climate, climate, steering&trim, functional&mechanical, functional&mechanical, seats, functional&mechanical, steering&trim, functional&mechanical, security, steering&trim, functional&mechanical, seats, steering&trim, functional&mechanical, bodywork, functional&mechanical, functional&mechanical, functional&mechanical, bodywork, functional&mechanical, seats, functional&mechanical, bodywork',\n",
       " 'climate, seats, climate, climate, steering&trim, functional&mechanical, functional&mechanical, seats, steering&trim, functional&mechanical, steering&trim, functional&mechanical, seats, steering&trim, functional&mechanical, functional&mechanical, functional&mechanical, functional&mechanical, bodywork, functional&mechanical, seats, seats, functional&mechanical, bodywork',\n",
       " 'climate, seats, climate, steering&trim, functional&mechanical, functional&mechanical, steering&trim, functional&mechanical, steering&trim, functional&mechanical, functional&mechanical, functional&mechanical, bodywork, functional&mechanical, seats, seats, functional&mechanical, bodywork',\n",
       " 'climate, seats, steering&trim, functional&mechanical, steering&trim, steering&trim, functional&mechanical, functional&mechanical, bodywork, functional&mechanical',\n",
       " 'climate, climate, functional&mechanical, steering&trim, steering&trim, bodywork',\n",
       " 'climate, climate, steering&trim, functional&mechanical, bodywork, functional&mechanical, seats, bodywork',\n",
       " 'climate, seats, climate, steering&trim, functional&mechanical, functional&mechanical, seats, functional&mechanical, steering&trim, functional&mechanical, seats, steering&trim, functional&mechanical, functional&mechanical, functional&mechanical, bodywork, functional&mechanical, seats, functional&mechanical',\n",
       " 'climate, seats, climate, steering&trim, functional&mechanical, functional&mechanical, security, steering&trim, seats, steering&trim, functional&mechanical, bodywork, functional&mechanical, functional&mechanical, functional&mechanical, functional&mechanical, bodywork, functional&mechanical, seats, functional&mechanical, bodywork',\n",
       " 'climate, functional&mechanical, functional&mechanical, steering&trim, steering&trim, functional&mechanical, bodywork, seats, bodywork',\n",
       " 'climate, seats, climate, climate, steering&trim, functional&mechanical, functional&mechanical, steering&trim, functional&mechanical, steering&trim, functional&mechanical, seats, steering&trim, functional&mechanical, functional&mechanical, functional&mechanical, functional&mechanical, bodywork, functional&mechanical, seats, seats, functional&mechanical, bodywork',\n",
       " 'climate, seats, climate, steering&trim, functional&mechanical, functional&mechanical, security, steering&trim, functional&mechanical, steering&trim, functional&mechanical, functional&mechanical, functional&mechanical, functional&mechanical, bodywork, functional&mechanical, functional&mechanical',\n",
       " 'climate, seats, climate, steering&trim, functional&mechanical, seats, steering&trim, functional&mechanical, security, steering&trim, functional&mechanical, seats, steering&trim, functional&mechanical, functional&mechanical, functional&mechanical, functional&mechanical, bodywork, functional&mechanical, seats, seats, functional&mechanical, bodywork',\n",
       " 'seats, climate, climate, steering&trim, functional&mechanical, steering&trim, functional&mechanical, security, steering&trim, functional&mechanical, seats, steering&trim, functional&mechanical, functional&mechanical, functional&mechanical, functional&mechanical, bodywork, functional&mechanical, seats, functional&mechanical',\n",
       " 'climate, seats, climate, steering&trim, functional&mechanical, seats, steering&trim, seats, steering&trim, functional&mechanical, bodywork, functional&mechanical, seats',\n",
       " 'climate, seats, climate, steering&trim, functional&mechanical, steering&trim, seats, bodywork, seats, bodywork',\n",
       " 'climate, seats, climate, climate, steering&trim, functional&mechanical, functional&mechanical, seats, steering&trim, functional&mechanical, steering&trim, functional&mechanical, seats, steering&trim, functional&mechanical, functional&mechanical, functional&mechanical, functional&mechanical, functional&mechanical, bodywork, functional&mechanical, seats, seats, functional&mechanical, bodywork',\n",
       " 'climate, seats, climate, climate, steering&trim, functional&mechanical, seats, functional&mechanical, steering&trim, functional&mechanical, seats, steering&trim, functional&mechanical, functional&mechanical, functional&mechanical, bodywork, functional&mechanical, seats, functional&mechanical',\n",
       " 'climate, seats, climate, steering&trim, functional&mechanical, seats, steering&trim, functional&mechanical, steering&trim, functional&mechanical, seats, steering&trim, functional&mechanical, functional&mechanical, bodywork, functional&mechanical, seats, functional&mechanical',\n",
       " 'climate, seats, climate, climate, steering&trim, functional&mechanical, seats, steering&trim, functional&mechanical, steering&trim, functional&mechanical, seats, steering&trim, functional&mechanical, functional&mechanical, functional&mechanical, bodywork, functional&mechanical, seats, seats, functional&mechanical, bodywork',\n",
       " 'climate, climate, steering&trim, functional&mechanical, steering&trim, functional&mechanical, steering&trim, functional&mechanical, bodywork, functional&mechanical',\n",
       " 'climate, seats, climate, steering&trim, functional&mechanical, seats, steering&trim, functional&mechanical, security, steering&trim, functional&mechanical, steering&trim, functional&mechanical, functional&mechanical, functional&mechanical, functional&mechanical, bodywork, functional&mechanical, seats, functional&mechanical',\n",
       " 'climate, functional&mechanical, seats, climate, climate, climate, steering&trim, functional&mechanical, functional&mechanical, seats, steering&trim, functional&mechanical, steering&trim, functional&mechanical, seats, steering&trim, functional&mechanical, bodywork, functional&mechanical, functional&mechanical, bodywork, functional&mechanical, seats, functional&mechanical, bodywork',\n",
       " 'climate, seats, functional&mechanical, steering&trim, functional&mechanical, bodywork, seats, bodywork',\n",
       " 'climate, climate, steering&trim, functional&mechanical, functional&mechanical, steering&trim, functional&mechanical, steering&trim, functional&mechanical, bodywork, functional&mechanical, seats, seats, functional&mechanical, bodywork',\n",
       " 'climate, climate, steering&trim, functional&mechanical, functional&mechanical, steering&trim, bodywork',\n",
       " 'climate, seats, climate, steering&trim, functional&mechanical, steering&trim, functional&mechanical, steering&trim, functional&mechanical, steering&trim, functional&mechanical, functional&mechanical, bodywork, functional&mechanical, seats, functional&mechanical',\n",
       " 'climate, seats, climate, steering&trim, functional&mechanical, functional&mechanical, steering&trim, functional&mechanical, steering&trim, functional&mechanical, functional&mechanical, functional&mechanical, functional&mechanical, bodywork, functional&mechanical, seats, functional&mechanical',\n",
       " 'climate, seats, climate, steering&trim, functional&mechanical, security, steering&trim, functional&mechanical, steering&trim, functional&mechanical, functional&mechanical, functional&mechanical, bodywork, functional&mechanical, bodywork',\n",
       " 'climate, seats, climate, steering&trim, functional&mechanical, functional&mechanical, seats, steering&trim, functional&mechanical, security, steering&trim, functional&mechanical, seats, steering&trim, functional&mechanical, functional&mechanical, functional&mechanical, functional&mechanical, bodywork, functional&mechanical, seats, functional&mechanical',\n",
       " 'climate, seats, climate, steering&trim, functional&mechanical, functional&mechanical, functional&mechanical, bodywork, functional&mechanical, seats',\n",
       " 'climate, seats, climate, steering&trim, functional&mechanical, steering&trim, functional&mechanical, security, steering&trim, functional&mechanical, seats, steering&trim, functional&mechanical, functional&mechanical, functional&mechanical, functional&mechanical, bodywork, functional&mechanical, seats',\n",
       " 'climate, seats, climate, climate, steering&trim, functional&mechanical, functional&mechanical, steering&trim, functional&mechanical, seats, steering&trim, functional&mechanical, functional&mechanical, functional&mechanical, bodywork, functional&mechanical, seats, seats, functional&mechanical, bodywork',\n",
       " 'climate, seats, climate, climate, steering&trim, functional&mechanical, steering&trim, functional&mechanical, security, steering&trim, functional&mechanical, seats, steering&trim, functional&mechanical, functional&mechanical, functional&mechanical, functional&mechanical, bodywork, functional&mechanical, seats, functional&mechanical',\n",
       " 'climate, seats, climate, steering&trim, functional&mechanical, functional&mechanical, steering&trim, functional&mechanical, steering&trim, functional&mechanical, functional&mechanical, bodywork, functional&mechanical, seats, functional&mechanical',\n",
       " 'climate, seats, climate, steering&trim, functional&mechanical, functional&mechanical, security, steering&trim, functional&mechanical, steering&trim, functional&mechanical, functional&mechanical, bodywork, functional&mechanical, seats, functional&mechanical',\n",
       " 'climate, seats, climate, steering&trim, functional&mechanical, functional&mechanical, steering&trim, functional&mechanical, steering&trim, functional&mechanical, bodywork, functional&mechanical',\n",
       " 'climate, seats, climate, climate, steering&trim, functional&mechanical, functional&mechanical, seats, seats, steering&trim, functional&mechanical, steering&trim, functional&mechanical, seats, steering&trim, functional&mechanical, functional&mechanical, functional&mechanical, functional&mechanical, functional&mechanical, bodywork, functional&mechanical, seats, seats, functional&mechanical, bodywork',\n",
       " 'seats, climate, climate, steering&trim, functional&mechanical, seats, functional&mechanical, security, steering&trim, functional&mechanical, seats, seats, steering&trim, functional&mechanical, functional&mechanical, bodywork, functional&mechanical, functional&mechanical, bodywork',\n",
       " 'climate, seats, climate, steering&trim, functional&mechanical, steering&trim, functional&mechanical, steering&trim, functional&mechanical, functional&mechanical, bodywork, functional&mechanical, seats, functional&mechanical, bodywork',\n",
       " 'climate, seats, climate, steering&trim, functional&mechanical, functional&mechanical, security, steering&trim, functional&mechanical, steering&trim, functional&mechanical, functional&mechanical, functional&mechanical, bodywork, functional&mechanical, seats',\n",
       " 'climate, seats, climate, climate, steering&trim, functional&mechanical, functional&mechanical, seats, steering&trim, functional&mechanical, steering&trim, functional&mechanical, seats, steering&trim, functional&mechanical, bodywork, functional&mechanical, functional&mechanical, functional&mechanical, bodywork, functional&mechanical, seats, seats, functional&mechanical, bodywork, bodywork',\n",
       " 'climate, seats, climate, steering&trim, functional&mechanical, steering&trim, seats, steering&trim, bodywork, bodywork',\n",
       " 'climate, seats, climate, climate, steering&trim, functional&mechanical, seats, steering&trim, functional&mechanical, security, steering&trim, functional&mechanical, seats, steering&trim, functional&mechanical, functional&mechanical, functional&mechanical, bodywork, functional&mechanical, seats, seats, seats, bodywork',\n",
       " 'climate, steering&trim, functional&mechanical, functional&mechanical, steering&trim, functional&mechanical, steering&trim, functional&mechanical, bodywork, functional&mechanical',\n",
       " 'climate, climate, steering&trim, steering&trim, bodywork, functional&mechanical, seats, functional&mechanical, bodywork',\n",
       " 'climate, climate, steering&trim, functional&mechanical, bodywork, seats, functional&mechanical',\n",
       " 'climate, climate, functional&mechanical, steering&trim, functional&mechanical, bodywork, seats',\n",
       " 'climate, climate, steering&trim, bodywork, bodywork, seats, bodywork',\n",
       " 'climate, seats, steering&trim, functional&mechanical, functional&mechanical, steering&trim, steering&trim, functional&mechanical, functional&mechanical, bodywork, functional&mechanical',\n",
       " 'climate, seats, climate, steering&trim, functional&mechanical, functional&mechanical, steering&trim, functional&mechanical, steering&trim, functional&mechanical, functional&mechanical, bodywork, functional&mechanical, functional&mechanical, bodywork',\n",
       " 'climate, seats, climate, climate, steering&trim, functional&mechanical, steering&trim, functional&mechanical, steering&trim, functional&mechanical, seats, steering&trim, bodywork, functional&mechanical, seats, seats, functional&mechanical, bodywork',\n",
       " 'climate, seats, climate, steering&trim, functional&mechanical, steering&trim, functional&mechanical, steering&trim, functional&mechanical, functional&mechanical, bodywork, functional&mechanical, seats, functional&mechanical',\n",
       " 'climate, seats, steering&trim, functional&mechanical, steering&trim, functional&mechanical, functional&mechanical, functional&mechanical, bodywork, seats',\n",
       " 'climate, steering&trim, functional&mechanical, steering&trim, steering&trim, bodywork, bodywork',\n",
       " 'climate, seats, climate, steering&trim, functional&mechanical, steering&trim, seats, steering&trim, functional&mechanical, bodywork, functional&mechanical, bodywork',\n",
       " 'climate, climate, steering&trim, functional&mechanical, security, steering&trim, functional&mechanical, steering&trim, functional&mechanical, functional&mechanical, functional&mechanical, bodywork, bodywork',\n",
       " 'climate, seats, climate, climate, steering&trim, functional&mechanical, seats, steering&trim, functional&mechanical, steering&trim, functional&mechanical, seats, steering&trim, functional&mechanical, functional&mechanical, functional&mechanical, functional&mechanical, bodywork, functional&mechanical, seats, functional&mechanical',\n",
       " 'seats, functional&mechanical, bodywork',\n",
       " 'seats, climate, climate, steering&trim, functional&mechanical, steering&trim, functional&mechanical, security, steering&trim, functional&mechanical, seats, steering&trim, functional&mechanical, functional&mechanical, functional&mechanical, functional&mechanical, functional&mechanical, bodywork, functional&mechanical, seats, functional&mechanical',\n",
       " 'climate, climate, steering&trim, functional&mechanical, functional&mechanical, security, steering&trim, functional&mechanical, steering&trim, functional&mechanical, functional&mechanical, functional&mechanical, functional&mechanical, bodywork, functional&mechanical, seats, seats, functional&mechanical, bodywork',\n",
       " 'climate, seats, climate, steering&trim, functional&mechanical, functional&mechanical, security, steering&trim, functional&mechanical, seats, steering&trim, functional&mechanical, functional&mechanical, functional&mechanical, functional&mechanical, bodywork, functional&mechanical, seats, functional&mechanical, bodywork',\n",
       " 'climate, climate, steering&trim, functional&mechanical, steering&trim, steering&trim, bodywork',\n",
       " 'climate, seats, climate, steering&trim, functional&mechanical, seats, steering&trim, functional&mechanical, steering&trim, functional&mechanical, steering&trim, functional&mechanical, bodywork, functional&mechanical, seats, functional&mechanical',\n",
       " 'functional&mechanical, climate, seats, climate, steering&trim, functional&mechanical, functional&mechanical, security, steering&trim, functional&mechanical, seats, steering&trim, functional&mechanical, functional&mechanical, functional&mechanical, bodywork, seats, functional&mechanical',\n",
       " 'climate, seats, climate, climate, steering&trim, functional&mechanical, steering&trim, functional&mechanical, seats, steering&trim, functional&mechanical, bodywork, functional&mechanical, seats',\n",
       " 'steering&trim, functional&mechanical, bodywork, functional&mechanical',\n",
       " 'climate, climate, steering&trim, functional&mechanical, steering&trim, functional&mechanical, functional&mechanical, functional&mechanical, functional&mechanical, seats',\n",
       " 'seats, climate, climate, steering&trim, functional&mechanical, seats, steering&trim, functional&mechanical, security, steering&trim, functional&mechanical, seats, steering&trim, functional&mechanical, functional&mechanical, functional&mechanical, functional&mechanical, bodywork, functional&mechanical, seats, seats, functional&mechanical, bodywork',\n",
       " 'climate, climate, steering&trim, functional&mechanical, functional&mechanical, steering&trim, steering&trim, functional&mechanical, functional&mechanical, bodywork, functional&mechanical',\n",
       " 'climate, seats, climate, steering&trim, functional&mechanical, functional&mechanical, steering&trim, functional&mechanical, steering&trim, functional&mechanical, functional&mechanical, functional&mechanical, functional&mechanical, bodywork, functional&mechanical, functional&mechanical',\n",
       " 'climate, steering&trim, functional&mechanical, functional&mechanical, functional&mechanical, bodywork, seats, bodywork',\n",
       " 'climate, climate, functional&mechanical, security, functional&mechanical, functional&mechanical, functional&mechanical, functional&mechanical',\n",
       " 'climate, seats, climate, steering&trim, functional&mechanical, steering&trim, functional&mechanical, steering&trim, functional&mechanical, seats, steering&trim, functional&mechanical, functional&mechanical, functional&mechanical, functional&mechanical, functional&mechanical, bodywork, functional&mechanical, seats, functional&mechanical',\n",
       " 'climate, functional&mechanical, steering&trim, steering&trim, functional&mechanical, bodywork, functional&mechanical',\n",
       " 'climate, functional&mechanical, functional&mechanical, steering&trim, functional&mechanical, steering&trim, bodywork, functional&mechanical',\n",
       " 'climate, seats, steering&trim, functional&mechanical, bodywork, functional&mechanical',\n",
       " 'functional&mechanical, seats, climate, climate, functional&mechanical, security, functional&mechanical, steering&trim, functional&mechanical, functional&mechanical, functional&mechanical, functional&mechanical',\n",
       " 'climate, steering&trim, functional&mechanical, functional&mechanical, bodywork',\n",
       " 'climate, seats, steering&trim, functional&mechanical, bodywork',\n",
       " 'climate, seats, climate, steering&trim, functional&mechanical, seats, functional&mechanical, steering&trim, seats, steering&trim, functional&mechanical, functional&mechanical, functional&mechanical, bodywork, functional&mechanical, seats, functional&mechanical',\n",
       " 'climate, climate, steering&trim, functional&mechanical, functional&mechanical, security, steering&trim, functional&mechanical, steering&trim, functional&mechanical, functional&mechanical, bodywork, functional&mechanical, functional&mechanical',\n",
       " 'climate, climate, steering&trim, functional&mechanical, steering&trim, seats, steering&trim, functional&mechanical, functional&mechanical, bodywork, seats',\n",
       " 'climate, steering&trim, functional&mechanical, steering&trim, functional&mechanical, steering&trim, functional&mechanical, steering&trim, functional&mechanical, bodywork, functional&mechanical, seats, seats, functional&mechanical, bodywork',\n",
       " 'climate, functional&mechanical, functional&mechanical, functional&mechanical, bodywork, functional&mechanical',\n",
       " 'climate, climate, functional&mechanical, bodywork, bodywork, bodywork',\n",
       " 'climate, seats, steering&trim, functional&mechanical, steering&trim, steering&trim, bodywork',\n",
       " 'climate, functional&mechanical, functional&mechanical, steering&trim, bodywork',\n",
       " 'climate, seats, steering&trim, functional&mechanical, functional&mechanical, steering&trim, functional&mechanical, bodywork, functional&mechanical',\n",
       " 'bodywork, functional&mechanical, bodywork',\n",
       " 'climate, steering&trim, functional&mechanical, functional&mechanical, steering&trim, functional&mechanical, bodywork',\n",
       " 'bodywork, seats',\n",
       " 'climate, seats, climate, steering&trim, functional&mechanical, functional&mechanical, steering&trim, seats, steering&trim, functional&mechanical, functional&mechanical, bodywork, functional&mechanical, seats, functional&mechanical',\n",
       " 'climate, seats, climate, climate, steering&trim, functional&mechanical, functional&mechanical, seats, steering&trim, functional&mechanical, security, steering&trim, functional&mechanical, seats, steering&trim, functional&mechanical, functional&mechanical, functional&mechanical, functional&mechanical, bodywork, functional&mechanical, seats, seats, functional&mechanical, bodywork',\n",
       " 'climate, steering&trim, functional&mechanical, bodywork, seats, bodywork',\n",
       " 'climate, steering&trim, functional&mechanical, steering&trim, functional&mechanical, steering&trim, functional&mechanical, steering&trim, functional&mechanical, bodywork, functional&mechanical, seats, functional&mechanical',\n",
       " 'climate, seats, steering&trim, functional&mechanical, steering&trim, steering&trim, functional&mechanical, bodywork, seats',\n",
       " 'steering&trim, functional&mechanical',\n",
       " 'climate, climate, bodywork, functional&mechanical, seats',\n",
       " 'climate, seats, climate, climate, steering&trim, functional&mechanical, functional&mechanical, security, steering&trim, functional&mechanical, seats, steering&trim, functional&mechanical, functional&mechanical, functional&mechanical, bodywork, functional&mechanical, seats, seats, functional&mechanical, bodywork',\n",
       " 'climate, functional&mechanical, functional&mechanical, steering&trim, steering&trim, functional&mechanical, bodywork',\n",
       " 'climate, seats, climate, steering&trim, functional&mechanical, functional&mechanical, security, steering&trim, functional&mechanical, steering&trim, functional&mechanical, functional&mechanical, functional&mechanical, functional&mechanical, functional&mechanical, bodywork, functional&mechanical, seats, functional&mechanical',\n",
       " 'climate, seats, climate, climate, steering&trim, functional&mechanical, seats, functional&mechanical, functional&mechanical, security, steering&trim, functional&mechanical, seats, steering&trim, functional&mechanical, functional&mechanical, functional&mechanical, functional&mechanical, functional&mechanical, bodywork, functional&mechanical, seats, seats, functional&mechanical',\n",
       " 'steering&trim, steering&trim, bodywork, functional&mechanical, seats, functional&mechanical',\n",
       " 'climate, seats, climate, steering&trim, functional&mechanical, functional&mechanical, seats, seats, functional&mechanical, steering&trim, functional&mechanical, security, steering&trim, functional&mechanical, seats, steering&trim, functional&mechanical, functional&mechanical, functional&mechanical, functional&mechanical, bodywork, functional&mechanical, seats, seats, bodywork',\n",
       " 'climate, climate, seats, functional&mechanical, seats, steering&trim, bodywork, seats',\n",
       " 'climate, steering&trim, functional&mechanical, functional&mechanical, steering&trim, bodywork, bodywork, functional&mechanical',\n",
       " 'climate, functional&mechanical, seats, climate, climate, functional&mechanical, functional&mechanical, seats, seats, functional&mechanical, security, steering&trim, functional&mechanical, seats, steering&trim, functional&mechanical, functional&mechanical, functional&mechanical, functional&mechanical, bodywork, functional&mechanical, seats, functional&mechanical',\n",
       " 'climate, seats, climate, steering&trim, functional&mechanical, functional&mechanical, security, steering&trim, functional&mechanical, seats, steering&trim, functional&mechanical, functional&mechanical, functional&mechanical, functional&mechanical, functional&mechanical, bodywork, functional&mechanical, bodywork',\n",
       " 'climate, seats, climate, steering&trim, functional&mechanical, steering&trim, functional&mechanical, security, steering&trim, functional&mechanical, seats, steering&trim, functional&mechanical, functional&mechanical, functional&mechanical, functional&mechanical, functional&mechanical, bodywork, functional&mechanical, seats',\n",
       " 'climate, seats, climate, steering&trim, functional&mechanical, bodywork',\n",
       " 'climate, seats, climate, steering&trim, functional&mechanical, functional&mechanical, functional&mechanical, steering&trim, functional&mechanical, seats, steering&trim, functional&mechanical, functional&mechanical, functional&mechanical, functional&mechanical, bodywork, functional&mechanical, seats, functional&mechanical',\n",
       " 'climate, steering&trim, functional&mechanical, functional&mechanical, bodywork, seats, functional&mechanical',\n",
       " 'climate, climate, functional&mechanical, steering&trim, functional&mechanical, functional&mechanical, bodywork, functional&mechanical, seats',\n",
       " 'climate, seats, climate, steering&trim, functional&mechanical, seats, steering&trim, functional&mechanical, steering&trim, functional&mechanical, functional&mechanical, functional&mechanical, bodywork, functional&mechanical, seats',\n",
       " 'climate, seats, climate, steering&trim, functional&mechanical, functional&mechanical, functional&mechanical, bodywork, seats, functional&mechanical',\n",
       " 'climate, seats, climate, steering&trim, functional&mechanical, seats, steering&trim, functional&mechanical, security, steering&trim, functional&mechanical, seats, steering&trim, functional&mechanical, functional&mechanical, functional&mechanical, bodywork, functional&mechanical, seats, seats, functional&mechanical, bodywork',\n",
       " 'steering&trim, bodywork, seats, bodywork',\n",
       " 'climate, functional&mechanical, functional&mechanical, steering&trim, bodywork, functional&mechanical',\n",
       " 'climate, seats, climate, steering&trim, functional&mechanical, functional&mechanical, steering&trim, functional&mechanical, seats, steering&trim, functional&mechanical, functional&mechanical, functional&mechanical, functional&mechanical, functional&mechanical, bodywork, functional&mechanical, seats, functional&mechanical',\n",
       " 'climate, seats, climate, steering&trim, functional&mechanical, functional&mechanical, steering&trim, functional&mechanical, steering&trim, functional&mechanical, functional&mechanical, functional&mechanical, functional&mechanical, bodywork, functional&mechanical, seats, seats, functional&mechanical',\n",
       " 'climate, steering&trim, functional&mechanical, functional&mechanical, functional&mechanical, bodywork, functional&mechanical',\n",
       " 'climate, seats, climate, climate, steering&trim, functional&mechanical, functional&mechanical, steering&trim, functional&mechanical, seats, steering&trim, functional&mechanical, functional&mechanical, bodywork, functional&mechanical, seats, functional&mechanical',\n",
       " 'seats, climate, climate, steering&trim, functional&mechanical, security, steering&trim, functional&mechanical, steering&trim, functional&mechanical, functional&mechanical, functional&mechanical, bodywork, functional&mechanical, functional&mechanical',\n",
       " 'steering&trim, functional&mechanical, bodywork, bodywork',\n",
       " 'climate, seats, climate, steering&trim, functional&mechanical, steering&trim, steering&trim, functional&mechanical, bodywork, seats, functional&mechanical',\n",
       " 'climate, climate, functional&mechanical, bodywork, functional&mechanical, seats',\n",
       " 'climate, seats, climate, functional&mechanical, steering&trim, functional&mechanical, bodywork',\n",
       " 'climate, seats, climate, climate, steering&trim, functional&mechanical, seats, steering&trim, functional&mechanical, steering&trim, functional&mechanical, seats, steering&trim, functional&mechanical, functional&mechanical, functional&mechanical, functional&mechanical, bodywork, functional&mechanical, seats, seats, seats, functional&mechanical, bodywork, bodywork',\n",
       " 'climate, functional&mechanical, functional&mechanical, steering&trim, steering&trim, bodywork, bodywork',\n",
       " 'climate, steering&trim, functional&mechanical, bodywork, functional&mechanical, bodywork',\n",
       " 'climate, seats, climate, climate, steering&trim, functional&mechanical, seats, functional&mechanical, steering&trim, seats, steering&trim, functional&mechanical, functional&mechanical, bodywork, functional&mechanical, seats, functional&mechanical',\n",
       " 'steering&trim, functional&mechanical, steering&trim, bodywork, functional&mechanical',\n",
       " 'climate, climate, steering&trim, functional&mechanical, functional&mechanical',\n",
       " 'climate, seats, climate, climate, steering&trim, functional&mechanical, functional&mechanical, steering&trim, functional&mechanical, steering&trim, functional&mechanical, functional&mechanical, functional&mechanical, functional&mechanical, bodywork, functional&mechanical, seats, seats, functional&mechanical, bodywork',\n",
       " 'climate, seats, climate, climate, climate, functional&mechanical, functional&mechanical, seats, functional&mechanical, steering&trim, functional&mechanical, security, steering&trim, functional&mechanical, seats, steering&trim, functional&mechanical, bodywork, functional&mechanical, functional&mechanical, functional&mechanical, bodywork, functional&mechanical, seats, functional&mechanical, bodywork',\n",
       " 'climate, seats, climate, steering&trim, functional&mechanical, functional&mechanical, seats, functional&mechanical, steering&trim, functional&mechanical, seats, steering&trim, functional&mechanical, functional&mechanical, functional&mechanical, functional&mechanical, functional&mechanical, bodywork, functional&mechanical, seats, functional&mechanical',\n",
       " 'climate, functional&mechanical, seats, climate, climate, climate, functional&mechanical, functional&mechanical, seats, steering&trim, functional&mechanical, steering&trim, functional&mechanical, seats, steering&trim, functional&mechanical, bodywork, functional&mechanical, functional&mechanical, bodywork, functional&mechanical, seats, functional&mechanical, bodywork',\n",
       " 'climate, seats, climate, steering&trim, functional&mechanical, seats, seats, steering&trim, seats, steering&trim, bodywork, functional&mechanical',\n",
       " 'climate, seats, climate, steering&trim, functional&mechanical, functional&mechanical, seats, functional&mechanical, security, steering&trim, functional&mechanical, seats, steering&trim, functional&mechanical, functional&mechanical, functional&mechanical, functional&mechanical, functional&mechanical, bodywork, functional&mechanical, seats, functional&mechanical',\n",
       " 'climate, seats, climate, climate, steering&trim, functional&mechanical, seats, functional&mechanical, steering&trim, functional&mechanical, seats, steering&trim, functional&mechanical, functional&mechanical, functional&mechanical, functional&mechanical, functional&mechanical, bodywork, functional&mechanical, seats, seats, functional&mechanical, bodywork',\n",
       " 'climate, seats, functional&mechanical, steering&trim, seats, bodywork, bodywork',\n",
       " 'climate, seats, steering&trim, functional&mechanical, functional&mechanical, steering&trim, functional&mechanical, steering&trim, functional&mechanical, functional&mechanical, functional&mechanical, bodywork, functional&mechanical, seats, functional&mechanical',\n",
       " 'climate, seats, climate, steering&trim, functional&mechanical, functional&mechanical, security, steering&trim, functional&mechanical, seats, steering&trim, functional&mechanical, bodywork, functional&mechanical, seats, functional&mechanical',\n",
       " 'climate, climate, functional&mechanical, steering&trim, functional&mechanical, functional&mechanical, bodywork, functional&mechanical, seats, functional&mechanical',\n",
       " 'climate, seats, climate, steering&trim, functional&mechanical, steering&trim, functional&mechanical, seats, steering&trim, bodywork',\n",
       " 'seats, climate, climate, steering&trim, functional&mechanical, functional&mechanical, steering&trim, functional&mechanical, steering&trim, functional&mechanical, functional&mechanical, bodywork, functional&mechanical, functional&mechanical',\n",
       " 'climate, climate, steering&trim, functional&mechanical, steering&trim, bodywork, functional&mechanical, seats, functional&mechanical, bodywork',\n",
       " 'climate, seats, climate, climate, climate, steering&trim, functional&mechanical, functional&mechanical, seats, steering&trim, functional&mechanical, steering&trim, functional&mechanical, seats, steering&trim, functional&mechanical, functional&mechanical, functional&mechanical, functional&mechanical, bodywork, functional&mechanical, seats, functional&mechanical',\n",
       " 'climate, climate, steering&trim, functional&mechanical, security, steering&trim, functional&mechanical, steering&trim, functional&mechanical, functional&mechanical, functional&mechanical, functional&mechanical, bodywork, functional&mechanical, seats, functional&mechanical',\n",
       " 'climate, climate, steering&trim, functional&mechanical, functional&mechanical, functional&mechanical, steering&trim, functional&mechanical, functional&mechanical, bodywork, functional&mechanical, functional&mechanical',\n",
       " 'climate, seats, climate, steering&trim, steering&trim, bodywork',\n",
       " 'climate, seats, functional&mechanical, seats, steering&trim, bodywork',\n",
       " 'climate, steering&trim, functional&mechanical, steering&trim, bodywork, functional&mechanical, bodywork',\n",
       " 'climate, seats, climate, climate, steering&trim, functional&mechanical, functional&mechanical, security, steering&trim, seats, steering&trim, functional&mechanical, bodywork, functional&mechanical, functional&mechanical, functional&mechanical, functional&mechanical, bodywork, functional&mechanical, seats, functional&mechanical, bodywork',\n",
       " 'climate, seats, climate, steering&trim, functional&mechanical, steering&trim, steering&trim, functional&mechanical, bodywork, functional&mechanical',\n",
       " 'climate, seats, climate, steering&trim, functional&mechanical, functional&mechanical, steering&trim, functional&mechanical, seats, steering&trim, functional&mechanical, functional&mechanical, functional&mechanical, bodywork, functional&mechanical, functional&mechanical, bodywork',\n",
       " 'climate, climate, steering&trim, steering&trim, bodywork, seats',\n",
       " 'climate, seats, climate, steering&trim, functional&mechanical, steering&trim, functional&mechanical, bodywork, functional&mechanical',\n",
       " 'climate, seats, steering&trim, functional&mechanical, seats, steering&trim, functional&mechanical, steering&trim, functional&mechanical, steering&trim, functional&mechanical, functional&mechanical, functional&mechanical, bodywork, functional&mechanical, seats, seats, functional&mechanical, bodywork',\n",
       " 'climate, seats, climate, steering&trim, functional&mechanical, functional&mechanical, bodywork',\n",
       " 'climate, seats, climate, climate, steering&trim, functional&mechanical, steering&trim, functional&mechanical, steering&trim, functional&mechanical, seats, steering&trim, functional&mechanical, functional&mechanical, functional&mechanical, functional&mechanical, bodywork, functional&mechanical, seats, seats, bodywork',\n",
       " 'seats, steering&trim, functional&mechanical, functional&mechanical, steering&trim, steering&trim, functional&mechanical, functional&mechanical, bodywork, seats, functional&mechanical',\n",
       " 'climate, seats, climate, steering&trim, functional&mechanical, functional&mechanical, security, steering&trim, functional&mechanical, seats, steering&trim, functional&mechanical, functional&mechanical, bodywork, functional&mechanical, seats, functional&mechanical',\n",
       " 'climate, seats, climate, climate, steering&trim, functional&mechanical, seats, functional&mechanical, steering&trim, functional&mechanical, seats, steering&trim, functional&mechanical, functional&mechanical, functional&mechanical, functional&mechanical, bodywork, functional&mechanical, seats, functional&mechanical',\n",
       " 'climate, seats, climate, steering&trim, functional&mechanical, steering&trim, functional&mechanical, seats, steering&trim, functional&mechanical, functional&mechanical, functional&mechanical, functional&mechanical, bodywork, functional&mechanical, seats, functional&mechanical',\n",
       " 'climate, functional&mechanical, functional&mechanical, steering&trim, steering&trim, bodywork',\n",
       " 'climate, seats, climate, steering&trim, steering&trim, functional&mechanical, seats, steering&trim, functional&mechanical, bodywork, functional&mechanical, functional&mechanical, functional&mechanical, functional&mechanical, functional&mechanical, seats, functional&mechanical, bodywork',\n",
       " 'functional&mechanical, seats, bodywork',\n",
       " 'climate, seats, climate, steering&trim, functional&mechanical, functional&mechanical, steering&trim, functional&mechanical, seats, steering&trim, functional&mechanical, bodywork, functional&mechanical',\n",
       " 'climate, seats, climate, steering&trim, functional&mechanical, functional&mechanical, steering&trim, seats, steering&trim, functional&mechanical, functional&mechanical, functional&mechanical, bodywork, seats, functional&mechanical',\n",
       " 'climate, seats, climate, functional&mechanical, security, functional&mechanical, steering&trim, functional&mechanical, functional&mechanical, functional&mechanical',\n",
       " 'climate, seats, climate, steering&trim, functional&mechanical, functional&mechanical, steering&trim, functional&mechanical, steering&trim, functional&mechanical, bodywork, functional&mechanical, functional&mechanical, bodywork, functional&mechanical, seats, functional&mechanical, bodywork',\n",
       " 'climate, seats, climate, steering&trim, functional&mechanical, functional&mechanical, functional&mechanical, steering&trim, functional&mechanical, seats, steering&trim, functional&mechanical, functional&mechanical, functional&mechanical, bodywork, functional&mechanical, seats, seats, functional&mechanical',\n",
       " 'functional&mechanical, bodywork, bodywork, bodywork',\n",
       " 'climate, seats, climate, steering&trim, functional&mechanical, steering&trim, functional&mechanical, seats, steering&trim, functional&mechanical, bodywork, functional&mechanical',\n",
       " 'climate, seats, climate, climate, steering&trim, functional&mechanical, seats, functional&mechanical, security, steering&trim, functional&mechanical, seats, steering&trim, functional&mechanical, functional&mechanical, functional&mechanical, functional&mechanical, bodywork, functional&mechanical, seats, functional&mechanical',\n",
       " 'climate, steering&trim, functional&mechanical, functional&mechanical, functional&mechanical, steering&trim, bodywork, functional&mechanical, bodywork',\n",
       " 'climate, steering&trim, functional&mechanical, functional&mechanical, bodywork, seats, bodywork',\n",
       " 'climate, seats, climate, steering&trim, functional&mechanical, seats, steering&trim, functional&mechanical, steering&trim, functional&mechanical, functional&mechanical, functional&mechanical, functional&mechanical, bodywork, functional&mechanical, seats, functional&mechanical',\n",
       " 'climate, seats, steering&trim, functional&mechanical, steering&trim, functional&mechanical, functional&mechanical, bodywork',\n",
       " 'steering&trim, bodywork, functional&mechanical',\n",
       " 'climate, seats, climate, steering&trim, functional&mechanical, functional&mechanical, steering&trim, functional&mechanical, seats, steering&trim, functional&mechanical, functional&mechanical, functional&mechanical, bodywork, functional&mechanical',\n",
       " 'climate, climate, steering&trim, functional&mechanical, steering&trim, functional&mechanical, functional&mechanical, bodywork, seats',\n",
       " 'climate, seats, climate, steering&trim, functional&mechanical, steering&trim, functional&mechanical, steering&trim, bodywork, seats, functional&mechanical',\n",
       " 'climate, climate, functional&mechanical, security, functional&mechanical, steering&trim, functional&mechanical, functional&mechanical, bodywork, seats, functional&mechanical',\n",
       " 'climate, functional&mechanical, seats',\n",
       " 'climate, seats, steering&trim, functional&mechanical, steering&trim, functional&mechanical, functional&mechanical, bodywork, functional&mechanical',\n",
       " 'climate, seats, climate, climate, steering&trim, functional&mechanical, functional&mechanical, steering&trim, functional&mechanical, seats, steering&trim, functional&mechanical, functional&mechanical, functional&mechanical, functional&mechanical, bodywork, functional&mechanical, seats, functional&mechanical',\n",
       " 'climate, functional&mechanical, steering&trim, steering&trim, functional&mechanical, bodywork, seats',\n",
       " 'climate, seats, steering&trim, functional&mechanical, functional&mechanical, steering&trim, functional&mechanical, steering&trim, functional&mechanical, functional&mechanical, bodywork, functional&mechanical',\n",
       " 'climate, climate, steering&trim, functional&mechanical, steering&trim, functional&mechanical, functional&mechanical, bodywork, functional&mechanical, seats',\n",
       " 'climate, seats, climate, climate, steering&trim, functional&mechanical, functional&mechanical, security, steering&trim, functional&mechanical, seats, steering&trim, functional&mechanical, functional&mechanical, functional&mechanical, functional&mechanical, bodywork, functional&mechanical, seats, seats, functional&mechanical, bodywork',\n",
       " 'climate, functional&mechanical, functional&mechanical, bodywork, bodywork',\n",
       " 'climate, seats, climate, climate, steering&trim, functional&mechanical, seats, steering&trim, functional&mechanical, steering&trim, functional&mechanical, seats, steering&trim, functional&mechanical, functional&mechanical, functional&mechanical, functional&mechanical, bodywork, functional&mechanical, seats, seats, seats, bodywork, bodywork',\n",
       " 'climate, steering&trim, functional&mechanical, steering&trim, steering&trim, bodywork, seats',\n",
       " 'climate, seats, climate, climate, steering&trim, functional&mechanical, functional&mechanical, steering&trim, functional&mechanical, seats, steering&trim, functional&mechanical, functional&mechanical, bodywork, functional&mechanical, seats, seats, functional&mechanical, bodywork',\n",
       " 'climate, seats, climate, steering&trim, functional&mechanical, seats, functional&mechanical, security, steering&trim, functional&mechanical, seats, steering&trim, functional&mechanical, functional&mechanical, functional&mechanical, bodywork, functional&mechanical, seats, functional&mechanical',\n",
       " 'climate, seats, climate, steering&trim, functional&mechanical, functional&mechanical, steering&trim, functional&mechanical, steering&trim, functional&mechanical, functional&mechanical, functional&mechanical, bodywork, functional&mechanical, functional&mechanical',\n",
       " 'climate, climate, functional&mechanical, functional&mechanical, functional&mechanical',\n",
       " 'climate, seats, climate, climate, functional&mechanical, functional&mechanical, steering&trim, functional&mechanical, security, steering&trim, functional&mechanical, seats, steering&trim, functional&mechanical, bodywork, functional&mechanical, functional&mechanical, functional&mechanical, bodywork, functional&mechanical, seats, functional&mechanical',\n",
       " 'security, seats, steering&trim, functional&mechanical, functional&mechanical, functional&mechanical, functional&mechanical, seats, seats',\n",
       " 'climate, climate, functional&mechanical, functional&mechanical, steering&trim, bodywork, functional&mechanical',\n",
       " 'climate, seats, climate, steering&trim, functional&mechanical, functional&mechanical, steering&trim, functional&mechanical, steering&trim, functional&mechanical, functional&mechanical, bodywork, functional&mechanical',\n",
       " 'climate, climate, steering&trim, functional&mechanical, steering&trim, bodywork, functional&mechanical, functional&mechanical',\n",
       " 'climate, seats, climate, steering&trim, functional&mechanical, seats, steering&trim, functional&mechanical, steering&trim, functional&mechanical, steering&trim, functional&mechanical, functional&mechanical, functional&mechanical, functional&mechanical, functional&mechanical, bodywork, functional&mechanical, seats, seats, functional&mechanical',\n",
       " 'functional&mechanical, climate, seats, climate, climate, steering&trim, functional&mechanical, functional&mechanical, seats, seats, steering&trim, functional&mechanical, steering&trim, functional&mechanical, seats, steering&trim, functional&mechanical, functional&mechanical, functional&mechanical, functional&mechanical, bodywork, functional&mechanical, seats, seats, seats, functional&mechanical, bodywork',\n",
       " 'functional&mechanical, functional&mechanical, bodywork, functional&mechanical',\n",
       " 'climate, seats, steering&trim, functional&mechanical, steering&trim, functional&mechanical, steering&trim, functional&mechanical, steering&trim, functional&mechanical, functional&mechanical, bodywork, seats, functional&mechanical',\n",
       " 'climate, seats, climate, steering&trim, functional&mechanical, seats, steering&trim, functional&mechanical, steering&trim, functional&mechanical, seats, steering&trim, functional&mechanical, functional&mechanical, functional&mechanical, functional&mechanical, bodywork, functional&mechanical, seats, seats, functional&mechanical',\n",
       " 'climate, steering&trim, functional&mechanical, steering&trim, steering&trim, functional&mechanical, bodywork, bodywork',\n",
       " 'climate, seats, climate, steering&trim, functional&mechanical, functional&mechanical, security, steering&trim, functional&mechanical, steering&trim, functional&mechanical, functional&mechanical, functional&mechanical, bodywork, functional&mechanical, functional&mechanical',\n",
       " 'climate, seats, climate, steering&trim, functional&mechanical, seats, steering&trim, functional&mechanical, steering&trim, functional&mechanical, seats, steering&trim, functional&mechanical, functional&mechanical, functional&mechanical, functional&mechanical, bodywork, functional&mechanical, seats, seats, functional&mechanical, bodywork',\n",
       " 'climate, seats, climate, climate, functional&mechanical, seats, steering&trim, functional&mechanical, security, steering&trim, functional&mechanical, seats, steering&trim, functional&mechanical, functional&mechanical, functional&mechanical, functional&mechanical, bodywork, functional&mechanical, seats, functional&mechanical',\n",
       " 'climate, seats, climate, steering&trim, functional&mechanical, functional&mechanical, security, steering&trim, functional&mechanical, seats, steering&trim, functional&mechanical, functional&mechanical, functional&mechanical, bodywork, functional&mechanical, seats, functional&mechanical, bodywork',\n",
       " 'climate, climate, steering&trim, functional&mechanical, steering&trim, bodywork, seats, bodywork',\n",
       " 'climate, seats, climate, climate, steering&trim, functional&mechanical, seats, steering&trim, functional&mechanical, steering&trim, functional&mechanical, seats, steering&trim, functional&mechanical, functional&mechanical, functional&mechanical, functional&mechanical, functional&mechanical, bodywork, functional&mechanical, seats, seats, functional&mechanical',\n",
       " 'climate, seats, climate, steering&trim, functional&mechanical, steering&trim, functional&mechanical, steering&trim, functional&mechanical, functional&mechanical, bodywork, functional&mechanical, functional&mechanical',\n",
       " 'climate, seats, climate, steering&trim, seats, steering&trim, functional&mechanical, security, steering&trim, functional&mechanical, seats, steering&trim, functional&mechanical, functional&mechanical, functional&mechanical, functional&mechanical, bodywork, functional&mechanical, seats, seats, functional&mechanical, bodywork',\n",
       " 'climate, climate, functional&mechanical, steering&trim, steering&trim, functional&mechanical, functional&mechanical, bodywork, bodywork',\n",
       " 'climate, steering&trim, functional&mechanical, steering&trim, functional&mechanical, functional&mechanical, bodywork',\n",
       " 'climate, functional&mechanical, functional&mechanical, steering&trim, steering&trim, functional&mechanical, bodywork, functional&mechanical',\n",
       " 'climate, functional&mechanical, steering&trim, bodywork, seats, functional&mechanical',\n",
       " 'climate, seats, steering&trim, functional&mechanical, steering&trim, functional&mechanical, steering&trim, functional&mechanical, steering&trim, functional&mechanical, functional&mechanical, functional&mechanical, functional&mechanical, bodywork, functional&mechanical, seats, functional&mechanical',\n",
       " 'climate, functional&mechanical, steering&trim, steering&trim, functional&mechanical, functional&mechanical, bodywork',\n",
       " 'climate, seats, climate, steering&trim, functional&mechanical, functional&mechanical, steering&trim, functional&mechanical, steering&trim, functional&mechanical, functional&mechanical, bodywork, functional&mechanical, seats',\n",
       " 'climate, seats, steering&trim, bodywork, seats',\n",
       " 'climate, seats, climate, climate, steering&trim, functional&mechanical, steering&trim, functional&mechanical, steering&trim, functional&mechanical, steering&trim, functional&mechanical, functional&mechanical, functional&mechanical, functional&mechanical, bodywork, functional&mechanical, seats, seats, bodywork',\n",
       " 'climate, seats, climate, steering&trim, functional&mechanical, steering&trim, functional&mechanical, bodywork, seats',\n",
       " 'climate, climate, steering&trim, steering&trim, functional&mechanical, functional&mechanical, functional&mechanical',\n",
       " 'climate, climate, steering&trim, functional&mechanical, functional&mechanical, bodywork, seats, bodywork',\n",
       " 'climate, steering&trim, functional&mechanical, functional&mechanical, steering&trim, steering&trim, functional&mechanical, functional&mechanical, bodywork, functional&mechanical, bodywork',\n",
       " 'climate, steering&trim, functional&mechanical, functional&mechanical, functional&mechanical, steering&trim, functional&mechanical, bodywork, functional&mechanical, bodywork, functional&mechanical, functional&mechanical',\n",
       " 'climate, seats, climate, climate, steering&trim, functional&mechanical, functional&mechanical, seats, functional&mechanical, steering&trim, functional&mechanical, steering&trim, functional&mechanical, seats, steering&trim, functional&mechanical, bodywork, functional&mechanical, functional&mechanical, functional&mechanical, bodywork, functional&mechanical, seats, functional&mechanical, bodywork',\n",
       " 'climate, seats, steering&trim, functional&mechanical, functional&mechanical, functional&mechanical',\n",
       " 'climate, seats, steering&trim, functional&mechanical, functional&mechanical, steering&trim, steering&trim, functional&mechanical, functional&mechanical, functional&mechanical, bodywork, functional&mechanical',\n",
       " 'climate, climate, steering&trim, functional&mechanical, functional&mechanical, steering&trim, functional&mechanical, functional&mechanical, bodywork, functional&mechanical',\n",
       " 'climate, seats, climate, steering&trim, functional&mechanical, functional&mechanical, steering&trim, functional&mechanical, seats, steering&trim, functional&mechanical, bodywork, functional&mechanical, functional&mechanical, functional&mechanical, bodywork, functional&mechanical, seats, functional&mechanical, bodywork',\n",
       " 'climate, seats, climate, functional&mechanical, functional&mechanical, steering&trim, functional&mechanical, steering&trim, functional&mechanical, bodywork, functional&mechanical, seats, functional&mechanical',\n",
       " 'climate, seats, climate, steering&trim, functional&mechanical, functional&mechanical, steering&trim, functional&mechanical, steering&trim, functional&mechanical, functional&mechanical, functional&mechanical, bodywork, seats, functional&mechanical',\n",
       " 'climate, climate, steering&trim, functional&mechanical, functional&mechanical, steering&trim, steering&trim, functional&mechanical, bodywork, functional&mechanical',\n",
       " 'climate, steering&trim, functional&mechanical, seats, steering&trim, functional&mechanical, steering&trim, functional&mechanical, steering&trim, functional&mechanical, functional&mechanical, functional&mechanical, bodywork, functional&mechanical, seats, seats, bodywork',\n",
       " 'climate, seats, climate, steering&trim, functional&mechanical, functional&mechanical, seats, steering&trim, functional&mechanical, security, steering&trim, functional&mechanical, seats, steering&trim, functional&mechanical, functional&mechanical, functional&mechanical, functional&mechanical, functional&mechanical, bodywork, functional&mechanical, seats, functional&mechanical',\n",
       " 'climate, steering&trim, functional&mechanical, functional&mechanical, functional&mechanical, steering&trim, bodywork, functional&mechanical',\n",
       " 'climate, steering&trim, steering&trim, functional&mechanical, steering&trim, functional&mechanical, steering&trim, functional&mechanical, bodywork, seats, seats, functional&mechanical, bodywork',\n",
       " 'climate, seats, climate, climate, steering&trim, functional&mechanical, steering&trim, functional&mechanical, security, steering&trim, functional&mechanical, steering&trim, functional&mechanical, bodywork, functional&mechanical, functional&mechanical, functional&mechanical, bodywork, functional&mechanical, seats, functional&mechanical, bodywork',\n",
       " 'climate, climate, climate, steering&trim, functional&mechanical, functional&mechanical, steering&trim, functional&mechanical, steering&trim, functional&mechanical, functional&mechanical, functional&mechanical, bodywork, functional&mechanical, seats',\n",
       " 'climate, seats, steering&trim, functional&mechanical, steering&trim, functional&mechanical, steering&trim, functional&mechanical, steering&trim, functional&mechanical, functional&mechanical, bodywork, functional&mechanical, seats, seats, functional&mechanical',\n",
       " 'climate, seats, bodywork, bodywork',\n",
       " 'climate, steering&trim, functional&mechanical, seats, steering&trim, functional&mechanical, steering&trim, functional&mechanical, steering&trim, functional&mechanical, bodywork, seats, seats, functional&mechanical, bodywork',\n",
       " 'climate, steering&trim, functional&mechanical, seats, steering&trim, bodywork',\n",
       " 'climate, seats, climate, steering&trim, functional&mechanical, steering&trim, steering&trim, functional&mechanical, bodywork, functional&mechanical, bodywork',\n",
       " 'climate, seats, climate, steering&trim, functional&mechanical, functional&mechanical, steering&trim, functional&mechanical, functional&mechanical, functional&mechanical, bodywork, functional&mechanical, seats',\n",
       " 'climate, seats, climate, steering&trim, functional&mechanical, seats, steering&trim, functional&mechanical, steering&trim, functional&mechanical, seats, steering&trim, functional&mechanical, functional&mechanical, functional&mechanical, bodywork, functional&mechanical, seats, functional&mechanical',\n",
       " 'climate, seats, climate, steering&trim, functional&mechanical, steering&trim, functional&mechanical, steering&trim, functional&mechanical, seats, steering&trim, functional&mechanical, functional&mechanical, bodywork, functional&mechanical, seats, functional&mechanical',\n",
       " 'seats, climate, climate, steering&trim, functional&mechanical, steering&trim, functional&mechanical, steering&trim, functional&mechanical, seats, steering&trim, functional&mechanical, functional&mechanical, functional&mechanical, functional&mechanical, bodywork, seats, seats, bodywork',\n",
       " 'climate, seats, steering&trim, functional&mechanical, steering&trim, functional&mechanical, steering&trim, functional&mechanical, steering&trim, functional&mechanical, functional&mechanical, bodywork, functional&mechanical, seats, functional&mechanical',\n",
       " 'climate, climate, steering&trim, functional&mechanical, steering&trim, functional&mechanical, steering&trim, functional&mechanical, steering&trim, functional&mechanical, functional&mechanical, functional&mechanical, bodywork, functional&mechanical, seats, seats, functional&mechanical, bodywork',\n",
       " 'climate, seats, climate, steering&trim, functional&mechanical, functional&mechanical, seats, steering&trim, functional&mechanical, steering&trim, functional&mechanical, seats, steering&trim, functional&mechanical, functional&mechanical, functional&mechanical, functional&mechanical, functional&mechanical, bodywork, functional&mechanical, seats, seats, functional&mechanical, bodywork',\n",
       " 'climate, seats, climate, climate, steering&trim, functional&mechanical, seats, functional&mechanical, steering&trim, functional&mechanical, seats, steering&trim, functional&mechanical, functional&mechanical, functional&mechanical, functional&mechanical, bodywork, functional&mechanical, seats, seats, functional&mechanical, bodywork',\n",
       " 'climate, seats, climate, climate, steering&trim, functional&mechanical, seats, functional&mechanical, steering&trim, functional&mechanical, steering&trim, functional&mechanical, functional&mechanical, functional&mechanical, functional&mechanical, bodywork, functional&mechanical, seats, functional&mechanical',\n",
       " 'climate, seats, climate, steering&trim, functional&mechanical, steering&trim, functional&mechanical, steering&trim, functional&mechanical, functional&mechanical, functional&mechanical, bodywork, functional&mechanical, seats, functional&mechanical, bodywork',\n",
       " 'climate, seats, climate, steering&trim, functional&mechanical, functional&mechanical, functional&mechanical, steering&trim, functional&mechanical, seats, steering&trim, functional&mechanical, bodywork, functional&mechanical, functional&mechanical, functional&mechanical, functional&mechanical, bodywork, functional&mechanical, seats, functional&mechanical, bodywork',\n",
       " 'climate, seats, climate, steering&trim, functional&mechanical, seats, functional&mechanical, steering&trim, functional&mechanical, seats, steering&trim, functional&mechanical, functional&mechanical, bodywork, functional&mechanical, seats',\n",
       " 'climate, seats, climate, steering&trim, functional&mechanical, steering&trim, bodywork, bodywork',\n",
       " 'climate, seats, climate, climate, steering&trim, functional&mechanical, steering&trim, functional&mechanical, security, steering&trim, functional&mechanical, steering&trim, functional&mechanical, functional&mechanical, functional&mechanical, functional&mechanical, bodywork, functional&mechanical, seats, functional&mechanical',\n",
       " 'climate, seats, climate, climate, steering&trim, functional&mechanical, functional&mechanical, steering&trim, functional&mechanical, seats, steering&trim, functional&mechanical, functional&mechanical, functional&mechanical, bodywork, functional&mechanical, seats, functional&mechanical',\n",
       " 'climate, seats, climate, climate, functional&mechanical, functional&mechanical, steering&trim, functional&mechanical, security, steering&trim, functional&mechanical, seats, steering&trim, bodywork, functional&mechanical, functional&mechanical, functional&mechanical, bodywork, functional&mechanical, seats, functional&mechanical',\n",
       " 'climate, seats, climate, steering&trim, functional&mechanical, steering&trim, functional&mechanical, security, steering&trim, functional&mechanical, seats, steering&trim, functional&mechanical, functional&mechanical, functional&mechanical, functional&mechanical, functional&mechanical, bodywork, functional&mechanical, seats, functional&mechanical',\n",
       " 'climate, steering&trim, functional&mechanical, functional&mechanical, steering&trim, steering&trim, bodywork',\n",
       " 'climate, steering&trim, functional&mechanical, steering&trim, functional&mechanical, steering&trim, functional&mechanical, steering&trim, functional&mechanical, bodywork, functional&mechanical, seats, seats, bodywork',\n",
       " 'climate, climate, steering&trim, functional&mechanical, bodywork, functional&mechanical, seats',\n",
       " 'climate, functional&mechanical, functional&mechanical, bodywork, seats, bodywork',\n",
       " 'climate, seats, climate, steering&trim, functional&mechanical, seats, functional&mechanical, steering&trim, functional&mechanical, steering&trim, functional&mechanical, functional&mechanical, functional&mechanical, functional&mechanical, bodywork, functional&mechanical, seats, seats, functional&mechanical, bodywork',\n",
       " 'climate, seats, climate, steering&trim, functional&mechanical, steering&trim, steering&trim, functional&mechanical, functional&mechanical, bodywork, seats, functional&mechanical',\n",
       " 'climate, steering&trim, steering&trim, bodywork, bodywork',\n",
       " 'climate, seats, climate, climate, steering&trim, functional&mechanical, functional&mechanical, seats, functional&mechanical, steering&trim, functional&mechanical, seats, steering&trim, functional&mechanical, functional&mechanical, functional&mechanical, bodywork, functional&mechanical, seats, seats, functional&mechanical, bodywork',\n",
       " 'climate, climate, functional&mechanical, steering&trim, steering&trim, functional&mechanical, bodywork, seats',\n",
       " 'climate, seats, climate, steering&trim, functional&mechanical, functional&mechanical, seats, steering&trim, functional&mechanical, security, steering&trim, functional&mechanical, seats, steering&trim, functional&mechanical, functional&mechanical, functional&mechanical, functional&mechanical, bodywork, functional&mechanical, seats, seats, functional&mechanical',\n",
       " 'climate, seats, climate, steering&trim, functional&mechanical, functional&mechanical, steering&trim, functional&mechanical, seats, steering&trim, functional&mechanical, functional&mechanical, functional&mechanical, bodywork, functional&mechanical, seats, seats, functional&mechanical, bodywork',\n",
       " 'seats, climate, climate, steering&trim, functional&mechanical, seats, steering&trim, functional&mechanical, steering&trim, functional&mechanical, seats, steering&trim, functional&mechanical, functional&mechanical, functional&mechanical, bodywork, functional&mechanical, seats, functional&mechanical, bodywork',\n",
       " 'climate, seats, climate, steering&trim, functional&mechanical, seats, steering&trim, functional&mechanical, steering&trim, functional&mechanical, steering&trim, functional&mechanical, bodywork, functional&mechanical, seats, seats, functional&mechanical',\n",
       " 'climate, seats, climate, steering&trim, functional&mechanical, functional&mechanical, steering&trim, functional&mechanical, seats, steering&trim, functional&mechanical, functional&mechanical, functional&mechanical, bodywork, seats, functional&mechanical',\n",
       " 'climate, seats, climate, steering&trim, functional&mechanical, seats, steering&trim, functional&mechanical, security, steering&trim, functional&mechanical, steering&trim, functional&mechanical, functional&mechanical, functional&mechanical, functional&mechanical, functional&mechanical, bodywork, functional&mechanical, seats, seats, functional&mechanical, bodywork',\n",
       " 'climate, steering&trim, functional&mechanical, functional&mechanical, steering&trim, functional&mechanical, steering&trim, bodywork, seats, functional&mechanical, bodywork',\n",
       " 'climate, seats, steering&trim, functional&mechanical, functional&mechanical, steering&trim, steering&trim, functional&mechanical, functional&mechanical, functional&mechanical, bodywork, seats, functional&mechanical',\n",
       " 'climate, seats, climate, steering&trim, functional&mechanical, functional&mechanical, seats, steering&trim, functional&mechanical, security, steering&trim, functional&mechanical, seats, steering&trim, functional&mechanical, functional&mechanical, functional&mechanical, functional&mechanical, bodywork, functional&mechanical, seats, seats, functional&mechanical, bodywork',\n",
       " 'climate, seats, climate, climate, steering&trim, functional&mechanical, functional&mechanical, steering&trim, functional&mechanical, steering&trim, functional&mechanical, functional&mechanical, bodywork, functional&mechanical, seats, functional&mechanical',\n",
       " 'climate, seats, steering&trim, functional&mechanical, functional&mechanical, steering&trim, functional&mechanical, functional&mechanical, functional&mechanical, bodywork, functional&mechanical',\n",
       " 'climate, seats, climate, climate, steering&trim, functional&mechanical, functional&mechanical, steering&trim, functional&mechanical, steering&trim, functional&mechanical, functional&mechanical, functional&mechanical, bodywork, functional&mechanical, seats, functional&mechanical',\n",
       " 'climate, seats, climate, steering&trim, functional&mechanical, functional&mechanical, steering&trim, functional&mechanical, steering&trim, functional&mechanical, functional&mechanical, bodywork, functional&mechanical, seats, seats, functional&mechanical, bodywork',\n",
       " 'climate, seats, climate, climate, steering&trim, functional&mechanical, functional&mechanical, steering&trim, functional&mechanical, steering&trim, functional&mechanical, functional&mechanical, functional&mechanical, bodywork, functional&mechanical, seats, functional&mechanical, bodywork',\n",
       " 'climate, seats, climate, climate, steering&trim, functional&mechanical, seats, steering&trim, functional&mechanical, steering&trim, functional&mechanical, steering&trim, functional&mechanical, functional&mechanical, functional&mechanical, functional&mechanical, bodywork, functional&mechanical, seats, seats, functional&mechanical, bodywork',\n",
       " 'climate, seats, climate, steering&trim, functional&mechanical, steering&trim, steering&trim, bodywork, bodywork',\n",
       " 'climate, climate, functional&mechanical, functional&mechanical, steering&trim, functional&mechanical, steering&trim, functional&mechanical, functional&mechanical, functional&mechanical, functional&mechanical, bodywork, functional&mechanical, seats, functional&mechanical',\n",
       " 'climate, steering&trim, functional&mechanical, steering&trim, steering&trim, bodywork, seats, bodywork',\n",
       " 'climate, steering&trim, functional&mechanical, functional&mechanical, bodywork, bodywork',\n",
       " 'climate, seats, climate, climate, steering&trim, functional&mechanical, steering&trim, functional&mechanical, steering&trim, functional&mechanical, steering&trim, functional&mechanical, functional&mechanical, bodywork, functional&mechanical, seats, seats, functional&mechanical, bodywork',\n",
       " 'climate, climate, steering&trim, functional&mechanical, steering&trim, seats, steering&trim, bodywork',\n",
       " 'climate, seats, climate, climate, steering&trim, functional&mechanical, functional&mechanical, steering&trim, functional&mechanical, security, steering&trim, functional&mechanical, steering&trim, functional&mechanical, bodywork, functional&mechanical, functional&mechanical, functional&mechanical, bodywork, functional&mechanical, seats, functional&mechanical, bodywork',\n",
       " 'climate, seats, steering&trim, functional&mechanical, steering&trim, functional&mechanical, bodywork',\n",
       " 'climate, seats, climate, steering&trim, functional&mechanical, steering&trim, functional&mechanical, functional&mechanical, bodywork',\n",
       " 'climate, seats, climate, climate, steering&trim, functional&mechanical, seats, steering&trim, functional&mechanical, steering&trim, functional&mechanical, steering&trim, functional&mechanical, functional&mechanical, functional&mechanical, bodywork, functional&mechanical, seats, seats, functional&mechanical, bodywork',\n",
       " 'climate, seats, climate, steering&trim, functional&mechanical, steering&trim, functional&mechanical, seats, steering&trim, functional&mechanical, functional&mechanical, bodywork, functional&mechanical, seats',\n",
       " 'climate, seats, climate, climate, steering&trim, functional&mechanical, functional&mechanical, security, steering&trim, functional&mechanical, steering&trim, functional&mechanical, functional&mechanical, functional&mechanical, functional&mechanical, bodywork, functional&mechanical, seats, functional&mechanical',\n",
       " 'climate, seats, climate, steering&trim, functional&mechanical, functional&mechanical, seats, seats, steering&trim, functional&mechanical, security, steering&trim, functional&mechanical, seats, steering&trim, functional&mechanical, bodywork, functional&mechanical, functional&mechanical, functional&mechanical, functional&mechanical, bodywork, functional&mechanical, seats, functional&mechanical, bodywork',\n",
       " 'climate, seats, functional&mechanical, steering&trim, steering&trim, bodywork',\n",
       " 'climate, seats, climate, steering&trim, functional&mechanical, seats, security, steering&trim, functional&mechanical, steering&trim, functional&mechanical, functional&mechanical, bodywork, functional&mechanical, seats',\n",
       " 'climate, seats, climate, steering&trim, functional&mechanical, functional&mechanical, steering&trim, steering&trim, bodywork, functional&mechanical, seats, functional&mechanical',\n",
       " 'climate, climate, steering&trim, functional&mechanical, functional&mechanical, steering&trim, functional&mechanical, functional&mechanical, bodywork, functional&mechanical, seats, bodywork',\n",
       " 'climate, climate, steering&trim, functional&mechanical, steering&trim, functional&mechanical, security, steering&trim, functional&mechanical, steering&trim, functional&mechanical, bodywork, functional&mechanical, seats, functional&mechanical',\n",
       " 'functional&mechanical, seats, climate, climate, functional&mechanical, functional&mechanical, functional&mechanical, security, functional&mechanical, steering&trim, functional&mechanical, functional&mechanical, functional&mechanical',\n",
       " 'climate, seats, climate, steering&trim, functional&mechanical, steering&trim, functional&mechanical, security, steering&trim, functional&mechanical, steering&trim, functional&mechanical, functional&mechanical, functional&mechanical, functional&mechanical, bodywork, functional&mechanical, seats, bodywork',\n",
       " 'climate, climate, functional&mechanical, steering&trim, functional&mechanical, bodywork',\n",
       " 'climate, seats, climate, functional&mechanical, steering&trim, seats, bodywork',\n",
       " 'functional&mechanical, climate, seats, climate, climate, steering&trim, seats, functional&mechanical, seats, steering&trim, functional&mechanical, security, functional&mechanical, seats, steering&trim, functional&mechanical, bodywork, functional&mechanical, functional&mechanical, functional&mechanical, bodywork, functional&mechanical, seats, functional&mechanical, bodywork',\n",
       " 'climate, seats, climate, steering&trim, functional&mechanical, functional&mechanical, steering&trim, functional&mechanical, steering&trim, functional&mechanical, functional&mechanical, functional&mechanical, bodywork, functional&mechanical, seats',\n",
       " 'climate, climate, functional&mechanical, steering&trim, bodywork, functional&mechanical, seats, bodywork',\n",
       " 'seats, functional&mechanical, bodywork, bodywork',\n",
       " 'climate, climate, steering&trim, functional&mechanical, steering&trim, bodywork, bodywork',\n",
       " 'climate, seats, climate, steering&trim, functional&mechanical, steering&trim, functional&mechanical, functional&mechanical, bodywork, functional&mechanical, bodywork',\n",
       " 'functional&mechanical, climate, functional&mechanical, seats, climate, climate, functional&mechanical, seats, steering&trim, functional&mechanical, security, steering&trim, functional&mechanical, seats, steering&trim, functional&mechanical, functional&mechanical, functional&mechanical, functional&mechanical, bodywork, functional&mechanical, seats, seats, functional&mechanical, bodywork',\n",
       " 'seats, climate, climate, steering&trim, functional&mechanical, seats, functional&mechanical, steering&trim, functional&mechanical, security, steering&trim, functional&mechanical, seats, steering&trim, functional&mechanical, functional&mechanical, functional&mechanical, functional&mechanical, functional&mechanical, bodywork, functional&mechanical, seats, seats, functional&mechanical, bodywork',\n",
       " 'climate, seats, climate, steering&trim, functional&mechanical, functional&mechanical, steering&trim, functional&mechanical, steering&trim, functional&mechanical, bodywork, functional&mechanical, functional&mechanical, functional&mechanical, bodywork, functional&mechanical, seats, functional&mechanical',\n",
       " 'climate, seats, steering&trim, functional&mechanical, functional&mechanical, bodywork',\n",
       " 'climate, seats, climate, climate, steering&trim, functional&mechanical, functional&mechanical, seats, functional&mechanical, steering&trim, functional&mechanical, seats, steering&trim, functional&mechanical, bodywork, functional&mechanical, functional&mechanical, functional&mechanical, functional&mechanical, bodywork, functional&mechanical, seats, functional&mechanical, bodywork',\n",
       " 'climate, seats, steering&trim, functional&mechanical, functional&mechanical, security, steering&trim, functional&mechanical, bodywork',\n",
       " 'climate, functional&mechanical, functional&mechanical, functional&mechanical, bodywork, seats, functional&mechanical',\n",
       " 'climate, climate, steering&trim, functional&mechanical, steering&trim, functional&mechanical, functional&mechanical, bodywork, functional&mechanical, seats, functional&mechanical',\n",
       " 'climate, climate, steering&trim, functional&mechanical, seats, security, steering&trim, functional&mechanical, seats, steering&trim, functional&mechanical, functional&mechanical, bodywork, functional&mechanical, seats, seats, bodywork, bodywork',\n",
       " 'climate, steering&trim, steering&trim, seats, steering&trim, bodywork',\n",
       " 'climate, seats, climate, steering&trim, functional&mechanical, steering&trim, functional&mechanical, steering&trim, functional&mechanical, seats, functional&mechanical, functional&mechanical, functional&mechanical, functional&mechanical, functional&mechanical, bodywork, functional&mechanical, seats, seats, bodywork',\n",
       " 'climate, seats, climate, steering&trim, functional&mechanical, seats, functional&mechanical, steering&trim, functional&mechanical, steering&trim, functional&mechanical, functional&mechanical, functional&mechanical, functional&mechanical, bodywork, functional&mechanical, seats, functional&mechanical',\n",
       " 'climate, seats, climate, climate, steering&trim, functional&mechanical, seats, steering&trim, functional&mechanical, security, steering&trim, functional&mechanical, seats, steering&trim, functional&mechanical, functional&mechanical, bodywork, functional&mechanical, seats, seats, seats, bodywork',\n",
       " 'climate, climate, steering&trim, steering&trim, bodywork, bodywork, functional&mechanical, functional&mechanical',\n",
       " 'climate, seats, steering&trim, functional&mechanical, steering&trim, functional&mechanical, steering&trim, functional&mechanical, functional&mechanical, bodywork, functional&mechanical',\n",
       " 'seats, climate, climate, steering&trim, functional&mechanical, seats, seats, steering&trim, functional&mechanical, security, steering&trim, functional&mechanical, seats, steering&trim, functional&mechanical, functional&mechanical, functional&mechanical, bodywork, functional&mechanical, seats, seats',\n",
       " 'climate, seats, climate, steering&trim, functional&mechanical, functional&mechanical, security, steering&trim, functional&mechanical, steering&trim, functional&mechanical, functional&mechanical, bodywork, functional&mechanical, bodywork',\n",
       " 'climate, seats, climate, steering&trim, functional&mechanical, seats, steering&trim, functional&mechanical, steering&trim, functional&mechanical, seats, steering&trim, functional&mechanical, bodywork, functional&mechanical, seats, seats, functional&mechanical, bodywork',\n",
       " 'climate, seats, climate, steering&trim, security, steering&trim, functional&mechanical, steering&trim, functional&mechanical, functional&mechanical, bodywork, functional&mechanical',\n",
       " 'climate, seats, climate, steering&trim, functional&mechanical, functional&mechanical, steering&trim, functional&mechanical, steering&trim, functional&mechanical, functional&mechanical, functional&mechanical, bodywork, functional&mechanical, seats, bodywork',\n",
       " 'climate, climate, steering&trim, functional&mechanical, seats, functional&mechanical, bodywork',\n",
       " 'seats, bodywork, bodywork',\n",
       " 'climate, steering&trim, steering&trim, functional&mechanical',\n",
       " 'climate, seats, steering&trim, bodywork, bodywork',\n",
       " 'climate, seats, climate, climate, steering&trim, functional&mechanical, functional&mechanical, functional&mechanical, seats, steering&trim, functional&mechanical, functional&mechanical, bodywork, functional&mechanical, seats, functional&mechanical, bodywork',\n",
       " 'climate, seats, climate, steering&trim, functional&mechanical, seats, steering&trim, functional&mechanical, steering&trim, functional&mechanical, seats, steering&trim, functional&mechanical, functional&mechanical, bodywork, functional&mechanical, seats, seats, functional&mechanical, bodywork',\n",
       " 'climate, seats, climate, steering&trim, functional&mechanical, seats, functional&mechanical, security, steering&trim, functional&mechanical, seats, steering&trim, functional&mechanical, functional&mechanical, functional&mechanical, functional&mechanical, bodywork, functional&mechanical, seats, functional&mechanical',\n",
       " 'climate, seats, climate, steering&trim, functional&mechanical, seats, steering&trim, functional&mechanical, security, steering&trim, functional&mechanical, seats, steering&trim, functional&mechanical, functional&mechanical, functional&mechanical, functional&mechanical, bodywork, functional&mechanical, seats, seats, functional&mechanical',\n",
       " 'climate, seats, climate, steering&trim, functional&mechanical, seats, functional&mechanical, security, steering&trim, functional&mechanical, seats, steering&trim, functional&mechanical, bodywork, functional&mechanical, functional&mechanical, functional&mechanical, bodywork, functional&mechanical, seats, functional&mechanical, bodywork',\n",
       " 'climate, climate, functional&mechanical, steering&trim, seats, bodywork, seats, bodywork',\n",
       " 'climate, seats, steering&trim, functional&mechanical, functional&mechanical, steering&trim, functional&mechanical, seats, steering&trim, functional&mechanical, functional&mechanical, bodywork, functional&mechanical, functional&mechanical',\n",
       " 'climate, climate, functional&mechanical, functional&mechanical, bodywork, functional&mechanical',\n",
       " 'climate, seats, climate, steering&trim, functional&mechanical, seats, functional&mechanical, steering&trim, functional&mechanical, steering&trim, functional&mechanical, functional&mechanical, functional&mechanical, bodywork, functional&mechanical, seats, functional&mechanical',\n",
       " 'climate, climate, steering&trim, functional&mechanical, functional&mechanical, functional&mechanical, bodywork',\n",
       " 'seats, climate, climate, steering&trim, functional&mechanical, functional&mechanical, seats, seats, steering&trim, functional&mechanical, security, steering&trim, functional&mechanical, seats, steering&trim, functional&mechanical, bodywork, functional&mechanical, functional&mechanical, functional&mechanical, functional&mechanical, bodywork, functional&mechanical, seats, seats, functional&mechanical, bodywork, bodywork',\n",
       " 'climate, steering&trim, functional&mechanical, functional&mechanical, steering&trim, functional&mechanical, steering&trim, bodywork, functional&mechanical',\n",
       " 'seats, climate, climate, steering&trim, functional&mechanical, steering&trim, functional&mechanical, seats, steering&trim, functional&mechanical, functional&mechanical, bodywork, functional&mechanical, seats, functional&mechanical',\n",
       " 'climate, seats, climate, steering&trim, functional&mechanical, functional&mechanical, steering&trim, functional&mechanical, seats, steering&trim, functional&mechanical, bodywork, functional&mechanical, functional&mechanical, bodywork, functional&mechanical, bodywork',\n",
       " 'climate, seats, climate, steering&trim, functional&mechanical, functional&mechanical, seats, functional&mechanical, security, steering&trim, functional&mechanical, seats, steering&trim, functional&mechanical, functional&mechanical, functional&mechanical, bodywork, functional&mechanical, seats, functional&mechanical',\n",
       " 'climate, seats, steering&trim, functional&mechanical, functional&mechanical, security, steering&trim, functional&mechanical, steering&trim, bodywork, functional&mechanical, functional&mechanical',\n",
       " 'seats, climate, climate, steering&trim, functional&mechanical, functional&mechanical, seats, functional&mechanical, functional&mechanical, security, steering&trim, functional&mechanical, seats, seats, steering&trim, functional&mechanical, bodywork, functional&mechanical, functional&mechanical, bodywork, functional&mechanical, seats, seats, functional&mechanical, bodywork',\n",
       " 'climate, seats, steering&trim, functional&mechanical, functional&mechanical, functional&mechanical, bodywork, seats',\n",
       " 'climate, seats, steering&trim, functional&mechanical, functional&mechanical, seats, steering&trim, functional&mechanical, functional&mechanical, functional&mechanical, functional&mechanical, bodywork, functional&mechanical, bodywork, bodywork',\n",
       " 'climate, climate, steering&trim, seats, functional&mechanical, functional&mechanical, seats',\n",
       " 'seats, climate, climate, functional&mechanical, security, functional&mechanical, steering&trim, functional&mechanical, functional&mechanical, functional&mechanical, bodywork',\n",
       " 'climate, seats, climate, steering&trim, functional&mechanical, functional&mechanical, security, steering&trim, functional&mechanical, seats, steering&trim, functional&mechanical, functional&mechanical, functional&mechanical, functional&mechanical, bodywork, functional&mechanical, functional&mechanical',\n",
       " 'climate, climate, steering&trim, bodywork, functional&mechanical, functional&mechanical',\n",
       " 'climate, seats, climate, steering&trim, functional&mechanical, functional&mechanical, steering&trim, functional&mechanical, seats, steering&trim, functional&mechanical, functional&mechanical, bodywork, functional&mechanical, functional&mechanical',\n",
       " 'functional&mechanical, climate, seats, climate, climate, steering&trim, functional&mechanical, functional&mechanical, seats, functional&mechanical, steering&trim, functional&mechanical, seats, steering&trim, functional&mechanical, bodywork, functional&mechanical, functional&mechanical, functional&mechanical, functional&mechanical, bodywork, functional&mechanical, seats, seats, functional&mechanical, bodywork, bodywork',\n",
       " 'climate, seats, climate, climate, steering&trim, functional&mechanical, functional&mechanical, steering&trim, functional&mechanical, seats, steering&trim, functional&mechanical, functional&mechanical, functional&mechanical, functional&mechanical, bodywork, functional&mechanical, seats, seats, functional&mechanical, bodywork',\n",
       " 'climate, climate, functional&mechanical, bodywork, functional&mechanical, seats, functional&mechanical',\n",
       " 'climate, climate, functional&mechanical, steering&trim, bodywork, bodywork, functional&mechanical, seats, bodywork',\n",
       " 'climate, seats, climate, steering&trim, functional&mechanical, seats, steering&trim, functional&mechanical, functional&mechanical, seats, steering&trim, functional&mechanical, functional&mechanical, functional&mechanical, functional&mechanical, functional&mechanical, bodywork, functional&mechanical, seats, functional&mechanical',\n",
       " 'climate, seats, climate, climate, steering&trim, functional&mechanical, functional&mechanical, seats, functional&mechanical, steering&trim, functional&mechanical, seats, steering&trim, functional&mechanical, functional&mechanical, functional&mechanical, functional&mechanical, bodywork, functional&mechanical, seats, seats, functional&mechanical, bodywork',\n",
       " 'climate, steering&trim, seats, seats, functional&mechanical',\n",
       " 'climate, seats, steering&trim, functional&mechanical, steering&trim, functional&mechanical, bodywork, seats',\n",
       " 'climate, climate, steering&trim, functional&mechanical, functional&mechanical, steering&trim, functional&mechanical, steering&trim, functional&mechanical, functional&mechanical, functional&mechanical, bodywork, functional&mechanical, seats, functional&mechanical',\n",
       " 'climate, seats, climate, steering&trim, functional&mechanical, steering&trim, functional&mechanical, security, steering&trim, functional&mechanical, seats, steering&trim, functional&mechanical, functional&mechanical, functional&mechanical, bodywork, functional&mechanical, seats, functional&mechanical',\n",
       " 'climate, steering&trim, functional&mechanical, steering&trim, steering&trim, functional&mechanical, functional&mechanical, bodywork, seats, functional&mechanical',\n",
       " 'climate, climate, steering&trim, steering&trim, seats, steering&trim, functional&mechanical, functional&mechanical, functional&mechanical, functional&mechanical, functional&mechanical, functional&mechanical, seats',\n",
       " 'climate, steering&trim, functional&mechanical, functional&mechanical, bodywork, seats',\n",
       " 'climate, seats, climate, steering&trim, functional&mechanical, seats, steering&trim, bodywork, seats',\n",
       " 'functional&mechanical, seats, climate, climate, functional&mechanical, security, functional&mechanical, steering&trim, functional&mechanical, functional&mechanical, functional&mechanical, functional&mechanical, functional&mechanical',\n",
       " 'climate, seats, climate, steering&trim, functional&mechanical, functional&mechanical, steering&trim, functional&mechanical, functional&mechanical, functional&mechanical, bodywork, functional&mechanical',\n",
       " 'climate, climate, functional&mechanical, functional&mechanical, steering&trim, bodywork, functional&mechanical, bodywork',\n",
       " 'climate, seats, climate, steering&trim, functional&mechanical, functional&mechanical, security, steering&trim, functional&mechanical, steering&trim, functional&mechanical, bodywork, functional&mechanical, seats, functional&mechanical',\n",
       " 'climate, seats, steering&trim, functional&mechanical, functional&mechanical, bodywork, functional&mechanical',\n",
       " 'climate, seats, climate, climate, steering&trim, functional&mechanical, seats, steering&trim, functional&mechanical, security, steering&trim, functional&mechanical, seats, steering&trim, functional&mechanical, functional&mechanical, functional&mechanical, functional&mechanical, bodywork, functional&mechanical, seats, functional&mechanical',\n",
       " 'seats, climate, climate, functional&mechanical, security, functional&mechanical, steering&trim, functional&mechanical, functional&mechanical, functional&mechanical, functional&mechanical, bodywork',\n",
       " 'climate, climate, functional&mechanical, steering&trim, steering&trim, bodywork, bodywork',\n",
       " 'seats, climate, climate, steering&trim, functional&mechanical, functional&mechanical, security, steering&trim, functional&mechanical, seats, steering&trim, functional&mechanical, functional&mechanical, functional&mechanical, functional&mechanical, bodywork, functional&mechanical, seats, functional&mechanical',\n",
       " 'climate, steering&trim, functional&mechanical, steering&trim, functional&mechanical, steering&trim, functional&mechanical, steering&trim, functional&mechanical, bodywork, functional&mechanical, seats, seats, functional&mechanical',\n",
       " 'climate, functional&mechanical, functional&mechanical, steering&trim, steering&trim, functional&mechanical, bodywork, functional&mechanical, bodywork',\n",
       " 'climate, seats, climate, steering&trim, functional&mechanical, steering&trim, functional&mechanical, seats, steering&trim, bodywork, functional&mechanical, functional&mechanical, bodywork, functional&mechanical, seats, functional&mechanical, bodywork',\n",
       " 'climate, seats, climate, steering&trim, functional&mechanical, steering&trim, functional&mechanical, seats, steering&trim, functional&mechanical, functional&mechanical, functional&mechanical, bodywork, functional&mechanical, seats, functional&mechanical',\n",
       " 'climate, climate, steering&trim, functional&mechanical, steering&trim, functional&mechanical, functional&mechanical, bodywork, seats, bodywork',\n",
       " 'climate, functional&mechanical, functional&mechanical, functional&mechanical, steering&trim, functional&mechanical, bodywork',\n",
       " 'climate, steering&trim, functional&mechanical, steering&trim, functional&mechanical, steering&trim, functional&mechanical, steering&trim, bodywork, seats, functional&mechanical',\n",
       " 'climate, seats, climate, steering&trim, functional&mechanical, steering&trim, security, steering&trim, functional&mechanical, seats, steering&trim, functional&mechanical, functional&mechanical, functional&mechanical, functional&mechanical, functional&mechanical, bodywork, functional&mechanical, seats, functional&mechanical',\n",
       " 'climate, climate, steering&trim, functional&mechanical, functional&mechanical, functional&mechanical, functional&mechanical, bodywork, functional&mechanical, seats, bodywork, bodywork, bodywork',\n",
       " 'climate, seats, climate, functional&mechanical, functional&mechanical, security, functional&mechanical, steering&trim, functional&mechanical, functional&mechanical, functional&mechanical, functional&mechanical',\n",
       " 'climate, seats, climate, steering&trim, functional&mechanical, seats, steering&trim, functional&mechanical, steering&trim, functional&mechanical, steering&trim, functional&mechanical, functional&mechanical, functional&mechanical, seats, seats, functional&mechanical, bodywork',\n",
       " 'climate, seats, steering&trim, functional&mechanical, steering&trim, bodywork, bodywork',\n",
       " 'climate, climate, bodywork, seats',\n",
       " 'climate, seats, climate, steering&trim, functional&mechanical, seats, steering&trim, functional&mechanical, steering&trim, functional&mechanical, steering&trim, functional&mechanical, bodywork, functional&mechanical, seats, seats, functional&mechanical, bodywork',\n",
       " 'climate, seats, climate, steering&trim, functional&mechanical, functional&mechanical, steering&trim, functional&mechanical, steering&trim, functional&mechanical, bodywork, functional&mechanical, functional&mechanical',\n",
       " 'climate, seats, steering&trim, functional&mechanical, functional&mechanical, functional&mechanical, functional&mechanical, functional&mechanical, bodywork',\n",
       " 'climate, climate, steering&trim, functional&mechanical, functional&mechanical, functional&mechanical, bodywork, functional&mechanical, seats',\n",
       " 'seats, climate, climate, steering&trim, functional&mechanical, seats, functional&mechanical, security, steering&trim, functional&mechanical, functional&mechanical, functional&mechanical, bodywork, functional&mechanical, seats, seats, functional&mechanical, bodywork',\n",
       " 'climate, seats, climate, steering&trim, functional&mechanical, functional&mechanical, functional&mechanical, bodywork',\n",
       " 'climate, climate, functional&mechanical, functional&mechanical, security, steering&trim, functional&mechanical, steering&trim, functional&mechanical, bodywork, functional&mechanical, seats',\n",
       " 'climate, climate, steering&trim, functional&mechanical, steering&trim, functional&mechanical, steering&trim, functional&mechanical, functional&mechanical, bodywork, functional&mechanical',\n",
       " 'climate, climate, climate, steering&trim, functional&mechanical, functional&mechanical, security, steering&trim, steering&trim, functional&mechanical, bodywork, bodywork',\n",
       " 'climate, climate, steering&trim, functional&mechanical, functional&mechanical, steering&trim, functional&mechanical, seats, steering&trim, functional&mechanical, functional&mechanical, functional&mechanical, bodywork, functional&mechanical',\n",
       " 'climate, steering&trim, functional&mechanical, functional&mechanical, security, steering&trim, functional&mechanical, steering&trim, functional&mechanical, bodywork, seats, functional&mechanical',\n",
       " 'climate, functional&mechanical, functional&mechanical, functional&mechanical, steering&trim, bodywork, functional&mechanical',\n",
       " 'steering&trim, bodywork, seats',\n",
       " 'seats, climate, climate, steering&trim, functional&mechanical, functional&mechanical, steering&trim, functional&mechanical, seats, steering&trim, functional&mechanical, functional&mechanical, bodywork, functional&mechanical, seats, seats, functional&mechanical, bodywork',\n",
       " 'climate, steering&trim, functional&mechanical, functional&mechanical, security, steering&trim, functional&mechanical, functional&mechanical, bodywork',\n",
       " 'climate, climate, functional&mechanical, steering&trim, bodywork, functional&mechanical, functional&mechanical, bodywork',\n",
       " 'climate, steering&trim, functional&mechanical, functional&mechanical, steering&trim, functional&mechanical, steering&trim, functional&mechanical, bodywork, seats, seats, functional&mechanical',\n",
       " 'climate, steering&trim, functional&mechanical, functional&mechanical, steering&trim, functional&mechanical, bodywork, functional&mechanical, seats, functional&mechanical',\n",
       " 'climate, functional&mechanical, steering&trim, functional&mechanical, functional&mechanical, bodywork, seats',\n",
       " 'climate, steering&trim, functional&mechanical, seats, bodywork, bodywork',\n",
       " 'climate, steering&trim, functional&mechanical, steering&trim, steering&trim, steering&trim, bodywork, seats',\n",
       " 'climate, seats, climate, steering&trim, functional&mechanical, steering&trim, functional&mechanical, steering&trim, functional&mechanical, steering&trim, functional&mechanical, functional&mechanical, functional&mechanical, bodywork, functional&mechanical, seats, seats, functional&mechanical, bodywork',\n",
       " 'climate, seats, climate, steering&trim, functional&mechanical, steering&trim, functional&mechanical, steering&trim, functional&mechanical, functional&mechanical, bodywork, functional&mechanical, bodywork',\n",
       " 'climate, seats, steering&trim, functional&mechanical, steering&trim, functional&mechanical, steering&trim, functional&mechanical, steering&trim, functional&mechanical, functional&mechanical, functional&mechanical, bodywork, functional&mechanical, seats, seats, functional&mechanical, bodywork',\n",
       " 'climate, steering&trim, functional&mechanical, functional&mechanical, steering&trim, steering&trim, bodywork, seats, bodywork',\n",
       " 'climate, climate, steering&trim, functional&mechanical, functional&mechanical, security, functional&mechanical, steering&trim, functional&mechanical, functional&mechanical, functional&mechanical, bodywork, functional&mechanical, seats',\n",
       " 'climate, seats, steering&trim, functional&mechanical, steering&trim, functional&mechanical, steering&trim, functional&mechanical, steering&trim, functional&mechanical, functional&mechanical, functional&mechanical, bodywork, functional&mechanical, seats, functional&mechanical',\n",
       " 'climate, seats, climate, steering&trim, functional&mechanical, steering&trim, steering&trim, functional&mechanical, functional&mechanical, functional&mechanical, bodywork, functional&mechanical, bodywork',\n",
       " 'climate, seats, functional&mechanical, seats, bodywork',\n",
       " 'climate, seats, climate, steering&trim, functional&mechanical, functional&mechanical, seats, steering&trim, functional&mechanical, steering&trim, functional&mechanical, seats, steering&trim, functional&mechanical, functional&mechanical, functional&mechanical, functional&mechanical, bodywork, functional&mechanical, seats, functional&mechanical',\n",
       " 'climate, seats, climate, steering&trim, functional&mechanical, seats, steering&trim, functional&mechanical, security, functional&mechanical, steering&trim, functional&mechanical, functional&mechanical, functional&mechanical, functional&mechanical, bodywork, functional&mechanical, seats, functional&mechanical',\n",
       " 'climate, seats, steering&trim, functional&mechanical, functional&mechanical, steering&trim, functional&mechanical, functional&mechanical, bodywork',\n",
       " 'climate, seats, climate, steering&trim, functional&mechanical, functional&mechanical, functional&mechanical, steering&trim, functional&mechanical, functional&mechanical, functional&mechanical, bodywork, functional&mechanical, seats, functional&mechanical',\n",
       " 'climate, steering&trim, steering&trim, functional&mechanical, steering&trim, functional&mechanical, steering&trim, functional&mechanical, bodywork, functional&mechanical, seats, seats, functional&mechanical',\n",
       " 'climate, functional&mechanical, seats, steering&trim, bodywork, seats',\n",
       " 'climate, climate, steering&trim, functional&mechanical, functional&mechanical, bodywork, bodywork',\n",
       " 'climate, steering&trim, functional&mechanical, steering&trim, functional&mechanical, steering&trim, functional&mechanical, bodywork, seats',\n",
       " 'climate, climate, functional&mechanical, functional&mechanical, seats, functional&mechanical, steering&trim, functional&mechanical, steering&trim, functional&mechanical, functional&mechanical, functional&mechanical, functional&mechanical, functional&mechanical, seats, seats, functional&mechanical, bodywork',\n",
       " 'climate, seats, climate, steering&trim, functional&mechanical, functional&mechanical, seats, functional&mechanical, security, steering&trim, functional&mechanical, seats, steering&trim, functional&mechanical, functional&mechanical, functional&mechanical, functional&mechanical, bodywork, functional&mechanical, seats, functional&mechanical',\n",
       " 'climate, seats, climate, climate, steering&trim, functional&mechanical, functional&mechanical, seats, functional&mechanical, security, steering&trim, functional&mechanical, seats, steering&trim, functional&mechanical, functional&mechanical, functional&mechanical, functional&mechanical, functional&mechanical, bodywork, functional&mechanical, seats, functional&mechanical',\n",
       " 'climate, seats, steering&trim, functional&mechanical, functional&mechanical, functional&mechanical, bodywork',\n",
       " 'climate, seats, climate, steering&trim, functional&mechanical, seats, steering&trim, functional&mechanical, seats, bodywork, seats, bodywork',\n",
       " 'climate, seats, climate, steering&trim, functional&mechanical, steering&trim, functional&mechanical, seats, functional&mechanical, bodywork, seats',\n",
       " 'climate, seats, climate, steering&trim, functional&mechanical, seats, steering&trim, seats, steering&trim, functional&mechanical, functional&mechanical, bodywork, functional&mechanical, seats',\n",
       " 'climate, seats, climate, steering&trim, functional&mechanical, seats, functional&mechanical, steering&trim, functional&mechanical, steering&trim, functional&mechanical, functional&mechanical, functional&mechanical, functional&mechanical, bodywork, functional&mechanical, seats, functional&mechanical, bodywork',\n",
       " 'climate, climate, steering&trim, functional&mechanical, security, steering&trim, seats, steering&trim, functional&mechanical, functional&mechanical, bodywork, functional&mechanical, seats',\n",
       " 'climate, seats, climate, climate, steering&trim, functional&mechanical, seats, steering&trim, seats, steering&trim, functional&mechanical, bodywork, functional&mechanical, seats',\n",
       " 'climate, seats, climate, steering&trim, functional&mechanical, seats, functional&mechanical, security, steering&trim, functional&mechanical, seats, steering&trim, functional&mechanical, functional&mechanical, functional&mechanical, functional&mechanical, bodywork, functional&mechanical, seats, functional&mechanical, bodywork',\n",
       " 'climate, seats, climate, steering&trim, functional&mechanical, functional&mechanical, steering&trim, functional&mechanical, steering&trim, functional&mechanical, functional&mechanical, functional&mechanical, functional&mechanical, functional&mechanical, bodywork, functional&mechanical, seats, functional&mechanical',\n",
       " 'climate, seats, climate, steering&trim, functional&mechanical, seats, functional&mechanical, steering&trim, steering&trim, functional&mechanical, functional&mechanical, bodywork, functional&mechanical, seats, functional&mechanical',\n",
       " 'climate, seats, climate, steering&trim, functional&mechanical, seats, functional&mechanical, security, steering&trim, seats, steering&trim, functional&mechanical, functional&mechanical, bodywork, functional&mechanical, seats, functional&mechanical',\n",
       " 'climate, seats, climate, steering&trim, functional&mechanical, steering&trim, functional&mechanical, steering&trim, bodywork, functional&mechanical, bodywork',\n",
       " 'climate, seats, climate, steering&trim, functional&mechanical, functional&mechanical, steering&trim, functional&mechanical, steering&trim, functional&mechanical, functional&mechanical, bodywork, functional&mechanical, seats, bodywork',\n",
       " 'climate, seats, climate, climate, steering&trim, functional&mechanical, seats, steering&trim, steering&trim, functional&mechanical, functional&mechanical, bodywork, functional&mechanical, seats',\n",
       " 'climate, seats, functional&mechanical, seats, bodywork, seats, bodywork',\n",
       " 'climate, seats, climate, steering&trim, functional&mechanical, seats, functional&mechanical, security, steering&trim, functional&mechanical, seats, steering&trim, functional&mechanical, functional&mechanical, functional&mechanical, functional&mechanical, bodywork, functional&mechanical, seats, seats, functional&mechanical, bodywork',\n",
       " 'climate, seats, climate, climate, steering&trim, seats, functional&mechanical, seats, steering&trim, bodywork, seats',\n",
       " 'climate, climate, functional&mechanical, steering&trim, functional&mechanical, functional&mechanical, bodywork, functional&mechanical, seats, functional&mechanical, bodywork',\n",
       " 'climate, seats, climate, steering&trim, seats, functional&mechanical, functional&mechanical, seats, functional&mechanical, steering&trim, functional&mechanical, seats, steering&trim, functional&mechanical, bodywork, functional&mechanical, functional&mechanical, functional&mechanical, bodywork, functional&mechanical, seats, functional&mechanical, bodywork, bodywork',\n",
       " 'seats, bodywork, seats',\n",
       " 'climate, climate, steering&trim, functional&mechanical, functional&mechanical, seats, functional&mechanical, steering&trim, functional&mechanical, seats, steering&trim, functional&mechanical, functional&mechanical, functional&mechanical, functional&mechanical, bodywork, functional&mechanical, seats, seats, functional&mechanical, bodywork',\n",
       " 'climate, climate, steering&trim, functional&mechanical, steering&trim, seats, steering&trim, functional&mechanical, bodywork, seats',\n",
       " 'climate, seats, climate, steering&trim, functional&mechanical, functional&mechanical, seats, functional&mechanical, security, steering&trim, functional&mechanical, steering&trim, functional&mechanical, functional&mechanical, functional&mechanical, functional&mechanical, bodywork, functional&mechanical, seats, functional&mechanical',\n",
       " 'climate, seats, climate, steering&trim, functional&mechanical, steering&trim, seats, steering&trim, bodywork, functional&mechanical, seats',\n",
       " 'climate, climate, steering&trim, bodywork, functional&mechanical, seats, functional&mechanical',\n",
       " 'climate, seats, climate, climate, functional&mechanical, steering&trim, seats, bodywork, seats',\n",
       " 'climate, seats, climate, steering&trim, functional&mechanical, seats, functional&mechanical, steering&trim, functional&mechanical, seats, steering&trim, functional&mechanical, functional&mechanical, functional&mechanical, functional&mechanical, functional&mechanical, bodywork, functional&mechanical, seats, functional&mechanical',\n",
       " 'climate, seats, climate, climate, steering&trim, functional&mechanical, seats, steering&trim, functional&mechanical, seats, steering&trim, functional&mechanical, functional&mechanical, bodywork, functional&mechanical, seats, functional&mechanical',\n",
       " 'climate, seats, climate, steering&trim, functional&mechanical, steering&trim, seats, steering&trim, functional&mechanical, bodywork, functional&mechanical, seats',\n",
       " 'climate, climate, functional&mechanical, seats, bodywork, seats',\n",
       " 'climate, seats, climate, steering&trim, functional&mechanical, functional&mechanical, security, steering&trim, functional&mechanical, seats, steering&trim, functional&mechanical, functional&mechanical, functional&mechanical, functional&mechanical, bodywork, functional&mechanical, seats, seats, functional&mechanical',\n",
       " 'climate, climate, steering&trim, functional&mechanical, seats, steering&trim, seats, steering&trim, functional&mechanical, functional&mechanical, bodywork, functional&mechanical, seats',\n",
       " 'climate, seats, climate, steering&trim, functional&mechanical, security, steering&trim, functional&mechanical, steering&trim, functional&mechanical, bodywork, functional&mechanical, functional&mechanical, functional&mechanical, functional&mechanical, bodywork, functional&mechanical, seats, functional&mechanical, bodywork',\n",
       " 'seats, climate, climate, steering&trim, functional&mechanical, functional&mechanical, security, functional&mechanical, steering&trim, functional&mechanical, functional&mechanical, functional&mechanical, bodywork, functional&mechanical, bodywork',\n",
       " 'climate, seats, climate, steering&trim, functional&mechanical, security, steering&trim, functional&mechanical, steering&trim, functional&mechanical, functional&mechanical, bodywork, functional&mechanical, seats',\n",
       " 'climate, seats, climate, steering&trim, functional&mechanical, steering&trim, functional&mechanical, functional&mechanical, bodywork, seats',\n",
       " 'climate, seats, steering&trim, functional&mechanical, steering&trim, functional&mechanical, steering&trim, functional&mechanical, functional&mechanical, functional&mechanical, bodywork, seats, functional&mechanical',\n",
       " 'climate, seats, climate, steering&trim, functional&mechanical, functional&mechanical, steering&trim, functional&mechanical, seats, steering&trim, functional&mechanical, functional&mechanical, functional&mechanical, functional&mechanical, bodywork, functional&mechanical, seats, functional&mechanical, bodywork',\n",
       " 'climate, seats, climate, climate, steering&trim, functional&mechanical, functional&mechanical, steering&trim, functional&mechanical, steering&trim, functional&mechanical, seats, steering&trim, functional&mechanical, functional&mechanical, functional&mechanical, bodywork, functional&mechanical, seats, functional&mechanical',\n",
       " 'climate, seats, climate, steering&trim, functional&mechanical, steering&trim, seats, steering&trim, functional&mechanical, functional&mechanical, bodywork, seats, functional&mechanical',\n",
       " 'climate, seats, climate, steering&trim, functional&mechanical, steering&trim, functional&mechanical, steering&trim, functional&mechanical, functional&mechanical, functional&mechanical, bodywork, functional&mechanical, seats',\n",
       " 'climate, seats, climate, steering&trim, functional&mechanical, functional&mechanical, security, steering&trim, functional&mechanical, seats, steering&trim, functional&mechanical, functional&mechanical, functional&mechanical, bodywork, functional&mechanical, seats, seats, functional&mechanical, bodywork',\n",
       " 'climate, climate, steering&trim, functional&mechanical, steering&trim, functional&mechanical, security, steering&trim, functional&mechanical, steering&trim, functional&mechanical, functional&mechanical, functional&mechanical, functional&mechanical, bodywork, functional&mechanical, seats, functional&mechanical',\n",
       " 'climate, climate, steering&trim, functional&mechanical, functional&mechanical, steering&trim, functional&mechanical, steering&trim, functional&mechanical, functional&mechanical, functional&mechanical, bodywork, functional&mechanical, bodywork',\n",
       " 'climate, seats, climate, steering&trim, functional&mechanical, steering&trim, functional&mechanical, steering&trim, functional&mechanical, functional&mechanical, bodywork, functional&mechanical, seats',\n",
       " 'climate, seats, climate, climate, steering&trim, functional&mechanical, seats, functional&mechanical, steering&trim, functional&mechanical, steering&trim, functional&mechanical, functional&mechanical, functional&mechanical, bodywork, functional&mechanical, seats, functional&mechanical',\n",
       " 'climate, seats, steering&trim, functional&mechanical, steering&trim, functional&mechanical, steering&trim, functional&mechanical, seats, steering&trim, functional&mechanical, functional&mechanical, functional&mechanical, bodywork, seats, functional&mechanical',\n",
       " 'climate, climate, steering&trim, functional&mechanical, functional&mechanical, steering&trim, functional&mechanical, steering&trim, functional&mechanical, functional&mechanical, bodywork, functional&mechanical, functional&mechanical',\n",
       " 'climate, steering&trim, functional&mechanical, functional&mechanical, steering&trim, steering&trim, bodywork, functional&mechanical',\n",
       " 'climate, functional&mechanical, steering&trim, functional&mechanical, bodywork, seats, bodywork',\n",
       " 'climate, climate, functional&mechanical, bodywork, seats, bodywork',\n",
       " 'climate, seats, climate, climate, steering&trim, functional&mechanical, functional&mechanical, steering&trim, functional&mechanical, seats, steering&trim, functional&mechanical, bodywork, functional&mechanical, seats, functional&mechanical',\n",
       " 'seats, steering&trim, functional&mechanical, steering&trim, seats, bodywork, seats, bodywork',\n",
       " 'climate, seats, climate, climate, steering&trim, functional&mechanical, seats, functional&mechanical, steering&trim, functional&mechanical, seats, steering&trim, functional&mechanical, functional&mechanical, functional&mechanical, bodywork, functional&mechanical, seats',\n",
       " 'climate, seats, climate, steering&trim, functional&mechanical, steering&trim, steering&trim, functional&mechanical, seats, steering&trim, functional&mechanical, functional&mechanical, bodywork, functional&mechanical, seats, functional&mechanical',\n",
       " 'climate, seats, climate, steering&trim, functional&mechanical, steering&trim, steering&trim, bodywork, functional&mechanical, seats',\n",
       " 'climate, seats, climate, steering&trim, functional&mechanical, seats, functional&mechanical, steering&trim, functional&mechanical, functional&mechanical, functional&mechanical, functional&mechanical, seats',\n",
       " 'climate, seats, climate, steering&trim, functional&mechanical, functional&mechanical, steering&trim, seats, steering&trim, functional&mechanical, bodywork, functional&mechanical, functional&mechanical',\n",
       " 'climate, seats, climate, steering&trim, functional&mechanical, functional&mechanical, steering&trim, seats, steering&trim, functional&mechanical, functional&mechanical, bodywork, functional&mechanical, functional&mechanical',\n",
       " 'functional&mechanical, climate, seats, climate, climate, functional&mechanical, functional&mechanical, seats, functional&mechanical, security, steering&trim, functional&mechanical, seats, seats, steering&trim, functional&mechanical, bodywork, functional&mechanical, functional&mechanical, functional&mechanical, functional&mechanical, bodywork, functional&mechanical, seats, functional&mechanical, bodywork',\n",
       " 'functional&mechanical, climate, seats, climate, climate, steering&trim, functional&mechanical, seats, functional&mechanical, steering&trim, functional&mechanical, seats, steering&trim, functional&mechanical, functional&mechanical, functional&mechanical, functional&mechanical, bodywork, functional&mechanical, seats, seats, functional&mechanical, bodywork',\n",
       " 'climate, seats, climate, steering&trim, functional&mechanical, seats, steering&trim, functional&mechanical, seats, steering&trim, functional&mechanical, functional&mechanical, functional&mechanical, bodywork, functional&mechanical, seats, functional&mechanical, bodywork',\n",
       " 'climate, seats, climate, climate, steering&trim, functional&mechanical, functional&mechanical, steering&trim, functional&mechanical, seats, steering&trim, functional&mechanical, bodywork, functional&mechanical, functional&mechanical, bodywork, functional&mechanical, seats, seats, functional&mechanical, bodywork, bodywork',\n",
       " 'climate, seats, climate, climate, steering&trim, functional&mechanical, functional&mechanical, steering&trim, functional&mechanical, security, steering&trim, functional&mechanical, seats, steering&trim, functional&mechanical, functional&mechanical, functional&mechanical, functional&mechanical, bodywork, functional&mechanical, seats, functional&mechanical, bodywork',\n",
       " 'climate, seats, climate, steering&trim, functional&mechanical, steering&trim, steering&trim, functional&mechanical, bodywork, functional&mechanical, seats, bodywork',\n",
       " 'climate, climate, functional&mechanical, steering&trim, bodywork, seats, bodywork',\n",
       " 'climate, seats, steering&trim, functional&mechanical, functional&mechanical, seats, steering&trim, functional&mechanical, bodywork, functional&mechanical',\n",
       " 'climate, climate, steering&trim, functional&mechanical, steering&trim, functional&mechanical, functional&mechanical, bodywork, functional&mechanical, seats, functional&mechanical, bodywork',\n",
       " 'climate, climate, steering&trim, functional&mechanical, bodywork, functional&mechanical, seats, functional&mechanical',\n",
       " 'climate, seats, climate, steering&trim, functional&mechanical, functional&mechanical, functional&mechanical, security, steering&trim, functional&mechanical, seats, steering&trim, functional&mechanical, functional&mechanical, functional&mechanical, bodywork, functional&mechanical, seats, functional&mechanical',\n",
       " 'seats, steering&trim, steering&trim, functional&mechanical, functional&mechanical, bodywork, functional&mechanical, seats, functional&mechanical',\n",
       " 'seats, climate, climate, steering&trim, functional&mechanical, functional&mechanical, steering&trim, functional&mechanical, seats, steering&trim, functional&mechanical, functional&mechanical, functional&mechanical, bodywork, functional&mechanical, seats, functional&mechanical',\n",
       " 'climate, functional&mechanical, functional&mechanical, steering&trim, bodywork, seats, functional&mechanical',\n",
       " 'climate, seats, climate, steering&trim, functional&mechanical, functional&mechanical, security, steering&trim, functional&mechanical, bodywork',\n",
       " 'climate, climate, steering&trim, functional&mechanical, steering&trim, functional&mechanical, security, steering&trim, steering&trim, functional&mechanical, functional&mechanical, functional&mechanical, bodywork, functional&mechanical, seats',\n",
       " 'steering&trim, functional&mechanical, steering&trim, functional&mechanical, bodywork',\n",
       " 'climate, seats, climate, steering&trim, functional&mechanical, bodywork, functional&mechanical',\n",
       " 'functional&mechanical, climate, seats, climate, climate, steering&trim, functional&mechanical, functional&mechanical, seats, seats, functional&mechanical, steering&trim, functional&mechanical, steering&trim, functional&mechanical, seats, seats, steering&trim, functional&mechanical, functional&mechanical, functional&mechanical, functional&mechanical, functional&mechanical, bodywork, functional&mechanical, seats, seats, seats, functional&mechanical, bodywork',\n",
       " 'climate, climate, steering&trim, functional&mechanical, functional&mechanical, steering&trim, functional&mechanical, steering&trim, functional&mechanical, functional&mechanical, functional&mechanical, functional&mechanical, bodywork, functional&mechanical, seats, functional&mechanical',\n",
       " 'climate, seats, climate, climate, steering&trim, functional&mechanical, seats, seats, functional&mechanical, steering&trim, functional&mechanical, steering&trim, functional&mechanical, seats, seats, steering&trim, functional&mechanical, functional&mechanical, functional&mechanical, functional&mechanical, functional&mechanical, bodywork, functional&mechanical, seats, seats, seats, functional&mechanical, bodywork',\n",
       " 'climate, functional&mechanical, seats, climate, climate, steering&trim, functional&mechanical, functional&mechanical, seats, seats, functional&mechanical, steering&trim, functional&mechanical, steering&trim, functional&mechanical, seats, seats, steering&trim, functional&mechanical, functional&mechanical, functional&mechanical, functional&mechanical, bodywork, functional&mechanical, seats, seats, seats, functional&mechanical, bodywork',\n",
       " 'seats, functional&mechanical, steering&trim, bodywork, bodywork',\n",
       " 'seats, climate, climate, steering&trim, functional&mechanical, functional&mechanical, security, steering&trim, functional&mechanical, seats, steering&trim, functional&mechanical, functional&mechanical, functional&mechanical, bodywork, functional&mechanical, functional&mechanical',\n",
       " 'climate, seats, climate, steering&trim, functional&mechanical, functional&mechanical, steering&trim, functional&mechanical, steering&trim, functional&mechanical, functional&mechanical, functional&mechanical, bodywork, functional&mechanical, functional&mechanical, bodywork',\n",
       " 'climate, climate, functional&mechanical, security, steering&trim, functional&mechanical, functional&mechanical, bodywork, functional&mechanical, functional&mechanical, bodywork, functional&mechanical, seats, bodywork',\n",
       " 'steering&trim, functional&mechanical, security, steering&trim, functional&mechanical, functional&mechanical, bodywork, functional&mechanical, functional&mechanical, bodywork, functional&mechanical, bodywork',\n",
       " 'climate, seats, steering&trim, functional&mechanical, functional&mechanical, steering&trim, functional&mechanical, seats, steering&trim, functional&mechanical, functional&mechanical, functional&mechanical, bodywork, seats, functional&mechanical, bodywork',\n",
       " 'climate, climate, steering&trim, functional&mechanical, functional&mechanical, security, steering&trim, functional&mechanical, steering&trim, functional&mechanical, functional&mechanical, functional&mechanical, bodywork, functional&mechanical, functional&mechanical',\n",
       " 'climate, seats, climate, steering&trim, functional&mechanical, functional&mechanical, steering&trim, functional&mechanical, seats, steering&trim, functional&mechanical, bodywork, functional&mechanical, functional&mechanical, functional&mechanical, functional&mechanical, bodywork, functional&mechanical, seats, functional&mechanical, bodywork',\n",
       " 'climate, seats, climate, steering&trim, functional&mechanical, steering&trim, functional&mechanical, steering&trim, functional&mechanical, seats, steering&trim, functional&mechanical, functional&mechanical, functional&mechanical, functional&mechanical, bodywork, functional&mechanical, seats, seats, functional&mechanical, bodywork',\n",
       " 'climate, functional&mechanical, functional&mechanical, functional&mechanical, functional&mechanical, bodywork',\n",
       " 'climate, steering&trim, steering&trim, bodywork, functional&mechanical, seats',\n",
       " 'climate, seats, climate, steering&trim, functional&mechanical, functional&mechanical, functional&mechanical, security, steering&trim, functional&mechanical, seats, steering&trim, functional&mechanical, functional&mechanical, functional&mechanical, functional&mechanical, functional&mechanical, bodywork, functional&mechanical, seats, functional&mechanical',\n",
       " 'climate, climate, functional&mechanical, steering&trim, security, steering&trim, functional&mechanical, functional&mechanical, bodywork, functional&mechanical',\n",
       " 'climate, steering&trim, bodywork, functional&mechanical, bodywork',\n",
       " 'climate, functional&mechanical, steering&trim, functional&mechanical, functional&mechanical',\n",
       " 'climate, steering&trim, functional&mechanical, functional&mechanical, steering&trim, steering&trim, functional&mechanical, bodywork, functional&mechanical',\n",
       " 'climate, seats, climate, steering&trim, functional&mechanical, functional&mechanical, steering&trim, functional&mechanical, steering&trim, functional&mechanical, functional&mechanical, bodywork, functional&mechanical, bodywork',\n",
       " 'climate, climate, steering&trim, functional&mechanical, functional&mechanical, functional&mechanical, steering&trim, functional&mechanical, bodywork, functional&mechanical, functional&mechanical, bodywork',\n",
       " 'climate, seats, climate, steering&trim, functional&mechanical, functional&mechanical, security, functional&mechanical, steering&trim, functional&mechanical, functional&mechanical, functional&mechanical, functional&mechanical, bodywork, functional&mechanical, functional&mechanical',\n",
       " 'climate, climate, steering&trim, functional&mechanical, seats, bodywork',\n",
       " 'climate, seats, climate, climate, steering&trim, functional&mechanical, steering&trim, functional&mechanical, steering&trim, functional&mechanical, steering&trim, functional&mechanical, functional&mechanical, functional&mechanical, bodywork, functional&mechanical, seats, functional&mechanical',\n",
       " 'climate, climate, steering&trim, functional&mechanical, functional&mechanical, steering&trim, steering&trim, functional&mechanical, bodywork, functional&mechanical, functional&mechanical',\n",
       " 'climate, seats, climate, steering&trim, functional&mechanical, seats, steering&trim, functional&mechanical, seats, steering&trim, functional&mechanical, functional&mechanical, functional&mechanical, bodywork, functional&mechanical, seats',\n",
       " 'climate, seats, climate, steering&trim, functional&mechanical, steering&trim, functional&mechanical, steering&trim, functional&mechanical, functional&mechanical, functional&mechanical, functional&mechanical, bodywork, functional&mechanical',\n",
       " 'climate, seats, climate, steering&trim, functional&mechanical, functional&mechanical, steering&trim, functional&mechanical, steering&trim, functional&mechanical, functional&mechanical, functional&mechanical, functional&mechanical, functional&mechanical, bodywork, functional&mechanical, seats, functional&mechanical, bodywork',\n",
       " 'climate, seats, climate, steering&trim, functional&mechanical, seats, steering&trim, functional&mechanical, steering&trim, functional&mechanical, seats, steering&trim, functional&mechanical, functional&mechanical, functional&mechanical, functional&mechanical, functional&mechanical, bodywork, functional&mechanical, seats, functional&mechanical',\n",
       " 'climate, seats, climate, steering&trim, functional&mechanical, functional&mechanical, steering&trim, functional&mechanical, seats, steering&trim, functional&mechanical, bodywork, functional&mechanical, seats, functional&mechanical',\n",
       " 'seats, climate, climate, steering&trim, functional&mechanical, functional&mechanical, seats, seats, steering&trim, functional&mechanical, security, steering&trim, functional&mechanical, seats, steering&trim, functional&mechanical, bodywork, functional&mechanical, functional&mechanical, functional&mechanical, bodywork, functional&mechanical, seats, seats, functional&mechanical, bodywork, bodywork',\n",
       " 'climate, seats, climate, functional&mechanical, security, steering&trim, seats, steering&trim, functional&mechanical, bodywork, functional&mechanical, seats, seats, bodywork',\n",
       " 'climate, functional&mechanical, functional&mechanical, steering&trim, functional&mechanical, functional&mechanical',\n",
       " 'climate, steering&trim, functional&mechanical, functional&mechanical, steering&trim, functional&mechanical, bodywork, functional&mechanical, functional&mechanical',\n",
       " 'climate, climate, steering&trim, functional&mechanical, steering&trim, functional&mechanical, steering&trim, functional&mechanical, bodywork, functional&mechanical, seats, functional&mechanical',\n",
       " 'climate, seats, climate, steering&trim, functional&mechanical, functional&mechanical, security, functional&mechanical, steering&trim, functional&mechanical, functional&mechanical, bodywork, functional&mechanical, seats',\n",
       " 'climate, seats, climate, climate, steering&trim, functional&mechanical, seats, steering&trim, functional&mechanical, security, steering&trim, functional&mechanical, seats, steering&trim, functional&mechanical, functional&mechanical, functional&mechanical, functional&mechanical, bodywork, functional&mechanical, seats, seats, functional&mechanical, bodywork',\n",
       " 'climate, climate, steering&trim, functional&mechanical, functional&mechanical, steering&trim, functional&mechanical, steering&trim, functional&mechanical, functional&mechanical, functional&mechanical, functional&mechanical, bodywork, functional&mechanical, seats, seats, functional&mechanical, bodywork',\n",
       " 'climate, steering&trim, functional&mechanical, steering&trim, steering&trim, bodywork, seats, functional&mechanical',\n",
       " 'climate, seats, climate, steering&trim, functional&mechanical, steering&trim, functional&mechanical, bodywork, seats, functional&mechanical',\n",
       " 'climate, seats, climate, steering&trim, functional&mechanical, seats, steering&trim, functional&mechanical, steering&trim, functional&mechanical, functional&mechanical, functional&mechanical, bodywork, functional&mechanical, seats, bodywork',\n",
       " 'climate, seats, climate, climate, functional&mechanical, steering&trim, functional&mechanical, security, steering&trim, functional&mechanical, seats, steering&trim, functional&mechanical, functional&mechanical, functional&mechanical, functional&mechanical, bodywork, functional&mechanical, seats, functional&mechanical',\n",
       " 'seats, climate, climate, steering&trim, functional&mechanical, functional&mechanical, seats, steering&trim, functional&mechanical, security, steering&trim, functional&mechanical, seats, steering&trim, functional&mechanical, functional&mechanical, functional&mechanical, functional&mechanical, functional&mechanical, bodywork, functional&mechanical, seats, seats, functional&mechanical, bodywork',\n",
       " 'climate, functional&mechanical, functional&mechanical, steering&trim, steering&trim, functional&mechanical, bodywork, seats',\n",
       " 'climate, seats, steering&trim, functional&mechanical, steering&trim, functional&mechanical, steering&trim, functional&mechanical, steering&trim, functional&mechanical, bodywork, functional&mechanical, seats, functional&mechanical',\n",
       " 'climate, climate, climate, steering&trim, functional&mechanical, seats, steering&trim, functional&mechanical, steering&trim, functional&mechanical, seats, steering&trim, functional&mechanical, functional&mechanical, functional&mechanical, bodywork, functional&mechanical, seats, seats, functional&mechanical, bodywork',\n",
       " 'climate, seats, climate, steering&trim, functional&mechanical, seats, functional&mechanical, steering&trim, functional&mechanical, seats, steering&trim, functional&mechanical, bodywork, functional&mechanical, functional&mechanical, functional&mechanical, functional&mechanical, bodywork, functional&mechanical, seats, functional&mechanical, bodywork',\n",
       " 'climate, seats, climate, climate, steering&trim, functional&mechanical, seats, steering&trim, functional&mechanical, steering&trim, functional&mechanical, seats, steering&trim, functional&mechanical, functional&mechanical, functional&mechanical, functional&mechanical, bodywork, functional&mechanical, seats, seats, bodywork',\n",
       " 'climate, seats, steering&trim, functional&mechanical, functional&mechanical, security, steering&trim, functional&mechanical, seats, steering&trim, functional&mechanical, functional&mechanical, functional&mechanical, bodywork, functional&mechanical, seats, functional&mechanical',\n",
       " 'climate, climate, steering&trim, functional&mechanical, functional&mechanical, functional&mechanical, functional&mechanical, bodywork, functional&mechanical',\n",
       " 'climate, seats, climate, functional&mechanical, bodywork',\n",
       " 'climate, seats, climate, steering&trim, functional&mechanical, steering&trim, functional&mechanical, steering&trim, functional&mechanical, functional&mechanical, functional&mechanical, bodywork, functional&mechanical, functional&mechanical, bodywork',\n",
       " 'climate, seats, steering&trim, functional&mechanical, functional&mechanical, steering&trim, functional&mechanical, functional&mechanical, bodywork, seats, functional&mechanical',\n",
       " 'climate, seats, climate, steering&trim, functional&mechanical, seats, steering&trim, functional&mechanical, security, steering&trim, functional&mechanical, seats, steering&trim, functional&mechanical, functional&mechanical, functional&mechanical, bodywork, functional&mechanical, seats, seats, functional&mechanical',\n",
       " 'climate, seats, climate, climate, steering&trim, functional&mechanical, functional&mechanical, steering&trim, functional&mechanical, seats, steering&trim, functional&mechanical, functional&mechanical, functional&mechanical, functional&mechanical, bodywork, functional&mechanical, seats, functional&mechanical, bodywork',\n",
       " 'climate, climate, steering&trim, bodywork, seats, bodywork',\n",
       " 'climate, functional&mechanical, functional&mechanical, steering&trim, functional&mechanical',\n",
       " 'climate, seats, climate, steering&trim, functional&mechanical, seats, functional&mechanical, functional&mechanical, seats, steering&trim, functional&mechanical, bodywork, functional&mechanical, bodywork, functional&mechanical, seats, functional&mechanical',\n",
       " 'climate, steering&trim, functional&mechanical, functional&mechanical, steering&trim, steering&trim, functional&mechanical, bodywork, functional&mechanical, bodywork',\n",
       " 'climate, seats, steering&trim, functional&mechanical, functional&mechanical, steering&trim, functional&mechanical, steering&trim, functional&mechanical, bodywork, seats, functional&mechanical',\n",
       " 'climate, seats, climate, climate, steering&trim, functional&mechanical, steering&trim, functional&mechanical, steering&trim, functional&mechanical, seats, steering&trim, functional&mechanical, functional&mechanical, functional&mechanical, bodywork, functional&mechanical, seats, functional&mechanical',\n",
       " 'climate, climate, steering&trim, functional&mechanical, steering&trim, steering&trim, functional&mechanical, functional&mechanical, bodywork, seats, functional&mechanical',\n",
       " 'climate, seats, climate, steering&trim, functional&mechanical, seats, seats, steering&trim, functional&mechanical, security, steering&trim, functional&mechanical, seats, steering&trim, functional&mechanical, functional&mechanical, functional&mechanical, functional&mechanical, functional&mechanical, bodywork, functional&mechanical, seats, functional&mechanical',\n",
       " 'climate, seats, functional&mechanical, functional&mechanical, bodywork, functional&mechanical',\n",
       " 'climate, climate, steering&trim, functional&mechanical, functional&mechanical, security, steering&trim, functional&mechanical, steering&trim, functional&mechanical, functional&mechanical, bodywork, functional&mechanical, bodywork',\n",
       " 'climate, climate, steering&trim, functional&mechanical, functional&mechanical, security, steering&trim, functional&mechanical, steering&trim, functional&mechanical, functional&mechanical, bodywork, functional&mechanical, seats, functional&mechanical',\n",
       " 'climate, seats, steering&trim, functional&mechanical, functional&mechanical, steering&trim, functional&mechanical, steering&trim, functional&mechanical, functional&mechanical, functional&mechanical, bodywork, functional&mechanical, functional&mechanical',\n",
       " 'climate, seats, climate, steering&trim, functional&mechanical, functional&mechanical, steering&trim, functional&mechanical, seats, steering&trim, functional&mechanical, functional&mechanical, functional&mechanical, bodywork, functional&mechanical, functional&mechanical',\n",
       " 'climate, climate, steering&trim, bodywork, functional&mechanical, bodywork, functional&mechanical, seats',\n",
       " 'seats, climate, climate, steering&trim, functional&mechanical, seats, steering&trim, functional&mechanical, seats, steering&trim, functional&mechanical, functional&mechanical, functional&mechanical, bodywork, functional&mechanical, seats, functional&mechanical',\n",
       " 'seats, climate, climate, functional&mechanical, functional&mechanical, steering&trim, functional&mechanical, steering&trim, functional&mechanical, functional&mechanical, functional&mechanical, functional&mechanical, functional&mechanical, functional&mechanical, seats, functional&mechanical, bodywork',\n",
       " 'climate, seats, climate, functional&mechanical, security, functional&mechanical, steering&trim, functional&mechanical, functional&mechanical, functional&mechanical, bodywork',\n",
       " 'climate, climate, steering&trim, functional&mechanical, functional&mechanical, steering&trim, functional&mechanical, functional&mechanical, functional&mechanical',\n",
       " 'climate, seats, steering&trim, bodywork, seats, bodywork',\n",
       " 'climate, seats, steering&trim, functional&mechanical, functional&mechanical, steering&trim, functional&mechanical, functional&mechanical, bodywork, functional&mechanical, bodywork',\n",
       " 'climate, seats, climate, steering&trim, functional&mechanical, steering&trim, steering&trim, functional&mechanical, functional&mechanical, bodywork, seats',\n",
       " 'climate, seats, climate, steering&trim, functional&mechanical, functional&mechanical, steering&trim, functional&mechanical, seats, steering&trim, functional&mechanical, functional&mechanical, bodywork, functional&mechanical',\n",
       " 'seats, climate, climate, steering&trim, functional&mechanical, functional&mechanical, seats, steering&trim, functional&mechanical, security, steering&trim, functional&mechanical, seats, steering&trim, functional&mechanical, functional&mechanical, functional&mechanical, functional&mechanical, functional&mechanical, bodywork, functional&mechanical, seats, seats, bodywork',\n",
       " 'climate, seats, climate, functional&mechanical, security, functional&mechanical, steering&trim, functional&mechanical, functional&mechanical, seats, functional&mechanical',\n",
       " 'climate, steering&trim, functional&mechanical, steering&trim, steering&trim, functional&mechanical, bodywork, functional&mechanical, bodywork',\n",
       " 'seats, steering&trim, steering&trim, functional&mechanical',\n",
       " 'climate, steering&trim, functional&mechanical, functional&mechanical, steering&trim, steering&trim, functional&mechanical, bodywork, seats, seats, functional&mechanical',\n",
       " 'climate, seats, climate, steering&trim, functional&mechanical, seats, steering&trim, functional&mechanical, security, functional&mechanical, seats, steering&trim, functional&mechanical, functional&mechanical, functional&mechanical, functional&mechanical, bodywork, functional&mechanical, seats, functional&mechanical',\n",
       " 'climate, seats, climate, steering&trim, functional&mechanical, steering&trim, functional&mechanical, security, steering&trim, functional&mechanical, seats, steering&trim, functional&mechanical, functional&mechanical, functional&mechanical, functional&mechanical, bodywork, functional&mechanical, seats, seats, functional&mechanical, bodywork',\n",
       " 'steering&trim, seats',\n",
       " 'climate, seats, climate, steering&trim, functional&mechanical, functional&mechanical, security, steering&trim, functional&mechanical, seats, steering&trim, functional&mechanical, functional&mechanical, functional&mechanical, functional&mechanical, functional&mechanical, bodywork, functional&mechanical, seats, functional&mechanical',\n",
       " 'climate, seats, climate, climate, steering&trim, functional&mechanical, steering&trim, functional&mechanical, security, steering&trim, functional&mechanical, seats, steering&trim, functional&mechanical, functional&mechanical, functional&mechanical, functional&mechanical, bodywork, functional&mechanical, seats, bodywork',\n",
       " 'climate, steering&trim, functional&mechanical, functional&mechanical, security, steering&trim, functional&mechanical, steering&trim, functional&mechanical, functional&mechanical, bodywork, functional&mechanical, seats, functional&mechanical',\n",
       " 'climate, functional&mechanical, functional&mechanical, steering&trim, functional&mechanical, steering&trim, functional&mechanical, bodywork, seats, functional&mechanical',\n",
       " 'seats, climate, climate, steering&trim, functional&mechanical, security, steering&trim, functional&mechanical, steering&trim, functional&mechanical, functional&mechanical, bodywork, functional&mechanical, seats, functional&mechanical',\n",
       " 'climate, seats, climate, climate, steering&trim, functional&mechanical, functional&mechanical, security, steering&trim, functional&mechanical, seats, steering&trim, bodywork, functional&mechanical, functional&mechanical, functional&mechanical, bodywork, functional&mechanical, seats, seats, functional&mechanical, bodywork',\n",
       " 'climate, seats, climate, climate, steering&trim, functional&mechanical, seats, functional&mechanical, security, steering&trim, functional&mechanical, steering&trim, functional&mechanical, functional&mechanical, functional&mechanical, functional&mechanical, bodywork, functional&mechanical, seats, functional&mechanical, bodywork',\n",
       " 'functional&mechanical, climate, climate, functional&mechanical, functional&mechanical, steering&trim, functional&mechanical, steering&trim, functional&mechanical, steering&trim, functional&mechanical, bodywork, functional&mechanical, functional&mechanical, functional&mechanical, functional&mechanical, seats, seats, functional&mechanical',\n",
       " 'seats, climate, climate, steering&trim, functional&mechanical, seats, steering&trim, functional&mechanical, security, steering&trim, functional&mechanical, seats, steering&trim, functional&mechanical, functional&mechanical, functional&mechanical, functional&mechanical, functional&mechanical, bodywork, functional&mechanical, seats, seats, functional&mechanical, bodywork',\n",
       " 'climate, seats, climate, steering&trim, functional&mechanical, functional&mechanical, security, steering&trim, functional&mechanical, seats, steering&trim, functional&mechanical, functional&mechanical, functional&mechanical, bodywork, functional&mechanical, seats',\n",
       " 'climate, seats, climate, climate, steering&trim, functional&mechanical, functional&mechanical, steering&trim, functional&mechanical, seats, steering&trim, functional&mechanical, functional&mechanical, functional&mechanical, bodywork, functional&mechanical, seats, functional&mechanical, bodywork',\n",
       " 'climate, steering&trim, functional&mechanical, functional&mechanical, steering&trim, functional&mechanical, functional&mechanical, bodywork, functional&mechanical, bodywork',\n",
       " 'climate, steering&trim, functional&mechanical, functional&mechanical, functional&mechanical',\n",
       " 'climate, seats, climate, steering&trim, functional&mechanical, functional&mechanical, security, steering&trim, functional&mechanical, seats, steering&trim, functional&mechanical, bodywork, functional&mechanical, functional&mechanical, functional&mechanical, bodywork, functional&mechanical, seats, functional&mechanical',\n",
       " 'climate, seats, climate, steering&trim, functional&mechanical, functional&mechanical, security, steering&trim, functional&mechanical, steering&trim, functional&mechanical, functional&mechanical, functional&mechanical, bodywork, functional&mechanical, seats, functional&mechanical, bodywork',\n",
       " 'climate, seats, climate, steering&trim, functional&mechanical, functional&mechanical, steering&trim, functional&mechanical, seats, steering&trim, functional&mechanical, functional&mechanical, bodywork, functional&mechanical, seats, bodywork',\n",
       " 'seats, climate, climate, steering&trim, functional&mechanical, seats, functional&mechanical, functional&mechanical, security, steering&trim, functional&mechanical, seats, seats, steering&trim, functional&mechanical, functional&mechanical, bodywork, functional&mechanical, functional&mechanical, bodywork',\n",
       " 'climate, seats, climate, steering&trim, functional&mechanical, functional&mechanical, steering&trim, bodywork, functional&mechanical, seats, bodywork',\n",
       " 'climate, steering&trim, steering&trim, functional&mechanical, functional&mechanical, functional&mechanical',\n",
       " 'climate, seats, climate, steering&trim, functional&mechanical, functional&mechanical, seats, seats, steering&trim, functional&mechanical, security, steering&trim, functional&mechanical, seats, steering&trim, functional&mechanical, functional&mechanical, functional&mechanical, functional&mechanical, functional&mechanical, bodywork, functional&mechanical, seats, functional&mechanical',\n",
       " 'climate, steering&trim, functional&mechanical, seats',\n",
       " 'climate, seats, climate, climate, steering&trim, functional&mechanical, functional&mechanical, steering&trim, functional&mechanical, seats, steering&trim, functional&mechanical, functional&mechanical, functional&mechanical, functional&mechanical, functional&mechanical, bodywork, functional&mechanical, seats, functional&mechanical',\n",
       " 'climate, functional&mechanical, steering&trim, seats, bodywork, bodywork',\n",
       " 'climate, climate, steering&trim, steering&trim, functional&mechanical, functional&mechanical, bodywork',\n",
       " 'climate, climate, steering&trim, functional&mechanical, steering&trim, functional&mechanical, steering&trim, functional&mechanical, functional&mechanical, bodywork, functional&mechanical, seats',\n",
       " 'climate, seats, climate, steering&trim, functional&mechanical, seats, steering&trim, functional&mechanical, security, steering&trim, functional&mechanical, seats, steering&trim, functional&mechanical, functional&mechanical, functional&mechanical, functional&mechanical, functional&mechanical, bodywork, functional&mechanical, seats, functional&mechanical, bodywork',\n",
       " 'climate, seats, climate, steering&trim, functional&mechanical, functional&mechanical, steering&trim, steering&trim, functional&mechanical, bodywork, functional&mechanical, bodywork',\n",
       " 'climate, climate, steering&trim, functional&mechanical, steering&trim, functional&mechanical, steering&trim, functional&mechanical, functional&mechanical, bodywork, functional&mechanical, seats, functional&mechanical',\n",
       " 'functional&mechanical, climate, seats, climate, climate, steering&trim, functional&mechanical, functional&mechanical, seats, seats, functional&mechanical, steering&trim, functional&mechanical, seats, steering&trim, functional&mechanical, functional&mechanical, functional&mechanical, functional&mechanical, bodywork, functional&mechanical, seats, seats, seats, functional&mechanical, bodywork',\n",
       " 'climate, climate, steering&trim, functional&mechanical, functional&mechanical, bodywork, functional&mechanical, seats, bodywork, bodywork',\n",
       " 'climate, climate, functional&mechanical, bodywork, bodywork, seats, functional&mechanical',\n",
       " 'climate, seats, climate, climate, functional&mechanical, functional&mechanical, seats, functional&mechanical, security, steering&trim, functional&mechanical, seats, steering&trim, functional&mechanical, functional&mechanical, functional&mechanical, functional&mechanical, functional&mechanical, bodywork, functional&mechanical, seats, functional&mechanical',\n",
       " 'climate, seats, climate, steering&trim, functional&mechanical, seats, steering&trim, functional&mechanical, steering&trim, functional&mechanical, seats, steering&trim, functional&mechanical, functional&mechanical, functional&mechanical, functional&mechanical, bodywork, functional&mechanical, seats, functional&mechanical',\n",
       " 'climate, seats, climate, steering&trim, functional&mechanical, seats, functional&mechanical, security, steering&trim, functional&mechanical, steering&trim, functional&mechanical, functional&mechanical, functional&mechanical, functional&mechanical, bodywork, functional&mechanical, seats',\n",
       " 'climate, seats, climate, steering&trim, functional&mechanical, functional&mechanical, functional&mechanical, steering&trim, functional&mechanical, functional&mechanical, functional&mechanical, functional&mechanical, bodywork, functional&mechanical, functional&mechanical',\n",
       " 'climate, functional&mechanical, functional&mechanical, steering&trim, functional&mechanical, bodywork, functional&mechanical',\n",
       " 'climate, seats, steering&trim, functional&mechanical, functional&mechanical, steering&trim, bodywork, functional&mechanical',\n",
       " 'seats, climate, climate, steering&trim, functional&mechanical, seats, steering&trim, functional&mechanical, steering&trim, functional&mechanical, seats, steering&trim, functional&mechanical, functional&mechanical, functional&mechanical, functional&mechanical, bodywork, functional&mechanical, seats, seats, functional&mechanical',\n",
       " 'climate, seats, climate, steering&trim, functional&mechanical, security, functional&mechanical, functional&mechanical, functional&mechanical, bodywork, functional&mechanical, seats, functional&mechanical, bodywork',\n",
       " 'climate, seats, steering&trim, functional&mechanical, bodywork, seats',\n",
       " 'seats, climate, climate, functional&mechanical, security, functional&mechanical, steering&trim, bodywork, functional&mechanical, functional&mechanical',\n",
       " 'seats, climate, climate, functional&mechanical, functional&mechanical, seats, steering&trim, functional&mechanical, steering&trim, functional&mechanical, steering&trim, functional&mechanical, functional&mechanical, functional&mechanical, functional&mechanical, functional&mechanical, functional&mechanical, seats, seats, functional&mechanical, bodywork',\n",
       " 'climate, seats, climate, steering&trim, functional&mechanical, functional&mechanical, steering&trim, functional&mechanical, steering&trim, functional&mechanical, functional&mechanical, bodywork, functional&mechanical, functional&mechanical',\n",
       " 'climate, seats, climate, steering&trim, functional&mechanical, functional&mechanical, steering&trim, functional&mechanical, steering&trim, functional&mechanical, functional&mechanical, bodywork, functional&mechanical, seats, functional&mechanical, bodywork',\n",
       " 'climate, functional&mechanical, steering&trim',\n",
       " 'climate, seats, climate, climate, steering&trim, functional&mechanical, steering&trim, functional&mechanical, steering&trim, functional&mechanical, functional&mechanical, functional&mechanical, bodywork, functional&mechanical, seats, functional&mechanical',\n",
       " 'climate, seats, functional&mechanical, steering&trim, steering&trim, functional&mechanical, bodywork',\n",
       " 'climate, seats, climate, steering&trim, security, steering&trim, steering&trim, functional&mechanical, functional&mechanical, functional&mechanical, bodywork, functional&mechanical',\n",
       " 'climate, seats, climate, climate, steering&trim, functional&mechanical, steering&trim, functional&mechanical, steering&trim, functional&mechanical, steering&trim, functional&mechanical, functional&mechanical, functional&mechanical, functional&mechanical, bodywork, seats, functional&mechanical',\n",
       " 'climate, seats, climate, steering&trim, functional&mechanical, functional&mechanical, security, steering&trim, functional&mechanical, steering&trim, functional&mechanical, functional&mechanical, bodywork, functional&mechanical, functional&mechanical',\n",
       " 'climate, steering&trim, functional&mechanical, functional&mechanical, functional&mechanical, steering&trim, functional&mechanical, bodywork, functional&mechanical, functional&mechanical',\n",
       " 'climate, seats, climate, steering&trim, steering&trim, steering&trim, functional&mechanical, bodywork',\n",
       " 'climate, steering&trim, functional&mechanical, functional&mechanical, functional&mechanical, bodywork',\n",
       " 'climate, seats, climate, steering&trim, functional&mechanical, steering&trim, functional&mechanical, security, steering&trim, functional&mechanical, seats, steering&trim, functional&mechanical, functional&mechanical, functional&mechanical, functional&mechanical, bodywork, functional&mechanical, seats, functional&mechanical, bodywork',\n",
       " 'climate, functional&mechanical, seats, bodywork, seats',\n",
       " 'climate, seats, functional&mechanical, steering&trim, bodywork, seats, bodywork',\n",
       " 'climate, functional&mechanical, seats, climate, climate, climate, steering&trim, functional&mechanical, functional&mechanical, seats, functional&mechanical, steering&trim, functional&mechanical, seats, steering&trim, functional&mechanical, bodywork, functional&mechanical, functional&mechanical, functional&mechanical, bodywork, functional&mechanical, seats, functional&mechanical, bodywork',\n",
       " 'climate, seats, climate, steering&trim, functional&mechanical, seats, security, steering&trim, functional&mechanical, steering&trim, functional&mechanical, functional&mechanical, functional&mechanical, functional&mechanical, bodywork',\n",
       " 'climate, functional&mechanical, seats, climate, climate, functional&mechanical, functional&mechanical, seats, steering&trim, functional&mechanical, security, steering&trim, functional&mechanical, seats, steering&trim, functional&mechanical, functional&mechanical, functional&mechanical, functional&mechanical, bodywork, functional&mechanical, seats, functional&mechanical',\n",
       " 'climate, seats, climate, climate, steering&trim, functional&mechanical, functional&mechanical, seats, seats, steering&trim, functional&mechanical, security, steering&trim, functional&mechanical, steering&trim, functional&mechanical, bodywork, functional&mechanical, seats',\n",
       " 'climate, seats, steering&trim, functional&mechanical, functional&mechanical, steering&trim, functional&mechanical, seats, steering&trim, functional&mechanical, functional&mechanical, functional&mechanical, functional&mechanical, bodywork, functional&mechanical, seats, functional&mechanical',\n",
       " 'climate, seats, climate, climate, climate, steering&trim, functional&mechanical, functional&mechanical, seats, steering&trim, functional&mechanical, security, steering&trim, functional&mechanical, seats, steering&trim, functional&mechanical, bodywork, functional&mechanical, functional&mechanical, functional&mechanical, bodywork, functional&mechanical, seats, functional&mechanical, bodywork',\n",
       " 'climate, seats, climate, steering&trim, functional&mechanical, functional&mechanical, seats, functional&mechanical, functional&mechanical, steering&trim, functional&mechanical, seats, steering&trim, functional&mechanical, bodywork, functional&mechanical, functional&mechanical, functional&mechanical, bodywork, functional&mechanical, seats, functional&mechanical, bodywork',\n",
       " 'climate, seats, climate, steering&trim, functional&mechanical, steering&trim, bodywork',\n",
       " 'climate, seats, climate, steering&trim, functional&mechanical, functional&mechanical, seats, seats, steering&trim, functional&mechanical, security, steering&trim, seats, steering&trim, functional&mechanical, functional&mechanical, functional&mechanical, functional&mechanical, bodywork, functional&mechanical, seats, seats, functional&mechanical',\n",
       " 'climate, seats, climate, steering&trim, functional&mechanical, seats, functional&mechanical, steering&trim, seats, steering&trim, functional&mechanical, bodywork, functional&mechanical, functional&mechanical, functional&mechanical, bodywork, functional&mechanical, seats, functional&mechanical, bodywork',\n",
       " 'climate, climate, steering&trim, functional&mechanical, steering&trim, bodywork, functional&mechanical, seats, seats',\n",
       " 'steering&trim, functional&mechanical, functional&mechanical, seats, seats, steering&trim, functional&mechanical, security, functional&mechanical, seats, steering&trim, functional&mechanical, functional&mechanical, functional&mechanical, functional&mechanical, bodywork, functional&mechanical, seats',\n",
       " 'climate, seats, climate, steering&trim, functional&mechanical, functional&mechanical, seats, seats, steering&trim, functional&mechanical, security, steering&trim, functional&mechanical, seats, steering&trim, functional&mechanical, functional&mechanical, functional&mechanical, functional&mechanical, bodywork, functional&mechanical, seats',\n",
       " 'climate, seats, climate, climate, steering&trim, functional&mechanical, functional&mechanical, seats, steering&trim, functional&mechanical, functional&mechanical, seats, steering&trim, functional&mechanical, functional&mechanical, functional&mechanical, functional&mechanical, bodywork, functional&mechanical, seats, functional&mechanical',\n",
       " 'climate, seats, climate, climate, functional&mechanical, seats, functional&mechanical, security, steering&trim, functional&mechanical, seats, steering&trim, functional&mechanical, functional&mechanical, functional&mechanical, functional&mechanical, bodywork, functional&mechanical, seats, seats, functional&mechanical, bodywork',\n",
       " 'seats, climate, climate, steering&trim, functional&mechanical, seats, steering&trim, functional&mechanical, seats, steering&trim, functional&mechanical, functional&mechanical, functional&mechanical, functional&mechanical, functional&mechanical, bodywork, functional&mechanical, seats, functional&mechanical, bodywork',\n",
       " 'climate, seats, climate, steering&trim, functional&mechanical, functional&mechanical, seats, functional&mechanical, functional&mechanical, functional&mechanical, functional&mechanical, functional&mechanical, bodywork, functional&mechanical, functional&mechanical',\n",
       " 'functional&mechanical, climate, seats, climate, climate, climate, functional&mechanical, functional&mechanical, seats, steering&trim, functional&mechanical, security, steering&trim, functional&mechanical, seats, steering&trim, functional&mechanical, functional&mechanical, functional&mechanical, functional&mechanical, bodywork, functional&mechanical, seats, functional&mechanical',\n",
       " 'climate, seats, climate, climate, steering&trim, functional&mechanical, functional&mechanical, security, steering&trim, functional&mechanical, seats, steering&trim, functional&mechanical, functional&mechanical, functional&mechanical, functional&mechanical, functional&mechanical, bodywork, functional&mechanical, seats, functional&mechanical',\n",
       " 'climate, seats, climate, steering&trim, functional&mechanical, functional&mechanical, seats, functional&mechanical, steering&trim, seats, steering&trim, functional&mechanical, functional&mechanical, functional&mechanical, functional&mechanical, bodywork, functional&mechanical, seats, seats, functional&mechanical',\n",
       " 'climate, seats, climate, climate, climate, steering&trim, functional&mechanical, functional&mechanical, seats, steering&trim, functional&mechanical, security, steering&trim, functional&mechanical, seats, steering&trim, functional&mechanical, functional&mechanical, functional&mechanical, functional&mechanical, bodywork, functional&mechanical, seats, seats, functional&mechanical, bodywork',\n",
       " 'climate, seats, climate, steering&trim, functional&mechanical, functional&mechanical, seats, seats, functional&mechanical, steering&trim, functional&mechanical, seats, steering&trim, functional&mechanical, bodywork, functional&mechanical, functional&mechanical, functional&mechanical, bodywork, functional&mechanical, seats, seats, functional&mechanical, bodywork',\n",
       " 'climate, seats, climate, climate, climate, functional&mechanical, seats, seats, steering&trim, functional&mechanical, security, steering&trim, functional&mechanical, seats, steering&trim, functional&mechanical, functional&mechanical, functional&mechanical, functional&mechanical, bodywork, functional&mechanical, seats, functional&mechanical, bodywork',\n",
       " 'climate, climate, functional&mechanical, functional&mechanical, steering&trim, bodywork, seats, bodywork',\n",
       " 'climate, functional&mechanical, seats, climate, climate, functional&mechanical, functional&mechanical, seats, functional&mechanical, functional&mechanical, security, steering&trim, functional&mechanical, seats, steering&trim, functional&mechanical, bodywork, functional&mechanical, functional&mechanical, functional&mechanical, bodywork, functional&mechanical, seats, functional&mechanical, bodywork',\n",
       " 'climate, seats, climate, climate, steering&trim, functional&mechanical, functional&mechanical, seats, functional&mechanical, steering&trim, functional&mechanical, seats, steering&trim, functional&mechanical, functional&mechanical, functional&mechanical, functional&mechanical, functional&mechanical, bodywork, functional&mechanical, seats, functional&mechanical',\n",
       " 'seats, steering&trim, bodywork',\n",
       " 'climate, seats, climate, steering&trim, functional&mechanical, functional&mechanical, seats, functional&mechanical, steering&trim, seats, steering&trim, functional&mechanical, functional&mechanical, functional&mechanical, functional&mechanical, bodywork, functional&mechanical, seats, seats, functional&mechanical, bodywork',\n",
       " 'climate, seats, climate, climate, functional&mechanical, functional&mechanical, seats, steering&trim, functional&mechanical, steering&trim, functional&mechanical, seats, steering&trim, functional&mechanical, functional&mechanical, functional&mechanical, functional&mechanical, bodywork, functional&mechanical, seats, seats, functional&mechanical, bodywork',\n",
       " 'climate, seats, climate, steering&trim, functional&mechanical, functional&mechanical, seats, seats, steering&trim, functional&mechanical, security, steering&trim, seats, steering&trim, functional&mechanical, functional&mechanical, functional&mechanical, functional&mechanical, bodywork, functional&mechanical, seats, seats, functional&mechanical, bodywork',\n",
       " 'climate, seats, climate, climate, steering&trim, functional&mechanical, functional&mechanical, seats, seats, functional&mechanical, steering&trim, functional&mechanical, seats, steering&trim, functional&mechanical, functional&mechanical, bodywork, functional&mechanical, seats, functional&mechanical',\n",
       " 'climate, seats, climate, steering&trim, functional&mechanical, seats, functional&mechanical, steering&trim, functional&mechanical, seats, steering&trim, functional&mechanical, functional&mechanical, functional&mechanical, bodywork, functional&mechanical, seats, functional&mechanical',\n",
       " 'seats, climate, climate, steering&trim, functional&mechanical, seats, functional&mechanical, steering&trim, functional&mechanical, seats, steering&trim, functional&mechanical, functional&mechanical, functional&mechanical, functional&mechanical, functional&mechanical, bodywork, functional&mechanical, seats, functional&mechanical',\n",
       " 'seats, climate, climate, steering&trim, functional&mechanical, functional&mechanical, functional&mechanical, steering&trim, functional&mechanical, seats, steering&trim, functional&mechanical, functional&mechanical, functional&mechanical, bodywork, functional&mechanical, seats, functional&mechanical',\n",
       " 'climate, seats, functional&mechanical, bodywork, bodywork',\n",
       " 'climate, seats, climate, climate, climate, functional&mechanical, functional&mechanical, seats, functional&mechanical, security, steering&trim, functional&mechanical, seats, steering&trim, functional&mechanical, functional&mechanical, functional&mechanical, functional&mechanical, functional&mechanical, bodywork, functional&mechanical, seats, functional&mechanical',\n",
       " 'climate, seats, steering&trim, functional&mechanical, functional&mechanical, steering&trim, steering&trim, functional&mechanical, functional&mechanical, bodywork, seats, functional&mechanical',\n",
       " 'climate, seats, climate, climate, steering&trim, functional&mechanical, steering&trim, functional&mechanical, steering&trim, functional&mechanical, functional&mechanical, bodywork, functional&mechanical, seats',\n",
       " 'seats, climate, climate, steering&trim, functional&mechanical, functional&mechanical, seats, steering&trim, functional&mechanical, security, steering&trim, functional&mechanical, seats, steering&trim, functional&mechanical, functional&mechanical, functional&mechanical, functional&mechanical, bodywork, functional&mechanical, seats, seats, functional&mechanical, bodywork',\n",
       " 'seats, climate, climate, steering&trim, functional&mechanical, seats, functional&mechanical, steering&trim, functional&mechanical, seats, steering&trim, functional&mechanical, functional&mechanical, functional&mechanical, functional&mechanical, bodywork, functional&mechanical, seats, functional&mechanical, bodywork',\n",
       " 'climate, seats, climate, climate, steering&trim, functional&mechanical, functional&mechanical, seats, steering&trim, functional&mechanical, security, steering&trim, functional&mechanical, seats, steering&trim, functional&mechanical, bodywork, functional&mechanical, functional&mechanical, functional&mechanical, bodywork, functional&mechanical, seats, bodywork',\n",
       " 'seats, climate, climate, steering&trim, functional&mechanical, seats, functional&mechanical, steering&trim, functional&mechanical, seats, steering&trim, functional&mechanical, functional&mechanical, functional&mechanical, functional&mechanical, functional&mechanical, bodywork, functional&mechanical, seats, functional&mechanical, bodywork',\n",
       " 'climate, seats, climate, steering&trim, functional&mechanical, functional&mechanical, functional&mechanical, security, steering&trim, functional&mechanical, seats, steering&trim, functional&mechanical, functional&mechanical, functional&mechanical, functional&mechanical, bodywork, functional&mechanical, seats, seats, functional&mechanical, bodywork',\n",
       " 'seats, functional&mechanical',\n",
       " 'climate, seats, climate, steering&trim, functional&mechanical, functional&mechanical, seats, functional&mechanical, security, steering&trim, functional&mechanical, seats, steering&trim, functional&mechanical, functional&mechanical, functional&mechanical, functional&mechanical, bodywork, functional&mechanical, seats',\n",
       " 'climate, seats, climate, steering&trim, functional&mechanical, steering&trim, functional&mechanical, seats, steering&trim, functional&mechanical, functional&mechanical, functional&mechanical, bodywork, functional&mechanical, seats, seats, functional&mechanical, bodywork',\n",
       " 'climate, seats, climate, steering&trim, functional&mechanical, steering&trim, functional&mechanical, steering&trim, functional&mechanical, steering&trim, functional&mechanical, bodywork, functional&mechanical, seats, functional&mechanical',\n",
       " 'climate, climate, steering&trim, functional&mechanical, security, steering&trim, functional&mechanical, functional&mechanical, bodywork, functional&mechanical',\n",
       " 'climate, seats, climate, steering&trim, functional&mechanical, functional&mechanical, seats, functional&mechanical, steering&trim, functional&mechanical, seats, steering&trim, functional&mechanical, bodywork, functional&mechanical, functional&mechanical, functional&mechanical, bodywork, functional&mechanical, seats, seats, functional&mechanical, bodywork',\n",
       " 'climate, seats, climate, functional&mechanical, seats, functional&mechanical, security, steering&trim, functional&mechanical, functional&mechanical, functional&mechanical, bodywork, bodywork',\n",
       " 'climate, climate, steering&trim, steering&trim, functional&mechanical, security, steering&trim, functional&mechanical, steering&trim, functional&mechanical, functional&mechanical, functional&mechanical, functional&mechanical, functional&mechanical, functional&mechanical, seats, functional&mechanical',\n",
       " 'climate, steering&trim, functional&mechanical, steering&trim, functional&mechanical, functional&mechanical, bodywork, functional&mechanical',\n",
       " 'climate, seats, climate, steering&trim, functional&mechanical, functional&mechanical, security, steering&trim, functional&mechanical, seats, steering&trim, functional&mechanical, functional&mechanical, functional&mechanical, bodywork, functional&mechanical, functional&mechanical',\n",
       " 'climate, steering&trim, functional&mechanical, steering&trim, functional&mechanical, steering&trim, functional&mechanical, steering&trim, functional&mechanical, bodywork, functional&mechanical, seats',\n",
       " 'climate, seats, steering&trim, functional&mechanical, functional&mechanical, steering&trim, functional&mechanical, steering&trim, functional&mechanical, functional&mechanical, functional&mechanical, bodywork, seats, functional&mechanical',\n",
       " 'climate, seats, climate, climate, steering&trim, functional&mechanical, seats, functional&mechanical, security, steering&trim, functional&mechanical, seats, steering&trim, functional&mechanical, functional&mechanical, bodywork, functional&mechanical, functional&mechanical',\n",
       " 'steering&trim, seats, bodywork, bodywork',\n",
       " 'climate, climate, steering&trim, functional&mechanical, steering&trim, steering&trim, functional&mechanical, steering&trim, functional&mechanical, functional&mechanical, functional&mechanical, functional&mechanical, functional&mechanical, seats, seats, functional&mechanical, bodywork',\n",
       " 'climate, seats, climate, steering&trim, functional&mechanical, security, steering&trim, functional&mechanical, functional&mechanical, functional&mechanical, bodywork, functional&mechanical, seats, seats, bodywork',\n",
       " 'climate, functional&mechanical, functional&mechanical, steering&trim, bodywork, bodywork',\n",
       " 'climate, climate, steering&trim, functional&mechanical, functional&mechanical, steering&trim, functional&mechanical, steering&trim, functional&mechanical, functional&mechanical, bodywork, functional&mechanical, seats, functional&mechanical, bodywork',\n",
       " 'climate, seats, climate, climate, steering&trim, functional&mechanical, functional&mechanical, seats, seats, steering&trim, functional&mechanical, security, steering&trim, functional&mechanical, seats, steering&trim, functional&mechanical, bodywork, functional&mechanical, functional&mechanical, functional&mechanical, bodywork, functional&mechanical, seats, functional&mechanical, bodywork',\n",
       " ...]"
      ]
     },
     "execution_count": 81,
     "metadata": {},
     "output_type": "execute_result"
    }
   ],
   "source": [
    "list(df[\"comfort_&_convenience\"].value_counts().index)"
   ]
  },
  {
   "cell_type": "code",
   "execution_count": 82,
   "metadata": {
    "ExecuteTime": {
     "end_time": "2024-02-25T18:51:44.725863Z",
     "start_time": "2024-02-25T18:51:44.585265Z"
    }
   },
   "outputs": [],
   "source": [
    "df[\"comfort_&_convenience\"] = df[\"comfort_&_convenience\"].apply(lambda x : \",\".join(set(x.replace(\" \",\"\").split(\",\"))) if type(x) == str else x)"
   ]
  },
  {
   "cell_type": "code",
   "execution_count": 83,
   "metadata": {
    "ExecuteTime": {
     "end_time": "2024-02-25T18:51:44.739418Z",
     "start_time": "2024-02-25T18:51:44.728759Z"
    }
   },
   "outputs": [
    {
     "data": {
      "text/plain": [
       "7614     bodywork,seats,functional&mechanical,steering&...\n",
       "26240    functional&mechanical,bodywork,climate,steerin...\n",
       "28361    security,bodywork,seats,functional&mechanical,...\n",
       "10304    functional&mechanical,bodywork,climate,steerin...\n",
       "8894     bodywork,seats,functional&mechanical,steering&...\n",
       "Name: comfort_&_convenience, dtype: object"
      ]
     },
     "execution_count": 83,
     "metadata": {},
     "output_type": "execute_result"
    }
   ],
   "source": [
    "df[\"comfort_&_convenience\"].sample(5)"
   ]
  },
  {
   "cell_type": "markdown",
   "metadata": {},
   "source": [
    "<a id=\"29\"></a>\n",
    "<div class=\"alert alert-info\" role=\"alert\">\n",
    "<h1>Column name :<span style=\"color:red\"> entertainment_&_media </span></h1>\n",
    "</div>\n",
    "\n",
    "<div class=\"alert alert-block\" style=\"background-color: darkblue;\">\n",
    "<div class=\"alert alert-block alert-warning\">\n",
    "<b>Operation : </b> Let's edit the expression <span style=\"color:red\"><b>\" [CD player, On-board computer, Radio] \"</b></span> in the content of the make column. Let's remove the <span style=\"color:red\"><b> \" [ ] \" </b></span> , apply title() method  . Let's categorize the values in the column as <span style=\"color:red\"><b> \" con_nect \" ,\" entertainment \" , \" sphone_integ \", \" sound_system \"</b></span> . \n",
    "</div>"
   ]
  },
  {
   "cell_type": "markdown",
   "metadata": {},
   "source": [
    "<a href=\"#toc\" class=\"btn btn-warning btn-lg active\" role=\"button\" aria-pressed=\"true\" style=\"color:black;\">Content</a>"
   ]
  },
  {
   "cell_type": "code",
   "execution_count": 84,
   "metadata": {
    "ExecuteTime": {
     "end_time": "2024-02-25T18:51:44.838789Z",
     "start_time": "2024-02-25T18:51:44.746467Z"
    }
   },
   "outputs": [],
   "source": [
    "df[\"entertainment_&_media\"] = df[\"entertainment_&_media\"].apply(lambda x : x[0] if type(x) == list else x).str.title()"
   ]
  },
  {
   "cell_type": "code",
   "execution_count": 85,
   "metadata": {
    "ExecuteTime": {
     "end_time": "2024-02-25T18:51:44.857851Z",
     "start_time": "2024-02-25T18:51:44.841698Z"
    }
   },
   "outputs": [],
   "source": [
    "listem = list(df[\"entertainment_&_media\"].dropna().unique())"
   ]
  },
  {
   "cell_type": "code",
   "execution_count": 86,
   "metadata": {
    "ExecuteTime": {
     "end_time": "2024-02-25T18:51:44.891417Z",
     "start_time": "2024-02-25T18:51:44.865210Z"
    }
   },
   "outputs": [
    {
     "name": "stdout",
     "output_type": "stream",
     "text": [
      "{'Usb': 1318, 'Bluetooth': 1474, 'Cd Player': 697, 'Mp3': 844, 'On-Board Computer': 1437, 'Radio': 1404, 'Digital Cockpit': 654, 'Hands-Free Equipment': 1279, 'Sound System': 927, 'Digital Radio': 1017, 'Android Auto': 838, 'Apple Carplay': 904, 'Induction Charging For Smartphones': 427, 'Integrated Music Streaming': 483, 'Wlan / Wifi Hotspot': 402, 'Television': 92}\n"
     ]
    }
   ],
   "source": [
    "sonuc = {}\n",
    "\n",
    "for eleman in listem:\n",
    "    parcalar = eleman.split(', ')\n",
    "    for parca in parcalar:\n",
    "        parca = parca.strip()\n",
    "        if parca in sonuc:\n",
    "            sonuc[parca] += 1\n",
    "        else:\n",
    "            sonuc[parca] = 1\n",
    "\n",
    "print(sonuc)"
   ]
  },
  {
   "cell_type": "code",
   "execution_count": 87,
   "metadata": {
    "ExecuteTime": {
     "end_time": "2024-02-25T18:51:44.923194Z",
     "start_time": "2024-02-25T18:51:44.893740Z"
    }
   },
   "outputs": [],
   "source": [
    "categorized_dict = {\n",
    "    'con_nect': [ # 'Digitalconnectivity',\n",
    "                      'Usb',\n",
    "                      'Bluetooth',\n",
    "                      'Cd Player', \n",
    "                      'Mp3',\n",
    "                      'On-Board Computer',                      \n",
    "                      'Digital Cockpit',\n",
    "                      'Hands-Free Equipment',\n",
    "                      'Digital Radio',                      \n",
    "                      'Induction Charging For Smartphones',\n",
    "                      'Integrated Music Streaming',\n",
    "                      'Wlan / Wifi Hotspot',\n",
    "                      'Radio'\n",
    "                     # 'Digital'\n",
    "    ],\n",
    "    \n",
    "    'entertainment': [\n",
    "                      'Television'\n",
    "    ],\n",
    "    \n",
    "    'sphone_integ': [\n",
    "                      'Android Auto',\n",
    "                      'Apple Carplay'\n",
    "    ],\n",
    "    \n",
    "    'sound_system': [\n",
    "                      'Sound System'\n",
    "    ]\n",
    "}\n"
   ]
  },
  {
   "cell_type": "code",
   "execution_count": 88,
   "metadata": {
    "ExecuteTime": {
     "end_time": "2024-02-25T18:51:45.440749Z",
     "start_time": "2024-02-25T18:51:44.927826Z"
    }
   },
   "outputs": [],
   "source": [
    "for category, keywords in categorized_dict.items():\n",
    "    for keyword in keywords:\n",
    "        df[\"entertainment_&_media\"] = df[\"entertainment_&_media\"].str.replace(keyword, category, regex=True)"
   ]
  },
  {
   "cell_type": "code",
   "execution_count": 89,
   "metadata": {
    "ExecuteTime": {
     "end_time": "2024-02-25T18:51:45.533201Z",
     "start_time": "2024-02-25T18:51:45.444391Z"
    }
   },
   "outputs": [],
   "source": [
    "df[\"entertainment_&_media\"] = df[\"entertainment_&_media\"].apply(lambda x : \",\".join(set(x.replace(\" \",\"\").split(\",\"))) if type(x) == str else x)"
   ]
  },
  {
   "cell_type": "code",
   "execution_count": 90,
   "metadata": {
    "ExecuteTime": {
     "end_time": "2024-02-25T18:51:45.555362Z",
     "start_time": "2024-02-25T18:51:45.538973Z"
    }
   },
   "outputs": [
    {
     "data": {
      "text/plain": [
       "18281    con_nect,sphone_integ\n",
       "18238                 con_nect\n",
       "4787                  con_nect\n",
       "19326                      NaN\n",
       "1220                  con_nect\n",
       "Name: entertainment_&_media, dtype: object"
      ]
     },
     "execution_count": 90,
     "metadata": {},
     "output_type": "execute_result"
    }
   ],
   "source": [
    "df[\"entertainment_&_media\"].sample(5)"
   ]
  },
  {
   "cell_type": "markdown",
   "metadata": {},
   "source": [
    "<a id=\"30\"></a>\n",
    "<div class=\"alert alert-info\" role=\"alert\">\n",
    "<h1>Column name :<span style=\"color:red\"> safety_&_security </span></h1>\n",
    "</div>\n",
    "\n",
    "<div class=\"alert alert-block\" style=\"background-color: darkblue;\">\n",
    "<div class=\"alert alert-block alert-warning\">\n",
    "<b>Operation : </b> Let's edit the expression <span style=\"color:red\"><b>\" [ABS, Central door lock, Driver-side airbag, Electronic stability control, Immobilizer, Isofix, Passenger-side airbag, Power steering, Side airbag] \"</b></span> in the content of the make column. Let's remove the <span style=\"color:red\"><b> \" [ ] \" </b></span> , apply title() method . Let's categorize the values in the column as <span style=\"color:red\"><b> \" safety_fea \" ,\" lighting_fea \" , \" conv_fea \", \" driver_fea \", \" other_fea \"</b></span> . \n",
    "</div>"
   ]
  },
  {
   "cell_type": "markdown",
   "metadata": {},
   "source": [
    "<a href=\"#toc\" class=\"btn btn-warning btn-lg active\" role=\"button\" aria-pressed=\"true\" style=\"color:black;\">Content</a>"
   ]
  },
  {
   "cell_type": "code",
   "execution_count": 91,
   "metadata": {
    "ExecuteTime": {
     "end_time": "2024-02-25T18:55:45.910883Z",
     "start_time": "2024-02-25T18:51:45.563093Z"
    }
   },
   "outputs": [
    {
     "data": {
      "text/plain": [
       "[['Isofix'],\n",
       " ['ABS, Central door lock, Driver-side airbag, Electronic stability control, Immobilizer, Isofix, Passenger-side airbag, Power steering, Side airbag'],\n",
       " ['ABS, Central door lock, Driver-side airbag, Immobilizer, Isofix, Passenger-side airbag, Power steering, Side airbag, Traction control'],\n",
       " ['ABS, Central door lock, Driver-side airbag, Electronic stability control, Fog lights, Isofix, Power steering, Side airbag'],\n",
       " ['ABS, Fog lights, Side airbag'],\n",
       " ['ABS, Central door lock, Driver-side airbag, Fog lights, Isofix, Passenger-side airbag, Power steering, Side airbag'],\n",
       " ['Power steering'],\n",
       " ['ABS, Adaptive Cruise Control, Adaptive headlights, Blind spot monitor, Central door lock, Central door lock with remote control, Daytime running lights, Distance warning system, Driver drowsiness detection, Driver-side airbag, Electronic stability control, Emergency brake assistant, Emergency system, Fog lights, Full-LED headlights, Head airbag, High beam assist, Immobilizer, Isofix, LED Daytime Running Lights, LED Headlights, Lane departure warning system, Passenger-side airbag, Power steering, Rear airbag, Side airbag, Speed limit control system, Tire pressure monitoring system, Traction control, Traffic sign recognition'],\n",
       " ['ABS, Central door lock, Fog lights, Immobilizer, Isofix, Power steering, Side airbag'],\n",
       " ['ABS, Central door lock, Daytime running lights, Driver-side airbag, Electronic stability control, Fog lights, Isofix, Passenger-side airbag, Power steering, Side airbag, Traction control'],\n",
       " ['ABS, Central door lock, Driver-side airbag, Electronic stability control, Fog lights, Passenger-side airbag, Power steering, Side airbag'],\n",
       " ['ABS, Central door lock, Driver-side airbag, Fog lights, Isofix, Passenger-side airbag, Power steering, Side airbag, Traction control'],\n",
       " ['ABS, Central door lock, Driver-side airbag, Electronic stability control, Fog lights, Immobilizer, Isofix, Passenger-side airbag, Power steering, Side airbag'],\n",
       " ['ABS, Central door lock, Driver-side airbag, Fog lights, Immobilizer, Isofix, Passenger-side airbag, Power steering, Side airbag'],\n",
       " ['ABS, Central door lock, Driver-side airbag, Electronic stability control, Fog lights, Isofix, Passenger-side airbag, Power steering, Side airbag'],\n",
       " ['ABS, Adaptive Cruise Control, Adaptive headlights, Bi-Xenon headlights, Blind spot monitor, Central door lock, Daytime running lights, Distance warning system, Driver drowsiness detection, Driver-side airbag, Electronic stability control, Emergency brake assistant, Emergency system, Fog lights, Immobilizer, Isofix, LED Daytime Running Lights, LED Headlights, Lane departure warning system, Passenger-side airbag, Power steering, Side airbag, Tire pressure monitoring system, Traction control, Traffic sign recognition, Xenon headlights'],\n",
       " ['Driver-side airbag, Isofix, LED Daytime Running Lights, Passenger-side airbag, Power steering, Tire pressure monitoring system, Traction control'],\n",
       " ['ABS, Central door lock, Daytime running lights, Distance warning system, Electronic stability control, Fog lights, Immobilizer, Isofix, Power steering, Traction control'],\n",
       " ['ABS, Central door lock, Driver-side airbag, Isofix, Passenger-side airbag, Power steering, Side airbag'],\n",
       " ['Driver-side airbag, Isofix, LED Daytime Running Lights, Lane departure warning system, Passenger-side airbag, Power steering, Tire pressure monitoring system, Traction control'],\n",
       " ['ABS, Alarm system, Central door lock, Central door lock with remote control, Driver-side airbag, Electronic stability control, Fog lights, Immobilizer, Passenger-side airbag, Power steering, Side airbag, Traction control'],\n",
       " ['ABS, Central door lock, Driver-side airbag, Electronic stability control, Fog lights, Immobilizer, Isofix, Passenger-side airbag, Power steering, Side airbag, Traction control'],\n",
       " ['ABS, Central door lock, Driver-side airbag, Electronic stability control, Passenger-side airbag, Power steering, Side airbag'],\n",
       " ['ABS, Central door lock, Driver-side airbag, Electronic stability control, Immobilizer, Isofix, Power steering, Side airbag'],\n",
       " ['ABS, Central door lock, Driver-side airbag, Electronic stability control, Immobilizer, Isofix, Passenger-side airbag, Power steering, Side airbag, Traction control'],\n",
       " ['ABS, Alarm system, Central door lock, Driver-side airbag, Fog lights, Isofix, Power steering, Side airbag, Traction control'],\n",
       " ['ABS, Central door lock, Central door lock with remote control, Driver-side airbag, Electronic stability control, Fog lights, Immobilizer, Passenger-side airbag, Power steering, Side airbag, Traction control'],\n",
       " ['ABS, Driver-side airbag, Fog lights, Passenger-side airbag, Power steering, Side airbag'],\n",
       " ['ABS, Central door lock, Daytime running lights, Distance warning system, Driver-side airbag, Electronic stability control, Fog lights, Immobilizer, Isofix, Passenger-side airbag, Power steering, Side airbag, Tire pressure monitoring system, Traction control'],\n",
       " ['ABS, Central door lock, Driver-side airbag, Electronic stability control, Power steering, Traction control'],\n",
       " ['ABS, Central door lock, Fog lights, Side airbag'],\n",
       " ['Central door lock'],\n",
       " ['ABS, Central door lock, Isofix, Passenger-side airbag, Power steering, Side airbag'],\n",
       " ['Central door lock, Power steering'],\n",
       " ['ABS, Side airbag'],\n",
       " ['ABS, Central door lock, Fog lights, Power steering'],\n",
       " ['ABS, Central door lock, Driver-side airbag, Electronic stability control, Fog lights, Immobilizer, Passenger-side airbag, Power steering, Side airbag, Traction control'],\n",
       " ['ABS, Central door lock, Driver-side airbag, Isofix'],\n",
       " ['ABS, Alarm system, Central door lock, Central door lock with remote control, Driver-side airbag, Fog lights, Immobilizer, Passenger-side airbag, Power steering, Side airbag'],\n",
       " ['ABS, Central door lock, Fog lights, Isofix, Passenger-side airbag, Power steering, Side airbag'],\n",
       " ['ABS, Central door lock, Driver-side airbag, Electronic stability control, Isofix, Xenon headlights'],\n",
       " ['ABS, Central door lock, Driver-side airbag, Fog lights, Immobilizer, Isofix, Passenger-side airbag, Power steering, Side airbag, Traction control'],\n",
       " ['ABS, Adaptive Cruise Control, Adaptive headlights, Blind spot monitor, Central door lock, Daytime running lights, Distance warning system, Driver drowsiness detection, Driver-side airbag, Electronic stability control, Emergency brake assistant, Emergency system, Fog lights, Glare-free high beam headlights, High beam assist, Immobilizer, Isofix, LED Daytime Running Lights, LED Headlights, Lane departure warning system, Passenger-side airbag, Power steering, Side airbag, Speed limit control system, Tire pressure monitoring system, Traction control, Traffic sign recognition'],\n",
       " ['ABS, Central door lock, Driver-side airbag, Fog lights, Immobilizer, Passenger-side airbag, Power steering'],\n",
       " ['ABS, Central door lock, Driver-side airbag, Electronic stability control, Fog lights, Head airbag, Immobilizer, Isofix, Passenger-side airbag, Power steering, Side airbag, Traction control'],\n",
       " ['ABS, Adaptive Cruise Control, Bi-Xenon headlights, Blind spot monitor, Central door lock, Daytime running lights, Distance warning system, Driver drowsiness detection, Driver-side airbag, Electronic stability control, Emergency brake assistant, Emergency system, Fog lights, Immobilizer, Isofix, LED Daytime Running Lights, LED Headlights, Lane departure warning system, Passenger-side airbag, Power steering, Side airbag, Tire pressure monitoring system, Traction control, Traffic sign recognition, Xenon headlights'],\n",
       " ['ABS, Central door lock, Driver-side airbag, Electronic stability control, Isofix, Power steering, Side airbag'],\n",
       " ['ABS, Central door lock, Daytime running lights, Driver-side airbag, Electronic stability control, Immobilizer, Isofix, Passenger-side airbag, Power steering, Side airbag, Tire pressure monitoring system, Traction control'],\n",
       " ['ABS, Central door lock, Central door lock with remote control, Driver-side airbag, Fog lights, Immobilizer, Passenger-side airbag, Power steering, Side airbag'],\n",
       " ['ABS, Alarm system, Central door lock, Driver-side airbag, Isofix, Power steering, Side airbag, Traction control'],\n",
       " ['Fog lights'],\n",
       " ['ABS, Central door lock, Fog lights, Isofix, Power steering, Side airbag'],\n",
       " ['ABS, Adaptive Cruise Control, Adaptive headlights, Bi-Xenon headlights, Blind spot monitor, Central door lock, Daytime running lights, Distance warning system, Driver drowsiness detection, Driver-side airbag, Electronic stability control, Emergency brake assistant, Fog lights, Immobilizer, Isofix, LED Daytime Running Lights, LED Headlights, Lane departure warning system, Passenger-side airbag, Power steering, Side airbag, Tire pressure monitoring system, Traffic sign recognition, Xenon headlights'],\n",
       " ['ABS, Central door lock, Driver-side airbag, Passenger-side airbag, Power steering, Side airbag'],\n",
       " ['ABS, Central door lock, Daytime running lights, Distance warning system, Driver-side airbag, Electronic stability control, Emergency brake assistant, Fog lights, Immobilizer, Isofix, LED Daytime Running Lights, Lane departure warning system, Passenger-side airbag, Power steering, Side airbag, Tire pressure monitoring system, Traction control, Traffic sign recognition'],\n",
       " ['ABS, Alarm system, Bi-Xenon headlights, Central door lock, Central door lock with remote control, Driver-side airbag, Electronic stability control, Emergency brake assistant, Fog lights, Head airbag, Immobilizer, Passenger-side airbag, Side airbag, Traction control, Xenon headlights'],\n",
       " ['ABS, Fog lights, Isofix, Power steering, Side airbag'],\n",
       " ['ABS, Central door lock, Power steering'],\n",
       " ['ABS, Central door lock, Driver-side airbag, Electronic stability control, Fog lights, Immobilizer, Isofix, Power steering, Side airbag'],\n",
       " ['ABS, Central door lock, Daytime running lights, Driver-side airbag, Electronic stability control, Fog lights, Immobilizer, Isofix, Passenger-side airbag, Power steering, Side airbag, Tire pressure monitoring system, Traction control'],\n",
       " ['Emergency brake assistant, Full-LED headlights, LED Headlights'],\n",
       " ['ABS, Central door lock, Driver-side airbag, Passenger-side airbag, Power steering'],\n",
       " ['ABS, Central door lock, Daytime running lights, Distance warning system, Driver-side airbag, Electronic stability control, Emergency brake assistant, Fog lights, Immobilizer, Isofix, LED Daytime Running Lights, Passenger-side airbag, Power steering, Side airbag, Tire pressure monitoring system, Traction control'],\n",
       " ['ABS, Alarm system, Central door lock, Driver-side airbag, Electronic stability control, Isofix, Power steering, Side airbag, Traction control'],\n",
       " ['ABS, Central door lock, Driver-side airbag, Electronic stability control, Fog lights, Isofix, Passenger-side airbag, Power steering, Side airbag, Traction control'],\n",
       " ['ABS, Central door lock, Daytime running lights, Fog lights, Isofix, Power steering, Side airbag'],\n",
       " ['ABS, Central door lock, Daytime running lights, Distance warning system, Driver-side airbag, Electronic stability control, Immobilizer, Isofix, Passenger-side airbag, Power steering, Side airbag, Tire pressure monitoring system, Traction control'],\n",
       " ['ABS, Adaptive Cruise Control, Adaptive headlights, Alarm system, Bi-Xenon headlights, Blind spot monitor, Central door lock, Daytime running lights, Distance warning system, Driver drowsiness detection, Driver-side airbag, Electronic stability control, Emergency brake assistant, Emergency system, Fog lights, Immobilizer, Isofix, LED Daytime Running Lights, LED Headlights, Lane departure warning system, Passenger-side airbag, Power steering, Side airbag, Tire pressure monitoring system, Traction control, Traffic sign recognition, Xenon headlights'],\n",
       " ['ABS, Central door lock, Central door lock with remote control, Driver-side airbag, Electronic stability control, Emergency brake assistant, Fog lights, Immobilizer, Isofix, LED Daytime Running Lights, Passenger-side airbag, Side airbag, Tire pressure monitoring system, Traction control'],\n",
       " ['ABS, Central door lock, Driver-side airbag, Electronic stability control, Fog lights, Head airbag, Immobilizer, Passenger-side airbag, Power steering, Side airbag, Traction control'],\n",
       " ['ABS, Alarm system, Central door lock, Immobilizer, Power steering, Side airbag, Xenon headlights'],\n",
       " ['ABS, Central door lock, Fog lights, Immobilizer, Isofix, Power steering, Side airbag, Traction control'],\n",
       " ['ABS, Central door lock, Driver-side airbag, Fog lights, Immobilizer, Passenger-side airbag, Power steering, Side airbag'],\n",
       " ['ABS, Central door lock, Driver-side airbag, Fog lights, Power steering, Side airbag'],\n",
       " ['ABS, Central door lock, Driver-side airbag, Immobilizer, Passenger-side airbag, Power steering'],\n",
       " ['ABS, Adaptive Cruise Control, Adaptive headlights, Bi-Xenon headlights, Blind spot monitor, Central door lock, Daytime running lights, Distance warning system, Driver drowsiness detection, Driver-side airbag, Electronic stability control, Emergency brake assistant, Fog lights, Immobilizer, Isofix, LED Daytime Running Lights, LED Headlights, Lane departure warning system, Passenger-side airbag, Power steering, Side airbag, Tire pressure monitoring system, Traction control, Traffic sign recognition, Xenon headlights'],\n",
       " ['ABS, Alarm system, Central door lock, Central door lock with remote control, Driver-side airbag, Immobilizer, Passenger-side airbag, Power steering'],\n",
       " ['ABS, Central door lock, Driver-side airbag, Electronic stability control, Isofix, Passenger-side airbag, Power steering, Side airbag, Traction control'],\n",
       " ['ABS, Alarm system, Central door lock, Fog lights, Isofix, Power steering, Side airbag, Traction control'],\n",
       " ['ABS, Adaptive Cruise Control, Adaptive headlights, Central door lock, Daytime running lights, Distance warning system, Driver drowsiness detection, Driver-side airbag, Electronic stability control, Emergency brake assistant, Emergency system, Fog lights, Full-LED headlights, Glare-free high beam headlights, Head airbag, Immobilizer, Isofix, LED Daytime Running Lights, LED Headlights, Lane departure warning system, Passenger-side airbag, Power steering, Side airbag, Speed limit control system, Tire pressure monitoring system, Traction control, Traffic sign recognition'],\n",
       " ['ABS, Central door lock, Daytime running lights, Driver-side airbag, Electronic stability control, Fog lights, Immobilizer, Isofix, Passenger-side airbag, Power steering, Side airbag, Traction control'],\n",
       " ['ABS, Central door lock, Daytime running lights, Driver-side airbag, Electronic stability control, Fog lights, Immobilizer, Isofix, Passenger-side airbag, Power steering, Side airbag'],\n",
       " ['ABS, Alarm system, Bi-Xenon headlights, Central door lock, Daytime running lights, Distance warning system, Driver drowsiness detection, Driver-side airbag, Electronic stability control, Emergency brake assistant, Emergency system, Fog lights, Immobilizer, Isofix, LED Daytime Running Lights, LED Headlights, Lane departure warning system, Passenger-side airbag, Power steering, Side airbag, Tire pressure monitoring system, Traction control, Traffic sign recognition, Xenon headlights'],\n",
       " ['ABS, Adaptive Cruise Control, Adaptive headlights, Central door lock, Daytime running lights, Distance warning system, Driver drowsiness detection, Driver-side airbag, Electronic stability control, Emergency brake assistant, Emergency system, Fog lights, Full-LED headlights, Head airbag, High beam assist, Immobilizer, Isofix, LED Daytime Running Lights, LED Headlights, Lane departure warning system, Passenger-side airbag, Power steering, Side airbag, Speed limit control system, Tire pressure monitoring system, Traction control, Traffic sign recognition'],\n",
       " ['ABS, Alarm system, Central door lock, Driver-side airbag, Electronic stability control, Fog lights, Isofix, Power steering, Side airbag, Traction control'],\n",
       " ['ABS, Central door lock, Driver-side airbag, Immobilizer, Isofix, Passenger-side airbag, Rear airbag, Side airbag'],\n",
       " ['ABS, Central door lock, Daytime running lights, Driver-side airbag, Electronic stability control, Emergency brake assistant, Emergency system, Head airbag, Immobilizer, Isofix, LED Daytime Running Lights, Passenger-side airbag, Power steering, Side airbag, Speed limit control system, Tire pressure monitoring system, Traction control'],\n",
       " ['ABS, Alarm system, Central door lock, Driver-side airbag, Immobilizer, Isofix, Power steering, Side airbag, Traction control'],\n",
       " ['ABS, Bi-Xenon headlights, Central door lock, Daytime running lights, Distance warning system, Driver drowsiness detection, Driver-side airbag, Electronic stability control, Emergency brake assistant, Immobilizer, Isofix, LED Daytime Running Lights, LED Headlights, Lane departure warning system, Passenger-side airbag, Power steering, Side airbag, Tire pressure monitoring system, Traction control, Traffic sign recognition, Xenon headlights'],\n",
       " ['ABS, Central door lock, Daytime running lights, Driver-side airbag, Electronic stability control, Fog lights, Immobilizer, Isofix, LED Daytime Running Lights, Passenger-side airbag, Power steering, Side airbag, Speed limit control system, Tire pressure monitoring system, Traction control'],\n",
       " ['ABS, Adaptive Cruise Control, Adaptive headlights, Bi-Xenon headlights, Central door lock, Daytime running lights, Distance warning system, Driver drowsiness detection, Driver-side airbag, Electronic stability control, Emergency brake assistant, Emergency system, Fog lights, Immobilizer, Isofix, LED Daytime Running Lights, LED Headlights, Lane departure warning system, Passenger-side airbag, Power steering, Side airbag, Tire pressure monitoring system, Traction control, Traffic sign recognition, Xenon headlights'],\n",
       " ['ABS, Central door lock, Central door lock with remote control, Daytime running lights, Driver-side airbag, Electronic stability control, Head airbag, Immobilizer, LED Daytime Running Lights, LED Headlights, Passenger-side airbag, Power steering, Side airbag, Tire pressure monitoring system, Traction control'],\n",
       " ['ABS, Driver-side airbag, Electronic stability control, Emergency brake assistant, Isofix, LED Daytime Running Lights, LED Headlights, Passenger-side airbag, Side airbag, Tire pressure monitoring system, Traction control'],\n",
       " ['ABS, Central door lock, Daytime running lights, Driver-side airbag, Electronic stability control, Fog lights, Isofix, Passenger-side airbag, Power steering, Side airbag, Traction control, Xenon headlights'],\n",
       " ['ABS, Adaptive Cruise Control, Central door lock, Daytime running lights, Distance warning system, Driver drowsiness detection, Driver-side airbag, Electronic stability control, Emergency brake assistant, Emergency system, Fog lights, Full-LED headlights, Head airbag, High beam assist, Immobilizer, Isofix, LED Daytime Running Lights, LED Headlights, Lane departure warning system, Passenger-side airbag, Power steering, Side airbag, Speed limit control system, Tire pressure monitoring system, Traction control, Traffic sign recognition'],\n",
       " ['ABS, Adaptive Cruise Control, Adaptive headlights, Alarm system, Blind spot monitor, Central door lock, Daytime running lights, Distance warning system, Driver drowsiness detection, Driver-side airbag, Electronic stability control, Emergency brake assistant, Emergency system, Fog lights, Glare-free high beam headlights, High beam assist, Immobilizer, Isofix, LED Daytime Running Lights, LED Headlights, Lane departure warning system, Passenger-side airbag, Power steering, Side airbag, Speed limit control system, Tire pressure monitoring system, Traction control, Traffic sign recognition'],\n",
       " ['ABS, Central door lock, Side airbag'],\n",
       " ['ABS, Central door lock, Driver-side airbag, Electronic stability control, Fog lights, Immobilizer, Isofix, LED Daytime Running Lights, LED Headlights, Passenger-side airbag, Power steering, Rear airbag, Side airbag, Speed limit control system, Tire pressure monitoring system, Traction control'],\n",
       " ['ABS, Central door lock, Driver-side airbag, Fog lights, Passenger-side airbag, Power steering, Side airbag'],\n",
       " ['ABS, Adaptive Cruise Control, Adaptive headlights, Blind spot monitor, Central door lock, Distance warning system, Driver drowsiness detection, Driver-side airbag, Electronic stability control, Emergency brake assistant, Emergency system, Fog lights, Full-LED headlights, Head airbag, High beam assist, Immobilizer, Isofix, LED Daytime Running Lights, LED Headlights, Lane departure warning system, Passenger-side airbag, Power steering, Rear airbag, Side airbag, Speed limit control system, Tire pressure monitoring system, Traction control, Traffic sign recognition'],\n",
       " ['ABS, Alarm system, Central door lock, Central door lock with remote control, Daytime running lights, Driver-side airbag, Electronic stability control, Emergency brake assistant, Head airbag, Immobilizer, Isofix, LED Daytime Running Lights, LED Headlights, Passenger-side airbag, Power steering, Side airbag, Tire pressure monitoring system, Traction control'],\n",
       " ['ABS, Central door lock, Central door lock with remote control, Daytime running lights, Driver-side airbag, Electronic stability control, Head airbag, Immobilizer, LED Daytime Running Lights, Passenger-side airbag, Power steering, Side airbag, Tire pressure monitoring system, Traction control'],\n",
       " ['ABS, Central door lock, Daytime running lights, Distance warning system, Driver-side airbag, Electronic stability control, Fog lights, Immobilizer, Isofix, LED Daytime Running Lights, Passenger-side airbag, Power steering, Side airbag, Tire pressure monitoring system, Traction control'],\n",
       " ['ABS, Adaptive Cruise Control, Adaptive headlights, Central door lock, Daytime running lights, Distance warning system, Driver drowsiness detection, Driver-side airbag, Electronic stability control, Emergency brake assistant, Emergency system, Full-LED headlights, Glare-free high beam headlights, Head airbag, Immobilizer, Isofix, LED Daytime Running Lights, LED Headlights, Lane departure warning system, Passenger-side airbag, Power steering, Side airbag, Speed limit control system, Tire pressure monitoring system, Traction control, Traffic sign recognition'],\n",
       " ['ABS, Alarm system, Central door lock, Central door lock with remote control, Driver-side airbag, Electronic stability control, Emergency brake assistant, Fog lights, Head airbag, Immobilizer, Passenger-side airbag, Side airbag, Traction control'],\n",
       " ['ABS, Central door lock, Driver-side airbag, Electronic stability control, Isofix, Passenger-side airbag, Power steering, Side airbag'],\n",
       " ['ABS, Adaptive Cruise Control, Adaptive headlights, Central door lock, Daytime running lights, Distance warning system, Driver drowsiness detection, Driver-side airbag, Electronic stability control, Emergency brake assistant, Emergency system, Fog lights, Glare-free high beam headlights, Head airbag, Immobilizer, Isofix, LED Daytime Running Lights, LED Headlights, Lane departure warning system, Passenger-side airbag, Power steering, Side airbag, Speed limit control system, Tire pressure monitoring system, Traction control, Traffic sign recognition'],\n",
       " ['ABS, Driver-side airbag, Fog lights, Immobilizer, Isofix, Power steering, Rear airbag, Side airbag, Traction control, Xenon headlights'],\n",
       " ['ABS, Adaptive Cruise Control, Blind spot monitor, Central door lock, Central door lock with remote control, Daytime running lights, Distance warning system, Driver-side airbag, Electronic stability control, Emergency brake assistant, Emergency system, Fog lights, Full-LED headlights, Head airbag, High beam assist, Immobilizer, Isofix, LED Daytime Running Lights, LED Headlights, Lane departure warning system, Passenger-side airbag, Power steering, Rear airbag, Side airbag, Tire pressure monitoring system, Traction control, Traffic sign recognition'],\n",
       " ['ABS, Alarm system, Central door lock, Driver-side airbag, Electronic stability control, Immobilizer, Isofix, Power steering, Side airbag, Traction control'],\n",
       " ['ABS, Driver-side airbag, Immobilizer'],\n",
       " ['Traction control'],\n",
       " ['ABS, Central door lock, Driver-side airbag, Fog lights, Immobilizer, Isofix, Passenger-side airbag, Power steering'],\n",
       " ['ABS, Central door lock with remote control, Driver-side airbag, Immobilizer, Passenger-side airbag, Power steering'],\n",
       " ['ABS, Central door lock, Daytime running lights, Driver-side airbag, Electronic stability control, Emergency brake assistant, Fog lights, Immobilizer, Isofix, LED Daytime Running Lights, Passenger-side airbag, Power steering, Side airbag, Tire pressure monitoring system, Traction control'],\n",
       " ['ABS, Central door lock, Central door lock with remote control, Daytime running lights, Driver-side airbag, Electronic stability control, Fog lights, Head airbag, Immobilizer, LED Daytime Running Lights, Passenger-side airbag, Power steering, Side airbag, Tire pressure monitoring system'],\n",
       " ['ABS, Adaptive headlights, Central door lock, Central door lock with remote control, Daytime running lights, Distance warning system, Driver-side airbag, Electronic stability control, Emergency brake assistant, Emergency system, Fog lights, Full-LED headlights, Head airbag, Immobilizer, Isofix, LED Daytime Running Lights, LED Headlights, Lane departure warning system, Passenger-side airbag, Power steering, Rear airbag, Side airbag, Speed limit control system, Tire pressure monitoring system, Traction control, Traffic sign recognition'],\n",
       " ['ABS, Alarm system, Central door lock, Daytime running lights, Distance warning system, Driver drowsiness detection, Driver-side airbag, Electronic stability control, Emergency brake assistant, Fog lights, Immobilizer, Isofix, LED Daytime Running Lights, Lane departure warning system, Passenger-side airbag, Power steering, Side airbag, Tire pressure monitoring system, Traction control'],\n",
       " ['ABS, Alarm system, Central door lock, Driver-side airbag, Fog lights, Power steering, Side airbag, Traction control'],\n",
       " ['ABS, Central door lock, Driver-side airbag, Fog lights, Immobilizer, Power steering'],\n",
       " ['ABS, Central door lock, Daytime running lights, Driver-side airbag, Electronic stability control, Immobilizer, Isofix, LED Daytime Running Lights, Passenger-side airbag, Power steering, Side airbag, Speed limit control system, Tire pressure monitoring system, Traction control'],\n",
       " ['ABS, Adaptive Cruise Control, Alarm system, Bi-Xenon headlights, Blind spot monitor, Central door lock, Daytime running lights, Distance warning system, Driver drowsiness detection, Driver-side airbag, Electronic stability control, Emergency brake assistant, Emergency system, Immobilizer, Isofix, LED Daytime Running Lights, LED Headlights, Lane departure warning system, Passenger-side airbag, Power steering, Side airbag, Tire pressure monitoring system, Traction control, Traffic sign recognition, Xenon headlights'],\n",
       " ['ABS, Fog lights, Isofix, Power steering, Side airbag, Traction control'],\n",
       " ['ABS, Central door lock, Daytime running lights, Driver-side airbag, Electronic stability control, Fog lights, Isofix, Passenger-side airbag, Power steering'],\n",
       " ['ABS, Alarm system, Central door lock, Driver-side airbag, Fog lights, Immobilizer, Passenger-side airbag, Power steering'],\n",
       " ['ABS, Central door lock, Daytime running lights, Driver-side airbag, Electronic stability control, Immobilizer, Isofix, LED Daytime Running Lights, Passenger-side airbag, Power steering, Speed limit control system, Tire pressure monitoring system, Traction control'],\n",
       " ['ABS, Central door lock, Driver-side airbag, Fog lights, Immobilizer, Passenger-side airbag, Power steering, Side airbag, Traction control'],\n",
       " ['ABS, Power steering'],\n",
       " ['ABS, Central door lock, Immobilizer, Power steering, Side airbag, Traction control, Xenon headlights'],\n",
       " ['ABS, Alarm system, Central door lock, Electronic stability control, Immobilizer, Power steering, Side airbag, Traction control, Xenon headlights'],\n",
       " ['ABS, Central door lock, Driver-side airbag, Fog lights, Isofix, Power steering, Rear airbag, Side airbag, Traction control'],\n",
       " ['ABS, Central door lock, Daytime running lights, Driver-side airbag, Electronic stability control, Fog lights, Immobilizer, Isofix, LED Daytime Running Lights, Passenger-side airbag, Power steering, Side airbag, Tire pressure monitoring system, Traction control'],\n",
       " ['ABS, Central door lock, Central door lock with remote control, Driver-side airbag, Electronic stability control, Fog lights, Head airbag, Immobilizer, Isofix, Passenger-side airbag, Power steering, Side airbag, Traction control'],\n",
       " ['ABS, Central door lock, Driver-side airbag, Immobilizer, Passenger-side airbag, Power steering, Side airbag'],\n",
       " ['ABS, Driver-side airbag, Passenger-side airbag, Power steering'],\n",
       " ['Fog lights, Isofix, Power steering'],\n",
       " ['ABS, Bi-Xenon headlights, Central door lock, Daytime running lights, Distance warning system, Driver-side airbag, Electronic stability control, Emergency brake assistant, Fog lights, Immobilizer, Isofix, LED Daytime Running Lights, LED Headlights, Passenger-side airbag, Power steering, Side airbag, Tire pressure monitoring system, Traction control, Xenon headlights'],\n",
       " ['ABS'],\n",
       " ['ABS, Central door lock, Daytime running lights, Driver-side airbag, Electronic stability control, Emergency brake assistant, Emergency system, Fog lights, Head airbag, Immobilizer, Isofix, LED Daytime Running Lights, Passenger-side airbag, Power steering, Side airbag, Speed limit control system, Tire pressure monitoring system, Traction control'],\n",
       " ['ABS, Adaptive Cruise Control, Adaptive headlights, Blind spot monitor, Central door lock, Daytime running lights, Driver drowsiness detection, Driver-side airbag, Electronic stability control, Emergency brake assistant, Emergency system, Fog lights, Glare-free high beam headlights, High beam assist, Immobilizer, Isofix, LED Daytime Running Lights, LED Headlights, Lane departure warning system, Passenger-side airbag, Power steering, Side airbag, Speed limit control system, Tire pressure monitoring system, Traction control, Traffic sign recognition'],\n",
       " ['ABS, Central door lock, Driver-side airbag, Electronic stability control, Side airbag, Traction control'],\n",
       " ['ABS, Central door lock, Driver-side airbag, Electronic stability control, Fog lights, Immobilizer, Passenger-side airbag, Power steering, Side airbag'],\n",
       " ['ABS, Central door lock, Electronic stability control, Isofix, Power steering'],\n",
       " ['ABS, Central door lock, Driver-side airbag, Fog lights, Isofix, Side airbag'],\n",
       " ['ABS, Central door lock, Power steering, Side airbag'],\n",
       " ['ABS, Central door lock, Daytime running lights, Driver-side airbag, Electronic stability control, Fog lights, Immobilizer, Isofix, Passenger-side airbag, Power steering, Side airbag, Speed limit control system, Tire pressure monitoring system, Traction control'],\n",
       " ['ABS, Alarm system, Central door lock, Central door lock with remote control, Driver-side airbag, Electronic stability control, Fog lights, Head airbag, Immobilizer, Passenger-side airbag, Power steering, Side airbag'],\n",
       " ['ABS, Central door lock, Electronic stability control, Fog lights, Isofix, Passenger-side airbag, Power steering, Side airbag'],\n",
       " ['ABS, Central door lock, Driver-side airbag, Electronic stability control, Immobilizer, Isofix, LED Daytime Running Lights, LED Headlights, Passenger-side airbag, Power steering, Side airbag, Tire pressure monitoring system'],\n",
       " ['ABS, Bi-Xenon headlights, Central door lock, Daytime running lights, Distance warning system, Driver drowsiness detection, Driver-side airbag, Electronic stability control, Emergency brake assistant, Emergency system, Immobilizer, Isofix, LED Daytime Running Lights, LED Headlights, Lane departure warning system, Passenger-side airbag, Power steering, Side airbag, Tire pressure monitoring system, Traction control, Traffic sign recognition, Xenon headlights'],\n",
       " ['Driver-side airbag'],\n",
       " ['ABS, Alarm system, Central door lock, Central door lock with remote control, Daytime running lights, Driver-side airbag, Electronic stability control, Fog lights, Head airbag, Immobilizer, LED Daytime Running Lights, Passenger-side airbag, Power steering, Side airbag, Tire pressure monitoring system, Traction control'],\n",
       " ['ABS, Adaptive Cruise Control, Bi-Xenon headlights, Blind spot monitor, Central door lock, Daytime running lights, Distance warning system, Driver drowsiness detection, Driver-side airbag, Electronic stability control, Emergency brake assistant, Fog lights, Immobilizer, Isofix, LED Daytime Running Lights, LED Headlights, Lane departure warning system, Passenger-side airbag, Power steering, Side airbag, Tire pressure monitoring system, Traction control, Traffic sign recognition, Xenon headlights'],\n",
       " ['ABS, Alarm system, Central door lock, Central door lock with remote control, Driver-side airbag, Fog lights, Head airbag, Immobilizer, Passenger-side airbag, Power steering, Side airbag'],\n",
       " ['ABS, Central door lock, Daytime running lights, Driver-side airbag, Electronic stability control, Isofix, Passenger-side airbag, Power steering, Side airbag, Traction control'],\n",
       " ['ABS, Central door lock, Central door lock with remote control, Driver-side airbag, Electronic stability control, Fog lights, Passenger-side airbag, Power steering, Side airbag'],\n",
       " ['ABS, Central door lock, Daytime running lights, Distance warning system, Driver-side airbag, Electronic stability control, Emergency brake assistant, Immobilizer, Isofix, LED Daytime Running Lights, Passenger-side airbag, Power steering, Side airbag, Tire pressure monitoring system, Traction control'],\n",
       " ['ABS, Central door lock, Central door lock with remote control, Driver-side airbag, Fog lights, Head airbag, Immobilizer, Passenger-side airbag, Power steering, Side airbag'],\n",
       " ['ABS, Central door lock, Daytime running lights, Driver-side airbag, Electronic stability control, Immobilizer, Isofix, Passenger-side airbag, Power steering, Side airbag, Traction control'],\n",
       " ['ABS, Central door lock, Central door lock with remote control, Daytime running lights, Distance warning system, Driver drowsiness detection, Driver-side airbag, Electronic stability control, Emergency brake assistant, Emergency system, Fog lights, Full-LED headlights, Head airbag, Immobilizer, Isofix, LED Daytime Running Lights, LED Headlights, Lane departure warning system, Passenger-side airbag, Power steering, Side airbag, Speed limit control system, Tire pressure monitoring system, Traction control'],\n",
       " ['ABS, Driver-side airbag, Electronic stability control, Emergency brake assistant, Immobilizer, Isofix, LED Daytime Running Lights, LED Headlights, Passenger-side airbag, Side airbag, Tire pressure monitoring system, Traction control'],\n",
       " ['ABS, Central door lock, Driver-side airbag, Electronic stability control, Isofix, Side airbag'],\n",
       " ['ABS, Central door lock, Driver-side airbag, Electronic stability control, Power steering, Side airbag'],\n",
       " ['ABS, Bi-Xenon headlights, Central door lock, Daytime running lights, Distance warning system, Driver drowsiness detection, Driver-side airbag, Electronic stability control, Emergency brake assistant, Fog lights, Immobilizer, Isofix, LED Daytime Running Lights, LED Headlights, Passenger-side airbag, Power steering, Side airbag, Tire pressure monitoring system, Traction control, Xenon headlights'],\n",
       " ['ABS, Alarm system, Central door lock, Electronic stability control, Fog lights, Isofix, Power steering, Side airbag, Traction control'],\n",
       " ['ABS, Central door lock, Driver-side airbag, Power steering, Side airbag, Traction control, Xenon headlights'],\n",
       " ['ABS, Adaptive Cruise Control, Adaptive headlights, Alarm system, Blind spot monitor, Central door lock, Daytime running lights, Distance warning system, Driver drowsiness detection, Driver-side airbag, Electronic stability control, Emergency brake assistant, Emergency system, Glare-free high beam headlights, High beam assist, Immobilizer, Isofix, LED Daytime Running Lights, LED Headlights, Lane departure warning system, Passenger-side airbag, Power steering, Side airbag, Speed limit control system, Tire pressure monitoring system, Traction control, Traffic sign recognition'],\n",
       " ['ABS, Adaptive Cruise Control, Adaptive headlights, Alarm system, Central door lock, Daytime running lights, Distance warning system, Driver drowsiness detection, Driver-side airbag, Electronic stability control, Emergency brake assistant, Emergency system, Full-LED headlights, Glare-free high beam headlights, Head airbag, Immobilizer, Isofix, LED Daytime Running Lights, LED Headlights, Lane departure warning system, Passenger-side airbag, Power steering, Side airbag, Speed limit control system, Tire pressure monitoring system, Traction control, Traffic sign recognition'],\n",
       " ['ABS, Adaptive Cruise Control, Central door lock, Daytime running lights, Distance warning system, Driver drowsiness detection, Driver-side airbag, Electronic stability control, Emergency brake assistant, Emergency system, Full-LED headlights, Head airbag, High beam assist, Immobilizer, Isofix, LED Daytime Running Lights, LED Headlights, Lane departure warning system, Passenger-side airbag, Power steering, Side airbag, Speed limit control system, Tire pressure monitoring system, Traction control, Traffic sign recognition'],\n",
       " ['ABS, Alarm system, Central door lock, Central door lock with remote control, Daytime running lights, Driver-side airbag, Electronic stability control, Fog lights, Head airbag, Immobilizer, LED Daytime Running Lights, Passenger-side airbag, Power steering, Side airbag, Tire pressure monitoring system'],\n",
       " ['ABS, Adaptive Cruise Control, Adaptive headlights, Alarm system, Bi-Xenon headlights, Blind spot monitor, Central door lock, Central door lock with remote control, Daytime running lights, Distance warning system, Driver drowsiness detection, Driver-side airbag, Electronic stability control, Emergency brake assistant, Emergency system, Fog lights, Full-LED headlights, Glare-free high beam headlights, Head airbag, High beam assist, Immobilizer, Isofix, LED Daytime Running Lights, LED Headlights, Lane departure warning system, Passenger-side airbag, Power steering, Rear airbag, Side airbag, Speed limit control system, Tire pressure monitoring system, Traction control, Traffic sign recognition, Xenon headlights'],\n",
       " ['ABS, Central door lock, Driver-side airbag, Fog lights, Immobilizer, Isofix, Passenger-side airbag, Rear airbag, Side airbag'],\n",
       " ['ABS, Central door lock, Central door lock with remote control, Daytime running lights, Driver-side airbag, Electronic stability control, Fog lights, Head airbag, Immobilizer, Isofix, Passenger-side airbag, Power steering, Side airbag, Tire pressure monitoring system, Traction control'],\n",
       " ['ABS, Central door lock, Driver-side airbag, Electronic stability control, Traction control'],\n",
       " ['ABS, Bi-Xenon headlights, Central door lock, Daytime running lights, Distance warning system, Driver-side airbag, Electronic stability control, Emergency brake assistant, Fog lights, Immobilizer, Isofix, LED Daytime Running Lights, LED Headlights, Lane departure warning system, Passenger-side airbag, Power steering, Side airbag, Tire pressure monitoring system, Traction control, Xenon headlights'],\n",
       " ['ABS, Central door lock, Central door lock with remote control, Driver-side airbag, Electronic stability control, Fog lights, Head airbag, Immobilizer, Isofix, Passenger-side airbag, Power steering, Side airbag'],\n",
       " ['ABS, Driver-side airbag, Electronic stability control, Emergency brake assistant, Immobilizer, Isofix, LED Daytime Running Lights, Passenger-side airbag, Side airbag, Tire pressure monitoring system, Traction control'],\n",
       " ['ABS, Central door lock, Central door lock with remote control, Driver-side airbag, Immobilizer, Passenger-side airbag, Power steering'],\n",
       " ['ABS, Central door lock, Central door lock with remote control, Daytime running lights, Driver-side airbag, Electronic stability control, Fog lights, Head airbag, Immobilizer, Isofix, LED Daytime Running Lights, Passenger-side airbag, Power steering, Side airbag, Speed limit control system, Tire pressure monitoring system, Traction control'],\n",
       " ['ABS, Adaptive Cruise Control, Blind spot monitor, Central door lock, Daytime running lights, Distance warning system, Driver drowsiness detection, Driver-side airbag, Electronic stability control, Emergency brake assistant, Emergency system, Fog lights, Glare-free high beam headlights, High beam assist, Immobilizer, Isofix, LED Daytime Running Lights, LED Headlights, Lane departure warning system, Passenger-side airbag, Power steering, Side airbag, Speed limit control system, Tire pressure monitoring system, Traction control, Traffic sign recognition'],\n",
       " ['ABS, Central door lock, Daytime running lights, Driver-side airbag, Electronic stability control, Fog lights, Head airbag, Immobilizer, Isofix, Passenger-side airbag, Power steering, Side airbag, Traction control'],\n",
       " ['ABS, Central door lock, Central door lock with remote control, Driver-side airbag, Electronic stability control, Fog lights, Head airbag, Immobilizer, Isofix, Passenger-side airbag, Power steering, Side airbag, Tire pressure monitoring system, Traction control'],\n",
       " ['ABS, Central door lock, Central door lock with remote control, Driver-side airbag, Immobilizer, Passenger-side airbag, Power steering, Side airbag'],\n",
       " ['ABS, Central door lock, Central door lock with remote control, Driver-side airbag, Fog lights, Passenger-side airbag, Power steering'],\n",
       " ['ABS, Alarm system, Central door lock, Central door lock with remote control, Driver-side airbag, Head airbag, Immobilizer, Passenger-side airbag, Power steering, Side airbag'],\n",
       " ['ABS, Central door lock, Driver-side airbag, Fog lights, Passenger-side airbag, Power steering'],\n",
       " ['ABS, Central door lock, Central door lock with remote control, Driver-side airbag, Electronic stability control, Fog lights, Immobilizer, Isofix, Passenger-side airbag, Power steering, Side airbag, Traction control'],\n",
       " ['ABS, Central door lock, Driver-side airbag, Fog lights, Power steering'],\n",
       " ['Central door lock, Electronic stability control, Fog lights, Isofix, Power steering, Side airbag'],\n",
       " ['ABS, Central door lock, Central door lock with remote control, Distance warning system, Driver-side airbag, Electronic stability control, Emergency brake assistant, Emergency system, Immobilizer, Isofix, LED Daytime Running Lights, LED Headlights, Lane departure warning system, Passenger-side airbag, Power steering, Side airbag, Tire pressure monitoring system, Traction control, Traffic sign recognition'],\n",
       " ['ABS, Adaptive headlights, Bi-Xenon headlights, Central door lock, Daytime running lights, Distance warning system, Driver drowsiness detection, Driver-side airbag, Electronic stability control, Emergency brake assistant, Fog lights, Immobilizer, Isofix, LED Daytime Running Lights, LED Headlights, Lane departure warning system, Passenger-side airbag, Power steering, Side airbag, Tire pressure monitoring system, Traction control, Traffic sign recognition, Xenon headlights'],\n",
       " ['ABS, Central door lock, Driver-side airbag, Electronic stability control, Fog lights, Immobilizer, Isofix, Passenger-side airbag, Power steering, Side airbag, Tire pressure monitoring system, Traction control'],\n",
       " ['ABS, Driver-side airbag, Isofix, Passenger-side airbag, Power steering, Side airbag'],\n",
       " ['ABS, Driver-side airbag, Fog lights, Immobilizer, Isofix, Power steering'],\n",
       " ['ABS, Central door lock, Driver-side airbag, Electronic stability control, Isofix, Power steering, Side airbag, Traction control'],\n",
       " ['ABS, Alarm system, Central door lock, Central door lock with remote control, Driver-side airbag, Electronic stability control, Fog lights, Head airbag, Immobilizer, Passenger-side airbag, Power steering, Side airbag, Traction control'],\n",
       " ['ABS, Central door lock, Central door lock with remote control, Driver-side airbag, Electronic stability control, Fog lights, Immobilizer, Isofix, Passenger-side airbag, Power steering, Side airbag'],\n",
       " ['Central door lock with remote control'],\n",
       " ['Central door lock, Fog lights, Isofix, Traction control'],\n",
       " ['ABS, Adaptive Cruise Control, Adaptive headlights, Blind spot monitor, Central door lock, Central door lock with remote control, Daytime running lights, Distance warning system, Driver drowsiness detection, Driver-side airbag, Electronic stability control, Emergency brake assistant, Emergency system, Full-LED headlights, Head airbag, High beam assist, Immobilizer, Isofix, LED Daytime Running Lights, LED Headlights, Lane departure warning system, Passenger-side airbag, Power steering, Rear airbag, Side airbag, Speed limit control system, Tire pressure monitoring system, Traction control, Traffic sign recognition'],\n",
       " ['ABS, Central door lock, Driver-side airbag, Electronic stability control, Fog lights, Passenger-side airbag, Power steering, Side airbag, Traction control'],\n",
       " ['ABS, Central door lock, Daytime running lights, Driver-side airbag, Electronic stability control, Emergency brake assistant, Fog lights, Head airbag, Immobilizer, Isofix, LED Daytime Running Lights, Passenger-side airbag, Power steering, Side airbag, Speed limit control system, Tire pressure monitoring system, Traction control'],\n",
       " ['Alarm system, Central door lock, Electronic stability control, Fog lights, Isofix, Power steering, Side airbag, Traction control'],\n",
       " ['ABS, Driver-side airbag, Power steering, Side airbag'],\n",
       " ['ABS, Adaptive Cruise Control, Alarm system, Central door lock, Daytime running lights, Distance warning system, Driver drowsiness detection, Driver-side airbag, Electronic stability control, Emergency brake assistant, Emergency system, Full-LED headlights, Head airbag, High beam assist, Immobilizer, Isofix, LED Daytime Running Lights, LED Headlights, Lane departure warning system, Passenger-side airbag, Power steering, Side airbag, Speed limit control system, Tire pressure monitoring system, Traction control, Traffic sign recognition'],\n",
       " ['ABS, Central door lock, Fog lights, Isofix, Power steering'],\n",
       " ['ABS, Central door lock, Daytime running lights, Driver-side airbag, Electronic stability control, Immobilizer, Isofix, Power steering, Side airbag, Tire pressure monitoring system, Traction control'],\n",
       " ['ABS, Central door lock, Distance warning system, Driver-side airbag, Electronic stability control, Emergency system, Fog lights, Immobilizer, Isofix, LED Daytime Running Lights, LED Headlights, Passenger-side airbag, Power steering, Rear airbag, Side airbag, Speed limit control system, Tire pressure monitoring system, Traction control'],\n",
       " ['ABS, Adaptive Cruise Control, Adaptive headlights, Alarm system, Blind spot monitor, Central door lock, Central door lock with remote control, Daytime running lights, Distance warning system, Driver drowsiness detection, Driver-side airbag, Electronic stability control, Emergency brake assistant, Emergency system, Fog lights, Full-LED headlights, Glare-free high beam headlights, Head airbag, High beam assist, Immobilizer, Isofix, LED Daytime Running Lights, LED Headlights, Lane departure warning system, Passenger-side airbag, Power steering, Rear airbag, Side airbag, Speed limit control system, Tire pressure monitoring system, Traction control, Traffic sign recognition'],\n",
       " ['ABS, Central door lock, Daytime running lights, Driver-side airbag, Electronic stability control, Emergency brake assistant, Emergency system, Fog lights, Immobilizer, Isofix, LED Daytime Running Lights, Passenger-side airbag, Power steering, Side airbag, Speed limit control system, Tire pressure monitoring system, Traction control'],\n",
       " ['ABS, Adaptive Cruise Control, Adaptive headlights, Blind spot monitor, Central door lock, Daytime running lights, Distance warning system, Driver drowsiness detection, Driver-side airbag, Electronic stability control, Emergency brake assistant, Emergency system, Glare-free high beam headlights, High beam assist, Immobilizer, Isofix, LED Daytime Running Lights, LED Headlights, Lane departure warning system, Passenger-side airbag, Power steering, Side airbag, Speed limit control system, Tire pressure monitoring system, Traction control, Traffic sign recognition'],\n",
       " ['ABS, Central door lock, Driver-side airbag, Electronic stability control, Immobilizer, Passenger-side airbag, Power steering, Side airbag, Traction control'],\n",
       " ['ABS, Central door lock, Fog lights, Power steering, Side airbag'],\n",
       " ['ABS, Central door lock, Daytime running lights, Driver-side airbag, Electronic stability control, Fog lights, Head airbag, Immobilizer, Isofix, LED Daytime Running Lights, Passenger-side airbag, Power steering, Side airbag, Speed limit control system, Tire pressure monitoring system, Traction control'],\n",
       " ['ABS, Central door lock, Driver-side airbag, Electronic stability control, Fog lights, Immobilizer, Isofix, Passenger-side airbag, Power steering, Side airbag, Traction control, Xenon headlights'],\n",
       " ['ABS, Central door lock, Driver-side airbag, Immobilizer, Isofix, Passenger-side airbag, Power steering, Side airbag'],\n",
       " ['ABS, Central door lock, Central door lock with remote control, Driver-side airbag, Fog lights, Immobilizer, Passenger-side airbag, Power steering'],\n",
       " ['ABS, Driver-side airbag, Fog lights, Isofix, Passenger-side airbag, Power steering, Side airbag'],\n",
       " ['ABS, Electronic stability control, Power steering, Side airbag, Traction control'],\n",
       " ['ABS, Isofix, Power steering, Side airbag'],\n",
       " ['ABS, Adaptive Cruise Control, Central door lock, Daytime running lights, Distance warning system, Driver-side airbag, Electronic stability control, Emergency brake assistant, Emergency system, Fog lights, Full-LED headlights, Head airbag, High beam assist, Immobilizer, Isofix, LED Daytime Running Lights, LED Headlights, Lane departure warning system, Passenger-side airbag, Power steering, Side airbag, Speed limit control system, Tire pressure monitoring system, Traction control, Traffic sign recognition'],\n",
       " ['ABS, Central door lock, Driver-side airbag, Fog lights, Immobilizer, Isofix, Passenger-side airbag, Power steering, Rear airbag, Side airbag'],\n",
       " ['ABS, Alarm system, Central door lock, Daytime running lights, Driver-side airbag, Electronic stability control, Fog lights, Immobilizer, Isofix, Passenger-side airbag, Power steering, Side airbag, Traction control'],\n",
       " ['ABS, Central door lock, Daytime running lights, Driver-side airbag, Electronic stability control, Immobilizer, Isofix, Passenger-side airbag, Power steering, Side airbag'],\n",
       " ['Adaptive Cruise Control, Adaptive headlights, Bi-Xenon headlights, Blind spot monitor, Central door lock, Daytime running lights, Distance warning system, Driver drowsiness detection, Driver-side airbag, Electronic stability control, Emergency brake assistant, Emergency system, Immobilizer, Isofix, LED Daytime Running Lights, LED Headlights, Lane departure warning system, Passenger-side airbag, Power steering, Side airbag, Tire pressure monitoring system, Traction control, Xenon headlights'],\n",
       " ['ABS, Central door lock, Central door lock with remote control, Daytime running lights, Driver-side airbag, Electronic stability control, Fog lights, Head airbag, Immobilizer, LED Daytime Running Lights, Passenger-side airbag, Power steering, Side airbag, Tire pressure monitoring system, Traction control'],\n",
       " ['ABS, Bi-Xenon headlights, Central door lock, Daytime running lights, Distance warning system, Driver-side airbag, Electronic stability control, Emergency brake assistant, Emergency system, Fog lights, Immobilizer, Isofix, LED Daytime Running Lights, LED Headlights, Lane departure warning system, Passenger-side airbag, Power steering, Side airbag, Tire pressure monitoring system, Traction control, Xenon headlights'],\n",
       " ['ABS, Alarm system, Central door lock, Central door lock with remote control, Driver-side airbag, Electronic stability control, Fog lights, Head airbag, Immobilizer, Isofix, Passenger-side airbag, Power steering, Side airbag, Traction control'],\n",
       " ['ABS, Alarm system, Central door lock, Central door lock with remote control, Daytime running lights, Driver-side airbag, Electronic stability control, Fog lights, Head airbag, Immobilizer, Isofix, LED Daytime Running Lights, Passenger-side airbag, Power steering, Side airbag, Tire pressure monitoring system, Traction control'],\n",
       " ['ABS, Central door lock, Driver-side airbag, Electronic stability control, Fog lights, Isofix, Side airbag'],\n",
       " ['ABS, Adaptive Cruise Control, Bi-Xenon headlights, Central door lock, Daytime running lights, Distance warning system, Driver drowsiness detection, Driver-side airbag, Electronic stability control, Emergency brake assistant, Emergency system, Fog lights, Immobilizer, Isofix, LED Daytime Running Lights, LED Headlights, Lane departure warning system, Passenger-side airbag, Power steering, Side airbag, Tire pressure monitoring system, Traction control, Traffic sign recognition, Xenon headlights'],\n",
       " ['ABS, Alarm system, Central door lock, Central door lock with remote control, Driver-side airbag, Fog lights, Immobilizer, Passenger-side airbag, Power steering'],\n",
       " ['ABS, Central door lock with remote control, Driver-side airbag, Electronic stability control, Emergency brake assistant, Fog lights, Immobilizer, Isofix, LED Daytime Running Lights, Passenger-side airbag, Power steering, Side airbag, Traction control'],\n",
       " ['ABS, Central door lock, Electronic stability control, Fog lights, Isofix, Power steering'],\n",
       " ['ABS, Bi-Xenon headlights, Central door lock, Daytime running lights, Distance warning system, Driver drowsiness detection, Driver-side airbag, Electronic stability control, Emergency brake assistant, Emergency system, Fog lights, Immobilizer, Isofix, LED Daytime Running Lights, LED Headlights, Lane departure warning system, Passenger-side airbag, Power steering, Side airbag, Tire pressure monitoring system, Traction control, Xenon headlights'],\n",
       " ['ABS, Central door lock, Driver-side airbag, Fog lights, Immobilizer, Isofix, Power steering, Side airbag'],\n",
       " ['ABS, Central door lock, Driver-side airbag, Fog lights, Isofix, Power steering, Side airbag'],\n",
       " ['ABS, Central door lock, Distance warning system, Driver-side airbag, Electronic stability control, Emergency system, Immobilizer, Isofix, LED Daytime Running Lights, LED Headlights, Passenger-side airbag, Power steering, Rear airbag, Side airbag, Speed limit control system, Tire pressure monitoring system, Traction control'],\n",
       " ['ABS, Adaptive Cruise Control, Adaptive headlights, Bi-Xenon headlights, Central door lock, Daytime running lights, Distance warning system, Driver drowsiness detection, Driver-side airbag, Electronic stability control, Emergency brake assistant, Fog lights, Immobilizer, Isofix, LED Daytime Running Lights, LED Headlights, Lane departure warning system, Passenger-side airbag, Power steering, Side airbag, Tire pressure monitoring system, Traction control, Traffic sign recognition, Xenon headlights'],\n",
       " ['ABS, Central door lock, Driver-side airbag, Electronic stability control, Head airbag, Passenger-side airbag, Power steering, Side airbag, Traction control'],\n",
       " ['ABS, Central door lock, Driver-side airbag, Electronic stability control, Emergency brake assistant, Fog lights, Immobilizer, Isofix, Passenger-side airbag, Power steering, Side airbag, Traction control'],\n",
       " ['ABS, Central door lock, Electronic stability control, Fog lights, Immobilizer, Isofix, Passenger-side airbag, Power steering, Side airbag'],\n",
       " ['ABS, Adaptive Cruise Control, Adaptive headlights, Alarm system, Blind spot monitor, Central door lock, Central door lock with remote control, Daytime running lights, Distance warning system, Driver drowsiness detection, Driver-side airbag, Electronic stability control, Emergency brake assistant, Emergency system, Fog lights, Full-LED headlights, Head airbag, High beam assist, Immobilizer, Isofix, LED Daytime Running Lights, LED Headlights, Lane departure warning system, Passenger-side airbag, Power steering, Rear airbag, Side airbag, Speed limit control system, Tire pressure monitoring system, Traction control, Traffic sign recognition'],\n",
       " ['ABS, Central door lock, Central door lock with remote control, Driver-side airbag, Electronic stability control, Fog lights, Immobilizer, Passenger-side airbag, Power steering, Side airbag'],\n",
       " ['ABS, Central door lock, Driver-side airbag, Power steering'],\n",
       " ['ABS, Adaptive Cruise Control, Adaptive headlights, Bi-Xenon headlights, Central door lock, Daytime running lights, Distance warning system, Driver drowsiness detection, Driver-side airbag, Electronic stability control, Emergency brake assistant, Fog lights, Immobilizer, Isofix, LED Daytime Running Lights, LED Headlights, Lane departure warning system, Passenger-side airbag, Power steering, Side airbag, Tire pressure monitoring system, Traffic sign recognition, Xenon headlights'],\n",
       " ['ABS, Central door lock, Daytime running lights, Driver-side airbag, Electronic stability control, Fog lights, Immobilizer, Isofix, Passenger-side airbag, Power steering, Side airbag, Speed limit control system, Traction control'],\n",
       " ['ABS, Central door lock with remote control, Driver-side airbag, Fog lights, Immobilizer, Passenger-side airbag, Power steering'],\n",
       " ['ABS, Adaptive Cruise Control, Central door lock, Driver-side airbag, Fog lights, Isofix, Power steering, Side airbag, Traction control'],\n",
       " ['ABS, Central door lock, Driver-side airbag, Electronic stability control, Head airbag, Immobilizer, Isofix, Passenger-side airbag, Power steering, Side airbag, Traction control'],\n",
       " ['ABS, Central door lock, Central door lock with remote control, Driver-side airbag, Electronic stability control, Emergency brake assistant, Fog lights, Immobilizer, Isofix, LED Daytime Running Lights, LED Headlights, Passenger-side airbag, Power steering, Side airbag, Tire pressure monitoring system, Traction control, Traffic sign recognition'],\n",
       " ['ABS, Central door lock, Driver-side airbag, Fog lights, Immobilizer, Side airbag, Traction control'],\n",
       " ['ABS, Alarm system, Central door lock, Central door lock with remote control, Driver-side airbag, Fog lights, Immobilizer'],\n",
       " ['ABS, Bi-Xenon headlights, Central door lock, Daytime running lights, Distance warning system, Driver drowsiness detection, Driver-side airbag, Electronic stability control, Emergency brake assistant, Fog lights, Immobilizer, Isofix, LED Daytime Running Lights, LED Headlights, Lane departure warning system, Passenger-side airbag, Power steering, Side airbag, Tire pressure monitoring system, Traction control, Traffic sign recognition, Xenon headlights'],\n",
       " ['ABS, Central door lock, Daytime running lights, Driver-side airbag, Electronic stability control, Immobilizer, Isofix, LED Daytime Running Lights, Passenger-side airbag, Power steering, Speed limit control system, Traction control'],\n",
       " ['ABS, Alarm system, Central door lock, Driver-side airbag, Electronic stability control, Fog lights, Immobilizer, Isofix, Passenger-side airbag, Power steering, Side airbag, Traction control'],\n",
       " ['Fog lights, Power steering'],\n",
       " ['ABS, Central door lock, Daytime running lights, Emergency brake assistant, Fog lights, Isofix, Passenger-side airbag, Speed limit control system, Tire pressure monitoring system, Traction control'],\n",
       " ['Emergency brake assistant'],\n",
       " ['ABS, Alarm system, Central door lock, Central door lock with remote control, Driver-side airbag, Electronic stability control, Emergency brake assistant, Head airbag, Immobilizer, Passenger-side airbag, Power steering, Side airbag, Traction control'],\n",
       " ['ABS, Central door lock with remote control, Driver-side airbag, Fog lights, Immobilizer, Passenger-side airbag, Power steering, Side airbag'],\n",
       " ['ABS, Alarm system, Central door lock, Central door lock with remote control, Driver-side airbag, Fog lights, Immobilizer, Passenger-side airbag'],\n",
       " ['ABS, Central door lock, Central door lock with remote control, Daytime running lights, Driver-side airbag, Electronic stability control, Fog lights, Immobilizer, Isofix, LED Daytime Running Lights, Passenger-side airbag, Power steering, Side airbag, Speed limit control system, Tire pressure monitoring system, Traction control'],\n",
       " ['ABS, Alarm system, Central door lock, Central door lock with remote control, Daytime running lights, Driver-side airbag, Electronic stability control, Emergency brake assistant, Head airbag, Immobilizer, LED Daytime Running Lights, Passenger-side airbag, Power steering, Side airbag, Tire pressure monitoring system, Traction control'],\n",
       " ['ABS, Alarm system, Central door lock, Central door lock with remote control, Daytime running lights, Driver-side airbag, Electronic stability control, Emergency brake assistant, Fog lights, Head airbag, Immobilizer, Isofix, LED Daytime Running Lights, Passenger-side airbag, Power steering, Side airbag, Tire pressure monitoring system, Traction control'],\n",
       " ['ABS, Adaptive headlights, Alarm system, Central door lock, Central door lock with remote control, Daytime running lights, Driver drowsiness detection, Driver-side airbag, Electronic stability control, Emergency brake assistant, Full-LED headlights, High beam assist, Isofix, LED Daytime Running Lights, Lane departure warning system, Passenger-side airbag, Power steering, Tire pressure monitoring system, Traffic sign recognition'],\n",
       " ['ABS, Central door lock, Isofix, Power steering, Side airbag, Traction control'],\n",
       " ['ABS, Alarm system, Central door lock, Central door lock with remote control, Daytime running lights, Driver-side airbag, Electronic stability control, Fog lights, Head airbag, Immobilizer, LED Daytime Running Lights, Passenger-side airbag, Power steering, Side airbag'],\n",
       " ['ABS, Adaptive Cruise Control, Blind spot monitor, Central door lock, Central door lock with remote control, Daytime running lights, Distance warning system, Driver drowsiness detection, Driver-side airbag, Electronic stability control, Emergency brake assistant, Emergency system, Fog lights, Full-LED headlights, Head airbag, High beam assist, Immobilizer, Isofix, LED Daytime Running Lights, LED Headlights, Lane departure warning system, Passenger-side airbag, Power steering, Rear airbag, Side airbag, Speed limit control system, Tire pressure monitoring system, Traction control, Traffic sign recognition'],\n",
       " ['ABS, Central door lock, Central door lock with remote control, Driver-side airbag, Electronic stability control, Fog lights, Head airbag, Immobilizer, Passenger-side airbag, Power steering, Side airbag, Traction control'],\n",
       " ['ABS, Central door lock, Fog lights, Passenger-side airbag, Power steering, Side airbag'],\n",
       " ['ABS, Central door lock, Central door lock with remote control, Daytime running lights, Driver-side airbag, Electronic stability control, Fog lights, Head airbag, Immobilizer, Isofix, LED Daytime Running Lights, Passenger-side airbag, Power steering, Side airbag, Tire pressure monitoring system, Traction control'],\n",
       " ['ABS, Blind spot monitor, Central door lock, Central door lock with remote control, Daytime running lights, Driver drowsiness detection, Electronic stability control, Emergency brake assistant, Fog lights, Full-LED headlights, Head airbag, High beam assist, Immobilizer, Isofix, LED Daytime Running Lights, LED Headlights, Lane departure warning system, Passenger-side airbag, Power steering, Side airbag, Speed limit control system, Tire pressure monitoring system, Traffic sign recognition'],\n",
       " ['ABS, Adaptive Cruise Control, Adaptive headlights, Alarm system, Bi-Xenon headlights, Blind spot monitor, Central door lock, Daytime running lights, Distance warning system, Driver drowsiness detection, Driver-side airbag, Electronic stability control, Emergency brake assistant, Emergency system, Immobilizer, Isofix, LED Daytime Running Lights, LED Headlights, Lane departure warning system, Passenger-side airbag, Power steering, Side airbag, Tire pressure monitoring system, Traction control, Traffic sign recognition, Xenon headlights'],\n",
       " ['ABS, Alarm system, Central door lock, Central door lock with remote control, Daytime running lights, Driver-side airbag, Electronic stability control, Emergency brake assistant, Head airbag, Immobilizer, LED Daytime Running Lights, Passenger-side airbag, Power steering, Side airbag, Traction control'],\n",
       " ['ABS, Central door lock with remote control, Driver-side airbag, Electronic stability control, Isofix, LED Daytime Running Lights, Passenger-side airbag, Power steering, Rear airbag'],\n",
       " ['ABS, Central door lock with remote control, Driver-side airbag, Passenger-side airbag, Power steering'],\n",
       " ['ABS, Central door lock with remote control, Driver-side airbag, Electronic stability control, Fog lights, Head airbag, Immobilizer, Isofix, Passenger-side airbag, Power steering, Side airbag'],\n",
       " ['ABS, Alarm system, Central door lock, Central door lock with remote control, Driver-side airbag, Electronic stability control, Fog lights, Immobilizer, Passenger-side airbag, Power steering, Side airbag'],\n",
       " ['ABS, Driver-side airbag, Fog lights, Immobilizer, Isofix, Power steering, Side airbag'],\n",
       " ['ABS, Alarm system, Central door lock, Central door lock with remote control, Daytime running lights, Driver-side airbag, Electronic stability control, Head airbag, Immobilizer, LED Daytime Running Lights, Passenger-side airbag, Power steering, Side airbag, Tire pressure monitoring system'],\n",
       " ['Central door lock, Fog lights'],\n",
       " ['ABS, Alarm system, Central door lock, Central door lock with remote control, Driver-side airbag, Immobilizer, Passenger-side airbag, Power steering, Side airbag'],\n",
       " ['ABS, Central door lock with remote control, Driver-side airbag, Immobilizer, Passenger-side airbag, Power steering, Side airbag'],\n",
       " ['ABS, Adaptive Cruise Control, Adaptive headlights, Central door lock, Daytime running lights, Distance warning system, Driver drowsiness detection, Driver-side airbag, Electronic stability control, Emergency brake assistant, Fog lights, Glare-free high beam headlights, Head airbag, Immobilizer, Isofix, LED Daytime Running Lights, LED Headlights, Lane departure warning system, Passenger-side airbag, Power steering, Side airbag, Speed limit control system, Tire pressure monitoring system, Traction control, Traffic sign recognition'],\n",
       " ['ABS, Central door lock, Driver-side airbag, Electronic stability control, Passenger-side airbag, Power steering, Side airbag, Traction control'],\n",
       " ['Central door lock, Fog lights, Isofix, Power steering'],\n",
       " ['ABS, Adaptive Cruise Control, Adaptive headlights, Central door lock, Central door lock with remote control, Daytime running lights, Driver-side airbag, Electronic stability control, Emergency system, Head airbag, Immobilizer, Isofix, LED Daytime Running Lights, LED Headlights, Lane departure warning system, Passenger-side airbag, Power steering, Side airbag, Tire pressure monitoring system, Traction control, Traffic sign recognition'],\n",
       " ['ABS, Central door lock, Driver-side airbag, Electronic stability control, Emergency brake assistant, Immobilizer, Isofix, LED Daytime Running Lights, Passenger-side airbag, Power steering, Side airbag, Tire pressure monitoring system, Traction control'],\n",
       " ['ABS, Central door lock, Driver-side airbag, Fog lights, Power steering, Side airbag, Traction control'],\n",
       " ['ABS, Bi-Xenon headlights, Central door lock, Daytime running lights, Distance warning system, Driver drowsiness detection, Driver-side airbag, Electronic stability control, Emergency brake assistant, Emergency system, Fog lights, Immobilizer, Isofix, LED Daytime Running Lights, LED Headlights, Lane departure warning system, Passenger-side airbag, Power steering, Side airbag, Tire pressure monitoring system, Traction control, Traffic sign recognition, Xenon headlights'],\n",
       " ['ABS, Central door lock, Central door lock with remote control, Driver-side airbag, Electronic stability control, Fog lights, Head airbag, Immobilizer, Passenger-side airbag, Power steering, Side airbag'],\n",
       " ['ABS, Central door lock, Central door lock with remote control, Driver-side airbag, Fog lights, Passenger-side airbag, Power steering, Side airbag'],\n",
       " ['ABS, Adaptive Cruise Control, Bi-Xenon headlights, Central door lock, Daytime running lights, Distance warning system, Driver-side airbag, Electronic stability control, Emergency brake assistant, Immobilizer, Isofix, LED Daytime Running Lights, LED Headlights, Lane departure warning system, Passenger-side airbag, Power steering, Side airbag, Tire pressure monitoring system, Traction control, Traffic sign recognition, Xenon headlights'],\n",
       " ['ABS, Adaptive Cruise Control, Bi-Xenon headlights, Blind spot monitor, Central door lock, Daytime running lights, Distance warning system, Driver-side airbag, Electronic stability control, Emergency brake assistant, Emergency system, Fog lights, Immobilizer, Isofix, LED Daytime Running Lights, LED Headlights, Lane departure warning system, Passenger-side airbag, Power steering, Side airbag, Tire pressure monitoring system, Traction control, Traffic sign recognition, Xenon headlights'],\n",
       " ['ABS, Central door lock, Driver-side airbag, Immobilizer, Isofix, Passenger-side airbag, Power steering'],\n",
       " ['ABS, Central door lock, Driver-side airbag, Electronic stability control, Fog lights, Power steering, Rear airbag, Side airbag'],\n",
       " ['ABS, Adaptive Cruise Control, Central door lock, Daytime running lights, Distance warning system, Driver drowsiness detection, Driver-side airbag, Electronic stability control, Emergency brake assistant, Emergency system, Fog lights, Full-LED headlights, Glare-free high beam headlights, Head airbag, Immobilizer, Isofix, LED Daytime Running Lights, LED Headlights, Lane departure warning system, Passenger-side airbag, Power steering, Side airbag, Speed limit control system, Tire pressure monitoring system, Traction control, Traffic sign recognition'],\n",
       " ['ABS, Central door lock with remote control, Driver-side airbag, Fog lights, Passenger-side airbag, Power steering'],\n",
       " ['ABS, Central door lock, Daytime running lights, Driver-side airbag, Electronic stability control, Fog lights, Head airbag, Immobilizer, LED Daytime Running Lights, Passenger-side airbag, Power steering, Side airbag, Tire pressure monitoring system'],\n",
       " ['Driver-side airbag, Passenger-side airbag'],\n",
       " ['ABS, Adaptive headlights, Bi-Xenon headlights, Blind spot monitor, Central door lock, Daytime running lights, Distance warning system, Driver drowsiness detection, Driver-side airbag, Electronic stability control, Emergency brake assistant, Emergency system, Fog lights, Immobilizer, Isofix, LED Daytime Running Lights, LED Headlights, Lane departure warning system, Passenger-side airbag, Power steering, Side airbag, Tire pressure monitoring system, Traction control, Traffic sign recognition, Xenon headlights'],\n",
       " ['ABS, Adaptive Cruise Control, Blind spot monitor, Central door lock, Daytime running lights, Distance warning system, Driver drowsiness detection, Driver-side airbag, Electronic stability control, Emergency brake assistant, Emergency system, Fog lights, High beam assist, Immobilizer, Isofix, LED Daytime Running Lights, LED Headlights, Lane departure warning system, Passenger-side airbag, Power steering, Side airbag, Speed limit control system, Tire pressure monitoring system, Traction control, Traffic sign recognition'],\n",
       " ['ABS, Central door lock, Driver-side airbag, Fog lights, Immobilizer, Power steering, Side airbag'],\n",
       " ['ABS, Driver-side airbag, Emergency brake assistant, Immobilizer, Passenger-side airbag, Power steering, Side airbag, Tire pressure monitoring system, Traction control'],\n",
       " ['ABS, Daytime running lights, Driver-side airbag, Fog lights, Isofix, Passenger-side airbag, Power steering, Side airbag'],\n",
       " ['ABS, Central door lock with remote control, Driver-side airbag, Fog lights, Immobilizer, Isofix, Passenger-side airbag, Power steering, Side airbag'],\n",
       " ['Adaptive Cruise Control, Central door lock, Electronic stability control, Fog lights, Isofix, Power steering, Side airbag'],\n",
       " ['ABS, Central door lock, Daytime running lights, Distance warning system, Driver drowsiness detection, Driver-side airbag, Electronic stability control, Emergency brake assistant, Emergency system, High beam assist, Immobilizer, Isofix, LED Daytime Running Lights, LED Headlights, Lane departure warning system, Passenger-side airbag, Power steering, Side airbag, Speed limit control system, Tire pressure monitoring system, Traction control, Traffic sign recognition'],\n",
       " ['ABS, Central door lock, Driver-side airbag, Electronic stability control, Fog lights, Immobilizer, Isofix, Passenger-side airbag, Power steering, Side airbag, Xenon headlights'],\n",
       " ['ABS, Central door lock, Fog lights, Isofix, Passenger-side airbag, Side airbag, Traction control'],\n",
       " ['ABS, Central door lock, Daytime running lights, Distance warning system, Driver drowsiness detection, Driver-side airbag, Electronic stability control, Emergency brake assistant, Fog lights, Immobilizer, Isofix, LED Daytime Running Lights, Passenger-side airbag, Power steering, Side airbag, Tire pressure monitoring system, Traction control'],\n",
       " ['ABS, Central door lock, Distance warning system, Driver-side airbag, Electronic stability control, Fog lights, Immobilizer, Isofix, Passenger-side airbag, Power steering, Side airbag, Tire pressure monitoring system, Traction control'],\n",
       " ['ABS, Adaptive Cruise Control, Adaptive headlights, Central door lock, Central door lock with remote control, Daytime running lights, Distance warning system, Driver drowsiness detection, Driver-side airbag, Electronic stability control, Emergency brake assistant, Emergency system, Fog lights, Full-LED headlights, Head airbag, High beam assist, Immobilizer, Isofix, LED Daytime Running Lights, LED Headlights, Lane departure warning system, Passenger-side airbag, Power steering, Rear airbag, Side airbag, Speed limit control system, Tire pressure monitoring system, Traction control, Traffic sign recognition'],\n",
       " ['ABS, Central door lock, Daytime running lights, Driver-side airbag, Electronic stability control, Emergency brake assistant, Fog lights, Head airbag, Immobilizer, LED Daytime Running Lights, Lane departure warning system, Passenger-side airbag, Power steering, Side airbag, Tire pressure monitoring system, Traffic sign recognition'],\n",
       " ['ABS, Adaptive Cruise Control, Adaptive headlights, Central door lock, Daytime running lights, Distance warning system, Driver drowsiness detection, Driver-side airbag, Electronic stability control, Emergency brake assistant, Emergency system, Fog lights, Glare-free high beam headlights, High beam assist, Immobilizer, Isofix, LED Daytime Running Lights, LED Headlights, Lane departure warning system, Passenger-side airbag, Power steering, Side airbag, Speed limit control system, Tire pressure monitoring system, Traction control, Traffic sign recognition'],\n",
       " ['ABS, Adaptive Cruise Control, Blind spot monitor, Central door lock, Central door lock with remote control, Daytime running lights, Distance warning system, Driver drowsiness detection, Driver-side airbag, Electronic stability control, Emergency system, Fog lights, Full-LED headlights, Head airbag, High beam assist, Immobilizer, Isofix, LED Daytime Running Lights, LED Headlights, Lane departure warning system, Passenger-side airbag, Power steering, Rear airbag, Side airbag, Speed limit control system, Tire pressure monitoring system, Traction control, Traffic sign recognition'],\n",
       " ['ABS, Adaptive headlights, Alarm system, Central door lock, Central door lock with remote control, Daytime running lights, Distance warning system, Driver drowsiness detection, Driver-side airbag, Electronic stability control, Emergency brake assistant, Full-LED headlights, High beam assist, Isofix, LED Daytime Running Lights, Lane departure warning system, Passenger-side airbag, Power steering, Tire pressure monitoring system, Traffic sign recognition'],\n",
       " ['ABS, Adaptive Cruise Control, Adaptive headlights, Blind spot monitor, Central door lock, Distance warning system, Driver drowsiness detection, Driver-side airbag, Electronic stability control, Emergency brake assistant, Emergency system, Fog lights, Full-LED headlights, Glare-free high beam headlights, Head airbag, High beam assist, Immobilizer, Isofix, LED Daytime Running Lights, LED Headlights, Lane departure warning system, Passenger-side airbag, Power steering, Rear airbag, Side airbag, Speed limit control system, Tire pressure monitoring system, Traction control, Traffic sign recognition'],\n",
       " ['ABS, Adaptive Cruise Control, Adaptive headlights, Alarm system, Bi-Xenon headlights, Blind spot monitor, Central door lock, Daytime running lights, Distance warning system, Driver drowsiness detection, Driver-side airbag, Electronic stability control, Emergency brake assistant, Fog lights, Immobilizer, Isofix, LED Daytime Running Lights, LED Headlights, Lane departure warning system, Passenger-side airbag, Power steering, Side airbag, Tire pressure monitoring system, Traffic sign recognition, Xenon headlights'],\n",
       " ['ABS, Central door lock, Daytime running lights, Driver-side airbag, Electronic stability control, Emergency brake assistant, Emergency system, Fog lights, Head airbag, Immobilizer, Isofix, Passenger-side airbag, Power steering, Side airbag, Speed limit control system, Tire pressure monitoring system, Traction control'],\n",
       " ['ABS, Adaptive headlights, Alarm system, Central door lock, Central door lock with remote control, Daytime running lights, Driver-side airbag, Electronic stability control, Emergency brake assistant, Head airbag, Immobilizer, LED Daytime Running Lights, LED Headlights, Passenger-side airbag, Power steering, Side airbag, Tire pressure monitoring system, Traction control'],\n",
       " ['ABS, Central door lock, Central door lock with remote control, Driver-side airbag, Electronic stability control, Emergency brake assistant, Fog lights, Head airbag, Immobilizer, Passenger-side airbag, Side airbag, Traction control'],\n",
       " ['ABS, Alarm system, Central door lock, Central door lock with remote control, Driver-side airbag, Electronic stability control, Emergency brake assistant, Fog lights, Head airbag, Immobilizer, Passenger-side airbag, Power steering, Side airbag, Traction control'],\n",
       " ['Alarm system'],\n",
       " ['ABS, Central door lock, Driver-side airbag, Electronic stability control, Immobilizer, Isofix, Passenger-side airbag, Power steering, Side airbag, Tire pressure monitoring system, Traction control'],\n",
       " ['ABS, Central door lock, Driver-side airbag, Immobilizer, Isofix, Power steering, Side airbag'],\n",
       " ['ABS, Central door lock, Electronic stability control, Fog lights, Isofix, Power steering, Side airbag'],\n",
       " ['ABS, Central door lock, Central door lock with remote control, Daytime running lights, Driver-side airbag, Electronic stability control, Fog lights, Immobilizer, Isofix, Passenger-side airbag, Power steering, Side airbag'],\n",
       " ['ABS, Central door lock, Central door lock with remote control, Driver-side airbag, Electronic stability control, Head airbag, Immobilizer, Passenger-side airbag, Power steering, Side airbag'],\n",
       " ['ABS, Central door lock, Central door lock with remote control, Driver-side airbag, Electronic stability control, Fog lights, Isofix, Passenger-side airbag, Power steering, Side airbag, Traction control'],\n",
       " ['Central door lock with remote control, Power steering'],\n",
       " ['ABS, Adaptive Cruise Control, Adaptive headlights, Blind spot monitor, Central door lock, Central door lock with remote control, Daytime running lights, Driver drowsiness detection, Driver-side airbag, Electronic stability control, Emergency brake assistant, Emergency system, Fog lights, Head airbag, Immobilizer, Isofix, LED Daytime Running Lights, LED Headlights, Lane departure warning system, Passenger-side airbag, Power steering, Rear airbag, Side airbag, Tire pressure monitoring system, Traction control, Traffic sign recognition'],\n",
       " ['ABS, Central door lock, Daytime running lights, Driver-side airbag, Electronic stability control, Emergency brake assistant, Fog lights, Full-LED headlights, Head airbag, Immobilizer, Isofix, LED Daytime Running Lights, LED Headlights, Lane departure warning system, Passenger-side airbag, Power steering, Side airbag, Speed limit control system, Tire pressure monitoring system'],\n",
       " ['ABS, Central door lock, Central door lock with remote control, Driver-side airbag, Fog lights, Immobilizer, Isofix, Passenger-side airbag, Power steering, Side airbag'],\n",
       " ['Driver-side airbag, Emergency system, Isofix, Power steering'],\n",
       " ['Emergency system, LED Daytime Running Lights'],\n",
       " ['ABS, Bi-Xenon headlights, Central door lock, Daytime running lights, Distance warning system, Driver-side airbag, Electronic stability control, Emergency brake assistant, Emergency system, Fog lights, Immobilizer, Isofix, LED Daytime Running Lights, LED Headlights, Lane departure warning system, Passenger-side airbag, Power steering, Side airbag, Tire pressure monitoring system, Traction control, Traffic sign recognition, Xenon headlights'],\n",
       " ['ABS, Central door lock, Distance warning system, Driver-side airbag, Electronic stability control, Emergency system, Fog lights, Immobilizer, Isofix, LED Daytime Running Lights, LED Headlights, Lane departure warning system, Passenger-side airbag, Power steering, Rear airbag, Side airbag, Speed limit control system, Tire pressure monitoring system, Traction control'],\n",
       " ['ABS, Blind spot monitor, Central door lock, Central door lock with remote control, Daytime running lights, Driver drowsiness detection, Electronic stability control, Emergency brake assistant, Fog lights, Full-LED headlights, Head airbag, High beam assist, Immobilizer, Isofix, LED Daytime Running Lights, LED Headlights, Lane departure warning system, Passenger-side airbag, Power steering, Side airbag, Tire pressure monitoring system, Traffic sign recognition'],\n",
       " ['ABS, Central door lock, Driver-side airbag, Electronic stability control, Fog lights, Immobilizer, Isofix, LED Daytime Running Lights, Passenger-side airbag, Power steering, Side airbag, Speed limit control system, Tire pressure monitoring system, Traction control'],\n",
       " ['ABS, Central door lock with remote control, Driver-side airbag, Electronic stability control, Fog lights, Immobilizer, Power steering, Side airbag, Traction control'],\n",
       " ['ABS, Bi-Xenon headlights, Central door lock, Daytime running lights, Distance warning system, Driver-side airbag, Electronic stability control, Emergency brake assistant, Fog lights, Immobilizer, Isofix, LED Daytime Running Lights, LED Headlights, Lane departure warning system, Passenger-side airbag, Power steering, Side airbag, Tire pressure monitoring system, Traction control, Traffic sign recognition, Xenon headlights'],\n",
       " ['ABS, Alarm system, Central door lock, Central door lock with remote control, Driver drowsiness detection, Driver-side airbag, Electronic stability control, Emergency brake assistant, Head airbag, Immobilizer, LED Headlights, Passenger-side airbag, Power steering, Side airbag, Tire pressure monitoring system, Traction control'],\n",
       " ['ABS, Alarm system, Central door lock, Central door lock with remote control, Daytime running lights, Driver-side airbag, Electronic stability control, Emergency brake assistant, Head airbag, Immobilizer, LED Daytime Running Lights, LED Headlights, Passenger-side airbag, Power steering, Side airbag, Tire pressure monitoring system, Traction control'],\n",
       " ['ABS, Central door lock, Central door lock with remote control, Daytime running lights, Driver-side airbag, Electronic stability control, Emergency brake assistant, Fog lights, Isofix, LED Headlights, Passenger-side airbag, Side airbag, Tire pressure monitoring system'],\n",
       " ['ABS, Adaptive Cruise Control, Adaptive headlights, Blind spot monitor, Central door lock, Daytime running lights, Distance warning system, Driver drowsiness detection, Driver-side airbag, Electronic stability control, Emergency brake assistant, Fog lights, Glare-free high beam headlights, High beam assist, Immobilizer, Isofix, LED Daytime Running Lights, LED Headlights, Lane departure warning system, Passenger-side airbag, Power steering, Side airbag, Speed limit control system, Tire pressure monitoring system, Traction control, Traffic sign recognition'],\n",
       " ['ABS, Driver-side airbag, Passenger-side airbag'],\n",
       " ['ABS, Bi-Xenon headlights, Blind spot monitor, Central door lock, Daytime running lights, Distance warning system, Driver drowsiness detection, Driver-side airbag, Electronic stability control, Emergency brake assistant, Fog lights, Immobilizer, Isofix, LED Daytime Running Lights, LED Headlights, Lane departure warning system, Passenger-side airbag, Power steering, Side airbag, Tire pressure monitoring system, Traction control, Traffic sign recognition, Xenon headlights'],\n",
       " ['ABS, Alarm system, Driver-side airbag, Electronic stability control, Fog lights, Passenger-side airbag, Power steering, Side airbag'],\n",
       " ['ABS, Adaptive headlights, Bi-Xenon headlights, Central door lock, Driver-side airbag, Electronic stability control, Fog lights, Immobilizer, Isofix, Passenger-side airbag, Power steering, Side airbag, Traction control'],\n",
       " ['ABS, Central door lock, Central door lock with remote control, Driver-side airbag, Immobilizer, Passenger-side airbag, Side airbag'],\n",
       " ['ABS, Adaptive Cruise Control, Central door lock, Daytime running lights, Distance warning system, Driver drowsiness detection, Driver-side airbag, Emergency brake assistant, Emergency system, Head airbag, High beam assist, Immobilizer, Isofix, LED Daytime Running Lights, Lane departure warning system, Passenger-side airbag, Power steering, Side airbag, Speed limit control system, Tire pressure monitoring system, Traction control, Traffic sign recognition'],\n",
       " ['ABS, Central door lock, Driver-side airbag, Electronic stability control, Power steering, Side airbag, Traction control'],\n",
       " ['ABS, Central door lock, Daytime running lights, Driver-side airbag, Electronic stability control, Immobilizer, Isofix, LED Daytime Running Lights, Passenger-side airbag, Power steering, Side airbag, Tire pressure monitoring system, Traction control'],\n",
       " ['ABS, Blind spot monitor, Central door lock, Daytime running lights, Distance warning system, Driver drowsiness detection, Driver-side airbag, Electronic stability control, Emergency brake assistant, Emergency system, Fog lights, High beam assist, Immobilizer, Isofix, LED Daytime Running Lights, LED Headlights, Lane departure warning system, Passenger-side airbag, Power steering, Side airbag, Speed limit control system, Tire pressure monitoring system, Traction control, Traffic sign recognition'],\n",
       " ['ABS, Central door lock, Daytime running lights, Driver-side airbag, Electronic stability control, Head airbag, Passenger-side airbag, Power steering, Side airbag, Tire pressure monitoring system'],\n",
       " ['ABS, Central door lock, Daytime running lights, Driver-side airbag, Electronic stability control, Head airbag, Immobilizer, Isofix, LED Daytime Running Lights, Passenger-side airbag, Power steering, Side airbag, Speed limit control system, Tire pressure monitoring system, Traction control'],\n",
       " ['ABS, Central door lock, Central door lock with remote control, Driver-side airbag, Passenger-side airbag, Power steering'],\n",
       " ['ABS, Driver-side airbag, Electronic stability control, Emergency brake assistant, Immobilizer, LED Daytime Running Lights, LED Headlights, Lane departure warning system, Passenger-side airbag, Side airbag, Tire pressure monitoring system, Traction control'],\n",
       " ['ABS, Adaptive Cruise Control, Alarm system, Bi-Xenon headlights, Central door lock, Daytime running lights, Distance warning system, Driver drowsiness detection, Driver-side airbag, Electronic stability control, Emergency brake assistant, Emergency system, Fog lights, Immobilizer, Isofix, LED Daytime Running Lights, LED Headlights, Lane departure warning system, Passenger-side airbag, Power steering, Side airbag, Tire pressure monitoring system, Traction control, Traffic sign recognition, Xenon headlights'],\n",
       " ['ABS, Adaptive Cruise Control, Blind spot monitor, Central door lock, Central door lock with remote control, Daytime running lights, Distance warning system, Driver drowsiness detection, Driver-side airbag, Electronic stability control, Emergency brake assistant, Emergency system, Full-LED headlights, Head airbag, High beam assist, Immobilizer, Isofix, LED Daytime Running Lights, LED Headlights, Lane departure warning system, Passenger-side airbag, Power steering, Rear airbag, Side airbag, Speed limit control system, Tire pressure monitoring system, Traction control, Traffic sign recognition'],\n",
       " ['ABS, Central door lock with remote control, Driver-side airbag, Electronic stability control, Fog lights, Immobilizer, Passenger-side airbag, Power steering, Side airbag, Traction control'],\n",
       " ['ABS, Adaptive headlights, Central door lock, Daytime running lights, Distance warning system, Driver drowsiness detection, Driver-side airbag, Electronic stability control, Emergency brake assistant, Fog lights, Full-LED headlights, Glare-free high beam headlights, Head airbag, Immobilizer, Isofix, LED Daytime Running Lights, LED Headlights, Lane departure warning system, Passenger-side airbag, Power steering, Side airbag, Speed limit control system, Tire pressure monitoring system, Traction control, Traffic sign recognition'],\n",
       " ['ABS, Central door lock, Fog lights, Isofix, Power steering, Side airbag, Traction control'],\n",
       " ['ABS, Alarm system, Daytime running lights, Driver-side airbag, Electronic stability control, Fog lights, Head airbag, High beam assist, Immobilizer, LED Daytime Running Lights, Lane departure warning system, Passenger-side airbag, Side airbag, Tire pressure monitoring system, Traction control, Traffic sign recognition'],\n",
       " ['ABS, Central door lock, Daytime running lights, Driver-side airbag, Electronic stability control, Emergency system, Immobilizer, Isofix, LED Daytime Running Lights, LED Headlights, Lane departure warning system, Passenger-side airbag, Power steering, Side airbag, Speed limit control system, Tire pressure monitoring system, Traction control, Traffic sign recognition'],\n",
       " ['Driver-side airbag, Isofix, LED Daytime Running Lights, Passenger-side airbag, Power steering, Tire pressure monitoring system, Traction control, Xenon headlights'],\n",
       " ['Driver-side airbag, Isofix, LED Daytime Running Lights, Lane departure warning system, Passenger-side airbag, Power steering, Tire pressure monitoring system, Traction control, Xenon headlights'],\n",
       " ['Alarm system, Fog lights, Isofix, Traction control'],\n",
       " ['ABS, Adaptive Cruise Control, Central door lock, Central door lock with remote control, Daytime running lights, Distance warning system, Driver drowsiness detection, Driver-side airbag, Emergency brake assistant, Emergency system, Fog lights, Full-LED headlights, Head airbag, High beam assist, Immobilizer, Isofix, LED Daytime Running Lights, LED Headlights, Lane departure warning system, Passenger-side airbag, Power steering, Side airbag, Speed limit control system, Tire pressure monitoring system, Traction control, Traffic sign recognition'],\n",
       " ['ABS, Central door lock, Driver-side airbag, Fog lights, Immobilizer, Passenger-side airbag, Power steering, Side airbag, Traction control, Xenon headlights'],\n",
       " ['ABS, Adaptive headlights, Bi-Xenon headlights, Blind spot monitor, Central door lock, Daytime running lights, Distance warning system, Driver drowsiness detection, Driver-side airbag, Electronic stability control, Emergency brake assistant, Emergency system, Fog lights, Immobilizer, Isofix, LED Daytime Running Lights, LED Headlights, Lane departure warning system, Passenger-side airbag, Power steering, Side airbag, Tire pressure monitoring system, Traffic sign recognition, Xenon headlights'],\n",
       " ['ABS, Central door lock with remote control, Driver-side airbag, Electronic stability control, Fog lights, Passenger-side airbag, Power steering, Traction control'],\n",
       " ['ABS, Adaptive Cruise Control, Alarm system, Bi-Xenon headlights, Blind spot monitor, Central door lock, Daytime running lights, Distance warning system, Driver drowsiness detection, Driver-side airbag, Electronic stability control, Emergency brake assistant, Emergency system, Fog lights, Immobilizer, Isofix, LED Daytime Running Lights, LED Headlights, Lane departure warning system, Passenger-side airbag, Power steering, Side airbag, Tire pressure monitoring system, Traction control, Traffic sign recognition, Xenon headlights'],\n",
       " ['ABS, Central door lock, Driver-side airbag, Electronic stability control, Fog lights, Isofix, Power steering, Side airbag, Traction control'],\n",
       " ['Central door lock with remote control, Driver-side airbag, Passenger-side airbag'],\n",
       " ['Speed limit control system'],\n",
       " ['ABS, Alarm system, Central door lock, Central door lock with remote control, Daytime running lights, Driver-side airbag, Electronic stability control, Emergency brake assistant, Fog lights, Immobilizer, LED Daytime Running Lights, Passenger-side airbag, Power steering, Side airbag, Tire pressure monitoring system, Traction control'],\n",
       " ['ABS, Central door lock, Driver-side airbag, Electronic stability control, Fog lights, Immobilizer, Isofix, LED Daytime Running Lights, Passenger-side airbag, Power steering, Side airbag, Traction control'],\n",
       " ['ABS, Adaptive Cruise Control, Blind spot monitor, Central door lock with remote control, Distance warning system, Driver drowsiness detection, Electronic stability control, Emergency brake assistant, Emergency system, Fog lights, Head airbag, Immobilizer, Isofix, LED Daytime Running Lights, LED Headlights, Lane departure warning system, Passenger-side airbag, Power steering, Side airbag, Speed limit control system, Tire pressure monitoring system, Traffic sign recognition'],\n",
       " ['ABS, Central door lock, Daytime running lights, Emergency brake assistant, Fog lights, Isofix, Passenger-side airbag, Power steering, Traction control, Traffic sign recognition'],\n",
       " ['ABS, Central door lock, Daytime running lights, Driver-side airbag, Electronic stability control, Isofix, Passenger-side airbag, Power steering, Side airbag, Tire pressure monitoring system, Traction control'],\n",
       " ['ABS, Central door lock, Central door lock with remote control, Driver-side airbag, Electronic stability control, Fog lights, Passenger-side airbag, Power steering, Side airbag, Traction control'],\n",
       " ['ABS, Central door lock, Fog lights, Isofix, Passenger-side airbag, Power steering, Side airbag, Traction control'],\n",
       " ['ABS, Central door lock, Central door lock with remote control, Daytime running lights, Driver-side airbag, Electronic stability control, Emergency brake assistant, Head airbag, Immobilizer, LED Daytime Running Lights, Passenger-side airbag, Power steering, Side airbag, Tire pressure monitoring system, Traction control'],\n",
       " ['ABS, Central door lock, Central door lock with remote control, Daytime running lights, Driver-side airbag, Electronic stability control, Fog lights, Head airbag, Immobilizer, Isofix, Passenger-side airbag, Power steering, Side airbag, Speed limit control system, Tire pressure monitoring system, Traction control'],\n",
       " ['Central door lock, Central door lock with remote control'],\n",
       " ['ABS, Adaptive Cruise Control, Bi-Xenon headlights, Blind spot monitor, Central door lock, Daytime running lights, Distance warning system, Driver drowsiness detection, Driver-side airbag, Electronic stability control, Emergency brake assistant, Immobilizer, Isofix, LED Daytime Running Lights, LED Headlights, Lane departure warning system, Passenger-side airbag, Power steering, Side airbag, Tire pressure monitoring system, Traction control, Traffic sign recognition, Xenon headlights'],\n",
       " ['ABS, Driver-side airbag, Emergency brake assistant, Immobilizer, Passenger-side airbag, Side airbag, Tire pressure monitoring system, Traction control'],\n",
       " ['ABS, Alarm system, Daytime running lights, Driver-side airbag, Electronic stability control, Head airbag, Immobilizer, Passenger-side airbag, Power steering, Side airbag, Tire pressure monitoring system, Traction control, Xenon headlights'],\n",
       " ['ABS, Central door lock, Daytime running lights, Distance warning system, Driver-side airbag, Electronic stability control, Emergency brake assistant, Fog lights, Head airbag, High beam assist, Immobilizer, Isofix, LED Daytime Running Lights, Lane departure warning system, Passenger-side airbag, Power steering, Side airbag, Speed limit control system, Tire pressure monitoring system, Traction control, Traffic sign recognition'],\n",
       " ['ABS, Central door lock, Driver-side airbag, Electronic stability control, Fog lights, Immobilizer, Isofix, Side airbag'],\n",
       " ['ABS, Central door lock with remote control, Driver-side airbag, Electronic stability control, Fog lights, Immobilizer, Isofix, Passenger-side airbag, Power steering, Side airbag, Traction control'],\n",
       " ['ABS, Central door lock, Central door lock with remote control, Driver-side airbag, Electronic stability control, Emergency brake assistant, Fog lights, Immobilizer, Isofix, LED Daytime Running Lights, LED Headlights, Passenger-side airbag, Side airbag, Tire pressure monitoring system, Traction control'],\n",
       " ['ABS, Central door lock, Daytime running lights, Driver-side airbag, Electronic stability control, Head airbag, Immobilizer, Isofix, LED Daytime Running Lights, Passenger-side airbag, Power steering, Side airbag, Tire pressure monitoring system, Traction control'],\n",
       " ['ABS, Adaptive headlights, Central door lock, Daytime running lights, Distance warning system, Driver drowsiness detection, Driver-side airbag, Electronic stability control, Emergency brake assistant, Emergency system, Fog lights, Glare-free high beam headlights, High beam assist, Immobilizer, Isofix, LED Daytime Running Lights, LED Headlights, Lane departure warning system, Passenger-side airbag, Power steering, Side airbag, Speed limit control system, Tire pressure monitoring system, Traction control, Traffic sign recognition'],\n",
       " ['ABS, Central door lock with remote control, Driver-side airbag, Electronic stability control, Isofix, Passenger-side airbag, Power steering, Rear airbag'],\n",
       " ['ABS, Central door lock, Daytime running lights, Driver-side airbag, Electronic stability control, Head airbag, Immobilizer, Passenger-side airbag, Power steering, Side airbag, Traction control'],\n",
       " ['ABS, Driver-side airbag, Electronic stability control, Emergency brake assistant, Immobilizer, Isofix, LED Daytime Running Lights, LED Headlights, Lane departure warning system, Passenger-side airbag, Side airbag, Tire pressure monitoring system, Traction control'],\n",
       " ['ABS, Alarm system, Central door lock, Central door lock with remote control, Driver-side airbag, Electronic stability control, Fog lights, Head airbag, Immobilizer, Isofix, Passenger-side airbag, Power steering, Side airbag, Traction control, Xenon headlights'],\n",
       " ['ABS, Driver-side airbag, Electronic stability control, Head airbag, Immobilizer, LED Headlights, Passenger-side airbag, Power steering, Side airbag, Traction control'],\n",
       " ['ABS, Driver-side airbag, Electronic stability control, Fog lights, Head airbag, Immobilizer, Isofix, LED Headlights, Passenger-side airbag, Power steering, Side airbag, Traction control'],\n",
       " ['Driver-side airbag, Electronic stability control, Head airbag, Lane departure warning system, Side airbag, Tire pressure monitoring system, Traffic sign recognition'],\n",
       " ['ABS, Central door lock, Daytime running lights, Distance warning system, Driver-side airbag, Electronic stability control, Emergency brake assistant, Emergency system, Fog lights, Immobilizer, Isofix, LED Daytime Running Lights, Passenger-side airbag, Power steering, Side airbag, Tire pressure monitoring system, Traction control'],\n",
       " ['ABS, Alarm system, Driver-side airbag, Electronic stability control, Emergency brake assistant, Emergency system, Immobilizer, Isofix, LED Daytime Running Lights, LED Headlights, Lane departure warning system, Passenger-side airbag, Side airbag, Tire pressure monitoring system, Traction control'],\n",
       " ['ABS, Power steering, Side airbag'],\n",
       " ['ABS, Central door lock, Central door lock with remote control, Driver-side airbag, Fog lights, Immobilizer, Isofix, Passenger-side airbag, Power steering'],\n",
       " ['ABS, Central door lock, Driver-side airbag, Electronic stability control, Head airbag, Immobilizer, Isofix, Lane departure warning system, Passenger-side airbag, Power steering, Side airbag, Traction control'],\n",
       " ['ABS, Alarm system, Central door lock, Daytime running lights, Driver-side airbag, Electronic stability control, Fog lights, Immobilizer, Isofix, Passenger-side airbag, Power steering, Side airbag, Tire pressure monitoring system, Traction control'],\n",
       " ['ABS, Alarm system, Central door lock, Driver-side airbag, Immobilizer, Passenger-side airbag, Power steering'],\n",
       " ['ABS, Central door lock, Daytime running lights, Driver-side airbag, Electronic stability control, Fog lights, Head airbag, Immobilizer, Isofix, Lane departure warning system, Passenger-side airbag, Power steering, Side airbag, Traction control'],\n",
       " ['ABS, Central door lock, Driver-side airbag, Isofix, Power steering, Side airbag'],\n",
       " ['ABS, Central door lock, Daytime running lights, Distance warning system, Driver-side airbag, Electronic stability control, Emergency brake assistant, Emergency system, Immobilizer, Isofix, Lane departure warning system, Passenger-side airbag, Power steering, Speed limit control system, Tire pressure monitoring system, Traction control, Traffic sign recognition'],\n",
       " ['ABS, Alarm system, Bi-Xenon headlights, Central door lock, Daytime running lights, Distance warning system, Driver drowsiness detection, Driver-side airbag, Electronic stability control, Emergency brake assistant, Immobilizer, Isofix, LED Daytime Running Lights, LED Headlights, Lane departure warning system, Passenger-side airbag, Power steering, Side airbag, Tire pressure monitoring system, Traction control, Traffic sign recognition, Xenon headlights'],\n",
       " ['ABS, Alarm system, Central door lock, Driver-side airbag, Fog lights, Immobilizer, Passenger-side airbag, Power steering, Side airbag, Traction control'],\n",
       " ['ABS, Adaptive headlights, Central door lock, Daytime running lights, Distance warning system, Driver drowsiness detection, Driver-side airbag, Electronic stability control, Emergency brake assistant, Emergency system, Fog lights, Full-LED headlights, Glare-free high beam headlights, Head airbag, Immobilizer, Isofix, LED Daytime Running Lights, LED Headlights, Lane departure warning system, Passenger-side airbag, Power steering, Side airbag, Speed limit control system, Tire pressure monitoring system, Traction control, Traffic sign recognition'],\n",
       " ['ABS, Central door lock, Driver-side airbag, Fog lights, Head airbag, Passenger-side airbag, Power steering, Side airbag'],\n",
       " ['ABS, Daytime running lights, Driver-side airbag, Fog lights, Head airbag, Isofix, Passenger-side airbag, Power steering, Side airbag'],\n",
       " ['ABS, Driver-side airbag, Fog lights, Immobilizer, Isofix, Passenger-side airbag, Power steering'],\n",
       " ['ABS, Central door lock, Driver-side airbag, Electronic stability control, Fog lights, Immobilizer, Isofix, LED Daytime Running Lights, Passenger-side airbag, Power steering, Rear airbag, Side airbag, Speed limit control system, Tire pressure monitoring system, Traction control'],\n",
       " ['ABS, Central door lock, Isofix, Passenger-side airbag, Power steering, Side airbag, Traction control'],\n",
       " ['ABS, Adaptive Cruise Control, Central door lock with remote control, Distance warning system, Driver drowsiness detection, Electronic stability control, Emergency brake assistant, Emergency system, Fog lights, Head airbag, Immobilizer, Isofix, LED Daytime Running Lights, LED Headlights, Lane departure warning system, Passenger-side airbag, Power steering, Side airbag, Speed limit control system, Tire pressure monitoring system, Traffic sign recognition'],\n",
       " ['ABS, Central door lock, Driver-side airbag, Electronic stability control, Fog lights, Isofix, Power steering, Rear airbag, Side airbag'],\n",
       " ['ABS, Central door lock, Daytime running lights, Driver-side airbag, Electronic stability control, Emergency brake assistant, Immobilizer, Isofix, LED Daytime Running Lights, Passenger-side airbag, Power steering, Side airbag, Tire pressure monitoring system, Traction control'],\n",
       " ['ABS, Adaptive Cruise Control, Alarm system, Bi-Xenon headlights, Central door lock, Central door lock with remote control, Daytime running lights, Distance warning system, Driver drowsiness detection, Driver-side airbag, Electronic stability control, Emergency brake assistant, Emergency system, Fog lights, Full-LED headlights, Glare-free high beam headlights, High beam assist, Immobilizer, Isofix, LED Daytime Running Lights, LED Headlights, Lane departure warning system, Passenger-side airbag, Power steering, Side airbag, Tire pressure monitoring system, Traction control, Xenon headlights'],\n",
       " ['ABS, Driver-side airbag, Electronic stability control, Fog lights, Head airbag, Immobilizer, Passenger-side airbag, Power steering'],\n",
       " ['ABS, Adaptive Cruise Control, Blind spot monitor, Central door lock, Central door lock with remote control, Daytime running lights, Distance warning system, Driver drowsiness detection, Driver-side airbag, Electronic stability control, Emergency system, Fog lights, High beam assist, Immobilizer, LED Daytime Running Lights, LED Headlights, Lane departure warning system, Passenger-side airbag, Power steering, Side airbag, Speed limit control system, Tire pressure monitoring system, Traction control, Traffic sign recognition'],\n",
       " ['ABS, Adaptive Cruise Control, Central door lock, Daytime running lights, Distance warning system, Driver drowsiness detection, Driver-side airbag, Electronic stability control, Emergency brake assistant, Emergency system, Full-LED headlights, Glare-free high beam headlights, Immobilizer, Isofix, LED Daytime Running Lights, LED Headlights, Lane departure warning system, Passenger-side airbag, Power steering, Speed limit control system, Tire pressure monitoring system, Traction control, Traffic sign recognition'],\n",
       " ['ABS, Adaptive Cruise Control, Blind spot monitor, Central door lock, Central door lock with remote control, Daytime running lights, Distance warning system, Driver drowsiness detection, Driver-side airbag, Electronic stability control, Emergency system, Fog lights, Full-LED headlights, Head airbag, High beam assist, Immobilizer, Isofix, LED Daytime Running Lights, LED Headlights, Lane departure warning system, Passenger-side airbag, Power steering, Side airbag, Speed limit control system, Tire pressure monitoring system, Traction control, Traffic sign recognition'],\n",
       " ['ABS, Central door lock, Daytime running lights, Isofix, Power steering, Side airbag'],\n",
       " ['ABS, Central door lock, Central door lock with remote control, Driver-side airbag, Electronic stability control, Fog lights, Passenger-side airbag, Power steering'],\n",
       " ['ABS, Adaptive headlights, Central door lock, Daytime running lights, Distance warning system, Driver drowsiness detection, Driver-side airbag, Electronic stability control, Emergency brake assistant, Emergency system, Fog lights, Full-LED headlights, Head airbag, High beam assist, Immobilizer, Isofix, LED Daytime Running Lights, LED Headlights, Lane departure warning system, Passenger-side airbag, Power steering, Side airbag, Speed limit control system, Tire pressure monitoring system, Traction control, Traffic sign recognition'],\n",
       " ['Alarm system, Central door lock, Central door lock with remote control, Driver-side airbag, Fog lights, Immobilizer, Passenger-side airbag, Power steering'],\n",
       " ['ABS, Adaptive headlights, Blind spot monitor, Central door lock, Daytime running lights, Driver-side airbag, Electronic stability control, Emergency brake assistant, Emergency system, Full-LED headlights, Glare-free high beam headlights, High beam assist, Isofix, LED Headlights, Lane departure warning system, Passenger-side airbag, Side airbag, Tire pressure monitoring system, Traffic sign recognition'],\n",
       " ['ABS, Daytime running lights, Driver-side airbag, Electronic stability control, Emergency brake assistant, LED Headlights, Passenger-side airbag, Side airbag, Tire pressure monitoring system'],\n",
       " ['ABS, Central door lock, Central door lock with remote control, Daytime running lights, Driver-side airbag, Electronic stability control, Head airbag, Immobilizer, LED Daytime Running Lights, Passenger-side airbag, Power steering, Side airbag, Tire pressure monitoring system'],\n",
       " ['ABS, Central door lock, Central door lock with remote control, Driver-side airbag, Electronic stability control, Emergency brake assistant, Fog lights, Immobilizer, Isofix, LED Daytime Running Lights, LED Headlights, Passenger-side airbag, Side airbag, Traffic sign recognition'],\n",
       " ['ABS, Central door lock, Central door lock with remote control, Daytime running lights, Driver-side airbag, Electronic stability control, Emergency brake assistant, Fog lights, Immobilizer, Isofix, Passenger-side airbag, Side airbag, Tire pressure monitoring system, Traction control'],\n",
       " ['ABS, Adaptive headlights, Central door lock, Daytime running lights, Distance warning system, Driver drowsiness detection, Driver-side airbag, Electronic stability control, Emergency brake assistant, Fog lights, Glare-free high beam headlights, Head airbag, Immobilizer, Isofix, LED Daytime Running Lights, LED Headlights, Lane departure warning system, Passenger-side airbag, Power steering, Side airbag, Speed limit control system, Tire pressure monitoring system, Traction control, Traffic sign recognition'],\n",
       " ['ABS, Bi-Xenon headlights, Central door lock, Daytime running lights, Distance warning system, Driver-side airbag, Electronic stability control, Emergency brake assistant, Emergency system, Immobilizer, Isofix, LED Daytime Running Lights, LED Headlights, Lane departure warning system, Passenger-side airbag, Power steering, Side airbag, Tire pressure monitoring system, Traction control, Traffic sign recognition, Xenon headlights'],\n",
       " ['ABS, Daytime running lights, Driver-side airbag, Electronic stability control, Fog lights, Head airbag, Immobilizer, Isofix, Passenger-side airbag, Power steering'],\n",
       " ['Central door lock, Fog lights, Power steering'],\n",
       " ['ABS, Central door lock, Daytime running lights, Distance warning system, Driver-side airbag, Electronic stability control, Emergency brake assistant, Fog lights, Immobilizer, Isofix, LED Daytime Running Lights, Lane departure warning system, Passenger-side airbag, Power steering, Side airbag, Tire pressure monitoring system, Traction control'],\n",
       " ['LED Headlights'],\n",
       " ['ABS, Central door lock, Driver-side airbag, Electronic stability control, Head airbag, Immobilizer, Passenger-side airbag, Power steering, Side airbag, Traction control'],\n",
       " ['ABS, Adaptive headlights, Bi-Xenon headlights, Central door lock, Daytime running lights, Distance warning system, Driver drowsiness detection, Driver-side airbag, Electronic stability control, Emergency brake assistant, Emergency system, Fog lights, Immobilizer, Isofix, LED Daytime Running Lights, LED Headlights, Lane departure warning system, Passenger-side airbag, Power steering, Side airbag, Tire pressure monitoring system, Traction control, Traffic sign recognition, Xenon headlights'],\n",
       " ['ABS, Central door lock, Central door lock with remote control, Driver-side airbag, Electronic stability control, Fog lights, Head airbag, Immobilizer, Isofix, Passenger-side airbag, Power steering, Rear airbag, Side airbag, Traction control'],\n",
       " ['Central door lock with remote control, Fog lights, Power steering'],\n",
       " ['ABS, Adaptive Cruise Control, Central door lock, Daytime running lights, Distance warning system, Driver drowsiness detection, Driver-side airbag, Emergency brake assistant, Emergency system, Fog lights, High beam assist, Immobilizer, LED Daytime Running Lights, Lane departure warning system, Passenger-side airbag, Power steering, Side airbag, Speed limit control system, Tire pressure monitoring system, Traction control, Traffic sign recognition'],\n",
       " ['ABS, Adaptive Cruise Control, Adaptive headlights, Alarm system, Blind spot monitor, Central door lock, Central door lock with remote control, Daytime running lights, Driver drowsiness detection, Driver-side airbag, Electronic stability control, Emergency brake assistant, Fog lights, Head airbag, High beam assist, Immobilizer, Isofix, LED Daytime Running Lights, LED Headlights, Lane departure warning system, Passenger-side airbag, Power steering, Side airbag, Tire pressure monitoring system, Traction control, Traffic sign recognition'],\n",
       " ['ABS, Adaptive Cruise Control, Bi-Xenon headlights, Central door lock, Daytime running lights, Driver-side airbag, Electronic stability control, Emergency brake assistant, Emergency system, Fog lights, Immobilizer, Isofix, LED Daytime Running Lights, LED Headlights, Lane departure warning system, Passenger-side airbag, Power steering, Side airbag, Tire pressure monitoring system, Traction control, Traffic sign recognition, Xenon headlights'],\n",
       " ['ABS, Central door lock with remote control, Driver-side airbag, Electronic stability control, LED Daytime Running Lights, LED Headlights, Lane departure warning system, Passenger-side airbag, Power steering, Rear airbag'],\n",
       " ['ABS, Adaptive headlights, Central door lock, Central door lock with remote control, Daytime running lights, Distance warning system, Driver-side airbag, Electronic stability control, Emergency brake assistant, Emergency system, Fog lights, Full-LED headlights, Head airbag, Immobilizer, Isofix, LED Daytime Running Lights, LED Headlights, Lane departure warning system, Passenger-side airbag, Power steering, Side airbag, Speed limit control system, Tire pressure monitoring system, Traction control'],\n",
       " ['ABS, Central door lock, Daytime running lights, Driver-side airbag, Electronic stability control, Emergency brake assistant, Fog lights, Immobilizer, Isofix, Passenger-side airbag, Power steering, Side airbag, Speed limit control system, Tire pressure monitoring system, Traction control'],\n",
       " ['ABS, Alarm system, Central door lock, Driver-side airbag, Electronic stability control, Fog lights, Immobilizer, Passenger-side airbag, Power steering, Side airbag, Traction control'],\n",
       " ['Central door lock, Driver-side airbag, Passenger-side airbag, Power steering'],\n",
       " ['ABS, Central door lock, Central door lock with remote control, Driver-side airbag, Electronic stability control, Emergency brake assistant, Immobilizer, Isofix, LED Daytime Running Lights, Passenger-side airbag, Power steering, Side airbag, Tire pressure monitoring system'],\n",
       " ['ABS, Electronic stability control, Power steering, Speed limit control system'],\n",
       " ['ABS, Alarm system, Central door lock, Central door lock with remote control, Daytime running lights, Driver-side airbag, Electronic stability control, Fog lights, Head airbag, Immobilizer, Isofix, LED Daytime Running Lights, Passenger-side airbag, Power steering, Side airbag, Tire pressure monitoring system'],\n",
       " ['ABS, Adaptive headlights, Central door lock, Daytime running lights, Driver-side airbag, Electronic stability control, Emergency brake assistant, Fog lights, Head airbag, Immobilizer, LED Daytime Running Lights, LED Headlights, Passenger-side airbag, Power steering, Side airbag, Tire pressure monitoring system'],\n",
       " ['ABS, Central door lock, Immobilizer, Isofix, Power steering, Side airbag'],\n",
       " ['Immobilizer'],\n",
       " ['Isofix, Traction control'],\n",
       " ['ABS, Driver-side airbag, Electronic stability control, Emergency brake assistant, Immobilizer, LED Daytime Running Lights, LED Headlights, Passenger-side airbag, Side airbag, Tire pressure monitoring system, Traction control'],\n",
       " ['ABS, Central door lock, Daytime running lights, Driver-side airbag, Electronic stability control, Head airbag, Immobilizer, Isofix, Passenger-side airbag, Power steering, Side airbag, Speed limit control system, Tire pressure monitoring system, Traction control'],\n",
       " ['ABS, Central door lock, Daytime running lights, Driver-side airbag, Electronic stability control, Emergency brake assistant, Fog lights, Immobilizer, Isofix, Passenger-side airbag, Power steering, Side airbag, Traction control'],\n",
       " ['ABS, Central door lock, Daytime running lights, Driver drowsiness detection, Driver-side airbag, Electronic stability control, Emergency brake assistant, Fog lights, Head airbag, Immobilizer, LED Daytime Running Lights, Passenger-side airbag, Power steering, Side airbag, Tire pressure monitoring system, Traffic sign recognition, Xenon headlights'],\n",
       " ['ABS, Central door lock, Daytime running lights, Driver-side airbag, Electronic stability control, Emergency brake assistant, Head airbag, Immobilizer, Isofix, LED Daytime Running Lights, Passenger-side airbag, Power steering, Side airbag, Speed limit control system, Tire pressure monitoring system, Traction control'],\n",
       " ['ABS, Adaptive Cruise Control, Alarm system, Bi-Xenon headlights, Central door lock, Daytime running lights, Distance warning system, Driver drowsiness detection, Driver-side airbag, Electronic stability control, Emergency brake assistant, Emergency system, Immobilizer, Isofix, LED Daytime Running Lights, LED Headlights, Lane departure warning system, Passenger-side airbag, Power steering, Side airbag, Tire pressure monitoring system, Traction control, Traffic sign recognition, Xenon headlights'],\n",
       " ['ABS, Central door lock, Daytime running lights, Driver-side airbag, Electronic stability control, Fog lights, Immobilizer, Isofix, Passenger-side airbag, Power steering, Rear airbag, Side airbag, Speed limit control system, Tire pressure monitoring system, Traction control'],\n",
       " ['ABS, Daytime running lights, Driver drowsiness detection, Driver-side airbag, Electronic stability control, Emergency brake assistant, Emergency system, Full-LED headlights, Head airbag, High beam assist, Immobilizer, Isofix, LED Daytime Running Lights, LED Headlights, Lane departure warning system, Passenger-side airbag, Power steering, Side airbag, Speed limit control system, Tire pressure monitoring system, Traction control, Traffic sign recognition'],\n",
       " ['ABS, Blind spot monitor, Daytime running lights, Driver drowsiness detection, Driver-side airbag, Electronic stability control, Emergency brake assistant, Fog lights, Immobilizer, LED Daytime Running Lights, LED Headlights, Lane departure warning system, Passenger-side airbag, Side airbag, Speed limit control system, Traffic sign recognition'],\n",
       " ['ABS, Driver-side airbag, Electronic stability control, Head airbag, Immobilizer, Isofix, LED Daytime Running Lights, Passenger-side airbag, Power steering, Side airbag, Traction control'],\n",
       " ['ABS, Central door lock, Driver-side airbag, Fog lights, Isofix, Power steering, Side airbag, Traction control'],\n",
       " ['ABS, Adaptive headlights, Bi-Xenon headlights, Central door lock, Daytime running lights, Driver-side airbag, Electronic stability control, Emergency brake assistant, Immobilizer, Isofix, LED Daytime Running Lights, Passenger-side airbag, Power steering, Side airbag, Tire pressure monitoring system, Traction control'],\n",
       " ['ABS, Alarm system, Central door lock, Driver-side airbag, Fog lights, Power steering'],\n",
       " ['ABS, Adaptive headlights, Alarm system, Central door lock, Central door lock with remote control, Daytime running lights, Distance warning system, Driver drowsiness detection, Driver-side airbag, Electronic stability control, Emergency brake assistant, High beam assist, Isofix, LED Daytime Running Lights, Lane departure warning system, Passenger-side airbag, Power steering, Tire pressure monitoring system, Traffic sign recognition'],\n",
       " ['ABS, Adaptive Cruise Control, Bi-Xenon headlights, Blind spot monitor, Central door lock, Daytime running lights, Distance warning system, Driver drowsiness detection, Driver-side airbag, Electronic stability control, Emergency brake assistant, Emergency system, Immobilizer, Isofix, LED Daytime Running Lights, LED Headlights, Lane departure warning system, Passenger-side airbag, Power steering, Side airbag, Tire pressure monitoring system, Traction control, Traffic sign recognition, Xenon headlights'],\n",
       " ['ABS, Central door lock, Driver-side airbag, Electronic stability control, Fog lights, Head airbag, Isofix, LED Daytime Running Lights, Passenger-side airbag, Power steering, Side airbag, Traction control'],\n",
       " ['ABS, Adaptive Cruise Control, Adaptive headlights, Central door lock, Central door lock with remote control, Daytime running lights, Distance warning system, Driver drowsiness detection, Driver-side airbag, Electronic stability control, Emergency brake assistant, Emergency system, Fog lights, High beam assist, Immobilizer, LED Daytime Running Lights, LED Headlights, Lane departure warning system, Passenger-side airbag, Power steering, Side airbag, Speed limit control system, Tire pressure monitoring system, Traction control, Traffic sign recognition'],\n",
       " ['ABS, Central door lock, Daytime running lights, Driver-side airbag, Electronic stability control, Immobilizer, Isofix, Passenger-side airbag, Power steering, Side airbag, Speed limit control system, Traction control'],\n",
       " ['ABS, Adaptive Cruise Control, Alarm system, Central door lock, Distance warning system, Driver drowsiness detection, Driver-side airbag, Electronic stability control, Emergency brake assistant, Emergency system, Full-LED headlights, Head airbag, High beam assist, Immobilizer, Isofix, LED Headlights, Lane departure warning system, Passenger-side airbag, Power steering, Side airbag, Speed limit control system, Tire pressure monitoring system, Traction control, Traffic sign recognition'],\n",
       " ['Full-LED headlights, LED Headlights'],\n",
       " ['ABS, Alarm system, Central door lock, Central door lock with remote control, Driver-side airbag, Immobilizer, Passenger-side airbag, Side airbag'],\n",
       " ['ABS, Adaptive headlights, Bi-Xenon headlights, Central door lock, Daytime running lights, Distance warning system, Driver drowsiness detection, Driver-side airbag, Electronic stability control, Emergency brake assistant, Fog lights, Glare-free high beam headlights, Head airbag, Immobilizer, Isofix, LED Daytime Running Lights, Lane departure warning system, Passenger-side airbag, Power steering, Side airbag, Speed limit control system, Tire pressure monitoring system, Traction control, Traffic sign recognition'],\n",
       " ['ABS, Central door lock, Central door lock with remote control, Daytime running lights, Driver-side airbag, Electronic stability control, Fog lights, Isofix, LED Daytime Running Lights, Passenger-side airbag, Power steering, Side airbag, Traction control'],\n",
       " ['ABS, Adaptive Cruise Control, Adaptive headlights, Bi-Xenon headlights, Daytime running lights, Distance warning system, Driver drowsiness detection, Driver-side airbag, Electronic stability control, Emergency brake assistant, Fog lights, Immobilizer, Isofix, LED Daytime Running Lights, LED Headlights, Lane departure warning system, Passenger-side airbag, Power steering, Side airbag, Tire pressure monitoring system, Traffic sign recognition, Xenon headlights'],\n",
       " ['ABS, Adaptive Cruise Control, Adaptive headlights, Blind spot monitor, Central door lock, Central door lock with remote control, Daytime running lights, Distance warning system, Driver drowsiness detection, Driver-side airbag, Electronic stability control, Emergency brake assistant, Emergency system, Fog lights, High beam assist, Immobilizer, LED Daytime Running Lights, LED Headlights, Lane departure warning system, Passenger-side airbag, Power steering, Side airbag, Speed limit control system, Tire pressure monitoring system, Traction control, Traffic sign recognition'],\n",
       " ['ABS, Central door lock, Driver-side airbag, Electronic stability control, Fog lights, Head airbag, Immobilizer, Isofix, Passenger-side airbag, Power steering, Side airbag, Tire pressure monitoring system, Traction control'],\n",
       " ['ABS, Adaptive Cruise Control, Blind spot monitor, Central door lock, Central door lock with remote control, Daytime running lights, Distance warning system, Driver drowsiness detection, Driver-side airbag, Electronic stability control, Emergency brake assistant, Fog lights, Head airbag, High beam assist, Immobilizer, Isofix, LED Daytime Running Lights, LED Headlights, Lane departure warning system, Passenger-side airbag, Power steering, Side airbag, Speed limit control system, Tire pressure monitoring system, Traction control, Traffic sign recognition'],\n",
       " ['ABS, Alarm system, Central door lock, Central door lock with remote control, Driver-side airbag, Fog lights, Immobilizer, Passenger-side airbag, Side airbag'],\n",
       " ['ABS, Central door lock, Daytime running lights, Driver-side airbag, Electronic stability control, Isofix, LED Daytime Running Lights, Passenger-side airbag, Power steering, Side airbag, Tire pressure monitoring system, Traction control'],\n",
       " ['ABS, Alarm system, Central door lock, Central door lock with remote control, Driver-side airbag, Fog lights, Immobilizer, Passenger-side airbag, Power steering, Side airbag, Traction control'],\n",
       " ['ABS, Adaptive Cruise Control, Alarm system, Bi-Xenon headlights, Central door lock, Daytime running lights, Distance warning system, Driver-side airbag, Electronic stability control, Emergency brake assistant, Emergency system, Fog lights, Immobilizer, LED Daytime Running Lights, LED Headlights, Lane departure warning system, Passenger-side airbag, Power steering, Tire pressure monitoring system, Traction control, Xenon headlights'],\n",
       " ['ABS, Adaptive Cruise Control, Adaptive headlights, Alarm system, Central door lock, Central door lock with remote control, Daytime running lights, Distance warning system, Driver drowsiness detection, Driver-side airbag, Electronic stability control, Emergency brake assistant, Emergency system, Full-LED headlights, Glare-free high beam headlights, Head airbag, High beam assist, Immobilizer, Isofix, LED Daytime Running Lights, LED Headlights, Lane departure warning system, Passenger-side airbag, Power steering, Rear airbag, Side airbag, Tire pressure monitoring system, Traction control, Traffic sign recognition'],\n",
       " ['ABS, Central door lock, Central door lock with remote control, Daytime running lights, Driver drowsiness detection, Electronic stability control, Emergency brake assistant, Fog lights, Full-LED headlights, Head airbag, High beam assist, Immobilizer, Isofix, LED Daytime Running Lights, LED Headlights, Lane departure warning system, Passenger-side airbag, Power steering, Side airbag, Speed limit control system, Tire pressure monitoring system, Traffic sign recognition'],\n",
       " ['Central door lock, Central door lock with remote control, Driver-side airbag, Fog lights, Passenger-side airbag, Power steering'],\n",
       " ['ABS, Central door lock, Driver-side airbag, Fog lights, Immobilizer, Isofix, Power steering, Rear airbag'],\n",
       " ['ABS, Adaptive headlights, Bi-Xenon headlights, Central door lock, Daytime running lights, Distance warning system, Driver drowsiness detection, Driver-side airbag, Electronic stability control, Emergency brake assistant, Fog lights, Glare-free high beam headlights, Immobilizer, Isofix, LED Daytime Running Lights, Lane departure warning system, Passenger-side airbag, Power steering, Side airbag, Speed limit control system, Tire pressure monitoring system, Traction control, Traffic sign recognition'],\n",
       " ['ABS, Adaptive Cruise Control, Adaptive headlights, Blind spot monitor, Central door lock with remote control, Daytime running lights, Driver drowsiness detection, Driver-side airbag, Electronic stability control, Emergency brake assistant, Emergency system, Fog lights, Immobilizer, Isofix, LED Daytime Running Lights, LED Headlights, Lane departure warning system, Passenger-side airbag, Power steering, Side airbag, Tire pressure monitoring system, Traction control, Traffic sign recognition'],\n",
       " ['ABS, Central door lock, Driver-side airbag, Electronic stability control, Fog lights, Passenger-side airbag, Power steering'],\n",
       " ['ABS, Adaptive headlights, Bi-Xenon headlights, Central door lock, Daytime running lights, Distance warning system, Driver drowsiness detection, Driver-side airbag, Electronic stability control, Emergency brake assistant, Emergency system, Fog lights, Immobilizer, Isofix, LED Daytime Running Lights, LED Headlights, Lane departure warning system, Passenger-side airbag, Power steering, Side airbag, Tire pressure monitoring system, Traffic sign recognition, Xenon headlights'],\n",
       " ['ABS, Adaptive Cruise Control, Alarm system, Central door lock, Central door lock with remote control, Daytime running lights, Distance warning system, Driver-side airbag, Electronic stability control, Emergency brake assistant, Emergency system, Fog lights, Full-LED headlights, Head airbag, High beam assist, Immobilizer, Isofix, LED Daytime Running Lights, LED Headlights, Lane departure warning system, Passenger-side airbag, Power steering, Rear airbag, Side airbag, Speed limit control system, Tire pressure monitoring system, Traction control'],\n",
       " ['ABS, Blind spot monitor, Central door lock, Central door lock with remote control, Driver-side airbag, Electronic stability control, Emergency brake assistant, Fog lights, Immobilizer, Isofix, LED Daytime Running Lights, LED Headlights, Passenger-side airbag, Side airbag, Traffic sign recognition'],\n",
       " ['ABS, Alarm system, Central door lock, Central door lock with remote control, Driver-side airbag, Fog lights, Passenger-side airbag, Power steering'],\n",
       " ['ABS, Daytime running lights, Driver-side airbag, Electronic stability control, Fog lights, Head airbag, Immobilizer, LED Daytime Running Lights, Lane departure warning system, Passenger-side airbag, Power steering, Side airbag, Tire pressure monitoring system, Traction control, Traffic sign recognition'],\n",
       " ['ABS, Adaptive Cruise Control, Blind spot monitor, Central door lock, Central door lock with remote control, Daytime running lights, Distance warning system, Driver drowsiness detection, Driver-side airbag, Electronic stability control, Emergency brake assistant, Emergency system, High beam assist, Immobilizer, LED Daytime Running Lights, LED Headlights, Lane departure warning system, Passenger-side airbag, Power steering, Side airbag, Speed limit control system, Tire pressure monitoring system, Traffic sign recognition'],\n",
       " ['ABS, Adaptive Cruise Control, Bi-Xenon headlights, Blind spot monitor, Central door lock, Daytime running lights, Distance warning system, Driver-side airbag, Electronic stability control, Emergency brake assistant, Fog lights, Immobilizer, Isofix, LED Daytime Running Lights, LED Headlights, Lane departure warning system, Passenger-side airbag, Power steering, Side airbag, Tire pressure monitoring system, Traction control, Traffic sign recognition, Xenon headlights'],\n",
       " ['ABS, Adaptive headlights, Blind spot monitor, Central door lock, Daytime running lights, Distance warning system, Driver drowsiness detection, Driver-side airbag, Electronic stability control, Emergency brake assistant, Emergency system, Full-LED headlights, Glare-free high beam headlights, High beam assist, Immobilizer, Isofix, LED Daytime Running Lights, LED Headlights, Lane departure warning system, Passenger-side airbag, Power steering, Side airbag, Tire pressure monitoring system, Traction control, Traffic sign recognition'],\n",
       " ['ABS, Central door lock, Central door lock with remote control, Driver-side airbag, Electronic stability control, Fog lights, Head airbag, Immobilizer, Passenger-side airbag, Side airbag, Traction control'],\n",
       " ['ABS, Central door lock, Daytime running lights, Driver-side airbag, Electronic stability control, Emergency brake assistant, Fog lights, Full-LED headlights, Head airbag, High beam assist, Immobilizer, Isofix, LED Daytime Running Lights, LED Headlights, Lane departure warning system, Passenger-side airbag, Power steering, Side airbag, Speed limit control system, Tire pressure monitoring system, Traction control, Traffic sign recognition'],\n",
       " ['ABS, Central door lock, Driver-side airbag, Fog lights, Isofix, Passenger-side airbag, Power steering'],\n",
       " ['ABS, Central door lock with remote control, Driver-side airbag, Electronic stability control, Fog lights, Head airbag, Isofix, Passenger-side airbag, Power steering, Side airbag, Traction control'],\n",
       " ['ABS, Adaptive headlights, Bi-Xenon headlights, Central door lock, Daytime running lights, Distance warning system, Driver drowsiness detection, Driver-side airbag, Electronic stability control, Emergency brake assistant, Emergency system, Fog lights, Immobilizer, Isofix, LED Daytime Running Lights, LED Headlights, Lane departure warning system, Passenger-side airbag, Power steering, Side airbag, Tire pressure monitoring system, Traction control, Xenon headlights'],\n",
       " ['ABS, Central door lock, Electronic stability control, Fog lights, Isofix, Power steering, Side airbag, Traction control'],\n",
       " ['ABS, Adaptive headlights, Central door lock, Daytime running lights, Driver drowsiness detection, Driver-side airbag, Electronic stability control, Emergency brake assistant, Emergency system, High beam assist, Immobilizer, Isofix, LED Daytime Running Lights, LED Headlights, Lane departure warning system, Passenger-side airbag, Power steering, Side airbag, Speed limit control system, Tire pressure monitoring system, Traction control, Traffic sign recognition'],\n",
       " ['ABS, Adaptive Cruise Control, Adaptive headlights, Blind spot monitor, Central door lock, Central door lock with remote control, Daytime running lights, Distance warning system, Driver drowsiness detection, Driver-side airbag, Electronic stability control, Emergency brake assistant, Emergency system, Fog lights, Full-LED headlights, Glare-free high beam headlights, Head airbag, High beam assist, Immobilizer, Isofix, LED Daytime Running Lights, LED Headlights, Lane departure warning system, Passenger-side airbag, Power steering, Rear airbag, Side airbag, Speed limit control system, Tire pressure monitoring system, Traction control, Traffic sign recognition'],\n",
       " ['ABS, Adaptive headlights, Bi-Xenon headlights, Central door lock, Central door lock with remote control, Driver-side airbag, Electronic stability control, Fog lights, Head airbag, Immobilizer, Passenger-side airbag, Side airbag, Traction control, Xenon headlights'],\n",
       " ['ABS, Central door lock, Daytime running lights, Driver drowsiness detection, Driver-side airbag, Electronic stability control, Emergency brake assistant, Fog lights, Head airbag, Immobilizer, Isofix, LED Daytime Running Lights, Passenger-side airbag, Power steering, Side airbag, Speed limit control system, Tire pressure monitoring system, Traction control'],\n",
       " ['Central door lock, Daytime running lights, Driver-side airbag, Electronic stability control, Fog lights, Isofix, Power steering'],\n",
       " ['ABS, Central door lock, Daytime running lights, Emergency brake assistant, Head airbag, Isofix, Passenger-side airbag, Tire pressure monitoring system'],\n",
       " ['ABS, Adaptive headlights, Alarm system, Bi-Xenon headlights, Blind spot monitor, Central door lock, Central door lock with remote control, Driver-side airbag, Electronic stability control, Fog lights, Head airbag, Immobilizer, Passenger-side airbag, Side airbag, Traction control, Xenon headlights'],\n",
       " ['ABS, Driver-side airbag, Fog lights, Power steering, Side airbag'],\n",
       " ['ABS, Adaptive headlights, Blind spot monitor, Central door lock, Central door lock with remote control, Daytime running lights, Driver drowsiness detection, Driver-side airbag, Electronic stability control, Emergency brake assistant, Emergency system, Fog lights, Full-LED headlights, Head airbag, High beam assist, Immobilizer, LED Daytime Running Lights, LED Headlights, Lane departure warning system, Passenger-side airbag, Power steering, Rear airbag, Side airbag, Speed limit control system, Tire pressure monitoring system, Traction control, Traffic sign recognition'],\n",
       " ['ABS, Alarm system, Central door lock, Central door lock with remote control, Driver-side airbag, Fog lights, Immobilizer, Isofix, Passenger-side airbag, Power steering, Side airbag'],\n",
       " ['ABS, Central door lock, Electronic stability control, Fog lights, Immobilizer, Isofix, Passenger-side airbag, Side airbag, Tire pressure monitoring system, Traffic sign recognition'],\n",
       " ['ABS, Central door lock, Daytime running lights, Driver-side airbag, Electronic stability control, Immobilizer, Isofix, Passenger-side airbag, Power steering, Side airbag, Speed limit control system, Tire pressure monitoring system, Traction control'],\n",
       " ['ABS, Bi-Xenon headlights, Central door lock, Daytime running lights, Distance warning system, Driver-side airbag, Electronic stability control, Emergency brake assistant, Immobilizer, Isofix, LED Daytime Running Lights, LED Headlights, Passenger-side airbag, Power steering, Side airbag, Tire pressure monitoring system, Traction control, Xenon headlights'],\n",
       " ['ABS, Central door lock, Driver-side airbag, Electronic stability control, Fog lights, Head airbag, High beam assist, Immobilizer, Passenger-side airbag, Power steering, Side airbag'],\n",
       " ['ABS, Blind spot monitor, Central door lock, Daytime running lights, Driver-side airbag, Electronic stability control, Fog lights, Immobilizer, Isofix, LED Daytime Running Lights, Passenger-side airbag, Power steering, Side airbag, Speed limit control system, Tire pressure monitoring system, Traction control'],\n",
       " ['ABS, Central door lock, Daytime running lights, Distance warning system, Driver drowsiness detection, Driver-side airbag, Electronic stability control, Emergency brake assistant, Emergency system, Fog lights, Full-LED headlights, Head airbag, High beam assist, Immobilizer, Isofix, LED Daytime Running Lights, LED Headlights, Lane departure warning system, Passenger-side airbag, Power steering, Side airbag, Speed limit control system, Tire pressure monitoring system, Traction control, Traffic sign recognition'],\n",
       " ['ABS, Alarm system, Central door lock, Central door lock with remote control, Driver-side airbag, Electronic stability control, Fog lights, Immobilizer, Isofix, Passenger-side airbag, Power steering, Side airbag, Traction control'],\n",
       " ['ABS, Bi-Xenon headlights, Central door lock, Daytime running lights, Distance warning system, Driver-side airbag, Electronic stability control, Emergency brake assistant, Immobilizer, Isofix, LED Daytime Running Lights, LED Headlights, Lane departure warning system, Passenger-side airbag, Power steering, Side airbag, Tire pressure monitoring system, Traction control, Traffic sign recognition, Xenon headlights'],\n",
       " ['ABS, Central door lock, Central door lock with remote control, Daytime running lights, Driver-side airbag, Electronic stability control, Head airbag, Immobilizer, Isofix, LED Daytime Running Lights, Passenger-side airbag, Power steering, Side airbag, Speed limit control system, Tire pressure monitoring system, Traction control'],\n",
       " ['ABS, Adaptive Cruise Control, Bi-Xenon headlights, Central door lock, Daytime running lights, Distance warning system, Driver-side airbag, Electronic stability control, Emergency brake assistant, Fog lights, Immobilizer, Isofix, LED Daytime Running Lights, LED Headlights, Lane departure warning system, Passenger-side airbag, Power steering, Side airbag, Tire pressure monitoring system, Traction control, Traffic sign recognition, Xenon headlights'],\n",
       " ['ABS, Adaptive Cruise Control, Adaptive headlights, Bi-Xenon headlights, Blind spot monitor, Central door lock, Daytime running lights, Distance warning system, Driver-side airbag, Electronic stability control, Emergency brake assistant, Fog lights, Immobilizer, Isofix, LED Daytime Running Lights, LED Headlights, Lane departure warning system, Passenger-side airbag, Power steering, Side airbag, Tire pressure monitoring system, Traction control, Traffic sign recognition, Xenon headlights'],\n",
       " ['ABS, Adaptive headlights, Central door lock, Daytime running lights, Distance warning system, Driver drowsiness detection, Driver-side airbag, Electronic stability control, Emergency brake assistant, Emergency system, High beam assist, Immobilizer, Isofix, LED Daytime Running Lights, LED Headlights, Lane departure warning system, Passenger-side airbag, Power steering, Side airbag, Speed limit control system, Tire pressure monitoring system, Traction control, Traffic sign recognition'],\n",
       " ['ABS, Adaptive headlights, Central door lock, Daytime running lights, Distance warning system, Driver drowsiness detection, Driver-side airbag, Electronic stability control, Emergency brake assistant, Emergency system, Full-LED headlights, Glare-free high beam headlights, Head airbag, Immobilizer, Isofix, LED Daytime Running Lights, LED Headlights, Lane departure warning system, Passenger-side airbag, Power steering, Side airbag, Speed limit control system, Tire pressure monitoring system, Traction control, Traffic sign recognition'],\n",
       " ['ABS, Bi-Xenon headlights, Blind spot monitor, Central door lock, Daytime running lights, Distance warning system, Driver-side airbag, Electronic stability control, Emergency brake assistant, Fog lights, Immobilizer, Isofix, LED Daytime Running Lights, LED Headlights, Lane departure warning system, Passenger-side airbag, Power steering, Side airbag, Tire pressure monitoring system, Traction control, Traffic sign recognition, Xenon headlights'],\n",
       " ['ABS, Adaptive Cruise Control, Blind spot monitor, Central door lock, Distance warning system, Driver-side airbag, Electronic stability control, Fog lights, Immobilizer, Isofix, LED Daytime Running Lights, LED Headlights, Lane departure warning system, Passenger-side airbag, Power steering, Rear airbag, Side airbag, Speed limit control system, Tire pressure monitoring system, Traction control, Traffic sign recognition, Xenon headlights'],\n",
       " ['ABS, Central door lock, Daytime running lights, Distance warning system, Driver drowsiness detection, Driver-side airbag, Electronic stability control, Emergency brake assistant, Emergency system, Full-LED headlights, Head airbag, Immobilizer, Isofix, LED Daytime Running Lights, LED Headlights, Passenger-side airbag, Power steering, Side airbag, Speed limit control system, Tire pressure monitoring system, Traction control'],\n",
       " ['ABS, Central door lock, Daytime running lights, Distance warning system, Driver-side airbag, Electronic stability control, Immobilizer, Isofix, LED Daytime Running Lights, Passenger-side airbag, Power steering, Side airbag, Tire pressure monitoring system, Traction control'],\n",
       " ['ABS, Driver-side airbag, Power steering'],\n",
       " ['ABS, Central door lock with remote control, Daytime running lights, Driver-side airbag, Electronic stability control, Fog lights, Immobilizer, Isofix, Passenger-side airbag, Power steering, Side airbag, Tire pressure monitoring system, Traction control'],\n",
       " ['ABS, Adaptive Cruise Control, Adaptive headlights, Central door lock, Daytime running lights, Distance warning system, Driver drowsiness detection, Driver-side airbag, Electronic stability control, Emergency brake assistant, Emergency system, Full-LED headlights, Head airbag, High beam assist, Immobilizer, Isofix, LED Daytime Running Lights, LED Headlights, Lane departure warning system, Passenger-side airbag, Power steering, Side airbag, Speed limit control system, Tire pressure monitoring system, Traction control, Traffic sign recognition'],\n",
       " ['ABS, Central door lock, Daytime running lights, Distance warning system, Driver drowsiness detection, Driver-side airbag, Electronic stability control, Emergency brake assistant, Emergency system, Fog lights, Full-LED headlights, Glare-free high beam headlights, Head airbag, Immobilizer, Isofix, LED Daytime Running Lights, LED Headlights, Lane departure warning system, Passenger-side airbag, Power steering, Side airbag, Speed limit control system, Tire pressure monitoring system, Traction control, Traffic sign recognition'],\n",
       " ['ABS, Driver-side airbag, Electronic stability control, Passenger-side airbag, Power steering, Side airbag'],\n",
       " ['ABS, Central door lock, Immobilizer, Power steering'],\n",
       " ['ABS, Bi-Xenon headlights, Central door lock, Daytime running lights, Distance warning system, Driver-side airbag, Electronic stability control, Fog lights, Immobilizer, Isofix, LED Daytime Running Lights, LED Headlights, Passenger-side airbag, Power steering, Side airbag, Tire pressure monitoring system, Traction control, Xenon headlights'],\n",
       " ['ABS, Central door lock, Daytime running lights, Driver-side airbag, Electronic stability control, Emergency brake assistant, Immobilizer, Isofix, Passenger-side airbag, Power steering, Side airbag, Tire pressure monitoring system, Traction control'],\n",
       " ['ABS, Central door lock, Daytime running lights, Driver drowsiness detection, Driver-side airbag, Electronic stability control, Emergency brake assistant, Fog lights, Head airbag, Immobilizer, LED Daytime Running Lights, Passenger-side airbag, Power steering, Side airbag, Tire pressure monitoring system'],\n",
       " ['ABS, Central door lock, Daytime running lights, Driver-side airbag, Fog lights, Head airbag, Passenger-side airbag, Side airbag, Tire pressure monitoring system'],\n",
       " ['ABS, Adaptive headlights, Alarm system, Bi-Xenon headlights, Central door lock, Central door lock with remote control, Daytime running lights, Driver-side airbag, Electronic stability control, Emergency brake assistant, Head airbag, Immobilizer, LED Daytime Running Lights, Passenger-side airbag, Power steering, Side airbag, Traction control, Xenon headlights'],\n",
       " ['ABS, Bi-Xenon headlights, Blind spot monitor, Central door lock, Daytime running lights, Distance warning system, Driver drowsiness detection, Driver-side airbag, Electronic stability control, Fog lights, Immobilizer, Isofix, LED Daytime Running Lights, LED Headlights, Lane departure warning system, Passenger-side airbag, Power steering, Side airbag, Tire pressure monitoring system, Traction control, Traffic sign recognition, Xenon headlights'],\n",
       " ['ABS, Central door lock, Daytime running lights, Driver drowsiness detection, Driver-side airbag, Electronic stability control, Emergency brake assistant, Emergency system, Fog lights, Full-LED headlights, Glare-free high beam headlights, Head airbag, Immobilizer, Isofix, LED Daytime Running Lights, LED Headlights, Lane departure warning system, Passenger-side airbag, Power steering, Side airbag, Speed limit control system, Tire pressure monitoring system, Traction control, Traffic sign recognition'],\n",
       " ['ABS, Adaptive Cruise Control, Adaptive headlights, Bi-Xenon headlights, Blind spot monitor, Daytime running lights, Distance warning system, Driver drowsiness detection, Driver-side airbag, Electronic stability control, Emergency brake assistant, Fog lights, Immobilizer, Isofix, LED Daytime Running Lights, LED Headlights, Lane departure warning system, Passenger-side airbag, Power steering, Side airbag, Tire pressure monitoring system, Traffic sign recognition, Xenon headlights'],\n",
       " ['ABS, Central door lock, Central door lock with remote control, Driver-side airbag, Electronic stability control, Fog lights, Immobilizer, Isofix, LED Daytime Running Lights, Passenger-side airbag, Power steering, Side airbag, Tire pressure monitoring system'],\n",
       " ['ABS, Adaptive headlights, Bi-Xenon headlights, Blind spot monitor, Central door lock, Daytime running lights, Distance warning system, Driver drowsiness detection, Driver-side airbag, Electronic stability control, Emergency brake assistant, Fog lights, Immobilizer, Isofix, LED Daytime Running Lights, LED Headlights, Lane departure warning system, Passenger-side airbag, Power steering, Side airbag, Tire pressure monitoring system, Traction control, Traffic sign recognition, Xenon headlights'],\n",
       " ['ABS, Driver-side airbag, Electronic stability control, Fog lights, Immobilizer, Passenger-side airbag, Power steering, Side airbag, Traction control'],\n",
       " ['ABS, Central door lock, Central door lock with remote control, Driver-side airbag, Electronic stability control, Fog lights, Head airbag, Immobilizer, Isofix, LED Daytime Running Lights, Passenger-side airbag, Power steering, Side airbag, Speed limit control system, Tire pressure monitoring system, Traction control'],\n",
       " ['ABS, Central door lock, Daytime running lights, Driver-side airbag, Electronic stability control, Immobilizer, LED Daytime Running Lights, LED Headlights, Passenger-side airbag, Power steering, Speed limit control system, Tire pressure monitoring system, Traction control'],\n",
       " ['Driver-side airbag, Emergency system'],\n",
       " ['ABS, Central door lock, Central door lock with remote control, Daytime running lights, Driver drowsiness detection, Electronic stability control, Emergency brake assistant, Full-LED headlights, Head airbag, High beam assist, Immobilizer, Isofix, LED Daytime Running Lights, LED Headlights, Lane departure warning system, Passenger-side airbag, Power steering, Side airbag, Speed limit control system, Tire pressure monitoring system, Traffic sign recognition'],\n",
       " ['ABS, Adaptive Cruise Control, Adaptive headlights, Blind spot monitor, Central door lock, Daytime running lights, Distance warning system, Driver drowsiness detection, Driver-side airbag, Electronic stability control, Emergency brake assistant, Emergency system, High beam assist, Immobilizer, Isofix, LED Daytime Running Lights, LED Headlights, Lane departure warning system, Passenger-side airbag, Power steering, Side airbag, Speed limit control system, Tire pressure monitoring system, Traction control, Traffic sign recognition'],\n",
       " ['ABS, Central door lock, Daytime running lights, Distance warning system, Driver-side airbag, Electronic stability control, Fog lights, Isofix, Passenger-side airbag, Power steering, Side airbag, Tire pressure monitoring system, Traction control'],\n",
       " ['ABS, Central door lock, Central door lock with remote control, Daytime running lights, Driver-side airbag, Electronic stability control, Isofix, LED Daytime Running Lights, LED Headlights, Passenger-side airbag, Power steering, Side airbag, Traction control, Xenon headlights'],\n",
       " ['ABS, Central door lock, Central door lock with remote control, Driver-side airbag, Emergency brake assistant, Fog lights, Isofix, Passenger-side airbag, Power steering, Side airbag, Tire pressure monitoring system'],\n",
       " ['ABS, Central door lock, Daytime running lights, Driver-side airbag, Electronic stability control, Head airbag, Immobilizer, Isofix, Passenger-side airbag, Power steering, Side airbag, Tire pressure monitoring system, Traction control'],\n",
       " ['ABS, Adaptive headlights, Bi-Xenon headlights, Driver-side airbag, Electronic stability control, Fog lights, Head airbag, Immobilizer, Passenger-side airbag, Power steering, Rear airbag, Side airbag, Traction control, Xenon headlights'],\n",
       " ['ABS, Bi-Xenon headlights, Central door lock, Daytime running lights, Distance warning system, Driver-side airbag, Electronic stability control, Emergency brake assistant, Fog lights, Immobilizer, Isofix, LED Headlights, Passenger-side airbag, Power steering, Side airbag, Tire pressure monitoring system, Traction control, Xenon headlights'],\n",
       " ['ABS, Bi-Xenon headlights, Central door lock, Daytime running lights, Distance warning system, Driver drowsiness detection, Driver-side airbag, Electronic stability control, Emergency brake assistant, Isofix, LED Daytime Running Lights, LED Headlights, Lane departure warning system, Passenger-side airbag, Power steering, Side airbag, Tire pressure monitoring system, Traction control, Traffic sign recognition, Xenon headlights'],\n",
       " ['ABS, Driver-side airbag, Immobilizer, Passenger-side airbag, Power steering'],\n",
       " ['Central door lock with remote control, Driver-side airbag, Passenger-side airbag, Power steering'],\n",
       " ['ABS, Central door lock, Central door lock with remote control, Driver-side airbag, Fog lights, Immobilizer, Passenger-side airbag, Power steering, Side airbag, Tire pressure monitoring system'],\n",
       " ['Alarm system, Emergency system, LED Daytime Running Lights'],\n",
       " ['ABS, Adaptive headlights, Blind spot monitor, Central door lock, Daytime running lights, Distance warning system, Driver-side airbag, Electronic stability control, Emergency brake assistant, Fog lights, Glare-free high beam headlights, High beam assist, Immobilizer, Isofix, LED Daytime Running Lights, LED Headlights, Lane departure warning system, Passenger-side airbag, Power steering, Side airbag, Speed limit control system, Tire pressure monitoring system, Traction control, Traffic sign recognition'],\n",
       " ['ABS, Alarm system, Central door lock, Central door lock with remote control, Daytime running lights, Driver-side airbag, Electronic stability control, Fog lights, Head airbag, Immobilizer, LED Daytime Running Lights, Passenger-side airbag, Power steering, Side airbag, Traction control'],\n",
       " ['ABS, Adaptive Cruise Control, Adaptive headlights, Blind spot monitor, Central door lock, Daytime running lights, Distance warning system, Driver drowsiness detection, Driver-side airbag, Electronic stability control, Emergency system, Full-LED headlights, Glare-free high beam headlights, High beam assist, Immobilizer, Isofix, LED Daytime Running Lights, LED Headlights, Lane departure warning system, Passenger-side airbag, Power steering, Side airbag, Speed limit control system, Tire pressure monitoring system, Traction control, Traffic sign recognition'],\n",
       " ['ABS, Alarm system, Central door lock, Central door lock with remote control, Driver-side airbag, Electronic stability control, Head airbag, Immobilizer, Passenger-side airbag, Power steering, Side airbag, Traction control'],\n",
       " ['ABS, Central door lock, Driver-side airbag, Electronic stability control, Immobilizer, Isofix, LED Daytime Running Lights, Passenger-side airbag, Power steering, Side airbag, Speed limit control system, Tire pressure monitoring system, Traction control'],\n",
       " ['ABS, Adaptive headlights, Alarm system, Central door lock, Central door lock with remote control, Daytime running lights, Distance warning system, Driver drowsiness detection, Driver-side airbag, Electronic stability control, Emergency brake assistant, Fog lights, Full-LED headlights, Head airbag, High beam assist, Immobilizer, Isofix, LED Daytime Running Lights, LED Headlights, Lane departure warning system, Passenger-side airbag, Power steering, Rear airbag, Side airbag, Speed limit control system, Tire pressure monitoring system, Traction control, Traffic sign recognition'],\n",
       " ['ABS, Central door lock, Daytime running lights, Electronic stability control, Emergency brake assistant, Fog lights, Isofix, LED Headlights, Side airbag, Tire pressure monitoring system, Traffic sign recognition'],\n",
       " ['ABS, Central door lock, Driver-side airbag, Electronic stability control, Immobilizer, Passenger-side airbag, Power steering, Side airbag'],\n",
       " ['ABS, Driver-side airbag, Fog lights, Immobilizer, Passenger-side airbag, Power steering'],\n",
       " ['ABS, Central door lock, Central door lock with remote control, Driver-side airbag, Electronic stability control, Immobilizer, Isofix, Passenger-side airbag, Power steering, Side airbag, Traction control'],\n",
       " ['ABS, Adaptive Cruise Control, Alarm system, Central door lock, Driver-side airbag, Electronic stability control, Isofix, Power steering, Side airbag, Traction control, Xenon headlights'],\n",
       " ['ABS, Adaptive headlights, Alarm system, Central door lock, Daytime running lights, Driver-side airbag, Electronic stability control, Fog lights, Immobilizer, Isofix, LED Daytime Running Lights, Passenger-side airbag, Power steering, Side airbag, Tire pressure monitoring system, Traction control'],\n",
       " ['ABS, Adaptive headlights, Central door lock, Driver-side airbag, Electronic stability control, Fog lights, Immobilizer, Isofix, Passenger-side airbag, Power steering, Side airbag, Speed limit control system, Tire pressure monitoring system, Traction control'],\n",
       " ['ABS, Bi-Xenon headlights, Central door lock, Daytime running lights, Distance warning system, Driver-side airbag, Electronic stability control, Immobilizer, Isofix, LED Daytime Running Lights, LED Headlights, Passenger-side airbag, Power steering, Side airbag, Tire pressure monitoring system, Traction control, Xenon headlights'],\n",
       " ['ABS, Central door lock, Central door lock with remote control, Daytime running lights, Driver-side airbag, Electronic stability control, Head airbag, Immobilizer, Isofix, LED Daytime Running Lights, LED Headlights, Passenger-side airbag, Power steering, Side airbag, Speed limit control system, Tire pressure monitoring system, Traction control'],\n",
       " ['ABS, Adaptive Cruise Control, Adaptive headlights, Central door lock, Daytime running lights, Distance warning system, Driver-side airbag, Electronic stability control, Emergency brake assistant, Fog lights, Full-LED headlights, Glare-free high beam headlights, Head airbag, Immobilizer, Isofix, LED Daytime Running Lights, LED Headlights, Lane departure warning system, Passenger-side airbag, Power steering, Side airbag, Speed limit control system, Tire pressure monitoring system, Traction control, Traffic sign recognition'],\n",
       " ['ABS, Adaptive headlights, Bi-Xenon headlights, Blind spot monitor, Central door lock, Daytime running lights, Distance warning system, Driver-side airbag, Electronic stability control, Emergency brake assistant, Fog lights, Immobilizer, Isofix, LED Daytime Running Lights, LED Headlights, Lane departure warning system, Passenger-side airbag, Power steering, Side airbag, Tire pressure monitoring system, Traction control, Traffic sign recognition, Xenon headlights'],\n",
       " ['ABS, Central door lock, Daytime running lights, Driver-side airbag, Electronic stability control, Fog lights, Immobilizer, Isofix, Passenger-side airbag, Power steering, Side airbag, Traction control, Xenon headlights'],\n",
       " ['Central door lock, Driver-side airbag, Passenger-side airbag, Side airbag'],\n",
       " ['ABS, Bi-Xenon headlights, Central door lock, Daytime running lights, Driver-side airbag, Electronic stability control, Fog lights, Immobilizer, Isofix, Passenger-side airbag, Power steering, Side airbag, Tire pressure monitoring system, Traction control'],\n",
       " ['ABS, Alarm system, Central door lock, Central door lock with remote control, Daytime running lights, Driver-side airbag, Electronic stability control, Emergency brake assistant, Fog lights, Head airbag, Immobilizer, Isofix, LED Daytime Running Lights, Passenger-side airbag, Power steering, Side airbag, Traction control'],\n",
       " ['ABS, Central door lock, Daytime running lights, Driver-side airbag, Electronic stability control, Fog lights, Immobilizer, Isofix, Passenger-side airbag, Side airbag, Traction control'],\n",
       " ['ABS, Alarm system, Central door lock, Central door lock with remote control, Daytime running lights, Driver-side airbag, Electronic stability control, Fog lights, Immobilizer, LED Daytime Running Lights, Passenger-side airbag, Power steering, Side airbag, Tire pressure monitoring system, Traction control'],\n",
       " ['ABS, Central door lock'],\n",
       " ['ABS, Central door lock, Central door lock with remote control, Driver-side airbag, Fog lights, Head airbag, Immobilizer, Passenger-side airbag, Power steering, Side airbag, Tire pressure monitoring system'],\n",
       " ['ABS, Alarm system, Central door lock, Central door lock with remote control, Daytime running lights, Driver-side airbag, Electronic stability control, Fog lights, Immobilizer, Isofix, LED Daytime Running Lights, Passenger-side airbag, Power steering, Side airbag, Tire pressure monitoring system, Traction control'],\n",
       " ['ABS, Blind spot monitor, Central door lock, Central door lock with remote control, Distance warning system, Driver-side airbag, Electronic stability control, Emergency brake assistant, Emergency system, Immobilizer, Isofix, LED Daytime Running Lights, LED Headlights, Passenger-side airbag, Side airbag, Tire pressure monitoring system, Traction control, Traffic sign recognition'],\n",
       " ['ABS, Adaptive Cruise Control, Adaptive headlights, Bi-Xenon headlights, Blind spot monitor, Central door lock, Daytime running lights, Distance warning system, Driver drowsiness detection, Driver-side airbag, Electronic stability control, Emergency brake assistant, Emergency system, Fog lights, Immobilizer, Isofix, LED Daytime Running Lights, LED Headlights, Lane departure warning system, Passenger-side airbag, Power steering, Side airbag, Tire pressure monitoring system, Traffic sign recognition, Xenon headlights'],\n",
       " ['ABS, Alarm system, Daytime running lights, Driver-side airbag, Emergency brake assistant, Head airbag, Immobilizer, LED Daytime Running Lights, LED Headlights, Lane departure warning system, Passenger-side airbag, Side airbag, Tire pressure monitoring system, Traffic sign recognition'],\n",
       " ['ABS, Driver-side airbag, Fog lights, Immobilizer, Passenger-side airbag, Power steering, Side airbag'],\n",
       " ['ABS, Adaptive headlights, Central door lock, Daytime running lights, Distance warning system, Driver drowsiness detection, Driver-side airbag, Electronic stability control, Emergency brake assistant, Emergency system, Fog lights, Glare-free high beam headlights, Head airbag, Immobilizer, Isofix, LED Daytime Running Lights, LED Headlights, Lane departure warning system, Passenger-side airbag, Power steering, Side airbag, Tire pressure monitoring system, Traction control, Traffic sign recognition'],\n",
       " ['ABS, Alarm system, Central door lock, Power steering'],\n",
       " ['ABS, Central door lock, Central door lock with remote control, Distance warning system, Driver drowsiness detection, Driver-side airbag, Electronic stability control, Emergency brake assistant, Head airbag, High beam assist, Immobilizer, Isofix, LED Headlights, Lane departure warning system, Passenger-side airbag, Power steering, Rear airbag, Side airbag, Speed limit control system, Tire pressure monitoring system, Traction control, Traffic sign recognition'],\n",
       " ['ABS, Central door lock, Central door lock with remote control, Daytime running lights, Driver-side airbag, Electronic stability control, Immobilizer, Isofix, LED Daytime Running Lights, LED Headlights, Passenger-side airbag, Power steering, Side airbag, Traction control, Xenon headlights'],\n",
       " ['ABS, Adaptive Cruise Control, Adaptive headlights, Central door lock, Daytime running lights, Distance warning system, Driver drowsiness detection, Driver-side airbag, Electronic stability control, Emergency brake assistant, Fog lights, Full-LED headlights, Head airbag, High beam assist, Immobilizer, Isofix, LED Daytime Running Lights, LED Headlights, Lane departure warning system, Passenger-side airbag, Power steering, Side airbag, Speed limit control system, Tire pressure monitoring system, Traction control, Traffic sign recognition'],\n",
       " ['ABS, Alarm system, Daytime running lights, Driver-side airbag, Electronic stability control, Immobilizer, LED Daytime Running Lights, Passenger-side airbag, Side airbag, Traction control'],\n",
       " ['ABS, Central door lock, Daytime running lights, Driver-side airbag, Electronic stability control, Fog lights, Immobilizer, Isofix, LED Daytime Running Lights, LED Headlights, Passenger-side airbag, Power steering, Side airbag, Tire pressure monitoring system, Traction control'],\n",
       " ['ABS, Central door lock, Central door lock with remote control, Driver-side airbag, Fog lights, Isofix, Passenger-side airbag, Power steering, Side airbag'],\n",
       " ['ABS, Alarm system, Driver-side airbag, Electronic stability control, Fog lights, Immobilizer, Passenger-side airbag, Power steering, Side airbag, Traction control'],\n",
       " ['ABS, Central door lock, Central door lock with remote control, Daytime running lights, Driver-side airbag, Electronic stability control, Fog lights, Immobilizer, Isofix, Passenger-side airbag, Power steering, Side airbag, Speed limit control system, Traction control'],\n",
       " ['ABS, Blind spot monitor, Central door lock, Central door lock with remote control, Driver-side airbag, Electronic stability control, Emergency brake assistant, Fog lights, Immobilizer, Isofix, LED Daytime Running Lights, Passenger-side airbag, Side airbag'],\n",
       " ['ABS, Central door lock, Daytime running lights, Driver-side airbag, Electronic stability control, Fog lights, Immobilizer, LED Daytime Running Lights, Passenger-side airbag, Power steering, Side airbag, Speed limit control system, Tire pressure monitoring system, Traction control'],\n",
       " ['ABS, Central door lock, Driver-side airbag, Electronic stability control, Fog lights, Immobilizer, Passenger-side airbag, Power steering, Side airbag, Tire pressure monitoring system'],\n",
       " ['ABS, Central door lock, Daytime running lights, Driver-side airbag, Electronic stability control, Emergency brake assistant, Fog lights, Head airbag, Immobilizer, Isofix, Passenger-side airbag, Power steering, Side airbag, Speed limit control system, Tire pressure monitoring system, Traction control'],\n",
       " ['ABS, Adaptive headlights, Bi-Xenon headlights, Blind spot monitor, Central door lock, Daytime running lights, Distance warning system, Driver drowsiness detection, Driver-side airbag, Electronic stability control, Emergency brake assistant, Immobilizer, Isofix, LED Daytime Running Lights, LED Headlights, Lane departure warning system, Passenger-side airbag, Power steering, Side airbag, Tire pressure monitoring system, Traction control, Traffic sign recognition, Xenon headlights'],\n",
       " ['ABS, Adaptive headlights, Alarm system, Central door lock, Daytime running lights, Distance warning system, Driver drowsiness detection, Driver-side airbag, Electronic stability control, Emergency brake assistant, High beam assist, Isofix, LED Daytime Running Lights, LED Headlights, Lane departure warning system, Passenger-side airbag, Power steering, Side airbag, Tire pressure monitoring system, Traction control, Traffic sign recognition'],\n",
       " ['ABS, Alarm system, Bi-Xenon headlights, Blind spot monitor, Central door lock, Daytime running lights, Distance warning system, Driver drowsiness detection, Driver-side airbag, Electronic stability control, Emergency brake assistant, Emergency system, Fog lights, Immobilizer, Isofix, LED Daytime Running Lights, LED Headlights, Lane departure warning system, Passenger-side airbag, Power steering, Side airbag, Tire pressure monitoring system, Traction control, Traffic sign recognition, Xenon headlights'],\n",
       " ['ABS, Central door lock, Central door lock with remote control, Daytime running lights, Driver drowsiness detection, Driver-side airbag, Electronic stability control, Emergency brake assistant, Emergency system, Full-LED headlights, Head airbag, High beam assist, Immobilizer, Isofix, LED Daytime Running Lights, LED Headlights, Lane departure warning system, Passenger-side airbag, Power steering, Rear airbag, Side airbag, Speed limit control system, Tire pressure monitoring system, Traction control, Traffic sign recognition'],\n",
       " ['ABS, Central door lock, Central door lock with remote control, Driver-side airbag, Head airbag, Immobilizer, Passenger-side airbag, Power steering, Side airbag'],\n",
       " ['ABS, Alarm system, Central door lock, Driver-side airbag, Electronic stability control, Immobilizer, Isofix, Passenger-side airbag, Power steering, Side airbag'],\n",
       " ['ABS, Adaptive Cruise Control, Blind spot monitor, Central door lock, Central door lock with remote control, Daytime running lights, Distance warning system, Driver drowsiness detection, Driver-side airbag, Electronic stability control, Emergency brake assistant, Emergency system, Fog lights, Full-LED headlights, High beam assist, Immobilizer, Isofix, LED Daytime Running Lights, LED Headlights, Lane departure warning system, Passenger-side airbag, Power steering, Rear airbag, Side airbag, Speed limit control system, Tire pressure monitoring system, Traction control, Traffic sign recognition'],\n",
       " ['ABS, Central door lock, Central door lock with remote control, Daytime running lights, Driver-side airbag, Electronic stability control, Head airbag, Immobilizer, Isofix, LED Daytime Running Lights, LED Headlights, Passenger-side airbag, Power steering, Side airbag, Tire pressure monitoring system, Traction control'],\n",
       " ['ABS, Adaptive Cruise Control, Alarm system, Bi-Xenon headlights, Blind spot monitor, Daytime running lights, Distance warning system, Driver drowsiness detection, Driver-side airbag, Electronic stability control, Emergency brake assistant, Emergency system, Immobilizer, Isofix, LED Daytime Running Lights, LED Headlights, Lane departure warning system, Passenger-side airbag, Power steering, Side airbag, Tire pressure monitoring system, Traction control, Xenon headlights'],\n",
       " ['ABS, Central door lock, Daytime running lights, Driver-side airbag, Electronic stability control, Fog lights, Head airbag, Immobilizer, Isofix, Passenger-side airbag, Power steering, Side airbag, Speed limit control system, Tire pressure monitoring system, Traction control'],\n",
       " ['ABS, Central door lock, Distance warning system, Driver-side airbag, Electronic stability control, Emergency system, Fog lights, Immobilizer, Isofix, LED Daytime Running Lights, LED Headlights, Lane departure warning system, Passenger-side airbag, Power steering, Rear airbag, Side airbag, Speed limit control system, Tire pressure monitoring system, Traction control, Xenon headlights'],\n",
       " ['ABS, Adaptive Cruise Control, Central door lock with remote control, Daytime running lights, Driver drowsiness detection, Driver-side airbag, Electronic stability control, Emergency brake assistant, Emergency system, Fog lights, Immobilizer, Isofix, LED Daytime Running Lights, LED Headlights, Lane departure warning system, Passenger-side airbag, Power steering, Side airbag, Tire pressure monitoring system, Traction control, Traffic sign recognition'],\n",
       " ['ABS, Driver-side airbag, Electronic stability control, Fog lights, Immobilizer, Isofix, Power steering, Side airbag'],\n",
       " ['ABS, Adaptive headlights, Central door lock, Daytime running lights, Distance warning system, Driver drowsiness detection, Driver-side airbag, Electronic stability control, Emergency brake assistant, Emergency system, Full-LED headlights, Glare-free high beam headlights, Head airbag, Immobilizer, Isofix, LED Daytime Running Lights, LED Headlights, Passenger-side airbag, Power steering, Side airbag, Speed limit control system, Tire pressure monitoring system, Traction control, Traffic sign recognition'],\n",
       " ['ABS, Central door lock, Electronic stability control, Fog lights, Immobilizer, Isofix, Power steering, Side airbag'],\n",
       " ['ABS, Alarm system, Central door lock, Daytime running lights, Driver-side airbag, Electronic stability control, Head airbag, Immobilizer, LED Daytime Running Lights, Passenger-side airbag, Power steering, Side airbag, Tire pressure monitoring system, Xenon headlights'],\n",
       " ['ABS, Central door lock with remote control, Daytime running lights, Driver-side airbag, Electronic stability control, Fog lights, Isofix, Passenger-side airbag, Power steering, Side airbag, Tire pressure monitoring system, Traction control'],\n",
       " ['ABS, Central door lock, Driver-side airbag, Power steering, Side airbag, Traction control'],\n",
       " ['ABS, Central door lock, Daytime running lights, Driver-side airbag, Electronic stability control, Emergency brake assistant, Head airbag, Immobilizer, LED Daytime Running Lights, Passenger-side airbag, Power steering, Side airbag, Tire pressure monitoring system'],\n",
       " ['ABS, Adaptive Cruise Control, Bi-Xenon headlights, Blind spot monitor, Central door lock, Daytime running lights, Distance warning system, Driver drowsiness detection, Driver-side airbag, Electronic stability control, Emergency brake assistant, Fog lights, Immobilizer, Isofix, LED Daytime Running Lights, LED Headlights, Passenger-side airbag, Power steering, Side airbag, Tire pressure monitoring system, Traction control, Xenon headlights'],\n",
       " ['ABS, Central door lock, Driver-side airbag, Electronic stability control, Fog lights, Isofix'],\n",
       " ['ABS, Central door lock, Electronic stability control, Fog lights, Immobilizer, Isofix, Side airbag'],\n",
       " ['ABS, Adaptive headlights, Bi-Xenon headlights, Central door lock, Daytime running lights, Driver-side airbag, Electronic stability control, Emergency brake assistant, Immobilizer, Isofix, LED Daytime Running Lights, Passenger-side airbag, Power steering, Side airbag, Speed limit control system, Tire pressure monitoring system, Traction control'],\n",
       " ['ABS, Central door lock, Central door lock with remote control, Driver-side airbag, Electronic stability control, Fog lights, Isofix, LED Daytime Running Lights, Passenger-side airbag, Side airbag, Tire pressure monitoring system'],\n",
       " ['ABS, Central door lock, Driver-side airbag, Electronic stability control, Fog lights, Immobilizer, Isofix, Lane departure warning system, Passenger-side airbag, Power steering, Side airbag, Speed limit control system, Tire pressure monitoring system'],\n",
       " ['ABS, Central door lock, Central door lock with remote control, Daytime running lights, Driver-side airbag, Electronic stability control, Fog lights, Head airbag, Immobilizer, Isofix, Passenger-side airbag, Power steering, Rear airbag, Side airbag, Traction control'],\n",
       " ['ABS, Central door lock, Daytime running lights, Distance warning system, Driver drowsiness detection, Driver-side airbag, Electronic stability control, Emergency brake assistant, Head airbag, High beam assist, Immobilizer, Lane departure warning system, Passenger-side airbag, Power steering, Side airbag, Speed limit control system, Tire pressure monitoring system, Traction control, Traffic sign recognition'],\n",
       " ['ABS, Central door lock, Daytime running lights, Driver-side airbag, Electronic stability control, Fog lights, Immobilizer, Isofix, Passenger-side airbag, Power steering, Rear airbag, Side airbag, Tire pressure monitoring system, Traction control'],\n",
       " ['ABS, Driver-side airbag, Passenger-side airbag, Power steering, Side airbag'],\n",
       " ['ABS, Central door lock, Driver-side airbag, Fog lights, Passenger-side airbag, Side airbag, Tire pressure monitoring system'],\n",
       " ['ABS, Central door lock with remote control, Driver-side airbag, Electronic stability control, Fog lights, Isofix, Passenger-side airbag, Power steering, Rear airbag'],\n",
       " ['ABS, Bi-Xenon headlights, Blind spot monitor, Central door lock, Daytime running lights, Distance warning system, Driver drowsiness detection, Driver-side airbag, Electronic stability control, Emergency brake assistant, Fog lights, Immobilizer, Isofix, LED Daytime Running Lights, LED Headlights, Lane departure warning system, Passenger-side airbag, Power steering, Side airbag, Tire pressure monitoring system, Traffic sign recognition, Xenon headlights'],\n",
       " ['ABS, Bi-Xenon headlights, Central door lock, Daytime running lights, Distance warning system, Driver drowsiness detection, Driver-side airbag, Electronic stability control, Immobilizer, Isofix, LED Daytime Running Lights, LED Headlights, Lane departure warning system, Passenger-side airbag, Power steering, Side airbag, Tire pressure monitoring system, Traction control, Traffic sign recognition, Xenon headlights'],\n",
       " ['ABS, Central door lock, Daytime running lights, Driver-side airbag, Electronic stability control, Fog lights, High beam assist, Isofix, Passenger-side airbag, Power steering, Side airbag, Tire pressure monitoring system'],\n",
       " ['ABS, Alarm system, Central door lock, Central door lock with remote control, Driver-side airbag, Electronic stability control, Emergency brake assistant, Head airbag, Immobilizer, Passenger-side airbag, Power steering, Side airbag, Tire pressure monitoring system, Traction control'],\n",
       " ['ABS, Adaptive Cruise Control, Alarm system, Central door lock, Central door lock with remote control, Daytime running lights, Driver drowsiness detection, Driver-side airbag, Electronic stability control, Emergency brake assistant, Fog lights, Head airbag, High beam assist, Immobilizer, LED Daytime Running Lights, LED Headlights, Lane departure warning system, Passenger-side airbag, Power steering, Side airbag, Tire pressure monitoring system, Traction control, Traffic sign recognition'],\n",
       " ['ABS, Adaptive Cruise Control, Adaptive headlights, Bi-Xenon headlights, Blind spot monitor, Central door lock, Daytime running lights, Distance warning system, Driver drowsiness detection, Driver-side airbag, Electronic stability control, Emergency brake assistant, Immobilizer, Isofix, LED Daytime Running Lights, LED Headlights, Lane departure warning system, Passenger-side airbag, Power steering, Side airbag, Tire pressure monitoring system, Traffic sign recognition, Xenon headlights'],\n",
       " ['ABS, Blind spot monitor, Central door lock with remote control, Electronic stability control, Fog lights, Immobilizer, Isofix, LED Daytime Running Lights, LED Headlights, Power steering, Speed limit control system, Tire pressure monitoring system'],\n",
       " ['ABS, Alarm system, Daytime running lights, Driver-side airbag, Electronic stability control, Emergency brake assistant, Fog lights, Head airbag, Immobilizer, LED Daytime Running Lights, Passenger-side airbag, Side airbag, Traction control'],\n",
       " ['ABS, Adaptive Cruise Control, Adaptive headlights, Alarm system, Central door lock, Daytime running lights, Distance warning system, Driver drowsiness detection, Driver-side airbag, Electronic stability control, Emergency brake assistant, Emergency system, Fog lights, Glare-free high beam headlights, High beam assist, Immobilizer, Isofix, LED Daytime Running Lights, LED Headlights, Lane departure warning system, Passenger-side airbag, Power steering, Side airbag, Speed limit control system, Tire pressure monitoring system, Traction control, Traffic sign recognition'],\n",
       " ['ABS, Adaptive Cruise Control, Blind spot monitor, Central door lock, Driver drowsiness detection, Driver-side airbag, Electronic stability control, Emergency brake assistant, Emergency system, Fog lights, Full-LED headlights, Head airbag, High beam assist, Immobilizer, Isofix, LED Daytime Running Lights, LED Headlights, Lane departure warning system, Passenger-side airbag, Power steering, Rear airbag, Side airbag, Speed limit control system, Tire pressure monitoring system, Traction control, Traffic sign recognition'],\n",
       " ['ABS, Fog lights, Rear airbag, Side airbag'],\n",
       " ['ABS, Daytime running lights, Distance warning system, Driver drowsiness detection, Driver-side airbag, Electronic stability control, Emergency brake assistant, Fog lights, Full-LED headlights, Head airbag, High beam assist, Immobilizer, LED Daytime Running Lights, Passenger-side airbag, Power steering, Rear airbag, Side airbag, Tire pressure monitoring system, Traffic sign recognition'],\n",
       " ['ABS, Adaptive Cruise Control, Adaptive headlights, Central door lock, Central door lock with remote control, Daytime running lights, Driver drowsiness detection, Driver-side airbag, Electronic stability control, Emergency brake assistant, Emergency system, Fog lights, Full-LED headlights, Head airbag, High beam assist, Immobilizer, Isofix, LED Daytime Running Lights, LED Headlights, Lane departure warning system, Passenger-side airbag, Power steering, Rear airbag, Side airbag, Speed limit control system, Tire pressure monitoring system, Traction control, Traffic sign recognition'],\n",
       " ['ABS, Adaptive Cruise Control, Central door lock, Daytime running lights, Distance warning system, Driver-side airbag, Electronic stability control, Emergency brake assistant, Emergency system, Fog lights, Full-LED headlights, Head airbag, High beam assist, Immobilizer, Isofix, LED Headlights, Lane departure warning system, Passenger-side airbag, Power steering, Side airbag, Speed limit control system, Tire pressure monitoring system, Traction control, Traffic sign recognition'],\n",
       " ['ABS, Adaptive Cruise Control, Central door lock, Daytime running lights, Distance warning system, Driver drowsiness detection, Driver-side airbag, Electronic stability control, Emergency brake assistant, Emergency system, Full-LED headlights, Glare-free high beam headlights, Immobilizer, Isofix, LED Daytime Running Lights, LED Headlights, Lane departure warning system, Passenger-side airbag, Power steering, Side airbag, Speed limit control system, Tire pressure monitoring system, Traction control, Traffic sign recognition'],\n",
       " ['ABS, Adaptive Cruise Control, Central door lock, Central door lock with remote control, Daytime running lights, Distance warning system, Driver drowsiness detection, Driver-side airbag, Electronic stability control, Emergency brake assistant, Emergency system, Fog lights, Full-LED headlights, High beam assist, Immobilizer, Isofix, LED Daytime Running Lights, LED Headlights, Lane departure warning system, Passenger-side airbag, Power steering, Rear airbag, Side airbag, Speed limit control system, Tire pressure monitoring system, Traction control, Traffic sign recognition'],\n",
       " ['ABS, Central door lock with remote control, Driver-side airbag, Electronic stability control, Emergency brake assistant, Fog lights, Immobilizer, Isofix, LED Daytime Running Lights, Passenger-side airbag, Power steering, Side airbag, Tire pressure monitoring system, Traction control'],\n",
       " ['ABS, Central door lock with remote control, Driver-side airbag, Electronic stability control, Emergency brake assistant, Isofix, LED Daytime Running Lights, Passenger-side airbag, Speed limit control system, Tire pressure monitoring system'],\n",
       " ['ABS, Central door lock with remote control, Daytime running lights, Driver-side airbag, Electronic stability control, Emergency brake assistant, Fog lights, Immobilizer, Isofix, Passenger-side airbag, Power steering, Side airbag, Speed limit control system, Tire pressure monitoring system, Traction control'],\n",
       " ['ABS, Central door lock, Daytime running lights, Driver-side airbag, Electronic stability control, Fog lights, Immobilizer, Isofix, Passenger-side airbag, Power steering, Side airbag, Speed limit control system, Tire pressure monitoring system'],\n",
       " ['ABS, Central door lock, Daytime running lights, Distance warning system, Driver drowsiness detection, Driver-side airbag, Electronic stability control, Emergency brake assistant, Emergency system, Immobilizer, Isofix, LED Daytime Running Lights, LED Headlights, Passenger-side airbag, Power steering, Side airbag, Speed limit control system, Tire pressure monitoring system, Traction control'],\n",
       " ['ABS, Adaptive Cruise Control, Adaptive headlights, Central door lock, Central door lock with remote control, Daytime running lights, Distance warning system, Driver drowsiness detection, Driver-side airbag, Electronic stability control, Emergency brake assistant, Emergency system, Fog lights, Full-LED headlights, Glare-free high beam headlights, Head airbag, High beam assist, Immobilizer, Isofix, LED Daytime Running Lights, LED Headlights, Lane departure warning system, Passenger-side airbag, Power steering, Side airbag, Speed limit control system, Tire pressure monitoring system, Traction control, Traffic sign recognition'],\n",
       " ['ABS, Blind spot monitor, Central door lock, Central door lock with remote control, Daytime running lights, Driver-side airbag, Electronic stability control, Emergency system, Fog lights, Immobilizer, Passenger-side airbag, Power steering, Side airbag, Speed limit control system, Tire pressure monitoring system, Traction control'],\n",
       " ['ABS, Adaptive Cruise Control, Alarm system, Blind spot monitor, Central door lock, Daytime running lights, Distance warning system, Driver-side airbag, Electronic stability control, Emergency brake assistant, Fog lights, Glare-free high beam headlights, High beam assist, Immobilizer, Isofix, LED Daytime Running Lights, LED Headlights, Lane departure warning system, Passenger-side airbag, Power steering, Side airbag, Speed limit control system, Tire pressure monitoring system, Traction control, Traffic sign recognition'],\n",
       " ['ABS, Adaptive Cruise Control, Alarm system, Central door lock, Daytime running lights, Distance warning system, Driver drowsiness detection, Driver-side airbag, Electronic stability control, Emergency brake assistant, Emergency system, Full-LED headlights, Glare-free high beam headlights, Head airbag, Immobilizer, Isofix, LED Daytime Running Lights, LED Headlights, Lane departure warning system, Passenger-side airbag, Power steering, Side airbag, Speed limit control system, Tire pressure monitoring system, Traction control, Traffic sign recognition'],\n",
       " ['ABS, Blind spot monitor, Central door lock, Daytime running lights, Driver-side airbag, Electronic stability control, Fog lights, Head airbag, Immobilizer, Isofix, LED Daytime Running Lights, Passenger-side airbag, Power steering, Side airbag, Speed limit control system, Tire pressure monitoring system, Traction control'],\n",
       " ['ABS, Central door lock, Driver-side airbag, Electronic stability control, Emergency brake assistant, Emergency system, Fog lights, Full-LED headlights, Head airbag, Immobilizer, Isofix, LED Daytime Running Lights, LED Headlights, Passenger-side airbag, Power steering, Side airbag, Speed limit control system, Tire pressure monitoring system, Traction control'],\n",
       " ['ABS, Central door lock, Daytime running lights, Driver-side airbag, Electronic stability control, Emergency brake assistant, Emergency system, Full-LED headlights, Isofix, LED Daytime Running Lights, LED Headlights, Passenger-side airbag, Side airbag, Tire pressure monitoring system'],\n",
       " ['Fog lights, Immobilizer'],\n",
       " ['ABS, Central door lock, Daytime running lights, Driver-side airbag, Electronic stability control, Emergency brake assistant, Emergency system, Fog lights, Full-LED headlights, Head airbag, Immobilizer, Isofix, LED Daytime Running Lights, LED Headlights, Lane departure warning system, Passenger-side airbag, Power steering, Side airbag, Speed limit control system, Tire pressure monitoring system, Traction control'],\n",
       " ['ABS, Central door lock, Driver-side airbag, Electronic stability control, Fog lights, Immobilizer, Power steering, Side airbag, Traction control'],\n",
       " ['ABS, Adaptive Cruise Control, Blind spot monitor, Central door lock, Central door lock with remote control, Daytime running lights, Driver-side airbag, Electronic stability control, Emergency brake assistant, Emergency system, Fog lights, Full-LED headlights, Head airbag, High beam assist, Immobilizer, Isofix, LED Daytime Running Lights, LED Headlights, Lane departure warning system, Passenger-side airbag, Power steering, Rear airbag, Side airbag, Speed limit control system, Tire pressure monitoring system, Traction control, Traffic sign recognition'],\n",
       " ['ABS, Central door lock, Daytime running lights, Driver-side airbag, Electronic stability control, Emergency brake assistant, Fog lights, Immobilizer, Isofix, Passenger-side airbag, Power steering, Side airbag, Tire pressure monitoring system, Traction control'],\n",
       " ['ABS, Adaptive Cruise Control, Blind spot monitor, Central door lock, Daytime running lights, Distance warning system, Driver-side airbag, Electronic stability control, Emergency brake assistant, Emergency system, Fog lights, High beam assist, Immobilizer, Isofix, LED Daytime Running Lights, LED Headlights, Lane departure warning system, Passenger-side airbag, Power steering, Side airbag, Speed limit control system, Tire pressure monitoring system, Traction control'],\n",
       " ['ABS, Adaptive headlights, Driver-side airbag, Electronic stability control, Emergency brake assistant, Emergency system, Fog lights, Immobilizer, Isofix, LED Daytime Running Lights, LED Headlights, Lane departure warning system, Passenger-side airbag, Side airbag, Tire pressure monitoring system, Traction control'],\n",
       " ['ABS, Alarm system, Central door lock, Central door lock with remote control, Daytime running lights, Driver-side airbag, Electronic stability control, Fog lights, Head airbag, Immobilizer, Isofix, Passenger-side airbag, Power steering, Side airbag, Tire pressure monitoring system, Traction control'],\n",
       " ['ABS, Adaptive Cruise Control, Adaptive headlights, Alarm system, Blind spot monitor, Central door lock with remote control, Daytime running lights, Driver drowsiness detection, Driver-side airbag, Electronic stability control, Emergency brake assistant, Emergency system, Fog lights, Immobilizer, Isofix, LED Daytime Running Lights, LED Headlights, Lane departure warning system, Passenger-side airbag, Power steering, Side airbag, Tire pressure monitoring system, Traction control, Traffic sign recognition'],\n",
       " ['ABS, Alarm system, Central door lock, Central door lock with remote control, Daytime running lights, Driver-side airbag, Electronic stability control, Fog lights, Head airbag, Immobilizer, Isofix, LED Daytime Running Lights, Passenger-side airbag, Power steering, Side airbag'],\n",
       " ['ABS, Blind spot monitor, Central door lock, Central door lock with remote control, Distance warning system, Driver-side airbag, Electronic stability control, Emergency brake assistant, Immobilizer, Isofix, LED Daytime Running Lights, LED Headlights, Passenger-side airbag, Power steering, Side airbag, Tire pressure monitoring system, Traction control, Traffic sign recognition'],\n",
       " ['ABS, Alarm system, Central door lock, Central door lock with remote control, Driver-side airbag, Electronic stability control, Head airbag, Immobilizer, Passenger-side airbag, Power steering, Side airbag'],\n",
       " ['Central door lock, Driver-side airbag, Immobilizer, Passenger-side airbag, Power steering'],\n",
       " ['ABS, Adaptive Cruise Control, Alarm system, Central door lock, Daytime running lights, Distance warning system, Driver drowsiness detection, Driver-side airbag, Electronic stability control, Emergency brake assistant, Emergency system, Fog lights, Full-LED headlights, Head airbag, High beam assist, Immobilizer, Isofix, LED Daytime Running Lights, LED Headlights, Lane departure warning system, Passenger-side airbag, Power steering, Side airbag, Tire pressure monitoring system, Traction control'],\n",
       " ['ABS, Central door lock with remote control, Power steering'],\n",
       " ['ABS, Adaptive Cruise Control, Blind spot monitor, Central door lock, Central door lock with remote control, Distance warning system, Driver-side airbag, Electronic stability control, Emergency brake assistant, Emergency system, Isofix, LED Daytime Running Lights, LED Headlights, Passenger-side airbag, Side airbag, Tire pressure monitoring system, Traction control, Traffic sign recognition'],\n",
       " ['ABS, Central door lock with remote control, Driver-side airbag, Electronic stability control, Fog lights, Isofix, Passenger-side airbag, Side airbag'],\n",
       " ['ABS, Central door lock with remote control, Driver-side airbag, Electronic stability control, Emergency brake assistant, Fog lights, Immobilizer, Isofix, Passenger-side airbag, Power steering, Side airbag, Traction control'],\n",
       " ['ABS, Adaptive Cruise Control, Adaptive headlights, Blind spot monitor, Central door lock, Distance warning system, Driver drowsiness detection, Driver-side airbag, Electronic stability control, Emergency brake assistant, Emergency system, Fog lights, Head airbag, High beam assist, Immobilizer, Isofix, LED Daytime Running Lights, LED Headlights, Lane departure warning system, Passenger-side airbag, Power steering, Side airbag, Speed limit control system, Tire pressure monitoring system, Traction control, Traffic sign recognition'],\n",
       " ['ABS, Central door lock, Driver-side airbag, Electronic stability control, Fog lights, Isofix, Passenger-side airbag'],\n",
       " ['ABS, Adaptive Cruise Control, Alarm system, Central door lock, Central door lock with remote control, Daytime running lights, Distance warning system, Driver drowsiness detection, Driver-side airbag, Electronic stability control, Emergency brake assistant, Emergency system, Full-LED headlights, Head airbag, High beam assist, Immobilizer, Isofix, LED Daytime Running Lights, LED Headlights, Lane departure warning system, Passenger-side airbag, Power steering, Speed limit control system, Tire pressure monitoring system, Traction control'],\n",
       " ['ABS, Central door lock, Driver-side airbag, Electronic stability control, Isofix, Power steering, Traction control, Xenon headlights'],\n",
       " ['ABS, Adaptive Cruise Control, Blind spot monitor, Central door lock, Central door lock with remote control, Distance warning system, Driver-side airbag, Electronic stability control, Emergency brake assistant, Immobilizer, Isofix, LED Daytime Running Lights, LED Headlights, Lane departure warning system, Passenger-side airbag, Power steering, Side airbag, Tire pressure monitoring system, Traction control, Traffic sign recognition'],\n",
       " ['ABS, Adaptive Cruise Control, Adaptive headlights, Alarm system, Blind spot monitor, Central door lock, Central door lock with remote control, Daytime running lights, Distance warning system, Driver drowsiness detection, Driver-side airbag, Electronic stability control, Emergency brake assistant, Emergency system, Fog lights, High beam assist, Immobilizer, LED Daytime Running Lights, LED Headlights, Lane departure warning system, Passenger-side airbag, Power steering, Side airbag, Speed limit control system, Tire pressure monitoring system, Traction control, Traffic sign recognition'],\n",
       " ['ABS, Central door lock, Driver-side airbag, Electronic stability control, Fog lights, Immobilizer, Passenger-side airbag, Power steering, Side airbag, Traction control, Xenon headlights'],\n",
       " ['ABS, Adaptive headlights, Alarm system, Central door lock, Central door lock with remote control, Daytime running lights, Distance warning system, Driver drowsiness detection, Driver-side airbag, Electronic stability control, Emergency brake assistant, Emergency system, Full-LED headlights, Head airbag, High beam assist, Immobilizer, Isofix, LED Daytime Running Lights, LED Headlights, Lane departure warning system, Passenger-side airbag, Power steering, Speed limit control system, Tire pressure monitoring system, Traction control'],\n",
       " ['ABS, Central door lock, Driver-side airbag, Head airbag, Immobilizer, Passenger-side airbag, Power steering, Side airbag'],\n",
       " ['ABS, Central door lock with remote control, Driver-side airbag, Electronic stability control, Fog lights, Head airbag, Immobilizer, Isofix, Passenger-side airbag, Power steering, Side airbag, Traction control'],\n",
       " ['ABS, Alarm system, Central door lock, Central door lock with remote control, Driver-side airbag, Electronic stability control, Fog lights, Head airbag, Immobilizer, Isofix, Passenger-side airbag, Power steering, Side airbag'],\n",
       " ['ABS, Alarm system, Central door lock, Central door lock with remote control, Driver-side airbag, Emergency brake assistant, Fog lights, Immobilizer, Passenger-side airbag, Power steering, Side airbag'],\n",
       " ['ABS, Central door lock with remote control, Driver-side airbag, Electronic stability control, Fog lights, Immobilizer, Passenger-side airbag, Power steering, Side airbag'],\n",
       " ['ABS, Alarm system, Bi-Xenon headlights, Central door lock, Central door lock with remote control, Daytime running lights, Driver-side airbag, Electronic stability control, Fog lights, Head airbag, Immobilizer, LED Daytime Running Lights, Passenger-side airbag, Power steering, Side airbag, Tire pressure monitoring system, Traction control, Xenon headlights'],\n",
       " ['ABS, Central door lock, Isofix'],\n",
       " ['ABS, Adaptive headlights, Central door lock, Driver drowsiness detection, Driver-side airbag, Electronic stability control, Emergency system, Fog lights, Full-LED headlights, Head airbag, High beam assist, Immobilizer, Isofix, LED Daytime Running Lights, LED Headlights, Lane departure warning system, Passenger-side airbag, Power steering, Rear airbag, Side airbag, Speed limit control system, Tire pressure monitoring system, Traction control, Traffic sign recognition'],\n",
       " ['ABS, Alarm system, Central door lock, Driver-side airbag, Electronic stability control, Fog lights, Immobilizer, Passenger-side airbag, Power steering, Side airbag'],\n",
       " ['ABS, Adaptive Cruise Control, Adaptive headlights, Blind spot monitor, Central door lock, Daytime running lights, Distance warning system, Driver drowsiness detection, Driver-side airbag, Electronic stability control, Emergency brake assistant, Emergency system, Fog lights, Full-LED headlights, Glare-free high beam headlights, High beam assist, Immobilizer, Isofix, LED Daytime Running Lights, LED Headlights, Lane departure warning system, Passenger-side airbag, Power steering, Side airbag, Speed limit control system, Tire pressure monitoring system, Traction control, Traffic sign recognition'],\n",
       " ['ABS, Central door lock, Central door lock with remote control, Daytime running lights, Driver-side airbag, Electronic stability control, Fog lights, Head airbag, Immobilizer, LED Daytime Running Lights, Lane departure warning system, Passenger-side airbag, Power steering, Side airbag, Tire pressure monitoring system, Traction control'],\n",
       " ['ABS, Adaptive Cruise Control, Adaptive headlights, Alarm system, Bi-Xenon headlights, Blind spot monitor, Central door lock, Central door lock with remote control, Daytime running lights, Distance warning system, Driver drowsiness detection, Driver-side airbag, Electronic stability control, Emergency brake assistant, Emergency system, Fog lights, Full-LED headlights, Glare-free high beam headlights, Head airbag, High beam assist, Immobilizer, Isofix, LED Daytime Running Lights, LED Headlights, Lane departure warning system, Passenger-side airbag, Power steering, Side airbag, Speed limit control system, Tire pressure monitoring system, Traction control, Traffic sign recognition, Xenon headlights'],\n",
       " ['ABS, Adaptive headlights, Blind spot monitor, Central door lock, Central door lock with remote control, Daytime running lights, Driver-side airbag, Electronic stability control, Emergency brake assistant, Emergency system, Head airbag, Immobilizer, Isofix, LED Daytime Running Lights, LED Headlights, Lane departure warning system, Passenger-side airbag, Power steering, Side airbag, Tire pressure monitoring system, Traction control, Traffic sign recognition'],\n",
       " ['ABS, Central door lock, Daytime running lights, Driver drowsiness detection, Driver-side airbag, Electronic stability control, Fog lights, Full-LED headlights, High beam assist, Immobilizer, Isofix, LED Daytime Running Lights, LED Headlights, Lane departure warning system, Passenger-side airbag, Power steering, Side airbag, Speed limit control system, Traffic sign recognition'],\n",
       " ['ABS, Adaptive headlights, Alarm system, Bi-Xenon headlights, Central door lock, Central door lock with remote control, Daytime running lights, Driver-side airbag, Electronic stability control, Emergency brake assistant, Head airbag, Immobilizer, LED Daytime Running Lights, Passenger-side airbag, Side airbag, Tire pressure monitoring system, Traction control, Xenon headlights'],\n",
       " ['ABS, Central door lock, Daytime running lights, Distance warning system, Driver drowsiness detection, Driver-side airbag, Electronic stability control, Emergency brake assistant, Head airbag, Immobilizer, Lane departure warning system, Passenger-side airbag, Power steering, Side airbag, Speed limit control system, Tire pressure monitoring system, Traction control, Traffic sign recognition'],\n",
       " ['ABS, Adaptive Cruise Control, Blind spot monitor, Central door lock, Central door lock with remote control, Daytime running lights, Driver drowsiness detection, Electronic stability control, Emergency brake assistant, Full-LED headlights, Head airbag, High beam assist, Immobilizer, Isofix, LED Daytime Running Lights, LED Headlights, Lane departure warning system, Passenger-side airbag, Power steering, Side airbag, Tire pressure monitoring system, Traffic sign recognition'],\n",
       " ['ABS, Central door lock, Daytime running lights, Driver drowsiness detection, Driver-side airbag, Electronic stability control, Emergency brake assistant, Emergency system, Full-LED headlights, Glare-free high beam headlights, Head airbag, Immobilizer, Isofix, LED Daytime Running Lights, LED Headlights, Lane departure warning system, Passenger-side airbag, Power steering, Side airbag, Speed limit control system, Tire pressure monitoring system, Traction control, Traffic sign recognition'],\n",
       " ['ABS, Central door lock, Driver-side airbag, Electronic stability control, Fog lights, Power steering, Side airbag'],\n",
       " ['ABS, Central door lock, Driver-side airbag, Electronic stability control, Fog lights, Passenger-side airbag, Power steering, Side airbag, Xenon headlights'],\n",
       " ['ABS, Adaptive Cruise Control, Blind spot monitor, Central door lock, Central door lock with remote control, Daytime running lights, Driver drowsiness detection, Electronic stability control, Emergency brake assistant, Fog lights, Full-LED headlights, Head airbag, Immobilizer, Isofix, LED Daytime Running Lights, LED Headlights, Lane departure warning system, Passenger-side airbag, Power steering, Side airbag, Tire pressure monitoring system, Traffic sign recognition'],\n",
       " ['ABS, Adaptive Cruise Control, Adaptive headlights, Central door lock, Daytime running lights, Distance warning system, Driver drowsiness detection, Driver-side airbag, Electronic stability control, Emergency brake assistant, Fog lights, Full-LED headlights, Glare-free high beam headlights, Head airbag, Immobilizer, Isofix, LED Daytime Running Lights, LED Headlights, Lane departure warning system, Passenger-side airbag, Power steering, Side airbag, Speed limit control system, Tire pressure monitoring system, Traction control, Traffic sign recognition'],\n",
       " ['ABS, Bi-Xenon headlights, Central door lock, Daytime running lights, Distance warning system, Driver-side airbag, Electronic stability control, Fog lights, Immobilizer, Isofix, LED Daytime Running Lights, LED Headlights, Lane departure warning system, Passenger-side airbag, Power steering, Side airbag, Tire pressure monitoring system, Traction control, Traffic sign recognition, Xenon headlights'],\n",
       " ['ABS, Adaptive headlights, Blind spot monitor, Central door lock, Daytime running lights, Distance warning system, Driver drowsiness detection, Driver-side airbag, Electronic stability control, Emergency brake assistant, Fog lights, High beam assist, Immobilizer, Isofix, LED Daytime Running Lights, LED Headlights, Lane departure warning system, Passenger-side airbag, Power steering, Side airbag, Speed limit control system, Tire pressure monitoring system, Traction control, Traffic sign recognition'],\n",
       " ['ABS, Adaptive Cruise Control, Adaptive headlights, Alarm system, Blind spot monitor, Central door lock, Central door lock with remote control, Daytime running lights, Distance warning system, Driver drowsiness detection, Driver-side airbag, Electronic stability control, Emergency brake assistant, Emergency system, Fog lights, Full-LED headlights, Glare-free high beam headlights, Head airbag, High beam assist, Immobilizer, Isofix, LED Daytime Running Lights, LED Headlights, Lane departure warning system, Passenger-side airbag, Power steering, Rear airbag, Side airbag, Tire pressure monitoring system, Traction control, Traffic sign recognition'],\n",
       " ['ABS, Adaptive Cruise Control, Adaptive headlights, Alarm system, Bi-Xenon headlights, Blind spot monitor, Central door lock, Central door lock with remote control, Daytime running lights, Driver drowsiness detection, Driver-side airbag, Emergency brake assistant, Head airbag, High beam assist, Immobilizer, Isofix, LED Daytime Running Lights, Lane departure warning system, Passenger-side airbag, Power steering, Side airbag, Tire pressure monitoring system, Traction control, Traffic sign recognition, Xenon headlights'],\n",
       " ['Driver-side airbag, Emergency system, Head airbag, Isofix, LED Daytime Running Lights, Passenger-side airbag, Power steering, Rear airbag, Side airbag'],\n",
       " ['ABS, Adaptive Cruise Control, Adaptive headlights, Blind spot monitor, Central door lock, Central door lock with remote control, Daytime running lights, Driver drowsiness detection, Driver-side airbag, Electronic stability control, Emergency brake assistant, Emergency system, Fog lights, Full-LED headlights, Head airbag, High beam assist, Immobilizer, Isofix, LED Daytime Running Lights, LED Headlights, Lane departure warning system, Passenger-side airbag, Power steering, Rear airbag, Side airbag, Tire pressure monitoring system, Traction control, Traffic sign recognition'],\n",
       " ['ABS, Central door lock, Daytime running lights, Distance warning system, Driver drowsiness detection, Driver-side airbag, Electronic stability control, Emergency brake assistant, Emergency system, Full-LED headlights, Head airbag, High beam assist, Immobilizer, Isofix, LED Daytime Running Lights, LED Headlights, Lane departure warning system, Passenger-side airbag, Power steering, Side airbag, Speed limit control system, Tire pressure monitoring system, Traction control, Traffic sign recognition'],\n",
       " ['Emergency system, Fog lights, LED Daytime Running Lights'],\n",
       " ['ABS, Central door lock, Central door lock with remote control, Driver-side airbag, Electronic stability control, Fog lights, Immobilizer, Passenger-side airbag, Power steering, Traction control'],\n",
       " ['ABS, Adaptive Cruise Control, Central door lock, Driver-side airbag, Electronic stability control, Fog lights, Immobilizer, Isofix, Power steering, Side airbag'],\n",
       " ['Central door lock, Central door lock with remote control, Power steering'],\n",
       " ['ABS, Alarm system, Central door lock, Central door lock with remote control, Driver-side airbag, Electronic stability control, Fog lights, Passenger-side airbag, Power steering, Side airbag'],\n",
       " ['ABS, Central door lock, Central door lock with remote control, Daytime running lights, Driver drowsiness detection, Driver-side airbag, Electronic stability control, Emergency brake assistant, Emergency system, Fog lights, Full-LED headlights, Head airbag, High beam assist, Immobilizer, Isofix, LED Daytime Running Lights, LED Headlights, Lane departure warning system, Passenger-side airbag, Power steering, Side airbag, Speed limit control system, Tire pressure monitoring system, Traction control, Traffic sign recognition'],\n",
       " ['ABS, Adaptive Cruise Control, Adaptive headlights, Bi-Xenon headlights, Central door lock, Daytime running lights, Distance warning system, Driver drowsiness detection, Driver-side airbag, Electronic stability control, Emergency brake assistant, Fog lights, Immobilizer, Isofix, LED Daytime Running Lights, LED Headlights, Passenger-side airbag, Power steering, Side airbag, Tire pressure monitoring system, Traction control, Traffic sign recognition, Xenon headlights'],\n",
       " ['ABS, Central door lock, Driver drowsiness detection, Driver-side airbag, Passenger-side airbag, Power steering'],\n",
       " ['ABS, Central door lock, Daytime running lights, Driver-side airbag, Electronic stability control, Fog lights, Isofix, Passenger-side airbag, Power steering, Side airbag'],\n",
       " ['ABS, Central door lock with remote control, Daytime running lights, Driver-side airbag, Electronic stability control, Fog lights, Immobilizer, Isofix, LED Daytime Running Lights, Passenger-side airbag, Power steering, Side airbag, Traction control, Xenon headlights'],\n",
       " ['Alarm system, Central door lock, Power steering'],\n",
       " ['ABS, Adaptive Cruise Control, Blind spot monitor, Central door lock, Central door lock with remote control, Daytime running lights, Distance warning system, Driver drowsiness detection, Driver-side airbag, Electronic stability control, Emergency brake assistant, Emergency system, Full-LED headlights, Head airbag, High beam assist, Immobilizer, Isofix, LED Daytime Running Lights, LED Headlights, Lane departure warning system, Passenger-side airbag, Power steering, Rear airbag, Side airbag, Tire pressure monitoring system, Traction control, Traffic sign recognition'],\n",
       " ['ABS, Adaptive Cruise Control, Adaptive headlights, Bi-Xenon headlights, Blind spot monitor, Daytime running lights, Distance warning system, Driver drowsiness detection, Driver-side airbag, Electronic stability control, Fog lights, Immobilizer, Isofix, LED Daytime Running Lights, LED Headlights, Lane departure warning system, Passenger-side airbag, Power steering, Side airbag, Traffic sign recognition, Xenon headlights'],\n",
       " ['ABS, Adaptive Cruise Control, Adaptive headlights, Bi-Xenon headlights, Central door lock, Daytime running lights, Distance warning system, Driver-side airbag, Electronic stability control, Emergency brake assistant, Fog lights, Immobilizer, Isofix, LED Daytime Running Lights, LED Headlights, Lane departure warning system, Passenger-side airbag, Power steering, Side airbag, Tire pressure monitoring system, Traction control, Traffic sign recognition, Xenon headlights'],\n",
       " ['ABS, Adaptive headlights, Bi-Xenon headlights, Central door lock, Daytime running lights, Distance warning system, Driver drowsiness detection, Driver-side airbag, Electronic stability control, Emergency brake assistant, Fog lights, Immobilizer, Isofix, LED Daytime Running Lights, LED Headlights, Lane departure warning system, Passenger-side airbag, Power steering, Side airbag, Tire pressure monitoring system, Traffic sign recognition, Xenon headlights'],\n",
       " ['ABS, Central door lock with remote control, Driver-side airbag, Electronic stability control, Head airbag, Immobilizer, Isofix, Passenger-side airbag, Power steering, Side airbag, Traction control'],\n",
       " ['ABS, Central door lock, Central door lock with remote control, Daytime running lights, Driver drowsiness detection, Driver-side airbag, Electronic stability control, Emergency brake assistant, Emergency system, Full-LED headlights, Head airbag, High beam assist, Immobilizer, Isofix, LED Daytime Running Lights, LED Headlights, Lane departure warning system, Passenger-side airbag, Power steering, Rear airbag, Side airbag, Tire pressure monitoring system, Traction control, Traffic sign recognition'],\n",
       " ['ABS, Adaptive Cruise Control, Adaptive headlights, Alarm system, Blind spot monitor, Central door lock, Daytime running lights, Distance warning system, Driver drowsiness detection, Driver-side airbag, Electronic stability control, Emergency brake assistant, Emergency system, Fog lights, Glare-free high beam headlights, High beam assist, Immobilizer, Isofix, LED Daytime Running Lights, LED Headlights, Lane departure warning system, Night view assist, Passenger-side airbag, Power steering, Side airbag, Speed limit control system, Tire pressure monitoring system, Traction control, Traffic sign recognition'],\n",
       " ['ABS, Central door lock, Central door lock with remote control, Driver-side airbag, Electronic stability control, Fog lights, Head airbag, Immobilizer, Isofix, LED Daytime Running Lights, Passenger-side airbag, Power steering, Side airbag, Tire pressure monitoring system, Traction control'],\n",
       " ['ABS, Adaptive Cruise Control, Adaptive headlights, Bi-Xenon headlights, Blind spot monitor, Central door lock, Daytime running lights, Distance warning system, Driver drowsiness detection, Driver-side airbag, Electronic stability control, Emergency brake assistant, Immobilizer, Isofix, LED Daytime Running Lights, LED Headlights, Lane departure warning system, Passenger-side airbag, Power steering, Side airbag, Traction control, Traffic sign recognition, Xenon headlights'],\n",
       " ['ABS, Adaptive headlights, Central door lock, Daytime running lights, Distance warning system, Driver drowsiness detection, Driver-side airbag, Electronic stability control, Emergency brake assistant, Fog lights, Immobilizer, Isofix, LED Daytime Running Lights, Passenger-side airbag, Power steering, Side airbag, Tire pressure monitoring system, Traction control, Xenon headlights'],\n",
       " ['ABS, Adaptive headlights, Central door lock, Daytime running lights, Distance warning system, Driver drowsiness detection, Driver-side airbag, Electronic stability control, Emergency brake assistant, Emergency system, Glare-free high beam headlights, High beam assist, Immobilizer, Isofix, LED Daytime Running Lights, LED Headlights, Lane departure warning system, Passenger-side airbag, Power steering, Side airbag, Speed limit control system, Tire pressure monitoring system, Traction control, Traffic sign recognition'],\n",
       " ['ABS, Central door lock, Daytime running lights, Driver-side airbag, Electronic stability control, Fog lights, Immobilizer, Isofix, LED Daytime Running Lights, Passenger-side airbag, Power steering, Tire pressure monitoring system, Traction control'],\n",
       " ['ABS, Adaptive Cruise Control, Blind spot monitor, Central door lock, Daytime running lights, Distance warning system, Driver drowsiness detection, Driver-side airbag, Electronic stability control, Emergency brake assistant, Emergency system, Fog lights, Immobilizer, Isofix, LED Daytime Running Lights, Lane departure warning system, Passenger-side airbag, Power steering, Side airbag, Tire pressure monitoring system, Traffic sign recognition'],\n",
       " ['ABS, Central door lock, Driver-side airbag, Fog lights, Immobilizer, Isofix, Passenger-side airbag, Power steering, Side airbag, Xenon headlights'],\n",
       " ['ABS, Adaptive Cruise Control, Bi-Xenon headlights, Blind spot monitor, Central door lock, Daytime running lights, Distance warning system, Driver drowsiness detection, Driver-side airbag, Electronic stability control, Emergency brake assistant, Emergency system, Immobilizer, Isofix, LED Daytime Running Lights, LED Headlights, Lane departure warning system, Passenger-side airbag, Power steering, Side airbag, Tire pressure monitoring system, Traffic sign recognition, Xenon headlights'],\n",
       " ['ABS, Adaptive Cruise Control, Adaptive headlights, Bi-Xenon headlights, Blind spot monitor, Central door lock, Central door lock with remote control, Daytime running lights, Driver drowsiness detection, Driver-side airbag, Electronic stability control, Emergency brake assistant, Head airbag, High beam assist, Immobilizer, LED Daytime Running Lights, Lane departure warning system, Passenger-side airbag, Power steering, Side airbag, Tire pressure monitoring system, Traction control, Traffic sign recognition, Xenon headlights'],\n",
       " ['ABS, Adaptive headlights, Central door lock, Daytime running lights, Distance warning system, Driver-side airbag, Electronic stability control, Emergency brake assistant, Emergency system, Immobilizer, Isofix, LED Daytime Running Lights, Passenger-side airbag, Power steering, Side airbag, Tire pressure monitoring system, Traction control, Xenon headlights'],\n",
       " ['ABS, Adaptive headlights, Central door lock, Daytime running lights, Driver-side airbag, Electronic stability control, Fog lights, Immobilizer, Isofix, Passenger-side airbag, Power steering, Side airbag, Traction control'],\n",
       " ['ABS, Driver-side airbag, Electronic stability control, Fog lights, Immobilizer, Power steering, Side airbag, Traction control'],\n",
       " ['ABS, Adaptive Cruise Control, Blind spot monitor, Central door lock, Daytime running lights, Distance warning system, Driver drowsiness detection, Driver-side airbag, Electronic stability control, Emergency brake assistant, Emergency system, Fog lights, High beam assist, Immobilizer, LED Daytime Running Lights, LED Headlights, Lane departure warning system, Passenger-side airbag, Power steering, Side airbag, Speed limit control system, Tire pressure monitoring system, Traffic sign recognition'],\n",
       " ['ABS, Adaptive Cruise Control, Adaptive headlights, Bi-Xenon headlights, Blind spot monitor, Central door lock, Daytime running lights, Distance warning system, Driver drowsiness detection, Driver-side airbag, Electronic stability control, Emergency brake assistant, Emergency system, Immobilizer, Isofix, LED Daytime Running Lights, LED Headlights, Lane departure warning system, Passenger-side airbag, Power steering, Side airbag, Tire pressure monitoring system, Traction control, Traffic sign recognition, Xenon headlights'],\n",
       " ['ABS, Central door lock, Daytime running lights, Driver drowsiness detection, Driver-side airbag, Electronic stability control, Emergency brake assistant, Isofix, Lane departure warning system, Passenger-side airbag, Power steering, Side airbag, Tire pressure monitoring system, Traction control, Traffic sign recognition'],\n",
       " ['ABS, Adaptive Cruise Control, Adaptive headlights, Alarm system, Bi-Xenon headlights, Blind spot monitor, Central door lock, Daytime running lights, Distance warning system, Driver drowsiness detection, Driver-side airbag, Electronic stability control, Emergency brake assistant, Emergency system, Immobilizer, Isofix, LED Daytime Running Lights, Lane departure warning system, Passenger-side airbag, Power steering, Side airbag, Speed limit control system, Tire pressure monitoring system, Traction control, Traffic sign recognition'],\n",
       " ['ABS, Adaptive Cruise Control, Adaptive headlights, Bi-Xenon headlights, Central door lock, Daytime running lights, Driver drowsiness detection, Driver-side airbag, Electronic stability control, Emergency brake assistant, Fog lights, Immobilizer, Isofix, LED Daytime Running Lights, LED Headlights, Lane departure warning system, Passenger-side airbag, Power steering, Side airbag, Tire pressure monitoring system, Traction control, Traffic sign recognition, Xenon headlights'],\n",
       " ['Driver-side airbag, Emergency system, LED Daytime Running Lights'],\n",
       " ['ABS, Central door lock, Central door lock with remote control, Driver drowsiness detection, Electronic stability control, Emergency brake assistant, Fog lights, Full-LED headlights, Head airbag, Immobilizer, Isofix, LED Headlights, Lane departure warning system, Passenger-side airbag, Power steering, Side airbag, Tire pressure monitoring system, Traffic sign recognition'],\n",
       " ['ABS, Central door lock with remote control, Driver-side airbag, Electronic stability control, Passenger-side airbag, Power steering'],\n",
       " ['ABS, Central door lock, Central door lock with remote control, Driver-side airbag, Fog lights, Head airbag, Immobilizer, Passenger-side airbag, Side airbag'],\n",
       " ['ABS, Central door lock, Daytime running lights, Driver-side airbag, Electronic stability control, Fog lights, Immobilizer, Passenger-side airbag, Power steering, Side airbag, Traction control'],\n",
       " ['ABS, Adaptive Cruise Control, Adaptive headlights, Blind spot monitor, Central door lock, Daytime running lights, Distance warning system, Driver drowsiness detection, Driver-side airbag, Electronic stability control, Emergency brake assistant, Emergency system, Fog lights, Glare-free high beam headlights, High beam assist, Immobilizer, Isofix, LED Daytime Running Lights, LED Headlights, Lane departure warning system, Passenger-side airbag, Power steering, Side airbag, Tire pressure monitoring system, Traction control, Traffic sign recognition'],\n",
       " ['ABS, Central door lock, Central door lock with remote control, Driver-side airbag, Electronic stability control, Head airbag, Immobilizer, Isofix, Passenger-side airbag, Power steering, Side airbag, Traction control'],\n",
       " ['ABS, Adaptive Cruise Control, Adaptive headlights, Alarm system, Bi-Xenon headlights, Central door lock, Daytime running lights, Distance warning system, Driver drowsiness detection, Driver-side airbag, Electronic stability control, Emergency brake assistant, Fog lights, Immobilizer, Isofix, LED Daytime Running Lights, LED Headlights, Lane departure warning system, Passenger-side airbag, Power steering, Side airbag, Tire pressure monitoring system, Traffic sign recognition, Xenon headlights'],\n",
       " ['ABS, Adaptive Cruise Control, Adaptive headlights, Bi-Xenon headlights, Blind spot monitor, Daytime running lights, Distance warning system, Driver drowsiness detection, Driver-side airbag, Electronic stability control, Fog lights, Immobilizer, Isofix, LED Daytime Running Lights, LED Headlights, Lane departure warning system, Passenger-side airbag, Power steering, Side airbag, Tire pressure monitoring system, Traffic sign recognition, Xenon headlights'],\n",
       " ['ABS, Adaptive headlights, Central door lock, Daytime running lights, Distance warning system, Driver drowsiness detection, Driver-side airbag, Electronic stability control, Emergency brake assistant, Fog lights, Full-LED headlights, Head airbag, High beam assist, Immobilizer, Isofix, LED Daytime Running Lights, LED Headlights, Lane departure warning system, Passenger-side airbag, Power steering, Side airbag, Speed limit control system, Tire pressure monitoring system, Traction control, Traffic sign recognition'],\n",
       " ['ABS, Adaptive Cruise Control, Adaptive headlights, Bi-Xenon headlights, Blind spot monitor, Daytime running lights, Distance warning system, Driver drowsiness detection, Driver-side airbag, Electronic stability control, Emergency brake assistant, Immobilizer, Isofix, LED Daytime Running Lights, LED Headlights, Lane departure warning system, Passenger-side airbag, Power steering, Side airbag, Tire pressure monitoring system, Traffic sign recognition, Xenon headlights'],\n",
       " ['ABS, Central door lock, Daytime running lights, Driver-side airbag, Electronic stability control, Emergency brake assistant, Head airbag, Immobilizer, Isofix, Passenger-side airbag, Power steering, Side airbag, Speed limit control system, Tire pressure monitoring system, Traction control'],\n",
       " ['ABS, Central door lock, Driver-side airbag, Immobilizer, Passenger-side airbag'],\n",
       " ['ABS, Bi-Xenon headlights, Central door lock, Daytime running lights, Distance warning system, Driver drowsiness detection, Driver-side airbag, Electronic stability control, Emergency system, Immobilizer, Isofix, LED Daytime Running Lights, LED Headlights, Lane departure warning system, Passenger-side airbag, Power steering, Side airbag, Tire pressure monitoring system, Traction control, Xenon headlights'],\n",
       " ['ABS, Central door lock, Daytime running lights, Driver-side airbag, Electronic stability control, Head airbag, Immobilizer, Isofix, Passenger-side airbag, Power steering, Side airbag, Speed limit control system, Traction control'],\n",
       " ['ABS, Adaptive headlights, Bi-Xenon headlights, Central door lock, Central door lock with remote control, Daytime running lights, Driver-side airbag, Electronic stability control, Emergency brake assistant, Emergency system, Head airbag, Immobilizer, Isofix, LED Daytime Running Lights, Passenger-side airbag, Power steering, Side airbag, Tire pressure monitoring system, Traction control, Xenon headlights'],\n",
       " ['ABS, Adaptive Cruise Control, Central door lock, Central door lock with remote control, Daytime running lights, Distance warning system, Driver drowsiness detection, Driver-side airbag, Electronic stability control, Emergency brake assistant, Emergency system, Full-LED headlights, Head airbag, High beam assist, Immobilizer, Isofix, LED Daytime Running Lights, LED Headlights, Lane departure warning system, Passenger-side airbag, Power steering, Rear airbag, Side airbag, Speed limit control system, Tire pressure monitoring system, Traction control, Traffic sign recognition'],\n",
       " ['ABS, Adaptive Cruise Control, Adaptive headlights, Bi-Xenon headlights, Daytime running lights, Distance warning system, Driver drowsiness detection, Driver-side airbag, Electronic stability control, Fog lights, Immobilizer, Isofix, LED Daytime Running Lights, LED Headlights, Lane departure warning system, Passenger-side airbag, Power steering, Side airbag, Tire pressure monitoring system, Traffic sign recognition, Xenon headlights'],\n",
       " ['ABS, Central door lock, Central door lock with remote control, Daytime running lights, Driver-side airbag, Electronic stability control, Fog lights, Head airbag, Immobilizer, Isofix, LED Daytime Running Lights, Passenger-side airbag, Power steering, Rear airbag, Side airbag, Tire pressure monitoring system, Traction control'],\n",
       " ['ABS, Central door lock, Daytime running lights, Distance warning system, Driver drowsiness detection, Driver-side airbag, Electronic stability control, Emergency brake assistant, Head airbag, Immobilizer, Isofix, Lane departure warning system, Passenger-side airbag, Power steering, Side airbag, Speed limit control system, Tire pressure monitoring system, Traction control, Traffic sign recognition'],\n",
       " ['ABS, Adaptive headlights, Bi-Xenon headlights, Central door lock, Daytime running lights, Distance warning system, Driver drowsiness detection, Driver-side airbag, Electronic stability control, Emergency brake assistant, Emergency system, Immobilizer, Isofix, LED Daytime Running Lights, LED Headlights, Lane departure warning system, Passenger-side airbag, Power steering, Side airbag, Tire pressure monitoring system, Traction control, Traffic sign recognition, Xenon headlights'],\n",
       " ['ABS, Adaptive Cruise Control, Adaptive headlights, Bi-Xenon headlights, Blind spot monitor, Central door lock, Daytime running lights, Driver drowsiness detection, Driver-side airbag, Electronic stability control, Emergency brake assistant, Fog lights, Immobilizer, Isofix, LED Daytime Running Lights, LED Headlights, Lane departure warning system, Passenger-side airbag, Power steering, Side airbag, Tire pressure monitoring system, Traction control, Traffic sign recognition, Xenon headlights'],\n",
       " ['ABS, Central door lock, Central door lock with remote control, Daytime running lights, Driver-side airbag, Electronic stability control, Head airbag, Immobilizer, Isofix, LED Daytime Running Lights, Passenger-side airbag, Power steering, Side airbag, Tire pressure monitoring system, Traction control'],\n",
       " ['Driver-side airbag, Fog lights, Power steering'],\n",
       " ['ABS, Adaptive headlights, Bi-Xenon headlights, Blind spot monitor, Daytime running lights, Distance warning system, Driver-side airbag, Electronic stability control, Emergency brake assistant, Emergency system, Fog lights, Immobilizer, Isofix, LED Daytime Running Lights, LED Headlights, Passenger-side airbag, Traction control, Xenon headlights'],\n",
       " ['ABS, Adaptive headlights, Bi-Xenon headlights, Daytime running lights, Distance warning system, Driver drowsiness detection, Driver-side airbag, Electronic stability control, Fog lights, Immobilizer, Isofix, LED Daytime Running Lights, LED Headlights, Lane departure warning system, Passenger-side airbag, Power steering, Side airbag, Traffic sign recognition, Xenon headlights'],\n",
       " ['ABS, Adaptive headlights, Central door lock, Daytime running lights, Driver-side airbag, Electronic stability control, Emergency brake assistant, Fog lights, Head airbag, High beam assist, Immobilizer, Isofix, LED Daytime Running Lights, LED Headlights, Lane departure warning system, Passenger-side airbag, Power steering, Side airbag, Tire pressure monitoring system, Traction control, Traffic sign recognition'],\n",
       " ['ABS, Alarm system, Central door lock, Central door lock with remote control, Driver-side airbag, Electronic stability control, Fog lights, Head airbag, Immobilizer, Isofix, Passenger-side airbag, Side airbag, Tire pressure monitoring system'],\n",
       " ['ABS, Bi-Xenon headlights, Central door lock, Central door lock with remote control, Daytime running lights, Electronic stability control, Emergency brake assistant, Head airbag, Immobilizer, Isofix, LED Daytime Running Lights, Passenger-side airbag, Power steering, Side airbag, Tire pressure monitoring system, Traction control'],\n",
       " ['ABS, Central door lock, Daytime running lights, Driver-side airbag, Electronic stability control, Emergency brake assistant, Emergency system, Head airbag, Immobilizer, Isofix, Passenger-side airbag, Power steering, Side airbag, Speed limit control system, Tire pressure monitoring system, Traction control'],\n",
       " ['ABS, Adaptive Cruise Control, Adaptive headlights, Bi-Xenon headlights, Blind spot monitor, Central door lock, Daytime running lights, Distance warning system, Driver drowsiness detection, Driver-side airbag, Electronic stability control, Emergency brake assistant, Immobilizer, Isofix, LED Daytime Running Lights, LED Headlights, Lane departure warning system, Passenger-side airbag, Power steering, Side airbag, Tire pressure monitoring system, Traction control, Traffic sign recognition, Xenon headlights'],\n",
       " ['ABS, Adaptive headlights, Bi-Xenon headlights, Daytime running lights, Distance warning system, Driver drowsiness detection, Driver-side airbag, Electronic stability control, Emergency brake assistant, Fog lights, Immobilizer, Isofix, LED Daytime Running Lights, LED Headlights, Lane departure warning system, Passenger-side airbag, Power steering, Side airbag, Traffic sign recognition, Xenon headlights'],\n",
       " ['ABS, Central door lock, Central door lock with remote control, Daytime running lights, Driver-side airbag, Electronic stability control, Head airbag, Immobilizer, Isofix, Passenger-side airbag, Power steering, Side airbag, Speed limit control system, Tire pressure monitoring system, Traction control'],\n",
       " ['ABS, Central door lock, Central door lock with remote control, Daytime running lights, Driver drowsiness detection, Driver-side airbag, Electronic stability control, Emergency brake assistant, Emergency system, Fog lights, Full-LED headlights, Head airbag, High beam assist, Immobilizer, Isofix, LED Daytime Running Lights, LED Headlights, Lane departure warning system, Passenger-side airbag, Power steering, Rear airbag, Side airbag, Speed limit control system, Tire pressure monitoring system, Traction control, Traffic sign recognition'],\n",
       " ['ABS, Alarm system, Driver-side airbag, Electronic stability control, Fog lights, Head airbag, Immobilizer, Passenger-side airbag, Power steering, Side airbag, Traction control'],\n",
       " ['ABS, Central door lock, Central door lock with remote control, Daytime running lights, Driver-side airbag, Electronic stability control, Head airbag, Immobilizer, LED Daytime Running Lights, Passenger-side airbag, Side airbag, Tire pressure monitoring system'],\n",
       " ['ABS, Central door lock, Daytime running lights, Distance warning system, Driver-side airbag, Electronic stability control, Fog lights, Isofix, LED Daytime Running Lights, Passenger-side airbag, Power steering, Side airbag, Tire pressure monitoring system, Traction control'],\n",
       " ['ABS, Central door lock, Central door lock with remote control, Daytime running lights, Driver-side airbag, Electronic stability control, Head airbag, Immobilizer, Isofix, Passenger-side airbag, Power steering, Side airbag'],\n",
       " ['Driver-side airbag, Electronic stability control, Emergency system, Isofix'],\n",
       " ['ABS, Adaptive headlights, Bi-Xenon headlights, Blind spot monitor, Central door lock, Daytime running lights, Distance warning system, Driver drowsiness detection, Driver-side airbag, Electronic stability control, Emergency brake assistant, Fog lights, Immobilizer, Isofix, LED Daytime Running Lights, LED Headlights, Lane departure warning system, Passenger-side airbag, Power steering, Side airbag, Tire pressure monitoring system, Traffic sign recognition, Xenon headlights'],\n",
       " ['ABS, Blind spot monitor, Central door lock, Central door lock with remote control, Daytime running lights, Driver drowsiness detection, Electronic stability control, Emergency brake assistant, Full-LED headlights, Head airbag, High beam assist, Immobilizer, Isofix, LED Daytime Running Lights, LED Headlights, Lane departure warning system, Passenger-side airbag, Power steering, Side airbag, Speed limit control system, Tire pressure monitoring system, Traffic sign recognition'],\n",
       " ['ABS, Central door lock, Central door lock with remote control, Driver-side airbag, Isofix, Passenger-side airbag, Power steering, Side airbag'],\n",
       " ['ABS, Central door lock, Daytime running lights, Distance warning system, Driver-side airbag, Electronic stability control, Emergency brake assistant, Fog lights, Immobilizer, Isofix, Passenger-side airbag, Power steering, Side airbag, Tire pressure monitoring system, Traction control'],\n",
       " ['ABS, Alarm system, Central door lock, Central door lock with remote control, Daytime running lights, Driver-side airbag, Electronic stability control, Fog lights, Head airbag, Immobilizer, Isofix, LED Daytime Running Lights, Passenger-side airbag, Power steering, Side airbag, Traction control'],\n",
       " ['ABS, Alarm system, Central door lock, Electronic stability control, Fog lights, Immobilizer, Isofix, Power steering, Rear airbag, Side airbag'],\n",
       " ['ABS, Blind spot monitor, Central door lock, Central door lock with remote control, Daytime running lights, Distance warning system, Driver drowsiness detection, Driver-side airbag, Electronic stability control, Emergency brake assistant, Head airbag, High beam assist, Immobilizer, Isofix, LED Daytime Running Lights, LED Headlights, Lane departure warning system, Passenger-side airbag, Power steering, Side airbag, Speed limit control system, Tire pressure monitoring system, Traction control, Traffic sign recognition'],\n",
       " ['ABS, Central door lock, Central door lock with remote control, Daytime running lights, Distance warning system, Driver drowsiness detection, Driver-side airbag, Electronic stability control, Emergency brake assistant, Head airbag, High beam assist, Immobilizer, Isofix, LED Daytime Running Lights, LED Headlights, Lane departure warning system, Passenger-side airbag, Power steering, Side airbag, Speed limit control system, Tire pressure monitoring system, Traction control, Traffic sign recognition'],\n",
       " ['ABS, Adaptive Cruise Control, Adaptive headlights, Blind spot monitor, Central door lock, Central door lock with remote control, Daytime running lights, Driver drowsiness detection, Driver-side airbag, Electronic stability control, Emergency brake assistant, Emergency system, Fog lights, Full-LED headlights, Head airbag, High beam assist, Immobilizer, Isofix, LED Daytime Running Lights, LED Headlights, Lane departure warning system, Passenger-side airbag, Power steering, Rear airbag, Side airbag, Speed limit control system, Tire pressure monitoring system, Traction control, Traffic sign recognition'],\n",
       " ['ABS, Central door lock with remote control, Driver-side airbag, Electronic stability control, Fog lights, Head airbag, Immobilizer, Passenger-side airbag, Power steering, Side airbag'],\n",
       " ['ABS, Adaptive Cruise Control, Adaptive headlights, Bi-Xenon headlights, Blind spot monitor, Central door lock, Daytime running lights, Distance warning system, Driver drowsiness detection, Driver-side airbag, Electronic stability control, Emergency brake assistant, Emergency system, Immobilizer, LED Daytime Running Lights, LED Headlights, Lane departure warning system, Passenger-side airbag, Power steering, Side airbag, Tire pressure monitoring system, Traction control, Traffic sign recognition, Xenon headlights'],\n",
       " ['ABS, Adaptive Cruise Control, Adaptive headlights, Central door lock, Daytime running lights, Driver drowsiness detection, Driver-side airbag, Electronic stability control, Emergency brake assistant, Emergency system, Fog lights, Full-LED headlights, Glare-free high beam headlights, Head airbag, Immobilizer, Isofix, LED Daytime Running Lights, LED Headlights, Lane departure warning system, Passenger-side airbag, Power steering, Side airbag, Speed limit control system, Tire pressure monitoring system, Traction control, Traffic sign recognition'],\n",
       " ['ABS, Adaptive headlights, Alarm system, Central door lock, Central door lock with remote control, Daytime running lights, Distance warning system, Driver-side airbag, Electronic stability control, Emergency brake assistant, Emergency system, High beam assist, Immobilizer, LED Daytime Running Lights, LED Headlights, Lane departure warning system, Passenger-side airbag, Power steering, Side airbag, Speed limit control system, Tire pressure monitoring system, Traction control, Traffic sign recognition'],\n",
       " ['ABS, Central door lock, Central door lock with remote control, Daytime running lights, Driver-side airbag, Electronic stability control, Fog lights, Full-LED headlights, Head airbag, Immobilizer, Isofix, LED Daytime Running Lights, LED Headlights, Passenger-side airbag, Power steering, Side airbag, Speed limit control system, Tire pressure monitoring system, Traction control'],\n",
       " ['ABS, Central door lock, Central door lock with remote control, Daytime running lights, Driver-side airbag, Electronic stability control, Head airbag, Immobilizer, Isofix, Passenger-side airbag, Power steering, Side airbag, Tire pressure monitoring system, Traction control'],\n",
       " ['ABS, Central door lock, Driver-side airbag, Immobilizer, Power steering'],\n",
       " ['ABS, Central door lock, Central door lock with remote control, Driver-side airbag, Fog lights, Head airbag, Immobilizer, Isofix, Passenger-side airbag, Power steering, Side airbag'],\n",
       " ['ABS, Blind spot monitor, Daytime running lights, Driver drowsiness detection, Driver-side airbag, Electronic stability control, Emergency brake assistant, Fog lights, Immobilizer, LED Daytime Running Lights, Lane departure warning system, Passenger-side airbag, Side airbag, Speed limit control system, Traffic sign recognition'],\n",
       " ['Central door lock, Central door lock with remote control, Electronic stability control, Fog lights, LED Daytime Running Lights, Side airbag'],\n",
       " ['ABS, Central door lock, Daytime running lights, Driver-side airbag, Electronic stability control, Fog lights, Immobilizer, Passenger-side airbag, Power steering, Side airbag, Speed limit control system, Tire pressure monitoring system, Traction control'],\n",
       " ['ABS, Driver-side airbag, Electronic stability control, Emergency brake assistant, Immobilizer, Isofix, LED Daytime Running Lights, Passenger-side airbag, Side airbag, Traction control'],\n",
       " ['Driver-side airbag, Electronic stability control, Head airbag, Lane departure warning system, Side airbag, Tire pressure monitoring system'],\n",
       " ['ABS, Central door lock, Central door lock with remote control, Driver-side airbag, Power steering'],\n",
       " ['Alarm system, Distance warning system, Driver-side airbag, Immobilizer'],\n",
       " ['ABS, Central door lock with remote control, Driver-side airbag, Fog lights, Power steering'],\n",
       " ['Central door lock, Driver-side airbag, Fog lights, Power steering'],\n",
       " ['ABS, Daytime running lights, Driver-side airbag, Electronic stability control, Immobilizer, Passenger-side airbag, Power steering, Side airbag, Tire pressure monitoring system'],\n",
       " ['ABS, Central door lock, Daytime running lights, Driver-side airbag, Electronic stability control, Fog lights, Immobilizer, Isofix, Power steering, Side airbag, Tire pressure monitoring system, Traction control'],\n",
       " ['ABS, Adaptive Cruise Control, Adaptive headlights, Alarm system, Central door lock, Central door lock with remote control, Distance warning system, Driver drowsiness detection, Driver-side airbag, Electronic stability control, Emergency brake assistant, Emergency system, Fog lights, Full-LED headlights, Glare-free high beam headlights, Head airbag, High beam assist, Immobilizer, Isofix, LED Daytime Running Lights, LED Headlights, Lane departure warning system, Passenger-side airbag, Power steering, Rear airbag, Side airbag, Speed limit control system, Tire pressure monitoring system, Traction control, Traffic sign recognition'],\n",
       " ['ABS, Adaptive Cruise Control, Adaptive headlights, Alarm system, Central door lock, Central door lock with remote control, Distance warning system, Driver drowsiness detection, Driver-side airbag, Electronic stability control, Emergency brake assistant, Emergency system, Fog lights, Immobilizer, Isofix, LED Daytime Running Lights, Lane departure warning system, Passenger-side airbag, Power steering, Rear airbag, Side airbag, Speed limit control system, Tire pressure monitoring system, Traction control, Traffic sign recognition'],\n",
       " ['Adaptive Cruise Control, Central door lock, Driver-side airbag, Emergency brake assistant, Fog lights, Head airbag, LED Headlights, Lane departure warning system, Passenger-side airbag, Side airbag'],\n",
       " ['ABS, Alarm system, Central door lock, Daytime running lights, Electronic stability control, Fog lights, High beam assist, Isofix, Night view assist, Power steering, Tire pressure monitoring system, Traction control'],\n",
       " ['ABS, Adaptive headlights, Central door lock, Daytime running lights, Driver-side airbag, Electronic stability control, Fog lights, Immobilizer, Isofix, Passenger-side airbag, Power steering, Side airbag, Tire pressure monitoring system, Traction control'],\n",
       " ['ABS, Adaptive headlights, Central door lock, Daytime running lights, Driver drowsiness detection, Driver-side airbag, Electronic stability control, Emergency system, Fog lights, Full-LED headlights, Head airbag, High beam assist, Immobilizer, Isofix, LED Daytime Running Lights, LED Headlights, Lane departure warning system, Passenger-side airbag, Power steering, Side airbag, Speed limit control system, Tire pressure monitoring system, Traction control, Traffic sign recognition'],\n",
       " ['ABS, Adaptive Cruise Control, Bi-Xenon headlights, Central door lock, Daytime running lights, Driver drowsiness detection, Driver-side airbag, Electronic stability control, Emergency brake assistant, Fog lights, Immobilizer, Isofix, LED Daytime Running Lights, LED Headlights, Lane departure warning system, Passenger-side airbag, Power steering, Side airbag, Tire pressure monitoring system, Traction control, Traffic sign recognition, Xenon headlights'],\n",
       " ['ABS, Central door lock, Driver-side airbag, Electronic stability control, Fog lights, Head airbag, Immobilizer, Passenger-side airbag, Power steering'],\n",
       " ['ABS, Alarm system, Central door lock, Daytime running lights, Driver-side airbag, Electronic stability control, Emergency brake assistant, Head airbag, Immobilizer, LED Daytime Running Lights, LED Headlights, Passenger-side airbag, Power steering, Side airbag, Tire pressure monitoring system'],\n",
       " ['ABS, Alarm system, Central door lock, Central door lock with remote control, Driver-side airbag, Electronic stability control, Emergency brake assistant, Immobilizer, Passenger-side airbag, Power steering, Side airbag, Tire pressure monitoring system, Traction control, Xenon headlights'],\n",
       " ['ABS, Adaptive headlights, Alarm system, Central door lock, Daytime running lights, Driver-side airbag, Electronic stability control, Head airbag, Immobilizer, LED Daytime Running Lights, LED Headlights, Passenger-side airbag, Power steering, Side airbag, Tire pressure monitoring system'],\n",
       " ['ABS, Central door lock, Daytime running lights, Driver-side airbag, Electronic stability control, Fog lights, Immobilizer, Isofix, LED Daytime Running Lights, Passenger-side airbag, Power steering, Rear airbag, Side airbag, Tire pressure monitoring system, Traction control'],\n",
       " ['ABS, Adaptive headlights, Central door lock, Daytime running lights, Driver drowsiness detection, Driver-side airbag, Electronic stability control, Emergency brake assistant, Emergency system, Fog lights, Glare-free high beam headlights, Head airbag, Immobilizer, Isofix, LED Daytime Running Lights, Lane departure warning system, Passenger-side airbag, Power steering, Side airbag, Speed limit control system, Tire pressure monitoring system, Traction control, Traffic sign recognition'],\n",
       " ['ABS, Central door lock, Central door lock with remote control, Driver-side airbag, Fog lights, Immobilizer, Passenger-side airbag, Side airbag'],\n",
       " ['ABS, Central door lock, Daytime running lights, Distance warning system, Driver-side airbag, Electronic stability control, Emergency brake assistant, Fog lights, Immobilizer, Isofix, Lane departure warning system, Passenger-side airbag, Power steering, Side airbag, Tire pressure monitoring system, Traction control'],\n",
       " ['ABS, Alarm system, Fog lights, Side airbag'],\n",
       " ['ABS, Central door lock, Driver-side airbag, Electronic stability control, Fog lights, Immobilizer, Passenger-side airbag, Power steering, Side airbag, Tire pressure monitoring system, Traction control'],\n",
       " ['ABS, Central door lock, Driver-side airbag, Electronic stability control, Fog lights, Immobilizer, Isofix, Passenger-side airbag, Power steering, Side airbag, Tire pressure monitoring system'],\n",
       " ['ABS, Central door lock, Central door lock with remote control, Driver-side airbag, Electronic stability control, Emergency brake assistant, Fog lights, Immobilizer, Isofix, Passenger-side airbag, Power steering, Side airbag'],\n",
       " ['Central door lock, Driver-side airbag, Passenger-side airbag'],\n",
       " ['ABS, Central door lock, Daytime running lights, Driver-side airbag, Electronic stability control, Immobilizer, Passenger-side airbag, Power steering, Traction control'],\n",
       " ['ABS, Alarm system, Central door lock, Driver-side airbag, Electronic stability control, Fog lights, Isofix, Passenger-side airbag, Power steering, Side airbag, Xenon headlights'],\n",
       " ['ABS, Adaptive Cruise Control, Alarm system, Central door lock, Central door lock with remote control, Daytime running lights, Driver-side airbag, Electronic stability control, Fog lights, Head airbag, Isofix, LED Daytime Running Lights, LED Headlights, Lane departure warning system, Passenger-side airbag, Power steering, Side airbag, Traction control'],\n",
       " ['ABS, Alarm system, Central door lock, Central door lock with remote control, Driver-side airbag, Electronic stability control, Fog lights, Head airbag, Immobilizer, Passenger-side airbag, Power steering, Side airbag, Tire pressure monitoring system, Traction control, Xenon headlights'],\n",
       " ['ABS, Central door lock, Central door lock with remote control, Driver-side airbag, Electronic stability control, Fog lights, Isofix, Passenger-side airbag, Power steering, Side airbag'],\n",
       " ['ABS, Central door lock, Central door lock with remote control, Driver-side airbag, Electronic stability control, Fog lights, Immobilizer, Passenger-side airbag, Power steering, Side airbag, Tire pressure monitoring system, Traction control'],\n",
       " ['Driver-side airbag, Fog lights, Passenger-side airbag, Side airbag'],\n",
       " ['ABS, Alarm system, Central door lock, Electronic stability control, Fog lights, Full-LED headlights, High beam assist, Immobilizer, Isofix, LED Daytime Running Lights, LED Headlights, Lane departure warning system, Power steering, Tire pressure monitoring system'],\n",
       " ['ABS, Central door lock, Electronic stability control, Power steering, Rear airbag'],\n",
       " ['ABS, Adaptive Cruise Control, Alarm system, Blind spot monitor, Central door lock with remote control, Distance warning system, Driver drowsiness detection, Electronic stability control, Emergency brake assistant, Emergency system, Head airbag, Immobilizer, Isofix, LED Daytime Running Lights, LED Headlights, Lane departure warning system, Passenger-side airbag, Power steering, Side airbag, Speed limit control system, Tire pressure monitoring system, Traffic sign recognition'],\n",
       " ['ABS, Central door lock, Daytime running lights, Distance warning system, Driver drowsiness detection, Driver-side airbag, Electronic stability control, Emergency brake assistant, Fog lights, Immobilizer, Isofix, LED Daytime Running Lights, Lane departure warning system, Passenger-side airbag, Power steering, Side airbag, Tire pressure monitoring system, Traction control, Traffic sign recognition'],\n",
       " ['ABS, Central door lock, Daytime running lights, Distance warning system, Driver-side airbag, Electronic stability control, Emergency brake assistant, Emergency system, Fog lights, Head airbag, Immobilizer, Isofix, LED Daytime Running Lights, Passenger-side airbag, Power steering, Side airbag, Speed limit control system, Tire pressure monitoring system, Traction control'],\n",
       " ['ABS, Alarm system, Central door lock, Central door lock with remote control, Driver-side airbag, Electronic stability control, Fog lights, Head airbag, Immobilizer, Isofix, Passenger-side airbag, Power steering, Side airbag, Tire pressure monitoring system, Xenon headlights'],\n",
       " ['ABS, Central door lock, Electronic stability control, Immobilizer, Isofix, Power steering'],\n",
       " ['ABS, Driver-side airbag'],\n",
       " ['ABS, Central door lock, Driver-side airbag, Passenger-side airbag, Power steering, Rear airbag'],\n",
       " ['ABS, Adaptive Cruise Control, Adaptive headlights, Blind spot monitor, Central door lock, Central door lock with remote control, Distance warning system, Driver-side airbag, Electronic stability control, Emergency brake assistant, Emergency system, Isofix, LED Daytime Running Lights, LED Headlights, Lane departure warning system, Passenger-side airbag, Side airbag, Tire pressure monitoring system, Traction control, Traffic sign recognition'],\n",
       " ['ABS, Adaptive Cruise Control, Alarm system, Blind spot monitor, Central door lock, Central door lock with remote control, Distance warning system, Driver-side airbag, Electronic stability control, Emergency brake assistant, Immobilizer, Isofix, LED Daytime Running Lights, LED Headlights, Lane departure warning system, Passenger-side airbag, Power steering, Side airbag, Tire pressure monitoring system, Traction control, Traffic sign recognition'],\n",
       " ['ABS, Adaptive headlights, Central door lock, Daytime running lights, Distance warning system, Driver drowsiness detection, Driver-side airbag, Electronic stability control, Emergency brake assistant, Emergency system, Fog lights, Full-LED headlights, Head airbag, Immobilizer, Isofix, LED Daytime Running Lights, LED Headlights, Lane departure warning system, Passenger-side airbag, Power steering, Side airbag, Speed limit control system, Tire pressure monitoring system, Traction control'],\n",
       " ['ABS, Adaptive Cruise Control, Central door lock, Daytime running lights, Distance warning system, Driver drowsiness detection, Driver-side airbag, Electronic stability control, Emergency brake assistant, Fog lights, Head airbag, High beam assist, Immobilizer, Isofix, LED Daytime Running Lights, LED Headlights, Lane departure warning system, Passenger-side airbag, Power steering, Side airbag, Tire pressure monitoring system, Traction control'],\n",
       " ['ABS, Alarm system, Central door lock, Driver-side airbag, Electronic stability control, Head airbag, Immobilizer, Passenger-side airbag, Power steering, Side airbag, Tire pressure monitoring system, Xenon headlights'],\n",
       " ['ABS, Central door lock, Daytime running lights, Distance warning system, Driver-side airbag, Electronic stability control, Emergency brake assistant, Emergency system, Fog lights, Immobilizer, Isofix, LED Daytime Running Lights, LED Headlights, Lane departure warning system, Passenger-side airbag, Power steering, Side airbag, Speed limit control system, Tire pressure monitoring system, Traction control'],\n",
       " ['ABS, Adaptive Cruise Control, Adaptive headlights, Central door lock, Daytime running lights, Distance warning system, Driver drowsiness detection, Driver-side airbag, Electronic stability control, Emergency brake assistant, Emergency system, Fog lights, Glare-free high beam headlights, Head airbag, Immobilizer, Isofix, LED Daytime Running Lights, Lane departure warning system, Passenger-side airbag, Power steering, Side airbag, Speed limit control system, Tire pressure monitoring system, Traffic sign recognition, Xenon headlights'],\n",
       " ['ABS, Adaptive headlights, Bi-Xenon headlights, Central door lock, Daytime running lights, Distance warning system, Driver-side airbag, Electronic stability control, Emergency brake assistant, Emergency system, Fog lights, Immobilizer, Isofix, LED Daytime Running Lights, LED Headlights, Lane departure warning system, Passenger-side airbag, Power steering, Side airbag, Tire pressure monitoring system, Traction control, Xenon headlights'],\n",
       " ['ABS, Driver-side airbag, Electronic stability control, Emergency brake assistant, Fog lights, Immobilizer, Isofix, LED Daytime Running Lights, Passenger-side airbag, Power steering, Side airbag, Tire pressure monitoring system, Traction control'],\n",
       " ['ABS, Adaptive Cruise Control, Blind spot monitor, Central door lock, Central door lock with remote control, Daytime running lights, Distance warning system, Driver drowsiness detection, Driver-side airbag, Electronic stability control, Emergency brake assistant, Emergency system, Fog lights, High beam assist, Immobilizer, LED Daytime Running Lights, LED Headlights, Lane departure warning system, Passenger-side airbag, Power steering, Side airbag, Speed limit control system, Tire pressure monitoring system, Traction control, Traffic sign recognition'],\n",
       " ['ABS, Adaptive Cruise Control, Central door lock, Daytime running lights, Distance warning system, Driver-side airbag, Electronic stability control, Emergency brake assistant, Emergency system, Fog lights, Full-LED headlights, Head airbag, Immobilizer, Isofix, LED Daytime Running Lights, LED Headlights, Lane departure warning system, Passenger-side airbag, Power steering, Side airbag, Speed limit control system, Tire pressure monitoring system, Traction control, Traffic sign recognition'],\n",
       " ['ABS, Adaptive Cruise Control, Central door lock, Daytime running lights, Distance warning system, Driver drowsiness detection, Driver-side airbag, Electronic stability control, Emergency brake assistant, Fog lights, Full-LED headlights, Head airbag, High beam assist, Immobilizer, Isofix, LED Daytime Running Lights, LED Headlights, Lane departure warning system, Passenger-side airbag, Power steering, Side airbag, Speed limit control system, Tire pressure monitoring system, Traction control, Traffic sign recognition'],\n",
       " ['ABS, Adaptive Cruise Control, Blind spot monitor, Central door lock, Daytime running lights, Driver-side airbag, Electronic stability control, Emergency brake assistant, Emergency system, Fog lights, Full-LED headlights, Head airbag, High beam assist, Immobilizer, Isofix, LED Daytime Running Lights, LED Headlights, Lane departure warning system, Passenger-side airbag, Power steering, Side airbag, Speed limit control system, Tire pressure monitoring system, Traction control, Traffic sign recognition'],\n",
       " ['ABS, Central door lock, Daytime running lights, Driver-side airbag, Electronic stability control, Fog lights, Immobilizer, Isofix, LED Daytime Running Lights, Passenger-side airbag, Power steering, Rear airbag, Side airbag, Speed limit control system, Tire pressure monitoring system, Traction control'],\n",
       " ['ABS, Central door lock, Driver-side airbag, Electronic stability control, Emergency system, Fog lights, Immobilizer, Isofix, LED Daytime Running Lights, LED Headlights, Passenger-side airbag, Power steering, Rear airbag, Side airbag, Speed limit control system, Tire pressure monitoring system, Traction control'],\n",
       " ['ABS, Adaptive Cruise Control, Blind spot monitor, Central door lock, Central door lock with remote control, Daytime running lights, Distance warning system, Driver-side airbag, Electronic stability control, Emergency brake assistant, Emergency system, Fog lights, High beam assist, Immobilizer, LED Daytime Running Lights, LED Headlights, Lane departure warning system, Passenger-side airbag, Power steering, Side airbag, Tire pressure monitoring system, Traction control, Traffic sign recognition'],\n",
       " ['ABS, Bi-Xenon headlights, Blind spot monitor, Central door lock, Daytime running lights, Distance warning system, Driver-side airbag, Electronic stability control, Fog lights, Immobilizer, Isofix, LED Daytime Running Lights, LED Headlights, Passenger-side airbag, Power steering, Side airbag, Tire pressure monitoring system, Traction control, Xenon headlights'],\n",
       " ['ABS, Blind spot monitor, Central door lock, Central door lock with remote control, Driver-side airbag, Electronic stability control, Emergency brake assistant, Emergency system, Fog lights, Immobilizer, Isofix, LED Daytime Running Lights, Passenger-side airbag, Tire pressure monitoring system, Traction control'],\n",
       " ['Fog lights, Isofix'],\n",
       " ['ABS, Central door lock, Daytime running lights, Emergency brake assistant, Fog lights, Isofix, Passenger-side airbag, Power steering, Side airbag, Tire pressure monitoring system'],\n",
       " ['ABS, Driver-side airbag, Electronic stability control, Fog lights, Isofix, Power steering'],\n",
       " ['ABS, Central door lock, Daytime running lights, Driver-side airbag, Electronic stability control, Head airbag, Immobilizer, Isofix, LED Daytime Running Lights, Passenger-side airbag, Power steering, Side airbag, Traction control'],\n",
       " ['ABS, Central door lock, Daytime running lights, Distance warning system, Driver-side airbag, Electronic stability control, Emergency brake assistant, Fog lights, High beam assist, Immobilizer, Lane departure warning system, Passenger-side airbag, Power steering, Side airbag, Traction control, Traffic sign recognition'],\n",
       " ['ABS, Driver-side airbag, Immobilizer, Power steering'],\n",
       " ['ABS, Alarm system, Driver-side airbag, Fog lights, Immobilizer, Isofix, Passenger-side airbag, Power steering, Traction control'],\n",
       " ['ABS, Adaptive Cruise Control, Central door lock, Daytime running lights, Distance warning system, Driver drowsiness detection, Driver-side airbag, Electronic stability control, Emergency brake assistant, Emergency system, Fog lights, Full-LED headlights, Glare-free high beam headlights, Immobilizer, Isofix, LED Daytime Running Lights, LED Headlights, Lane departure warning system, Passenger-side airbag, Power steering, Side airbag, Speed limit control system, Tire pressure monitoring system, Traction control, Traffic sign recognition'],\n",
       " ['ABS, Adaptive Cruise Control, Alarm system, Daytime running lights, Driver drowsiness detection, Driver-side airbag, Electronic stability control, Emergency brake assistant, Fog lights, Head airbag, High beam assist, Immobilizer, LED Daytime Running Lights, LED Headlights, Lane departure warning system, Passenger-side airbag, Power steering, Side airbag, Tire pressure monitoring system, Traction control, Traffic sign recognition'],\n",
       " ['ABS, Central door lock, Central door lock with remote control, Driver-side airbag, Fog lights, Immobilizer, Passenger-side airbag, Power steering, Traction control'],\n",
       " ['ABS, Central door lock, Driver-side airbag, Electronic stability control, Fog lights, Immobilizer, Isofix, Power steering, Rear airbag, Side airbag, Traction control'],\n",
       " ['ABS, Adaptive Cruise Control, Adaptive headlights, Bi-Xenon headlights, Central door lock, Daytime running lights, Distance warning system, Driver-side airbag, Electronic stability control, Emergency brake assistant, Emergency system, Fog lights, Immobilizer, Isofix, LED Daytime Running Lights, LED Headlights, Lane departure warning system, Passenger-side airbag, Power steering, Side airbag, Tire pressure monitoring system, Traction control, Traffic sign recognition, Xenon headlights'],\n",
       " ['ABS, Adaptive headlights, Central door lock, Daytime running lights, Driver-side airbag, Electronic stability control, Emergency brake assistant, Fog lights, Head airbag, Immobilizer, LED Daytime Running Lights, LED Headlights, Lane departure warning system, Passenger-side airbag, Power steering, Side airbag, Tire pressure monitoring system, Traffic sign recognition'],\n",
       " ['ABS, Power steering, Side airbag, Traction control'],\n",
       " ['ABS, Adaptive headlights, Bi-Xenon headlights, Central door lock, Daytime running lights, Distance warning system, Driver drowsiness detection, Driver-side airbag, Electronic stability control, Emergency brake assistant, Fog lights, Immobilizer, Isofix, LED Daytime Running Lights, LED Headlights, Passenger-side airbag, Power steering, Side airbag, Tire pressure monitoring system, Traction control, Traffic sign recognition, Xenon headlights'],\n",
       " ['ABS, Central door lock, Daytime running lights, Distance warning system, Driver-side airbag, Electronic stability control, Emergency brake assistant, Immobilizer, Isofix, Passenger-side airbag, Power steering, Side airbag, Tire pressure monitoring system, Traction control'],\n",
       " ['Central door lock, Power steering, Side airbag, Traction control'],\n",
       " ['ABS, Central door lock with remote control, Distance warning system, Driver-side airbag, Electronic stability control, Emergency brake assistant, Head airbag, Isofix, LED Daytime Running Lights, Power steering, Rear airbag, Side airbag, Speed limit control system, Tire pressure monitoring system, Traction control'],\n",
       " ['ABS, Adaptive Cruise Control, Bi-Xenon headlights, Central door lock, Daytime running lights, Distance warning system, Driver-side airbag, Electronic stability control, Emergency brake assistant, Fog lights, Immobilizer, Isofix, LED Daytime Running Lights, LED Headlights, Passenger-side airbag, Power steering, Side airbag, Tire pressure monitoring system, Traction control, Xenon headlights'],\n",
       " ['ABS, Central door lock, Fog lights, Immobilizer, Isofix, Passenger-side airbag, Power steering, Side airbag'],\n",
       " ['ABS, Adaptive Cruise Control, Adaptive headlights, Blind spot monitor, Central door lock, Central door lock with remote control, Daytime running lights, Distance warning system, Driver drowsiness detection, Driver-side airbag, Electronic stability control, Emergency brake assistant, Emergency system, Fog lights, Full-LED headlights, Head airbag, High beam assist, Immobilizer, Isofix, LED Daytime Running Lights, LED Headlights, Lane departure warning system, Passenger-side airbag, Power steering, Side airbag, Speed limit control system, Tire pressure monitoring system, Traction control, Traffic sign recognition'],\n",
       " ['ABS, Adaptive Cruise Control, Adaptive headlights, Blind spot monitor, Central door lock, Central door lock with remote control, Daytime running lights, Distance warning system, Driver drowsiness detection, Driver-side airbag, Electronic stability control, Emergency brake assistant, Emergency system, Fog lights, Full-LED headlights, Glare-free high beam headlights, Head airbag, High beam assist, Immobilizer, Isofix, LED Daytime Running Lights, LED Headlights, Lane departure warning system, Passenger-side airbag, Power steering, Side airbag, Tire pressure monitoring system, Traction control, Traffic sign recognition'],\n",
       " ['ABS, Adaptive Cruise Control, Central door lock, Driver drowsiness detection, Driver-side airbag, Electronic stability control, Emergency brake assistant, Emergency system, Fog lights, Head airbag, High beam assist, Immobilizer, Isofix, LED Daytime Running Lights, LED Headlights, Lane departure warning system, Passenger-side airbag, Power steering, Side airbag, Tire pressure monitoring system, Traction control, Traffic sign recognition'],\n",
       " ['ABS, Adaptive Cruise Control, Adaptive headlights, Alarm system, Central door lock, Central door lock with remote control, Daytime running lights, Driver drowsiness detection, Driver-side airbag, Electronic stability control, Fog lights, Head airbag, High beam assist, Immobilizer, Isofix, LED Daytime Running Lights, LED Headlights, Lane departure warning system, Passenger-side airbag, Power steering, Side airbag, Tire pressure monitoring system, Traction control, Traffic sign recognition'],\n",
       " ['ABS, Central door lock, Driver-side airbag, Electronic stability control, Fog lights, Head airbag, High beam assist, Immobilizer, Isofix, Lane departure warning system, Passenger-side airbag, Power steering, Side airbag, Traction control'],\n",
       " ['ABS, Adaptive Cruise Control, Adaptive headlights, Alarm system, Blind spot monitor, Central door lock, Daytime running lights, Driver drowsiness detection, Driver-side airbag, Electronic stability control, Emergency brake assistant, Emergency system, Fog lights, Immobilizer, Isofix, LED Daytime Running Lights, LED Headlights, Lane departure warning system, Passenger-side airbag, Power steering, Side airbag, Tire pressure monitoring system, Traction control, Traffic sign recognition'],\n",
       " ['ABS, Alarm system, Central door lock, Driver-side airbag, Fog lights, Isofix, Power steering, Rear airbag, Side airbag, Traction control'],\n",
       " ['ABS, Driver-side airbag, Electronic stability control, Emergency brake assistant, Emergency system, Immobilizer, Isofix, LED Daytime Running Lights, LED Headlights, Lane departure warning system, Passenger-side airbag, Side airbag, Tire pressure monitoring system, Traction control'],\n",
       " ['ABS, Blind spot monitor, Central door lock, Daytime running lights, Driver-side airbag, Electronic stability control, Emergency brake assistant, Fog lights, Head airbag, Immobilizer, Isofix, LED Daytime Running Lights, LED Headlights, Lane departure warning system, Passenger-side airbag, Power steering, Side airbag, Tire pressure monitoring system, Traffic sign recognition'],\n",
       " ['ABS, Alarm system, Central door lock, Daytime running lights, Driver-side airbag, Electronic stability control, Immobilizer, Isofix, Passenger-side airbag, Power steering, Side airbag, Tire pressure monitoring system, Traction control'],\n",
       " ['ABS, Central door lock with remote control, Distance warning system, Driver-side airbag, Electronic stability control, Emergency brake assistant, Emergency system, Fog lights, Immobilizer, Isofix, LED Daytime Running Lights, LED Headlights, Lane departure warning system, Passenger-side airbag, Side airbag, Tire pressure monitoring system, Traction control, Traffic sign recognition'],\n",
       " ['ABS, Central door lock, Central door lock with remote control, Distance warning system, Driver-side airbag, Electronic stability control, Emergency brake assistant, Fog lights, Immobilizer, Isofix, LED Daytime Running Lights, LED Headlights, Passenger-side airbag, Side airbag, Tire pressure monitoring system, Traction control, Traffic sign recognition'],\n",
       " ['ABS, Central door lock, Driver-side airbag, Electronic stability control, Fog lights, Immobilizer, Isofix, Passenger-side airbag, Power steering, Rear airbag, Side airbag'],\n",
       " ['ABS, Driver-side airbag, Electronic stability control, Emergency brake assistant, Fog lights, Immobilizer, Isofix, LED Headlights, Passenger-side airbag'],\n",
       " ['ABS, Adaptive headlights, Alarm system, Bi-Xenon headlights, Blind spot monitor, Central door lock, Daytime running lights, Distance warning system, Driver drowsiness detection, Driver-side airbag, Electronic stability control, Emergency brake assistant, Emergency system, Fog lights, Immobilizer, Isofix, LED Daytime Running Lights, LED Headlights, Lane departure warning system, Passenger-side airbag, Power steering, Side airbag, Tire pressure monitoring system, Traction control, Traffic sign recognition, Xenon headlights'],\n",
       " ['ABS, Adaptive Cruise Control, Blind spot monitor, Central door lock with remote control, Distance warning system, Driver drowsiness detection, Electronic stability control, Emergency brake assistant, Emergency system, Fog lights, Glare-free high beam headlights, Head airbag, Immobilizer, Isofix, LED Daytime Running Lights, Lane departure warning system, Passenger-side airbag, Power steering, Side airbag, Speed limit control system, Tire pressure monitoring system, Traffic sign recognition'],\n",
       " ['ABS, Central door lock, Daytime running lights, Driver-side airbag, Electronic stability control, Emergency brake assistant, Fog lights, Head airbag, Immobilizer, LED Daytime Running Lights, Passenger-side airbag, Power steering, Side airbag, Tire pressure monitoring system'],\n",
       " ['ABS, Adaptive headlights, Bi-Xenon headlights, Central door lock, Daytime running lights, Distance warning system, Driver drowsiness detection, Driver-side airbag, Electronic stability control, Emergency brake assistant, Emergency system, Fog lights, Immobilizer, Isofix, LED Daytime Running Lights, LED Headlights, Passenger-side airbag, Power steering, Side airbag, Tire pressure monitoring system, Traction control, Traffic sign recognition, Xenon headlights'],\n",
       " ['ABS, Adaptive headlights, Central door lock, Driver-side airbag, Electronic stability control, Fog lights, Isofix, Passenger-side airbag, Power steering, Side airbag'],\n",
       " ['ABS, Central door lock, Daytime running lights, Distance warning system, Driver-side airbag, Electronic stability control, Emergency brake assistant, Emergency system, Fog lights, Head airbag, High beam assist, Immobilizer, Isofix, LED Daytime Running Lights, LED Headlights, Lane departure warning system, Passenger-side airbag, Power steering, Side airbag, Speed limit control system, Tire pressure monitoring system, Traction control, Traffic sign recognition'],\n",
       " ['ABS, Adaptive headlights, Alarm system, Blind spot monitor, Central door lock, Central door lock with remote control, Daytime running lights, Distance warning system, Driver drowsiness detection, Driver-side airbag, Electronic stability control, Emergency brake assistant, Emergency system, Fog lights, Full-LED headlights, Head airbag, High beam assist, Immobilizer, Isofix, LED Daytime Running Lights, LED Headlights, Lane departure warning system, Passenger-side airbag, Power steering, Rear airbag, Side airbag, Speed limit control system, Tire pressure monitoring system, Traction control, Traffic sign recognition'],\n",
       " ['Driver-side airbag, Immobilizer, Passenger-side airbag'],\n",
       " ['ABS, Central door lock, Daytime running lights, Driver-side airbag, Electronic stability control, Immobilizer, Isofix, LED Daytime Running Lights, Passenger-side airbag, Power steering, Side airbag, Tire pressure monitoring system'],\n",
       " ['ABS, Driver-side airbag, Fog lights, Isofix, Power steering, Side airbag'],\n",
       " ['ABS, Alarm system, Central door lock, Central door lock with remote control, Driver-side airbag, Electronic stability control, Fog lights, Immobilizer, Passenger-side airbag, Side airbag, Traction control'],\n",
       " ['ABS, Adaptive headlights, Central door lock, Central door lock with remote control, Driver-side airbag, Electronic stability control, Fog lights, Isofix, Passenger-side airbag, Side airbag, Traction control, Xenon headlights'],\n",
       " ['ABS, Central door lock, Central door lock with remote control, Driver-side airbag, Electronic stability control, Fog lights, Isofix, Passenger-side airbag, Power steering, Side airbag, Traction control, Xenon headlights'],\n",
       " ['ABS, Central door lock with remote control, Driver-side airbag, Head airbag, Immobilizer, Passenger-side airbag, Power steering, Side airbag'],\n",
       " ['ABS, Alarm system, Central door lock, Central door lock with remote control, Daytime running lights, Driver-side airbag, Electronic stability control, Emergency brake assistant, Immobilizer, Isofix, LED Daytime Running Lights, Passenger-side airbag, Power steering, Side airbag, Tire pressure monitoring system, Traction control'],\n",
       " ['ABS, Adaptive headlights, Bi-Xenon headlights, Blind spot monitor, Central door lock, Central door lock with remote control, Driver-side airbag, Electronic stability control, Fog lights, Head airbag, Immobilizer, Passenger-side airbag, Side airbag, Traction control, Xenon headlights'],\n",
       " ['ABS, Alarm system, Central door lock, Central door lock with remote control, Daytime running lights, Driver-side airbag, Electronic stability control, Fog lights, Immobilizer, LED Daytime Running Lights, Passenger-side airbag, Side airbag, Traction control'],\n",
       " ['ABS, Driver-side airbag, Electronic stability control, Emergency brake assistant, Immobilizer, LED Headlights, Passenger-side airbag, Power steering, Side airbag, Tire pressure monitoring system, Traction control'],\n",
       " ['ABS, Adaptive headlights, Alarm system, Bi-Xenon headlights, Central door lock, Central door lock with remote control, Driver-side airbag, Electronic stability control, Fog lights, Head airbag, Immobilizer, Passenger-side airbag, Side airbag, Traction control, Xenon headlights'],\n",
       " ['ABS, Adaptive headlights, Central door lock, Central door lock with remote control, Daytime running lights, Driver-side airbag, Electronic stability control, Head airbag, Immobilizer, LED Daytime Running Lights, LED Headlights, Passenger-side airbag, Power steering, Side airbag, Tire pressure monitoring system, Traction control'],\n",
       " ['ABS, Alarm system, Central door lock, Central door lock with remote control, Daytime running lights, Driver-side airbag, Electronic stability control, Emergency brake assistant, Immobilizer, Isofix, LED Daytime Running Lights, LED Headlights, Passenger-side airbag, Power steering, Side airbag, Tire pressure monitoring system, Traction control'],\n",
       " ['ABS, Central door lock, Central door lock with remote control, Daytime running lights, Driver-side airbag, Electronic stability control, Head airbag, Immobilizer, LED Daytime Running Lights, Passenger-side airbag, Power steering, Side airbag, Traction control'],\n",
       " ['ABS, Adaptive headlights, Central door lock, Central door lock with remote control, Distance warning system, Driver-side airbag, Electronic stability control, Emergency brake assistant, Immobilizer, Isofix, LED Daytime Running Lights, LED Headlights, Passenger-side airbag, Side airbag, Tire pressure monitoring system, Traction control'],\n",
       " ['ABS, Alarm system, Central door lock, Central door lock with remote control, Driver-side airbag, Electronic stability control, Fog lights, Immobilizer, Passenger-side airbag, Power steering, Side airbag, Tire pressure monitoring system, Traction control'],\n",
       " ['ABS, Adaptive headlights, Alarm system, Central door lock, Central door lock with remote control, Daytime running lights, Driver-side airbag, Electronic stability control, Emergency brake assistant, Head airbag, Immobilizer, Isofix, LED Daytime Running Lights, LED Headlights, Passenger-side airbag, Power steering, Side airbag, Tire pressure monitoring system, Traction control'],\n",
       " ['ABS, Alarm system, Daytime running lights, Driver-side airbag, Electronic stability control, Emergency brake assistant, Head airbag, LED Daytime Running Lights, LED Headlights, Passenger-side airbag, Power steering, Side airbag, Tire pressure monitoring system, Traction control'],\n",
       " ['ABS, Central door lock, Central door lock with remote control, Driver-side airbag, Electronic stability control, Emergency brake assistant, Fog lights, Head airbag, Immobilizer, Passenger-side airbag, Power steering, Side airbag, Traction control'],\n",
       " ['ABS, Alarm system, Central door lock, Central door lock with remote control, Daytime running lights, Driver-side airbag, Electronic stability control, Emergency brake assistant, Fog lights, Head airbag, Immobilizer, Isofix, LED Daytime Running Lights, LED Headlights, Passenger-side airbag, Power steering, Side airbag, Tire pressure monitoring system, Traction control'],\n",
       " ['ABS, Adaptive headlights, Alarm system, Bi-Xenon headlights, Central door lock, Central door lock with remote control, Daytime running lights, Driver-side airbag, Electronic stability control, Emergency brake assistant, Head airbag, Immobilizer, LED Daytime Running Lights, Passenger-side airbag, Power steering, Side airbag, Tire pressure monitoring system, Traction control, Xenon headlights'],\n",
       " ['ABS, Driver-side airbag, Fog lights, Immobilizer, Isofix, Passenger-side airbag, Power steering, Side airbag'],\n",
       " ['ABS, Alarm system, Daytime running lights, Driver-side airbag, Electronic stability control, Emergency brake assistant, Head airbag, LED Daytime Running Lights, Passenger-side airbag, Power steering, Side airbag, Tire pressure monitoring system, Traction control'],\n",
       " ['ABS, Central door lock, Driver-side airbag, Electronic stability control, Fog lights, Immobilizer, Isofix, Passenger-side airbag, Power steering, Side airbag, Tire pressure monitoring system, Traction control, Xenon headlights'],\n",
       " ['ABS, Central door lock, Daytime running lights, Distance warning system, Driver-side airbag, Electronic stability control, Emergency brake assistant, Emergency system, Full-LED headlights, Head airbag, High beam assist, Immobilizer, Isofix, LED Daytime Running Lights, LED Headlights, Lane departure warning system, Passenger-side airbag, Power steering, Side airbag, Speed limit control system, Tire pressure monitoring system, Traction control, Traffic sign recognition'],\n",
       " ['Electronic stability control, Fog lights, Tire pressure monitoring system'],\n",
       " ['ABS, Central door lock, Central door lock with remote control, Driver-side airbag, Electronic stability control, Fog lights, Head airbag, Immobilizer, Passenger-side airbag, Power steering, Side airbag, Xenon headlights'],\n",
       " ['ABS, Central door lock, Central door lock with remote control, Daytime running lights, Driver-side airbag, Electronic stability control, Emergency brake assistant, Fog lights, Head airbag, Immobilizer, Isofix, LED Daytime Running Lights, LED Headlights, Lane departure warning system, Passenger-side airbag, Power steering, Rear airbag, Side airbag, Tire pressure monitoring system, Traction control, Traffic sign recognition'],\n",
       " ['Alarm system, Central door lock, Fog lights, Power steering'],\n",
       " ['ABS, Bi-Xenon headlights, Central door lock, Daytime running lights, Driver-side airbag, Electronic stability control, Fog lights, Immobilizer, Isofix, Passenger-side airbag, Power steering, Side airbag, Speed limit control system, Tire pressure monitoring system, Traction control'],\n",
       " ['ABS, Central door lock, Central door lock with remote control, Driver-side airbag, Electronic stability control, Fog lights, Head airbag, Immobilizer, Isofix, LED Daytime Running Lights, LED Headlights, Passenger-side airbag, Power steering, Side airbag, Tire pressure monitoring system, Traction control'],\n",
       " ['ABS, Central door lock, Daytime running lights, Driver-side airbag, Electronic stability control, Fog lights, Head airbag, High beam assist, Isofix, Passenger-side airbag, Power steering, Side airbag, Tire pressure monitoring system'],\n",
       " ['ABS, Central door lock, Central door lock with remote control, Driver-side airbag, Electronic stability control, Head airbag, Immobilizer, Passenger-side airbag, Power steering, Side airbag, Tire pressure monitoring system, Traction control'],\n",
       " ['ABS, Central door lock, Central door lock with remote control, Daytime running lights, Driver-side airbag, Fog lights, Immobilizer, Passenger-side airbag, Power steering, Side airbag'],\n",
       " ['ABS, Bi-Xenon headlights, Blind spot monitor, Central door lock, Daytime running lights, Distance warning system, Driver drowsiness detection, Driver-side airbag, Electronic stability control, Emergency brake assistant, Immobilizer, Isofix, LED Daytime Running Lights, LED Headlights, Lane departure warning system, Passenger-side airbag, Power steering, Side airbag, Tire pressure monitoring system, Traction control, Traffic sign recognition, Xenon headlights'],\n",
       " ['ABS, Adaptive Cruise Control, Central door lock, Daytime running lights, Distance warning system, Driver drowsiness detection, Driver-side airbag, Electronic stability control, Emergency brake assistant, Emergency system, Fog lights, Head airbag, High beam assist, Immobilizer, Isofix, LED Daytime Running Lights, Lane departure warning system, Passenger-side airbag, Power steering, Side airbag, Speed limit control system, Tire pressure monitoring system, Traction control, Traffic sign recognition'],\n",
       " ['ABS, Central door lock, Daytime running lights, Distance warning system, Driver-side airbag, Electronic stability control, Emergency brake assistant, Fog lights, Full-LED headlights, Head airbag, High beam assist, Immobilizer, Isofix, LED Daytime Running Lights, LED Headlights, Lane departure warning system, Passenger-side airbag, Power steering, Side airbag, Speed limit control system, Tire pressure monitoring system, Traction control, Traffic sign recognition'],\n",
       " ['ABS, Adaptive headlights, Blind spot monitor, Central door lock, Central door lock with remote control, Daytime running lights, Distance warning system, Driver-side airbag, Electronic stability control, Emergency brake assistant, Fog lights, Full-LED headlights, Head airbag, High beam assist, Immobilizer, Isofix, LED Headlights, Lane departure warning system, Passenger-side airbag, Power steering, Side airbag, Speed limit control system, Tire pressure monitoring system, Traction control'],\n",
       " ['ABS, Central door lock, Central door lock with remote control, Driver-side airbag, Fog lights, Power steering, Side airbag'],\n",
       " ['ABS, Blind spot monitor, Central door lock, Daytime running lights, Distance warning system, Driver-side airbag, Electronic stability control, Emergency brake assistant, Fog lights, Immobilizer, Isofix, LED Daytime Running Lights, Passenger-side airbag, Power steering, Side airbag, Tire pressure monitoring system, Traction control'],\n",
       " ['ABS, Bi-Xenon headlights, Central door lock, Daytime running lights, Distance warning system, Driver-side airbag, Electronic stability control, Emergency brake assistant, Immobilizer, Isofix, LED Daytime Running Lights, LED Headlights, Lane departure warning system, Passenger-side airbag, Power steering, Side airbag, Tire pressure monitoring system, Traction control, Xenon headlights'],\n",
       " ['ABS, Adaptive Cruise Control, Adaptive headlights, Blind spot monitor, Central door lock, Central door lock with remote control, Daytime running lights, Distance warning system, Driver-side airbag, Electronic stability control, Emergency brake assistant, Emergency system, Fog lights, Full-LED headlights, Head airbag, High beam assist, Immobilizer, Isofix, LED Daytime Running Lights, LED Headlights, Lane departure warning system, Passenger-side airbag, Power steering, Rear airbag, Side airbag, Tire pressure monitoring system, Traction control, Traffic sign recognition'],\n",
       " ['ABS, Adaptive Cruise Control, Adaptive headlights, Central door lock, Daytime running lights, Distance warning system, Driver-side airbag, Electronic stability control, Emergency brake assistant, Emergency system, Glare-free high beam headlights, High beam assist, Immobilizer, Isofix, LED Daytime Running Lights, LED Headlights, Lane departure warning system, Passenger-side airbag, Power steering, Side airbag, Speed limit control system, Tire pressure monitoring system, Traction control, Traffic sign recognition'],\n",
       " ['ABS, Adaptive headlights, Alarm system, Central door lock, Central door lock with remote control, Distance warning system, Driver-side airbag, Emergency brake assistant, Emergency system, Fog lights, Glare-free high beam headlights, High beam assist, Immobilizer, Passenger-side airbag, Power steering, Side airbag'],\n",
       " ['ABS, Adaptive headlights, Bi-Xenon headlights, Central door lock, Daytime running lights, Driver-side airbag, Electronic stability control, Fog lights, Immobilizer, Isofix, Passenger-side airbag, Power steering, Side airbag, Traction control'],\n",
       " ['ABS, Central door lock with remote control, Driver-side airbag, Electronic stability control, Fog lights, Head airbag, Immobilizer, Isofix, Passenger-side airbag, Power steering, Side airbag, Xenon headlights'],\n",
       " ['ABS, Central door lock, Daytime running lights, Driver-side airbag, Electronic stability control, Immobilizer, Isofix, LED Daytime Running Lights, LED Headlights, Passenger-side airbag, Power steering, Side airbag, Speed limit control system, Tire pressure monitoring system, Traction control'],\n",
       " ['ABS, Central door lock, Central door lock with remote control, Driver-side airbag, Electronic stability control, Fog lights, Head airbag, Immobilizer, Passenger-side airbag, Power steering, Side airbag, Traction control, Xenon headlights'],\n",
       " ['ABS, Adaptive headlights, Bi-Xenon headlights, Central door lock, Daytime running lights, Driver-side airbag, Electronic stability control, Emergency brake assistant, Immobilizer, Isofix, LED Daytime Running Lights, Passenger-side airbag, Power steering, Side airbag, Traction control'],\n",
       " ['ABS, Central door lock, Central door lock with remote control, Driver-side airbag, Emergency brake assistant, Fog lights, Head airbag, Isofix, Passenger-side airbag, Power steering, Side airbag'],\n",
       " ['Central door lock, Central door lock with remote control, Fog lights, Power steering'],\n",
       " ['ABS, Central door lock with remote control, Driver-side airbag, Electronic stability control, Emergency brake assistant, Fog lights, Head airbag, Immobilizer, Isofix, Passenger-side airbag, Power steering, Side airbag, Traction control'],\n",
       " ['ABS, Adaptive headlights, Central door lock, Central door lock with remote control, Daytime running lights, Distance warning system, Driver drowsiness detection, Driver-side airbag, Electronic stability control, Emergency brake assistant, Emergency system, Fog lights, Full-LED headlights, Head airbag, High beam assist, Immobilizer, Isofix, LED Daytime Running Lights, LED Headlights, Lane departure warning system, Passenger-side airbag, Power steering, Rear airbag, Side airbag, Speed limit control system, Tire pressure monitoring system, Traction control, Traffic sign recognition'],\n",
       " ['ABS, Blind spot monitor, Central door lock, Central door lock with remote control, Driver-side airbag, Electronic stability control, Emergency brake assistant, Fog lights, Immobilizer, Isofix, LED Daytime Running Lights, LED Headlights, Lane departure warning system, Passenger-side airbag, Side airbag, Traffic sign recognition'],\n",
       " ['ABS, Alarm system, Central door lock, Daytime running lights, Distance warning system, Driver drowsiness detection, Driver-side airbag, Electronic stability control, Emergency brake assistant, Emergency system, High beam assist, Immobilizer, Isofix, LED Daytime Running Lights, Lane departure warning system, Passenger-side airbag, Power steering, Side airbag, Speed limit control system, Tire pressure monitoring system, Traction control, Traffic sign recognition'],\n",
       " ['ABS, Central door lock, Daytime running lights, Distance warning system, Driver-side airbag, Electronic stability control, Emergency brake assistant, Emergency system, Isofix, Lane departure warning system, Passenger-side airbag, Side airbag, Speed limit control system, Tire pressure monitoring system, Traction control, Traffic sign recognition'],\n",
       " ['ABS, Adaptive Cruise Control, Blind spot monitor, Central door lock, Daytime running lights, Distance warning system, Driver drowsiness detection, Driver-side airbag, Electronic stability control, Emergency brake assistant, Fog lights, High beam assist, Immobilizer, Isofix, LED Daytime Running Lights, LED Headlights, Lane departure warning system, Passenger-side airbag, Power steering, Side airbag, Speed limit control system, Tire pressure monitoring system, Traction control, Traffic sign recognition'],\n",
       " ['ABS, Electronic stability control'],\n",
       " ['ABS, Adaptive headlights, Central door lock, Central door lock with remote control, Daytime running lights, Driver drowsiness detection, Driver-side airbag, Electronic stability control, Emergency brake assistant, Emergency system, Fog lights, Full-LED headlights, Head airbag, Immobilizer, Isofix, LED Daytime Running Lights, LED Headlights, Lane departure warning system, Passenger-side airbag, Power steering, Rear airbag, Side airbag, Speed limit control system, Tire pressure monitoring system, Traction control'],\n",
       " ['ABS, Central door lock, Central door lock with remote control, Daytime running lights, Distance warning system, Driver-side airbag, Electronic stability control, Emergency brake assistant, Emergency system, Fog lights, Full-LED headlights, Head airbag, Immobilizer, Isofix, LED Daytime Running Lights, LED Headlights, Lane departure warning system, Passenger-side airbag, Power steering, Side airbag, Speed limit control system, Tire pressure monitoring system, Traction control, Traffic sign recognition'],\n",
       " ['ABS, Adaptive headlights, Central door lock, Daytime running lights, Distance warning system, Driver drowsiness detection, Driver-side airbag, Electronic stability control, Emergency brake assistant, Emergency system, Fog lights, Glare-free high beam headlights, Head airbag, Immobilizer, Isofix, LED Daytime Running Lights, Lane departure warning system, Passenger-side airbag, Power steering, Side airbag, Speed limit control system, Tire pressure monitoring system, Traction control'],\n",
       " ['ABS, Central door lock, Electronic stability control, Fog lights, Passenger-side airbag, Power steering, Side airbag'],\n",
       " ['ABS, Alarm system, Central door lock, Daytime running lights, Distance warning system, Driver-side airbag, Electronic stability control, Emergency brake assistant, Fog lights, Immobilizer, Isofix, LED Daytime Running Lights, Passenger-side airbag, Power steering, Side airbag, Tire pressure monitoring system, Traction control'],\n",
       " ['ABS, Adaptive headlights, Central door lock, Daytime running lights, Distance warning system, Driver-side airbag, Electronic stability control, Emergency brake assistant, Emergency system, Fog lights, Head airbag, Immobilizer, Isofix, LED Daytime Running Lights, Lane departure warning system, Passenger-side airbag, Power steering, Rear airbag, Side airbag, Speed limit control system, Tire pressure monitoring system, Traction control, Traffic sign recognition'],\n",
       " ['ABS, Central door lock, Daytime running lights, Distance warning system, Driver-side airbag, Electronic stability control, Emergency brake assistant, Emergency system, Immobilizer, Isofix, LED Daytime Running Lights, Lane departure warning system, Passenger-side airbag, Power steering, Side airbag, Tire pressure monitoring system, Traction control'],\n",
       " ['ABS, Adaptive Cruise Control, Adaptive headlights, Blind spot monitor, Central door lock, Distance warning system, Driver drowsiness detection, Driver-side airbag, Electronic stability control, Emergency brake assistant, Emergency system, Fog lights, High beam assist, Immobilizer, Isofix, LED Daytime Running Lights, LED Headlights, Lane departure warning system, Passenger-side airbag, Power steering, Rear airbag, Side airbag, Speed limit control system, Tire pressure monitoring system, Traction control, Traffic sign recognition'],\n",
       " ['ABS, Central door lock, Central door lock with remote control, Driver-side airbag, Electronic stability control, Emergency brake assistant, Immobilizer, Isofix, LED Daytime Running Lights, LED Headlights, Passenger-side airbag, Side airbag, Tire pressure monitoring system, Traction control'],\n",
       " ['ABS, Adaptive Cruise Control, Adaptive headlights, Blind spot monitor, Central door lock, Central door lock with remote control, Daytime running lights, Distance warning system, Driver drowsiness detection, Driver-side airbag, Electronic stability control, Emergency brake assistant, Emergency system, Fog lights, Head airbag, High beam assist, Immobilizer, Isofix, LED Daytime Running Lights, Lane departure warning system, Passenger-side airbag, Power steering, Rear airbag, Side airbag, Speed limit control system, Tire pressure monitoring system, Traction control, Traffic sign recognition'],\n",
       " ...]"
      ]
     },
     "execution_count": 91,
     "metadata": {},
     "output_type": "execute_result"
    }
   ],
   "source": [
    " list(df[\"safety_&_security\"].value_counts().index)"
   ]
  },
  {
   "cell_type": "code",
   "execution_count": 92,
   "metadata": {
    "ExecuteTime": {
     "end_time": "2024-02-25T18:55:46.175066Z",
     "start_time": "2024-02-25T18:55:45.921527Z"
    }
   },
   "outputs": [],
   "source": [
    "df[\"safety_&_security\"] = df[\"safety_&_security\"].apply(lambda x : x[0] if type(x) == list else x).str.title()"
   ]
  },
  {
   "cell_type": "code",
   "execution_count": 93,
   "metadata": {
    "ExecuteTime": {
     "end_time": "2024-02-25T18:55:46.188121Z",
     "start_time": "2024-02-25T18:55:46.181142Z"
    }
   },
   "outputs": [],
   "source": [
    "# list(df[\"safety_&_security\"].value_counts().index)\n"
   ]
  },
  {
   "cell_type": "code",
   "execution_count": 94,
   "metadata": {
    "ExecuteTime": {
     "end_time": "2024-02-25T18:55:46.271127Z",
     "start_time": "2024-02-25T18:55:46.190662Z"
    }
   },
   "outputs": [],
   "source": [
    "listem_1 = list(df[\"safety_&_security\"].dropna().unique())"
   ]
  },
  {
   "cell_type": "code",
   "execution_count": 95,
   "metadata": {
    "ExecuteTime": {
     "end_time": "2024-02-25T18:55:46.424345Z",
     "start_time": "2024-02-25T18:55:46.277684Z"
    }
   },
   "outputs": [
    {
     "name": "stdout",
     "output_type": "stream",
     "text": [
      "{'Abs': 11613, 'Central Door Lock': 9744, 'Driver-Side Airbag': 11337, 'Electronic Stability Control': 10588, 'Traction Control': 8249, 'Isofix': 8983, 'Xenon Headlights': 2249, 'Bi-Xenon Headlights': 1545, 'Fog Lights': 8017, 'Head Airbag': 5229, 'Immobilizer': 9041, 'Passenger-Side Airbag': 11209, 'Power Steering': 10700, 'Side Airbag': 10475, 'Speed Limit Control System': 4341, 'Emergency Brake Assistant': 5903, 'Alarm System': 3729, 'Central Door Lock With Remote Control': 5308, 'Tire Pressure Monitoring System': 8580, 'Daytime Running Lights': 7135, 'Led Daytime Running Lights': 6867, 'Led Headlights': 5056, 'Lane Departure Warning System': 4958, 'Traffic Sign Recognition': 4010, 'Full-Led Headlights': 1819, 'Distance Warning System': 3604, 'Driver Drowsiness Detection': 3470, 'Emergency System': 3462, 'High Beam Assist': 2905, 'Rear Airbag': 2041, 'Adaptive Cruise Control': 2468, 'Blind Spot Monitor': 2353, 'Glare-Free High Beam Headlights': 1053, 'Adaptive Headlights': 2922, 'Laser Headlights': 41, 'Night View Assist': 177}\n"
     ]
    }
   ],
   "source": [
    "sonuc = {}\n",
    "\n",
    "for eleman in listem_1:\n",
    "    parcalar = eleman.split(', ')\n",
    "    for parca in parcalar:\n",
    "        parca = parca.strip()\n",
    "        if parca in sonuc:\n",
    "            sonuc[parca] += 1\n",
    "        else:\n",
    "            sonuc[parca] = 1\n",
    "\n",
    "print(sonuc)"
   ]
  },
  {
   "cell_type": "code",
   "execution_count": 96,
   "metadata": {
    "ExecuteTime": {
     "end_time": "2024-02-25T18:55:46.501443Z",
     "start_time": "2024-02-25T18:55:46.428369Z"
    }
   },
   "outputs": [],
   "source": [
    "categories_safe = {\n",
    "    'safety_feature': [     'Abs', \n",
    "                        'Driver-Side Airbag',\n",
    "                        'Electronic Stability Control',\n",
    "                        'Traction Control', \n",
    "                        'Isofix', \n",
    "                        'Head Airbag', \n",
    "                        'Immobilizer', \n",
    "                        'Passenger-Side Airbag', \n",
    "                        'Side Airbag', \n",
    "                        'Emergency Brake Assistant', \n",
    "                        'Lane Departure Warning System', \n",
    "                        'Distance Warning System', \n",
    "                        'Driver Drowsiness Detection', \n",
    "                        'Rear Airbag'], # Safety Features\n",
    "    \n",
    "    'lighting_feature': [   'Bi-Xenon Headlights',                                                 \n",
    "                        'Fog Lights', \n",
    "                        'Led Daytime Running Lights', \n",
    "                        'Full-Led Headlights',                                               \n",
    "                        'Adaptive Headlights', \n",
    "                        'Led Headlights',  \n",
    "                        'Daytime Running Lights',\n",
    "                        'Xenon Headlights',\n",
    "                        'Laser Headlights'], # Lighting Features\n",
    "    \n",
    "    'conv_feature': [       'Central Door Lock With Remote Control',\n",
    "                        'Central Door Lock', \n",
    "                        'Power Steering',  \n",
    "                        'Alarm System', \n",
    "                        'Tire Pressure Monitoring System'], # Convenience Features\n",
    "    \n",
    "    'driver_feature': [     'Speed Limit Control System', \n",
    "                        'Traffic Sign Recognition', \n",
    "                        'Adaptive Cruise Control', \n",
    "                        'Blind Spot Monitor'], # Driver Assistance Features\n",
    "    \n",
    "    'other_feature': [      'Emergency System', \n",
    "                        'High Beam Assist', \n",
    "                        'Glare-Free High Beam Headlights', \n",
    "                        'Night View Assist'] # Other Features\n",
    "}\n",
    "# The overlapping expressions should be written in order of their length."
   ]
  },
  {
   "cell_type": "code",
   "execution_count": 97,
   "metadata": {
    "ExecuteTime": {
     "end_time": "2024-02-25T18:55:48.517047Z",
     "start_time": "2024-02-25T18:55:46.503982Z"
    }
   },
   "outputs": [],
   "source": [
    "for category, keywords in categories_safe.items():\n",
    "    for keyword in keywords:\n",
    "        df[\"safety_&_security\"] = df[\"safety_&_security\"].str.replace(keyword, category, regex=True)"
   ]
  },
  {
   "cell_type": "code",
   "execution_count": 98,
   "metadata": {
    "ExecuteTime": {
     "end_time": "2024-02-25T18:55:48.527675Z",
     "start_time": "2024-02-25T18:55:48.522054Z"
    }
   },
   "outputs": [],
   "source": [
    "# df[\"safety_&_security\"]"
   ]
  },
  {
   "cell_type": "code",
   "execution_count": 99,
   "metadata": {
    "ExecuteTime": {
     "end_time": "2024-02-25T18:55:48.669047Z",
     "start_time": "2024-02-25T18:55:48.532476Z"
    }
   },
   "outputs": [],
   "source": [
    "df[\"safety_&_security\"] = df[\"safety_&_security\"].apply(lambda x : \",\".join(set(x.replace(\" \",\"\").split(\",\"))) if type(x) == str else x)"
   ]
  },
  {
   "cell_type": "code",
   "execution_count": 100,
   "metadata": {
    "ExecuteTime": {
     "end_time": "2024-02-25T18:55:48.697090Z",
     "start_time": "2024-02-25T18:55:48.673585Z"
    }
   },
   "outputs": [
    {
     "data": {
      "text/plain": [
       "6772        lighting_feature,driver_feature,safety_feature\n",
       "24236    conv_feature,safety_feature,lighting_feature,o...\n",
       "18610         lighting_feature,conv_feature,safety_feature\n",
       "3244          lighting_feature,conv_feature,safety_feature\n",
       "5364                           conv_feature,safety_feature\n",
       "Name: safety_&_security, dtype: object"
      ]
     },
     "execution_count": 100,
     "metadata": {},
     "output_type": "execute_result"
    }
   ],
   "source": [
    "# list(df[\"safety_&_security\"].unique())\n",
    "df[\"safety_&_security\"].sample(5)"
   ]
  },
  {
   "cell_type": "markdown",
   "metadata": {},
   "source": [
    "<a id=\"31\"></a>\n",
    "<div class=\"alert alert-info\" role=\"alert\">\n",
    "<h1>Column name :<span style=\"color:red\"> extras </span></h1>\n",
    "</div>\n",
    "\n",
    "<div class=\"alert alert-block\" style=\"background-color: darkblue;\">\n",
    "<div class=\"alert alert-block alert-warning\">\n",
    "<b>Operation : </b> Let's edit the expression <span style=\"color:red\"><b>\" [Alloy wheels, Roof rack] \"</b></span> in the content of the make column. Let's remove the <span style=\"color:red\"><b> \" [ ] \"</b></span> , apply title() method . Let's categorize the values in the column as <span style=\"color:red\"><b> \" spor_ext \" ,\" wheel_ext \" , \" access_ext \", \" tires_ext \", \" other_ext \"</b></span> .\n",
    "</div>"
   ]
  },
  {
   "cell_type": "markdown",
   "metadata": {},
   "source": [
    "<a href=\"#toc\" class=\"btn btn-warning btn-lg active\" role=\"button\" aria-pressed=\"true\" style=\"color:black;\">Content</a>"
   ]
  },
  {
   "cell_type": "code",
   "execution_count": 101,
   "metadata": {
    "ExecuteTime": {
     "end_time": "2024-02-25T18:55:48.710717Z",
     "start_time": "2024-02-25T18:55:48.704689Z"
    }
   },
   "outputs": [],
   "source": [
    "# list(df[\"extras\"].value_counts().index)"
   ]
  },
  {
   "cell_type": "code",
   "execution_count": 102,
   "metadata": {
    "ExecuteTime": {
     "end_time": "2024-02-25T18:55:48.859257Z",
     "start_time": "2024-02-25T18:55:48.715149Z"
    }
   },
   "outputs": [],
   "source": [
    "df[\"extras\"] = df[\"extras\"].apply(lambda x : x[0] if type(x) == list else x).str.title()"
   ]
  },
  {
   "cell_type": "code",
   "execution_count": 103,
   "metadata": {
    "ExecuteTime": {
     "end_time": "2024-02-25T18:55:48.896521Z",
     "start_time": "2024-02-25T18:55:48.864684Z"
    }
   },
   "outputs": [],
   "source": [
    "listem_2 = list(df[\"extras\"].dropna().unique())"
   ]
  },
  {
   "cell_type": "code",
   "execution_count": 104,
   "metadata": {
    "ExecuteTime": {
     "end_time": "2024-02-25T18:55:48.954248Z",
     "start_time": "2024-02-25T18:55:48.898533Z"
    }
   },
   "outputs": [
    {
     "name": "stdout",
     "output_type": "stream",
     "text": [
      "{'Sport Seats': 4013, 'Alloy Wheels (17\")': 1027, 'Catalytic Converter': 1576, 'Emergency Tyre Repair Kit': 3328, 'Headlight Washer System': 1993, \"Smoker'S Package\": 518, 'Sport Package': 2521, 'Alloy Wheels': 4365, 'Spoiler': 1388, 'Sport Suspension': 2510, 'Automatically Dimming Interior Mirror': 5140, 'Voice Control': 4770, 'Cargo Barrier': 2061, 'Emergency Tyre': 1148, 'Summer Tyres': 3746, 'Winter Package': 2492, 'Alloy Wheels (19\")': 681, 'Ski Bag': 564, 'Winter Tyres': 957, 'Electronic Parking Brake': 2032, 'Shift Paddles': 2455, 'Touch Screen': 5068, 'Sliding Door': 60, 'Alloy Wheels (18\")': 933, 'Ambient Lighting': 2840, 'Alloy Wheels (16\")': 683, 'E10-Enabled': 2271, 'Spare Tyre': 1226, 'Alloy Wheels (21\")': 59, 'Trailer Hitch': 1621, 'Alloy Wheels (20\")': 243, 'Steel Wheels': 686, 'Biodiesel Conversion': 8, 'Handicapped Enabled': 26, 'Tuned Car': 235, 'Range Extender': 42, 'All Season Tyres': 991, 'Alloy Wheels (14\")': 37, 'Alloy Wheels (15\")': 214, 'Roof Rack': 2989, 'Alloy Wheels (22\")': 10, 'Alloy Wheels (23\")': 1, 'Alloy Wheels (13\")': 6, 'Right Hand Drive': 28, 'Awning': 55, 'Alloy Wheels (26\")': 1, 'Alloy Wheels (10\")': 1}\n"
     ]
    }
   ],
   "source": [
    "sonuc = {}\n",
    "\n",
    "for eleman in listem_2:\n",
    "    parcalar = eleman.split(', ')\n",
    "    for parca in parcalar:\n",
    "        parca = parca.strip()\n",
    "        if parca in sonuc:\n",
    "            sonuc[parca] += 1\n",
    "        else:\n",
    "            sonuc[parca] = 1\n",
    "\n",
    "print(sonuc)"
   ]
  },
  {
   "cell_type": "code",
   "execution_count": 105,
   "metadata": {
    "ExecuteTime": {
     "end_time": "2024-02-25T18:55:48.966086Z",
     "start_time": "2024-02-25T18:55:48.957256Z"
    }
   },
   "outputs": [],
   "source": [
    "categories_2 = {\n",
    "    'sport_trim': ['Sport Seats', \n",
    "                 'Sport Package', \n",
    "                 'Sport Suspension',\n",
    "                 'Shift Paddles', \n",
    "                 'Tuned Car'], # sport features\n",
    "    \n",
    "    'wheel': [    'Alloy Wheels \\(17\"\\)',\n",
    "                  'Alloy Wheels \\(19\"\\)', \n",
    "                  'Alloy Wheels \\(18\"\\)', \n",
    "                  'Alloy Wheels \\(16\"\\)', \n",
    "                  'Alloy Wheels \\(21\"\\)', \n",
    "                  'Alloy Wheels \\(20\"\\)', \n",
    "                  'Alloy Wheels \\(22\"\\)', \n",
    "                  'Alloy Wheels \\(23\"\\)',\n",
    "                  'Alloy Wheels \\(13\"\\)',\n",
    "                  'Alloy Wheels \\(26\"\\)', \n",
    "                  'Alloy Wheels \\(10\"\\)', \n",
    "                  'Alloy Wheels \\(14\"\\)',\n",
    "                  'Alloy Wheels \\(15\"\\)',                  \n",
    "                  'Steel Wheels',\n",
    "                  'Alloy Wheels',\n",
    "                  \n",
    "                  ], # wheels #'Alloy Wheels' \n",
    "                \n",
    "    \n",
    "    'accessory': ['Headlight Washer System', \n",
    "                   \"Smoker'S Package\", \n",
    "                   'Automatically Dimming Interior Mirror',\n",
    "                   'Voice Control', \n",
    "                   'Cargo Barrier', \n",
    "                   'Ski Bag', \n",
    "                   'Electronic Parking Brake', \n",
    "                   'Touch Screen',\n",
    "                   'Ambient Lighting', \n",
    "                   'Roof Rack', \n",
    "                   'Trailer Hitch',\n",
    "                   'Spoiler',\n",
    "                   'Handicapped Enabled',\n",
    "                   'Awning'], # extra accessories\n",
    "    \n",
    "    'tires': [    'Emergency Tyre Repair Kit', \n",
    "                  'Summer Tyres', \n",
    "                  'Winter Package', \n",
    "                  'Winter Tyres', \n",
    "                  'Emergency Tyre',\n",
    "                  'All Season Tyres',\n",
    "                  'Spare Tyre'\n",
    "                 ], # tires\n",
    "    \n",
    "    'other': [    'Catalytic Converter',\n",
    "                  'Sliding Door',\n",
    "                  'E10-Enabled',\n",
    "                  'Biodiesel Conversion',\n",
    "                  'Range Extender',\n",
    "                  'Right Hand Drive'\n",
    "                 ] # other features\n",
    "}\n",
    "# spor_ext 0, wheel_ext 1 , access_ext 1 \n"
   ]
  },
  {
   "cell_type": "code",
   "execution_count": 106,
   "metadata": {
    "ExecuteTime": {
     "end_time": "2024-02-25T18:55:50.569869Z",
     "start_time": "2024-02-25T18:55:48.971104Z"
    }
   },
   "outputs": [],
   "source": [
    "for category, keywords in categories_2.items():\n",
    "    for keyword in keywords:\n",
    "        df[\"extras\"] = df[\"extras\"].str.replace(keyword, category, regex=True)\n"
   ]
  },
  {
   "cell_type": "code",
   "execution_count": 107,
   "metadata": {
    "ExecuteTime": {
     "end_time": "2024-02-25T18:55:50.577464Z",
     "start_time": "2024-02-25T18:55:50.572831Z"
    }
   },
   "outputs": [],
   "source": [
    "# df[\"extras\"]"
   ]
  },
  {
   "cell_type": "code",
   "execution_count": 108,
   "metadata": {
    "ExecuteTime": {
     "end_time": "2024-02-25T18:55:50.667010Z",
     "start_time": "2024-02-25T18:55:50.581043Z"
    }
   },
   "outputs": [],
   "source": [
    "df[\"extras\"] = df[\"extras\"].apply(lambda x : \",\".join(set(x.replace(\" \",\"\").split(\",\"))) if type(x) == str else x)"
   ]
  },
  {
   "cell_type": "code",
   "execution_count": 109,
   "metadata": {
    "ExecuteTime": {
     "end_time": "2024-02-25T18:55:50.677038Z",
     "start_time": "2024-02-25T18:55:50.671066Z"
    }
   },
   "outputs": [],
   "source": [
    "# list(df[\"extras\"].unique())"
   ]
  },
  {
   "cell_type": "code",
   "execution_count": 110,
   "metadata": {
    "ExecuteTime": {
     "end_time": "2024-02-25T18:55:50.702439Z",
     "start_time": "2024-02-25T18:55:50.681605Z"
    }
   },
   "outputs": [
    {
     "data": {
      "text/plain": [
       "15708    NaN\n",
       "Name: extras, dtype: object"
      ]
     },
     "execution_count": 110,
     "metadata": {},
     "output_type": "execute_result"
    }
   ],
   "source": [
    "df.extras.sample()"
   ]
  },
  {
   "cell_type": "code",
   "execution_count": 111,
   "metadata": {
    "ExecuteTime": {
     "end_time": "2024-02-25T18:55:50.712498Z",
     "start_time": "2024-02-25T18:55:50.708322Z"
    }
   },
   "outputs": [],
   "source": [
    "# pd.get_dummies(df.extras)"
   ]
  },
  {
   "cell_type": "code",
   "execution_count": 112,
   "metadata": {
    "ExecuteTime": {
     "end_time": "2024-02-25T18:55:50.725522Z",
     "start_time": "2024-02-25T18:55:50.715682Z"
    }
   },
   "outputs": [],
   "source": [
    "# df['extras'].str.get_dummies(sep=',')"
   ]
  },
  {
   "cell_type": "markdown",
   "metadata": {},
   "source": [
    "<a id=\"32\"></a>\n",
    "<div class=\"alert alert-info\" role=\"alert\">\n",
    "<h1>Column name :<span style=\"color:red\"> empty_weight </span></h1>\n",
    "</div>\n",
    "\n",
    "<div class=\"alert alert-block\" style=\"background-color: darkblue;\">\n",
    "<div class=\"alert alert-block alert-warning\">\n",
    "<b>Operation : </b> Let's edit the expression <span style=\"color:red\"><b>\" [\\n1,395 kg\\n] \"</b></span> in the content of the make column. Let's remove the <span style=\"color:red\"><b> \" \\n \" , \" , \" , \" kg \" and \" [ ] \" </b></span> , convert float its type , make round one digit after comma .\n",
    "</div>\n"
   ]
  },
  {
   "cell_type": "markdown",
   "metadata": {},
   "source": [
    "<a href=\"#toc\" class=\"btn btn-warning btn-lg active\" role=\"button\" aria-pressed=\"true\" style=\"color:black;\">Content</a>"
   ]
  },
  {
   "cell_type": "code",
   "execution_count": 113,
   "metadata": {
    "ExecuteTime": {
     "end_time": "2024-02-25T18:55:50.826293Z",
     "start_time": "2024-02-25T18:55:50.750357Z"
    }
   },
   "outputs": [
    {
     "data": {
      "text/plain": [
       "26142   1291.000\n",
       "23521        NaN\n",
       "12313        NaN\n",
       "18174        NaN\n",
       "13202        NaN\n",
       "Name: empty_weight, dtype: float64"
      ]
     },
     "execution_count": 113,
     "metadata": {},
     "output_type": "execute_result"
    }
   ],
   "source": [
    "df.empty_weight = df.empty_weight.map(lambda x : x[0].strip(\"\\n kg\").replace(\",\",\"\") if type(x) == list else x).astype(float)\n",
    "df.empty_weight.sample(5) "
   ]
  },
  {
   "cell_type": "markdown",
   "metadata": {},
   "source": [
    "<a id=\"33\"></a>\n",
    "<div class=\"alert alert-info\" role=\"alert\">\n",
    "<h1>Column name :<span style=\"color:red\"> model_code </span></h1>\n",
    "</div>\n",
    "\n",
    "<div class=\"alert alert-block\" style=\"background-color: darkblue;\">\n",
    "<div class=\"alert alert-block alert-warning\">\n",
    "<b>Operation : </b> Let's edit the expression <span style=\"color:red\"><b>\" [\\n, 8212/AFJ, \\n] \"</b></span> in the content of the make column. Let's remove the <span style=\"color:red\"><b> \" \\n \" , \" , \" and \" [ ] \" </b></span> , make round one digit after comma .\n",
    "</div>"
   ]
  },
  {
   "cell_type": "markdown",
   "metadata": {},
   "source": [
    "<a href=\"#toc\" class=\"btn btn-warning btn-lg active\" role=\"button\" aria-pressed=\"true\" style=\"color:black;\">Content</a>"
   ]
  },
  {
   "cell_type": "code",
   "execution_count": 114,
   "metadata": {
    "ExecuteTime": {
     "end_time": "2024-02-25T18:55:50.875255Z",
     "start_time": "2024-02-25T18:55:50.831310Z"
    }
   },
   "outputs": [
    {
     "data": {
      "text/plain": [
       "4250     0035/BHQ\n",
       "15282         NaN\n",
       "18770         NaN\n",
       "2042     1313/DZG\n",
       "20837    2228/AAM\n",
       "Name: model_code, dtype: object"
      ]
     },
     "execution_count": 114,
     "metadata": {},
     "output_type": "execute_result"
    }
   ],
   "source": [
    "df.model_code = df.model_code.map(lambda x : x[0].strip(\",\\n \") if type(x) == list else x)\n",
    "df.model_code.sample(5)"
   ]
  },
  {
   "cell_type": "markdown",
   "metadata": {},
   "source": [
    "<a id=\"34\"></a>\n",
    "<div class=\"alert alert-info\" role=\"alert\">\n",
    "<h1>Column name :<span style=\"color:red\"> emission_class </span></h1>\n",
    "</div>\n",
    "\n",
    "<div class=\"alert alert-block\" style=\"background-color: darkblue;\">\n",
    "<div class=\"alert alert-block alert-warning\">\n",
    "<b>Operation : </b> Let's categorize the values in the column as <span style=\"color:red\"><b> \" e_10 \" ,\" e_20 \" , \" e_30 \", \" e_40 \", \" e_50 \", \" e_60 \", \" e_62 \", \" e_64 \" , \" e_66 \" </b></span> . \n",
    "</div>"
   ]
  },
  {
   "cell_type": "markdown",
   "metadata": {},
   "source": [
    "<a href=\"#toc\" class=\"btn btn-warning btn-lg active\" role=\"button\" aria-pressed=\"true\" style=\"color:black;\">Content</a>"
   ]
  },
  {
   "cell_type": "code",
   "execution_count": 115,
   "metadata": {
    "ExecuteTime": {
     "end_time": "2024-02-25T18:55:50.903805Z",
     "start_time": "2024-02-25T18:55:50.880268Z"
    }
   },
   "outputs": [
    {
     "data": {
      "text/plain": [
       "emission_class\n",
       "Euro 6          6418\n",
       "Euro 6d-TEMP    3399\n",
       "Euro 6d         2858\n",
       "Euro 5          2389\n",
       "Euro 4          1743\n",
       "Euro 3           523\n",
       "Euro 2           217\n",
       "Euro 1           172\n",
       "Euro 6c          140\n",
       "Name: count, dtype: int64"
      ]
     },
     "execution_count": 115,
     "metadata": {},
     "output_type": "execute_result"
    }
   ],
   "source": [
    "df.emission_class.value_counts()"
   ]
  },
  {
   "cell_type": "code",
   "execution_count": 116,
   "metadata": {
    "ExecuteTime": {
     "end_time": "2024-02-25T18:55:50.915709Z",
     "start_time": "2024-02-25T18:55:50.910818Z"
    }
   },
   "outputs": [],
   "source": [
    "# emission_new = {\n",
    "#     'Euro 1': 'e_10',\n",
    "#     'Euro 2': 'e_20',\n",
    "#     'Euro 3': 'e_30',\n",
    "#     'Euro 4': 'e_40',\n",
    "#     'Euro 5': 'e_50',\n",
    "#     'Euro 6': 'e_60',\n",
    "#     'Euro 6c': 'e_62',\n",
    "#     'Euro 6d': 'e_64',\n",
    "#     'Euro 6d-TEMP': 'e_66',\n",
    "# }"
   ]
  },
  {
   "cell_type": "code",
   "execution_count": 117,
   "metadata": {
    "ExecuteTime": {
     "end_time": "2024-02-25T18:55:50.928254Z",
     "start_time": "2024-02-25T18:55:50.919727Z"
    }
   },
   "outputs": [],
   "source": [
    "# df[\"emission_class\"] = df['emission_class'].map(emission_new)\n",
    "# df.emission_class.sample(5)"
   ]
  },
  {
   "cell_type": "markdown",
   "metadata": {},
   "source": [
    "<a id=\"35\"></a>\n",
    "<div class=\"alert alert-info\" role=\"alert\">\n",
    "<h1>Column name :<span style=\"color:red\"> emission_sticker </span></h1>\n",
    "</div>\n",
    "\n",
    "<div class=\"alert alert-block\" style=\"background-color: darkblue;\">\n",
    "<div class=\"alert alert-block alert-warning\">\n",
    "<b>Operation : </b> Let's categorize the values in the column as <span style=\"color:red\"><b> \" no_sticker \" ,\" red_sticker \" , \" yellow_sticker \", \" green_sticker \" </b></span> .\n",
    "</div>"
   ]
  },
  {
   "cell_type": "markdown",
   "metadata": {},
   "source": [
    "<a href=\"#toc\" class=\"btn btn-warning btn-lg active\" role=\"button\" aria-pressed=\"true\" style=\"color:black;\">Content</a>"
   ]
  },
  {
   "cell_type": "code",
   "execution_count": 118,
   "metadata": {
    "ExecuteTime": {
     "end_time": "2024-02-25T18:55:50.970602Z",
     "start_time": "2024-02-25T18:55:50.934800Z"
    },
    "run_control": {
     "marked": true
    }
   },
   "outputs": [
    {
     "data": {
      "text/plain": [
       "20122              NaN\n",
       "4525     green_sticker\n",
       "22000    green_sticker\n",
       "13974              NaN\n",
       "16598              NaN\n",
       "Name: emissions_sticker, dtype: object"
      ]
     },
     "execution_count": 118,
     "metadata": {},
     "output_type": "execute_result"
    }
   ],
   "source": [
    "emission_sticker_new = {\n",
    "    '1 (No sticker)' : 'no_sticker',\n",
    "    '2 (Red)' : 'red_sticker',\n",
    "    '3 (Yellow)' : 'yellow_sticker',\n",
    "    '4 (Green)' : 'green_sticker'\n",
    "}\n",
    "\n",
    "df[\"emissions_sticker\"] = df[\"emissions_sticker\"].map(emission_sticker_new)\n",
    "df.emissions_sticker.sample(5)"
   ]
  },
  {
   "cell_type": "code",
   "execution_count": 119,
   "metadata": {
    "ExecuteTime": {
     "end_time": "2024-02-25T18:55:50.984036Z",
     "start_time": "2024-02-25T18:55:50.976066Z"
    }
   },
   "outputs": [],
   "source": [
    "# df.emissions_sticker.value_counts()"
   ]
  },
  {
   "cell_type": "markdown",
   "metadata": {},
   "source": [
    "<a id=\"36\"></a>\n",
    "<div class=\"alert alert-info\" role=\"alert\">\n",
    "<h1>Column name :<span style=\"color:red\"> upholstery_colour </span></h1>\n",
    "</div>\n",
    "\n",
    "<div class=\"alert alert-block\" style=\"background-color: darkblue;\">\n",
    "<div class=\"alert alert-block alert-warning\">\n",
    "<b>Operation : </b> Let's categorize the values in the column as <span style=\"color:red\"><b> \" prim_up \" ,\" text_up \" , \" special_up \" </b></span> .\n",
    "</div>"
   ]
  },
  {
   "cell_type": "markdown",
   "metadata": {},
   "source": [
    "<a href=\"#toc\" class=\"btn btn-warning btn-lg active\" role=\"button\" aria-pressed=\"true\" style=\"color:black;\">Content</a>"
   ]
  },
  {
   "cell_type": "code",
   "execution_count": 120,
   "metadata": {
    "ExecuteTime": {
     "end_time": "2024-02-25T18:55:50.998277Z",
     "start_time": "2024-02-25T18:55:50.988053Z"
    }
   },
   "outputs": [],
   "source": [
    "upholstery_colour_dict = {\n",
    "    'prim_up' : [\"Black\",\n",
    "                 \"Grey\",\n",
    "                 \"White\"\n",
    "                ],\n",
    "    \n",
    "    'text_up' : ['Beige',\n",
    "                 'Brown'\n",
    "                ],\n",
    "    \n",
    "    'special_up' : ['Red',\n",
    "                    'Blue',\n",
    "                    'Orange',\n",
    "                    'Green',\n",
    "                    'Yellow',\n",
    "                    'Other']\n",
    "\n",
    "}"
   ]
  },
  {
   "cell_type": "code",
   "execution_count": 121,
   "metadata": {
    "ExecuteTime": {
     "end_time": "2024-02-25T18:55:51.011500Z",
     "start_time": "2024-02-25T18:55:51.003498Z"
    }
   },
   "outputs": [],
   "source": [
    "# df.upholstery_colour"
   ]
  },
  {
   "cell_type": "code",
   "execution_count": 122,
   "metadata": {
    "ExecuteTime": {
     "end_time": "2024-02-25T18:55:51.055465Z",
     "start_time": "2024-02-25T18:55:51.049301Z"
    }
   },
   "outputs": [],
   "source": [
    "# df.upholstery_colour.value_counts()"
   ]
  },
  {
   "cell_type": "code",
   "execution_count": 123,
   "metadata": {
    "ExecuteTime": {
     "end_time": "2024-02-25T18:55:51.284175Z",
     "start_time": "2024-02-25T18:55:51.059488Z"
    }
   },
   "outputs": [],
   "source": [
    "for category, keywords in upholstery_colour_dict.items():\n",
    "    for keyword in keywords:\n",
    "        df[\"upholstery_colour\"] = df[\"upholstery_colour\"].str.replace(keyword, category, regex=True)"
   ]
  },
  {
   "cell_type": "code",
   "execution_count": 124,
   "metadata": {
    "ExecuteTime": {
     "end_time": "2024-02-25T18:55:51.306442Z",
     "start_time": "2024-02-25T18:55:51.290207Z"
    }
   },
   "outputs": [
    {
     "data": {
      "text/plain": [
       "21516    special_up\n",
       "22603           NaN\n",
       "26751       prim_up\n",
       "15000       prim_up\n",
       "20824           NaN\n",
       "Name: upholstery_colour, dtype: object"
      ]
     },
     "execution_count": 124,
     "metadata": {},
     "output_type": "execute_result"
    }
   ],
   "source": [
    "# df.upholstery_colour\n",
    "df.upholstery_colour.sample(5)"
   ]
  },
  {
   "cell_type": "code",
   "execution_count": 125,
   "metadata": {
    "ExecuteTime": {
     "end_time": "2024-02-25T18:55:51.314684Z",
     "start_time": "2024-02-25T18:55:51.309454Z"
    }
   },
   "outputs": [],
   "source": [
    "# df.upholstery_colour.value_counts()"
   ]
  },
  {
   "cell_type": "markdown",
   "metadata": {},
   "source": [
    "<a id=\"37\"></a>\n",
    "<div class=\"alert alert-info\" role=\"alert\">\n",
    "<h1>Column name :<span style=\"color:red\"> upholstery </span></h1>\n",
    "</div>\n",
    "\n",
    "<div class=\"alert alert-block\" style=\"background-color: darkblue;\">\n",
    "<div class=\"alert alert-block alert-warning\">\n",
    "<b>Operation : </b> Let's categorize the values in the column as <span style=\"color:red\"><b> \" fabric_hols \" ,\" leather_hols \" , \" special_hols \" </b></span> .\n",
    "</div>"
   ]
  },
  {
   "cell_type": "markdown",
   "metadata": {},
   "source": [
    "<a href=\"#toc\" class=\"btn btn-warning btn-lg active\" role=\"button\" aria-pressed=\"true\" style=\"color:black;\">Content</a>"
   ]
  },
  {
   "cell_type": "code",
   "execution_count": 126,
   "metadata": {
    "ExecuteTime": {
     "end_time": "2024-02-25T18:55:51.331508Z",
     "start_time": "2024-02-25T18:55:51.318702Z"
    }
   },
   "outputs": [],
   "source": [
    "# df.upholstery"
   ]
  },
  {
   "cell_type": "code",
   "execution_count": 127,
   "metadata": {
    "ExecuteTime": {
     "end_time": "2024-02-25T18:55:51.346343Z",
     "start_time": "2024-02-25T18:55:51.338073Z"
    }
   },
   "outputs": [],
   "source": [
    "# df.upholstery.value_counts()"
   ]
  },
  {
   "cell_type": "code",
   "execution_count": 128,
   "metadata": {
    "ExecuteTime": {
     "end_time": "2024-02-25T18:55:51.361273Z",
     "start_time": "2024-02-25T18:55:51.352872Z"
    }
   },
   "outputs": [],
   "source": [
    "upholstery_dict = {\n",
    "    'fabric_hols' : [\"Cloth\",\n",
    "                     \"Velour\",\n",
    "\n",
    "                ],\n",
    "    \n",
    "    'leather_hols' : ['Full leather',\n",
    "                      'Part leather'\n",
    "                ],\n",
    "    \n",
    "    'special_hols' : ['Other',\n",
    "                      'alcantara',\n",
    "                         ]\n",
    "\n",
    "}"
   ]
  },
  {
   "cell_type": "code",
   "execution_count": 129,
   "metadata": {
    "ExecuteTime": {
     "end_time": "2024-02-25T18:55:51.521430Z",
     "start_time": "2024-02-25T18:55:51.365798Z"
    },
    "run_control": {
     "marked": true
    }
   },
   "outputs": [],
   "source": [
    "for category, keywords in upholstery_dict.items():\n",
    "    for keyword in keywords:\n",
    "        df[\"upholstery\"] = df[\"upholstery\"].str.replace(keyword, category, regex=True)"
   ]
  },
  {
   "cell_type": "code",
   "execution_count": 130,
   "metadata": {
    "ExecuteTime": {
     "end_time": "2024-02-25T18:55:51.536873Z",
     "start_time": "2024-02-25T18:55:51.525967Z"
    }
   },
   "outputs": [
    {
     "data": {
      "text/plain": [
       "4307      fabric_hols\n",
       "12262    special_hols\n",
       "23712     fabric_hols\n",
       "9649      fabric_hols\n",
       "1622     leather_hols\n",
       "Name: upholstery, dtype: object"
      ]
     },
     "execution_count": 130,
     "metadata": {},
     "output_type": "execute_result"
    }
   ],
   "source": [
    "df.upholstery.sample(5)"
   ]
  },
  {
   "cell_type": "markdown",
   "metadata": {},
   "source": [
    "<a id=\"39\"></a>\n",
    "<div class=\"alert alert-info\" role=\"alert\">\n",
    "<h1>Column name :<span style=\"color:red\"> previous owner </span></h1>\n",
    "</div>\n",
    "\n",
    "<div class=\"alert alert-block\" style=\"background-color: darkblue;\">\n",
    "<div class=\"alert alert-block alert-warning\">\n",
    "<b>Operation : </b> Let's edit the expression <span style=\"color:red\"><b>\" [[50 km, 06/2022], 1] \"</b></span> in the content of the make column. Let's remove the <span style=\"color:red\"><b> \" \\n \" , \" , \" and \" [ ] \" </b></span> .Let's concatenate the elements in the list with <span style=\"color:red\"><b>  a \"-\" symbol  </b></span> in between. \n",
    "</div>"
   ]
  },
  {
   "cell_type": "markdown",
   "metadata": {},
   "source": [
    "<a href=\"#toc\" class=\"btn btn-warning btn-lg active\" role=\"button\" aria-pressed=\"true\" style=\"color:black;\">Content</a>"
   ]
  },
  {
   "cell_type": "code",
   "execution_count": 131,
   "metadata": {
    "ExecuteTime": {
     "end_time": "2024-02-25T18:55:51.548385Z",
     "start_time": "2024-02-25T18:55:51.544450Z"
    }
   },
   "outputs": [],
   "source": [
    "# df.previous_owner.apply(lambda x: \"-\".join([item for sublist in x for item in sublist]) if isinstance(x, list) else x)"
   ]
  },
  {
   "cell_type": "code",
   "execution_count": 132,
   "metadata": {
    "ExecuteTime": {
     "end_time": "2024-02-25T18:55:51.563820Z",
     "start_time": "2024-02-25T18:55:51.552909Z"
    }
   },
   "outputs": [],
   "source": [
    "# df.previous_owner"
   ]
  },
  {
   "cell_type": "code",
   "execution_count": 133,
   "metadata": {
    "ExecuteTime": {
     "end_time": "2024-02-25T18:55:51.575703Z",
     "start_time": "2024-02-25T18:55:51.566835Z"
    }
   },
   "outputs": [],
   "source": [
    "# list(df.previous_owner.apply(lambda x: \"-\".join([item for sublist in x for item in sublist]) if isinstance(x, list) else x).unique())"
   ]
  },
  {
   "cell_type": "code",
   "execution_count": 134,
   "metadata": {
    "ExecuteTime": {
     "end_time": "2024-02-25T18:55:51.640421Z",
     "start_time": "2024-02-25T18:55:51.583231Z"
    }
   },
   "outputs": [],
   "source": [
    "df.previous_owner = df.previous_owner.apply(lambda x: \"-\".join([item for sublist in x for item in sublist]) if isinstance(x, list) else x)"
   ]
  },
  {
   "cell_type": "code",
   "execution_count": 135,
   "metadata": {
    "ExecuteTime": {
     "end_time": "2024-02-25T18:55:51.657874Z",
     "start_time": "2024-02-25T18:55:51.644938Z"
    }
   },
   "outputs": [
    {
     "data": {
      "text/plain": [
       "15686     2,850 km-12/2021-1\n",
       "4520     68,857 km-07/2018-2\n",
       "4237      1,489 km-05/2022-1\n",
       "5860         10 km-08/2022-1\n",
       "4017     81,400 km-05/2019-1\n",
       "Name: previous_owner, dtype: object"
      ]
     },
     "execution_count": 135,
     "metadata": {},
     "output_type": "execute_result"
    }
   ],
   "source": [
    "df.previous_owner.sample(5)"
   ]
  },
  {
   "cell_type": "markdown",
   "metadata": {},
   "source": [
    "<a id=\"40\"></a>\n",
    "<div class=\"alert alert-info\" role=\"alert\">\n",
    "<h1>Column name :<span style=\"color:red\"> power_consumption </span></h1>\n",
    "</div>\n",
    "\n",
    "<div class=\"alert alert-block\" style=\"background-color: darkblue;\">\n",
    "<div class=\"alert alert-block alert-warning\">\n",
    "<b>Operation : </b> Let's edit the expression <span style=\"color:red\"><b>\" 15.2 kWh/100 km (comb.) \"</b></span> in the content of the make column. Let's get the <span style=\"color:red\"><b> the float number  </b></span> from this column , convert float its type .\n",
    "</div>"
   ]
  },
  {
   "cell_type": "markdown",
   "metadata": {},
   "source": [
    "<a href=\"#toc\" class=\"btn btn-warning btn-lg active\" role=\"button\" aria-pressed=\"true\" style=\"color:black;\">Content</a>"
   ]
  },
  {
   "cell_type": "code",
   "execution_count": 136,
   "metadata": {
    "ExecuteTime": {
     "end_time": "2024-02-25T18:55:51.703230Z",
     "start_time": "2024-02-25T18:55:51.660881Z"
    },
    "scrolled": true
   },
   "outputs": [
    {
     "data": {
      "text/plain": [
       "17963   NaN\n",
       "22888   NaN\n",
       "18291   NaN\n",
       "24342   NaN\n",
       "14612   NaN\n",
       "Name: power_consumption, dtype: float64"
      ]
     },
     "execution_count": 136,
     "metadata": {},
     "output_type": "execute_result"
    }
   ],
   "source": [
    "df[\"power_consumption\"] = df['power_consumption'].str.extract('^(\\d+\\.*\\d*)').astype(\"float\")\n",
    "df.power_consumption.sample(5)"
   ]
  },
  {
   "cell_type": "code",
   "execution_count": 137,
   "metadata": {
    "ExecuteTime": {
     "end_time": "2024-02-25T18:55:51.725039Z",
     "start_time": "2024-02-25T18:55:51.707244Z"
    }
   },
   "outputs": [
    {
     "data": {
      "text/plain": [
       "8833    NaN\n",
       "27349   NaN\n",
       "18923   NaN\n",
       "24167   NaN\n",
       "13715   NaN\n",
       "Name: power_consumption, dtype: float64"
      ]
     },
     "execution_count": 137,
     "metadata": {},
     "output_type": "execute_result"
    }
   ],
   "source": [
    "df.power_consumption.sample(5)"
   ]
  },
  {
   "cell_type": "markdown",
   "metadata": {},
   "source": [
    "<a id=\"41\"></a>\n",
    "<div class=\"alert alert-info\" role=\"alert\">\n",
    "<h1>Column name :<span style=\"color:red\"> energy_efficiency_class </span></h1>\n",
    "</div>\n",
    "\n",
    "<div class=\"alert alert-block\" style=\"background-color: darkblue;\">\n",
    "<div class=\"alert alert-block alert-warning\">\n",
    "<b>Operation : </b> Let's categorize the values in the column as <span style=\"color:red\"><b> \" top_energy \" ,\" mid_energy \" , \" low_energy \" </b></span> .\n",
    "</div>"
   ]
  },
  {
   "cell_type": "markdown",
   "metadata": {},
   "source": [
    "<a href=\"#toc\" class=\"btn btn-warning btn-lg active\" role=\"button\" aria-pressed=\"true\" style=\"color:black;\">Content</a>"
   ]
  },
  {
   "cell_type": "code",
   "execution_count": 138,
   "metadata": {
    "ExecuteTime": {
     "end_time": "2024-02-25T18:55:51.733755Z",
     "start_time": "2024-02-25T18:55:51.728073Z"
    }
   },
   "outputs": [],
   "source": [
    "# df.energy_efficiency_class"
   ]
  },
  {
   "cell_type": "code",
   "execution_count": 139,
   "metadata": {
    "ExecuteTime": {
     "end_time": "2024-02-25T18:55:51.744714Z",
     "start_time": "2024-02-25T18:55:51.738780Z"
    }
   },
   "outputs": [],
   "source": [
    "# df.energy_efficiency_class.value_counts()"
   ]
  },
  {
   "cell_type": "code",
   "execution_count": 140,
   "metadata": {
    "ExecuteTime": {
     "end_time": "2024-02-25T18:55:51.761333Z",
     "start_time": "2024-02-25T18:55:51.751730Z"
    }
   },
   "outputs": [],
   "source": [
    "efficiency_dict = {\n",
    "    'top_efficiency' : [\"A\\+\\+\\+\",\n",
    "                        \"A\\+\\+\",\n",
    "                        \"A\\+\"\n",
    "                       ],\n",
    "    \n",
    "    'mid_efficiency' : [\"A\",\n",
    "                        \"B\",\n",
    "                        \"C\"\n",
    "                       ],\n",
    "    \n",
    "    'lower_efficiency' : ['D',\n",
    "                          'E',\n",
    "                          'F',\n",
    "                          'G'\n",
    "                          ]\n",
    "}\n",
    "# Be careful with regex commands. Don't forget the \"+\" sign here."
   ]
  },
  {
   "cell_type": "code",
   "execution_count": 141,
   "metadata": {
    "ExecuteTime": {
     "end_time": "2024-02-25T18:55:51.897690Z",
     "start_time": "2024-02-25T18:55:51.766896Z"
    }
   },
   "outputs": [],
   "source": [
    "for category, keywords in efficiency_dict.items():\n",
    "    for keyword in keywords:\n",
    "        df[\"energy_efficiency_class\"] = df[\"energy_efficiency_class\"].str.replace(keyword, category, regex=True)"
   ]
  },
  {
   "cell_type": "code",
   "execution_count": 142,
   "metadata": {
    "ExecuteTime": {
     "end_time": "2024-02-25T18:55:51.917894Z",
     "start_time": "2024-02-25T18:55:51.900697Z"
    }
   },
   "outputs": [
    {
     "data": {
      "text/plain": [
       "25704               NaN\n",
       "4189     mid_efficiency\n",
       "15607               NaN\n",
       "21174               NaN\n",
       "2769                NaN\n",
       "Name: energy_efficiency_class, dtype: object"
      ]
     },
     "execution_count": 142,
     "metadata": {},
     "output_type": "execute_result"
    }
   ],
   "source": [
    "df.energy_efficiency_class.sample(5)"
   ]
  },
  {
   "cell_type": "markdown",
   "metadata": {},
   "source": [
    "<a id=\"42\"></a>\n",
    "<div class=\"alert alert-info\" role=\"alert\">\n",
    "<h1>Column name :<span style=\"color:red\"> fuel_consumption_wltp </span></h1>\n",
    "</div>\n",
    "\n",
    "<div class=\"alert alert-block\" style=\"background-color: darkblue;\">\n",
    "<div class=\"alert alert-block alert-warning\">\n",
    "<b>Operation : </b> Let's edit the expression <span style=\"color:red\"><b>\" 5.5 l/100 km \"</b></span> in the content of the make column. Let's get the <span style=\"color:red\"><b> the float number</b> </span>  from this column , convert float its type .\n",
    "</div>"
   ]
  },
  {
   "cell_type": "markdown",
   "metadata": {},
   "source": [
    "<a href=\"#toc\" class=\"btn btn-warning btn-lg active\" role=\"button\" aria-pressed=\"true\" style=\"color:black;\">Content</a>"
   ]
  },
  {
   "cell_type": "code",
   "execution_count": 143,
   "metadata": {
    "ExecuteTime": {
     "end_time": "2024-02-25T18:55:51.931213Z",
     "start_time": "2024-02-25T18:55:51.923432Z"
    }
   },
   "outputs": [],
   "source": [
    "# df.fuel_consumption_wltp.value_counts()"
   ]
  },
  {
   "cell_type": "code",
   "execution_count": 144,
   "metadata": {
    "ExecuteTime": {
     "end_time": "2024-02-25T18:55:51.974804Z",
     "start_time": "2024-02-25T18:55:51.937792Z"
    }
   },
   "outputs": [
    {
     "data": {
      "text/plain": [
       "11646   NaN\n",
       "22519   NaN\n",
       "12572   NaN\n",
       "20449   NaN\n",
       "4762    NaN\n",
       "Name: fuel_consumption_wltp, dtype: float64"
      ]
     },
     "execution_count": 144,
     "metadata": {},
     "output_type": "execute_result"
    }
   ],
   "source": [
    "df[\"fuel_consumption_wltp\"] = df['fuel_consumption_wltp'].str.extract('^(\\d+\\.*\\d*)').astype(\"float\")\n",
    "df.fuel_consumption_wltp.sample(5)"
   ]
  },
  {
   "cell_type": "code",
   "execution_count": 145,
   "metadata": {
    "ExecuteTime": {
     "end_time": "2024-02-25T18:55:51.983272Z",
     "start_time": "2024-02-25T18:55:51.977780Z"
    }
   },
   "outputs": [],
   "source": [
    "#df['fuel_consumption_wltp'].str.extract('^(\\d+\\.*\\d*)').astype(\"float\").value_counts()"
   ]
  },
  {
   "cell_type": "markdown",
   "metadata": {},
   "source": [
    "<a id=\"43\"></a>\n",
    "<div class=\"alert alert-info\" role=\"alert\">\n",
    "<h1>Column name :<span style=\"color:red\"> co_emissions_wltp </span></h1>\n",
    "</div>\n",
    "\n",
    "<div class=\"alert alert-block\" style=\"background-color: darkblue;\">\n",
    "<div class=\"alert alert-block alert-warning\">\n",
    "<b>Operation : </b> Let's edit the expression <span style=\"color:red\"><b>\" 125 g/km (comb.) \"</b></span> in the content of the make column. Let's get the <span style=\"color:red\"><b> the float number</b> </span> from this column , convert float its type .\n",
    "</div>"
   ]
  },
  {
   "cell_type": "markdown",
   "metadata": {},
   "source": [
    "<a href=\"#toc\" class=\"btn btn-warning btn-lg active\" role=\"button\" aria-pressed=\"true\" style=\"color:black;\">Content</a>"
   ]
  },
  {
   "cell_type": "code",
   "execution_count": 146,
   "metadata": {
    "ExecuteTime": {
     "end_time": "2024-02-25T18:55:51.994914Z",
     "start_time": "2024-02-25T18:55:51.989357Z"
    }
   },
   "outputs": [],
   "source": [
    "# list(df.co_emissions_wltp.value_counts().index)"
   ]
  },
  {
   "cell_type": "code",
   "execution_count": 147,
   "metadata": {
    "ExecuteTime": {
     "end_time": "2024-02-25T18:55:52.040286Z",
     "start_time": "2024-02-25T18:55:51.998922Z"
    }
   },
   "outputs": [
    {
     "data": {
      "text/plain": [
       "17402   NaN\n",
       "18930   NaN\n",
       "6368    NaN\n",
       "15222   NaN\n",
       "19376   NaN\n",
       "Name: co_emissions_wltp, dtype: float64"
      ]
     },
     "execution_count": 147,
     "metadata": {},
     "output_type": "execute_result"
    }
   ],
   "source": [
    "df[\"co_emissions_wltp\"] = df['co_emissions_wltp'].str.extract('^(\\d+\\.*\\d*)').astype(\"float\")\n",
    "df.co_emissions_wltp.sample(5)\n",
    "### g / km (comb.)"
   ]
  },
  {
   "cell_type": "markdown",
   "metadata": {},
   "source": [
    "<a id=\"44\"></a>\n",
    "<div class=\"alert alert-info\" role=\"alert\">\n",
    "<h1>Column name :<span style=\"color:red\"> available_from </span></h1>\n",
    "</div>\n",
    "\n",
    "<div class=\"alert alert-block\" style=\"background-color: darkblue;\">\n",
    "<div class=\"alert alert-block alert-warning\">\n",
    "<b>Operation : </b> Let's edit the expression <span style=\"color:red\"><b>\" [\\n, 01/03/2023, \\n] \"</b></span> in the content of the make column. Let's remove the <span style=\"color:red\"><b> \" \\n \" , \" , \" and \" [ ] \" </b></span>  .\n",
    "</div>"
   ]
  },
  {
   "cell_type": "markdown",
   "metadata": {},
   "source": [
    "<a href=\"#toc\" class=\"btn btn-warning btn-lg active\" role=\"button\" aria-pressed=\"true\" style=\"color:black;\">Content</a>"
   ]
  },
  {
   "cell_type": "code",
   "execution_count": 148,
   "metadata": {
    "ExecuteTime": {
     "end_time": "2024-02-25T18:55:52.051905Z",
     "start_time": "2024-02-25T18:55:52.045858Z"
    }
   },
   "outputs": [],
   "source": [
    "# list(df.available_from.value_counts().index)"
   ]
  },
  {
   "cell_type": "code",
   "execution_count": 149,
   "metadata": {
    "ExecuteTime": {
     "end_time": "2024-02-25T18:55:52.090919Z",
     "start_time": "2024-02-25T18:55:52.058220Z"
    }
   },
   "outputs": [
    {
     "data": {
      "text/plain": [
       "28820    NaN\n",
       "16876    NaN\n",
       "21812    NaN\n",
       "3711     NaN\n",
       "13946    NaN\n",
       "Name: available_from, dtype: object"
      ]
     },
     "execution_count": 149,
     "metadata": {},
     "output_type": "execute_result"
    }
   ],
   "source": [
    "df.available_from = df.available_from.map(lambda x : x[0].strip(\",\\n \") if type(x) == list else x)\n",
    "df.available_from.sample(5)"
   ]
  },
  {
   "cell_type": "markdown",
   "metadata": {},
   "source": [
    "<a id=\"45\"></a>\n",
    "<div class=\"alert alert-info\" role=\"alert\">\n",
    "<h1>Column name :<span style=\"color:red\"> availability </span></h1>\n",
    "</div>\n",
    "\n",
    "<div class=\"alert alert-block\" style=\"background-color: darkblue;\">\n",
    "<div class=\"alert alert-block alert-warning\">\n",
    "<b>Operation : </b> Let's edit the expression <span style=\"color:red\"><b>\" [\\n, in 1 day after order, \\n] \"</b></span> in the content of the make column. Let's get the <span style=\"color:red\"><b> the number  </b></span> from this column , convert float its type .\n",
    "</div>"
   ]
  },
  {
   "cell_type": "markdown",
   "metadata": {},
   "source": [
    "<a href=\"#toc\" class=\"btn btn-warning btn-lg active\" role=\"button\" aria-pressed=\"true\" style=\"color:black;\">Content</a>"
   ]
  },
  {
   "cell_type": "code",
   "execution_count": 150,
   "metadata": {
    "ExecuteTime": {
     "end_time": "2024-02-25T18:55:52.101901Z",
     "start_time": "2024-02-25T18:55:52.096606Z"
    }
   },
   "outputs": [],
   "source": [
    "# a = df.availability.map(lambda x : x[0].strip(\",\\n \") if type(x) == list else x)\n",
    "# a.value_counts()"
   ]
  },
  {
   "cell_type": "code",
   "execution_count": 151,
   "metadata": {
    "ExecuteTime": {
     "end_time": "2024-02-25T18:55:52.154394Z",
     "start_time": "2024-02-25T18:55:52.108492Z"
    }
   },
   "outputs": [
    {
     "data": {
      "text/plain": [
       "9289    NaN\n",
       "9228    NaN\n",
       "21554   NaN\n",
       "8760    NaN\n",
       "21403   NaN\n",
       "Name: availability, dtype: float64"
      ]
     },
     "execution_count": 151,
     "metadata": {},
     "output_type": "execute_result"
    }
   ],
   "source": [
    "df.availability = df.availability.map(lambda x : x[0].strip(\",\\n \") if type(x) == list else x).str.extract('(\\d+\\.*\\d*)').astype(\"float\")\n",
    "df.availability.sample(5)\n",
    "# I removed it from the list using strip and extracted the number using extract ."
   ]
  },
  {
   "cell_type": "markdown",
   "metadata": {},
   "source": [
    "<a id=\"46\"></a>\n",
    "<div class=\"alert alert-info\" role=\"alert\">\n",
    "<h1>Column name :<span style=\"color:red\"> electric_range_wltp </span></h1>\n",
    "</div>\n",
    "\n",
    "<div class=\"alert alert-block\" style=\"background-color: darkblue;\">\n",
    "<div class=\"alert alert-block alert-warning\">\n",
    "<b>Operation : </b> Let's edit the expression <span style=\"color:red\"><b>\" 50 km50 km (within city) \"</b></span> in the content of the make column. Let's get the <span style=\"color:red\"><b> the number</b> </span> from this column  , convert float its type .\n",
    "</div>"
   ]
  },
  {
   "cell_type": "markdown",
   "metadata": {},
   "source": [
    "<a href=\"#toc\" class=\"btn btn-warning btn-lg active\" role=\"button\" aria-pressed=\"true\" style=\"color:black;\">Content</a>"
   ]
  },
  {
   "cell_type": "code",
   "execution_count": 152,
   "metadata": {
    "ExecuteTime": {
     "end_time": "2024-02-25T18:55:52.161766Z",
     "start_time": "2024-02-25T18:55:52.156409Z"
    }
   },
   "outputs": [],
   "source": [
    "# list(df.electric_range_wltp.value_counts().index)"
   ]
  },
  {
   "cell_type": "code",
   "execution_count": 153,
   "metadata": {
    "ExecuteTime": {
     "end_time": "2024-02-25T18:55:52.203918Z",
     "start_time": "2024-02-25T18:55:52.165231Z"
    }
   },
   "outputs": [
    {
     "data": {
      "text/plain": [
       "20441   NaN\n",
       "17438   NaN\n",
       "2220    NaN\n",
       "8302    NaN\n",
       "17017   NaN\n",
       "Name: electric_range_wltp, dtype: float64"
      ]
     },
     "execution_count": 153,
     "metadata": {},
     "output_type": "execute_result"
    }
   ],
   "source": [
    "df[\"electric_range_wltp\"] = df['electric_range_wltp'].str.extract('^(\\d+\\.*\\d*)').astype(\"float\")\n",
    "df.electric_range_wltp.sample(5)\n",
    "### km"
   ]
  },
  {
   "cell_type": "markdown",
   "metadata": {},
   "source": [
    "<a id=\"47\"></a>\n",
    "<div class=\"alert alert-info\" role=\"alert\">\n",
    "<h1>Column name :<span style=\"color:red\"> power_consumption_wltp </span></h1>\n",
    "</div>\n",
    "\n",
    "<div class=\"alert alert-block\" style=\"background-color: darkblue;\">\n",
    "<div class=\"alert alert-block alert-warning\">\n",
    "<b>Operation : </b> Let's edit the expression <span style=\"color:red\"><b>\" 17.2 kWh/100 km \"</b></span> in the content of the make column. Let's get the <span style=\"color:red\"><b> the number</b>  </span> from this column , convert float its type .\n",
    "</div>"
   ]
  },
  {
   "cell_type": "markdown",
   "metadata": {},
   "source": [
    "<a href=\"#toc\" class=\"btn btn-warning btn-lg active\" role=\"button\" aria-pressed=\"true\" style=\"color:black;\">Content</a>"
   ]
  },
  {
   "cell_type": "code",
   "execution_count": 154,
   "metadata": {
    "ExecuteTime": {
     "end_time": "2024-02-25T18:55:52.210562Z",
     "start_time": "2024-02-25T18:55:52.206927Z"
    }
   },
   "outputs": [],
   "source": [
    "# list(df.power_consumption_wltp.value_counts().index)"
   ]
  },
  {
   "cell_type": "code",
   "execution_count": 155,
   "metadata": {
    "ExecuteTime": {
     "end_time": "2024-02-25T18:55:52.249466Z",
     "start_time": "2024-02-25T18:55:52.214891Z"
    },
    "run_control": {
     "marked": true
    }
   },
   "outputs": [
    {
     "data": {
      "text/plain": [
       "22036   NaN\n",
       "27361   NaN\n",
       "18888   NaN\n",
       "2364    NaN\n",
       "15173   NaN\n",
       "Name: power_consumption_wltp, dtype: float64"
      ]
     },
     "execution_count": 155,
     "metadata": {},
     "output_type": "execute_result"
    }
   ],
   "source": [
    "df[\"power_consumption_wltp\"] = df['power_consumption_wltp'].str.extract('^(\\d+\\.*\\d*)').astype(\"float\")\n",
    "df.power_consumption_wltp.sample(5)\n",
    "### kWh / 100 km"
   ]
  },
  {
   "cell_type": "code",
   "execution_count": 156,
   "metadata": {
    "ExecuteTime": {
     "end_time": "2024-02-25T18:55:52.305718Z",
     "start_time": "2024-02-25T18:55:52.252990Z"
    },
    "scrolled": false
   },
   "outputs": [
    {
     "data": {
      "text/plain": [
       "price                     1.000\n",
       "doors                     0.008\n",
       "mileage                  -0.305\n",
       "seats                    -0.006\n",
       "power                     0.672\n",
       "engine_size               0.313\n",
       "gears                     0.341\n",
       "co_emissions              0.183\n",
       "cylinders                 0.368\n",
       "fuel_consumption         -0.008\n",
       "empty_weight              0.537\n",
       "production_date           0.140\n",
       "power_consumption         0.123\n",
       "fuel_consumption_wltp     0.821\n",
       "co_emissions_wltp         0.450\n",
       "availability              0.141\n",
       "electric_range_wltp       0.569\n",
       "power_consumption_wltp   -0.198\n",
       "Name: price, dtype: float64"
      ]
     },
     "execution_count": 156,
     "metadata": {},
     "output_type": "execute_result"
    }
   ],
   "source": [
    "df.corr(numeric_only = True)[\"price\"]"
   ]
  },
  {
   "cell_type": "code",
   "execution_count": 157,
   "metadata": {
    "ExecuteTime": {
     "end_time": "2024-02-25T18:55:52.662584Z",
     "start_time": "2024-02-25T18:55:52.308723Z"
    }
   },
   "outputs": [
    {
     "name": "stdout",
     "output_type": "stream",
     "text": [
      "<class 'pandas.core.frame.DataFrame'>\n",
      "RangeIndex: 29480 entries, 0 to 29479\n",
      "Data columns (total 58 columns):\n",
      " #   Column                   Non-Null Count  Dtype  \n",
      "---  ------                   --------------  -----  \n",
      " 0   make_model               28630 non-null  object \n",
      " 1   short_description        28630 non-null  object \n",
      " 2   make                     28630 non-null  object \n",
      " 3   model                    28630 non-null  object \n",
      " 4   location                 28630 non-null  object \n",
      " 5   price                    28630 non-null  float64\n",
      " 6   body_type                28630 non-null  object \n",
      " 7   type                     28630 non-null  object \n",
      " 8   doors                    28271 non-null  float64\n",
      " 9   country_version          16889 non-null  object \n",
      " 10  offer_number             23100 non-null  object \n",
      " 11  warranty                 15784 non-null  object \n",
      " 12  mileage                  28629 non-null  float64\n",
      " 13  first_registration       28628 non-null  object \n",
      " 14  gearbox                  28382 non-null  object \n",
      " 15  fuel_type                26843 non-null  object \n",
      " 16  colour                   26906 non-null  object \n",
      " 17  paint                    14495 non-null  object \n",
      " 18  desc                     28047 non-null  object \n",
      " 19  seller                   28630 non-null  object \n",
      " 20  seats                    25505 non-null  float64\n",
      " 21  power                    28058 non-null  float64\n",
      " 22  engine_size              27227 non-null  float64\n",
      " 23  gears                    18954 non-null  float64\n",
      " 24  co_emissions             18594 non-null  float64\n",
      " 25  manufacturer_colour      29360 non-null  object \n",
      " 26  drivetrain               16893 non-null  object \n",
      " 27  cylinders                18852 non-null  float64\n",
      " 28  fuel_consumption         23385 non-null  float64\n",
      " 29  comfort_&_convenience    25433 non-null  object \n",
      " 30  entertainment_&_media    23644 non-null  object \n",
      " 31  safety_&_security        25415 non-null  object \n",
      " 32  extras                   23480 non-null  object \n",
      " 33  empty_weight             17758 non-null  float64\n",
      " 34  model_code               8367 non-null   object \n",
      " 35  general_inspection       12254 non-null  object \n",
      " 36  last_service             2003 non-null   object \n",
      " 37  full_service_history     12565 non-null  object \n",
      " 38  non_smoker_vehicle       11594 non-null  object \n",
      " 39  emission_class           17859 non-null  object \n",
      " 40  emissions_sticker        9414 non-null   object \n",
      " 41  upholstery_colour        14569 non-null  object \n",
      " 42  upholstery               18610 non-null  object \n",
      " 43  production_date          5908 non-null   float64\n",
      " 44  previous_owner           14015 non-null  object \n",
      " 45  other_fuel_types         2313 non-null   object \n",
      " 46  power_consumption        515 non-null    float64\n",
      " 47  energy_efficiency_class  7804 non-null   object \n",
      " 48  co_efficiency            7804 non-null   object \n",
      " 49  fuel_consumption_wltp    100 non-null    float64\n",
      " 50  co_emissions_wltp        116 non-null    float64\n",
      " 51  available_from           393 non-null    object \n",
      " 52  taxi_or_rental_car       422 non-null    object \n",
      " 53  availability             301 non-null    float64\n",
      " 54  last_timing_belt_change  572 non-null    object \n",
      " 55  electric_range_wltp      16 non-null     float64\n",
      " 56  power_consumption_wltp   16 non-null     float64\n",
      " 57  battery_ownership        7 non-null      object \n",
      "dtypes: float64(18), object(40)\n",
      "memory usage: 13.0+ MB\n"
     ]
    }
   ],
   "source": [
    "df.info()"
   ]
  },
  {
   "cell_type": "code",
   "execution_count": 158,
   "metadata": {
    "ExecuteTime": {
     "end_time": "2024-02-25T18:55:54.403113Z",
     "start_time": "2024-02-25T18:55:52.668148Z"
    }
   },
   "outputs": [
    {
     "name": "stdout",
     "output_type": "stream",
     "text": [
      "\u001b[1m\u001b[91mColumn:\u001b[0m \u001b[1m\u001b[94mmake_model\u001b[0m\n",
      "\u001b[1m\u001b[92mNumber of Unique Values:\u001b[93m 612\n",
      "\u001b[95mFirst 10 Unique Values:\u001b[0m ['Mercedes-Benz A 160' 'Mercedes-Benz EQE 350' 'Mercedes-Benz A 45 AMG'\n",
      " 'Mercedes-Benz A 35 AMG' 'Mercedes-Benz C 160' 'Mercedes-Benz CLA 180'\n",
      " 'Mercedes-Benz A 220' 'Mercedes-Benz A 200' 'Mercedes-Benz A 250'\n",
      " 'Mercedes-Benz A 180']\n",
      "... and 602 more unique values\n",
      "\n",
      "\u001b[1mThe number of NaN values:\u001b[0m 850\n",
      "\u001b[1mPercentage of NaN values:\u001b[0m 2.88%\n",
      "\n",
      "\u001b[1m\u001b[91mColumn:\u001b[0m \u001b[1m\u001b[94mshort_description\u001b[0m\n",
      "\u001b[1m\u001b[92mNumber of Unique Values:\u001b[93m 20948\n",
      "\u001b[95mFirst 10 Unique Values:\u001b[0m ['CDi' '350+' 'S 4Matic+ 8G-DCT' '4Matic+ 7G-DCT'\n",
      " '200CDI BE Line 4M 7G-DCT'\n",
      " 'Sp. Ed. C-Klasse Sportcoupe!TÜV N.!24 Mon. Gew.' '180D' '7G-DCT'\n",
      " '4MATIC' '200CDI Autotronic']\n",
      "... and 20938 more unique values\n",
      "\n",
      "\u001b[1mThe number of NaN values:\u001b[0m 850\n",
      "\u001b[1mPercentage of NaN values:\u001b[0m 2.88%\n",
      "\n",
      "\u001b[1m\u001b[91mColumn:\u001b[0m \u001b[1m\u001b[94mmake\u001b[0m\n",
      "\u001b[1m\u001b[92mNumber of Unique Values:\u001b[93m 14\n",
      "\u001b[95mFirst 10 Unique Values:\u001b[0m ['Mercedes-Benz' nan 'Opel' 'Renault' 'Peugeot' 'Fiat' 'SEAT' 'Skoda'\n",
      " 'Dacia' 'Toyota']\n",
      "... and 4 more unique values\n",
      "\n",
      "\u001b[1mThe number of NaN values:\u001b[0m 850\n",
      "\u001b[1mPercentage of NaN values:\u001b[0m 2.88%\n",
      "\n",
      "\u001b[1m\u001b[91mColumn:\u001b[0m \u001b[1m\u001b[94mmodel\u001b[0m\n",
      "\u001b[1m\u001b[92mNumber of Unique Values:\u001b[93m 595\n",
      "\u001b[95mFirst 10 Unique Values:\u001b[0m ['A 160' 'EQE 350' 'A 45 AMG' 'A 35 AMG' 'C 160' 'CLA 180' 'A 220' 'A 200'\n",
      " 'A 250' 'A 180']\n",
      "... and 585 more unique values\n",
      "\n",
      "\u001b[1mThe number of NaN values:\u001b[0m 850\n",
      "\u001b[1mPercentage of NaN values:\u001b[0m 2.88%\n",
      "\n",
      "\u001b[1m\u001b[91mColumn:\u001b[0m \u001b[1m\u001b[94mlocation\u001b[0m\n",
      "\u001b[1m\u001b[92mNumber of Unique Values:\u001b[93m 8182\n",
      "\u001b[95mFirst 10 Unique Values:\u001b[0m ['P.I. EL PALMAR C/FORJA 6,  11500 PUERTO DE SANTA MARIA, ES'\n",
      " 'APARTADO DE CORREOS 1032,  26140 LOGROÑO, ES'\n",
      " 'PORT. TARRACO, MOLL DE LLEVANT, Nº 5, LOC. 6-8,  43004 TARRAGONA, ES'\n",
      " 'Carrer de Provença, 31 Local,  8029 BARCELONA, ES'\n",
      " 'CARRIL ARAGONES 4,  30007 CASILLAS, ES'\n",
      " 'Beethovenstr. 89,  42655 Solingen, DE'\n",
      " 'CR PATERNA-LA CAÑADA, KM. 2,  46980 PATERNA, ES'\n",
      " 'CTRA DE MADRID KM 315,7,  50012 ZARAGOZA, ES'\n",
      " 'Voogdijstraat 25,  3500 Hasselt, BE'\n",
      " 'AUTOVÍA AS-2, Nº 1529,  33392 GIJON, ES']\n",
      "... and 8172 more unique values\n",
      "\n",
      "\u001b[1mThe number of NaN values:\u001b[0m 850\n",
      "\u001b[1mPercentage of NaN values:\u001b[0m 2.88%\n",
      "\n",
      "\u001b[1m\u001b[91mColumn:\u001b[0m \u001b[1m\u001b[94mprice\u001b[0m\n",
      "\u001b[1m\u001b[92mNumber of Unique Values:\u001b[93m 5022\n",
      "\u001b[95mFirst 10 Unique Values:\u001b[0m [16950. 80900. 69900. 46990. 16800.  4690. 22550. 26900. 44999. 23900.]\n",
      "... and 5012 more unique values\n",
      "\n",
      "\u001b[1mThe number of NaN values:\u001b[0m 850\n",
      "\u001b[1mPercentage of NaN values:\u001b[0m 2.88%\n",
      "\n",
      "\u001b[1m\u001b[91mColumn:\u001b[0m \u001b[1m\u001b[94mbody_type\u001b[0m\n",
      "\u001b[1m\u001b[92mNumber of Unique Values:\u001b[93m 7\n",
      "\u001b[1mUnique Values:\u001b[0m ['Compact' 'Convertible' 'Coupe' 'Off-Road/Pick-up' 'Station wagon' nan\n",
      " 'Sedan']\n",
      "\n",
      "\u001b[1mThe number of NaN values:\u001b[0m 850\n",
      "\u001b[1mPercentage of NaN values:\u001b[0m 2.88%\n",
      "\n",
      "\u001b[1m\u001b[91mColumn:\u001b[0m \u001b[1m\u001b[94mtype\u001b[0m\n",
      "\u001b[1m\u001b[92mNumber of Unique Values:\u001b[93m 5\n",
      "\u001b[1mUnique Values:\u001b[0m ['Used' 'Pre-registered' 'Demonstration' \"Employee's car\" nan]\n",
      "\n",
      "\u001b[1mThe number of NaN values:\u001b[0m 850\n",
      "\u001b[1mPercentage of NaN values:\u001b[0m 2.88%\n",
      "\n",
      "\u001b[1m\u001b[91mColumn:\u001b[0m \u001b[1m\u001b[94mdoors\u001b[0m\n",
      "\u001b[1m\u001b[92mNumber of Unique Values:\u001b[93m 7\n",
      "\u001b[1mUnique Values:\u001b[0m [ 5.  4.  3.  2. nan  1.  6.]\n",
      "\n",
      "\u001b[1mThe number of NaN values:\u001b[0m 1209\n",
      "\u001b[1mPercentage of NaN values:\u001b[0m 4.10%\n",
      "\n",
      "\u001b[1m\u001b[91mColumn:\u001b[0m \u001b[1m\u001b[94mcountry_version\u001b[0m\n",
      "\u001b[1m\u001b[92mNumber of Unique Values:\u001b[93m 26\n",
      "\u001b[95mFirst 10 Unique Values:\u001b[0m ['Spain' 'Germany' nan 'Belgium' 'Austria' 'France' 'Netherlands' 'Italy'\n",
      " 'European Union' 'Luxembourg']\n",
      "... and 16 more unique values\n",
      "\n",
      "\u001b[1mThe number of NaN values:\u001b[0m 12591\n",
      "\u001b[1mPercentage of NaN values:\u001b[0m 42.71%\n",
      "\n",
      "\u001b[1m\u001b[91mColumn:\u001b[0m \u001b[1m\u001b[94moffer_number\u001b[0m\n",
      "\u001b[1m\u001b[92mNumber of Unique Values:\u001b[93m 20940\n",
      "\u001b[95mFirst 10 Unique Values:\u001b[0m ['7468157' '7054863' '7410454' '7464503' '7127931' nan '7201260' '7329555'\n",
      " 'j107114' '7454322']\n",
      "... and 20930 more unique values\n",
      "\n",
      "\u001b[1mThe number of NaN values:\u001b[0m 6380\n",
      "\u001b[1mPercentage of NaN values:\u001b[0m 21.64%\n",
      "\n",
      "\u001b[1m\u001b[91mColumn:\u001b[0m \u001b[1m\u001b[94mwarranty\u001b[0m\n",
      "\u001b[1m\u001b[92mNumber of Unique Values:\u001b[93m 66\n",
      "\u001b[95mFirst 10 Unique Values:\u001b[0m ['24 months' '12 months' nan 'Yes' '48 months' '6 months' '3 months'\n",
      " '8 months' '36 months' '122 months']\n",
      "... and 56 more unique values\n",
      "\n",
      "\u001b[1mThe number of NaN values:\u001b[0m 13696\n",
      "\u001b[1mPercentage of NaN values:\u001b[0m 46.46%\n",
      "\n",
      "\u001b[1m\u001b[91mColumn:\u001b[0m \u001b[1m\u001b[94mmileage\u001b[0m\n",
      "\u001b[1m\u001b[92mNumber of Unique Values:\u001b[93m 14184\n",
      "\u001b[95mFirst 10 Unique Values:\u001b[0m [120200.   5000.  18900.  18995. 197000. 165000.  83339.  48900.  56876.\n",
      "  21854.]\n",
      "... and 14174 more unique values\n",
      "\n",
      "\u001b[1mThe number of NaN values:\u001b[0m 851\n",
      "\u001b[1mPercentage of NaN values:\u001b[0m 2.89%\n",
      "\n",
      "\u001b[1m\u001b[91mColumn:\u001b[0m \u001b[1m\u001b[94mfirst_registration\u001b[0m\n",
      "\u001b[1m\u001b[92mNumber of Unique Values:\u001b[93m 84\n",
      "\u001b[95mFirst 10 Unique Values:\u001b[0m ['2016' '2022' '2020' '2015' '2005' '2018' '2019' '2013' '2010' '2021']\n",
      "... and 74 more unique values\n",
      "\n",
      "\u001b[1mThe number of NaN values:\u001b[0m 852\n",
      "\u001b[1mPercentage of NaN values:\u001b[0m 2.89%\n",
      "\n",
      "\u001b[1m\u001b[91mColumn:\u001b[0m \u001b[1m\u001b[94mgearbox\u001b[0m\n",
      "\u001b[1m\u001b[92mNumber of Unique Values:\u001b[93m 4\n",
      "\u001b[1mUnique Values:\u001b[0m ['Manual' 'Automatic' nan 'Semi-Automatic']\n",
      "\n",
      "\u001b[1mThe number of NaN values:\u001b[0m 1098\n",
      "\u001b[1mPercentage of NaN values:\u001b[0m 3.72%\n",
      "\n",
      "\u001b[1m\u001b[91mColumn:\u001b[0m \u001b[1m\u001b[94mfuel_type\u001b[0m\n",
      "\u001b[1m\u001b[92mNumber of Unique Values:\u001b[93m 6\n",
      "\u001b[1mUnique Values:\u001b[0m ['Diesel' 'Electric' 'Benzine' nan 'Lpg' 'Others']\n",
      "\n",
      "\u001b[1mThe number of NaN values:\u001b[0m 2637\n",
      "\u001b[1mPercentage of NaN values:\u001b[0m 8.95%\n",
      "\n",
      "\u001b[1m\u001b[91mColumn:\u001b[0m \u001b[1m\u001b[94mcolour\u001b[0m\n",
      "\u001b[1m\u001b[92mNumber of Unique Values:\u001b[93m 15\n",
      "\u001b[95mFirst 10 Unique Values:\u001b[0m ['Black' nan 'Grey' 'Yellow' 'White' 'Silver' 'Red' 'Blue' 'Green' 'Beige']\n",
      "... and 5 more unique values\n",
      "\n",
      "\u001b[1mThe number of NaN values:\u001b[0m 2574\n",
      "\u001b[1mPercentage of NaN values:\u001b[0m 8.73%\n",
      "\n",
      "\u001b[1m\u001b[91mColumn:\u001b[0m \u001b[1m\u001b[94mpaint\u001b[0m\n",
      "\u001b[1m\u001b[92mNumber of Unique Values:\u001b[93m 3\n",
      "\u001b[1mUnique Values:\u001b[0m ['Metallic' nan 'Uni/basic']\n",
      "\n",
      "\u001b[1mThe number of NaN values:\u001b[0m 14985\n",
      "\u001b[1mPercentage of NaN values:\u001b[0m 50.83%\n",
      "\n",
      "\u001b[1m\u001b[91mColumn:\u001b[0m \u001b[1m\u001b[94mdesc\u001b[0m\n",
      "\u001b[1m\u001b[92mNumber of Unique Values:\u001b[93m 23235\n",
      "\u001b[95mFirst 10 Unique Values:\u001b[0m ['Precio Al Contado: 16950 Euros  Vehículo Con Historial De Mantenimiento Y Un Solo Propietario. Garantía De 12 Meses Ampliable A 24, Consúltenos. Extras: Pantalla Frontal, Navegador, Cámara De Marcha Atrás, Espejos  Eléctricos, Volante Multifunción, Llantas, Sensor Lluvia Y Luces, Cierre Centralizado Con Mando, Ordenador A Bordo, Aire Acondicionado, Isofix, Bluetooth, Bluetooth Audio, Usb Y Más Extras... Kilometraje Garantizado Y Garantía De No Haber Sufrido Accidente. Precio Final De Venta, Incluyendo Iva Y No Vinculado A Financiación Ni Entrega De Otro Vehículo. Transferencia Incluida En El Precio . Iva Deducible. Posibilidad De Recogida De Su Antiguo Vehículo Como Parte De Pago. Financiamos El 100% De Nuestros Vehículos. (Consulte Condiciones) Realizamos La Gestión De Búsqueda De Tu Vehículo Sin Ningún Tipo De Compromiso . English Spoken!!!<Hr>Las Especificaciones Del Vehículo Que Se Indican Referentes A : Modelo, Equipamiento Y Extras, Pueden Contener Errores, Y Por Tanto, No Tienen Carácter Vinculante Contractual. Consulte En Exposición. Condiciones De La Financiación Consulte Nuestras Opciones De Financiación Sin Compromiso.See More'\n",
      " 'Precio Al Contado: 88900 Euros Auto Oja S.A. - Concesionario Oficial Mercedes-Benz Y Smart En La Riojaopintura Negro Obsidiana Y Tapicería Símil De Cuero Ártico /Microfibra Microcutoamg Lineopaquete De Integración De Smartphoneopaquete De Asistencia A La Conducción Plusopaquete Deportivo Exterior Amgopaquete Premiumopaquete De Aparcamiento Con Cámara 360ºopaquete De Retrovisoresoasistente Activo De Cambio De Carrilosistema De Sonido Surround Burmesteroasiste Activo De Distancia Distronicosistema De Carga Por Corriente Alterna Y Continuaovisualizador Central Oled Con Pantalla De 12.8\"Oasistente De Frenado Activo Con Función De Cruceosistema Multimedia Y Navegación Mbux Con Funciones Ampliadas Premiumokeyless-Gooasiento Del Conductor Y Acompañante De Ajuste Eléctrico Con Funciones De Memoria Odetector Activo De Cambio De Carriloprotección Del Vehículo Urban Guard Plusoclimatización Automática Thermotronic Otecho Corredizo Panorámico Eléctrico Oasientos Deportivos Calefactados Para Conductor Y Acompañanteodynamic Selectofaros Inteligentes Digital Lightovolante Deportivo Multifunción Forrado En Cueroocristales Calorífugos Tintados Oscurosollantas De Aleación De 48.3Cm (19\") Y 5 Radiosse Lo Enviamos Gratis A Cualquier Punto De La Penínsulallámenos Y Realice Su Prueba De Conducciónvehículo Revisado Por Nuestros Técnicos Especialistas24 Meses De Garantía Oficial \"Mercedes-Benz Certified\" Válida En Servicios Oficiales Mercedes-Benz De Europa.El Precio Incluye Impuestos, Tasas De Tráfico Y Garantía.Precio Financiando*: 80.900€Precio Sin Financiar: 88.900€*Consulta Las Condiciones En El Concesionarioautooja.Es Condiciones De La Financiación Consultar Condiciones De Financiación En Este Anuncio O Contactando Con El Anunciantesee More'\n",
      " 'Gris Manufaktur Mountaingrau Magno Linea/Estilo Amg Paquete Premium De Navegación Amg Drivers Package Paquete De Aparcamiento Con Cámara De Marcha Atrás Paquete Espejo Paquete Nocturno Paquete De Confort De Asientos Asientos Performance Amg Paquete De Luz Y Visión Sistema De Sonido Envolvente Burmester Led Multihaz Asistente Adaptativo De Luces Altas Plus Funciones Ampliadas Mbux Iluminación Ambiental Mercedes Me Connect Amg Track Pace Digital Cockpit Asientos Con Calefacción Asistente A La Estación Activa Con Parktronic Asistente De Distancia Activo Distronic Selección Dinámica Asistente Activo De Mantenimiento De Carril Aviso De Abandono De Carril Protección De Peatones Asistente De Señales De Tráfico Aviso De Fatiga Control De Presión De Neumáticos Keyless-Go Climatizador Automático Thermotronic Volante Amg Pinzas Pintadas De Rojo Cinturones De Seguridad Rojos Vidrio Tintado Oscuro Térmicamente Aislante Sensor De Lluvia Financiamos El Coche A Tu Medida. Consúltanos!!See More'\n",
      " 'Precio Al Contado: 48990 Euros  Bonificacion Por Financiar : -2.000 € ( 46.990 € ) Oferta Sujeta A Financiación. Consultar Condiciones Sin Financiar: 48.990<Hr> Garantia En Oficial Mercedes-Benz. Año: 02.10.2019 -- Libro Revisiones Mercedes. Vehículo Ocasión Mercedes -- Igual Nuevo Precio Nuevo : 75.794€<Hr> // Descuento - Minusvalia - Familia Numerosa // // Iva Deducible Para Empresas // // Precio Final- Todos Los Impuestos Incluidos //<Hr>Equipamiento De Esta Unidad : 914 Amarillo Sol 651 Piel / Micro Fibra Negra L6K Volante Amg Performance  Rvl Llantas Amg De 19\" Multirradio Color Negro Mate 365 Navegación Por Disco Duro P47 Paquete De Aparcamiento + Cámara 360º 501 Cámara 360º 235 Ayuda Activa Para Aparcar Con Parktronic P49 Paquete De Retrovisores. 458 Visualizador Cuadro Instrumentos Completamente Digital 859 Visualizador De Medios Con Pantalla De 10,25 Pulgadas  889 Keyless-Go 873 Asientos Calefactados Para Conductor Y Acompañante 810 Sistema De Sonido Surround Burmester® 877 Iluminación De Ambiente 64 Colores U25 Listones De Puestas Iluminados 239 Asistente Activo De Distancia Distronic 246 Control Carril 234 Control Ángulo Muerto U19 Realidad Aumentada Para Navegación Mbux 275 Asiento Conductor  Eléctrico + 3 Memorias 950 Amg Line 287 Respaldos Del Asiento Traseros Abatibles (40/20/40) 549 Sistema Multimedia Mbux P60 Paquete Night Amg Pbf Paquete De Navegación Y Preequipo De Conectividad 628 Luces De Carretera Automáticas Plus 642 Multibeam Led 293 Airbags Laterales En Parte Trasera 310 Porta Vasos 446 Touchpad 429 Cambio Deportivo De 7 Velocidades Amg Speedshift Dct 431 Levas De Cambio En Volante 475 Control Presión Neumáticos 513 Indicador Señales Tráfico 518 Conectores Media Interface 840 Cristales Tintados 875 Lavaparabrisas Calefactado 897 Sistema Inalámbrico De Carga Para Dispositivos Móviles U10 Detector Asiento Infantil U22 Apoyo Lumbar Con 4 Vías De Ajuste En Los Asientos Delanteros U55 Multi Link Axe U62 Paquete De Alumbrado Y Visibilidad<Hr> Para Más Información Consulte Nuestra Página Web : Http://Autoexclusivebcn.Com Si No Encuentra Lo Que Busca Llámenos, Disponemos De Amplia Gama En Vehículos De Stock De Fábrica Mercedes Con Entrega En 15 Días. Profesionales En Alemania Desde 1980 Y Desde 2001 Con Empresa Ubicada En España. Extras  Equipamiento Destacado Seleccionado Por El Usuario  - Paquete Night Carcasas De Los Espejos Retrovisores Exteriores Pintadas De Negro, Cristales Calorífugos Tintados Oscuros A Partir Del Montante B, Faldón Trasero Con Elemento De Adorno En Negro De Alto Brillo, Listón En La Línea De Cintura Y En La Línea De Las Ventanillas De Color Negro De Alto Brillo, Llantas...See More'\n",
      " 'Precio Al Contado: 17400 Euros Vehículo En Perfecto Estado.Todo El Mantenimiento Efectuado, (Con Facturas).Revisado Para La Entrega, (Aceites, Filtros, Frenos U Demás Fluidos).En Perfecto Estado De Chapa, Pintura E Interior.Se Entrega Transferido (+150€) Y 12 Meses De Garantía.Aceptamos Su Coche Como Parte De Pago, (Siempre Con La Mejor Tasación Del Mercado)Con Una Financiación Adaptada Al Comprador¡¡¡¡¡¡¡¡ Extras  Equipamiento Destacado Seleccionado Por El Usuario  - Paquete Exclusivo Amg Condiciones De La Financiación Financiado Con Las Mejores Condiciones Del Mercado.See More'\n",
      " 'Sonderausstattung:Panorama-Schiebedach Elektrisch (Vollverglaste Dachfläche)Parktronic-System Pts (Vorn Und Hinten)Serienausstattung:Airbag Fahrer-/Beifahrerseiteanti-Blockier-System (Abs)Armauflage Vorn Mit Fachaudiosystem Audio 20 (Radio/Cd-Player)Außenspiegel Elektr. Verstell- Und Heizbar, Beideaußentemperaturanzeigebi-Xenon-Scheinwerferdrehzahlmesserelektron. Stabilitäts-Programm (Esp)Fensterheber Elektrisch Vorngetriebe 6-Gangkarosserie: 3-Türigklimaautomatik (Thermatic)Kopf-Airbag-System (Windowbag)Lenksäule (Lenkrad) Mechan. Verstellbarmetallic-Lackierungmotor 1,8 Ltr. - 90 Kw 16V Katnebelscheinwerferreiserechnerrücksitze Klappbar 1/3-2/3 Mit Durchladeeinrichtung Und Lastenverankerungseitenairbag (Sidebag) Vornservolenkungsitzbezug / Polsterung: Ledernachbildung Articosportsitze Vornstaubfiltertempomatwärmeschutzverglasung / Vorn: Bandfilter / Hinten: Esgsonstiges:1,8L - 122Ps Kompressor-Benzinmotor!Sehr Guter Zustand - Technisch Und Optisch!Inspektion 08/2022 (Neu)!Scheckheftgepflegt!Steuerkettensatz, Batterie Usw. Neu!Tüv 7/2024 (Neu)!Unfallfrei!Nichtraucherfahrzeug!Euro4 - Grüne Plakette!Usw. !24 Monate Gewährleistung!!Besichtigung, Finanzierung, Garantie, Inzahlungnahme Und Probefahrt Möglich!Weiteres: Irrtümer Und Änderungen Vorbehalten!See More'\n",
      " 'Precio Al Contado: 24900 Euros Liquidación Septiembre 2022Automóviles Palma, Desde 1982 Generando Confianza. ¡¡ 40 Años Vendiendo Coches!!• 83339 Kilómetros Certificados Y Mantenimientos Al Día• Mecánica Revisada  Y Carrocería Repasada Por Oficiales De Primera• Entrega Inmediata• 12 Meses De Garantía Incluido• Si No Te Gusta, Tienes 14 Días O 1000 Kms Para Devolverlo• Envío Gratuito A Comunidad Valenciana, Barcelona, Madrid Y Murcia, Resto Consultar.• Equipamiento: Llantas Aleación 17\", Elevalunas Eléctricos, Freno Mano Eléctrico, Botón Apertura Maletero, Control Voz, Arranque Sin Llave, Climatizador, Ordenador Abordo, Cámara Trasera Y Sensores Parking, Apoyabrazos Delantero, Isofix.El Precio Contado: Incluye Todos Los Impuestos Y No Está Condicionado A Nada. El Precio Financiado: ¡Financiación Sin Entrada Y Sin Cuota Final!  Disfruta De Este Vehículo Por Tan Solo 344€/ Mes (Cuota Calculada A 120 Meses).• Financiación  Con Entidades De Confianza• Adaptamos La Cuota A Tus Necesidades• Aceptamos Tu Vehículo Como Forma De Pago • Prueba De Conducción Sin Compromiso• Cambio De Nombre No Incluido Los Datos Están Sujetos A Cambios Debido A Las Condiciones De Las Financieras Y Por Ello No Son Vinculantes. Condiciones De La Financiación Puede Ver Las Condiciones De La Financiación En Las Observaciones.See More'\n",
      " 'Precio Al Contado: 28900 Euros Oportunidad Especial. Contacte Con Nuestros Profesionales Y Solicite Una Prueba Del Vehículo. Matriculado En Octubre De 2019. Mercedes-Benz Color Gris Montaña, Tapicería Cuero Negra, Mbux, Navegador, Ayuda Activa De Parking Con Sensores Delanteros Y Traseros, Cámara De Visión Trasera, Alarma, Control De Carril, Paquete Retrovisores, Volante Multifunción En Cuero, Carplay, Sensor De Luces Y De Lluvia, Llantas 17\" Y Cambio Automático 7G-Dct. El Coche Se Entrega Revisado Bajo Los Estándares De Calidad Establecidos Por La Marca Y Con 24 Meses De Garantía Certified Con Cobertura Europea. Transferencia Incluida En El Precio. Si Lo Necesita Puede Financiar Con Nosotros (Confirme Campaña De Descuento). Vehículo En Stock, Entrega Inmediata. Somos Concesionario Oficial Mercedes-Benz Y Smart Desde 1927 Agredasa.Es Extras  Equipamiento Destacado Seleccionado Por El Usuario  - Paquete De Aparcamiento Con Cámara De Marcha Atrás- Paquete De Conectividad Para Smartphone- Pintura Metalizada Condiciones De La Financiación Si Lo Necesita Puede Financiar Con Nosotros. Vehículo En Stock, Entrega Inmediata. Somos Concesionario Oficial Mercedes-Benz Y Smart Desde 1927 Agredasa.Essee More'\n",
      " '440 - Snelheidsregelaar Tempomat Met Variabele Speed Limiter 950 - Amg Sport 429 - 7G-Dct Geautomatiseerde 7-Gang Versnellingsbak 772 - Amg Styling Kit 873 - Verwarmde Zetels Vooraan 235 - Parkeerpilot Met Parktronic 351 - Mercedes-Benz Noodoproepsysteem 475 - Bandendruk-Controlesysteem 355 - Mbux Navigatie 875 - Verwarmd Ruitensproeiersysteem 513 - Snelheidslimietassistent (Herkenning Snelheidsborden) U01 - Indicator Voor Veiligheidsgordels Achteraan 916 - Brandstoftank 66 L 362 - Communicatiemodule (Lte/4G) Voor Mercedes Me Connect 243 - Active Lane Keeping Assist 365 - Navigatiesysteem Met Harde Schijf 486 - Amg Sportophanging 367 - Live Traffic Information 642 - Led-Intelligent Light System U10 - Automatische Uitschakeling Van De Voorpassagiersairbag 249 - Anti-Verblindingsspiegels (Binnen En Buiten Links) 51U - Dakhemel In Stof Zwart U17 - Weglating Van Gekleurde Gordels 927 - Eu6-Norm 08U - Vehicle Setup 258 - Collision Prevention Assist Plus 776 - Verbrede Zijvleugels Voor Amg-Velgen U26 - Zwarte Vloermatten In Velours Met Sport-Opschrift En Rode Rand B51 - Tirefit: Vervalt Met Z31 B59 - Dynamic Select-Schakelaar 260 - Wegval Type-Kenteken Op Het Kofferdeksel 01U - Navigatieservice 543 - Zonnekleppen Met Verlichte Make-Upspiegels, Zijdelings Wegklapbaar U35 - Stopcontact 12 Volt In De Koffer 942 - Protection And Care Set 270 - Antenne Gps Dk3 - Premium Pack 310 - Bekerhouder 431 - Direct Select Shift Paddles Pbf - Connnectiviteitspakket 286 - Pompadourtassen Aan Rugleuning Voorzetels 682 - Brandblusapparaat 287 - Neerklapbare Achterbank 446 - Touchpad U59 - Zetelcomfortpakket 8U8 - I-Size-Kindersteunsysteem 294 - Knieairbag Bestuurderszijde U60 - Bescherming Voetgangers U62 - Visibiliteitspakket 213 - Amg Sport-Parameterbesturing Met Snelheidsafhankelijke Stuurbekrachtiging P49 - Spiegelpakket B18 - Brillenvak 580 - Manuele Klimaatregeling 345 - Ruitenwissers Met Regensensor 500 - Inklapbare Buitenspiegels (Elektrisch) L5C - Multifunctioneel Sportstuurwiel In Leder Nappa 628 - Adaptive Grootlichtassistent Plus (Voor Ils)See More'\n",
      " 'Precio Al Contado: 25900 Euros  Extras  Equipamiento Destacado Seleccionado Por El Usuario  - 7G-Dct Cambio Automático De Doble Embrague [429]-  Cámara De Marcha Atrás Con Líneas De Guía En La Pantalla [218]-  Control De La Presión De Inflado De Los Neumáticos [475]-  Dynamic Select [B59]-  Estética Amg - Spoiler Delantero-  Faldón Lateral [772]-  Instalacion De Aire Acondicionado [580]-  Keyless-Start [893]-  Llantas De Aleación Amg De 18\" Y 5 Radios Dobles-  225/40 [612]-  Paquete Amg Style [P66]-  Paquete De Alumbrado Y Visibilidad [U62]-  Paquete De Integración Smartphone [14U]-  Paquete Retrovisores [P49]-  Remote Online [11U]-  Sistema De Llamada De Emergencia Ecall [351]-  Sistema De Llamada De Emergencia Ecall [351]-  Smartphone Integration Apple Carplay [16U]-  Tapizado De Símil De Cuero Artico Y Tela [450]-  Tapizado De Símil De Cuero Artico Y Tela [450]-  Tren De Rodaje De Confort De Altura Rebajada [677]-  Volante Multifunción [442] Condiciones De La Financiación -See More']\n",
      "... and 23225 more unique values\n",
      "\n",
      "\u001b[1mThe number of NaN values:\u001b[0m 1433\n",
      "\u001b[1mPercentage of NaN values:\u001b[0m 4.86%\n",
      "\n",
      "\u001b[1m\u001b[91mColumn:\u001b[0m \u001b[1m\u001b[94mseller\u001b[0m\n",
      "\u001b[1m\u001b[92mNumber of Unique Values:\u001b[93m 3\n",
      "\u001b[1mUnique Values:\u001b[0m ['Dealer' 'Private seller' nan]\n",
      "\n",
      "\u001b[1mThe number of NaN values:\u001b[0m 850\n",
      "\u001b[1mPercentage of NaN values:\u001b[0m 2.88%\n",
      "\n",
      "\u001b[1m\u001b[91mColumn:\u001b[0m \u001b[1m\u001b[94mseats\u001b[0m\n",
      "\u001b[1m\u001b[92mNumber of Unique Values:\u001b[93m 12\n",
      "\u001b[95mFirst 10 Unique Values:\u001b[0m [nan  5.  4.  2.  9.  7.  6.  8.  3. 17.]\n",
      "... and 2 more unique values\n",
      "\n",
      "\u001b[1mThe number of NaN values:\u001b[0m 3975\n",
      "\u001b[1mPercentage of NaN values:\u001b[0m 13.48%\n",
      "\n",
      "\u001b[1m\u001b[91mColumn:\u001b[0m \u001b[1m\u001b[94mpower\u001b[0m\n",
      "\u001b[1m\u001b[92mNumber of Unique Values:\u001b[93m 352\n",
      "\u001b[95mFirst 10 Unique Values:\u001b[0m [ nan 292. 421. 306. 136. 122. 190. 139.  90. 381.]\n",
      "... and 342 more unique values\n",
      "\n",
      "\u001b[1mThe number of NaN values:\u001b[0m 1422\n",
      "\u001b[1mPercentage of NaN values:\u001b[0m 4.82%\n",
      "\n",
      "\u001b[1m\u001b[91mColumn:\u001b[0m \u001b[1m\u001b[94mengine_size\u001b[0m\n",
      "\u001b[1m\u001b[92mNumber of Unique Values:\u001b[93m 70\n",
      "\u001b[95mFirst 10 Unique Values:\u001b[0m [nan 0.  1.9 2.1 1.7 1.4 1.3 2.  1.5 1.6]\n",
      "... and 60 more unique values\n",
      "\n",
      "\u001b[1mThe number of NaN values:\u001b[0m 2253\n",
      "\u001b[1mPercentage of NaN values:\u001b[0m 7.64%\n",
      "\n",
      "\u001b[1m\u001b[91mColumn:\u001b[0m \u001b[1m\u001b[94mgears\u001b[0m\n",
      "\u001b[1m\u001b[92mNumber of Unique Values:\u001b[93m 12\n",
      "\u001b[95mFirst 10 Unique Values:\u001b[0m [nan  9.  8.  7.  6.  1.  5.  4.  3.  0.]\n",
      "... and 2 more unique values\n",
      "\n",
      "\u001b[1mThe number of NaN values:\u001b[0m 10526\n",
      "\u001b[1mPercentage of NaN values:\u001b[0m 35.71%\n",
      "\n",
      "\u001b[1m\u001b[91mColumn:\u001b[0m \u001b[1m\u001b[94mco_emissions\u001b[0m\n",
      "\u001b[1m\u001b[92mNumber of Unique Values:\u001b[93m 327\n",
      "\u001b[95mFirst 10 Unique Values:\u001b[0m [ nan   0. 196. 168.  98. 120. 138.  22. 140. 179.]\n",
      "... and 317 more unique values\n",
      "\n",
      "\u001b[1mThe number of NaN values:\u001b[0m 10886\n",
      "\u001b[1mPercentage of NaN values:\u001b[0m 36.93%\n",
      "\n",
      "\u001b[1m\u001b[91mColumn:\u001b[0m \u001b[1m\u001b[94mmanufacturer_colour\u001b[0m\n",
      "\u001b[1m\u001b[92mNumber of Unique Values:\u001b[93m 4152\n",
      "\u001b[95mFirst 10 Unique Values:\u001b[0m ['nan' 'Negro Obsidiana' 'Mountaingrau Magno' 'Amarillo Sol'\n",
      " 'Diamant Schwarz  Metallic' 'Gris Montaña' 'Blanco Cirro (Sólido)'\n",
      " 'Grijs Metallic' 'Negro' 'Premium \"Kosmosschwarz\"- Met']\n",
      "... and 4142 more unique values\n",
      "\n",
      "\u001b[1mThe number of NaN values:\u001b[0m 120\n",
      "\u001b[1mPercentage of NaN values:\u001b[0m 0.41%\n",
      "\n",
      "\u001b[1m\u001b[91mColumn:\u001b[0m \u001b[1m\u001b[94mdrivetrain\u001b[0m\n",
      "\u001b[1m\u001b[92mNumber of Unique Values:\u001b[93m 4\n",
      "\u001b[1mUnique Values:\u001b[0m [nan '4WD' 'Rear' 'Front']\n",
      "\n"
     ]
    },
    {
     "name": "stdout",
     "output_type": "stream",
     "text": [
      "\u001b[1mThe number of NaN values:\u001b[0m 12587\n",
      "\u001b[1mPercentage of NaN values:\u001b[0m 42.70%\n",
      "\n",
      "\u001b[1m\u001b[91mColumn:\u001b[0m \u001b[1m\u001b[94mcylinders\u001b[0m\n",
      "\u001b[1m\u001b[92mNumber of Unique Values:\u001b[93m 13\n",
      "\u001b[95mFirst 10 Unique Values:\u001b[0m [nan  4.  8.  6.  0. 12.  5.  1.  3.  7.]\n",
      "... and 3 more unique values\n",
      "\n",
      "\u001b[1mThe number of NaN values:\u001b[0m 10628\n",
      "\u001b[1mPercentage of NaN values:\u001b[0m 36.05%\n",
      "\n",
      "\u001b[1m\u001b[91mColumn:\u001b[0m \u001b[1m\u001b[94mfuel_consumption\u001b[0m\n",
      "\u001b[1m\u001b[92mNumber of Unique Values:\u001b[93m 305\n",
      "\u001b[95mFirst 10 Unique Values:\u001b[0m [ nan  8.4  7.3 53.7  8.2  6.1  0.  59.2 41.6  6.9]\n",
      "... and 295 more unique values\n",
      "\n",
      "\u001b[1mThe number of NaN values:\u001b[0m 6095\n",
      "\u001b[1mPercentage of NaN values:\u001b[0m 20.68%\n",
      "\n",
      "\u001b[1m\u001b[91mColumn:\u001b[0m \u001b[1m\u001b[94mcomfort_&_convenience\u001b[0m\n",
      "\u001b[1m\u001b[92mNumber of Unique Values:\u001b[93m 62\n",
      "\u001b[95mFirst 10 Unique Values:\u001b[0m [nan 'functional&mechanical,bodywork,climate'\n",
      " 'bodywork,seats,functional&mechanical,steering&trim,climate'\n",
      " 'functional&mechanical,seats,steering&trim'\n",
      " 'functional&mechanical,bodywork,climate,steering&trim'\n",
      " 'functional&mechanical,bodywork,seats,climate'\n",
      " 'functional&mechanical,bodywork,seats'\n",
      " 'functional&mechanical,steering&trim'\n",
      " 'security,bodywork,seats,functional&mechanical,steering&trim,climate'\n",
      " 'climate']\n",
      "... and 52 more unique values\n",
      "\n",
      "\u001b[1mThe number of NaN values:\u001b[0m 4047\n",
      "\u001b[1mPercentage of NaN values:\u001b[0m 13.73%\n",
      "\n",
      "\u001b[1m\u001b[91mColumn:\u001b[0m \u001b[1m\u001b[94mentertainment_&_media\u001b[0m\n",
      "\u001b[1m\u001b[92mNumber of Unique Values:\u001b[93m 13\n",
      "\u001b[95mFirst 10 Unique Values:\u001b[0m [nan 'con_nect' 'sound_system,con_nect'\n",
      " 'sound_system,con_nect,sphone_integ' 'con_nect,sphone_integ'\n",
      " 'con_nect,sphone_integ,entertainment' 'sphone_integ'\n",
      " 'sound_system,con_nect,entertainment'\n",
      " 'sound_system,con_nect,sphone_integ,entertainment' 'sound_system']\n",
      "... and 3 more unique values\n",
      "\n",
      "\u001b[1mThe number of NaN values:\u001b[0m 5836\n",
      "\u001b[1mPercentage of NaN values:\u001b[0m 19.80%\n",
      "\n",
      "\u001b[1m\u001b[91mColumn:\u001b[0m \u001b[1m\u001b[94msafety_&_security\u001b[0m\n",
      "\u001b[1m\u001b[92mNumber of Unique Values:\u001b[93m 35\n",
      "\u001b[95mFirst 10 Unique Values:\u001b[0m [nan 'conv_feature,safety_feature'\n",
      " 'lighting_feature,conv_feature,safety_feature'\n",
      " 'lighting_feature,conv_feature,safety_feature,driver_feature'\n",
      " 'safety_feature' 'lighting_feature,safety_feature'\n",
      " 'conv_feature,safety_feature,lighting_feature,other_feature,driver_feature'\n",
      " 'lighting_feature,conv_feature,safety_feature,other_feature'\n",
      " 'driver_feature,safety_feature,conv_feature,other_feature'\n",
      " 'conv_feature,safety_feature,driver_feature,other_feature']\n",
      "... and 25 more unique values\n",
      "\n",
      "\u001b[1mThe number of NaN values:\u001b[0m 4065\n",
      "\u001b[1mPercentage of NaN values:\u001b[0m 13.79%\n",
      "\n",
      "\u001b[1m\u001b[91mColumn:\u001b[0m \u001b[1m\u001b[94mextras\u001b[0m\n",
      "\u001b[1m\u001b[92mNumber of Unique Values:\u001b[93m 52\n",
      "\u001b[95mFirst 10 Unique Values:\u001b[0m [nan 'sport_trim' 'wheel,accessory,other,tires,sport_trim' 'wheel'\n",
      " 'wheel,accessory' 'wheel,sport_trim' 'wheel,sport_trim,accessory'\n",
      " 'wheel,tires,accessory' 'wheel,tires,sport_trim,accessory' 'other']\n",
      "... and 42 more unique values\n",
      "\n",
      "\u001b[1mThe number of NaN values:\u001b[0m 6000\n",
      "\u001b[1mPercentage of NaN values:\u001b[0m 20.35%\n",
      "\n",
      "\u001b[1m\u001b[91mColumn:\u001b[0m \u001b[1m\u001b[94mempty_weight\u001b[0m\n",
      "\u001b[1m\u001b[92mNumber of Unique Values:\u001b[93m 1219\n",
      "\u001b[95mFirst 10 Unique Values:\u001b[0m [  nan 1545. 1465. 1450. 1365. 1295. 1555. 1445. 1330. 1425.]\n",
      "... and 1209 more unique values\n",
      "\n",
      "\u001b[1mThe number of NaN values:\u001b[0m 11722\n",
      "\u001b[1mPercentage of NaN values:\u001b[0m 39.76%\n",
      "\n",
      "\u001b[1m\u001b[91mColumn:\u001b[0m \u001b[1m\u001b[94mmodel_code\u001b[0m\n",
      "\u001b[1m\u001b[92mNumber of Unique Values:\u001b[93m 2187\n",
      "\u001b[95mFirst 10 Unique Values:\u001b[0m [nan '0999/338' '2222/AJB' '2222/AJP' '2222/AIU' '2222/AJI' '1313/IKH'\n",
      " '1313/DVE' '1313/AGC' '1414/AAO']\n",
      "... and 2177 more unique values\n",
      "\n",
      "\u001b[1mThe number of NaN values:\u001b[0m 21113\n",
      "\u001b[1mPercentage of NaN values:\u001b[0m 71.62%\n",
      "\n",
      "\u001b[1m\u001b[91mColumn:\u001b[0m \u001b[1m\u001b[94mgeneral_inspection\u001b[0m\n",
      "\u001b[1m\u001b[92mNumber of Unique Values:\u001b[93m 92\n",
      "\u001b[95mFirst 10 Unique Values:\u001b[0m [nan 'New' '01/2024' '09/2022' '03/2024' '04/2023' '08/2024' '07/2024'\n",
      " '09/2024' '06/2024']\n",
      "... and 82 more unique values\n",
      "\n",
      "\u001b[1mThe number of NaN values:\u001b[0m 17226\n",
      "\u001b[1mPercentage of NaN values:\u001b[0m 58.43%\n",
      "\n",
      "\u001b[1m\u001b[91mColumn:\u001b[0m \u001b[1m\u001b[94mlast_service\u001b[0m\n",
      "\u001b[1m\u001b[92mNumber of Unique Values:\u001b[93m 62\n",
      "\u001b[95mFirst 10 Unique Values:\u001b[0m [nan '07/2022' '08/2021' '01/2022' '05/2021' '09/2022' '11/2021' '10/2020'\n",
      " '03/2021' '03/2022']\n",
      "... and 52 more unique values\n",
      "\n",
      "\u001b[1mThe number of NaN values:\u001b[0m 27477\n",
      "\u001b[1mPercentage of NaN values:\u001b[0m 93.21%\n",
      "\n",
      "\u001b[1m\u001b[91mColumn:\u001b[0m \u001b[1m\u001b[94mfull_service_history\u001b[0m\n",
      "\u001b[1m\u001b[92mNumber of Unique Values:\u001b[93m 2\n",
      "\u001b[1mUnique Values:\u001b[0m [nan 'Yes']\n",
      "\n",
      "\u001b[1mThe number of NaN values:\u001b[0m 16915\n",
      "\u001b[1mPercentage of NaN values:\u001b[0m 57.38%\n",
      "\n",
      "\u001b[1m\u001b[91mColumn:\u001b[0m \u001b[1m\u001b[94mnon_smoker_vehicle\u001b[0m\n",
      "\u001b[1m\u001b[92mNumber of Unique Values:\u001b[93m 2\n",
      "\u001b[1mUnique Values:\u001b[0m [nan 'Yes']\n",
      "\n",
      "\u001b[1mThe number of NaN values:\u001b[0m 17886\n",
      "\u001b[1mPercentage of NaN values:\u001b[0m 60.67%\n",
      "\n",
      "\u001b[1m\u001b[91mColumn:\u001b[0m \u001b[1m\u001b[94memission_class\u001b[0m\n",
      "\u001b[1m\u001b[92mNumber of Unique Values:\u001b[93m 10\n",
      "\u001b[1mUnique Values:\u001b[0m [nan 'Euro 4' 'Euro 6' 'Euro 6d-TEMP' 'Euro 5' 'Euro 6d' 'Euro 6c'\n",
      " 'Euro 3' 'Euro 2' 'Euro 1']\n",
      "\n",
      "\u001b[1mThe number of NaN values:\u001b[0m 11621\n",
      "\u001b[1mPercentage of NaN values:\u001b[0m 39.42%\n",
      "\n",
      "\u001b[1m\u001b[91mColumn:\u001b[0m \u001b[1m\u001b[94memissions_sticker\u001b[0m\n",
      "\u001b[1m\u001b[92mNumber of Unique Values:\u001b[93m 5\n",
      "\u001b[1mUnique Values:\u001b[0m [nan 'green_sticker' 'no_sticker' 'yellow_sticker' 'red_sticker']\n",
      "\n",
      "\u001b[1mThe number of NaN values:\u001b[0m 20066\n",
      "\u001b[1mPercentage of NaN values:\u001b[0m 68.07%\n",
      "\n",
      "\u001b[1m\u001b[91mColumn:\u001b[0m \u001b[1m\u001b[94mupholstery_colour\u001b[0m\n",
      "\u001b[1m\u001b[92mNumber of Unique Values:\u001b[93m 4\n",
      "\u001b[1mUnique Values:\u001b[0m [nan 'prim_up' 'special_up' 'text_up']\n",
      "\n",
      "\u001b[1mThe number of NaN values:\u001b[0m 14911\n",
      "\u001b[1mPercentage of NaN values:\u001b[0m 50.58%\n",
      "\n",
      "\u001b[1m\u001b[91mColumn:\u001b[0m \u001b[1m\u001b[94mupholstery\u001b[0m\n",
      "\u001b[1m\u001b[92mNumber of Unique Values:\u001b[93m 4\n",
      "\u001b[1mUnique Values:\u001b[0m [nan 'fabric_hols' 'leather_hols' 'special_hols']\n",
      "\n",
      "\u001b[1mThe number of NaN values:\u001b[0m 10870\n",
      "\u001b[1mPercentage of NaN values:\u001b[0m 36.87%\n",
      "\n",
      "\u001b[1m\u001b[91mColumn:\u001b[0m \u001b[1m\u001b[94mproduction_date\u001b[0m\n",
      "\u001b[1m\u001b[92mNumber of Unique Values:\u001b[93m 50\n",
      "\u001b[95mFirst 10 Unique Values:\u001b[0m [  nan 2019. 2021. 2018. 2014. 2011. 2020. 2022. 2017. 2016.]\n",
      "... and 40 more unique values\n",
      "\n",
      "\u001b[1mThe number of NaN values:\u001b[0m 23572\n",
      "\u001b[1mPercentage of NaN values:\u001b[0m 79.96%\n",
      "\n",
      "\u001b[1m\u001b[91mColumn:\u001b[0m \u001b[1m\u001b[94mprevious_owner\u001b[0m\n",
      "\u001b[1m\u001b[92mNumber of Unique Values:\u001b[93m 11734\n",
      "\u001b[95mFirst 10 Unique Values:\u001b[0m [nan '157,500 km-04/2010-2' '71,752 km-07/2005-2' '52,497 km-10/2019-2'\n",
      " '141,980 km-08/2011-1' '58,813 km-02/2020-2' '67,626 km-06/2020-1'\n",
      " '8,000 km-05/2021-1' '61,170 km-05/2006-2' '22,000 km-09/2020-1']\n",
      "... and 11724 more unique values\n",
      "\n",
      "\u001b[1mThe number of NaN values:\u001b[0m 15465\n",
      "\u001b[1mPercentage of NaN values:\u001b[0m 52.46%\n",
      "\n",
      "\u001b[1m\u001b[91mColumn:\u001b[0m \u001b[1m\u001b[94mother_fuel_types\u001b[0m\n",
      "\u001b[1m\u001b[92mNumber of Unique Values:\u001b[93m 4\n",
      "\u001b[1mUnique Values:\u001b[0m [nan 'Electricity' 'Hydogen' 'Super E10 95']\n",
      "\n",
      "\u001b[1mThe number of NaN values:\u001b[0m 27167\n",
      "\u001b[1mPercentage of NaN values:\u001b[0m 92.15%\n",
      "\n",
      "\u001b[1m\u001b[91mColumn:\u001b[0m \u001b[1m\u001b[94mpower_consumption\u001b[0m\n",
      "\u001b[1m\u001b[92mNumber of Unique Values:\u001b[93m 105\n",
      "\u001b[95mFirst 10 Unique Values:\u001b[0m [ nan  0.  19.1 12.  15.7 18.1 23.2 15.9 23.8 14.6]\n",
      "... and 95 more unique values\n",
      "\n",
      "\u001b[1mThe number of NaN values:\u001b[0m 28965\n",
      "\u001b[1mPercentage of NaN values:\u001b[0m 98.25%\n",
      "\n",
      "\u001b[1m\u001b[91mColumn:\u001b[0m \u001b[1m\u001b[94menergy_efficiency_class\u001b[0m\n",
      "\u001b[1m\u001b[92mNumber of Unique Values:\u001b[93m 4\n",
      "\u001b[1mUnique Values:\u001b[0m [nan 'mid_efficiency' 'lower_efficiency' 'top_efficiency']\n",
      "\n",
      "\u001b[1mThe number of NaN values:\u001b[0m 21676\n",
      "\u001b[1mPercentage of NaN values:\u001b[0m 73.53%\n",
      "\n",
      "\u001b[1m\u001b[91mColumn:\u001b[0m \u001b[1m\u001b[94mco_efficiency\u001b[0m\n",
      "\u001b[1m\u001b[92mNumber of Unique Values:\u001b[93m 2\n",
      "\u001b[1mUnique Values:\u001b[0m [nan\n",
      " 'Calculated on basis of measured CO₂-emissions taking into account the mass of the vehicle.']\n",
      "\n",
      "\u001b[1mThe number of NaN values:\u001b[0m 21676\n",
      "\u001b[1mPercentage of NaN values:\u001b[0m 73.53%\n",
      "\n",
      "\u001b[1m\u001b[91mColumn:\u001b[0m \u001b[1m\u001b[94mfuel_consumption_wltp\u001b[0m\n",
      "\u001b[1m\u001b[92mNumber of Unique Values:\u001b[93m 48\n",
      "\u001b[95mFirst 10 Unique Values:\u001b[0m [ nan  3.9  9.3 12.6 10.4 12.9  7.6  9.1  6.8  9.6]\n",
      "... and 38 more unique values\n",
      "\n",
      "\u001b[1mThe number of NaN values:\u001b[0m 29380\n",
      "\u001b[1mPercentage of NaN values:\u001b[0m 99.66%\n",
      "\n",
      "\u001b[1m\u001b[91mColumn:\u001b[0m \u001b[1m\u001b[94mco_emissions_wltp\u001b[0m\n",
      "\u001b[1m\u001b[92mNumber of Unique Values:\u001b[93m 69\n",
      "\u001b[95mFirst 10 Unique Values:\u001b[0m [ nan 123. 212. 284. 236. 293. 172. 207. 180. 218.]\n",
      "... and 59 more unique values\n",
      "\n",
      "\u001b[1mThe number of NaN values:\u001b[0m 29364\n",
      "\u001b[1mPercentage of NaN values:\u001b[0m 99.61%\n",
      "\n",
      "\u001b[1m\u001b[91mColumn:\u001b[0m \u001b[1m\u001b[94mavailable_from\u001b[0m\n",
      "\u001b[1m\u001b[92mNumber of Unique Values:\u001b[93m 126\n",
      "\u001b[95mFirst 10 Unique Values:\u001b[0m [nan '01/12/2022' '03/03/2023' '31/03/2023' '13/12/2022' '18/12/2022'\n",
      " '30/05/2023' '20/11/2022' '16/12/2022' '20/03/2023']\n",
      "... and 116 more unique values\n",
      "\n",
      "\u001b[1mThe number of NaN values:\u001b[0m 29087\n",
      "\u001b[1mPercentage of NaN values:\u001b[0m 98.67%\n",
      "\n",
      "\u001b[1m\u001b[91mColumn:\u001b[0m \u001b[1m\u001b[94mtaxi_or_rental_car\u001b[0m\n",
      "\u001b[1m\u001b[92mNumber of Unique Values:\u001b[93m 2\n",
      "\u001b[1mUnique Values:\u001b[0m [nan 'Yes']\n",
      "\n"
     ]
    },
    {
     "name": "stdout",
     "output_type": "stream",
     "text": [
      "\u001b[1mThe number of NaN values:\u001b[0m 29058\n",
      "\u001b[1mPercentage of NaN values:\u001b[0m 98.57%\n",
      "\n",
      "\u001b[1m\u001b[91mColumn:\u001b[0m \u001b[1m\u001b[94mavailability\u001b[0m\n",
      "\u001b[1m\u001b[92mNumber of Unique Values:\u001b[93m 19\n",
      "\u001b[95mFirst 10 Unique Values:\u001b[0m [ nan   1. 120.   7.   3. 180.  42.  60.  90.   5.]\n",
      "... and 9 more unique values\n",
      "\n",
      "\u001b[1mThe number of NaN values:\u001b[0m 29179\n",
      "\u001b[1mPercentage of NaN values:\u001b[0m 98.98%\n",
      "\n",
      "\u001b[1m\u001b[91mColumn:\u001b[0m \u001b[1m\u001b[94mlast_timing_belt_change\u001b[0m\n",
      "\u001b[1m\u001b[92mNumber of Unique Values:\u001b[93m 87\n",
      "\u001b[95mFirst 10 Unique Values:\u001b[0m [nan '09/2022' '11/2017' '10/2019' '08/2022' '04/2022' '05/2019' '09/2020'\n",
      " '07/2019' '09/2019']\n",
      "... and 77 more unique values\n",
      "\n",
      "\u001b[1mThe number of NaN values:\u001b[0m 28908\n",
      "\u001b[1mPercentage of NaN values:\u001b[0m 98.06%\n",
      "\n",
      "\u001b[1m\u001b[91mColumn:\u001b[0m \u001b[1m\u001b[94melectric_range_wltp\u001b[0m\n",
      "\u001b[1m\u001b[92mNumber of Unique Values:\u001b[93m 14\n",
      "\u001b[95mFirst 10 Unique Values:\u001b[0m [ nan 402.  50. 426. 614. 573. 691. 351.  48. 450.]\n",
      "... and 4 more unique values\n",
      "\n",
      "\u001b[1mThe number of NaN values:\u001b[0m 29464\n",
      "\u001b[1mPercentage of NaN values:\u001b[0m 99.95%\n",
      "\n",
      "\u001b[1m\u001b[91mColumn:\u001b[0m \u001b[1m\u001b[94mpower_consumption_wltp\u001b[0m\n",
      "\u001b[1m\u001b[92mNumber of Unique Values:\u001b[93m 14\n",
      "\u001b[95mFirst 10 Unique Values:\u001b[0m [  nan  18.9  19.2  21.9  17.2  18.4  19.3  15.9 148.   16.9]\n",
      "... and 4 more unique values\n",
      "\n",
      "\u001b[1mThe number of NaN values:\u001b[0m 29464\n",
      "\u001b[1mPercentage of NaN values:\u001b[0m 99.95%\n",
      "\n",
      "\u001b[1m\u001b[91mColumn:\u001b[0m \u001b[1m\u001b[94mbattery_ownership\u001b[0m\n",
      "\u001b[1m\u001b[92mNumber of Unique Values:\u001b[93m 2\n",
      "\u001b[1mUnique Values:\u001b[0m [nan 'Included']\n",
      "\n",
      "\u001b[1mThe number of NaN values:\u001b[0m 29473\n",
      "\u001b[1mPercentage of NaN values:\u001b[0m 99.98%\n",
      "\n"
     ]
    }
   ],
   "source": [
    "column_analysis(df)"
   ]
  },
  {
   "cell_type": "markdown",
   "metadata": {},
   "source": [
    "<a id=\"49\"></a> \n",
    "# <p style=\"background-color:#00008B; font-family:newtimeroman;color:#FFF9ED; font-size:150%; text-align:center; border-radius: 15px 50px;\">  Dropping columns with 80% or more NaN values. </p>\n",
    "<a href=\"#toc\" class=\"btn btn-warning btn-lg active\" role=\"button\" aria-pressed=\"true\" style=\"color:black;\">Content</a>"
   ]
  },
  {
   "cell_type": "code",
   "execution_count": 159,
   "metadata": {
    "ExecuteTime": {
     "end_time": "2024-02-25T18:55:54.885760Z",
     "start_time": "2024-02-25T18:55:54.406659Z"
    }
   },
   "outputs": [
    {
     "data": {
      "text/html": [
       "<div>\n",
       "<style scoped>\n",
       "    .dataframe tbody tr th:only-of-type {\n",
       "        vertical-align: middle;\n",
       "    }\n",
       "\n",
       "    .dataframe tbody tr th {\n",
       "        vertical-align: top;\n",
       "    }\n",
       "\n",
       "    .dataframe thead th {\n",
       "        text-align: right;\n",
       "    }\n",
       "</style>\n",
       "<table border=\"1\" class=\"dataframe\">\n",
       "  <thead>\n",
       "    <tr style=\"text-align: right;\">\n",
       "      <th></th>\n",
       "      <th>count</th>\n",
       "      <th>percentage</th>\n",
       "    </tr>\n",
       "  </thead>\n",
       "  <tbody>\n",
       "    <tr>\n",
       "      <th>make_model</th>\n",
       "      <td>850</td>\n",
       "      <td>2.880</td>\n",
       "    </tr>\n",
       "    <tr>\n",
       "      <th>short_description</th>\n",
       "      <td>850</td>\n",
       "      <td>2.880</td>\n",
       "    </tr>\n",
       "    <tr>\n",
       "      <th>make</th>\n",
       "      <td>850</td>\n",
       "      <td>2.880</td>\n",
       "    </tr>\n",
       "    <tr>\n",
       "      <th>model</th>\n",
       "      <td>850</td>\n",
       "      <td>2.880</td>\n",
       "    </tr>\n",
       "    <tr>\n",
       "      <th>location</th>\n",
       "      <td>850</td>\n",
       "      <td>2.880</td>\n",
       "    </tr>\n",
       "    <tr>\n",
       "      <th>price</th>\n",
       "      <td>850</td>\n",
       "      <td>2.880</td>\n",
       "    </tr>\n",
       "    <tr>\n",
       "      <th>body_type</th>\n",
       "      <td>850</td>\n",
       "      <td>2.880</td>\n",
       "    </tr>\n",
       "    <tr>\n",
       "      <th>type</th>\n",
       "      <td>850</td>\n",
       "      <td>2.880</td>\n",
       "    </tr>\n",
       "    <tr>\n",
       "      <th>doors</th>\n",
       "      <td>1209</td>\n",
       "      <td>4.100</td>\n",
       "    </tr>\n",
       "    <tr>\n",
       "      <th>country_version</th>\n",
       "      <td>12591</td>\n",
       "      <td>42.710</td>\n",
       "    </tr>\n",
       "    <tr>\n",
       "      <th>offer_number</th>\n",
       "      <td>6380</td>\n",
       "      <td>21.640</td>\n",
       "    </tr>\n",
       "    <tr>\n",
       "      <th>warranty</th>\n",
       "      <td>13696</td>\n",
       "      <td>46.460</td>\n",
       "    </tr>\n",
       "    <tr>\n",
       "      <th>mileage</th>\n",
       "      <td>851</td>\n",
       "      <td>2.890</td>\n",
       "    </tr>\n",
       "    <tr>\n",
       "      <th>first_registration</th>\n",
       "      <td>852</td>\n",
       "      <td>2.890</td>\n",
       "    </tr>\n",
       "    <tr>\n",
       "      <th>gearbox</th>\n",
       "      <td>1098</td>\n",
       "      <td>3.720</td>\n",
       "    </tr>\n",
       "    <tr>\n",
       "      <th>fuel_type</th>\n",
       "      <td>2637</td>\n",
       "      <td>8.950</td>\n",
       "    </tr>\n",
       "    <tr>\n",
       "      <th>colour</th>\n",
       "      <td>2574</td>\n",
       "      <td>8.730</td>\n",
       "    </tr>\n",
       "    <tr>\n",
       "      <th>paint</th>\n",
       "      <td>14985</td>\n",
       "      <td>50.830</td>\n",
       "    </tr>\n",
       "    <tr>\n",
       "      <th>desc</th>\n",
       "      <td>1433</td>\n",
       "      <td>4.860</td>\n",
       "    </tr>\n",
       "    <tr>\n",
       "      <th>seller</th>\n",
       "      <td>850</td>\n",
       "      <td>2.880</td>\n",
       "    </tr>\n",
       "    <tr>\n",
       "      <th>seats</th>\n",
       "      <td>3975</td>\n",
       "      <td>13.480</td>\n",
       "    </tr>\n",
       "    <tr>\n",
       "      <th>power</th>\n",
       "      <td>1422</td>\n",
       "      <td>4.820</td>\n",
       "    </tr>\n",
       "    <tr>\n",
       "      <th>engine_size</th>\n",
       "      <td>2253</td>\n",
       "      <td>7.640</td>\n",
       "    </tr>\n",
       "    <tr>\n",
       "      <th>gears</th>\n",
       "      <td>10526</td>\n",
       "      <td>35.710</td>\n",
       "    </tr>\n",
       "    <tr>\n",
       "      <th>co_emissions</th>\n",
       "      <td>10886</td>\n",
       "      <td>36.930</td>\n",
       "    </tr>\n",
       "    <tr>\n",
       "      <th>manufacturer_colour</th>\n",
       "      <td>120</td>\n",
       "      <td>0.410</td>\n",
       "    </tr>\n",
       "    <tr>\n",
       "      <th>drivetrain</th>\n",
       "      <td>12587</td>\n",
       "      <td>42.700</td>\n",
       "    </tr>\n",
       "    <tr>\n",
       "      <th>cylinders</th>\n",
       "      <td>10628</td>\n",
       "      <td>36.050</td>\n",
       "    </tr>\n",
       "    <tr>\n",
       "      <th>fuel_consumption</th>\n",
       "      <td>6095</td>\n",
       "      <td>20.680</td>\n",
       "    </tr>\n",
       "    <tr>\n",
       "      <th>comfort_&amp;_convenience</th>\n",
       "      <td>4047</td>\n",
       "      <td>13.730</td>\n",
       "    </tr>\n",
       "    <tr>\n",
       "      <th>entertainment_&amp;_media</th>\n",
       "      <td>5836</td>\n",
       "      <td>19.800</td>\n",
       "    </tr>\n",
       "    <tr>\n",
       "      <th>safety_&amp;_security</th>\n",
       "      <td>4065</td>\n",
       "      <td>13.790</td>\n",
       "    </tr>\n",
       "    <tr>\n",
       "      <th>extras</th>\n",
       "      <td>6000</td>\n",
       "      <td>20.350</td>\n",
       "    </tr>\n",
       "    <tr>\n",
       "      <th>empty_weight</th>\n",
       "      <td>11722</td>\n",
       "      <td>39.760</td>\n",
       "    </tr>\n",
       "    <tr>\n",
       "      <th>model_code</th>\n",
       "      <td>21113</td>\n",
       "      <td>71.620</td>\n",
       "    </tr>\n",
       "    <tr>\n",
       "      <th>general_inspection</th>\n",
       "      <td>17226</td>\n",
       "      <td>58.430</td>\n",
       "    </tr>\n",
       "    <tr>\n",
       "      <th>last_service</th>\n",
       "      <td>27477</td>\n",
       "      <td>93.210</td>\n",
       "    </tr>\n",
       "    <tr>\n",
       "      <th>full_service_history</th>\n",
       "      <td>16915</td>\n",
       "      <td>57.380</td>\n",
       "    </tr>\n",
       "    <tr>\n",
       "      <th>non_smoker_vehicle</th>\n",
       "      <td>17886</td>\n",
       "      <td>60.670</td>\n",
       "    </tr>\n",
       "    <tr>\n",
       "      <th>emission_class</th>\n",
       "      <td>11621</td>\n",
       "      <td>39.420</td>\n",
       "    </tr>\n",
       "    <tr>\n",
       "      <th>emissions_sticker</th>\n",
       "      <td>20066</td>\n",
       "      <td>68.070</td>\n",
       "    </tr>\n",
       "    <tr>\n",
       "      <th>upholstery_colour</th>\n",
       "      <td>14911</td>\n",
       "      <td>50.580</td>\n",
       "    </tr>\n",
       "    <tr>\n",
       "      <th>upholstery</th>\n",
       "      <td>10870</td>\n",
       "      <td>36.870</td>\n",
       "    </tr>\n",
       "    <tr>\n",
       "      <th>production_date</th>\n",
       "      <td>23572</td>\n",
       "      <td>79.960</td>\n",
       "    </tr>\n",
       "    <tr>\n",
       "      <th>previous_owner</th>\n",
       "      <td>15465</td>\n",
       "      <td>52.460</td>\n",
       "    </tr>\n",
       "    <tr>\n",
       "      <th>other_fuel_types</th>\n",
       "      <td>27167</td>\n",
       "      <td>92.150</td>\n",
       "    </tr>\n",
       "    <tr>\n",
       "      <th>power_consumption</th>\n",
       "      <td>28965</td>\n",
       "      <td>98.250</td>\n",
       "    </tr>\n",
       "    <tr>\n",
       "      <th>energy_efficiency_class</th>\n",
       "      <td>21676</td>\n",
       "      <td>73.530</td>\n",
       "    </tr>\n",
       "    <tr>\n",
       "      <th>co_efficiency</th>\n",
       "      <td>21676</td>\n",
       "      <td>73.530</td>\n",
       "    </tr>\n",
       "    <tr>\n",
       "      <th>fuel_consumption_wltp</th>\n",
       "      <td>29380</td>\n",
       "      <td>99.660</td>\n",
       "    </tr>\n",
       "    <tr>\n",
       "      <th>co_emissions_wltp</th>\n",
       "      <td>29364</td>\n",
       "      <td>99.610</td>\n",
       "    </tr>\n",
       "    <tr>\n",
       "      <th>available_from</th>\n",
       "      <td>29087</td>\n",
       "      <td>98.670</td>\n",
       "    </tr>\n",
       "    <tr>\n",
       "      <th>taxi_or_rental_car</th>\n",
       "      <td>29058</td>\n",
       "      <td>98.570</td>\n",
       "    </tr>\n",
       "    <tr>\n",
       "      <th>availability</th>\n",
       "      <td>29179</td>\n",
       "      <td>98.980</td>\n",
       "    </tr>\n",
       "    <tr>\n",
       "      <th>last_timing_belt_change</th>\n",
       "      <td>28908</td>\n",
       "      <td>98.060</td>\n",
       "    </tr>\n",
       "    <tr>\n",
       "      <th>electric_range_wltp</th>\n",
       "      <td>29464</td>\n",
       "      <td>99.950</td>\n",
       "    </tr>\n",
       "    <tr>\n",
       "      <th>power_consumption_wltp</th>\n",
       "      <td>29464</td>\n",
       "      <td>99.950</td>\n",
       "    </tr>\n",
       "    <tr>\n",
       "      <th>battery_ownership</th>\n",
       "      <td>29473</td>\n",
       "      <td>99.980</td>\n",
       "    </tr>\n",
       "  </tbody>\n",
       "</table>\n",
       "</div>"
      ],
      "text/plain": [
       "                         count  percentage\n",
       "make_model                 850       2.880\n",
       "short_description          850       2.880\n",
       "make                       850       2.880\n",
       "model                      850       2.880\n",
       "location                   850       2.880\n",
       "price                      850       2.880\n",
       "body_type                  850       2.880\n",
       "type                       850       2.880\n",
       "doors                     1209       4.100\n",
       "country_version          12591      42.710\n",
       "offer_number              6380      21.640\n",
       "warranty                 13696      46.460\n",
       "mileage                    851       2.890\n",
       "first_registration         852       2.890\n",
       "gearbox                   1098       3.720\n",
       "fuel_type                 2637       8.950\n",
       "colour                    2574       8.730\n",
       "paint                    14985      50.830\n",
       "desc                      1433       4.860\n",
       "seller                     850       2.880\n",
       "seats                     3975      13.480\n",
       "power                     1422       4.820\n",
       "engine_size               2253       7.640\n",
       "gears                    10526      35.710\n",
       "co_emissions             10886      36.930\n",
       "manufacturer_colour        120       0.410\n",
       "drivetrain               12587      42.700\n",
       "cylinders                10628      36.050\n",
       "fuel_consumption          6095      20.680\n",
       "comfort_&_convenience     4047      13.730\n",
       "entertainment_&_media     5836      19.800\n",
       "safety_&_security         4065      13.790\n",
       "extras                    6000      20.350\n",
       "empty_weight             11722      39.760\n",
       "model_code               21113      71.620\n",
       "general_inspection       17226      58.430\n",
       "last_service             27477      93.210\n",
       "full_service_history     16915      57.380\n",
       "non_smoker_vehicle       17886      60.670\n",
       "emission_class           11621      39.420\n",
       "emissions_sticker        20066      68.070\n",
       "upholstery_colour        14911      50.580\n",
       "upholstery               10870      36.870\n",
       "production_date          23572      79.960\n",
       "previous_owner           15465      52.460\n",
       "other_fuel_types         27167      92.150\n",
       "power_consumption        28965      98.250\n",
       "energy_efficiency_class  21676      73.530\n",
       "co_efficiency            21676      73.530\n",
       "fuel_consumption_wltp    29380      99.660\n",
       "co_emissions_wltp        29364      99.610\n",
       "available_from           29087      98.670\n",
       "taxi_or_rental_car       29058      98.570\n",
       "availability             29179      98.980\n",
       "last_timing_belt_change  28908      98.060\n",
       "electric_range_wltp      29464      99.950\n",
       "power_consumption_wltp   29464      99.950\n",
       "battery_ownership        29473      99.980"
      ]
     },
     "execution_count": 159,
     "metadata": {},
     "output_type": "execute_result"
    }
   ],
   "source": [
    "missing_values(df)"
   ]
  },
  {
   "cell_type": "markdown",
   "metadata": {},
   "source": [
    "<a id=\"50\"></a>\n",
    "\n",
    "<div class=\"alert alert-info\" role=\"alert\">\n",
    "<h1><span style=\"color:red\"> Drop </span></h1>\n",
    "</div>\n",
    "\n",
    "<div class=\"alert alert-block\" style=\"background-color: darkblue;\">\n",
    "<div class=\"alert alert-block alert-warning\">\n",
    "<b>Operation:</b> Let's drop the columns that contain 80% or more NaN values: <span style=\"color:red\"><b>\" battery_ownership \", \" power_consumption_wltp \", \" electric_range_wltp \", \" fuel_consumption_wltp \", \" co_emissions_wltp \", \" availability \", \" available_from \", \" taxi_or_rental_car \", \" power_consumption \", \" last_timing_belt_change \", \" last_service \", \" other_fuel_types \", \" production_date \"</b></span>\n",
    "</div>"
   ]
  },
  {
   "cell_type": "markdown",
   "metadata": {},
   "source": [
    "\n",
    "\n",
    "<a href=\"#toc\" class=\"btn btn-warning btn-lg active\" role=\"button\" aria-pressed=\"true\" style=\"color:black;\">Content</a>"
   ]
  },
  {
   "cell_type": "code",
   "execution_count": 160,
   "metadata": {
    "ExecuteTime": {
     "end_time": "2024-02-25T18:55:55.011584Z",
     "start_time": "2024-02-25T18:55:54.888295Z"
    }
   },
   "outputs": [],
   "source": [
    "df.drop([\"battery_ownership\", \"power_consumption_wltp\", \"electric_range_wltp\", \"fuel_consumption_wltp\", \"co_emissions_wltp\", \"availability\", \"available_from\", \"taxi_or_rental_car\", \"power_consumption\", \"last_timing_belt_change\", \"last_service\", \"other_fuel_types\", \"production_date\"], axis=1, inplace = True)\n"
   ]
  },
  {
   "cell_type": "code",
   "execution_count": 161,
   "metadata": {
    "ExecuteTime": {
     "end_time": "2024-02-25T18:55:55.022438Z",
     "start_time": "2024-02-25T18:55:55.015645Z"
    }
   },
   "outputs": [
    {
     "data": {
      "text/plain": [
       "(29480, 45)"
      ]
     },
     "execution_count": 161,
     "metadata": {},
     "output_type": "execute_result"
    }
   ],
   "source": [
    "df.shape"
   ]
  },
  {
   "cell_type": "markdown",
   "metadata": {},
   "source": [
    "<a id=\"51\"></a>\n",
    "# <p style=\"background-color:#00008B; font-family:newtimeroman;color:#FFF9ED; font-size:150%; text-align:center; border-radius: 15px 50px;\">  Let's save the final state of the DataFrame as a CSV file. </p>\n",
    "<a href=\"#toc\" class=\"btn btn-warning btn-lg active\" role=\"button\" aria-pressed=\"true\" style=\"color:black;\">Content</a>"
   ]
  },
  {
   "cell_type": "code",
   "execution_count": 162,
   "metadata": {
    "ExecuteTime": {
     "end_time": "2024-02-25T18:55:59.785874Z",
     "start_time": "2024-02-25T18:55:55.027448Z"
    }
   },
   "outputs": [],
   "source": [
    "df.to_csv(\"capstone_part_1_final.csv\", index = False)\n"
   ]
  },
  {
   "cell_type": "markdown",
   "metadata": {},
   "source": [
    "<ul class=\"nav flex-column\">\n",
    "  <h3 class=\"list-group-item list-group-item-action active\" data-toggle=\"list\" role=\"tab\" aria-controls=\"home\" style=\"background-color:darkgreen; color:white\"><b>AutoScout Exploratory Data Analysis (EDA) Project</b></h3>\n",
    "  <li class=\"nav-item\">\n",
    "    <a class=\"nav-link active\" style=\"background-color:; color:Blue\" href=\"https://github.com/TKasanova/AutoScout_Capstone_Project/blob/main/AutoScout_Capstone_Part_1_Final_Project.ipynb\" role=\"tab\"><b>Part - 1 - Data Cleaning</b></a>\n",
    "  </li>\n",
    "  <li class=\"nav-item\">\n",
    "    <a class=\"nav-link\" style=\"background-color:; color:black\" href=\"https://github.com/TKasanova/AutoScout_Capstone_Project/blob/main/AutoScout_Capstone_Part_2_Final_Project.ipynb\"><b>Part - 2 - Handling With Missing Values</b></a>\n",
    "  </li>\n",
    "  <li class=\"nav-item\">\n",
    "    <a class=\"nav-link\" style=\"background-color:; color:red\" href=\"https://github.com/TKasanova/AutoScout_Capstone_Project/blob/main/AutoScout_Capstone_Part_3_Final_Project.ipynb\"><b>Part - 3 - Handling With Outliers</b></a>\n",
    "  </li>\n",
    "    <li class=\"nav-item\">\n",
    "    <a class=\"nav-link\" style=\"background-color:; color:blue\" href=\"https://github.com/TKasanova/EDA_Car_projects\"><b>Analysis of the Dataset</b></a>\n",
    "  </li>  \n",
    "  <li class=\"nav-item\">\n",
    "    <a class=\"nav-link\" style=\"background-color:; color:green\" href=\"https://www.linkedin.com/in/tahirakasanova/\"><b>Linkedin Account</b></a>\n",
    "  </li>\n",
    "</ul>\n"
   ]
  },
  {
   "cell_type": "code",
   "execution_count": null,
   "metadata": {},
   "outputs": [],
   "source": []
  }
 ],
 "metadata": {
  "colab": {
   "name": "DAwPy-Capstone_Project_(AutoScout)_Student.ipynb",
   "provenance": []
  },
  "hide_input": false,
  "kernelspec": {
   "display_name": "Python 3 (ipykernel)",
   "language": "python",
   "name": "python3"
  },
  "language_info": {
   "codemirror_mode": {
    "name": "ipython",
    "version": 3
   },
   "file_extension": ".py",
   "mimetype": "text/x-python",
   "name": "python",
   "nbconvert_exporter": "python",
   "pygments_lexer": "ipython3",
   "version": "3.11.7"
  },
  "toc": {
   "base_numbering": 1,
   "nav_menu": {},
   "number_sections": false,
   "sideBar": true,
   "skip_h1_title": false,
   "title_cell": "Table of Contents",
   "title_sidebar": "Contents",
   "toc_cell": false,
   "toc_position": {
    "height": "calc(100% - 180px)",
    "left": "10px",
    "top": "150px",
    "width": "349.598px"
   },
   "toc_section_display": true,
   "toc_window_display": true
  }
 },
 "nbformat": 4,
 "nbformat_minor": 1
}
